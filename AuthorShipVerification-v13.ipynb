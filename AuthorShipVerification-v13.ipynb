{
 "cells": [
  {
   "cell_type": "code",
   "execution_count": 1,
   "metadata": {},
   "outputs": [],
   "source": [
    "import numpy as np\n",
    "import pandas as pd\n",
    "import tensorflow as tf\n",
    "import json\n",
    "from myGenerator import DataGenerator"
   ]
  },
  {
   "cell_type": "markdown",
   "metadata": {},
   "source": [
    "### Carga de datos"
   ]
  },
  {
   "cell_type": "code",
   "execution_count": 2,
   "metadata": {},
   "outputs": [],
   "source": [
    "train = pd.read_pickle(\"pan22-authorship-verification-training-dataset/particionesXid/PanTrain.plk\")\n",
    "val = pd.read_pickle(\"pan22-authorship-verification-training-dataset/particionesXid/PanVal.plk\")"
   ]
  },
  {
   "cell_type": "code",
   "execution_count": 3,
   "metadata": {},
   "outputs": [],
   "source": [
    "def spectraLoader(inputPath: str) -> pd.DataFrame:\n",
    "    df = pd.DataFrame()\n",
    "    with open(inputPath, encoding='utf-8') as f:\n",
    "        for line in f:\n",
    "            jsonline = json.loads(line)\n",
    "            lineDf = pd.DataFrame({'id':jsonline['id'], 'spectra':[np.array(jsonline['spectra'])]})\n",
    "            df = pd.concat([df, lineDf])\n",
    "    df = df.reset_index(drop=True)\n",
    "\n",
    "    return df"
   ]
  },
  {
   "cell_type": "code",
   "execution_count": 4,
   "metadata": {},
   "outputs": [],
   "source": [
    "full_spectra = spectraLoader(\"pan22-authorship-verification-training-dataset/particionesXid/FullSpectra.jsonl\")"
   ]
  },
  {
   "cell_type": "code",
   "execution_count": 5,
   "metadata": {},
   "outputs": [],
   "source": [
    "def loadLabels(inputPath:str, labelDict:dict) -> dict:\n",
    "    with open(inputPath, encoding='utf-8') as f:\n",
    "        for line in f:\n",
    "            jsonline = json.loads(line)\n",
    "            labelDict[jsonline['id']] = 1 if jsonline['value'] else 0\n",
    "        \n",
    "    return labelDict"
   ]
  },
  {
   "cell_type": "code",
   "execution_count": 6,
   "metadata": {},
   "outputs": [],
   "source": [
    "labels = dict()\n",
    "labels = loadLabels('pan22-authorship-verification-training-dataset/particiones/train_truth.jsonl',labels)\n",
    "labels = loadLabels('pan22-authorship-verification-training-dataset/particiones/val_truth.jsonl',labels)"
   ]
  },
  {
   "cell_type": "code",
   "execution_count": 7,
   "metadata": {},
   "outputs": [
    {
     "name": "stdout",
     "output_type": "stream",
     "text": [
      "Instances: 16486.0\n",
      "Labels:  16486\n"
     ]
    }
   ],
   "source": [
    "print(\"Instances: {}\".format((train.shape[0] + val.shape[0])/2))\n",
    "print(\"Labels: \",len(labels))"
   ]
  },
  {
   "cell_type": "code",
   "execution_count": 8,
   "metadata": {},
   "outputs": [],
   "source": [
    "partition = {'train': train.id.unique().tolist(), 'validation': val.id.unique().tolist()}"
   ]
  },
  {
   "cell_type": "code",
   "execution_count": 9,
   "metadata": {},
   "outputs": [
    {
     "name": "stdout",
     "output_type": "stream",
     "text": [
      "Train:  15732\n",
      "Validation:  754\n",
      "Total:  16486\n"
     ]
    }
   ],
   "source": [
    "print(\"Train: \", len(partition['train']))\n",
    "print(\"Validation: \", len(partition['validation']))\n",
    "print(\"Total: \", len(partition['train'])+len(partition['validation']))"
   ]
  },
  {
   "cell_type": "markdown",
   "metadata": {},
   "source": [
    "### Definición de la arquitectura del modelo"
   ]
  },
  {
   "cell_type": "code",
   "execution_count": 10,
   "metadata": {},
   "outputs": [],
   "source": [
    "# Modelo de red siamesa utilizando una red residual y un perceptron multicapa SIN CAPAS CUSTOM\n",
    "\n",
    "def setModel():\n",
    "    x1 = tf.keras.Input(shape=(1200,), name=\"input_1\")\n",
    "    x2 = tf.keras.Input(shape=(1200,), name=\"input_2\")\n",
    "\n",
    "    merge = x1-x2\n",
    "\n",
    "    # MLPNN Classifier\n",
    "    hidden1 = tf.keras.layers.Dense(600, activation='relu',kernel_regularizer='l2' , name=\"HiddenLayer1\")(merge)\n",
    "    dropout_layer1 = tf.keras.layers.Dropout(0.4, name=\"Dropout1\")(hidden1)\n",
    "    hidden2 = tf.keras.layers.Dense(300, activation='relu',kernel_regularizer='l2' , name=\"HiddenLayer2\")(dropout_layer1)\n",
    "    dropout_layer2 = tf.keras.layers.Dropout(0.4, name=\"Dropout2\")(hidden2)\n",
    "    output = tf.keras.layers.Dense(1, activation=\"sigmoid\", name=\"output_layer\")(dropout_layer2)\n",
    "\n",
    "    model = tf.keras.Model([x1, x2], output)\n",
    "    model.compile(loss = 'binary_crossentropy', optimizer = \"adam\", metrics=[\"binary_accuracy\"])\n",
    "\n",
    "    return model"
   ]
  },
  {
   "cell_type": "code",
   "execution_count": 11,
   "metadata": {},
   "outputs": [
    {
     "name": "stdout",
     "output_type": "stream",
     "text": [
      "Model: \"model\"\n",
      "__________________________________________________________________________________________________\n",
      " Layer (type)                   Output Shape         Param #     Connected to                     \n",
      "==================================================================================================\n",
      " input_1 (InputLayer)           [(None, 1200)]       0           []                               \n",
      "                                                                                                  \n",
      " input_2 (InputLayer)           [(None, 1200)]       0           []                               \n",
      "                                                                                                  \n",
      " tf.math.subtract (TFOpLambda)  (None, 1200)         0           ['input_1[0][0]',                \n",
      "                                                                  'input_2[0][0]']                \n",
      "                                                                                                  \n",
      " HiddenLayer1 (Dense)           (None, 600)          720600      ['tf.math.subtract[0][0]']       \n",
      "                                                                                                  \n",
      " Dropout1 (Dropout)             (None, 600)          0           ['HiddenLayer1[0][0]']           \n",
      "                                                                                                  \n",
      " HiddenLayer2 (Dense)           (None, 300)          180300      ['Dropout1[0][0]']               \n",
      "                                                                                                  \n",
      " Dropout2 (Dropout)             (None, 300)          0           ['HiddenLayer2[0][0]']           \n",
      "                                                                                                  \n",
      " output_layer (Dense)           (None, 1)            301         ['Dropout2[0][0]']               \n",
      "                                                                                                  \n",
      "==================================================================================================\n",
      "Total params: 901,201\n",
      "Trainable params: 901,201\n",
      "Non-trainable params: 0\n",
      "__________________________________________________________________________________________________\n"
     ]
    },
    {
     "name": "stderr",
     "output_type": "stream",
     "text": [
      "2022-05-24 12:48:27.881938: I tensorflow/stream_executor/cuda/cuda_gpu_executor.cc:936] successful NUMA node read from SysFS had negative value (-1), but there must be at least one NUMA node, so returning NUMA node zero\n",
      "2022-05-24 12:48:27.903225: I tensorflow/stream_executor/cuda/cuda_gpu_executor.cc:936] successful NUMA node read from SysFS had negative value (-1), but there must be at least one NUMA node, so returning NUMA node zero\n",
      "2022-05-24 12:48:27.903346: I tensorflow/stream_executor/cuda/cuda_gpu_executor.cc:936] successful NUMA node read from SysFS had negative value (-1), but there must be at least one NUMA node, so returning NUMA node zero\n",
      "2022-05-24 12:48:27.903743: I tensorflow/core/platform/cpu_feature_guard.cc:151] This TensorFlow binary is optimized with oneAPI Deep Neural Network Library (oneDNN) to use the following CPU instructions in performance-critical operations:  AVX2 FMA\n",
      "To enable them in other operations, rebuild TensorFlow with the appropriate compiler flags.\n",
      "2022-05-24 12:48:27.904611: I tensorflow/stream_executor/cuda/cuda_gpu_executor.cc:936] successful NUMA node read from SysFS had negative value (-1), but there must be at least one NUMA node, so returning NUMA node zero\n",
      "2022-05-24 12:48:27.904700: I tensorflow/stream_executor/cuda/cuda_gpu_executor.cc:936] successful NUMA node read from SysFS had negative value (-1), but there must be at least one NUMA node, so returning NUMA node zero\n",
      "2022-05-24 12:48:27.904795: I tensorflow/stream_executor/cuda/cuda_gpu_executor.cc:936] successful NUMA node read from SysFS had negative value (-1), but there must be at least one NUMA node, so returning NUMA node zero\n",
      "2022-05-24 12:48:28.219355: I tensorflow/stream_executor/cuda/cuda_gpu_executor.cc:936] successful NUMA node read from SysFS had negative value (-1), but there must be at least one NUMA node, so returning NUMA node zero\n",
      "2022-05-24 12:48:28.219473: I tensorflow/stream_executor/cuda/cuda_gpu_executor.cc:936] successful NUMA node read from SysFS had negative value (-1), but there must be at least one NUMA node, so returning NUMA node zero\n",
      "2022-05-24 12:48:28.219555: I tensorflow/stream_executor/cuda/cuda_gpu_executor.cc:936] successful NUMA node read from SysFS had negative value (-1), but there must be at least one NUMA node, so returning NUMA node zero\n",
      "2022-05-24 12:48:28.219628: I tensorflow/core/common_runtime/gpu/gpu_device.cc:1525] Created device /job:localhost/replica:0/task:0/device:GPU:0 with 7675 MB memory:  -> device: 0, name: NVIDIA GeForce RTX 3080, pci bus id: 0000:01:00.0, compute capability: 8.6\n"
     ]
    }
   ],
   "source": [
    "model = setModel()\n",
    "model.summary()"
   ]
  },
  {
   "cell_type": "markdown",
   "metadata": {},
   "source": [
    "### Entrenamiento del modelo"
   ]
  },
  {
   "cell_type": "code",
   "execution_count": 12,
   "metadata": {},
   "outputs": [],
   "source": [
    "# Parameters\n",
    "params = {'dim': (1200,),\n",
    "            'batch_size': 256,\n",
    "            'shuffle': True}"
   ]
  },
  {
   "cell_type": "code",
   "execution_count": 13,
   "metadata": {},
   "outputs": [],
   "source": [
    "# Generators\n",
    "training_generator = DataGenerator(partition['train'], train, labels, full_spectra, **params)\n",
    "validation_generator = DataGenerator(partition['validation'], val, labels, full_spectra, **params)"
   ]
  },
  {
   "cell_type": "code",
   "execution_count": 14,
   "metadata": {},
   "outputs": [
    {
     "name": "stderr",
     "output_type": "stream",
     "text": [
      "2022-05-24 12:48:44.035712: I tensorflow/stream_executor/cuda/cuda_gpu_executor.cc:936] successful NUMA node read from SysFS had negative value (-1), but there must be at least one NUMA node, so returning NUMA node zero\n",
      "2022-05-24 12:48:44.035876: I tensorflow/stream_executor/cuda/cuda_gpu_executor.cc:936] successful NUMA node read from SysFS had negative value (-1), but there must be at least one NUMA node, so returning NUMA node zero\n",
      "2022-05-24 12:48:44.035967: I tensorflow/stream_executor/cuda/cuda_gpu_executor.cc:936] successful NUMA node read from SysFS had negative value (-1), but there must be at least one NUMA node, so returning NUMA node zero\n",
      "2022-05-24 12:48:44.036096: I tensorflow/stream_executor/cuda/cuda_gpu_executor.cc:936] successful NUMA node read from SysFS had negative value (-1), but there must be at least one NUMA node, so returning NUMA node zero\n",
      "2022-05-24 12:48:44.036191: I tensorflow/stream_executor/cuda/cuda_gpu_executor.cc:936] successful NUMA node read from SysFS had negative value (-1), but there must be at least one NUMA node, so returning NUMA node zero\n",
      "2022-05-24 12:48:44.036262: I tensorflow/core/common_runtime/gpu/gpu_device.cc:1525] Created device /device:GPU:0 with 7675 MB memory:  -> device: 0, name: NVIDIA GeForce RTX 3080, pci bus id: 0000:01:00.0, compute capability: 8.6\n"
     ]
    },
    {
     "data": {
      "text/plain": [
       "'/device:GPU:0'"
      ]
     },
     "execution_count": 14,
     "metadata": {},
     "output_type": "execute_result"
    }
   ],
   "source": [
    "tf.test.gpu_device_name()"
   ]
  },
  {
   "cell_type": "code",
   "execution_count": 15,
   "metadata": {},
   "outputs": [
    {
     "name": "stdout",
     "output_type": "stream",
     "text": [
      "Epoch 1/100\n",
      " 1/61 [..............................] - ETA: 1:18 - loss: 12.6868 - binary_accuracy: 0.4688"
     ]
    },
    {
     "name": "stderr",
     "output_type": "stream",
     "text": [
      "2022-05-24 12:48:46.260645: I tensorflow/stream_executor/cuda/cuda_blas.cc:1786] TensorFloat-32 will be used for the matrix multiplication. This will only be logged once.\n"
     ]
    },
    {
     "name": "stdout",
     "output_type": "stream",
     "text": [
      "61/61 [==============================] - 27s 424ms/step - loss: 4.3573 - binary_accuracy: 0.5537 - val_loss: 1.0008 - val_binary_accuracy: 0.5918\n",
      "Epoch 2/100\n",
      "61/61 [==============================] - 25s 415ms/step - loss: 0.7681 - binary_accuracy: 0.5599 - val_loss: 0.6979 - val_binary_accuracy: 0.5430\n",
      "Epoch 3/100\n",
      "61/61 [==============================] - 25s 402ms/step - loss: 0.6939 - binary_accuracy: 0.5570 - val_loss: 0.6892 - val_binary_accuracy: 0.5957\n",
      "Epoch 4/100\n",
      "61/61 [==============================] - 25s 402ms/step - loss: 0.6913 - binary_accuracy: 0.5589 - val_loss: 0.6940 - val_binary_accuracy: 0.5488\n",
      "Epoch 5/100\n",
      "61/61 [==============================] - 25s 406ms/step - loss: 0.6932 - binary_accuracy: 0.5463 - val_loss: 0.6962 - val_binary_accuracy: 0.5234\n",
      "Epoch 6/100\n",
      "61/61 [==============================] - 24s 400ms/step - loss: 0.6921 - binary_accuracy: 0.5556 - val_loss: 0.6904 - val_binary_accuracy: 0.5645\n",
      "Epoch 7/100\n",
      "61/61 [==============================] - 25s 403ms/step - loss: 0.6932 - binary_accuracy: 0.5533 - val_loss: 0.6887 - val_binary_accuracy: 0.5684\n",
      "Epoch 8/100\n",
      "61/61 [==============================] - 25s 405ms/step - loss: 0.6927 - binary_accuracy: 0.5535 - val_loss: 0.6939 - val_binary_accuracy: 0.5684\n",
      "Epoch 9/100\n",
      "61/61 [==============================] - 25s 405ms/step - loss: 0.6921 - binary_accuracy: 0.5567 - val_loss: 0.6933 - val_binary_accuracy: 0.5586\n",
      "Epoch 10/100\n",
      "61/61 [==============================] - 25s 406ms/step - loss: 0.6931 - binary_accuracy: 0.5540 - val_loss: 0.6928 - val_binary_accuracy: 0.5605\n",
      "Epoch 11/100\n",
      "61/61 [==============================] - 24s 401ms/step - loss: 0.6921 - binary_accuracy: 0.5603 - val_loss: 0.6948 - val_binary_accuracy: 0.5215\n",
      "Epoch 12/100\n",
      "61/61 [==============================] - 25s 405ms/step - loss: 0.6928 - binary_accuracy: 0.5518 - val_loss: 0.6919 - val_binary_accuracy: 0.5605\n",
      "Epoch 13/100\n",
      "61/61 [==============================] - 25s 413ms/step - loss: 0.6919 - binary_accuracy: 0.5515 - val_loss: 0.6904 - val_binary_accuracy: 0.5801\n",
      "Epoch 14/100\n",
      "61/61 [==============================] - 25s 417ms/step - loss: 0.6920 - binary_accuracy: 0.5543 - val_loss: 0.6928 - val_binary_accuracy: 0.5781\n",
      "Epoch 15/100\n",
      "61/61 [==============================] - 26s 424ms/step - loss: 0.6906 - binary_accuracy: 0.5576 - val_loss: 0.6937 - val_binary_accuracy: 0.5684\n",
      "Epoch 16/100\n",
      "61/61 [==============================] - 26s 421ms/step - loss: 0.6913 - binary_accuracy: 0.5587 - val_loss: 0.6922 - val_binary_accuracy: 0.5449\n",
      "Epoch 17/100\n",
      "61/61 [==============================] - 26s 420ms/step - loss: 0.6906 - binary_accuracy: 0.5568 - val_loss: 0.6875 - val_binary_accuracy: 0.5684\n",
      "Epoch 18/100\n",
      "61/61 [==============================] - 25s 416ms/step - loss: 0.6904 - binary_accuracy: 0.5588 - val_loss: 0.6926 - val_binary_accuracy: 0.5527\n",
      "Epoch 19/100\n",
      "61/61 [==============================] - 26s 418ms/step - loss: 0.6919 - binary_accuracy: 0.5551 - val_loss: 0.6908 - val_binary_accuracy: 0.5430\n",
      "Epoch 20/100\n",
      "61/61 [==============================] - 26s 421ms/step - loss: 0.6908 - binary_accuracy: 0.5610 - val_loss: 0.6879 - val_binary_accuracy: 0.5586\n",
      "Epoch 21/100\n",
      "61/61 [==============================] - 26s 420ms/step - loss: 0.6907 - binary_accuracy: 0.5566 - val_loss: 0.6886 - val_binary_accuracy: 0.5762\n",
      "Epoch 22/100\n",
      "61/61 [==============================] - 25s 418ms/step - loss: 0.6898 - binary_accuracy: 0.5600 - val_loss: 0.6921 - val_binary_accuracy: 0.5391\n",
      "Epoch 23/100\n",
      "61/61 [==============================] - 25s 417ms/step - loss: 0.6898 - binary_accuracy: 0.5596 - val_loss: 0.6889 - val_binary_accuracy: 0.5664\n",
      "Epoch 24/100\n",
      "61/61 [==============================] - 26s 421ms/step - loss: 0.6904 - binary_accuracy: 0.5586 - val_loss: 0.6937 - val_binary_accuracy: 0.5332\n",
      "Epoch 25/100\n",
      "61/61 [==============================] - 25s 415ms/step - loss: 0.6902 - binary_accuracy: 0.5575 - val_loss: 0.6862 - val_binary_accuracy: 0.5918\n",
      "Epoch 26/100\n",
      "61/61 [==============================] - 25s 403ms/step - loss: 0.6905 - binary_accuracy: 0.5587 - val_loss: 0.6870 - val_binary_accuracy: 0.5801\n",
      "Epoch 27/100\n",
      "61/61 [==============================] - 25s 411ms/step - loss: 0.6896 - binary_accuracy: 0.5612 - val_loss: 0.6944 - val_binary_accuracy: 0.5332\n",
      "Epoch 28/100\n",
      "61/61 [==============================] - 25s 405ms/step - loss: 0.6907 - binary_accuracy: 0.5566 - val_loss: 0.6904 - val_binary_accuracy: 0.5547\n",
      "Epoch 29/100\n",
      "61/61 [==============================] - 25s 407ms/step - loss: 0.6895 - binary_accuracy: 0.5575 - val_loss: 0.6898 - val_binary_accuracy: 0.5781\n",
      "Epoch 30/100\n",
      "61/61 [==============================] - 25s 405ms/step - loss: 0.6897 - binary_accuracy: 0.5550 - val_loss: 0.6881 - val_binary_accuracy: 0.5605\n",
      "Epoch 31/100\n",
      "61/61 [==============================] - 25s 402ms/step - loss: 0.6901 - binary_accuracy: 0.5605 - val_loss: 0.6880 - val_binary_accuracy: 0.5684\n",
      "Epoch 32/100\n",
      "61/61 [==============================] - 25s 402ms/step - loss: 0.6902 - binary_accuracy: 0.5584 - val_loss: 0.6893 - val_binary_accuracy: 0.5605\n",
      "Epoch 33/100\n",
      "61/61 [==============================] - 25s 408ms/step - loss: 0.6885 - binary_accuracy: 0.5687 - val_loss: 0.6930 - val_binary_accuracy: 0.5371\n",
      "Epoch 34/100\n",
      "61/61 [==============================] - 25s 407ms/step - loss: 0.6884 - binary_accuracy: 0.5662 - val_loss: 0.6912 - val_binary_accuracy: 0.5762\n",
      "Epoch 35/100\n",
      "61/61 [==============================] - 25s 403ms/step - loss: 0.6897 - binary_accuracy: 0.5628 - val_loss: 0.6864 - val_binary_accuracy: 0.5840\n",
      "Epoch 36/100\n",
      "61/61 [==============================] - 25s 409ms/step - loss: 0.6890 - binary_accuracy: 0.5648 - val_loss: 0.6885 - val_binary_accuracy: 0.5664\n",
      "Epoch 37/100\n",
      "61/61 [==============================] - 25s 408ms/step - loss: 0.6880 - binary_accuracy: 0.5665 - val_loss: 0.6940 - val_binary_accuracy: 0.5469\n",
      "Epoch 38/100\n",
      "61/61 [==============================] - 25s 403ms/step - loss: 0.6882 - binary_accuracy: 0.5676 - val_loss: 0.6893 - val_binary_accuracy: 0.5527\n",
      "Epoch 39/100\n",
      "61/61 [==============================] - 25s 409ms/step - loss: 0.6878 - binary_accuracy: 0.5667 - val_loss: 0.6961 - val_binary_accuracy: 0.5430\n",
      "Epoch 40/100\n",
      "61/61 [==============================] - 25s 403ms/step - loss: 0.6881 - binary_accuracy: 0.5623 - val_loss: 0.6926 - val_binary_accuracy: 0.5547\n",
      "Epoch 41/100\n",
      "61/61 [==============================] - 25s 403ms/step - loss: 0.6888 - binary_accuracy: 0.5679 - val_loss: 0.6947 - val_binary_accuracy: 0.5254\n",
      "Epoch 42/100\n",
      "61/61 [==============================] - 25s 403ms/step - loss: 0.6895 - binary_accuracy: 0.5605 - val_loss: 0.6887 - val_binary_accuracy: 0.5586\n",
      "Epoch 43/100\n",
      "61/61 [==============================] - 25s 404ms/step - loss: 0.6879 - binary_accuracy: 0.5716 - val_loss: 0.6913 - val_binary_accuracy: 0.5430\n",
      "Epoch 44/100\n",
      "61/61 [==============================] - 25s 403ms/step - loss: 0.6885 - binary_accuracy: 0.5642 - val_loss: 0.6911 - val_binary_accuracy: 0.5605\n",
      "Epoch 45/100\n",
      "61/61 [==============================] - 25s 406ms/step - loss: 0.6882 - binary_accuracy: 0.5690 - val_loss: 0.6867 - val_binary_accuracy: 0.5508\n",
      "Epoch 46/100\n",
      "61/61 [==============================] - 25s 402ms/step - loss: 0.6875 - binary_accuracy: 0.5674 - val_loss: 0.6922 - val_binary_accuracy: 0.5410\n",
      "Epoch 47/100\n",
      "61/61 [==============================] - 25s 402ms/step - loss: 0.6884 - binary_accuracy: 0.5653 - val_loss: 0.6920 - val_binary_accuracy: 0.5547\n",
      "Epoch 48/100\n",
      "61/61 [==============================] - 25s 406ms/step - loss: 0.6879 - binary_accuracy: 0.5668 - val_loss: 0.6881 - val_binary_accuracy: 0.5723\n",
      "Epoch 49/100\n",
      "61/61 [==============================] - 25s 408ms/step - loss: 0.6876 - binary_accuracy: 0.5726 - val_loss: 0.6924 - val_binary_accuracy: 0.5371\n",
      "Epoch 50/100\n",
      "61/61 [==============================] - 25s 408ms/step - loss: 0.6887 - binary_accuracy: 0.5666 - val_loss: 0.6917 - val_binary_accuracy: 0.5430\n",
      "Epoch 51/100\n",
      "61/61 [==============================] - 25s 403ms/step - loss: 0.6873 - binary_accuracy: 0.5729 - val_loss: 0.6923 - val_binary_accuracy: 0.5410\n",
      "Epoch 52/100\n",
      "61/61 [==============================] - 25s 404ms/step - loss: 0.6881 - binary_accuracy: 0.5722 - val_loss: 0.6889 - val_binary_accuracy: 0.5762\n",
      "Epoch 53/100\n",
      "61/61 [==============================] - 25s 403ms/step - loss: 0.6874 - binary_accuracy: 0.5669 - val_loss: 0.6863 - val_binary_accuracy: 0.5684\n",
      "Epoch 54/100\n",
      "61/61 [==============================] - 25s 409ms/step - loss: 0.6886 - binary_accuracy: 0.5669 - val_loss: 0.6852 - val_binary_accuracy: 0.5879\n",
      "Epoch 55/100\n",
      "61/61 [==============================] - 25s 408ms/step - loss: 0.6882 - binary_accuracy: 0.5644 - val_loss: 0.6969 - val_binary_accuracy: 0.5371\n",
      "Epoch 56/100\n",
      "61/61 [==============================] - 25s 403ms/step - loss: 0.6881 - binary_accuracy: 0.5654 - val_loss: 0.6909 - val_binary_accuracy: 0.5605\n",
      "Epoch 57/100\n",
      "61/61 [==============================] - 25s 406ms/step - loss: 0.6869 - binary_accuracy: 0.5685 - val_loss: 0.6969 - val_binary_accuracy: 0.5586\n",
      "Epoch 58/100\n",
      "61/61 [==============================] - 25s 405ms/step - loss: 0.6879 - binary_accuracy: 0.5681 - val_loss: 0.6926 - val_binary_accuracy: 0.5684\n",
      "Epoch 59/100\n",
      "61/61 [==============================] - 25s 402ms/step - loss: 0.6866 - binary_accuracy: 0.5706 - val_loss: 0.6875 - val_binary_accuracy: 0.5703\n",
      "Epoch 60/100\n",
      "61/61 [==============================] - 25s 402ms/step - loss: 0.6879 - binary_accuracy: 0.5651 - val_loss: 0.6864 - val_binary_accuracy: 0.5547\n",
      "Epoch 61/100\n",
      "61/61 [==============================] - 25s 412ms/step - loss: 0.6887 - binary_accuracy: 0.5613 - val_loss: 0.6980 - val_binary_accuracy: 0.5098\n",
      "Epoch 62/100\n",
      "61/61 [==============================] - 25s 412ms/step - loss: 0.6884 - binary_accuracy: 0.5678 - val_loss: 0.6863 - val_binary_accuracy: 0.5762\n",
      "Epoch 63/100\n",
      "61/61 [==============================] - 25s 406ms/step - loss: 0.6864 - binary_accuracy: 0.5726 - val_loss: 0.6873 - val_binary_accuracy: 0.5625\n",
      "Epoch 64/100\n",
      "61/61 [==============================] - 25s 404ms/step - loss: 0.6865 - binary_accuracy: 0.5708 - val_loss: 0.6921 - val_binary_accuracy: 0.5469\n",
      "Epoch 65/100\n",
      "61/61 [==============================] - 25s 405ms/step - loss: 0.6871 - binary_accuracy: 0.5685 - val_loss: 0.6967 - val_binary_accuracy: 0.5430\n",
      "Epoch 66/100\n",
      "61/61 [==============================] - 25s 410ms/step - loss: 0.6877 - binary_accuracy: 0.5718 - val_loss: 0.6916 - val_binary_accuracy: 0.5352\n",
      "Epoch 67/100\n",
      "61/61 [==============================] - 25s 407ms/step - loss: 0.6878 - binary_accuracy: 0.5670 - val_loss: 0.6924 - val_binary_accuracy: 0.5566\n",
      "Epoch 68/100\n",
      "61/61 [==============================] - 25s 407ms/step - loss: 0.6884 - binary_accuracy: 0.5669 - val_loss: 0.6838 - val_binary_accuracy: 0.5801\n",
      "Epoch 69/100\n",
      "61/61 [==============================] - 25s 407ms/step - loss: 0.6869 - binary_accuracy: 0.5712 - val_loss: 0.6917 - val_binary_accuracy: 0.5625\n",
      "Epoch 70/100\n",
      "61/61 [==============================] - 25s 410ms/step - loss: 0.6870 - binary_accuracy: 0.5697 - val_loss: 0.6904 - val_binary_accuracy: 0.5664\n",
      "Epoch 71/100\n",
      "61/61 [==============================] - 25s 409ms/step - loss: 0.6867 - binary_accuracy: 0.5709 - val_loss: 0.6928 - val_binary_accuracy: 0.5488\n",
      "Epoch 72/100\n",
      "61/61 [==============================] - 25s 409ms/step - loss: 0.6891 - binary_accuracy: 0.5646 - val_loss: 0.6877 - val_binary_accuracy: 0.5547\n",
      "Epoch 73/100\n",
      "61/61 [==============================] - 25s 411ms/step - loss: 0.6858 - binary_accuracy: 0.5777 - val_loss: 0.6857 - val_binary_accuracy: 0.5723\n",
      "Epoch 74/100\n",
      "61/61 [==============================] - 25s 412ms/step - loss: 0.6865 - binary_accuracy: 0.5738 - val_loss: 0.6897 - val_binary_accuracy: 0.5918\n",
      "Epoch 75/100\n",
      "61/61 [==============================] - 25s 411ms/step - loss: 0.6873 - binary_accuracy: 0.5675 - val_loss: 0.6907 - val_binary_accuracy: 0.5527\n",
      "Epoch 76/100\n",
      "61/61 [==============================] - 25s 407ms/step - loss: 0.6886 - binary_accuracy: 0.5637 - val_loss: 0.6882 - val_binary_accuracy: 0.5723\n",
      "Epoch 77/100\n",
      "61/61 [==============================] - 25s 410ms/step - loss: 0.6868 - binary_accuracy: 0.5672 - val_loss: 0.6891 - val_binary_accuracy: 0.5723\n",
      "Epoch 78/100\n",
      "61/61 [==============================] - 25s 406ms/step - loss: 0.6880 - binary_accuracy: 0.5681 - val_loss: 0.6900 - val_binary_accuracy: 0.5605\n",
      "Epoch 79/100\n",
      "61/61 [==============================] - 25s 408ms/step - loss: 0.6871 - binary_accuracy: 0.5679 - val_loss: 0.6918 - val_binary_accuracy: 0.5664\n",
      "Epoch 80/100\n",
      "61/61 [==============================] - 25s 406ms/step - loss: 0.6874 - binary_accuracy: 0.5672 - val_loss: 0.6880 - val_binary_accuracy: 0.5898\n",
      "Epoch 81/100\n",
      "61/61 [==============================] - 25s 405ms/step - loss: 0.6865 - binary_accuracy: 0.5700 - val_loss: 0.6894 - val_binary_accuracy: 0.5625\n",
      "Epoch 82/100\n",
      "61/61 [==============================] - 25s 406ms/step - loss: 0.6877 - binary_accuracy: 0.5668 - val_loss: 0.6915 - val_binary_accuracy: 0.5566\n",
      "Epoch 83/100\n",
      "61/61 [==============================] - 25s 404ms/step - loss: 0.6878 - binary_accuracy: 0.5670 - val_loss: 0.6912 - val_binary_accuracy: 0.5527\n",
      "Epoch 84/100\n",
      "61/61 [==============================] - 25s 406ms/step - loss: 0.6873 - binary_accuracy: 0.5656 - val_loss: 0.6955 - val_binary_accuracy: 0.5508\n",
      "Epoch 85/100\n",
      "61/61 [==============================] - 25s 407ms/step - loss: 0.6864 - binary_accuracy: 0.5695 - val_loss: 0.6911 - val_binary_accuracy: 0.5684\n",
      "Epoch 86/100\n",
      "61/61 [==============================] - 25s 405ms/step - loss: 0.6870 - binary_accuracy: 0.5681 - val_loss: 0.6894 - val_binary_accuracy: 0.5508\n",
      "Epoch 87/100\n",
      "61/61 [==============================] - 25s 411ms/step - loss: 0.6872 - binary_accuracy: 0.5663 - val_loss: 0.6818 - val_binary_accuracy: 0.5840\n",
      "Epoch 88/100\n",
      "61/61 [==============================] - 25s 410ms/step - loss: 0.6876 - binary_accuracy: 0.5689 - val_loss: 0.6873 - val_binary_accuracy: 0.5801\n",
      "Epoch 89/100\n",
      "61/61 [==============================] - 25s 410ms/step - loss: 0.6878 - binary_accuracy: 0.5632 - val_loss: 0.6893 - val_binary_accuracy: 0.5605\n",
      "Epoch 90/100\n",
      "61/61 [==============================] - 25s 407ms/step - loss: 0.6862 - binary_accuracy: 0.5742 - val_loss: 0.6904 - val_binary_accuracy: 0.5605\n",
      "Epoch 91/100\n",
      "61/61 [==============================] - 25s 408ms/step - loss: 0.6872 - binary_accuracy: 0.5672 - val_loss: 0.6931 - val_binary_accuracy: 0.5469\n",
      "Epoch 92/100\n",
      "61/61 [==============================] - 25s 404ms/step - loss: 0.6868 - binary_accuracy: 0.5679 - val_loss: 0.6915 - val_binary_accuracy: 0.5469\n",
      "Epoch 93/100\n",
      "61/61 [==============================] - 25s 410ms/step - loss: 0.6857 - binary_accuracy: 0.5720 - val_loss: 0.6917 - val_binary_accuracy: 0.5430\n",
      "Epoch 94/100\n",
      "61/61 [==============================] - 25s 407ms/step - loss: 0.6865 - binary_accuracy: 0.5704 - val_loss: 0.6951 - val_binary_accuracy: 0.5430\n",
      "Epoch 95/100\n",
      "61/61 [==============================] - 25s 407ms/step - loss: 0.6847 - binary_accuracy: 0.5733 - val_loss: 0.6908 - val_binary_accuracy: 0.5645\n",
      "Epoch 96/100\n",
      "61/61 [==============================] - 25s 412ms/step - loss: 0.6871 - binary_accuracy: 0.5702 - val_loss: 0.6881 - val_binary_accuracy: 0.5703\n",
      "Epoch 97/100\n",
      "61/61 [==============================] - 25s 411ms/step - loss: 0.6855 - binary_accuracy: 0.5733 - val_loss: 0.6904 - val_binary_accuracy: 0.5703\n",
      "Epoch 98/100\n",
      "61/61 [==============================] - 25s 404ms/step - loss: 0.6859 - binary_accuracy: 0.5735 - val_loss: 0.6895 - val_binary_accuracy: 0.5723\n",
      "Epoch 99/100\n",
      "61/61 [==============================] - 25s 403ms/step - loss: 0.6848 - binary_accuracy: 0.5751 - val_loss: 0.6929 - val_binary_accuracy: 0.5469\n",
      "Epoch 100/100\n",
      "61/61 [==============================] - 25s 404ms/step - loss: 0.6877 - binary_accuracy: 0.5608 - val_loss: 0.6871 - val_binary_accuracy: 0.5566\n",
      "Entrnamiento completado\n"
     ]
    }
   ],
   "source": [
    "# Train model on dataset\n",
    "with tf.device('/device:GPU:0'):\n",
    "    model = setModel()\n",
    "    # callback = tf.keras.callbacks.EarlyStopping(monitor='loss', patience=5)\n",
    "    history = model.fit(x=training_generator,\n",
    "                        validation_data=validation_generator,\n",
    "                        # callbacks=[callback],\n",
    "                        # use_multiprocessing=True,\n",
    "                        # workers=4,\n",
    "                        epochs=100,\n",
    "                        verbose=1)\n",
    "print(\"Entrnamiento completado\")"
   ]
  },
  {
   "cell_type": "code",
   "execution_count": 16,
   "metadata": {},
   "outputs": [
    {
     "name": "stderr",
     "output_type": "stream",
     "text": [
      "2022-05-24 13:30:16.981521: W tensorflow/python/util/util.cc:368] Sets are not currently considered sequences, but this may change in the future, so consider avoiding using them.\n"
     ]
    },
    {
     "name": "stdout",
     "output_type": "stream",
     "text": [
      "INFO:tensorflow:Assets written to: models/ClassifierModel-v13/assets\n"
     ]
    }
   ],
   "source": [
    "model.save('models/ClassifierModel-v13')"
   ]
  },
  {
   "cell_type": "markdown",
   "metadata": {},
   "source": [
    "### Resultados del entrenamiento"
   ]
  },
  {
   "cell_type": "code",
   "execution_count": 17,
   "metadata": {},
   "outputs": [],
   "source": [
    "import matplotlib.pyplot as plt\n",
    "import seaborn as sns\n",
    "sns.set_theme(style=\"darkgrid\")"
   ]
  },
  {
   "cell_type": "code",
   "execution_count": 18,
   "metadata": {},
   "outputs": [
    {
     "data": {
      "text/plain": [
       "dict_keys(['loss', 'binary_accuracy', 'val_loss', 'val_binary_accuracy'])"
      ]
     },
     "execution_count": 18,
     "metadata": {},
     "output_type": "execute_result"
    }
   ],
   "source": [
    "history.history.keys()"
   ]
  },
  {
   "cell_type": "code",
   "execution_count": 19,
   "metadata": {},
   "outputs": [],
   "source": [
    "acc = pd.DataFrame({'accuracy':history.history['binary_accuracy'], 'type':'train'}).reset_index().rename(columns={'index':'epoch'})\n",
    "acc = pd.concat([acc, pd.DataFrame({'accuracy':history.history['val_binary_accuracy'], 'type':'val'}).reset_index().rename(columns={'index':'epoch'})]).reset_index(drop=True)\n",
    "loss = pd.DataFrame({'loss':history.history['loss'], 'type':'train'}).reset_index().rename(columns={'index':'epoch'})\n",
    "loss = pd.concat([loss, pd.DataFrame({'loss':history.history['val_loss'], 'type':'val'}).reset_index().rename(columns={'index':'epoch'})]).reset_index(drop=True)"
   ]
  },
  {
   "cell_type": "code",
   "execution_count": 20,
   "metadata": {},
   "outputs": [
    {
     "data": {
      "image/png": "[encoded data removed]",
      "text/plain": [
       "<Figure size 1080x360 with 2 Axes>"
      ]
     },
     "metadata": {},
     "output_type": "display_data"
    }
   ],
   "source": [
    "fig, ax = plt.subplots(nrows=1, ncols=2, figsize=(15,5))\n",
    "sns.lineplot(x='epoch', y='accuracy', data=acc, hue='type', ax=ax[0])\n",
    "sns.lineplot(x='epoch', y='loss', data=loss, hue='type', ax=ax[1])\n",
    "fig.suptitle(\"Modelo v4\")\n",
    "plt.show()"
   ]
  },
  {
   "cell_type": "code",
   "execution_count": 21,
   "metadata": {},
   "outputs": [
    {
     "data": {
      "text/html": [
       "<div>\n",
       "<style scoped>\n",
       "    .dataframe tbody tr th:only-of-type {\n",
       "        vertical-align: middle;\n",
       "    }\n",
       "\n",
       "    .dataframe tbody tr th {\n",
       "        vertical-align: top;\n",
       "    }\n",
       "\n",
       "    .dataframe thead th {\n",
       "        text-align: right;\n",
       "    }\n",
       "</style>\n",
       "<table border=\"1\" class=\"dataframe\">\n",
       "  <thead>\n",
       "    <tr style=\"text-align: right;\">\n",
       "      <th></th>\n",
       "      <th>epoch</th>\n",
       "      <th>accuracy</th>\n",
       "      <th>type</th>\n",
       "    </tr>\n",
       "  </thead>\n",
       "  <tbody>\n",
       "    <tr>\n",
       "      <th>99</th>\n",
       "      <td>99</td>\n",
       "      <td>0.560835</td>\n",
       "      <td>train</td>\n",
       "    </tr>\n",
       "    <tr>\n",
       "      <th>199</th>\n",
       "      <td>99</td>\n",
       "      <td>0.556641</td>\n",
       "      <td>val</td>\n",
       "    </tr>\n",
       "  </tbody>\n",
       "</table>\n",
       "</div>"
      ],
      "text/plain": [
       "     epoch  accuracy   type\n",
       "99      99  0.560835  train\n",
       "199     99  0.556641    val"
      ]
     },
     "execution_count": 21,
     "metadata": {},
     "output_type": "execute_result"
    }
   ],
   "source": [
    "acc.loc[acc.epoch == acc.epoch.max()]"
   ]
  },
  {
   "cell_type": "code",
   "execution_count": 22,
   "metadata": {},
   "outputs": [
    {
     "data": {
      "text/html": [
       "<div>\n",
       "<style scoped>\n",
       "    .dataframe tbody tr th:only-of-type {\n",
       "        vertical-align: middle;\n",
       "    }\n",
       "\n",
       "    .dataframe tbody tr th {\n",
       "        vertical-align: top;\n",
       "    }\n",
       "\n",
       "    .dataframe thead th {\n",
       "        text-align: right;\n",
       "    }\n",
       "</style>\n",
       "<table border=\"1\" class=\"dataframe\">\n",
       "  <thead>\n",
       "    <tr style=\"text-align: right;\">\n",
       "      <th></th>\n",
       "      <th>epoch</th>\n",
       "      <th>loss</th>\n",
       "      <th>type</th>\n",
       "    </tr>\n",
       "  </thead>\n",
       "  <tbody>\n",
       "    <tr>\n",
       "      <th>99</th>\n",
       "      <td>99</td>\n",
       "      <td>0.687658</td>\n",
       "      <td>train</td>\n",
       "    </tr>\n",
       "    <tr>\n",
       "      <th>199</th>\n",
       "      <td>99</td>\n",
       "      <td>0.687104</td>\n",
       "      <td>val</td>\n",
       "    </tr>\n",
       "  </tbody>\n",
       "</table>\n",
       "</div>"
      ],
      "text/plain": [
       "     epoch      loss   type\n",
       "99      99  0.687658  train\n",
       "199     99  0.687104    val"
      ]
     },
     "execution_count": 22,
     "metadata": {},
     "output_type": "execute_result"
    }
   ],
   "source": [
    "loss.loc[loss.epoch == loss.epoch.max()]"
   ]
  },
  {
   "cell_type": "markdown",
   "metadata": {},
   "source": [
    "### Evaluación de datos de prueba"
   ]
  },
  {
   "cell_type": "code",
   "execution_count": 1,
   "metadata": {},
   "outputs": [
    {
     "name": "stdout",
     "output_type": "stream",
     "text": [
      "[nltk_data] Downloading package punkt to /home/melesio/nltk_data...\n",
      "[nltk_data]   Package punkt is already up-to-date!\n",
      "[nltk_data] Downloading package stopwords to\n",
      "[nltk_data]     /home/melesio/nltk_data...\n",
      "[nltk_data]   Package stopwords is already up-to-date!\n",
      "[nltk_data] Downloading package wordnet to /home/melesio/nltk_data...\n",
      "[nltk_data]   Package wordnet is already up-to-date!\n",
      "[nltk_data] Downloading package omw-1.4 to /home/melesio/nltk_data...\n",
      "[nltk_data]   Package omw-1.4 is already up-to-date!\n",
      "[nltk_data] Downloading package averaged_perceptron_tagger to\n",
      "[nltk_data]     /home/melesio/nltk_data...\n",
      "[nltk_data]   Package averaged_perceptron_tagger is already up-to-\n",
      "[nltk_data]       date!\n",
      "Leyendo archivo de configuracion\n",
      "Inicia la transformacion de texto\n",
      "Creando diccionario de documentos unicos\n",
      "Realizando preprocesamiento\n",
      "Etapa de pre-procesmiento\n",
      "Extrayendo vectores de caracteristicas\n",
      "Etapa de extraccion de caracteristicas\n",
      "Extraccion de vectores lexicos\n",
      "Realizando vectorizacion\n",
      "Guardando resultadosto 79\n",
      "Extraccion de vectores sintacticos\n",
      "Realizando vectorizacion\n",
      "Guardando resultados\n",
      "Extraccion de vectores semanticos\n",
      "Realizando vectorizacion\n",
      "Guardando resultados\n",
      "Obteniendo espectros de contenido\n",
      "Etapa de unificacion del espacio\n",
      "/home/melesio/Documentos/SpectralTextRepresentation/minisom/minisom.py:167: UserWarning: Warning: sigma is too high for the dimension of the map.\n",
      "  warn('Warning: sigma is too high for the dimension of the map.')\n",
      "Leyendo vectores lexicos\n",
      "Obteninendo espectros\n",
      "Leyendo vectores sintacticos\n",
      "Obteninendo espectros\n",
      "Leyendo vectores semanticos\n",
      "Obteninendo espectros\n",
      "Consolidando capas\n",
      "Etapa de consolidacion de capas\n",
      "Información guardada\n",
      "Ensamble terminado\n",
      "Cargando modelo\n",
      "2022-05-24 14:03:42.917459: I tensorflow/stream_executor/cuda/cuda_gpu_executor.cc:936] successful NUMA node read from SysFS had negative value (-1), but there must be at least one NUMA node, so returning NUMA node zero\n",
      "2022-05-24 14:03:42.941814: I tensorflow/stream_executor/cuda/cuda_gpu_executor.cc:936] successful NUMA node read from SysFS had negative value (-1), but there must be at least one NUMA node, so returning NUMA node zero\n",
      "2022-05-24 14:03:42.941958: I tensorflow/stream_executor/cuda/cuda_gpu_executor.cc:936] successful NUMA node read from SysFS had negative value (-1), but there must be at least one NUMA node, so returning NUMA node zero\n",
      "2022-05-24 14:03:42.942234: I tensorflow/core/platform/cpu_feature_guard.cc:151] This TensorFlow binary is optimized with oneAPI Deep Neural Network Library (oneDNN) to use the following CPU instructions in performance-critical operations:  AVX2 FMA\n",
      "To enable them in other operations, rebuild TensorFlow with the appropriate compiler flags.\n",
      "2022-05-24 14:03:42.942899: I tensorflow/stream_executor/cuda/cuda_gpu_executor.cc:936] successful NUMA node read from SysFS had negative value (-1), but there must be at least one NUMA node, so returning NUMA node zero\n",
      "2022-05-24 14:03:42.942997: I tensorflow/stream_executor/cuda/cuda_gpu_executor.cc:936] successful NUMA node read from SysFS had negative value (-1), but there must be at least one NUMA node, so returning NUMA node zero\n",
      "2022-05-24 14:03:42.943084: I tensorflow/stream_executor/cuda/cuda_gpu_executor.cc:936] successful NUMA node read from SysFS had negative value (-1), but there must be at least one NUMA node, so returning NUMA node zero\n",
      "2022-05-24 14:03:43.279089: I tensorflow/stream_executor/cuda/cuda_gpu_executor.cc:936] successful NUMA node read from SysFS had negative value (-1), but there must be at least one NUMA node, so returning NUMA node zero\n",
      "2022-05-24 14:03:43.279267: I tensorflow/stream_executor/cuda/cuda_gpu_executor.cc:936] successful NUMA node read from SysFS had negative value (-1), but there must be at least one NUMA node, so returning NUMA node zero\n",
      "2022-05-24 14:03:43.279365: I tensorflow/stream_executor/cuda/cuda_gpu_executor.cc:936] successful NUMA node read from SysFS had negative value (-1), but there must be at least one NUMA node, so returning NUMA node zero\n",
      "2022-05-24 14:03:43.279446: I tensorflow/core/common_runtime/gpu/gpu_device.cc:1525] Created device /job:localhost/replica:0/task:0/device:GPU:0 with 7697 MB memory:  -> device: 0, name: NVIDIA GeForce RTX 3080, pci bus id: 0000:01:00.0, compute capability: 8.6\n",
      "Realizando predicciones\n",
      "2022-05-24 14:03:44.236937: I tensorflow/stream_executor/cuda/cuda_blas.cc:1786] TensorFloat-32 will be used for the matrix multiplication. This will only be logged once.\n"
     ]
    }
   ],
   "source": [
    "!python PredictionsTest.py -i testinput -o testoutput/v13"
   ]
  },
  {
   "cell_type": "code",
   "execution_count": 2,
   "metadata": {},
   "outputs": [
    {
     "name": "stdout",
     "output_type": "stream",
     "text": [
      "-> 1070 problems in ground truth\n",
      "-> 1070 solutions explicitly proposed\n",
      "{'auc': 0.596, 'c@1': 0.584, 'f_05_u': 0.584, 'F1': 0.581, 'brier': 0.756, 'overall': 0.62}\n"
     ]
    }
   ],
   "source": [
    "!python pan22_verif_evaluator.py -i testinput -a testoutput/v13 -o testoutput/v13"
   ]
  }
 ],
 "metadata": {
  "interpreter": {
   "hash": "34185cc76f1746f7da7738a8f19ab6509177ea129d1668aef168b7e0e18c804f"
  },
  "kernelspec": {
   "display_name": "Python 3.9.12 ('base')",
   "language": "python",
   "name": "python3"
  },
  "language_info": {
   "codemirror_mode": {
    "name": "ipython",
    "version": 3
   },
   "file_extension": ".py",
   "mimetype": "text/x-python",
   "name": "python",
   "nbconvert_exporter": "python",
   "pygments_lexer": "ipython3",
   "version": "3.9.12"
  },
  "orig_nbformat": 4
 },
 "nbformat": 4,
 "nbformat_minor": 2
}
