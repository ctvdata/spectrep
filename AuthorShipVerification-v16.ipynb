{
 "cells": [
  {
   "cell_type": "markdown",
   "metadata": {},
   "source": [
    "## Prueba con capa sintactica semantica"
   ]
  },
  {
   "cell_type": "code",
   "execution_count": 3,
   "metadata": {},
   "outputs": [],
   "source": [
    "import numpy as np\n",
    "import pandas as pd\n",
    "import tensorflow as tf\n",
    "import json\n",
    "from myGenerator import DataGenerator"
   ]
  },
  {
   "cell_type": "markdown",
   "metadata": {},
   "source": [
    "### Carga de datos"
   ]
  },
  {
   "cell_type": "code",
   "execution_count": 4,
   "metadata": {},
   "outputs": [],
   "source": [
    "train = pd.read_pickle(\"pan22-authorship-verification-training-dataset/particionesXid/PanTrain.plk\")\n",
    "val = pd.read_pickle(\"pan22-authorship-verification-training-dataset/particionesXid/PanVal.plk\")"
   ]
  },
  {
   "cell_type": "code",
   "execution_count": 5,
   "metadata": {},
   "outputs": [],
   "source": [
    "def spectraLoader(inputPath: str) -> pd.DataFrame:\n",
    "    df = pd.DataFrame()\n",
    "    with open(inputPath, encoding='utf-8') as f:\n",
    "        for line in f:\n",
    "            jsonline = json.loads(line)\n",
    "            lineDf = pd.DataFrame({'id':jsonline['id'], 'spectra':[np.array(jsonline['spectra'])]})\n",
    "            df = pd.concat([df, lineDf])\n",
    "    df = df.reset_index(drop=True)\n",
    "\n",
    "    return df"
   ]
  },
  {
   "cell_type": "code",
   "execution_count": 6,
   "metadata": {},
   "outputs": [],
   "source": [
    "full_spectra = spectraLoader(\"pan22-authorship-verification-training-dataset/particionesXid/FullSpectra.jsonl\")"
   ]
  },
  {
   "cell_type": "code",
   "execution_count": 7,
   "metadata": {},
   "outputs": [],
   "source": [
    "def loadLabels(inputPath:str, labelDict:dict) -> dict:\n",
    "    with open(inputPath, encoding='utf-8') as f:\n",
    "        for line in f:\n",
    "            jsonline = json.loads(line)\n",
    "            labelDict[jsonline['id']] = 1 if jsonline['value'] else 0\n",
    "        \n",
    "    return labelDict"
   ]
  },
  {
   "cell_type": "code",
   "execution_count": 8,
   "metadata": {},
   "outputs": [],
   "source": [
    "labels = dict()\n",
    "labels = loadLabels('pan22-authorship-verification-training-dataset/particiones/train_truth.jsonl',labels)\n",
    "labels = loadLabels('pan22-authorship-verification-training-dataset/particiones/val_truth.jsonl',labels)"
   ]
  },
  {
   "cell_type": "code",
   "execution_count": 9,
   "metadata": {},
   "outputs": [
    {
     "name": "stdout",
     "output_type": "stream",
     "text": [
      "Instances: 16486.0\n",
      "Labels:  16486\n"
     ]
    }
   ],
   "source": [
    "print(\"Instances: {}\".format((train.shape[0] + val.shape[0])/2))\n",
    "print(\"Labels: \",len(labels))"
   ]
  },
  {
   "cell_type": "code",
   "execution_count": 10,
   "metadata": {},
   "outputs": [],
   "source": [
    "partition = {'train': train.id.unique().tolist(), 'validation': val.id.unique().tolist()}"
   ]
  },
  {
   "cell_type": "code",
   "execution_count": 11,
   "metadata": {},
   "outputs": [
    {
     "name": "stdout",
     "output_type": "stream",
     "text": [
      "Train:  15732\n",
      "Validation:  754\n",
      "Total:  16486\n"
     ]
    }
   ],
   "source": [
    "print(\"Train: \", len(partition['train']))\n",
    "print(\"Validation: \", len(partition['validation']))\n",
    "print(\"Total: \", len(partition['train'])+len(partition['validation']))"
   ]
  },
  {
   "cell_type": "markdown",
   "metadata": {},
   "source": [
    "### Definición de la arquitectura del modelo"
   ]
  },
  {
   "cell_type": "code",
   "execution_count": 12,
   "metadata": {},
   "outputs": [],
   "source": [
    "# Modelo de red siamesa utilizando una red residual y un perceptron multicapa SIN CAPAS CUSTOM\n",
    "\n",
    "def setModel():\n",
    "    x1 = tf.keras.Input(shape=(800,), name=\"input_1\")\n",
    "    x2 = tf.keras.Input(shape=(800,), name=\"input_2\")\n",
    "\n",
    "    merge = x1-x2\n",
    "\n",
    "    # MLPNN Classifier\n",
    "    hidden1 = tf.keras.layers.Dense(600, activation='relu',kernel_regularizer='l2' , name=\"HiddenLayer1\")(merge)\n",
    "    dropout_layer1 = tf.keras.layers.Dropout(0.4, name=\"Dropout1\")(hidden1)\n",
    "    hidden2 = tf.keras.layers.Dense(300, activation='relu',kernel_regularizer='l2' , name=\"HiddenLayer2\")(dropout_layer1)\n",
    "    dropout_layer2 = tf.keras.layers.Dropout(0.4, name=\"Dropout2\")(hidden2)\n",
    "    output = tf.keras.layers.Dense(1, activation=\"sigmoid\", name=\"output_layer\")(dropout_layer2)\n",
    "\n",
    "    model = tf.keras.Model([x1, x2], output)\n",
    "    model.compile(loss = 'binary_crossentropy', optimizer = \"adam\", metrics=[\"binary_accuracy\"])\n",
    "\n",
    "    return model"
   ]
  },
  {
   "cell_type": "code",
   "execution_count": 13,
   "metadata": {},
   "outputs": [
    {
     "name": "stdout",
     "output_type": "stream",
     "text": [
      "Model: \"model\"\n",
      "__________________________________________________________________________________________________\n",
      " Layer (type)                   Output Shape         Param #     Connected to                     \n",
      "==================================================================================================\n",
      " input_1 (InputLayer)           [(None, 800)]        0           []                               \n",
      "                                                                                                  \n",
      " input_2 (InputLayer)           [(None, 800)]        0           []                               \n",
      "                                                                                                  \n",
      " tf.math.subtract (TFOpLambda)  (None, 800)          0           ['input_1[0][0]',                \n",
      "                                                                  'input_2[0][0]']                \n",
      "                                                                                                  \n",
      " HiddenLayer1 (Dense)           (None, 600)          480600      ['tf.math.subtract[0][0]']       \n",
      "                                                                                                  \n",
      " Dropout1 (Dropout)             (None, 600)          0           ['HiddenLayer1[0][0]']           \n",
      "                                                                                                  \n",
      " HiddenLayer2 (Dense)           (None, 300)          180300      ['Dropout1[0][0]']               \n",
      "                                                                                                  \n",
      " Dropout2 (Dropout)             (None, 300)          0           ['HiddenLayer2[0][0]']           \n",
      "                                                                                                  \n",
      " output_layer (Dense)           (None, 1)            301         ['Dropout2[0][0]']               \n",
      "                                                                                                  \n",
      "==================================================================================================\n",
      "Total params: 661,201\n",
      "Trainable params: 661,201\n",
      "Non-trainable params: 0\n",
      "__________________________________________________________________________________________________\n"
     ]
    },
    {
     "name": "stderr",
     "output_type": "stream",
     "text": [
      "2022-05-26 15:26:43.659112: I tensorflow/stream_executor/cuda/cuda_gpu_executor.cc:936] successful NUMA node read from SysFS had negative value (-1), but there must be at least one NUMA node, so returning NUMA node zero\n",
      "2022-05-26 15:26:43.680739: I tensorflow/stream_executor/cuda/cuda_gpu_executor.cc:936] successful NUMA node read from SysFS had negative value (-1), but there must be at least one NUMA node, so returning NUMA node zero\n",
      "2022-05-26 15:26:43.680859: I tensorflow/stream_executor/cuda/cuda_gpu_executor.cc:936] successful NUMA node read from SysFS had negative value (-1), but there must be at least one NUMA node, so returning NUMA node zero\n",
      "2022-05-26 15:26:43.681207: I tensorflow/core/platform/cpu_feature_guard.cc:151] This TensorFlow binary is optimized with oneAPI Deep Neural Network Library (oneDNN) to use the following CPU instructions in performance-critical operations:  AVX2 FMA\n",
      "To enable them in other operations, rebuild TensorFlow with the appropriate compiler flags.\n",
      "2022-05-26 15:26:43.682248: I tensorflow/stream_executor/cuda/cuda_gpu_executor.cc:936] successful NUMA node read from SysFS had negative value (-1), but there must be at least one NUMA node, so returning NUMA node zero\n",
      "2022-05-26 15:26:43.682342: I tensorflow/stream_executor/cuda/cuda_gpu_executor.cc:936] successful NUMA node read from SysFS had negative value (-1), but there must be at least one NUMA node, so returning NUMA node zero\n",
      "2022-05-26 15:26:43.682427: I tensorflow/stream_executor/cuda/cuda_gpu_executor.cc:936] successful NUMA node read from SysFS had negative value (-1), but there must be at least one NUMA node, so returning NUMA node zero\n",
      "2022-05-26 15:26:43.992010: I tensorflow/stream_executor/cuda/cuda_gpu_executor.cc:936] successful NUMA node read from SysFS had negative value (-1), but there must be at least one NUMA node, so returning NUMA node zero\n",
      "2022-05-26 15:26:43.992133: I tensorflow/stream_executor/cuda/cuda_gpu_executor.cc:936] successful NUMA node read from SysFS had negative value (-1), but there must be at least one NUMA node, so returning NUMA node zero\n",
      "2022-05-26 15:26:43.992219: I tensorflow/stream_executor/cuda/cuda_gpu_executor.cc:936] successful NUMA node read from SysFS had negative value (-1), but there must be at least one NUMA node, so returning NUMA node zero\n",
      "2022-05-26 15:26:43.992294: I tensorflow/core/common_runtime/gpu/gpu_device.cc:1525] Created device /job:localhost/replica:0/task:0/device:GPU:0 with 7379 MB memory:  -> device: 0, name: NVIDIA GeForce RTX 3080, pci bus id: 0000:01:00.0, compute capability: 8.6\n"
     ]
    }
   ],
   "source": [
    "model = setModel()\n",
    "model.summary()"
   ]
  },
  {
   "cell_type": "markdown",
   "metadata": {},
   "source": [
    "### Entrenamiento del modelo"
   ]
  },
  {
   "cell_type": "code",
   "execution_count": 14,
   "metadata": {},
   "outputs": [],
   "source": [
    "# Parameters\n",
    "params = {'dim': (800,),\n",
    "            'batch_size': 256,\n",
    "            'shuffle': True}"
   ]
  },
  {
   "cell_type": "code",
   "execution_count": 15,
   "metadata": {},
   "outputs": [],
   "source": [
    "# Generators\n",
    "training_generator = DataGenerator(partition['train'], train, labels, full_spectra, **params)\n",
    "validation_generator = DataGenerator(partition['validation'], val, labels, full_spectra, **params)"
   ]
  },
  {
   "cell_type": "code",
   "execution_count": 16,
   "metadata": {},
   "outputs": [
    {
     "name": "stderr",
     "output_type": "stream",
     "text": [
      "2022-05-26 15:26:44.160780: I tensorflow/stream_executor/cuda/cuda_gpu_executor.cc:936] successful NUMA node read from SysFS had negative value (-1), but there must be at least one NUMA node, so returning NUMA node zero\n"
     ]
    },
    {
     "data": {
      "text/plain": [
       "'/device:GPU:0'"
      ]
     },
     "execution_count": 16,
     "metadata": {},
     "output_type": "execute_result"
    },
    {
     "name": "stderr",
     "output_type": "stream",
     "text": [
      "2022-05-26 15:26:44.160923: I tensorflow/stream_executor/cuda/cuda_gpu_executor.cc:936] successful NUMA node read from SysFS had negative value (-1), but there must be at least one NUMA node, so returning NUMA node zero\n",
      "2022-05-26 15:26:44.161003: I tensorflow/stream_executor/cuda/cuda_gpu_executor.cc:936] successful NUMA node read from SysFS had negative value (-1), but there must be at least one NUMA node, so returning NUMA node zero\n",
      "2022-05-26 15:26:44.161116: I tensorflow/stream_executor/cuda/cuda_gpu_executor.cc:936] successful NUMA node read from SysFS had negative value (-1), but there must be at least one NUMA node, so returning NUMA node zero\n",
      "2022-05-26 15:26:44.161201: I tensorflow/stream_executor/cuda/cuda_gpu_executor.cc:936] successful NUMA node read from SysFS had negative value (-1), but there must be at least one NUMA node, so returning NUMA node zero\n",
      "2022-05-26 15:26:44.161260: I tensorflow/core/common_runtime/gpu/gpu_device.cc:1525] Created device /device:GPU:0 with 7379 MB memory:  -> device: 0, name: NVIDIA GeForce RTX 3080, pci bus id: 0000:01:00.0, compute capability: 8.6\n"
     ]
    }
   ],
   "source": [
    "tf.test.gpu_device_name()"
   ]
  },
  {
   "cell_type": "code",
   "execution_count": 17,
   "metadata": {},
   "outputs": [
    {
     "name": "stdout",
     "output_type": "stream",
     "text": [
      "Epoch 1/100\n",
      " 1/61 [..............................] - ETA: 1:22 - loss: 11.5684 - binary_accuracy: 0.4766"
     ]
    },
    {
     "name": "stderr",
     "output_type": "stream",
     "text": [
      "2022-05-26 15:26:46.115923: I tensorflow/stream_executor/cuda/cuda_blas.cc:1786] TensorFloat-32 will be used for the matrix multiplication. This will only be logged once.\n"
     ]
    },
    {
     "name": "stdout",
     "output_type": "stream",
     "text": [
      "61/61 [==============================] - 27s 424ms/step - loss: 4.2279 - binary_accuracy: 0.5396 - val_loss: 1.0420 - val_binary_accuracy: 0.5469\n",
      "Epoch 2/100\n",
      "61/61 [==============================] - 25s 418ms/step - loss: 0.7752 - binary_accuracy: 0.5494 - val_loss: 0.6999 - val_binary_accuracy: 0.5039\n",
      "Epoch 3/100\n",
      "61/61 [==============================] - 26s 423ms/step - loss: 0.6947 - binary_accuracy: 0.5469 - val_loss: 0.6949 - val_binary_accuracy: 0.5137\n",
      "Epoch 4/100\n",
      "61/61 [==============================] - 26s 426ms/step - loss: 0.6947 - binary_accuracy: 0.5478 - val_loss: 0.6940 - val_binary_accuracy: 0.5430\n",
      "Epoch 5/100\n",
      "61/61 [==============================] - 26s 424ms/step - loss: 0.6942 - binary_accuracy: 0.5533 - val_loss: 0.6929 - val_binary_accuracy: 0.5410\n",
      "Epoch 6/100\n",
      "61/61 [==============================] - 26s 419ms/step - loss: 0.6935 - binary_accuracy: 0.5578 - val_loss: 0.6950 - val_binary_accuracy: 0.5293\n",
      "Epoch 7/100\n",
      "61/61 [==============================] - 25s 415ms/step - loss: 0.6938 - binary_accuracy: 0.5629 - val_loss: 0.6995 - val_binary_accuracy: 0.5195\n",
      "Epoch 8/100\n",
      "61/61 [==============================] - 26s 420ms/step - loss: 0.6928 - binary_accuracy: 0.5697 - val_loss: 0.6962 - val_binary_accuracy: 0.5371\n",
      "Epoch 9/100\n",
      "61/61 [==============================] - 25s 416ms/step - loss: 0.6930 - binary_accuracy: 0.5699 - val_loss: 0.6995 - val_binary_accuracy: 0.5391\n",
      "Epoch 10/100\n",
      "61/61 [==============================] - 26s 422ms/step - loss: 0.6929 - binary_accuracy: 0.5662 - val_loss: 0.6952 - val_binary_accuracy: 0.5469\n",
      "Epoch 11/100\n",
      "61/61 [==============================] - 25s 415ms/step - loss: 0.6917 - binary_accuracy: 0.5711 - val_loss: 0.6950 - val_binary_accuracy: 0.5176\n",
      "Epoch 12/100\n",
      "61/61 [==============================] - 26s 421ms/step - loss: 0.6911 - binary_accuracy: 0.5649 - val_loss: 0.6959 - val_binary_accuracy: 0.5391\n",
      "Epoch 13/100\n",
      "61/61 [==============================] - 25s 414ms/step - loss: 0.6917 - binary_accuracy: 0.5704 - val_loss: 0.6922 - val_binary_accuracy: 0.5605\n",
      "Epoch 14/100\n",
      "61/61 [==============================] - 25s 417ms/step - loss: 0.6896 - binary_accuracy: 0.5742 - val_loss: 0.6950 - val_binary_accuracy: 0.5449\n",
      "Epoch 15/100\n",
      "61/61 [==============================] - 25s 416ms/step - loss: 0.6901 - binary_accuracy: 0.5731 - val_loss: 0.6964 - val_binary_accuracy: 0.5312\n",
      "Epoch 16/100\n",
      "61/61 [==============================] - 26s 418ms/step - loss: 0.6907 - binary_accuracy: 0.5710 - val_loss: 0.7022 - val_binary_accuracy: 0.5137\n",
      "Epoch 17/100\n",
      "61/61 [==============================] - 25s 417ms/step - loss: 0.6896 - binary_accuracy: 0.5696 - val_loss: 0.6955 - val_binary_accuracy: 0.5352\n",
      "Epoch 18/100\n",
      "61/61 [==============================] - 25s 411ms/step - loss: 0.6889 - binary_accuracy: 0.5781 - val_loss: 0.6911 - val_binary_accuracy: 0.5312\n",
      "Epoch 19/100\n",
      "61/61 [==============================] - 25s 409ms/step - loss: 0.6890 - binary_accuracy: 0.5767 - val_loss: 0.6949 - val_binary_accuracy: 0.5449\n",
      "Epoch 20/100\n",
      "61/61 [==============================] - 25s 403ms/step - loss: 0.6886 - binary_accuracy: 0.5738 - val_loss: 0.6963 - val_binary_accuracy: 0.5371\n",
      "Epoch 21/100\n",
      "61/61 [==============================] - 25s 402ms/step - loss: 0.6877 - binary_accuracy: 0.5763 - val_loss: 0.6938 - val_binary_accuracy: 0.5371\n",
      "Epoch 22/100\n",
      "61/61 [==============================] - 25s 403ms/step - loss: 0.6882 - binary_accuracy: 0.5775 - val_loss: 0.6942 - val_binary_accuracy: 0.5410\n",
      "Epoch 23/100\n",
      "61/61 [==============================] - 25s 403ms/step - loss: 0.6887 - binary_accuracy: 0.5742 - val_loss: 0.6958 - val_binary_accuracy: 0.5391\n",
      "Epoch 24/100\n",
      "61/61 [==============================] - 25s 402ms/step - loss: 0.6878 - binary_accuracy: 0.5764 - val_loss: 0.7006 - val_binary_accuracy: 0.5469\n",
      "Epoch 25/100\n",
      "61/61 [==============================] - 25s 403ms/step - loss: 0.6873 - binary_accuracy: 0.5802 - val_loss: 0.6988 - val_binary_accuracy: 0.5371\n",
      "Epoch 26/100\n",
      "61/61 [==============================] - 26s 419ms/step - loss: 0.6878 - binary_accuracy: 0.5800 - val_loss: 0.6957 - val_binary_accuracy: 0.5391\n",
      "Epoch 27/100\n",
      "61/61 [==============================] - 26s 420ms/step - loss: 0.6888 - binary_accuracy: 0.5779 - val_loss: 0.6990 - val_binary_accuracy: 0.5254\n",
      "Epoch 28/100\n",
      "61/61 [==============================] - 25s 415ms/step - loss: 0.6885 - binary_accuracy: 0.5795 - val_loss: 0.6934 - val_binary_accuracy: 0.5742\n",
      "Epoch 29/100\n",
      "61/61 [==============================] - 25s 415ms/step - loss: 0.6890 - binary_accuracy: 0.5718 - val_loss: 0.6926 - val_binary_accuracy: 0.5684\n",
      "Epoch 30/100\n",
      "61/61 [==============================] - 25s 418ms/step - loss: 0.6869 - binary_accuracy: 0.5785 - val_loss: 0.6975 - val_binary_accuracy: 0.5137\n",
      "Epoch 31/100\n",
      "61/61 [==============================] - 26s 419ms/step - loss: 0.6885 - binary_accuracy: 0.5797 - val_loss: 0.6912 - val_binary_accuracy: 0.5195\n",
      "Epoch 32/100\n",
      "61/61 [==============================] - 25s 417ms/step - loss: 0.6866 - binary_accuracy: 0.5826 - val_loss: 0.7042 - val_binary_accuracy: 0.5469\n",
      "Epoch 33/100\n",
      "61/61 [==============================] - 26s 419ms/step - loss: 0.6868 - binary_accuracy: 0.5820 - val_loss: 0.7008 - val_binary_accuracy: 0.5273\n",
      "Epoch 34/100\n",
      "61/61 [==============================] - 26s 418ms/step - loss: 0.6870 - binary_accuracy: 0.5792 - val_loss: 0.6910 - val_binary_accuracy: 0.5410\n",
      "Epoch 35/100\n",
      "61/61 [==============================] - 26s 418ms/step - loss: 0.6857 - binary_accuracy: 0.5834 - val_loss: 0.7005 - val_binary_accuracy: 0.5039\n",
      "Epoch 36/100\n",
      "61/61 [==============================] - 26s 421ms/step - loss: 0.6857 - binary_accuracy: 0.5819 - val_loss: 0.6916 - val_binary_accuracy: 0.5449\n",
      "Epoch 37/100\n",
      "61/61 [==============================] - 26s 421ms/step - loss: 0.6853 - binary_accuracy: 0.5817 - val_loss: 0.6910 - val_binary_accuracy: 0.5449\n",
      "Epoch 38/100\n",
      "61/61 [==============================] - 25s 415ms/step - loss: 0.6859 - binary_accuracy: 0.5800 - val_loss: 0.6942 - val_binary_accuracy: 0.5547\n",
      "Epoch 39/100\n",
      "61/61 [==============================] - 25s 418ms/step - loss: 0.6853 - binary_accuracy: 0.5834 - val_loss: 0.6950 - val_binary_accuracy: 0.5078\n",
      "Epoch 40/100\n",
      "61/61 [==============================] - 26s 421ms/step - loss: 0.6866 - binary_accuracy: 0.5811 - val_loss: 0.6951 - val_binary_accuracy: 0.5137\n",
      "Epoch 41/100\n",
      "61/61 [==============================] - 26s 420ms/step - loss: 0.6849 - binary_accuracy: 0.5816 - val_loss: 0.7000 - val_binary_accuracy: 0.5195\n",
      "Epoch 42/100\n",
      "61/61 [==============================] - 26s 422ms/step - loss: 0.6868 - binary_accuracy: 0.5817 - val_loss: 0.6921 - val_binary_accuracy: 0.5352\n",
      "Epoch 43/100\n",
      "61/61 [==============================] - 26s 420ms/step - loss: 0.6871 - binary_accuracy: 0.5760 - val_loss: 0.6952 - val_binary_accuracy: 0.5195\n",
      "Epoch 44/100\n",
      "61/61 [==============================] - 26s 421ms/step - loss: 0.6863 - binary_accuracy: 0.5812 - val_loss: 0.6920 - val_binary_accuracy: 0.5352\n",
      "Epoch 45/100\n",
      "61/61 [==============================] - 25s 412ms/step - loss: 0.6854 - binary_accuracy: 0.5816 - val_loss: 0.6937 - val_binary_accuracy: 0.5117\n",
      "Epoch 46/100\n",
      "61/61 [==============================] - 25s 403ms/step - loss: 0.6841 - binary_accuracy: 0.5850 - val_loss: 0.6976 - val_binary_accuracy: 0.4883\n",
      "Epoch 47/100\n",
      "61/61 [==============================] - 24s 401ms/step - loss: 0.6853 - binary_accuracy: 0.5819 - val_loss: 0.6926 - val_binary_accuracy: 0.5605\n",
      "Epoch 48/100\n",
      "61/61 [==============================] - 25s 411ms/step - loss: 0.6855 - binary_accuracy: 0.5835 - val_loss: 0.6931 - val_binary_accuracy: 0.5645\n",
      "Epoch 49/100\n",
      "61/61 [==============================] - 25s 404ms/step - loss: 0.6833 - binary_accuracy: 0.5861 - val_loss: 0.6932 - val_binary_accuracy: 0.5293\n",
      "Epoch 50/100\n",
      "61/61 [==============================] - 25s 404ms/step - loss: 0.6838 - binary_accuracy: 0.5853 - val_loss: 0.6996 - val_binary_accuracy: 0.5215\n",
      "Epoch 51/100\n",
      "61/61 [==============================] - 26s 419ms/step - loss: 0.6832 - binary_accuracy: 0.5866 - val_loss: 0.6990 - val_binary_accuracy: 0.5234\n",
      "Epoch 52/100\n",
      "61/61 [==============================] - 26s 420ms/step - loss: 0.6846 - binary_accuracy: 0.5823 - val_loss: 0.6994 - val_binary_accuracy: 0.5215\n",
      "Epoch 53/100\n",
      "61/61 [==============================] - 25s 415ms/step - loss: 0.6855 - binary_accuracy: 0.5839 - val_loss: 0.6932 - val_binary_accuracy: 0.5508\n",
      "Epoch 54/100\n",
      "61/61 [==============================] - 26s 420ms/step - loss: 0.6823 - binary_accuracy: 0.5877 - val_loss: 0.6950 - val_binary_accuracy: 0.5332\n",
      "Epoch 55/100\n",
      "61/61 [==============================] - 26s 418ms/step - loss: 0.6843 - binary_accuracy: 0.5881 - val_loss: 0.7001 - val_binary_accuracy: 0.5508\n",
      "Epoch 56/100\n",
      "61/61 [==============================] - 25s 416ms/step - loss: 0.6848 - binary_accuracy: 0.5809 - val_loss: 0.6968 - val_binary_accuracy: 0.5215\n",
      "Epoch 57/100\n",
      "61/61 [==============================] - 26s 419ms/step - loss: 0.6853 - binary_accuracy: 0.5806 - val_loss: 0.6971 - val_binary_accuracy: 0.5566\n",
      "Epoch 58/100\n",
      "61/61 [==============================] - 25s 417ms/step - loss: 0.6835 - binary_accuracy: 0.5838 - val_loss: 0.6965 - val_binary_accuracy: 0.5312\n",
      "Epoch 59/100\n",
      "61/61 [==============================] - 26s 419ms/step - loss: 0.6834 - binary_accuracy: 0.5859 - val_loss: 0.6938 - val_binary_accuracy: 0.5488\n",
      "Entrnamiento completado\n"
     ]
    }
   ],
   "source": [
    "# Train model on dataset\n",
    "with tf.device('/device:GPU:0'):\n",
    "    model = setModel()\n",
    "    callback = tf.keras.callbacks.EarlyStopping(monitor='loss', patience=5)\n",
    "    history = model.fit(x=training_generator,\n",
    "                        validation_data=validation_generator,\n",
    "                        callbacks=[callback],\n",
    "                        # use_multiprocessing=True,\n",
    "                        # workers=4,\n",
    "                        epochs=100,\n",
    "                        verbose=1)\n",
    "print(\"Entrnamiento completado\")"
   ]
  },
  {
   "cell_type": "code",
   "execution_count": 18,
   "metadata": {},
   "outputs": [
    {
     "name": "stderr",
     "output_type": "stream",
     "text": [
      "2022-05-26 15:51:42.201468: W tensorflow/python/util/util.cc:368] Sets are not currently considered sequences, but this may change in the future, so consider avoiding using them.\n"
     ]
    },
    {
     "name": "stdout",
     "output_type": "stream",
     "text": [
      "INFO:tensorflow:Assets written to: models/ClassifierModel-v16/assets\n"
     ]
    }
   ],
   "source": [
    "model.save('models/ClassifierModel-v16')"
   ]
  },
  {
   "cell_type": "markdown",
   "metadata": {},
   "source": [
    "### Resultados del entrenamiento"
   ]
  },
  {
   "cell_type": "code",
   "execution_count": 19,
   "metadata": {},
   "outputs": [],
   "source": [
    "import matplotlib.pyplot as plt\n",
    "import seaborn as sns\n",
    "sns.set_theme(style=\"darkgrid\")"
   ]
  },
  {
   "cell_type": "code",
   "execution_count": 20,
   "metadata": {},
   "outputs": [
    {
     "data": {
      "text/plain": [
       "dict_keys(['loss', 'binary_accuracy', 'val_loss', 'val_binary_accuracy'])"
      ]
     },
     "execution_count": 20,
     "metadata": {},
     "output_type": "execute_result"
    }
   ],
   "source": [
    "history.history.keys()"
   ]
  },
  {
   "cell_type": "code",
   "execution_count": 21,
   "metadata": {},
   "outputs": [],
   "source": [
    "acc = pd.DataFrame({'accuracy':history.history['binary_accuracy'], 'type':'train'}).reset_index().rename(columns={'index':'epoch'})\n",
    "acc = pd.concat([acc, pd.DataFrame({'accuracy':history.history['val_binary_accuracy'], 'type':'val'}).reset_index().rename(columns={'index':'epoch'})]).reset_index(drop=True)\n",
    "loss = pd.DataFrame({'loss':history.history['loss'], 'type':'train'}).reset_index().rename(columns={'index':'epoch'})\n",
    "loss = pd.concat([loss, pd.DataFrame({'loss':history.history['val_loss'], 'type':'val'}).reset_index().rename(columns={'index':'epoch'})]).reset_index(drop=True)"
   ]
  },
  {
   "cell_type": "code",
   "execution_count": 22,
   "metadata": {},
   "outputs": [
    {
     "data": {
      "image/png": "[encoded data removed]",
      "text/plain": [
       "<Figure size 1080x360 with 2 Axes>"
      ]
     },
     "metadata": {},
     "output_type": "display_data"
    }
   ],
   "source": [
    "fig, ax = plt.subplots(nrows=1, ncols=2, figsize=(15,5))\n",
    "sns.lineplot(x='epoch', y='accuracy', data=acc, hue='type', ax=ax[0])\n",
    "sns.lineplot(x='epoch', y='loss', data=loss, hue='type', ax=ax[1])\n",
    "fig.suptitle(\"Modelo v4\")\n",
    "plt.show()"
   ]
  },
  {
   "cell_type": "code",
   "execution_count": 23,
   "metadata": {},
   "outputs": [
    {
     "data": {
      "text/html": [
       "<div>\n",
       "<style scoped>\n",
       "    .dataframe tbody tr th:only-of-type {\n",
       "        vertical-align: middle;\n",
       "    }\n",
       "\n",
       "    .dataframe tbody tr th {\n",
       "        vertical-align: top;\n",
       "    }\n",
       "\n",
       "    .dataframe thead th {\n",
       "        text-align: right;\n",
       "    }\n",
       "</style>\n",
       "<table border=\"1\" class=\"dataframe\">\n",
       "  <thead>\n",
       "    <tr style=\"text-align: right;\">\n",
       "      <th></th>\n",
       "      <th>epoch</th>\n",
       "      <th>accuracy</th>\n",
       "      <th>type</th>\n",
       "    </tr>\n",
       "  </thead>\n",
       "  <tbody>\n",
       "    <tr>\n",
       "      <th>58</th>\n",
       "      <td>58</td>\n",
       "      <td>0.585873</td>\n",
       "      <td>train</td>\n",
       "    </tr>\n",
       "    <tr>\n",
       "      <th>117</th>\n",
       "      <td>58</td>\n",
       "      <td>0.548828</td>\n",
       "      <td>val</td>\n",
       "    </tr>\n",
       "  </tbody>\n",
       "</table>\n",
       "</div>"
      ],
      "text/plain": [
       "     epoch  accuracy   type\n",
       "58      58  0.585873  train\n",
       "117     58  0.548828    val"
      ]
     },
     "execution_count": 23,
     "metadata": {},
     "output_type": "execute_result"
    }
   ],
   "source": [
    "acc.loc[acc.epoch == acc.epoch.max()]"
   ]
  },
  {
   "cell_type": "code",
   "execution_count": 24,
   "metadata": {},
   "outputs": [
    {
     "data": {
      "text/html": [
       "<div>\n",
       "<style scoped>\n",
       "    .dataframe tbody tr th:only-of-type {\n",
       "        vertical-align: middle;\n",
       "    }\n",
       "\n",
       "    .dataframe tbody tr th {\n",
       "        vertical-align: top;\n",
       "    }\n",
       "\n",
       "    .dataframe thead th {\n",
       "        text-align: right;\n",
       "    }\n",
       "</style>\n",
       "<table border=\"1\" class=\"dataframe\">\n",
       "  <thead>\n",
       "    <tr style=\"text-align: right;\">\n",
       "      <th></th>\n",
       "      <th>epoch</th>\n",
       "      <th>loss</th>\n",
       "      <th>type</th>\n",
       "    </tr>\n",
       "  </thead>\n",
       "  <tbody>\n",
       "    <tr>\n",
       "      <th>58</th>\n",
       "      <td>58</td>\n",
       "      <td>0.683355</td>\n",
       "      <td>train</td>\n",
       "    </tr>\n",
       "    <tr>\n",
       "      <th>117</th>\n",
       "      <td>58</td>\n",
       "      <td>0.693826</td>\n",
       "      <td>val</td>\n",
       "    </tr>\n",
       "  </tbody>\n",
       "</table>\n",
       "</div>"
      ],
      "text/plain": [
       "     epoch      loss   type\n",
       "58      58  0.683355  train\n",
       "117     58  0.693826    val"
      ]
     },
     "execution_count": 24,
     "metadata": {},
     "output_type": "execute_result"
    }
   ],
   "source": [
    "loss.loc[loss.epoch == loss.epoch.max()]"
   ]
  },
  {
   "cell_type": "markdown",
   "metadata": {},
   "source": [
    "### Evaluación de datos de prueba"
   ]
  },
  {
   "cell_type": "code",
   "execution_count": 1,
   "metadata": {},
   "outputs": [
    {
     "name": "stdout",
     "output_type": "stream",
     "text": [
      "[nltk_data] Downloading package punkt to /home/melesio/nltk_data...\n",
      "[nltk_data]   Package punkt is already up-to-date!\n",
      "[nltk_data] Downloading package stopwords to\n",
      "[nltk_data]     /home/melesio/nltk_data...\n",
      "[nltk_data]   Package stopwords is already up-to-date!\n",
      "[nltk_data] Downloading package wordnet to /home/melesio/nltk_data...\n",
      "[nltk_data]   Package wordnet is already up-to-date!\n",
      "[nltk_data] Downloading package omw-1.4 to /home/melesio/nltk_data...\n",
      "[nltk_data]   Package omw-1.4 is already up-to-date!\n",
      "[nltk_data] Downloading package averaged_perceptron_tagger to\n",
      "[nltk_data]     /home/melesio/nltk_data...\n",
      "[nltk_data]   Package averaged_perceptron_tagger is already up-to-\n",
      "[nltk_data]       date!\n",
      "Leyendo archivo de configuracion\n",
      "Inicia la transformacion de texto\n",
      "Creando diccionario de documentos unicos\n",
      "Realizando preprocesamiento\n",
      "Etapa de pre-procesmiento\n",
      "Extrayendo vectores de caracteristicas\n",
      "Etapa de extraccion de caracteristicas\n",
      "Extraccion de vectores lexicos\n",
      "Realizando vectorizacion\n",
      "Guardando resultadosto 79\n",
      "Extraccion de vectores sintacticos\n",
      "Realizando vectorizacion\n",
      "Guardando resultados\n",
      "Extraccion de vectores semanticos\n",
      "Realizando vectorizacion\n",
      "Guardando resultados\n",
      "Obteniendo espectros de contenido\n",
      "Etapa de unificacion del espacio\n",
      "/home/melesio/Documentos/SpectralTextRepresentation/minisom/minisom.py:167: UserWarning: Warning: sigma is too high for the dimension of the map.\n",
      "  warn('Warning: sigma is too high for the dimension of the map.')\n",
      "Leyendo vectores lexicos\n",
      "Obteninendo espectros\n",
      "Leyendo vectores sintacticos\n",
      "Obteninendo espectros\n",
      "Leyendo vectores semanticos\n",
      "Obteninendo espectros\n",
      "Consolidando capas\n",
      "Etapa de consolidacion de capas\n",
      "Información guardada\n",
      "Ensamble terminado\n",
      "Cargando modelo\n",
      "2022-05-26 15:53:18.288110: I tensorflow/stream_executor/cuda/cuda_gpu_executor.cc:936] successful NUMA node read from SysFS had negative value (-1), but there must be at least one NUMA node, so returning NUMA node zero\n",
      "2022-05-26 15:53:18.309733: I tensorflow/stream_executor/cuda/cuda_gpu_executor.cc:936] successful NUMA node read from SysFS had negative value (-1), but there must be at least one NUMA node, so returning NUMA node zero\n",
      "2022-05-26 15:53:18.309857: I tensorflow/stream_executor/cuda/cuda_gpu_executor.cc:936] successful NUMA node read from SysFS had negative value (-1), but there must be at least one NUMA node, so returning NUMA node zero\n",
      "2022-05-26 15:53:18.310122: I tensorflow/core/platform/cpu_feature_guard.cc:151] This TensorFlow binary is optimized with oneAPI Deep Neural Network Library (oneDNN) to use the following CPU instructions in performance-critical operations:  AVX2 FMA\n",
      "To enable them in other operations, rebuild TensorFlow with the appropriate compiler flags.\n",
      "2022-05-26 15:53:18.310840: I tensorflow/stream_executor/cuda/cuda_gpu_executor.cc:936] successful NUMA node read from SysFS had negative value (-1), but there must be at least one NUMA node, so returning NUMA node zero\n",
      "2022-05-26 15:53:18.310945: I tensorflow/stream_executor/cuda/cuda_gpu_executor.cc:936] successful NUMA node read from SysFS had negative value (-1), but there must be at least one NUMA node, so returning NUMA node zero\n",
      "2022-05-26 15:53:18.311031: I tensorflow/stream_executor/cuda/cuda_gpu_executor.cc:936] successful NUMA node read from SysFS had negative value (-1), but there must be at least one NUMA node, so returning NUMA node zero\n",
      "2022-05-26 15:53:18.620124: I tensorflow/stream_executor/cuda/cuda_gpu_executor.cc:936] successful NUMA node read from SysFS had negative value (-1), but there must be at least one NUMA node, so returning NUMA node zero\n",
      "2022-05-26 15:53:18.620311: I tensorflow/stream_executor/cuda/cuda_gpu_executor.cc:936] successful NUMA node read from SysFS had negative value (-1), but there must be at least one NUMA node, so returning NUMA node zero\n",
      "2022-05-26 15:53:18.620411: I tensorflow/stream_executor/cuda/cuda_gpu_executor.cc:936] successful NUMA node read from SysFS had negative value (-1), but there must be at least one NUMA node, so returning NUMA node zero\n",
      "2022-05-26 15:53:18.620494: I tensorflow/core/common_runtime/gpu/gpu_device.cc:1525] Created device /job:localhost/replica:0/task:0/device:GPU:0 with 7759 MB memory:  -> device: 0, name: NVIDIA GeForce RTX 3080, pci bus id: 0000:01:00.0, compute capability: 8.6\n",
      "Realizando predicciones\n",
      "2022-05-26 15:53:19.567661: I tensorflow/stream_executor/cuda/cuda_blas.cc:1786] TensorFloat-32 will be used for the matrix multiplication. This will only be logged once.\n"
     ]
    }
   ],
   "source": [
    "!python PredictionsTest.py -i testinput -o testoutput/v16"
   ]
  },
  {
   "cell_type": "code",
   "execution_count": 2,
   "metadata": {},
   "outputs": [
    {
     "name": "stdout",
     "output_type": "stream",
     "text": [
      "-> 1070 problems in ground truth\n",
      "-> 1070 solutions explicitly proposed\n",
      "{'auc': 0.512, 'c@1': 0.509, 'f_05_u': 0.471, 'F1': 0.42, 'brier': 0.744, 'overall': 0.531}\n"
     ]
    }
   ],
   "source": [
    "!python pan22_verif_evaluator.py -i testinput -a testoutput/v16 -o testoutput/v16"
   ]
  }
 ],
 "metadata": {
  "interpreter": {
   "hash": "34185cc76f1746f7da7738a8f19ab6509177ea129d1668aef168b7e0e18c804f"
  },
  "kernelspec": {
   "display_name": "Python 3.9.12 ('base')",
   "language": "python",
   "name": "python3"
  },
  "language_info": {
   "codemirror_mode": {
    "name": "ipython",
    "version": 3
   },
   "file_extension": ".py",
   "mimetype": "text/x-python",
   "name": "python",
   "nbconvert_exporter": "python",
   "pygments_lexer": "ipython3",
   "version": "3.9.12"
  },
  "orig_nbformat": 4
 },
 "nbformat": 4,
 "nbformat_minor": 2
}
