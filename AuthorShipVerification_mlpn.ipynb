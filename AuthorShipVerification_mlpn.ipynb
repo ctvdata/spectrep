{
 "cells": [
  {
   "cell_type": "code",
   "execution_count": 1,
   "metadata": {},
   "outputs": [],
   "source": [
    "import numpy as np\n",
    "import pandas as pd\n",
    "import tensorflow as tf\n",
    "import json\n",
    "from myGenerator import DataGenerator"
   ]
  },
  {
   "cell_type": "markdown",
   "metadata": {},
   "source": [
    "### Carga de datos"
   ]
  },
  {
   "cell_type": "code",
   "execution_count": 3,
   "metadata": {},
   "outputs": [],
   "source": [
    "train = pd.read_pickle(\"pan22-authorship-verification-training-dataset/particionesXid/PanTrain.plk\")\n",
    "val = pd.read_pickle(\"pan22-authorship-verification-training-dataset/particionesXid/PanVal.plk\")\n",
    "test = pd.read_pickle(\"pan22-authorship-verification-training-dataset/particionesXid/PanTest.plk\")\n",
    "docDict = pd.read_pickle(\"pan22-authorship-verification-training-dataset/particionesXid/UniquePanDocs.plk\")"
   ]
  },
  {
   "cell_type": "code",
   "execution_count": 4,
   "metadata": {},
   "outputs": [],
   "source": [
    "def spectraLoader(inputPath: str) -> pd.DataFrame:\n",
    "    df = pd.DataFrame()\n",
    "    with open(inputPath, encoding='utf-8') as f:\n",
    "        for line in f:\n",
    "            jsonline = json.loads(line)\n",
    "            lineDf = pd.DataFrame({'id':jsonline['id'], 'spectra':[np.array(jsonline['spectra'])]})\n",
    "            df = pd.concat([df, lineDf])\n",
    "    df = df.reset_index(drop=True)\n",
    "\n",
    "    return df"
   ]
  },
  {
   "cell_type": "code",
   "execution_count": 5,
   "metadata": {},
   "outputs": [],
   "source": [
    "full_spectra = spectraLoader(\"pan22-authorship-verification-training-dataset/particionesXid/FullSpectra.jsonl\")"
   ]
  },
  {
   "cell_type": "code",
   "execution_count": 6,
   "metadata": {},
   "outputs": [],
   "source": [
    "def loadLabels(inputPath:str, labelDict:dict) -> dict:\n",
    "    with open(inputPath, encoding='utf-8') as f:\n",
    "        for line in f:\n",
    "            jsonline = json.loads(line)\n",
    "            labelDict[jsonline['id']] = 1 if jsonline['value'] else 0\n",
    "        \n",
    "    return labelDict"
   ]
  },
  {
   "cell_type": "code",
   "execution_count": 7,
   "metadata": {},
   "outputs": [],
   "source": [
    "labels = dict()\n",
    "labels = loadLabels('pan22-authorship-verification-training-dataset/particiones/train_truth.jsonl',labels)\n",
    "labels = loadLabels('pan22-authorship-verification-training-dataset/particiones/val_truth.jsonl',labels)"
   ]
  },
  {
   "cell_type": "code",
   "execution_count": 8,
   "metadata": {},
   "outputs": [
    {
     "name": "stdout",
     "output_type": "stream",
     "text": [
      "Instances: 16486.0\n",
      "Labels:  16486\n"
     ]
    }
   ],
   "source": [
    "print(\"Instances: {}\".format((train.shape[0] + val.shape[0])/2))\n",
    "print(\"Labels: \",len(labels))"
   ]
  },
  {
   "cell_type": "code",
   "execution_count": 9,
   "metadata": {},
   "outputs": [
    {
     "data": {
      "text/plain": [
       "0"
      ]
     },
     "execution_count": 9,
     "metadata": {},
     "output_type": "execute_result"
    }
   ],
   "source": [
    "labels[\"a09fdc6b-ed15-48c5-9d2e-572f989b9b4500000\"]"
   ]
  },
  {
   "cell_type": "code",
   "execution_count": 10,
   "metadata": {},
   "outputs": [],
   "source": [
    "partition = {'train': train.id.unique().tolist(), 'validation': val.id.unique().tolist()}"
   ]
  },
  {
   "cell_type": "code",
   "execution_count": 11,
   "metadata": {},
   "outputs": [
    {
     "name": "stdout",
     "output_type": "stream",
     "text": [
      "Train:  15732\n",
      "Validation:  754\n",
      "Total:  16486\n"
     ]
    }
   ],
   "source": [
    "print(\"Train: \", len(partition['train']))\n",
    "print(\"Validation: \", len(partition['validation']))\n",
    "print(\"Total: \", len(partition['train'])+len(partition['validation']))"
   ]
  },
  {
   "cell_type": "code",
   "execution_count": 12,
   "metadata": {},
   "outputs": [
    {
     "data": {
      "text/plain": [
       "0    [[[24.29242515563965, 16.52275276184082, 15.91...\n",
       "1    [[[33.50175476074219, 19.5318546295166, 18.490...\n",
       "Name: spectra, dtype: object"
      ]
     },
     "execution_count": 12,
     "metadata": {},
     "output_type": "execute_result"
    }
   ],
   "source": [
    "train.loc[train.id == '3bceab9e-aebe-4ccd-8fa5-63f6a741b33404268'].merge(full_spectra, left_on='idtext', right_on='id').spectra\n"
   ]
  },
  {
   "cell_type": "markdown",
   "metadata": {},
   "source": [
    "### Definición de la arquitectura de red siamesa"
   ]
  },
  {
   "cell_type": "code",
   "execution_count": 13,
   "metadata": {},
   "outputs": [],
   "source": [
    "# Modelo de red siamesa utilizando una red residual y un perceptron multicapa\n",
    "\n",
    "x1 = tf.keras.Input(shape=(1200,), name=\"Input_1\")\n",
    "x2 = tf.keras.Input(shape=(1200,), name=\"Input_2\")\n",
    "\n",
    "# Batch normalization\n",
    "bn_layer = tf.keras.layers.BatchNormalization(name=\"Batch_normalization\")\n",
    "x1 = bn_layer(x1)\n",
    "x2 = bn_layer(x2)\n",
    "\n",
    "# Gaussian noise\n",
    "gaussian_noise_layer = tf.keras.layers.GaussianNoise(1.0, name=\"Gaussian_noise\")\n",
    "x1 = gaussian_noise_layer(x1)\n",
    "x2 = gaussian_noise_layer(x2)\n",
    "\n",
    "# Dropout\n",
    "dropout_layer = tf.keras.layers.Dropout(0.4, name=\"Dropout_1\")\n",
    "x1 = dropout_layer(x1)\n",
    "x2 = dropout_layer(x2)\n",
    "\n",
    "# Residual network\n",
    "\n",
    "substract = lambda x: x[0] - x[1]\n",
    "residual = tf.keras.layers.Lambda(function=substract, output_shape=lambda x: x[0], name='residual')\n",
    "\n",
    "dense_layer_1 = tf.keras.layers.Dense(256, activation='relu', name=\"ResDense_1\")\n",
    "o1_1 = dense_layer_1(x1)\n",
    "o1_2 = dense_layer_1(x2)\n",
    "\n",
    "dense_layer_2 = tf.keras.layers.Dense(256, activation='relu', name=\"ResDense_2\")\n",
    "o2_1 = dense_layer_2(o1_1)\n",
    "o2_2 = dense_layer_2(o1_2)\n",
    "\n",
    "# Residual layer\n",
    "dense_layer_3 = tf.keras.layers.Dense(256, activation='relu', name=\"ResDense_3\")\n",
    "o3_1 = dense_layer_3(residual([o1_1, o2_1]))\n",
    "o3_2 = dense_layer_3(residual([o1_2, o2_2]))\n",
    "\n",
    "dense_layer_4 = tf.keras.layers.Dense(256, activation='relu', name=\"ResDense_4\")\n",
    "o4_1 = dense_layer_4(o3_1)\n",
    "o4_2 = dense_layer_4(o3_2)\n",
    "\n",
    "# Residual layer\n",
    "dense_layer_5 = tf.keras.layers.Dense(256, activation='relu', name=\"ResDense_5\")\n",
    "o5_1 = dense_layer_5(residual([o3_1, o4_1]))\n",
    "o5_2 = dense_layer_5(residual([o3_2, o4_2]))\n",
    "\n",
    "dense_layer_6 = tf.keras.layers.Dense(256, activation='relu', name=\"ResDense_6\")\n",
    "o6_1 = dense_layer_6(o5_1)\n",
    "o6_2 = dense_layer_6(o5_2)\n",
    "\n",
    "# Residual layer\n",
    "dense_layer_7 = tf.keras.layers.Dense(256, activation='relu', name=\"ResDense_7\")\n",
    "o7_1 = dense_layer_7(residual([o5_1, o6_1]))\n",
    "o7_2 = dense_layer_7(residual([o5_2, o6_2]))\n",
    "\n",
    "dense_layer_8 = tf.keras.layers.Dense(256, activation='relu', name=\"ResDense_8\")\n",
    "o8_1 = dense_layer_8(o7_1)\n",
    "o8_2 = dense_layer_8(o7_2)\n",
    "\n",
    "# Residual layer\n",
    "dense_layer_9 = tf.keras.layers.Dense(256, activation='relu', name=\"ResDense_9\")\n",
    "o9_1 = dense_layer_9(residual([o7_1, o8_1]))\n",
    "o9_2 = dense_layer_9(residual([o7_2, o8_2]))\n",
    "\n",
    "# Merging\n",
    "abs_substract = lambda x: tf.keras.backend.abs(x[0] - x[1])\n",
    "merge = tf.keras.layers.Lambda(function=abs_substract, output_shape=lambda x: x[0], name='merge')([o9_1,o9_2])\n",
    "\n",
    "# MLPNN Classifier\n",
    "hidden = tf.keras.layers.Dense(128, activation='relu', name=\"hidden_layer\")(merge)\n",
    "dropout_layer2 = tf.keras.layers.Dropout(0.4, name=\"Dropout_2\")(hidden)\n",
    "output = tf.keras.layers.Dense(1, activation=\"sigmoid\", name=\"output_layer\")(dropout_layer2)\n",
    "\n",
    "model = tf.keras.Model([x1, x2], output)\n",
    "model.compile(loss = 'binary_crossentropy', optimizer = \"adam\", metrics=[\"accuracy\"])"
   ]
  },
  {
   "cell_type": "code",
   "execution_count": 14,
   "metadata": {},
   "outputs": [
    {
     "name": "stdout",
     "output_type": "stream",
     "text": [
      "Model: \"model\"\n",
      "__________________________________________________________________________________________________\n",
      " Layer (type)                   Output Shape         Param #     Connected to                     \n",
      "==================================================================================================\n",
      " input_1 (InputLayer)           [(None, 1200)]       0           []                               \n",
      "                                                                                                  \n",
      " ResDense_1 (Dense)             (None, 256)          307456      ['input_1[0][0]',                \n",
      "                                                                  'input_2[0][0]']                \n",
      "                                                                                                  \n",
      " ResDense_2 (Dense)             (None, 256)          65792       ['ResDense_1[2][0]',             \n",
      "                                                                  'ResDense_1[3][0]']             \n",
      "                                                                                                  \n",
      " residual (Lambda)              (None, 256)          0           ['ResDense_7[2][0]',             \n",
      "                                                                  'ResDense_8[2][0]',             \n",
      "                                                                  'ResDense_7[3][0]',             \n",
      "                                                                  'ResDense_8[3][0]',             \n",
      "                                                                  'ResDense_5[2][0]',             \n",
      "                                                                  'ResDense_6[2][0]',             \n",
      "                                                                  'ResDense_5[3][0]',             \n",
      "                                                                  'ResDense_6[3][0]',             \n",
      "                                                                  'ResDense_3[2][0]',             \n",
      "                                                                  'ResDense_4[2][0]',             \n",
      "                                                                  'ResDense_3[3][0]',             \n",
      "                                                                  'ResDense_4[3][0]',             \n",
      "                                                                  'ResDense_1[2][0]',             \n",
      "                                                                  'ResDense_2[2][0]',             \n",
      "                                                                  'ResDense_1[3][0]',             \n",
      "                                                                  'ResDense_2[3][0]']             \n",
      "                                                                                                  \n",
      " ResDense_3 (Dense)             (None, 256)          65792       ['residual[14][0]',              \n",
      "                                                                  'residual[15][0]']              \n",
      "                                                                                                  \n",
      " ResDense_4 (Dense)             (None, 256)          65792       ['ResDense_3[2][0]',             \n",
      "                                                                  'ResDense_3[3][0]']             \n",
      "                                                                                                  \n",
      " ResDense_5 (Dense)             (None, 256)          65792       ['residual[12][0]',              \n",
      "                                                                  'residual[13][0]']              \n",
      "                                                                                                  \n",
      " ResDense_6 (Dense)             (None, 256)          65792       ['ResDense_5[2][0]',             \n",
      "                                                                  'ResDense_5[3][0]']             \n",
      "                                                                                                  \n",
      " input_2 (InputLayer)           [(None, 1200)]       0           []                               \n",
      "                                                                                                  \n",
      " ResDense_7 (Dense)             (None, 256)          65792       ['residual[10][0]',              \n",
      "                                                                  'residual[11][0]']              \n",
      "                                                                                                  \n",
      " ResDense_8 (Dense)             (None, 256)          65792       ['ResDense_7[2][0]',             \n",
      "                                                                  'ResDense_7[3][0]']             \n",
      "                                                                                                  \n",
      " ResDense_9 (Dense)             (None, 256)          65792       ['residual[8][0]',               \n",
      "                                                                  'residual[9][0]']               \n",
      "                                                                                                  \n",
      " merge (Lambda)                 (None, 256)          0           ['ResDense_9[2][0]',             \n",
      "                                                                  'ResDense_9[3][0]']             \n",
      "                                                                                                  \n",
      " hidden_layer (Dense)           (None, 128)          32896       ['merge[1][0]']                  \n",
      "                                                                                                  \n",
      " Dropout_2 (Dropout)            (None, 128)          0           ['hidden_layer[1][0]']           \n",
      "                                                                                                  \n",
      " output_layer (Dense)           (None, 1)            129         ['Dropout_2[1][0]']              \n",
      "                                                                                                  \n",
      "==================================================================================================\n",
      "Total params: 866,817\n",
      "Trainable params: 866,817\n",
      "Non-trainable params: 0\n",
      "__________________________________________________________________________________________________\n"
     ]
    }
   ],
   "source": [
    "model.summary()"
   ]
  },
  {
   "cell_type": "markdown",
   "metadata": {},
   "source": [
    "### Entrenamiento de red siamesa"
   ]
  },
  {
   "cell_type": "code",
   "execution_count": 15,
   "metadata": {},
   "outputs": [
    {
     "name": "stdout",
     "output_type": "stream",
     "text": [
      "train:  31464\n",
      "test:  1508\n"
     ]
    }
   ],
   "source": [
    "print(\"train: \", train.shape[0])\n",
    "print(\"test: \", val.shape[0])"
   ]
  },
  {
   "cell_type": "code",
   "execution_count": 16,
   "metadata": {},
   "outputs": [
    {
     "name": "stdout",
     "output_type": "stream",
     "text": [
      "train:  15732\n",
      "test:  754\n"
     ]
    }
   ],
   "source": [
    "print(\"train: \", train.id.unique().size)\n",
    "print(\"test: \", val.id.unique().size)"
   ]
  },
  {
   "cell_type": "code",
   "execution_count": 17,
   "metadata": {},
   "outputs": [],
   "source": [
    "# Parameters\n",
    "params = {'dim': (1200,),\n",
    "            'batch_size': 31,\n",
    "            'shuffle': False}"
   ]
  },
  {
   "cell_type": "code",
   "execution_count": 18,
   "metadata": {},
   "outputs": [],
   "source": [
    "# Generators\n",
    "training_generator = DataGenerator(partition['train'], train, labels, full_spectra, **params)\n",
    "validation_generator = DataGenerator(partition['train'], val, labels, full_spectra, **params)"
   ]
  },
  {
   "cell_type": "code",
   "execution_count": 19,
   "metadata": {},
   "outputs": [
    {
     "name": "stdout",
     "output_type": "stream",
     "text": [
      "Epoch 1/10\n",
      "506/507 [============================>.] - ETA: 0s - loss: 0.9738 - accuracy: 0.5244"
     ]
    },
    {
     "ename": "IndexError",
     "evalue": "index 0 is out of bounds for axis 0 with size 0",
     "output_type": "error",
     "traceback": [
      "\u001b[1;31m---------------------------------------------------------------------------\u001b[0m",
      "\u001b[1;31mIndexError\u001b[0m                                Traceback (most recent call last)",
      "\u001b[1;32mc:\\Users\\Melesio\\Documents\\SpectralTextRepresentation\\AuthorShipVerification_mlpn.ipynb Cell 21'\u001b[0m in \u001b[0;36m<cell line: 2>\u001b[1;34m()\u001b[0m\n\u001b[0;32m      <a href='vscode-notebook-cell:/c%3A/Users/Melesio/Documents/SpectralTextRepresentation/AuthorShipVerification_mlpn.ipynb#ch0000027?line=0'>1</a>\u001b[0m \u001b[39m# Train model on dataset\u001b[39;00m\n\u001b[1;32m----> <a href='vscode-notebook-cell:/c%3A/Users/Melesio/Documents/SpectralTextRepresentation/AuthorShipVerification_mlpn.ipynb#ch0000027?line=1'>2</a>\u001b[0m history \u001b[39m=\u001b[39m model\u001b[39m.\u001b[39;49mfit(x\u001b[39m=\u001b[39;49mtraining_generator,\n\u001b[0;32m      <a href='vscode-notebook-cell:/c%3A/Users/Melesio/Documents/SpectralTextRepresentation/AuthorShipVerification_mlpn.ipynb#ch0000027?line=2'>3</a>\u001b[0m                     validation_data\u001b[39m=\u001b[39;49mvalidation_generator,\n\u001b[0;32m      <a href='vscode-notebook-cell:/c%3A/Users/Melesio/Documents/SpectralTextRepresentation/AuthorShipVerification_mlpn.ipynb#ch0000027?line=3'>4</a>\u001b[0m                     use_multiprocessing\u001b[39m=\u001b[39;49m\u001b[39mTrue\u001b[39;49;00m,\n\u001b[0;32m      <a href='vscode-notebook-cell:/c%3A/Users/Melesio/Documents/SpectralTextRepresentation/AuthorShipVerification_mlpn.ipynb#ch0000027?line=4'>5</a>\u001b[0m                     workers\u001b[39m=\u001b[39;49m\u001b[39m4\u001b[39;49m,\n\u001b[0;32m      <a href='vscode-notebook-cell:/c%3A/Users/Melesio/Documents/SpectralTextRepresentation/AuthorShipVerification_mlpn.ipynb#ch0000027?line=5'>6</a>\u001b[0m                     epochs\u001b[39m=\u001b[39;49m\u001b[39m10\u001b[39;49m,\n\u001b[0;32m      <a href='vscode-notebook-cell:/c%3A/Users/Melesio/Documents/SpectralTextRepresentation/AuthorShipVerification_mlpn.ipynb#ch0000027?line=6'>7</a>\u001b[0m                     verbose\u001b[39m=\u001b[39;49m\u001b[39m1\u001b[39;49m)\n",
      "File \u001b[1;32mc:\\Users\\Melesio\\miniconda3\\lib\\site-packages\\keras\\utils\\traceback_utils.py:67\u001b[0m, in \u001b[0;36mfilter_traceback.<locals>.error_handler\u001b[1;34m(*args, **kwargs)\u001b[0m\n\u001b[0;32m     <a href='file:///c%3A/Users/Melesio/miniconda3/lib/site-packages/keras/utils/traceback_utils.py?line=64'>65</a>\u001b[0m \u001b[39mexcept\u001b[39;00m \u001b[39mException\u001b[39;00m \u001b[39mas\u001b[39;00m e:  \u001b[39m# pylint: disable=broad-except\u001b[39;00m\n\u001b[0;32m     <a href='file:///c%3A/Users/Melesio/miniconda3/lib/site-packages/keras/utils/traceback_utils.py?line=65'>66</a>\u001b[0m   filtered_tb \u001b[39m=\u001b[39m _process_traceback_frames(e\u001b[39m.\u001b[39m__traceback__)\n\u001b[1;32m---> <a href='file:///c%3A/Users/Melesio/miniconda3/lib/site-packages/keras/utils/traceback_utils.py?line=66'>67</a>\u001b[0m   \u001b[39mraise\u001b[39;00m e\u001b[39m.\u001b[39mwith_traceback(filtered_tb) \u001b[39mfrom\u001b[39;00m \u001b[39mNone\u001b[39m\n\u001b[0;32m     <a href='file:///c%3A/Users/Melesio/miniconda3/lib/site-packages/keras/utils/traceback_utils.py?line=67'>68</a>\u001b[0m \u001b[39mfinally\u001b[39;00m:\n\u001b[0;32m     <a href='file:///c%3A/Users/Melesio/miniconda3/lib/site-packages/keras/utils/traceback_utils.py?line=68'>69</a>\u001b[0m   \u001b[39mdel\u001b[39;00m filtered_tb\n",
      "File \u001b[1;32mc:\\Users\\Melesio\\Documents\\SpectralTextRepresentation\\myGenerator.py:31\u001b[0m, in \u001b[0;36mDataGenerator.__getitem__\u001b[1;34m(self, index)\u001b[0m\n\u001b[0;32m     <a href='file:///c%3A/Users/Melesio/Documents/SpectralTextRepresentation/myGenerator.py?line=27'>28</a>\u001b[0m list_IDs_temp \u001b[39m=\u001b[39m [\u001b[39mself\u001b[39m\u001b[39m.\u001b[39mlist_IDs[k] \u001b[39mfor\u001b[39;00m k \u001b[39min\u001b[39;00m indexes]\n\u001b[0;32m     <a href='file:///c%3A/Users/Melesio/Documents/SpectralTextRepresentation/myGenerator.py?line=29'>30</a>\u001b[0m \u001b[39m# Generate data\u001b[39;00m\n\u001b[1;32m---> <a href='file:///c%3A/Users/Melesio/Documents/SpectralTextRepresentation/myGenerator.py?line=30'>31</a>\u001b[0m X, y \u001b[39m=\u001b[39m \u001b[39mself\u001b[39;49m\u001b[39m.\u001b[39;49m__data_generation(list_IDs_temp)\n\u001b[0;32m     <a href='file:///c%3A/Users/Melesio/Documents/SpectralTextRepresentation/myGenerator.py?line=32'>33</a>\u001b[0m \u001b[39mreturn\u001b[39;00m X, y\n",
      "File \u001b[1;32mc:\\Users\\Melesio\\Documents\\SpectralTextRepresentation\\myGenerator.py:59\u001b[0m, in \u001b[0;36mDataGenerator.__data_generation\u001b[1;34m(self, list_IDs_temp)\u001b[0m\n\u001b[0;32m     <a href='file:///c%3A/Users/Melesio/Documents/SpectralTextRepresentation/myGenerator.py?line=55'>56</a>\u001b[0m \u001b[39m# Generate data\u001b[39;00m\n\u001b[0;32m     <a href='file:///c%3A/Users/Melesio/Documents/SpectralTextRepresentation/myGenerator.py?line=56'>57</a>\u001b[0m \u001b[39mfor\u001b[39;00m i, ID \u001b[39min\u001b[39;00m \u001b[39menumerate\u001b[39m(list_IDs_temp):\n\u001b[0;32m     <a href='file:///c%3A/Users/Melesio/Documents/SpectralTextRepresentation/myGenerator.py?line=57'>58</a>\u001b[0m     \u001b[39m# Store sample\u001b[39;00m\n\u001b[1;32m---> <a href='file:///c%3A/Users/Melesio/Documents/SpectralTextRepresentation/myGenerator.py?line=58'>59</a>\u001b[0m     pair \u001b[39m=\u001b[39m \u001b[39mself\u001b[39;49m\u001b[39m.\u001b[39;49m__get_pair(ID)\n\u001b[0;32m     <a href='file:///c%3A/Users/Melesio/Documents/SpectralTextRepresentation/myGenerator.py?line=59'>60</a>\u001b[0m     X1[i,] \u001b[39m=\u001b[39m pair[\u001b[39m0\u001b[39m]\n\u001b[0;32m     <a href='file:///c%3A/Users/Melesio/Documents/SpectralTextRepresentation/myGenerator.py?line=60'>61</a>\u001b[0m     X2[i,] \u001b[39m=\u001b[39m pair[\u001b[39m1\u001b[39m]\n",
      "File \u001b[1;32mc:\\Users\\Melesio\\Documents\\SpectralTextRepresentation\\myGenerator.py:44\u001b[0m, in \u001b[0;36mDataGenerator.__get_pair\u001b[1;34m(self, id)\u001b[0m\n\u001b[0;32m     <a href='file:///c%3A/Users/Melesio/Documents/SpectralTextRepresentation/myGenerator.py?line=40'>41</a>\u001b[0m \u001b[39mdef\u001b[39;00m \u001b[39m__get_pair\u001b[39m(\u001b[39mself\u001b[39m, \u001b[39mid\u001b[39m):\n\u001b[0;32m     <a href='file:///c%3A/Users/Melesio/Documents/SpectralTextRepresentation/myGenerator.py?line=42'>43</a>\u001b[0m     pair_spectra \u001b[39m=\u001b[39m \u001b[39mself\u001b[39m\u001b[39m.\u001b[39minstances\u001b[39m.\u001b[39mloc[\u001b[39mself\u001b[39m\u001b[39m.\u001b[39minstances\u001b[39m.\u001b[39mid \u001b[39m==\u001b[39m \u001b[39mid\u001b[39m]\u001b[39m.\u001b[39mmerge(\u001b[39mself\u001b[39m\u001b[39m.\u001b[39mspectra, left_on\u001b[39m=\u001b[39m\u001b[39m'\u001b[39m\u001b[39midtext\u001b[39m\u001b[39m'\u001b[39m, right_on\u001b[39m=\u001b[39m\u001b[39m'\u001b[39m\u001b[39mid\u001b[39m\u001b[39m'\u001b[39m)\u001b[39m.\u001b[39mspectra\n\u001b[1;32m---> <a href='file:///c%3A/Users/Melesio/Documents/SpectralTextRepresentation/myGenerator.py?line=43'>44</a>\u001b[0m     x1 \u001b[39m=\u001b[39m pair_spectra[\u001b[39m0\u001b[39;49m]\u001b[39m.\u001b[39mflatten()\n\u001b[0;32m     <a href='file:///c%3A/Users/Melesio/Documents/SpectralTextRepresentation/myGenerator.py?line=44'>45</a>\u001b[0m     x2 \u001b[39m=\u001b[39m pair_spectra[\u001b[39m1\u001b[39m]\u001b[39m.\u001b[39mflatten()\n\u001b[0;32m     <a href='file:///c%3A/Users/Melesio/Documents/SpectralTextRepresentation/myGenerator.py?line=46'>47</a>\u001b[0m     \u001b[39mreturn\u001b[39;00m x1, x2\n",
      "File \u001b[1;32mc:\\Users\\Melesio\\miniconda3\\lib\\site-packages\\pandas\\core\\series.py:955\u001b[0m, in \u001b[0;36mSeries.__getitem__\u001b[1;34m(self, key)\u001b[0m\n\u001b[0;32m    <a href='file:///c%3A/Users/Melesio/miniconda3/lib/site-packages/pandas/core/series.py?line=951'>952</a>\u001b[0m     key \u001b[39m=\u001b[39m unpack_1tuple(key)\n\u001b[0;32m    <a href='file:///c%3A/Users/Melesio/miniconda3/lib/site-packages/pandas/core/series.py?line=953'>954</a>\u001b[0m \u001b[39mif\u001b[39;00m is_integer(key) \u001b[39mand\u001b[39;00m \u001b[39mself\u001b[39m\u001b[39m.\u001b[39mindex\u001b[39m.\u001b[39m_should_fallback_to_positional:\n\u001b[1;32m--> <a href='file:///c%3A/Users/Melesio/miniconda3/lib/site-packages/pandas/core/series.py?line=954'>955</a>\u001b[0m     \u001b[39mreturn\u001b[39;00m \u001b[39mself\u001b[39;49m\u001b[39m.\u001b[39;49m_values[key]\n\u001b[0;32m    <a href='file:///c%3A/Users/Melesio/miniconda3/lib/site-packages/pandas/core/series.py?line=956'>957</a>\u001b[0m \u001b[39melif\u001b[39;00m key_is_scalar:\n\u001b[0;32m    <a href='file:///c%3A/Users/Melesio/miniconda3/lib/site-packages/pandas/core/series.py?line=957'>958</a>\u001b[0m     \u001b[39mreturn\u001b[39;00m \u001b[39mself\u001b[39m\u001b[39m.\u001b[39m_get_value(key)\n",
      "\u001b[1;31mIndexError\u001b[0m: index 0 is out of bounds for axis 0 with size 0"
     ]
    }
   ],
   "source": [
    "# Train model on dataset\n",
    "history = model.fit(x=training_generator,\n",
    "                    validation_data=validation_generator,\n",
    "                    use_multiprocessing=True,\n",
    "                    workers=4,\n",
    "                    epochs=10,\n",
    "                    verbose=1)"
   ]
  }
 ],
 "metadata": {
  "interpreter": {
   "hash": "c249841fb0c9bf987b4c94f665c65fa3df82b59b17309ea651fa23fd035aae4c"
  },
  "kernelspec": {
   "display_name": "Python 3.9.12 ('base')",
   "language": "python",
   "name": "python3"
  },
  "language_info": {
   "codemirror_mode": {
    "name": "ipython",
    "version": 3
   },
   "file_extension": ".py",
   "mimetype": "text/x-python",
   "name": "python",
   "nbconvert_exporter": "python",
   "pygments_lexer": "ipython3",
   "version": "3.9.12"
  },
  "orig_nbformat": 4
 },
 "nbformat": 4,
 "nbformat_minor": 2
}
