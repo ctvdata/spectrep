{
 "cells": [
  {
   "cell_type": "code",
   "execution_count": 1,
   "metadata": {},
   "outputs": [],
   "source": [
    "import numpy as np\n",
    "import pandas as pd\n",
    "import tensorflow as tf\n",
    "import json\n",
    "from myGenerator import DataGenerator\n",
    "import CustomLayers as cl"
   ]
  },
  {
   "cell_type": "markdown",
   "metadata": {},
   "source": [
    "### Carga de datos"
   ]
  },
  {
   "cell_type": "code",
   "execution_count": 2,
   "metadata": {},
   "outputs": [],
   "source": [
    "train = pd.read_pickle(\"pan22-authorship-verification-training-dataset/particionesXid/PanTrain.plk\")\n",
    "val = pd.read_pickle(\"pan22-authorship-verification-training-dataset/particionesXid/PanVal.plk\")\n",
    "# test = pd.read_pickle(\"pan22-authorship-verification-training-dataset/particionesXid/PanTest.plk\")\n",
    "# docDict = pd.read_pickle(\"pan22-authorship-verification-training-dataset/particionesXid/UniquePanDocs.plk\")"
   ]
  },
  {
   "cell_type": "code",
   "execution_count": 3,
   "metadata": {},
   "outputs": [],
   "source": [
    "def spectraLoader(inputPath: str) -> pd.DataFrame:\n",
    "    df = pd.DataFrame()\n",
    "    with open(inputPath, encoding='utf-8') as f:\n",
    "        for line in f:\n",
    "            jsonline = json.loads(line)\n",
    "            lineDf = pd.DataFrame({'id':jsonline['id'], 'spectra':[np.array(jsonline['spectra'])]})\n",
    "            df = pd.concat([df, lineDf])\n",
    "    df = df.reset_index(drop=True)\n",
    "\n",
    "    return df"
   ]
  },
  {
   "cell_type": "code",
   "execution_count": 4,
   "metadata": {},
   "outputs": [],
   "source": [
    "full_spectra = spectraLoader(\"pan22-authorship-verification-training-dataset/particionesXid/FullSpectra.jsonl\")"
   ]
  },
  {
   "cell_type": "code",
   "execution_count": 5,
   "metadata": {},
   "outputs": [],
   "source": [
    "def loadLabels(inputPath:str, labelDict:dict) -> dict:\n",
    "    with open(inputPath, encoding='utf-8') as f:\n",
    "        for line in f:\n",
    "            jsonline = json.loads(line)\n",
    "            labelDict[jsonline['id']] = 1 if jsonline['value'] else 0\n",
    "        \n",
    "    return labelDict"
   ]
  },
  {
   "cell_type": "code",
   "execution_count": 6,
   "metadata": {},
   "outputs": [],
   "source": [
    "labels = dict()\n",
    "labels = loadLabels('pan22-authorship-verification-training-dataset/particiones/train_truth.jsonl',labels)\n",
    "labels = loadLabels('pan22-authorship-verification-training-dataset/particiones/val_truth.jsonl',labels)"
   ]
  },
  {
   "cell_type": "code",
   "execution_count": 7,
   "metadata": {},
   "outputs": [
    {
     "name": "stdout",
     "output_type": "stream",
     "text": [
      "Instances: 16486.0\n",
      "Labels:  16486\n"
     ]
    }
   ],
   "source": [
    "print(\"Instances: {}\".format((train.shape[0] + val.shape[0])/2))\n",
    "print(\"Labels: \",len(labels))"
   ]
  },
  {
   "cell_type": "code",
   "execution_count": 8,
   "metadata": {},
   "outputs": [
    {
     "data": {
      "text/plain": [
       "0"
      ]
     },
     "execution_count": 8,
     "metadata": {},
     "output_type": "execute_result"
    }
   ],
   "source": [
    "labels[\"a09fdc6b-ed15-48c5-9d2e-572f989b9b4500000\"]"
   ]
  },
  {
   "cell_type": "code",
   "execution_count": 9,
   "metadata": {},
   "outputs": [],
   "source": [
    "partition = {'train': train.id.unique().tolist(), 'validation': val.id.unique().tolist()}"
   ]
  },
  {
   "cell_type": "code",
   "execution_count": 10,
   "metadata": {},
   "outputs": [
    {
     "name": "stdout",
     "output_type": "stream",
     "text": [
      "Train:  15732\n",
      "Validation:  754\n",
      "Total:  16486\n"
     ]
    }
   ],
   "source": [
    "print(\"Train: \", len(partition['train']))\n",
    "print(\"Validation: \", len(partition['validation']))\n",
    "print(\"Total: \", len(partition['train'])+len(partition['validation']))"
   ]
  },
  {
   "cell_type": "code",
   "execution_count": 11,
   "metadata": {},
   "outputs": [
    {
     "data": {
      "text/plain": [
       "Series([], Name: spectra, dtype: object)"
      ]
     },
     "execution_count": 11,
     "metadata": {},
     "output_type": "execute_result"
    }
   ],
   "source": [
    "train.loc[train.id == 'a'].merge(full_spectra, left_on='idtext', right_on='id').spectra\n"
   ]
  },
  {
   "cell_type": "markdown",
   "metadata": {},
   "source": [
    "### Definición de la arquitectura de red siamesa"
   ]
  },
  {
   "cell_type": "code",
   "execution_count": 12,
   "metadata": {},
   "outputs": [],
   "source": [
    "# Modelo de red siamesa utilizando una red residual y un perceptron multicapa\n",
    "\n",
    "x1 = tf.keras.Input(shape=(1200,), name=\"Input_1\")\n",
    "x2 = tf.keras.Input(shape=(1200,), name=\"Input_2\")\n",
    "\n",
    "# Batch normalization\n",
    "bn_layer = tf.keras.layers.BatchNormalization(name=\"Batch_normalization\")\n",
    "x1 = bn_layer(x1)\n",
    "x2 = bn_layer(x2)\n",
    "\n",
    "# Gaussian noise\n",
    "gaussian_noise_layer = tf.keras.layers.GaussianNoise(1.0, name=\"Gaussian_noise\")\n",
    "x1 = gaussian_noise_layer(x1)\n",
    "x2 = gaussian_noise_layer(x2)\n",
    "\n",
    "# Dropout\n",
    "dropout_layer = tf.keras.layers.Dropout(0.4, name=\"Dropout_1\")\n",
    "x1 = dropout_layer(x1)\n",
    "x2 = dropout_layer(x2)\n",
    "\n",
    "# Residual network\n",
    "\n",
    "# substract = lambda x: x[0] - x[1]\n",
    "# residual = tf.keras.layers.Lambda(function=substract, output_shape=lambda x: x[0], name='residual')\n",
    "residual = cl.ResidualLayer(name=\"Residual\")\n",
    "\n",
    "dense_layer_1 = tf.keras.layers.Dense(256, activation='relu', name=\"ResDense_1\")\n",
    "o1_1 = dense_layer_1(x1)\n",
    "o1_2 = dense_layer_1(x2)\n",
    "\n",
    "dense_layer_2 = tf.keras.layers.Dense(256, activation='relu', name=\"ResDense_2\")\n",
    "o2_1 = dense_layer_2(o1_1)\n",
    "o2_2 = dense_layer_2(o1_2)\n",
    "\n",
    "# Residual layer\n",
    "dense_layer_3 = tf.keras.layers.Dense(256, activation='relu', name=\"ResDense_3\")\n",
    "o3_1 = dense_layer_3(residual([o1_1, o2_1]))\n",
    "o3_2 = dense_layer_3(residual([o1_2, o2_2]))\n",
    "\n",
    "dense_layer_4 = tf.keras.layers.Dense(256, activation='relu', name=\"ResDense_4\")\n",
    "o4_1 = dense_layer_4(o3_1)\n",
    "o4_2 = dense_layer_4(o3_2)\n",
    "\n",
    "# Residual layer\n",
    "dense_layer_5 = tf.keras.layers.Dense(256, activation='relu', name=\"ResDense_5\")\n",
    "o5_1 = dense_layer_5(residual([o3_1, o4_1]))\n",
    "o5_2 = dense_layer_5(residual([o3_2, o4_2]))\n",
    "\n",
    "dense_layer_6 = tf.keras.layers.Dense(256, activation='relu', name=\"ResDense_6\")\n",
    "o6_1 = dense_layer_6(o5_1)\n",
    "o6_2 = dense_layer_6(o5_2)\n",
    "\n",
    "# Residual layer\n",
    "dense_layer_7 = tf.keras.layers.Dense(256, activation='relu', name=\"ResDense_7\")\n",
    "o7_1 = dense_layer_7(residual([o5_1, o6_1]))\n",
    "o7_2 = dense_layer_7(residual([o5_2, o6_2]))\n",
    "\n",
    "dense_layer_8 = tf.keras.layers.Dense(256, activation='relu', name=\"ResDense_8\")\n",
    "o8_1 = dense_layer_8(o7_1)\n",
    "o8_2 = dense_layer_8(o7_2)\n",
    "\n",
    "# Residual layer\n",
    "dense_layer_9 = tf.keras.layers.Dense(256, activation='relu', name=\"ResDense_9\")\n",
    "o9_1 = dense_layer_9(residual([o7_1, o8_1]))\n",
    "o9_2 = dense_layer_9(residual([o7_2, o8_2]))\n",
    "\n",
    "# Merging\n",
    "# abs_substract = lambda x: tf.keras.backend.abs(x[0] - x[1])\n",
    "# merge = tf.keras.layers.Lambda(function=abs_substract, output_shape=lambda x: x[0], name='merge')([o9_1,o9_2])\n",
    "merge = cl.AbsoluteResidual(name=\"AbsoluteResidual\")([o9_1,o9_2])\n",
    "\n",
    "# MLPNN Classifier\n",
    "hidden = tf.keras.layers.Dense(128, activation='relu', name=\"hidden_layer\")(merge)\n",
    "dropout_layer2 = tf.keras.layers.Dropout(0.4, name=\"Dropout_2\")(hidden)\n",
    "output = tf.keras.layers.Dense(1, activation=\"sigmoid\", name=\"output_layer\")(dropout_layer2)\n",
    "\n",
    "model = tf.keras.Model([x1, x2], output)\n",
    "model.compile(loss = 'binary_crossentropy', optimizer = \"adam\", metrics=[\"binary_accuracy\"])"
   ]
  },
  {
   "cell_type": "code",
   "execution_count": 13,
   "metadata": {},
   "outputs": [
    {
     "name": "stdout",
     "output_type": "stream",
     "text": [
      "Model: \"model\"\n",
      "__________________________________________________________________________________________________\n",
      " Layer (type)                   Output Shape         Param #     Connected to                     \n",
      "==================================================================================================\n",
      " input_1 (InputLayer)           [(None, 1200)]       0           []                               \n",
      "                                                                                                  \n",
      " ResDense_1 (Dense)             (None, 256)          307456      ['input_1[0][0]',                \n",
      "                                                                  'input_2[0][0]']                \n",
      "                                                                                                  \n",
      " ResDense_2 (Dense)             (None, 256)          65792       ['ResDense_1[2][0]',             \n",
      "                                                                  'ResDense_1[3][0]']             \n",
      "                                                                                                  \n",
      " residual_layer (ResidualLayer)  (None, 256)         0           ['ResDense_7[2][0]',             \n",
      "                                                                  'ResDense_8[2][0]',             \n",
      "                                                                  'ResDense_7[3][0]',             \n",
      "                                                                  'ResDense_8[3][0]',             \n",
      "                                                                  'ResDense_5[2][0]',             \n",
      "                                                                  'ResDense_6[2][0]',             \n",
      "                                                                  'ResDense_5[3][0]',             \n",
      "                                                                  'ResDense_6[3][0]',             \n",
      "                                                                  'ResDense_3[2][0]',             \n",
      "                                                                  'ResDense_4[2][0]',             \n",
      "                                                                  'ResDense_3[3][0]',             \n",
      "                                                                  'ResDense_4[3][0]',             \n",
      "                                                                  'ResDense_1[2][0]',             \n",
      "                                                                  'ResDense_2[2][0]',             \n",
      "                                                                  'ResDense_1[3][0]',             \n",
      "                                                                  'ResDense_2[3][0]']             \n",
      "                                                                                                  \n",
      " ResDense_3 (Dense)             (None, 256)          65792       ['residual_layer[14][0]',        \n",
      "                                                                  'residual_layer[15][0]']        \n",
      "                                                                                                  \n",
      " ResDense_4 (Dense)             (None, 256)          65792       ['ResDense_3[2][0]',             \n",
      "                                                                  'ResDense_3[3][0]']             \n",
      "                                                                                                  \n",
      " ResDense_5 (Dense)             (None, 256)          65792       ['residual_layer[12][0]',        \n",
      "                                                                  'residual_layer[13][0]']        \n",
      "                                                                                                  \n",
      " ResDense_6 (Dense)             (None, 256)          65792       ['ResDense_5[2][0]',             \n",
      "                                                                  'ResDense_5[3][0]']             \n",
      "                                                                                                  \n",
      " input_2 (InputLayer)           [(None, 1200)]       0           []                               \n",
      "                                                                                                  \n",
      " ResDense_7 (Dense)             (None, 256)          65792       ['residual_layer[10][0]',        \n",
      "                                                                  'residual_layer[11][0]']        \n",
      "                                                                                                  \n",
      " ResDense_8 (Dense)             (None, 256)          65792       ['ResDense_7[2][0]',             \n",
      "                                                                  'ResDense_7[3][0]']             \n",
      "                                                                                                  \n",
      " ResDense_9 (Dense)             (None, 256)          65792       ['residual_layer[8][0]',         \n",
      "                                                                  'residual_layer[9][0]']         \n",
      "                                                                                                  \n",
      " absolute_residual (AbsoluteRes  (None, 256)         0           ['ResDense_9[2][0]',             \n",
      " idual)                                                           'ResDense_9[3][0]']             \n",
      "                                                                                                  \n",
      " hidden_layer (Dense)           (None, 128)          32896       ['absolute_residual[1][0]']      \n",
      "                                                                                                  \n",
      " Dropout_2 (Dropout)            (None, 128)          0           ['hidden_layer[1][0]']           \n",
      "                                                                                                  \n",
      " output_layer (Dense)           (None, 1)            129         ['Dropout_2[1][0]']              \n",
      "                                                                                                  \n",
      "==================================================================================================\n",
      "Total params: 866,817\n",
      "Trainable params: 866,817\n",
      "Non-trainable params: 0\n",
      "__________________________________________________________________________________________________\n"
     ]
    }
   ],
   "source": [
    "model.summary()"
   ]
  },
  {
   "cell_type": "markdown",
   "metadata": {},
   "source": [
    "### Entrenamiento de red siamesa"
   ]
  },
  {
   "cell_type": "code",
   "execution_count": null,
   "metadata": {},
   "outputs": [],
   "source": [
    "print(\"train: \", train.shape[0])\n",
    "print(\"test: \", val.shape[0])"
   ]
  },
  {
   "cell_type": "code",
   "execution_count": null,
   "metadata": {},
   "outputs": [],
   "source": [
    "print(\"train: \", train.id.unique().size)\n",
    "print(\"test: \", val.id.unique().size)"
   ]
  },
  {
   "cell_type": "code",
   "execution_count": null,
   "metadata": {},
   "outputs": [],
   "source": [
    "# Parameters\n",
    "params = {'dim': (1200,),\n",
    "            'batch_size': 32,\n",
    "            'shuffle': True}"
   ]
  },
  {
   "cell_type": "code",
   "execution_count": null,
   "metadata": {},
   "outputs": [],
   "source": [
    "# Generators\n",
    "training_generator = DataGenerator(partition['train'], train, labels, full_spectra, **params)\n",
    "validation_generator = DataGenerator(partition['validation'], val, labels, full_spectra, **params)"
   ]
  },
  {
   "cell_type": "code",
   "execution_count": null,
   "metadata": {},
   "outputs": [],
   "source": [
    "# Train model on dataset\n",
    "history = model.fit(x=training_generator,\n",
    "                    validation_data=validation_generator,\n",
    "                    # use_multiprocessing=True,\n",
    "                    # workers=4,\n",
    "                    epochs=100,\n",
    "                    verbose=1)"
   ]
  },
  {
   "cell_type": "code",
   "execution_count": 14,
   "metadata": {},
   "outputs": [
    {
     "name": "stderr",
     "output_type": "stream",
     "text": [
      "WARNING:absl:Function `_wrapped_model` contains input name(s) args_0 with unsupported characters which will be renamed to args_0_1 in the SavedModel.\n"
     ]
    },
    {
     "name": "stdout",
     "output_type": "stream",
     "text": [
      "INFO:tensorflow:Assets written to: models/SiameseNetwork\\assets\n"
     ]
    },
    {
     "name": "stderr",
     "output_type": "stream",
     "text": [
      "INFO:tensorflow:Assets written to: models/SiameseNetwork\\assets\n"
     ]
    }
   ],
   "source": [
    "model.save('models/SiameseNetwork')"
   ]
  },
  {
   "cell_type": "markdown",
   "metadata": {},
   "source": [
    "### Resultados del entrenamiento"
   ]
  },
  {
   "cell_type": "code",
   "execution_count": null,
   "metadata": {},
   "outputs": [],
   "source": [
    "import matplotlib.pyplot as plt\n",
    "import seaborn as sns\n",
    "sns.set_theme(style=\"darkgrid\")"
   ]
  },
  {
   "cell_type": "code",
   "execution_count": null,
   "metadata": {},
   "outputs": [],
   "source": [
    "history.history.keys()"
   ]
  },
  {
   "cell_type": "code",
   "execution_count": null,
   "metadata": {},
   "outputs": [],
   "source": [
    "acc = pd.DataFrame({'accuracy':history.history['binary_accuracy'], 'type':'train'}).reset_index().rename(columns={'index':'epoch'})\n",
    "acc = pd.concat([acc, pd.DataFrame({'accuracy':history.history['val_binary_accuracy'], 'type':'val'}).reset_index().rename(columns={'index':'epoch'})]).reset_index(drop=True)\n",
    "loss = pd.DataFrame({'loss':history.history['loss'], 'type':'train'}).reset_index().rename(columns={'index':'epoch'})\n",
    "loss = pd.concat([loss, pd.DataFrame({'loss':history.history['val_loss'], 'type':'val'}).reset_index().rename(columns={'index':'epoch'})]).reset_index(drop=True)"
   ]
  },
  {
   "cell_type": "code",
   "execution_count": null,
   "metadata": {},
   "outputs": [],
   "source": [
    "fig, ax = plt.subplots(nrows=1, ncols=2, figsize=(15,5))\n",
    "sns.lineplot(x='epoch', y='accuracy', data=acc, hue='type', ax=ax[0])\n",
    "sns.lineplot(x='epoch', y='loss', data=loss, hue='type', ax=ax[1])\n",
    "plt.show()"
   ]
  },
  {
   "cell_type": "markdown",
   "metadata": {},
   "source": [
    "### Predicción de datos de prueba"
   ]
  }
 ],
 "metadata": {
  "interpreter": {
   "hash": "c249841fb0c9bf987b4c94f665c65fa3df82b59b17309ea651fa23fd035aae4c"
  },
  "kernelspec": {
   "display_name": "Python 3.9.12 ('base')",
   "language": "python",
   "name": "python3"
  },
  "language_info": {
   "codemirror_mode": {
    "name": "ipython",
    "version": 3
   },
   "file_extension": ".py",
   "mimetype": "text/x-python",
   "name": "python",
   "nbconvert_exporter": "python",
   "pygments_lexer": "ipython3",
   "version": "3.9.7"
  },
  "orig_nbformat": 4
 },
 "nbformat": 4,
 "nbformat_minor": 2
}
