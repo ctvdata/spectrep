{
 "cells": [
  {
   "cell_type": "code",
   "execution_count": 2,
   "metadata": {},
   "outputs": [],
   "source": [
    "import numpy as np\n",
    "import pandas as pd\n",
    "import tensorflow as tf\n",
    "import json\n",
    "from myGenerator import DataGenerator\n",
    "import CustomLayers as cl"
   ]
  },
  {
   "cell_type": "markdown",
   "metadata": {},
   "source": [
    "### Carga de datos"
   ]
  },
  {
   "cell_type": "code",
   "execution_count": 3,
   "metadata": {},
   "outputs": [],
   "source": [
    "train = pd.read_pickle(\"pan22-authorship-verification-training-dataset/particionesXid/PanTrain.plk\")\n",
    "val = pd.read_pickle(\"pan22-authorship-verification-training-dataset/particionesXid/PanVal.plk\")\n",
    "# test = pd.read_pickle(\"pan22-authorship-verification-training-dataset/particionesXid/PanTest.plk\")\n",
    "# docDict = pd.read_pickle(\"pan22-authorship-verification-training-dataset/particionesXid/UniquePanDocs.plk\")"
   ]
  },
  {
   "cell_type": "code",
   "execution_count": 4,
   "metadata": {},
   "outputs": [],
   "source": [
    "def spectraLoader(inputPath: str) -> pd.DataFrame:\n",
    "    df = pd.DataFrame()\n",
    "    with open(inputPath, encoding='utf-8') as f:\n",
    "        for line in f:\n",
    "            jsonline = json.loads(line)\n",
    "            lineDf = pd.DataFrame({'id':jsonline['id'], 'spectra':[np.array(jsonline['spectra'])]})\n",
    "            df = pd.concat([df, lineDf])\n",
    "    df = df.reset_index(drop=True)\n",
    "\n",
    "    return df"
   ]
  },
  {
   "cell_type": "code",
   "execution_count": 5,
   "metadata": {},
   "outputs": [],
   "source": [
    "full_spectra = spectraLoader(\"pan22-authorship-verification-training-dataset/particionesXid/FullSpectra.jsonl\")"
   ]
  },
  {
   "cell_type": "code",
   "execution_count": 6,
   "metadata": {},
   "outputs": [],
   "source": [
    "def loadLabels(inputPath:str, labelDict:dict) -> dict:\n",
    "    with open(inputPath, encoding='utf-8') as f:\n",
    "        for line in f:\n",
    "            jsonline = json.loads(line)\n",
    "            labelDict[jsonline['id']] = 1 if jsonline['value'] else 0\n",
    "        \n",
    "    return labelDict"
   ]
  },
  {
   "cell_type": "code",
   "execution_count": 7,
   "metadata": {},
   "outputs": [],
   "source": [
    "labels = dict()\n",
    "labels = loadLabels('pan22-authorship-verification-training-dataset/particiones/train_truth.jsonl',labels)\n",
    "labels = loadLabels('pan22-authorship-verification-training-dataset/particiones/val_truth.jsonl',labels)"
   ]
  },
  {
   "cell_type": "code",
   "execution_count": 8,
   "metadata": {},
   "outputs": [
    {
     "name": "stdout",
     "output_type": "stream",
     "text": [
      "Instances: 16486.0\n",
      "Labels:  16486\n"
     ]
    }
   ],
   "source": [
    "print(\"Instances: {}\".format((train.shape[0] + val.shape[0])/2))\n",
    "print(\"Labels: \",len(labels))"
   ]
  },
  {
   "cell_type": "code",
   "execution_count": 9,
   "metadata": {},
   "outputs": [
    {
     "data": {
      "text/plain": [
       "0"
      ]
     },
     "execution_count": 9,
     "metadata": {},
     "output_type": "execute_result"
    }
   ],
   "source": [
    "labels[\"a09fdc6b-ed15-48c5-9d2e-572f989b9b4500000\"]"
   ]
  },
  {
   "cell_type": "code",
   "execution_count": 10,
   "metadata": {},
   "outputs": [],
   "source": [
    "partition = {'train': train.id.unique().tolist(), 'validation': val.id.unique().tolist()}"
   ]
  },
  {
   "cell_type": "code",
   "execution_count": 11,
   "metadata": {},
   "outputs": [
    {
     "name": "stdout",
     "output_type": "stream",
     "text": [
      "Train:  15732\n",
      "Validation:  754\n",
      "Total:  16486\n"
     ]
    }
   ],
   "source": [
    "print(\"Train: \", len(partition['train']))\n",
    "print(\"Validation: \", len(partition['validation']))\n",
    "print(\"Total: \", len(partition['train'])+len(partition['validation']))"
   ]
  },
  {
   "cell_type": "code",
   "execution_count": 12,
   "metadata": {},
   "outputs": [
    {
     "data": {
      "text/plain": [
       "Series([], Name: spectra, dtype: object)"
      ]
     },
     "execution_count": 12,
     "metadata": {},
     "output_type": "execute_result"
    }
   ],
   "source": [
    "train.loc[train.id == 'a'].merge(full_spectra, left_on='idtext', right_on='id').spectra\n"
   ]
  },
  {
   "cell_type": "markdown",
   "metadata": {},
   "source": [
    "### Definición de la arquitectura de red siamesa"
   ]
  },
  {
   "cell_type": "code",
   "execution_count": null,
   "metadata": {},
   "outputs": [],
   "source": [
    "# Modelo de red siamesa utilizando una red residual y un perceptron multicapa\n",
    "\n",
    "x1 = tf.keras.Input(shape=(1200,), name=\"Input_1\")\n",
    "x2 = tf.keras.Input(shape=(1200,), name=\"Input_2\")\n",
    "\n",
    "# Batch normalization\n",
    "bn_layer = tf.keras.layers.BatchNormalization(name=\"Batch_normalization\")\n",
    "x1 = bn_layer(x1)\n",
    "x2 = bn_layer(x2)\n",
    "\n",
    "# Gaussian noise\n",
    "gaussian_noise_layer = tf.keras.layers.GaussianNoise(1.0, name=\"Gaussian_noise\")\n",
    "x1 = gaussian_noise_layer(x1)\n",
    "x2 = gaussian_noise_layer(x2)\n",
    "\n",
    "# Dropout\n",
    "dropout_layer = tf.keras.layers.Dropout(0.4, name=\"Dropout_1\")\n",
    "x1 = dropout_layer(x1)\n",
    "x2 = dropout_layer(x2)\n",
    "\n",
    "# Residual network\n",
    "\n",
    "substract = lambda x: x[0] - x[1]\n",
    "residual = tf.keras.layers.Lambda(function=substract, output_shape=lambda x: x[0], name='residual')\n",
    "residual = cl.ResidualLayer(name=\"Residual\")\n",
    "\n",
    "dense_layer_1 = tf.keras.layers.Dense(256, activation='relu', name=\"ResDense_1\")\n",
    "o1_1 = dense_layer_1(x1)\n",
    "o1_2 = dense_layer_1(x2)\n",
    "\n",
    "dense_layer_2 = tf.keras.layers.Dense(256, activation='relu', name=\"ResDense_2\")\n",
    "o2_1 = dense_layer_2(o1_1)\n",
    "o2_2 = dense_layer_2(o1_2)\n",
    "\n",
    "# Residual layer\n",
    "dense_layer_3 = tf.keras.layers.Dense(256, activation='relu', name=\"ResDense_3\")\n",
    "o3_1 = dense_layer_3(residual([o1_1, o2_1]))\n",
    "o3_2 = dense_layer_3(residual([o1_2, o2_2]))\n",
    "\n",
    "dense_layer_4 = tf.keras.layers.Dense(256, activation='relu', name=\"ResDense_4\")\n",
    "o4_1 = dense_layer_4(o3_1)\n",
    "o4_2 = dense_layer_4(o3_2)\n",
    "\n",
    "# Residual layer\n",
    "dense_layer_5 = tf.keras.layers.Dense(256, activation='relu', name=\"ResDense_5\")\n",
    "o5_1 = dense_layer_5(residual([o3_1, o4_1]))\n",
    "o5_2 = dense_layer_5(residual([o3_2, o4_2]))\n",
    "\n",
    "dense_layer_6 = tf.keras.layers.Dense(256, activation='relu', name=\"ResDense_6\")\n",
    "o6_1 = dense_layer_6(o5_1)\n",
    "o6_2 = dense_layer_6(o5_2)\n",
    "\n",
    "# Residual layer\n",
    "dense_layer_7 = tf.keras.layers.Dense(256, activation='relu', name=\"ResDense_7\")\n",
    "o7_1 = dense_layer_7(residual([o5_1, o6_1]))\n",
    "o7_2 = dense_layer_7(residual([o5_2, o6_2]))\n",
    "\n",
    "dense_layer_8 = tf.keras.layers.Dense(256, activation='relu', name=\"ResDense_8\")\n",
    "o8_1 = dense_layer_8(o7_1)\n",
    "o8_2 = dense_layer_8(o7_2)\n",
    "\n",
    "# Residual layer\n",
    "dense_layer_9 = tf.keras.layers.Dense(256, activation='relu', name=\"ResDense_9\")\n",
    "o9_1 = dense_layer_9(residual([o7_1, o8_1]))\n",
    "o9_2 = dense_layer_9(residual([o7_2, o8_2]))\n",
    "\n",
    "# Merging\n",
    "# abs_substract = lambda x: tf.keras.backend.abs(x[0] - x[1])\n",
    "# merge = tf.keras.layers.Lambda(function=abs_substract, output_shape=lambda x: x[0], name='merge')([o9_1,o9_2])\n",
    "merge = cl.AbsoluteResidual(name=\"AbsoluteResidual\")([o9_1,o9_2])\n",
    "\n",
    "# MLPNN Classifier\n",
    "hidden = tf.keras.layers.Dense(128, activation='relu', name=\"hidden_layer\")(merge)\n",
    "dropout_layer2 = tf.keras.layers.Dropout(0.4, name=\"Dropout_2\")(hidden)\n",
    "output = tf.keras.layers.Dense(1, activation=\"sigmoid\", name=\"output_layer\")(dropout_layer2)\n",
    "\n",
    "model = tf.keras.Model([x1, x2], output)\n",
    "model.compile(loss = 'binary_crossentropy', optimizer = \"adam\", metrics=[\"binary_accuracy\"])"
   ]
  },
  {
   "cell_type": "code",
   "execution_count": 13,
   "metadata": {},
   "outputs": [
    {
     "name": "stderr",
     "output_type": "stream",
     "text": [
      "2022-05-17 16:53:47.188453: I tensorflow/stream_executor/cuda/cuda_gpu_executor.cc:936] successful NUMA node read from SysFS had negative value (-1), but there must be at least one NUMA node, so returning NUMA node zero\n",
      "2022-05-17 16:53:47.210492: I tensorflow/stream_executor/cuda/cuda_gpu_executor.cc:936] successful NUMA node read from SysFS had negative value (-1), but there must be at least one NUMA node, so returning NUMA node zero\n",
      "2022-05-17 16:53:47.210604: I tensorflow/stream_executor/cuda/cuda_gpu_executor.cc:936] successful NUMA node read from SysFS had negative value (-1), but there must be at least one NUMA node, so returning NUMA node zero\n",
      "2022-05-17 16:53:47.210991: I tensorflow/core/platform/cpu_feature_guard.cc:151] This TensorFlow binary is optimized with oneAPI Deep Neural Network Library (oneDNN) to use the following CPU instructions in performance-critical operations:  AVX2 FMA\n",
      "To enable them in other operations, rebuild TensorFlow with the appropriate compiler flags.\n",
      "2022-05-17 16:53:47.211951: I tensorflow/stream_executor/cuda/cuda_gpu_executor.cc:936] successful NUMA node read from SysFS had negative value (-1), but there must be at least one NUMA node, so returning NUMA node zero\n",
      "2022-05-17 16:53:47.212044: I tensorflow/stream_executor/cuda/cuda_gpu_executor.cc:936] successful NUMA node read from SysFS had negative value (-1), but there must be at least one NUMA node, so returning NUMA node zero\n",
      "2022-05-17 16:53:47.212121: I tensorflow/stream_executor/cuda/cuda_gpu_executor.cc:936] successful NUMA node read from SysFS had negative value (-1), but there must be at least one NUMA node, so returning NUMA node zero\n",
      "2022-05-17 16:53:47.674173: I tensorflow/stream_executor/cuda/cuda_gpu_executor.cc:936] successful NUMA node read from SysFS had negative value (-1), but there must be at least one NUMA node, so returning NUMA node zero\n",
      "2022-05-17 16:53:47.674292: I tensorflow/stream_executor/cuda/cuda_gpu_executor.cc:936] successful NUMA node read from SysFS had negative value (-1), but there must be at least one NUMA node, so returning NUMA node zero\n",
      "2022-05-17 16:53:47.674377: I tensorflow/stream_executor/cuda/cuda_gpu_executor.cc:936] successful NUMA node read from SysFS had negative value (-1), but there must be at least one NUMA node, so returning NUMA node zero\n",
      "2022-05-17 16:53:47.674622: I tensorflow/core/common_runtime/gpu/gpu_device.cc:1525] Created device /job:localhost/replica:0/task:0/device:GPU:0 with 7656 MB memory:  -> device: 0, name: NVIDIA GeForce RTX 3080, pci bus id: 0000:01:00.0, compute capability: 8.6\n"
     ]
    }
   ],
   "source": [
    "# Modelo de red siamesa utilizando una red residual y un perceptron multicapa SIN CAPAS CUSTOM\n",
    "\n",
    "x1 = tf.keras.Input(shape=(1200,), name=\"input_1\")\n",
    "x2 = tf.keras.Input(shape=(1200,), name=\"input_2\")\n",
    "\n",
    "# Batch normalization\n",
    "# bn_layer = tf.keras.layers.BatchNormalization(name=\"Batch_normalization\")\n",
    "# x1 = bn_layer(x1)\n",
    "# x2 = bn_layer(x2)\n",
    "\n",
    "# # Gaussian noise\n",
    "# gaussian_noise_layer = tf.keras.layers.GaussianNoise(1.0, name=\"Gaussian_noise\")\n",
    "# x1 = gaussian_noise_layer(x1)\n",
    "# x2 = gaussian_noise_layer(x2)\n",
    "\n",
    "# # Dropout\n",
    "# dropout_layer = tf.keras.layers.Dropout(0.4, name=\"Dropout_1\")\n",
    "# x1 = dropout_layer(x1)\n",
    "# x2 = dropout_layer(x2)\n",
    "\n",
    "# Residual network\n",
    "dense_layer_1 = tf.keras.layers.Dense(256, activation='relu', name=\"resdense_1\")\n",
    "o1_1 = dense_layer_1(x1)\n",
    "o1_2 = dense_layer_1(x2)\n",
    "\n",
    "dense_layer_2 = tf.keras.layers.Dense(256, activation='relu', name=\"resdense_2\")\n",
    "o2_1 = dense_layer_2(o1_1)\n",
    "o2_2 = dense_layer_2(o1_2)\n",
    "\n",
    "# Residual layer\n",
    "dense_layer_3 = tf.keras.layers.Dense(256, activation='relu', name=\"resdense_3\")\n",
    "o3_1 = dense_layer_3(tf.subtract(o1_1, o2_1))\n",
    "o3_2 = dense_layer_3(tf.subtract(o1_2, o2_2))\n",
    "\n",
    "# dense_layer_4 = tf.keras.layers.Dense(256, activation='relu', name=\"resdense_4\")\n",
    "# o4_1 = dense_layer_4(o3_1)\n",
    "# o4_2 = dense_layer_4(o3_2)\n",
    "\n",
    "# # Residual layer\n",
    "# dense_layer_5 = tf.keras.layers.Dense(256, activation='relu', name=\"resdense_5\")\n",
    "# o5_1 = dense_layer_5(tf.subtract(o3_1, o4_1))\n",
    "# o5_2 = dense_layer_5(tf.subtract(o3_2, o4_2))\n",
    "\n",
    "# dense_layer_6 = tf.keras.layers.Dense(256, activation='relu', name=\"resdense_6\")\n",
    "# o6_1 = dense_layer_6(o5_1)\n",
    "# o6_2 = dense_layer_6(o5_2)\n",
    "\n",
    "# # Residual layer\n",
    "# dense_layer_7 = tf.keras.layers.Dense(256, activation='relu', name=\"resdense_7\")\n",
    "# o7_1 = dense_layer_7(tf.subtract(o5_1, o6_1))\n",
    "# o7_2 = dense_layer_7(tf.subtract(o5_2, o6_2))\n",
    "\n",
    "# dense_layer_8 = tf.keras.layers.Dense(256, activation='relu', name=\"resdense_8\")\n",
    "# o8_1 = dense_layer_8(o7_1)\n",
    "# o8_2 = dense_layer_8(o7_2)\n",
    "\n",
    "# # Residual layer\n",
    "# dense_layer_9 = tf.keras.layers.Dense(256, activation='relu', name=\"resdense_9\")\n",
    "# o9_1 = dense_layer_9(tf.subtract(o7_1, o8_1))\n",
    "# o9_2 = dense_layer_9(tf.subtract(o7_2, o8_2))\n",
    "\n",
    "# Merging\n",
    "# merge = tf.math.abs(tf.subtract(o9_1,o9_2))\n",
    "merge = tf.math.abs(tf.subtract(o3_1,o3_2))\n",
    "\n",
    "# MLPNN Classifier\n",
    "hidden = tf.keras.layers.Dense(128, activation='relu', name=\"hidden_layer\")(merge)\n",
    "# dropout_layer2 = tf.keras.layers.Dropout(0.4, name=\"Dropout_2\")(hidden)\n",
    "output = tf.keras.layers.Dense(1, activation=\"sigmoid\", name=\"output_layer\")(hidden)#(dropout_layer2)\n",
    "\n",
    "model = tf.keras.Model([x1, x2], output)\n",
    "model.compile(loss = 'binary_crossentropy', optimizer = \"adam\", metrics=[\"binary_accuracy\"])"
   ]
  },
  {
   "cell_type": "code",
   "execution_count": null,
   "metadata": {},
   "outputs": [],
   "source": [
    "x1 = tf.keras.Input(shape=(1200,), name=\"Input_1\")\n",
    "x2 = tf.keras.Input(shape=(1200,), name=\"Input_2\")\n",
    "\n",
    "hidden1 = tf.keras.layers.Dense(128, activation='relu', name=\"hidden_layer1\")\n",
    "h1 = hidden1(x1)\n",
    "h2 = hidden1(x2)\n",
    "\n",
    "# Dropout\n",
    "dropout_layer = tf.keras.layers.Dropout(0.4, name=\"Dropout_1\")\n",
    "d1 = dropout_layer(h1)\n",
    "d2 = dropout_layer(h2)\n",
    "\n",
    "# merge = cl.AbsoluteResidual(name=\"AbsoluteResidual\")([o9_1,o9_2])\n",
    "merge = tf.subtract(d1,d2, name=\"merge\")\n",
    "\n",
    "# MLPNN Classifier\n",
    "hidden2 = tf.keras.layers.Dense(128, activation='relu', name=\"hidden_layer2\")(merge)\n",
    "dropout_layer2 = tf.keras.layers.Dropout(0.4, name=\"Dropout_2\")(hidden2)\n",
    "output = tf.keras.layers.Dense(1, activation=\"sigmoid\", name=\"output_layer\")(dropout_layer2)\n",
    "\n",
    "model = tf.keras.Model([x1, x2], output)\n",
    "model.compile(loss = 'binary_crossentropy', optimizer = \"adam\", metrics=[\"binary_accuracy\"])"
   ]
  },
  {
   "cell_type": "code",
   "execution_count": 14,
   "metadata": {},
   "outputs": [
    {
     "name": "stdout",
     "output_type": "stream",
     "text": [
      "Model: \"model\"\n",
      "__________________________________________________________________________________________________\n",
      " Layer (type)                   Output Shape         Param #     Connected to                     \n",
      "==================================================================================================\n",
      " input_1 (InputLayer)           [(None, 1200)]       0           []                               \n",
      "                                                                                                  \n",
      " input_2 (InputLayer)           [(None, 1200)]       0           []                               \n",
      "                                                                                                  \n",
      " resdense_1 (Dense)             (None, 256)          307456      ['input_1[0][0]',                \n",
      "                                                                  'input_2[0][0]']                \n",
      "                                                                                                  \n",
      " resdense_2 (Dense)             (None, 256)          65792       ['resdense_1[0][0]',             \n",
      "                                                                  'resdense_1[1][0]']             \n",
      "                                                                                                  \n",
      " tf.math.subtract (TFOpLambda)  (None, 256)          0           ['resdense_1[0][0]',             \n",
      "                                                                  'resdense_2[0][0]']             \n",
      "                                                                                                  \n",
      " tf.math.subtract_1 (TFOpLambda  (None, 256)         0           ['resdense_1[1][0]',             \n",
      " )                                                                'resdense_2[1][0]']             \n",
      "                                                                                                  \n",
      " resdense_3 (Dense)             (None, 256)          65792       ['tf.math.subtract[0][0]',       \n",
      "                                                                  'tf.math.subtract_1[0][0]']     \n",
      "                                                                                                  \n",
      " tf.math.subtract_2 (TFOpLambda  (None, 256)         0           ['resdense_3[0][0]',             \n",
      " )                                                                'resdense_3[1][0]']             \n",
      "                                                                                                  \n",
      " tf.math.abs (TFOpLambda)       (None, 256)          0           ['tf.math.subtract_2[0][0]']     \n",
      "                                                                                                  \n",
      " hidden_layer (Dense)           (None, 128)          32896       ['tf.math.abs[0][0]']            \n",
      "                                                                                                  \n",
      " output_layer (Dense)           (None, 1)            129         ['hidden_layer[0][0]']           \n",
      "                                                                                                  \n",
      "==================================================================================================\n",
      "Total params: 472,065\n",
      "Trainable params: 472,065\n",
      "Non-trainable params: 0\n",
      "__________________________________________________________________________________________________\n"
     ]
    }
   ],
   "source": [
    "model.summary()"
   ]
  },
  {
   "cell_type": "markdown",
   "metadata": {},
   "source": [
    "### Entrenamiento de red siamesa"
   ]
  },
  {
   "cell_type": "code",
   "execution_count": 15,
   "metadata": {},
   "outputs": [
    {
     "name": "stdout",
     "output_type": "stream",
     "text": [
      "train:  31464\n",
      "test:  1508\n"
     ]
    }
   ],
   "source": [
    "print(\"train: \", train.shape[0])\n",
    "print(\"test: \", val.shape[0])"
   ]
  },
  {
   "cell_type": "code",
   "execution_count": 16,
   "metadata": {},
   "outputs": [
    {
     "name": "stdout",
     "output_type": "stream",
     "text": [
      "train:  15732\n",
      "test:  754\n"
     ]
    }
   ],
   "source": [
    "print(\"train: \", train.id.unique().size)\n",
    "print(\"test: \", val.id.unique().size)"
   ]
  },
  {
   "cell_type": "code",
   "execution_count": 17,
   "metadata": {},
   "outputs": [],
   "source": [
    "# Parameters\n",
    "params = {'dim': (1200,),\n",
    "            'batch_size': 32,\n",
    "            'shuffle': True}"
   ]
  },
  {
   "cell_type": "code",
   "execution_count": 18,
   "metadata": {},
   "outputs": [],
   "source": [
    "# Generators\n",
    "training_generator = DataGenerator(partition['train'], train, labels, full_spectra, **params)\n",
    "validation_generator = DataGenerator(partition['validation'], val, labels, full_spectra, **params)"
   ]
  },
  {
   "cell_type": "code",
   "execution_count": 21,
   "metadata": {},
   "outputs": [
    {
     "data": {
      "text/plain": [
       "'/device:GPU:0'"
      ]
     },
     "execution_count": 21,
     "metadata": {},
     "output_type": "execute_result"
    },
    {
     "name": "stderr",
     "output_type": "stream",
     "text": [
      "2022-05-17 16:58:01.179570: I tensorflow/stream_executor/cuda/cuda_gpu_executor.cc:936] successful NUMA node read from SysFS had negative value (-1), but there must be at least one NUMA node, so returning NUMA node zero\n",
      "2022-05-17 16:58:01.179714: I tensorflow/stream_executor/cuda/cuda_gpu_executor.cc:936] successful NUMA node read from SysFS had negative value (-1), but there must be at least one NUMA node, so returning NUMA node zero\n",
      "2022-05-17 16:58:01.179793: I tensorflow/stream_executor/cuda/cuda_gpu_executor.cc:936] successful NUMA node read from SysFS had negative value (-1), but there must be at least one NUMA node, so returning NUMA node zero\n",
      "2022-05-17 16:58:01.179903: I tensorflow/stream_executor/cuda/cuda_gpu_executor.cc:936] successful NUMA node read from SysFS had negative value (-1), but there must be at least one NUMA node, so returning NUMA node zero\n",
      "2022-05-17 16:58:01.179991: I tensorflow/stream_executor/cuda/cuda_gpu_executor.cc:936] successful NUMA node read from SysFS had negative value (-1), but there must be at least one NUMA node, so returning NUMA node zero\n",
      "2022-05-17 16:58:01.180056: I tensorflow/core/common_runtime/gpu/gpu_device.cc:1525] Created device /device:GPU:0 with 7656 MB memory:  -> device: 0, name: NVIDIA GeForce RTX 3080, pci bus id: 0000:01:00.0, compute capability: 8.6\n"
     ]
    }
   ],
   "source": [
    "tf.test.gpu_device_name()"
   ]
  },
  {
   "cell_type": "code",
   "execution_count": 22,
   "metadata": {},
   "outputs": [
    {
     "name": "stdout",
     "output_type": "stream",
     "text": [
      "Epoch 1/100\n"
     ]
    },
    {
     "name": "stderr",
     "output_type": "stream",
     "text": [
      "2022-05-17 16:58:16.700110: I tensorflow/stream_executor/cuda/cuda_blas.cc:1786] TensorFloat-32 will be used for the matrix multiplication. This will only be logged once.\n"
     ]
    },
    {
     "name": "stdout",
     "output_type": "stream",
     "text": [
      "491/491 [==============================] - 29s 56ms/step - loss: 1.3511 - binary_accuracy: 0.5527 - val_loss: 0.7614 - val_binary_accuracy: 0.5177\n",
      "Epoch 2/100\n",
      "491/491 [==============================] - 27s 56ms/step - loss: 0.6716 - binary_accuracy: 0.5960 - val_loss: 0.7708 - val_binary_accuracy: 0.5082\n",
      "Epoch 3/100\n",
      "491/491 [==============================] - 27s 56ms/step - loss: 0.6849 - binary_accuracy: 0.5294 - val_loss: 0.7258 - val_binary_accuracy: 0.4837\n",
      "Epoch 4/100\n",
      "491/491 [==============================] - 27s 56ms/step - loss: 0.6811 - binary_accuracy: 0.5146 - val_loss: 0.7489 - val_binary_accuracy: 0.4946\n",
      "Epoch 5/100\n",
      "491/491 [==============================] - 28s 56ms/step - loss: 0.6799 - binary_accuracy: 0.5129 - val_loss: 0.7834 - val_binary_accuracy: 0.4905\n",
      "Epoch 6/100\n",
      "491/491 [==============================] - 27s 56ms/step - loss: 0.6858 - binary_accuracy: 0.5128 - val_loss: 0.6909 - val_binary_accuracy: 0.5014\n",
      "Epoch 7/100\n",
      "491/491 [==============================] - 27s 56ms/step - loss: 0.6866 - binary_accuracy: 0.5075 - val_loss: 0.6907 - val_binary_accuracy: 0.5027\n",
      "Epoch 8/100\n",
      "491/491 [==============================] - 27s 56ms/step - loss: 0.6876 - binary_accuracy: 0.5096 - val_loss: 0.6907 - val_binary_accuracy: 0.5014\n",
      "Epoch 9/100\n",
      "491/491 [==============================] - 28s 57ms/step - loss: 0.6880 - binary_accuracy: 0.5118 - val_loss: 0.6912 - val_binary_accuracy: 0.5014\n",
      "Epoch 10/100\n",
      "491/491 [==============================] - 27s 56ms/step - loss: 0.6877 - binary_accuracy: 0.5116 - val_loss: 0.6913 - val_binary_accuracy: 0.5000\n",
      "Epoch 11/100\n",
      "491/491 [==============================] - 27s 56ms/step - loss: 0.6881 - binary_accuracy: 0.5124 - val_loss: 0.6915 - val_binary_accuracy: 0.5014\n",
      "Epoch 12/100\n",
      "491/491 [==============================] - 27s 56ms/step - loss: 0.6878 - binary_accuracy: 0.5091 - val_loss: 0.6917 - val_binary_accuracy: 0.4986\n",
      "Epoch 13/100\n",
      "491/491 [==============================] - 27s 56ms/step - loss: 0.6876 - binary_accuracy: 0.5116 - val_loss: 0.6921 - val_binary_accuracy: 0.5041\n",
      "Epoch 14/100\n",
      "491/491 [==============================] - 28s 56ms/step - loss: 0.6878 - binary_accuracy: 0.5123 - val_loss: 0.6925 - val_binary_accuracy: 0.5000\n",
      "Epoch 15/100\n",
      "491/491 [==============================] - 27s 56ms/step - loss: 0.6898 - binary_accuracy: 0.5027 - val_loss: 0.6928 - val_binary_accuracy: 0.5014\n",
      "Epoch 16/100\n",
      "491/491 [==============================] - 27s 56ms/step - loss: 0.6897 - binary_accuracy: 0.5058 - val_loss: 0.6933 - val_binary_accuracy: 0.4823\n",
      "Epoch 17/100\n",
      "491/491 [==============================] - 27s 56ms/step - loss: 0.6893 - binary_accuracy: 0.5017 - val_loss: 0.6945 - val_binary_accuracy: 0.4837\n",
      "Epoch 18/100\n",
      "491/491 [==============================] - 28s 57ms/step - loss: 0.6879 - binary_accuracy: 0.5124 - val_loss: 0.6953 - val_binary_accuracy: 0.4837\n",
      "Epoch 19/100\n",
      "491/491 [==============================] - 28s 57ms/step - loss: 0.6877 - binary_accuracy: 0.5130 - val_loss: 0.6956 - val_binary_accuracy: 0.4864\n",
      "Epoch 20/100\n",
      "491/491 [==============================] - 28s 56ms/step - loss: 0.6878 - binary_accuracy: 0.5132 - val_loss: 0.6981 - val_binary_accuracy: 0.4837\n",
      "Epoch 21/100\n",
      "491/491 [==============================] - 28s 56ms/step - loss: 0.6876 - binary_accuracy: 0.5131 - val_loss: 0.6971 - val_binary_accuracy: 0.4796\n",
      "Epoch 22/100\n",
      "491/491 [==============================] - 28s 56ms/step - loss: 0.6890 - binary_accuracy: 0.5106 - val_loss: 0.6984 - val_binary_accuracy: 0.4810\n",
      "Epoch 23/100\n",
      "491/491 [==============================] - 27s 56ms/step - loss: 0.6896 - binary_accuracy: 0.5034 - val_loss: 0.6980 - val_binary_accuracy: 0.4864\n",
      "Epoch 24/100\n",
      "491/491 [==============================] - 28s 56ms/step - loss: 0.6897 - binary_accuracy: 0.5094 - val_loss: 0.6990 - val_binary_accuracy: 0.4959\n",
      "Epoch 25/100\n",
      "491/491 [==============================] - 28s 56ms/step - loss: 0.6897 - binary_accuracy: 0.5039 - val_loss: 0.7005 - val_binary_accuracy: 0.4837\n",
      "Epoch 26/100\n",
      "491/491 [==============================] - 27s 56ms/step - loss: 0.6896 - binary_accuracy: 0.5059 - val_loss: 0.6997 - val_binary_accuracy: 0.4864\n",
      "Epoch 27/100\n",
      "491/491 [==============================] - 28s 56ms/step - loss: 0.6896 - binary_accuracy: 0.5082 - val_loss: 0.7013 - val_binary_accuracy: 0.4946\n",
      "Epoch 28/100\n",
      "491/491 [==============================] - 28s 57ms/step - loss: 0.6897 - binary_accuracy: 0.5041 - val_loss: 0.7025 - val_binary_accuracy: 0.4864\n",
      "Epoch 29/100\n",
      "491/491 [==============================] - 27s 56ms/step - loss: 0.6895 - binary_accuracy: 0.5045 - val_loss: 0.7025 - val_binary_accuracy: 0.5027\n",
      "Epoch 30/100\n",
      "491/491 [==============================] - 27s 55ms/step - loss: 0.6895 - binary_accuracy: 0.5015 - val_loss: 0.6996 - val_binary_accuracy: 0.4878\n",
      "Epoch 31/100\n",
      "491/491 [==============================] - 27s 56ms/step - loss: 0.6895 - binary_accuracy: 0.5102 - val_loss: 0.7048 - val_binary_accuracy: 0.5000\n",
      "Epoch 32/100\n",
      "491/491 [==============================] - 27s 56ms/step - loss: 0.6895 - binary_accuracy: 0.5088 - val_loss: 0.7022 - val_binary_accuracy: 0.4851\n",
      "Epoch 33/100\n",
      "491/491 [==============================] - 27s 56ms/step - loss: 0.6895 - binary_accuracy: 0.5076 - val_loss: 0.7004 - val_binary_accuracy: 0.4878\n",
      "Epoch 34/100\n",
      "491/491 [==============================] - 27s 56ms/step - loss: 0.6926 - binary_accuracy: 0.4956 - val_loss: 0.7002 - val_binary_accuracy: 0.4796\n",
      "Epoch 35/100\n",
      "491/491 [==============================] - 27s 56ms/step - loss: 0.6932 - binary_accuracy: 0.5003 - val_loss: 0.6995 - val_binary_accuracy: 0.4837\n",
      "Epoch 36/100\n",
      "491/491 [==============================] - 27s 55ms/step - loss: 0.6932 - binary_accuracy: 0.4997 - val_loss: 0.6993 - val_binary_accuracy: 0.5014\n",
      "Epoch 37/100\n",
      "491/491 [==============================] - 27s 56ms/step - loss: 0.6932 - binary_accuracy: 0.4977 - val_loss: 0.6998 - val_binary_accuracy: 0.4823\n",
      "Epoch 38/100\n",
      "491/491 [==============================] - 27s 56ms/step - loss: 0.6932 - binary_accuracy: 0.4934 - val_loss: 0.6997 - val_binary_accuracy: 0.5014\n",
      "Epoch 39/100\n",
      "491/491 [==============================] - 27s 56ms/step - loss: 0.6932 - binary_accuracy: 0.4957 - val_loss: 0.6994 - val_binary_accuracy: 0.4783\n",
      "Epoch 40/100\n",
      "491/491 [==============================] - 27s 56ms/step - loss: 0.6932 - binary_accuracy: 0.4978 - val_loss: 0.6992 - val_binary_accuracy: 0.4810\n",
      "Epoch 41/100\n",
      "491/491 [==============================] - 27s 56ms/step - loss: 0.6932 - binary_accuracy: 0.5017 - val_loss: 0.6990 - val_binary_accuracy: 0.4986\n",
      "Epoch 42/100\n",
      "491/491 [==============================] - 28s 56ms/step - loss: 0.6932 - binary_accuracy: 0.5022 - val_loss: 0.6989 - val_binary_accuracy: 0.4810\n",
      "Epoch 43/100\n",
      "491/491 [==============================] - 27s 56ms/step - loss: 0.6932 - binary_accuracy: 0.4966 - val_loss: 0.6987 - val_binary_accuracy: 0.4837\n",
      "Epoch 44/100\n",
      "491/491 [==============================] - 27s 56ms/step - loss: 0.6932 - binary_accuracy: 0.5024 - val_loss: 0.6982 - val_binary_accuracy: 0.4810\n",
      "Epoch 45/100\n",
      "491/491 [==============================] - 27s 56ms/step - loss: 0.6932 - binary_accuracy: 0.5002 - val_loss: 0.6981 - val_binary_accuracy: 0.4986\n",
      "Epoch 46/100\n",
      "491/491 [==============================] - 27s 56ms/step - loss: 0.6932 - binary_accuracy: 0.4989 - val_loss: 0.6984 - val_binary_accuracy: 0.4864\n",
      "Epoch 47/100\n",
      "491/491 [==============================] - 27s 56ms/step - loss: 0.6932 - binary_accuracy: 0.4971 - val_loss: 0.6980 - val_binary_accuracy: 0.5000\n",
      "Epoch 48/100\n",
      "491/491 [==============================] - 27s 56ms/step - loss: 0.6932 - binary_accuracy: 0.4934 - val_loss: 0.6983 - val_binary_accuracy: 0.4986\n",
      "Epoch 49/100\n",
      "491/491 [==============================] - 27s 55ms/step - loss: 0.6932 - binary_accuracy: 0.4914 - val_loss: 0.6982 - val_binary_accuracy: 0.5000\n",
      "Epoch 50/100\n",
      "491/491 [==============================] - 27s 55ms/step - loss: 0.6932 - binary_accuracy: 0.4996 - val_loss: 0.6981 - val_binary_accuracy: 0.4986\n",
      "Epoch 51/100\n",
      "491/491 [==============================] - 26s 54ms/step - loss: 0.6932 - binary_accuracy: 0.4957 - val_loss: 0.6979 - val_binary_accuracy: 0.5000\n",
      "Epoch 52/100\n",
      "491/491 [==============================] - 27s 55ms/step - loss: 0.6932 - binary_accuracy: 0.4963 - val_loss: 0.6978 - val_binary_accuracy: 0.5027\n",
      "Epoch 53/100\n",
      "491/491 [==============================] - 27s 54ms/step - loss: 0.6932 - binary_accuracy: 0.5006 - val_loss: 0.6973 - val_binary_accuracy: 0.4891\n",
      "Epoch 54/100\n",
      "491/491 [==============================] - 26s 54ms/step - loss: 0.6932 - binary_accuracy: 0.4943 - val_loss: 0.6973 - val_binary_accuracy: 0.5000\n",
      "Epoch 55/100\n",
      "491/491 [==============================] - 27s 54ms/step - loss: 0.6932 - binary_accuracy: 0.4953 - val_loss: 0.6976 - val_binary_accuracy: 0.4959\n",
      "Epoch 56/100\n",
      "491/491 [==============================] - 27s 55ms/step - loss: 0.6932 - binary_accuracy: 0.4922 - val_loss: 0.6975 - val_binary_accuracy: 0.4823\n",
      "Epoch 57/100\n",
      "491/491 [==============================] - 27s 54ms/step - loss: 0.6932 - binary_accuracy: 0.4996 - val_loss: 0.6972 - val_binary_accuracy: 0.4837\n",
      "Epoch 58/100\n",
      "491/491 [==============================] - 27s 54ms/step - loss: 0.6932 - binary_accuracy: 0.4988 - val_loss: 0.6971 - val_binary_accuracy: 0.4823\n",
      "Epoch 59/100\n",
      "491/491 [==============================] - 27s 55ms/step - loss: 0.6932 - binary_accuracy: 0.4948 - val_loss: 0.6975 - val_binary_accuracy: 0.4864\n",
      "Epoch 60/100\n",
      "491/491 [==============================] - 27s 55ms/step - loss: 0.6932 - binary_accuracy: 0.4950 - val_loss: 0.6975 - val_binary_accuracy: 0.4986\n",
      "Epoch 61/100\n",
      "491/491 [==============================] - 27s 56ms/step - loss: 0.6932 - binary_accuracy: 0.4960 - val_loss: 0.6975 - val_binary_accuracy: 0.4986\n",
      "Epoch 62/100\n",
      "491/491 [==============================] - 27s 56ms/step - loss: 0.6932 - binary_accuracy: 0.5000 - val_loss: 0.6975 - val_binary_accuracy: 0.4755\n",
      "Epoch 63/100\n",
      "491/491 [==============================] - 27s 55ms/step - loss: 0.6932 - binary_accuracy: 0.4947 - val_loss: 0.6975 - val_binary_accuracy: 0.5027\n",
      "Epoch 64/100\n",
      "491/491 [==============================] - 28s 56ms/step - loss: 0.6932 - binary_accuracy: 0.4950 - val_loss: 0.6975 - val_binary_accuracy: 0.4864\n",
      "Epoch 65/100\n",
      "491/491 [==============================] - 28s 56ms/step - loss: 0.6932 - binary_accuracy: 0.4943 - val_loss: 0.6971 - val_binary_accuracy: 0.5014\n",
      "Epoch 66/100\n",
      "491/491 [==============================] - 28s 56ms/step - loss: 0.6932 - binary_accuracy: 0.5000 - val_loss: 0.6975 - val_binary_accuracy: 0.4796\n",
      "Epoch 67/100\n",
      "491/491 [==============================] - 28s 57ms/step - loss: 0.6932 - binary_accuracy: 0.4954 - val_loss: 0.6971 - val_binary_accuracy: 0.5027\n",
      "Epoch 68/100\n",
      "491/491 [==============================] - 28s 56ms/step - loss: 0.6932 - binary_accuracy: 0.4979 - val_loss: 0.6975 - val_binary_accuracy: 0.4810\n",
      "Epoch 69/100\n",
      "491/491 [==============================] - 27s 56ms/step - loss: 0.6932 - binary_accuracy: 0.4979 - val_loss: 0.6975 - val_binary_accuracy: 0.4783\n",
      "Epoch 70/100\n",
      "491/491 [==============================] - 27s 56ms/step - loss: 0.6932 - binary_accuracy: 0.4964 - val_loss: 0.6975 - val_binary_accuracy: 0.4986\n",
      "Epoch 71/100\n",
      "491/491 [==============================] - 27s 56ms/step - loss: 0.6932 - binary_accuracy: 0.4947 - val_loss: 0.6974 - val_binary_accuracy: 0.4878\n",
      "Epoch 72/100\n",
      "491/491 [==============================] - 28s 56ms/step - loss: 0.6932 - binary_accuracy: 0.4941 - val_loss: 0.6975 - val_binary_accuracy: 0.4878\n",
      "Epoch 73/100\n",
      "491/491 [==============================] - 27s 55ms/step - loss: 0.6932 - binary_accuracy: 0.4964 - val_loss: 0.6975 - val_binary_accuracy: 0.4986\n",
      "Epoch 74/100\n",
      "491/491 [==============================] - 27s 56ms/step - loss: 0.6932 - binary_accuracy: 0.4997 - val_loss: 0.6971 - val_binary_accuracy: 0.4837\n",
      "Epoch 75/100\n",
      "491/491 [==============================] - 27s 56ms/step - loss: 0.6932 - binary_accuracy: 0.4975 - val_loss: 0.6975 - val_binary_accuracy: 0.4837\n",
      "Epoch 76/100\n",
      "491/491 [==============================] - 28s 56ms/step - loss: 0.6932 - binary_accuracy: 0.4990 - val_loss: 0.6974 - val_binary_accuracy: 0.4851\n",
      "Epoch 77/100\n",
      "491/491 [==============================] - 27s 55ms/step - loss: 0.6932 - binary_accuracy: 0.4978 - val_loss: 0.6971 - val_binary_accuracy: 0.4864\n",
      "Epoch 78/100\n",
      "491/491 [==============================] - 27s 55ms/step - loss: 0.6932 - binary_accuracy: 0.4970 - val_loss: 0.6975 - val_binary_accuracy: 0.4823\n",
      "Epoch 79/100\n",
      "491/491 [==============================] - 27s 56ms/step - loss: 0.6932 - binary_accuracy: 0.4997 - val_loss: 0.6971 - val_binary_accuracy: 0.5027\n",
      "Epoch 80/100\n",
      "491/491 [==============================] - 27s 56ms/step - loss: 0.6932 - binary_accuracy: 0.4976 - val_loss: 0.6975 - val_binary_accuracy: 0.4810\n",
      "Epoch 81/100\n",
      "491/491 [==============================] - 27s 56ms/step - loss: 0.6932 - binary_accuracy: 0.4973 - val_loss: 0.6975 - val_binary_accuracy: 0.4823\n",
      "Epoch 82/100\n",
      "491/491 [==============================] - 27s 56ms/step - loss: 0.6932 - binary_accuracy: 0.4969 - val_loss: 0.6975 - val_binary_accuracy: 0.4986\n",
      "Epoch 83/100\n",
      "491/491 [==============================] - 28s 56ms/step - loss: 0.6932 - binary_accuracy: 0.4994 - val_loss: 0.6974 - val_binary_accuracy: 0.4891\n",
      "Epoch 84/100\n",
      "491/491 [==============================] - 27s 56ms/step - loss: 0.6932 - binary_accuracy: 0.4926 - val_loss: 0.6975 - val_binary_accuracy: 0.4823\n",
      "Epoch 85/100\n",
      "491/491 [==============================] - 28s 56ms/step - loss: 0.6932 - binary_accuracy: 0.4951 - val_loss: 0.6971 - val_binary_accuracy: 0.4864\n",
      "Epoch 86/100\n",
      "491/491 [==============================] - 27s 55ms/step - loss: 0.6932 - binary_accuracy: 0.5008 - val_loss: 0.6975 - val_binary_accuracy: 0.5014\n",
      "Epoch 87/100\n",
      "491/491 [==============================] - 28s 57ms/step - loss: 0.6932 - binary_accuracy: 0.4982 - val_loss: 0.6975 - val_binary_accuracy: 0.4796\n",
      "Epoch 88/100\n",
      "491/491 [==============================] - 27s 55ms/step - loss: 0.6932 - binary_accuracy: 0.4943 - val_loss: 0.6975 - val_binary_accuracy: 0.5027\n",
      "Epoch 89/100\n",
      "491/491 [==============================] - 28s 56ms/step - loss: 0.6932 - binary_accuracy: 0.4950 - val_loss: 0.6975 - val_binary_accuracy: 0.4959\n",
      "Epoch 90/100\n",
      "491/491 [==============================] - 27s 56ms/step - loss: 0.6932 - binary_accuracy: 0.4975 - val_loss: 0.6975 - val_binary_accuracy: 0.4837\n",
      "Epoch 91/100\n",
      "491/491 [==============================] - 28s 57ms/step - loss: 0.6932 - binary_accuracy: 0.4948 - val_loss: 0.6971 - val_binary_accuracy: 0.5014\n",
      "Epoch 92/100\n",
      "491/491 [==============================] - 27s 56ms/step - loss: 0.6932 - binary_accuracy: 0.4939 - val_loss: 0.6977 - val_binary_accuracy: 0.4973\n",
      "Epoch 93/100\n",
      "491/491 [==============================] - 27s 56ms/step - loss: 0.6932 - binary_accuracy: 0.4949 - val_loss: 0.6971 - val_binary_accuracy: 0.5000\n",
      "Epoch 94/100\n",
      "491/491 [==============================] - 28s 56ms/step - loss: 0.6932 - binary_accuracy: 0.4972 - val_loss: 0.6975 - val_binary_accuracy: 0.5000\n",
      "Epoch 95/100\n",
      "491/491 [==============================] - 28s 56ms/step - loss: 0.6932 - binary_accuracy: 0.4956 - val_loss: 0.6971 - val_binary_accuracy: 0.5014\n",
      "Epoch 96/100\n",
      "491/491 [==============================] - 27s 56ms/step - loss: 0.6932 - binary_accuracy: 0.4985 - val_loss: 0.6975 - val_binary_accuracy: 0.4810\n",
      "Epoch 97/100\n",
      "491/491 [==============================] - 28s 56ms/step - loss: 0.6932 - binary_accuracy: 0.5010 - val_loss: 0.6971 - val_binary_accuracy: 0.4864\n",
      "Epoch 98/100\n",
      "491/491 [==============================] - 28s 57ms/step - loss: 0.6932 - binary_accuracy: 0.4961 - val_loss: 0.6975 - val_binary_accuracy: 0.4783\n",
      "Epoch 99/100\n",
      "491/491 [==============================] - 27s 56ms/step - loss: 0.6932 - binary_accuracy: 0.5013 - val_loss: 0.6968 - val_binary_accuracy: 0.4986\n",
      "Epoch 100/100\n",
      "491/491 [==============================] - 27s 55ms/step - loss: 0.6932 - binary_accuracy: 0.4950 - val_loss: 0.6975 - val_binary_accuracy: 0.4986\n"
     ]
    }
   ],
   "source": [
    "# Train model on dataset\n",
    "with tf.device('/device:GPU:0'):\n",
    "    history = model.fit(x=training_generator,\n",
    "                        validation_data=validation_generator,\n",
    "                        # use_multiprocessing=True,\n",
    "                        # workers=4,\n",
    "                        epochs=100,\n",
    "                        verbose=1)"
   ]
  },
  {
   "cell_type": "code",
   "execution_count": 23,
   "metadata": {},
   "outputs": [
    {
     "name": "stderr",
     "output_type": "stream",
     "text": [
      "2022-05-17 17:49:21.506740: W tensorflow/python/util/util.cc:368] Sets are not currently considered sequences, but this may change in the future, so consider avoiding using them.\n"
     ]
    },
    {
     "name": "stdout",
     "output_type": "stream",
     "text": [
      "INFO:tensorflow:Assets written to: models/SiameseNetwork-1/assets\n"
     ]
    }
   ],
   "source": [
    "model.save('models/SiameseNetwork-1')"
   ]
  },
  {
   "cell_type": "markdown",
   "metadata": {},
   "source": [
    "### Resultados del entrenamiento"
   ]
  },
  {
   "cell_type": "code",
   "execution_count": 24,
   "metadata": {},
   "outputs": [],
   "source": [
    "import matplotlib.pyplot as plt\n",
    "import seaborn as sns\n",
    "sns.set_theme(style=\"darkgrid\")"
   ]
  },
  {
   "cell_type": "code",
   "execution_count": 25,
   "metadata": {},
   "outputs": [
    {
     "data": {
      "text/plain": [
       "dict_keys(['loss', 'binary_accuracy', 'val_loss', 'val_binary_accuracy'])"
      ]
     },
     "execution_count": 25,
     "metadata": {},
     "output_type": "execute_result"
    }
   ],
   "source": [
    "history.history.keys()"
   ]
  },
  {
   "cell_type": "code",
   "execution_count": 26,
   "metadata": {},
   "outputs": [],
   "source": [
    "acc = pd.DataFrame({'accuracy':history.history['binary_accuracy'], 'type':'train'}).reset_index().rename(columns={'index':'epoch'})\n",
    "acc = pd.concat([acc, pd.DataFrame({'accuracy':history.history['val_binary_accuracy'], 'type':'val'}).reset_index().rename(columns={'index':'epoch'})]).reset_index(drop=True)\n",
    "loss = pd.DataFrame({'loss':history.history['loss'], 'type':'train'}).reset_index().rename(columns={'index':'epoch'})\n",
    "loss = pd.concat([loss, pd.DataFrame({'loss':history.history['val_loss'], 'type':'val'}).reset_index().rename(columns={'index':'epoch'})]).reset_index(drop=True)"
   ]
  },
  {
   "cell_type": "code",
   "execution_count": 27,
   "metadata": {},
   "outputs": [
    {
     "data": {
      "image/png": "[encoded data removed]",
      "text/plain": [
       "<Figure size 1080x360 with 2 Axes>"
      ]
     },
     "metadata": {},
     "output_type": "display_data"
    }
   ],
   "source": [
    "fig, ax = plt.subplots(nrows=1, ncols=2, figsize=(15,5))\n",
    "sns.lineplot(x='epoch', y='accuracy', data=acc, hue='type', ax=ax[0])\n",
    "sns.lineplot(x='epoch', y='loss', data=loss, hue='type', ax=ax[1])\n",
    "plt.show()"
   ]
  },
  {
   "cell_type": "code",
   "execution_count": 36,
   "metadata": {},
   "outputs": [
    {
     "data": {
      "text/html": [
       "<div>\n",
       "<style scoped>\n",
       "    .dataframe tbody tr th:only-of-type {\n",
       "        vertical-align: middle;\n",
       "    }\n",
       "\n",
       "    .dataframe tbody tr th {\n",
       "        vertical-align: top;\n",
       "    }\n",
       "\n",
       "    .dataframe thead th {\n",
       "        text-align: right;\n",
       "    }\n",
       "</style>\n",
       "<table border=\"1\" class=\"dataframe\">\n",
       "  <thead>\n",
       "    <tr style=\"text-align: right;\">\n",
       "      <th></th>\n",
       "      <th>epoch</th>\n",
       "      <th>accuracy</th>\n",
       "      <th>type</th>\n",
       "    </tr>\n",
       "  </thead>\n",
       "  <tbody>\n",
       "    <tr>\n",
       "      <th>99</th>\n",
       "      <td>99</td>\n",
       "      <td>0.494972</td>\n",
       "      <td>train</td>\n",
       "    </tr>\n",
       "    <tr>\n",
       "      <th>199</th>\n",
       "      <td>99</td>\n",
       "      <td>0.498641</td>\n",
       "      <td>val</td>\n",
       "    </tr>\n",
       "  </tbody>\n",
       "</table>\n",
       "</div>"
      ],
      "text/plain": [
       "     epoch  accuracy   type\n",
       "99      99  0.494972  train\n",
       "199     99  0.498641    val"
      ]
     },
     "execution_count": 36,
     "metadata": {},
     "output_type": "execute_result"
    }
   ],
   "source": [
    "acc.loc[acc.epoch==99]"
   ]
  },
  {
   "cell_type": "code",
   "execution_count": 37,
   "metadata": {},
   "outputs": [
    {
     "data": {
      "text/html": [
       "<div>\n",
       "<style scoped>\n",
       "    .dataframe tbody tr th:only-of-type {\n",
       "        vertical-align: middle;\n",
       "    }\n",
       "\n",
       "    .dataframe tbody tr th {\n",
       "        vertical-align: top;\n",
       "    }\n",
       "\n",
       "    .dataframe thead th {\n",
       "        text-align: right;\n",
       "    }\n",
       "</style>\n",
       "<table border=\"1\" class=\"dataframe\">\n",
       "  <thead>\n",
       "    <tr style=\"text-align: right;\">\n",
       "      <th></th>\n",
       "      <th>epoch</th>\n",
       "      <th>loss</th>\n",
       "      <th>type</th>\n",
       "    </tr>\n",
       "  </thead>\n",
       "  <tbody>\n",
       "    <tr>\n",
       "      <th>99</th>\n",
       "      <td>99</td>\n",
       "      <td>0.693182</td>\n",
       "      <td>train</td>\n",
       "    </tr>\n",
       "    <tr>\n",
       "      <th>199</th>\n",
       "      <td>99</td>\n",
       "      <td>0.697482</td>\n",
       "      <td>val</td>\n",
       "    </tr>\n",
       "  </tbody>\n",
       "</table>\n",
       "</div>"
      ],
      "text/plain": [
       "     epoch      loss   type\n",
       "99      99  0.693182  train\n",
       "199     99  0.697482    val"
      ]
     },
     "execution_count": 37,
     "metadata": {},
     "output_type": "execute_result"
    }
   ],
   "source": [
    "loss.loc[loss.epoch==99]"
   ]
  }
 ],
 "metadata": {
  "interpreter": {
   "hash": "34185cc76f1746f7da7738a8f19ab6509177ea129d1668aef168b7e0e18c804f"
  },
  "kernelspec": {
   "display_name": "Python 3.9.12 ('base')",
   "language": "python",
   "name": "python3"
  },
  "language_info": {
   "codemirror_mode": {
    "name": "ipython",
    "version": 3
   },
   "file_extension": ".py",
   "mimetype": "text/x-python",
   "name": "python",
   "nbconvert_exporter": "python",
   "pygments_lexer": "ipython3",
   "version": "3.9.12"
  },
  "orig_nbformat": 4
 },
 "nbformat": 4,
 "nbformat_minor": 2
}
