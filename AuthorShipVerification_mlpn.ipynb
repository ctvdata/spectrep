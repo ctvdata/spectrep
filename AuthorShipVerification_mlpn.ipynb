{
 "cells": [
  {
   "cell_type": "code",
   "execution_count": 1,
   "metadata": {},
   "outputs": [],
   "source": [
    "import numpy as np\n",
    "import pandas as pd\n",
    "import tensorflow as tf\n",
    "import json\n",
    "from myGenerator import DataGenerator"
   ]
  },
  {
   "cell_type": "code",
   "execution_count": 37,
   "metadata": {},
   "outputs": [
    {
     "data": {
      "text/plain": [
       "(3, 2, 3)"
      ]
     },
     "execution_count": 37,
     "metadata": {},
     "output_type": "execute_result"
    }
   ],
   "source": [
    "np.array([[[1,2,3],[4,5,6]],\n",
    "        [[7,8,9],[10,11,12]],\n",
    "        [[13,14,15],[16,17,18]]]).shape"
   ]
  },
  {
   "cell_type": "markdown",
   "metadata": {},
   "source": [
    "### Carga de datos"
   ]
  },
  {
   "cell_type": "code",
   "execution_count": 13,
   "metadata": {},
   "outputs": [],
   "source": [
    "train = pd.read_pickle(\"pan22-authorship-verification-training-dataset/particionesXid/PanTrain.plk\")\n",
    "val = pd.read_pickle(\"pan22-authorship-verification-training-dataset/particionesXid/PanVal.plk\")\n",
    "test = pd.read_pickle(\"pan22-authorship-verification-training-dataset/particionesXid/PanTest.plk\")\n",
    "docDict = pd.read_pickle(\"pan22-authorship-verification-training-dataset/particionesXid/UniquePanDocs.plk\")"
   ]
  },
  {
   "cell_type": "code",
   "execution_count": 65,
   "metadata": {},
   "outputs": [],
   "source": [
    "pair_spectra = train.loc[train.id == '0009e74e-f974-4a4a-a64a-09dff3fbe1e5'].merge(full_spectra, left_on='idtext', right_on='id').spectra"
   ]
  },
  {
   "cell_type": "code",
   "execution_count": 74,
   "metadata": {},
   "outputs": [
    {
     "data": {
      "text/plain": [
       "array([30.30144882, 18.66531754, 17.78652   , ...,  9.20715427,\n",
       "        9.08200741,  8.94471073])"
      ]
     },
     "execution_count": 74,
     "metadata": {},
     "output_type": "execute_result"
    }
   ],
   "source": [
    "pair_spectra[0].flatten()"
   ]
  },
  {
   "cell_type": "code",
   "execution_count": 69,
   "metadata": {},
   "outputs": [
    {
     "data": {
      "text/plain": [
       "(1200,)"
      ]
     },
     "execution_count": 69,
     "metadata": {},
     "output_type": "execute_result"
    }
   ],
   "source": [
    "pair_spectra[0].flatten().shape"
   ]
  },
  {
   "cell_type": "code",
   "execution_count": 51,
   "metadata": {},
   "outputs": [
    {
     "data": {
      "text/plain": [
       "Index(['id', 'idtext'], dtype='object')"
      ]
     },
     "execution_count": 51,
     "metadata": {},
     "output_type": "execute_result"
    }
   ],
   "source": [
    "train.columns"
   ]
  },
  {
   "cell_type": "code",
   "execution_count": 49,
   "metadata": {},
   "outputs": [
    {
     "data": {
      "text/plain": [
       "Index(['id', 'spectra'], dtype='object')"
      ]
     },
     "execution_count": 49,
     "metadata": {},
     "output_type": "execute_result"
    }
   ],
   "source": [
    "full_spectra.columns"
   ]
  },
  {
   "cell_type": "code",
   "execution_count": 54,
   "metadata": {},
   "outputs": [
    {
     "data": {
      "text/html": [
       "<div>\n",
       "<style scoped>\n",
       "    .dataframe tbody tr th:only-of-type {\n",
       "        vertical-align: middle;\n",
       "    }\n",
       "\n",
       "    .dataframe tbody tr th {\n",
       "        vertical-align: top;\n",
       "    }\n",
       "\n",
       "    .dataframe thead th {\n",
       "        text-align: right;\n",
       "    }\n",
       "</style>\n",
       "<table border=\"1\" class=\"dataframe\">\n",
       "  <thead>\n",
       "    <tr style=\"text-align: right;\">\n",
       "      <th></th>\n",
       "      <th>id_x</th>\n",
       "      <th>idtext</th>\n",
       "      <th>id_y</th>\n",
       "      <th>spectra</th>\n",
       "    </tr>\n",
       "  </thead>\n",
       "  <tbody>\n",
       "    <tr>\n",
       "      <th>0</th>\n",
       "      <td>0009e74e-f974-4a4a-a64a-09dff3fbe1e5</td>\n",
       "      <td>377</td>\n",
       "      <td>377</td>\n",
       "      <td>[[[30.301448822021484, 18.66531753540039, 17.7...</td>\n",
       "    </tr>\n",
       "    <tr>\n",
       "      <th>1</th>\n",
       "      <td>002aa6f2-4980-493d-9bff-34d5bbb6ee23</td>\n",
       "      <td>377</td>\n",
       "      <td>377</td>\n",
       "      <td>[[[30.301448822021484, 18.66531753540039, 17.7...</td>\n",
       "    </tr>\n",
       "    <tr>\n",
       "      <th>2</th>\n",
       "      <td>0109a2dc-8e31-421c-a470-bf5735a69d55</td>\n",
       "      <td>377</td>\n",
       "      <td>377</td>\n",
       "      <td>[[[30.301448822021484, 18.66531753540039, 17.7...</td>\n",
       "    </tr>\n",
       "    <tr>\n",
       "      <th>3</th>\n",
       "      <td>01f6ad0c-4cd6-44a2-acf0-f8f8b6637cac</td>\n",
       "      <td>377</td>\n",
       "      <td>377</td>\n",
       "      <td>[[[30.301448822021484, 18.66531753540039, 17.7...</td>\n",
       "    </tr>\n",
       "    <tr>\n",
       "      <th>4</th>\n",
       "      <td>03c0b1b3-a515-4a96-b86d-8513eb9b54f3</td>\n",
       "      <td>377</td>\n",
       "      <td>377</td>\n",
       "      <td>[[[30.301448822021484, 18.66531753540039, 17.7...</td>\n",
       "    </tr>\n",
       "    <tr>\n",
       "      <th>...</th>\n",
       "      <td>...</td>\n",
       "      <td>...</td>\n",
       "      <td>...</td>\n",
       "      <td>...</td>\n",
       "    </tr>\n",
       "    <tr>\n",
       "      <th>31459</th>\n",
       "      <td>ab8ed5c7-9756-4d21-80de-282cb7cb863b07340</td>\n",
       "      <td>439</td>\n",
       "      <td>439</td>\n",
       "      <td>[[[31.705324172973633, 18.932188034057617, 17....</td>\n",
       "    </tr>\n",
       "    <tr>\n",
       "      <th>31460</th>\n",
       "      <td>bd154cb1-6f82-4cf4-94f6-449bdae4f38810692</td>\n",
       "      <td>439</td>\n",
       "      <td>439</td>\n",
       "      <td>[[[31.705324172973633, 18.932188034057617, 17....</td>\n",
       "    </tr>\n",
       "    <tr>\n",
       "      <th>31461</th>\n",
       "      <td>ddfa1db2-b847-431a-b3ad-5663050c306d10493</td>\n",
       "      <td>439</td>\n",
       "      <td>439</td>\n",
       "      <td>[[[31.705324172973633, 18.932188034057617, 17....</td>\n",
       "    </tr>\n",
       "    <tr>\n",
       "      <th>31462</th>\n",
       "      <td>df6d3c89-473c-48d9-b912-1cc802bfa27811534</td>\n",
       "      <td>439</td>\n",
       "      <td>439</td>\n",
       "      <td>[[[31.705324172973633, 18.932188034057617, 17....</td>\n",
       "    </tr>\n",
       "    <tr>\n",
       "      <th>31463</th>\n",
       "      <td>dfd51ac0-f111-4bc2-aae5-071627d4f8f509807</td>\n",
       "      <td>439</td>\n",
       "      <td>439</td>\n",
       "      <td>[[[31.705324172973633, 18.932188034057617, 17....</td>\n",
       "    </tr>\n",
       "  </tbody>\n",
       "</table>\n",
       "<p>31464 rows × 4 columns</p>\n",
       "</div>"
      ],
      "text/plain": [
       "                                            id_x  idtext  id_y  \\\n",
       "0           0009e74e-f974-4a4a-a64a-09dff3fbe1e5     377   377   \n",
       "1           002aa6f2-4980-493d-9bff-34d5bbb6ee23     377   377   \n",
       "2           0109a2dc-8e31-421c-a470-bf5735a69d55     377   377   \n",
       "3           01f6ad0c-4cd6-44a2-acf0-f8f8b6637cac     377   377   \n",
       "4           03c0b1b3-a515-4a96-b86d-8513eb9b54f3     377   377   \n",
       "...                                          ...     ...   ...   \n",
       "31459  ab8ed5c7-9756-4d21-80de-282cb7cb863b07340     439   439   \n",
       "31460  bd154cb1-6f82-4cf4-94f6-449bdae4f38810692     439   439   \n",
       "31461  ddfa1db2-b847-431a-b3ad-5663050c306d10493     439   439   \n",
       "31462  df6d3c89-473c-48d9-b912-1cc802bfa27811534     439   439   \n",
       "31463  dfd51ac0-f111-4bc2-aae5-071627d4f8f509807     439   439   \n",
       "\n",
       "                                                 spectra  \n",
       "0      [[[30.301448822021484, 18.66531753540039, 17.7...  \n",
       "1      [[[30.301448822021484, 18.66531753540039, 17.7...  \n",
       "2      [[[30.301448822021484, 18.66531753540039, 17.7...  \n",
       "3      [[[30.301448822021484, 18.66531753540039, 17.7...  \n",
       "4      [[[30.301448822021484, 18.66531753540039, 17.7...  \n",
       "...                                                  ...  \n",
       "31459  [[[31.705324172973633, 18.932188034057617, 17....  \n",
       "31460  [[[31.705324172973633, 18.932188034057617, 17....  \n",
       "31461  [[[31.705324172973633, 18.932188034057617, 17....  \n",
       "31462  [[[31.705324172973633, 18.932188034057617, 17....  \n",
       "31463  [[[31.705324172973633, 18.932188034057617, 17....  \n",
       "\n",
       "[31464 rows x 4 columns]"
      ]
     },
     "execution_count": 54,
     "metadata": {},
     "output_type": "execute_result"
    }
   ],
   "source": [
    "pd.merge(train, full_spectra, left_on='idtext', right_on='id')"
   ]
  },
  {
   "cell_type": "code",
   "execution_count": 14,
   "metadata": {},
   "outputs": [],
   "source": [
    "def spectraLoader(inputPath: str) -> pd.DataFrame:\n",
    "    df = pd.DataFrame()\n",
    "    with open(inputPath, encoding='utf-8') as f:\n",
    "        for line in f:\n",
    "            jsonline = json.loads(line)\n",
    "            lineDf = pd.DataFrame({'id':jsonline['id'], 'spectra':[np.array(jsonline['spectra'])]})\n",
    "            df = pd.concat([df, lineDf])\n",
    "    df = df.reset_index(drop=True)\n",
    "\n",
    "    return df"
   ]
  },
  {
   "cell_type": "code",
   "execution_count": 47,
   "metadata": {},
   "outputs": [],
   "source": [
    "full_spectra = spectraLoader(\"pan22-authorship-verification-training-dataset/particionesXid/FullSpectra.jsonl\")"
   ]
  },
  {
   "cell_type": "code",
   "execution_count": 16,
   "metadata": {},
   "outputs": [],
   "source": [
    "def loadLabels(inputPath:str, labelDict:dict) -> dict:\n",
    "    with open(inputPath, encoding='utf-8') as f:\n",
    "        for line in f:\n",
    "            jsonline = json.loads(line)\n",
    "            labelDict[jsonline['id']] = 1 if jsonline['value'] else 0\n",
    "        \n",
    "    return labelDict"
   ]
  },
  {
   "cell_type": "code",
   "execution_count": 17,
   "metadata": {},
   "outputs": [],
   "source": [
    "labels = dict()\n",
    "labels = loadLabels('pan22-authorship-verification-training-dataset/particiones/train_truth.jsonl',labels)\n",
    "labels = loadLabels('pan22-authorship-verification-training-dataset/particiones/val_truth.jsonl',labels)"
   ]
  },
  {
   "cell_type": "code",
   "execution_count": 18,
   "metadata": {},
   "outputs": [
    {
     "name": "stdout",
     "output_type": "stream",
     "text": [
      "Instances: 16486.0\n",
      "Labels:  16486\n"
     ]
    }
   ],
   "source": [
    "print(\"Instances: {}\".format((train.shape[0] + val.shape[0])/2))\n",
    "print(\"Labels: \",len(labels))"
   ]
  },
  {
   "cell_type": "code",
   "execution_count": 19,
   "metadata": {},
   "outputs": [
    {
     "data": {
      "text/plain": [
       "0"
      ]
     },
     "execution_count": 19,
     "metadata": {},
     "output_type": "execute_result"
    }
   ],
   "source": [
    "labels[\"a09fdc6b-ed15-48c5-9d2e-572f989b9b4500000\"]"
   ]
  },
  {
   "cell_type": "code",
   "execution_count": 20,
   "metadata": {},
   "outputs": [],
   "source": [
    "partition = {'train': train.id.unique().tolist(), 'validation': val.id.unique().tolist()}"
   ]
  },
  {
   "cell_type": "code",
   "execution_count": 21,
   "metadata": {},
   "outputs": [
    {
     "name": "stdout",
     "output_type": "stream",
     "text": [
      "Train:  15732\n",
      "Validation:  754\n",
      "Total:  16486\n"
     ]
    }
   ],
   "source": [
    "print(\"Train: \", len(partition['train']))\n",
    "print(\"Validation: \", len(partition['validation']))\n",
    "print(\"Total: \", len(partition['train'])+len(partition['validation']))"
   ]
  },
  {
   "cell_type": "markdown",
   "metadata": {},
   "source": [
    "### Definición de la arquitectura de red siamesa"
   ]
  },
  {
   "cell_type": "code",
   "execution_count": 9,
   "metadata": {},
   "outputs": [],
   "source": [
    "# Modelo de red siamesa utilizando una red residual y un perceptron multicapa\n",
    "\n",
    "x1 = tf.keras.Input(shape=(1200,), name=\"Input_1\")\n",
    "x2 = tf.keras.Input(shape=(1200,), name=\"Input_2\")\n",
    "\n",
    "# Batch normalization\n",
    "bn_layer = tf.keras.layers.BatchNormalization(name=\"Batch_normalization\")\n",
    "x1 = bn_layer(x1)\n",
    "x2 = bn_layer(x2)\n",
    "\n",
    "# Gaussian noise\n",
    "gaussian_noise_layer = tf.keras.layers.GaussianNoise(1.0, name=\"Gaussian_noise\")\n",
    "x1 = gaussian_noise_layer(x1)\n",
    "x2 = gaussian_noise_layer(x2)\n",
    "\n",
    "# Dropout\n",
    "dropout_layer = tf.keras.layers.Dropout(0.4, name=\"Dropout_1\")\n",
    "x1 = dropout_layer(x1)\n",
    "x2 = dropout_layer(x2)\n",
    "\n",
    "# Residual network\n",
    "\n",
    "substract = lambda x: x[0] - x[1]\n",
    "residual = tf.keras.layers.Lambda(function=substract, output_shape=lambda x: x[0], name='residual')\n",
    "\n",
    "dense_layer_1 = tf.keras.layers.Dense(256, activation='relu', name=\"ResDense_1\")\n",
    "o1_1 = dense_layer_1(x1)\n",
    "o1_2 = dense_layer_1(x2)\n",
    "\n",
    "dense_layer_2 = tf.keras.layers.Dense(256, activation='relu', name=\"ResDense_2\")\n",
    "o2_1 = dense_layer_2(o1_1)\n",
    "o2_2 = dense_layer_2(o1_2)\n",
    "\n",
    "# Residual layer\n",
    "dense_layer_3 = tf.keras.layers.Dense(256, activation='relu', name=\"ResDense_3\")\n",
    "o3_1 = dense_layer_3(residual([o1_1, o2_1]))\n",
    "o3_2 = dense_layer_3(residual([o1_2, o2_2]))\n",
    "\n",
    "dense_layer_4 = tf.keras.layers.Dense(256, activation='relu', name=\"ResDense_4\")\n",
    "o4_1 = dense_layer_4(o3_1)\n",
    "o4_2 = dense_layer_4(o3_2)\n",
    "\n",
    "# Residual layer\n",
    "dense_layer_5 = tf.keras.layers.Dense(256, activation='relu', name=\"ResDense_5\")\n",
    "o5_1 = dense_layer_5(residual([o3_1, o4_1]))\n",
    "o5_2 = dense_layer_5(residual([o3_2, o4_2]))\n",
    "\n",
    "dense_layer_6 = tf.keras.layers.Dense(256, activation='relu', name=\"ResDense_6\")\n",
    "o6_1 = dense_layer_6(o5_1)\n",
    "o6_2 = dense_layer_6(o5_2)\n",
    "\n",
    "# Residual layer\n",
    "dense_layer_7 = tf.keras.layers.Dense(256, activation='relu', name=\"ResDense_7\")\n",
    "o7_1 = dense_layer_7(residual([o5_1, o6_1]))\n",
    "o7_2 = dense_layer_7(residual([o5_2, o6_2]))\n",
    "\n",
    "dense_layer_8 = tf.keras.layers.Dense(256, activation='relu', name=\"ResDense_8\")\n",
    "o8_1 = dense_layer_8(o7_1)\n",
    "o8_2 = dense_layer_8(o7_2)\n",
    "\n",
    "# Residual layer\n",
    "dense_layer_9 = tf.keras.layers.Dense(256, activation='relu', name=\"ResDense_9\")\n",
    "o9_1 = dense_layer_9(residual([o7_1, o8_1]))\n",
    "o9_2 = dense_layer_9(residual([o7_2, o8_2]))\n",
    "\n",
    "# Merging\n",
    "abs_substract = lambda x: tf.keras.backend.abs(x[0] - x[1])\n",
    "merge = tf.keras.layers.Lambda(function=abs_substract, output_shape=lambda x: x[0], name='merge')([o9_1,o9_2])\n",
    "\n",
    "# MLPNN Classifier\n",
    "hidden = tf.keras.layers.Dense(128, activation='relu', name=\"hidden_layer\")(merge)\n",
    "dropout_layer2 = tf.keras.layers.Dropout(0.4, name=\"Dropout_2\")(hidden)\n",
    "output = tf.keras.layers.Dense(1, activation=\"sigmoid\", name=\"output_layer\")(dropout_layer2)\n",
    "\n",
    "model = tf.keras.Model([x1, x2], output)\n",
    "model.compile(loss = 'binary_crossentropy', optimizer = \"adam\", metrics=[\"accuracy\"])"
   ]
  },
  {
   "cell_type": "code",
   "execution_count": 10,
   "metadata": {},
   "outputs": [
    {
     "name": "stdout",
     "output_type": "stream",
     "text": [
      "Model: \"model\"\n",
      "__________________________________________________________________________________________________\n",
      " Layer (type)                   Output Shape         Param #     Connected to                     \n",
      "==================================================================================================\n",
      " input_1 (InputLayer)           [(None, 1200)]       0           []                               \n",
      "                                                                                                  \n",
      " ResDense_1 (Dense)             (None, 256)          307456      ['input_1[0][0]',                \n",
      "                                                                  'input_2[0][0]']                \n",
      "                                                                                                  \n",
      " ResDense_2 (Dense)             (None, 256)          65792       ['ResDense_1[2][0]',             \n",
      "                                                                  'ResDense_1[3][0]']             \n",
      "                                                                                                  \n",
      " residual (Lambda)              (None, 256)          0           ['ResDense_7[2][0]',             \n",
      "                                                                  'ResDense_8[2][0]',             \n",
      "                                                                  'ResDense_7[3][0]',             \n",
      "                                                                  'ResDense_8[3][0]',             \n",
      "                                                                  'ResDense_5[2][0]',             \n",
      "                                                                  'ResDense_6[2][0]',             \n",
      "                                                                  'ResDense_5[3][0]',             \n",
      "                                                                  'ResDense_6[3][0]',             \n",
      "                                                                  'ResDense_3[2][0]',             \n",
      "                                                                  'ResDense_4[2][0]',             \n",
      "                                                                  'ResDense_3[3][0]',             \n",
      "                                                                  'ResDense_4[3][0]',             \n",
      "                                                                  'ResDense_1[2][0]',             \n",
      "                                                                  'ResDense_2[2][0]',             \n",
      "                                                                  'ResDense_1[3][0]',             \n",
      "                                                                  'ResDense_2[3][0]']             \n",
      "                                                                                                  \n",
      " ResDense_3 (Dense)             (None, 256)          65792       ['residual[14][0]',              \n",
      "                                                                  'residual[15][0]']              \n",
      "                                                                                                  \n",
      " ResDense_4 (Dense)             (None, 256)          65792       ['ResDense_3[2][0]',             \n",
      "                                                                  'ResDense_3[3][0]']             \n",
      "                                                                                                  \n",
      " ResDense_5 (Dense)             (None, 256)          65792       ['residual[12][0]',              \n",
      "                                                                  'residual[13][0]']              \n",
      "                                                                                                  \n",
      " ResDense_6 (Dense)             (None, 256)          65792       ['ResDense_5[2][0]',             \n",
      "                                                                  'ResDense_5[3][0]']             \n",
      "                                                                                                  \n",
      " input_2 (InputLayer)           [(None, 1200)]       0           []                               \n",
      "                                                                                                  \n",
      " ResDense_7 (Dense)             (None, 256)          65792       ['residual[10][0]',              \n",
      "                                                                  'residual[11][0]']              \n",
      "                                                                                                  \n",
      " ResDense_8 (Dense)             (None, 256)          65792       ['ResDense_7[2][0]',             \n",
      "                                                                  'ResDense_7[3][0]']             \n",
      "                                                                                                  \n",
      " ResDense_9 (Dense)             (None, 256)          65792       ['residual[8][0]',               \n",
      "                                                                  'residual[9][0]']               \n",
      "                                                                                                  \n",
      " merge (Lambda)                 (None, 256)          0           ['ResDense_9[2][0]',             \n",
      "                                                                  'ResDense_9[3][0]']             \n",
      "                                                                                                  \n",
      " hidden_layer (Dense)           (None, 128)          32896       ['merge[1][0]']                  \n",
      "                                                                                                  \n",
      " Dropout_2 (Dropout)            (None, 128)          0           ['hidden_layer[1][0]']           \n",
      "                                                                                                  \n",
      " output_layer (Dense)           (None, 1)            129         ['Dropout_2[1][0]']              \n",
      "                                                                                                  \n",
      "==================================================================================================\n",
      "Total params: 866,817\n",
      "Trainable params: 866,817\n",
      "Non-trainable params: 0\n",
      "__________________________________________________________________________________________________\n"
     ]
    }
   ],
   "source": [
    "model.summary()"
   ]
  },
  {
   "cell_type": "code",
   "execution_count": null,
   "metadata": {},
   "outputs": [],
   "source": [
    "# Train model on dataset\n",
    "model.fit_generator(generator=training_generator,\n",
    "                    validation_data=validation_generator,\n",
    "                    use_multiprocessing=True,\n",
    "                    workers=6)"
   ]
  },
  {
   "cell_type": "code",
   "execution_count": 25,
   "metadata": {},
   "outputs": [
    {
     "name": "stdout",
     "output_type": "stream",
     "text": [
      "train:  31464\n",
      "test:  1508\n"
     ]
    }
   ],
   "source": [
    "print(\"train: \", train.shape[0])\n",
    "print(\"test: \", val.shape[0])"
   ]
  },
  {
   "cell_type": "code",
   "execution_count": 24,
   "metadata": {},
   "outputs": [
    {
     "name": "stdout",
     "output_type": "stream",
     "text": [
      "train:  15732\n",
      "test:  754\n"
     ]
    }
   ],
   "source": [
    "print(\"train: \", train.id.unique().size)\n",
    "print(\"test: \", val.id.unique().size)"
   ]
  },
  {
   "cell_type": "code",
   "execution_count": null,
   "metadata": {},
   "outputs": [],
   "source": [
    "# Parameters\n",
    "params = {'dim': (32,32,32),\n",
    "            'batch_size': 64,\n",
    "            'n_classes': 6,\n",
    "            'n_channels': 1,\n",
    "            'shuffle': True}"
   ]
  },
  {
   "cell_type": "code",
   "execution_count": null,
   "metadata": {},
   "outputs": [],
   "source": [
    "# Datasets\n",
    "partition = None # IDs\n",
    "labels = None # Labels"
   ]
  },
  {
   "cell_type": "code",
   "execution_count": null,
   "metadata": {},
   "outputs": [],
   "source": [
    "# Generators\n",
    "training_generator = DataGenerator(partition['train'], labels, **params)\n",
    "validation_generator = DataGenerator(partition['validation'], labels, **params)"
   ]
  },
  {
   "cell_type": "code",
   "execution_count": null,
   "metadata": {},
   "outputs": [],
   "source": [
    "# Train model on dataset\n",
    "model.fit_generator(generator=training_generator,\n",
    "                    validation_data=validation_generator,\n",
    "                    use_multiprocessing=True,\n",
    "                    workers=6)"
   ]
  }
 ],
 "metadata": {
  "interpreter": {
   "hash": "f9cc107369190298ee6b7e4440488530e5ea591d94e81f6e0bf91806bd17e497"
  },
  "kernelspec": {
   "display_name": "Python 3.9.12 ('base')",
   "language": "python",
   "name": "python3"
  },
  "language_info": {
   "codemirror_mode": {
    "name": "ipython",
    "version": 3
   },
   "file_extension": ".py",
   "mimetype": "text/x-python",
   "name": "python",
   "nbconvert_exporter": "python",
   "pygments_lexer": "ipython3",
   "version": "3.9.12"
  },
  "orig_nbformat": 4
 },
 "nbformat": 4,
 "nbformat_minor": 2
}
