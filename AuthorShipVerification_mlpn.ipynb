{
 "cells": [
  {
   "cell_type": "code",
   "execution_count": 1,
   "metadata": {},
   "outputs": [],
   "source": [
    "import numpy as np\n",
    "import pandas as pd\n",
    "import tensorflow as tf\n",
    "import json\n",
    "from myGenerator import DataGenerator"
   ]
  },
  {
   "cell_type": "markdown",
   "metadata": {},
   "source": [
    "### Carga de datos"
   ]
  },
  {
   "cell_type": "code",
   "execution_count": 2,
   "metadata": {},
   "outputs": [],
   "source": [
    "train = pd.read_pickle(\"pan22-authorship-verification-training-dataset/particionesXid/PanTrain.plk\")\n",
    "val = pd.read_pickle(\"pan22-authorship-verification-training-dataset/particionesXid/PanVal.plk\")\n",
    "# test = pd.read_pickle(\"pan22-authorship-verification-training-dataset/particionesXid/PanTest.plk\")\n",
    "# docDict = pd.read_pickle(\"pan22-authorship-verification-training-dataset/particionesXid/UniquePanDocs.plk\")"
   ]
  },
  {
   "cell_type": "code",
   "execution_count": 3,
   "metadata": {},
   "outputs": [],
   "source": [
    "def spectraLoader(inputPath: str) -> pd.DataFrame:\n",
    "    df = pd.DataFrame()\n",
    "    with open(inputPath, encoding='utf-8') as f:\n",
    "        for line in f:\n",
    "            jsonline = json.loads(line)\n",
    "            lineDf = pd.DataFrame({'id':jsonline['id'], 'spectra':[np.array(jsonline['spectra'])]})\n",
    "            df = pd.concat([df, lineDf])\n",
    "    df = df.reset_index(drop=True)\n",
    "\n",
    "    return df"
   ]
  },
  {
   "cell_type": "code",
   "execution_count": 4,
   "metadata": {},
   "outputs": [],
   "source": [
    "full_spectra = spectraLoader(\"pan22-authorship-verification-training-dataset/particionesXid/FullSpectra.jsonl\")"
   ]
  },
  {
   "cell_type": "code",
   "execution_count": 5,
   "metadata": {},
   "outputs": [],
   "source": [
    "def loadLabels(inputPath:str, labelDict:dict) -> dict:\n",
    "    with open(inputPath, encoding='utf-8') as f:\n",
    "        for line in f:\n",
    "            jsonline = json.loads(line)\n",
    "            labelDict[jsonline['id']] = 1 if jsonline['value'] else 0\n",
    "        \n",
    "    return labelDict"
   ]
  },
  {
   "cell_type": "code",
   "execution_count": 6,
   "metadata": {},
   "outputs": [],
   "source": [
    "labels = dict()\n",
    "labels = loadLabels('pan22-authorship-verification-training-dataset/particiones/train_truth.jsonl',labels)\n",
    "labels = loadLabels('pan22-authorship-verification-training-dataset/particiones/val_truth.jsonl',labels)"
   ]
  },
  {
   "cell_type": "code",
   "execution_count": 7,
   "metadata": {},
   "outputs": [
    {
     "name": "stdout",
     "output_type": "stream",
     "text": [
      "Instances: 16486.0\n",
      "Labels:  16486\n"
     ]
    }
   ],
   "source": [
    "print(\"Instances: {}\".format((train.shape[0] + val.shape[0])/2))\n",
    "print(\"Labels: \",len(labels))"
   ]
  },
  {
   "cell_type": "code",
   "execution_count": 8,
   "metadata": {},
   "outputs": [
    {
     "data": {
      "text/plain": [
       "0"
      ]
     },
     "execution_count": 8,
     "metadata": {},
     "output_type": "execute_result"
    }
   ],
   "source": [
    "labels[\"a09fdc6b-ed15-48c5-9d2e-572f989b9b4500000\"]"
   ]
  },
  {
   "cell_type": "code",
   "execution_count": 9,
   "metadata": {},
   "outputs": [],
   "source": [
    "partition = {'train': train.id.unique().tolist(), 'validation': val.id.unique().tolist()}"
   ]
  },
  {
   "cell_type": "code",
   "execution_count": 10,
   "metadata": {},
   "outputs": [
    {
     "name": "stdout",
     "output_type": "stream",
     "text": [
      "Train:  15732\n",
      "Validation:  754\n",
      "Total:  16486\n"
     ]
    }
   ],
   "source": [
    "print(\"Train: \", len(partition['train']))\n",
    "print(\"Validation: \", len(partition['validation']))\n",
    "print(\"Total: \", len(partition['train'])+len(partition['validation']))"
   ]
  },
  {
   "cell_type": "code",
   "execution_count": 11,
   "metadata": {},
   "outputs": [
    {
     "data": {
      "text/plain": [
       "Series([], Name: spectra, dtype: object)"
      ]
     },
     "execution_count": 11,
     "metadata": {},
     "output_type": "execute_result"
    }
   ],
   "source": [
    "train.loc[train.id == 'a'].merge(full_spectra, left_on='idtext', right_on='id').spectra\n"
   ]
  },
  {
   "cell_type": "markdown",
   "metadata": {},
   "source": [
    "### Definición de la arquitectura de red siamesa"
   ]
  },
  {
   "cell_type": "code",
   "execution_count": 12,
   "metadata": {},
   "outputs": [],
   "source": [
    "# Modelo de red siamesa utilizando una red residual y un perceptron multicapa\n",
    "\n",
    "x1 = tf.keras.Input(shape=(1200,), name=\"Input_1\")\n",
    "x2 = tf.keras.Input(shape=(1200,), name=\"Input_2\")\n",
    "\n",
    "# Batch normalization\n",
    "bn_layer = tf.keras.layers.BatchNormalization(name=\"Batch_normalization\")\n",
    "x1 = bn_layer(x1)\n",
    "x2 = bn_layer(x2)\n",
    "\n",
    "# Gaussian noise\n",
    "gaussian_noise_layer = tf.keras.layers.GaussianNoise(1.0, name=\"Gaussian_noise\")\n",
    "x1 = gaussian_noise_layer(x1)\n",
    "x2 = gaussian_noise_layer(x2)\n",
    "\n",
    "# Dropout\n",
    "dropout_layer = tf.keras.layers.Dropout(0.4, name=\"Dropout_1\")\n",
    "x1 = dropout_layer(x1)\n",
    "x2 = dropout_layer(x2)\n",
    "\n",
    "# Residual network\n",
    "\n",
    "substract = lambda x: x[0] - x[1]\n",
    "residual = tf.keras.layers.Lambda(function=substract, output_shape=lambda x: x[0], name='residual')\n",
    "\n",
    "dense_layer_1 = tf.keras.layers.Dense(256, activation='relu', name=\"ResDense_1\")\n",
    "o1_1 = dense_layer_1(x1)\n",
    "o1_2 = dense_layer_1(x2)\n",
    "\n",
    "dense_layer_2 = tf.keras.layers.Dense(256, activation='relu', name=\"ResDense_2\")\n",
    "o2_1 = dense_layer_2(o1_1)\n",
    "o2_2 = dense_layer_2(o1_2)\n",
    "\n",
    "# Residual layer\n",
    "dense_layer_3 = tf.keras.layers.Dense(256, activation='relu', name=\"ResDense_3\")\n",
    "o3_1 = dense_layer_3(residual([o1_1, o2_1]))\n",
    "o3_2 = dense_layer_3(residual([o1_2, o2_2]))\n",
    "\n",
    "dense_layer_4 = tf.keras.layers.Dense(256, activation='relu', name=\"ResDense_4\")\n",
    "o4_1 = dense_layer_4(o3_1)\n",
    "o4_2 = dense_layer_4(o3_2)\n",
    "\n",
    "# Residual layer\n",
    "dense_layer_5 = tf.keras.layers.Dense(256, activation='relu', name=\"ResDense_5\")\n",
    "o5_1 = dense_layer_5(residual([o3_1, o4_1]))\n",
    "o5_2 = dense_layer_5(residual([o3_2, o4_2]))\n",
    "\n",
    "dense_layer_6 = tf.keras.layers.Dense(256, activation='relu', name=\"ResDense_6\")\n",
    "o6_1 = dense_layer_6(o5_1)\n",
    "o6_2 = dense_layer_6(o5_2)\n",
    "\n",
    "# Residual layer\n",
    "dense_layer_7 = tf.keras.layers.Dense(256, activation='relu', name=\"ResDense_7\")\n",
    "o7_1 = dense_layer_7(residual([o5_1, o6_1]))\n",
    "o7_2 = dense_layer_7(residual([o5_2, o6_2]))\n",
    "\n",
    "dense_layer_8 = tf.keras.layers.Dense(256, activation='relu', name=\"ResDense_8\")\n",
    "o8_1 = dense_layer_8(o7_1)\n",
    "o8_2 = dense_layer_8(o7_2)\n",
    "\n",
    "# Residual layer\n",
    "dense_layer_9 = tf.keras.layers.Dense(256, activation='relu', name=\"ResDense_9\")\n",
    "o9_1 = dense_layer_9(residual([o7_1, o8_1]))\n",
    "o9_2 = dense_layer_9(residual([o7_2, o8_2]))\n",
    "\n",
    "# Merging\n",
    "abs_substract = lambda x: tf.keras.backend.abs(x[0] - x[1])\n",
    "merge = tf.keras.layers.Lambda(function=abs_substract, output_shape=lambda x: x[0], name='merge')([o9_1,o9_2])\n",
    "\n",
    "# MLPNN Classifier\n",
    "hidden = tf.keras.layers.Dense(128, activation='relu', name=\"hidden_layer\")(merge)\n",
    "dropout_layer2 = tf.keras.layers.Dropout(0.4, name=\"Dropout_2\")(hidden)\n",
    "output = tf.keras.layers.Dense(1, activation=\"sigmoid\", name=\"output_layer\")(dropout_layer2)\n",
    "\n",
    "model = tf.keras.Model([x1, x2], output)\n",
    "model.compile(loss = 'binary_crossentropy', optimizer = \"adam\", metrics=[\"accuracy\"])"
   ]
  },
  {
   "cell_type": "code",
   "execution_count": 13,
   "metadata": {},
   "outputs": [
    {
     "name": "stdout",
     "output_type": "stream",
     "text": [
      "Model: \"model\"\n",
      "__________________________________________________________________________________________________\n",
      " Layer (type)                   Output Shape         Param #     Connected to                     \n",
      "==================================================================================================\n",
      " input_1 (InputLayer)           [(None, 1200)]       0           []                               \n",
      "                                                                                                  \n",
      " ResDense_1 (Dense)             (None, 256)          307456      ['input_1[0][0]',                \n",
      "                                                                  'input_2[0][0]']                \n",
      "                                                                                                  \n",
      " ResDense_2 (Dense)             (None, 256)          65792       ['ResDense_1[2][0]',             \n",
      "                                                                  'ResDense_1[3][0]']             \n",
      "                                                                                                  \n",
      " residual (Lambda)              (None, 256)          0           ['ResDense_7[2][0]',             \n",
      "                                                                  'ResDense_8[2][0]',             \n",
      "                                                                  'ResDense_7[3][0]',             \n",
      "                                                                  'ResDense_8[3][0]',             \n",
      "                                                                  'ResDense_5[2][0]',             \n",
      "                                                                  'ResDense_6[2][0]',             \n",
      "                                                                  'ResDense_5[3][0]',             \n",
      "                                                                  'ResDense_6[3][0]',             \n",
      "                                                                  'ResDense_3[2][0]',             \n",
      "                                                                  'ResDense_4[2][0]',             \n",
      "                                                                  'ResDense_3[3][0]',             \n",
      "                                                                  'ResDense_4[3][0]',             \n",
      "                                                                  'ResDense_1[2][0]',             \n",
      "                                                                  'ResDense_2[2][0]',             \n",
      "                                                                  'ResDense_1[3][0]',             \n",
      "                                                                  'ResDense_2[3][0]']             \n",
      "                                                                                                  \n",
      " ResDense_3 (Dense)             (None, 256)          65792       ['residual[14][0]',              \n",
      "                                                                  'residual[15][0]']              \n",
      "                                                                                                  \n",
      " ResDense_4 (Dense)             (None, 256)          65792       ['ResDense_3[2][0]',             \n",
      "                                                                  'ResDense_3[3][0]']             \n",
      "                                                                                                  \n",
      " ResDense_5 (Dense)             (None, 256)          65792       ['residual[12][0]',              \n",
      "                                                                  'residual[13][0]']              \n",
      "                                                                                                  \n",
      " ResDense_6 (Dense)             (None, 256)          65792       ['ResDense_5[2][0]',             \n",
      "                                                                  'ResDense_5[3][0]']             \n",
      "                                                                                                  \n",
      " input_2 (InputLayer)           [(None, 1200)]       0           []                               \n",
      "                                                                                                  \n",
      " ResDense_7 (Dense)             (None, 256)          65792       ['residual[10][0]',              \n",
      "                                                                  'residual[11][0]']              \n",
      "                                                                                                  \n",
      " ResDense_8 (Dense)             (None, 256)          65792       ['ResDense_7[2][0]',             \n",
      "                                                                  'ResDense_7[3][0]']             \n",
      "                                                                                                  \n",
      " ResDense_9 (Dense)             (None, 256)          65792       ['residual[8][0]',               \n",
      "                                                                  'residual[9][0]']               \n",
      "                                                                                                  \n",
      " merge (Lambda)                 (None, 256)          0           ['ResDense_9[2][0]',             \n",
      "                                                                  'ResDense_9[3][0]']             \n",
      "                                                                                                  \n",
      " hidden_layer (Dense)           (None, 128)          32896       ['merge[1][0]']                  \n",
      "                                                                                                  \n",
      " Dropout_2 (Dropout)            (None, 128)          0           ['hidden_layer[1][0]']           \n",
      "                                                                                                  \n",
      " output_layer (Dense)           (None, 1)            129         ['Dropout_2[1][0]']              \n",
      "                                                                                                  \n",
      "==================================================================================================\n",
      "Total params: 866,817\n",
      "Trainable params: 866,817\n",
      "Non-trainable params: 0\n",
      "__________________________________________________________________________________________________\n"
     ]
    }
   ],
   "source": [
    "model.summary()"
   ]
  },
  {
   "cell_type": "markdown",
   "metadata": {},
   "source": [
    "### Entrenamiento de red siamesa"
   ]
  },
  {
   "cell_type": "code",
   "execution_count": 14,
   "metadata": {},
   "outputs": [
    {
     "name": "stdout",
     "output_type": "stream",
     "text": [
      "train:  31464\n",
      "test:  1508\n"
     ]
    }
   ],
   "source": [
    "print(\"train: \", train.shape[0])\n",
    "print(\"test: \", val.shape[0])"
   ]
  },
  {
   "cell_type": "code",
   "execution_count": 15,
   "metadata": {},
   "outputs": [
    {
     "name": "stdout",
     "output_type": "stream",
     "text": [
      "train:  15732\n",
      "test:  754\n"
     ]
    }
   ],
   "source": [
    "print(\"train: \", train.id.unique().size)\n",
    "print(\"test: \", val.id.unique().size)"
   ]
  },
  {
   "cell_type": "code",
   "execution_count": 16,
   "metadata": {},
   "outputs": [],
   "source": [
    "# Parameters\n",
    "params = {'dim': (1200,),\n",
    "            'batch_size': 32,\n",
    "            'shuffle': True}"
   ]
  },
  {
   "cell_type": "code",
   "execution_count": 17,
   "metadata": {},
   "outputs": [],
   "source": [
    "# Generators\n",
    "training_generator = DataGenerator(partition['train'], train, labels, full_spectra, **params)\n",
    "validation_generator = DataGenerator(partition['validation'], val, labels, full_spectra, **params)"
   ]
  },
  {
   "cell_type": "code",
   "execution_count": 18,
   "metadata": {},
   "outputs": [
    {
     "name": "stdout",
     "output_type": "stream",
     "text": [
      "Epoch 1/100\n",
      "491/491 [==============================] - 64s 127ms/step - loss: 1.0249 - accuracy: 0.5284 - val_loss: 0.6994 - val_accuracy: 0.4769\n",
      "Epoch 2/100\n",
      "491/491 [==============================] - 63s 129ms/step - loss: 0.6968 - accuracy: 0.5202 - val_loss: 0.6979 - val_accuracy: 0.4918\n",
      "Epoch 3/100\n",
      "491/491 [==============================] - 62s 127ms/step - loss: 0.6989 - accuracy: 0.5195 - val_loss: 0.6912 - val_accuracy: 0.5149\n",
      "Epoch 4/100\n",
      "491/491 [==============================] - 61s 124ms/step - loss: 0.7143 - accuracy: 0.4975 - val_loss: 0.6931 - val_accuracy: 0.5027\n",
      "Epoch 5/100\n",
      "491/491 [==============================] - 61s 125ms/step - loss: 0.6957 - accuracy: 0.4927 - val_loss: 0.6932 - val_accuracy: 0.5054\n",
      "Epoch 6/100\n",
      "491/491 [==============================] - 62s 127ms/step - loss: 0.6932 - accuracy: 0.4936 - val_loss: 0.6930 - val_accuracy: 0.5014\n",
      "Epoch 7/100\n",
      "491/491 [==============================] - 64s 130ms/step - loss: 0.6971 - accuracy: 0.4915 - val_loss: 0.6931 - val_accuracy: 0.5027\n",
      "Epoch 8/100\n",
      "491/491 [==============================] - 63s 127ms/step - loss: 0.6932 - accuracy: 0.4961 - val_loss: 0.6932 - val_accuracy: 0.4986\n",
      "Epoch 9/100\n",
      "491/491 [==============================] - 63s 127ms/step - loss: 0.6932 - accuracy: 0.4999 - val_loss: 0.6932 - val_accuracy: 0.5000\n",
      "Epoch 10/100\n",
      "491/491 [==============================] - 63s 129ms/step - loss: 0.6932 - accuracy: 0.4987 - val_loss: 0.6931 - val_accuracy: 0.5000\n",
      "Epoch 11/100\n",
      "491/491 [==============================] - 60s 121ms/step - loss: 0.6932 - accuracy: 0.4959 - val_loss: 0.6931 - val_accuracy: 0.5000\n",
      "Epoch 12/100\n",
      "491/491 [==============================] - 62s 127ms/step - loss: 0.6932 - accuracy: 0.4926 - val_loss: 0.6932 - val_accuracy: 0.4973\n",
      "Epoch 13/100\n",
      "491/491 [==============================] - 63s 127ms/step - loss: 0.6932 - accuracy: 0.4954 - val_loss: 0.6932 - val_accuracy: 0.4973\n",
      "Epoch 14/100\n",
      "491/491 [==============================] - 62s 127ms/step - loss: 0.6932 - accuracy: 0.4967 - val_loss: 0.6931 - val_accuracy: 0.5027\n",
      "Epoch 15/100\n",
      "491/491 [==============================] - 65s 133ms/step - loss: 0.6932 - accuracy: 0.4961 - val_loss: 0.6931 - val_accuracy: 0.5027\n",
      "Epoch 16/100\n",
      "491/491 [==============================] - 63s 129ms/step - loss: 0.6932 - accuracy: 0.4933 - val_loss: 0.6931 - val_accuracy: 0.5027\n",
      "Epoch 17/100\n",
      "491/491 [==============================] - 63s 127ms/step - loss: 0.6932 - accuracy: 0.4997 - val_loss: 0.6931 - val_accuracy: 0.5027\n",
      "Epoch 18/100\n",
      "491/491 [==============================] - 64s 130ms/step - loss: 0.6932 - accuracy: 0.5016 - val_loss: 0.6932 - val_accuracy: 0.4973\n",
      "Epoch 19/100\n",
      "491/491 [==============================] - 61s 124ms/step - loss: 0.6932 - accuracy: 0.5000 - val_loss: 0.6931 - val_accuracy: 0.5027\n",
      "Epoch 20/100\n",
      "491/491 [==============================] - 61s 125ms/step - loss: 0.6932 - accuracy: 0.4989 - val_loss: 0.6932 - val_accuracy: 0.4986\n",
      "Epoch 21/100\n",
      "491/491 [==============================] - 62s 126ms/step - loss: 0.6932 - accuracy: 0.4968 - val_loss: 0.6931 - val_accuracy: 0.5000\n",
      "Epoch 22/100\n",
      "491/491 [==============================] - 60s 122ms/step - loss: 0.6932 - accuracy: 0.4972 - val_loss: 0.6932 - val_accuracy: 0.4973\n",
      "Epoch 23/100\n",
      "491/491 [==============================] - 59s 121ms/step - loss: 0.6932 - accuracy: 0.4933 - val_loss: 0.6931 - val_accuracy: 0.5014\n",
      "Epoch 24/100\n",
      "491/491 [==============================] - 61s 125ms/step - loss: 0.6932 - accuracy: 0.4937 - val_loss: 0.6932 - val_accuracy: 0.4959\n",
      "Epoch 25/100\n",
      "491/491 [==============================] - 64s 130ms/step - loss: 0.6932 - accuracy: 0.4978 - val_loss: 0.6932 - val_accuracy: 0.4986\n",
      "Epoch 26/100\n",
      "491/491 [==============================] - 62s 126ms/step - loss: 0.6932 - accuracy: 0.4997 - val_loss: 0.6931 - val_accuracy: 0.5054\n",
      "Epoch 27/100\n",
      "491/491 [==============================] - 62s 126ms/step - loss: 0.6932 - accuracy: 0.4966 - val_loss: 0.6932 - val_accuracy: 0.5000\n",
      "Epoch 28/100\n",
      "491/491 [==============================] - 63s 127ms/step - loss: 0.6932 - accuracy: 0.4941 - val_loss: 0.6931 - val_accuracy: 0.5027\n",
      "Epoch 29/100\n",
      "491/491 [==============================] - 63s 127ms/step - loss: 0.6932 - accuracy: 0.4994 - val_loss: 0.6931 - val_accuracy: 0.5027\n",
      "Epoch 30/100\n",
      "491/491 [==============================] - 63s 127ms/step - loss: 0.6932 - accuracy: 0.4871 - val_loss: 0.6931 - val_accuracy: 0.5000\n",
      "Epoch 31/100\n",
      "491/491 [==============================] - 63s 127ms/step - loss: 0.6932 - accuracy: 0.4921 - val_loss: 0.6932 - val_accuracy: 0.5000\n",
      "Epoch 32/100\n",
      "491/491 [==============================] - 62s 127ms/step - loss: 0.6932 - accuracy: 0.4930 - val_loss: 0.6931 - val_accuracy: 0.5027\n",
      "Epoch 33/100\n",
      "491/491 [==============================] - 64s 130ms/step - loss: 0.6932 - accuracy: 0.5010 - val_loss: 0.6931 - val_accuracy: 0.5014\n",
      "Epoch 34/100\n",
      "491/491 [==============================] - 63s 127ms/step - loss: 0.6932 - accuracy: 0.4946 - val_loss: 0.6931 - val_accuracy: 0.5027\n",
      "Epoch 35/100\n",
      "491/491 [==============================] - 62s 127ms/step - loss: 0.6932 - accuracy: 0.4956 - val_loss: 0.6931 - val_accuracy: 0.5027\n",
      "Epoch 36/100\n",
      "491/491 [==============================] - 60s 123ms/step - loss: 0.6932 - accuracy: 0.4944 - val_loss: 0.6931 - val_accuracy: 0.5027\n",
      "Epoch 37/100\n",
      "491/491 [==============================] - 64s 131ms/step - loss: 0.6932 - accuracy: 0.4981 - val_loss: 0.6932 - val_accuracy: 0.5000\n",
      "Epoch 38/100\n",
      "491/491 [==============================] - 63s 129ms/step - loss: 0.6932 - accuracy: 0.4905 - val_loss: 0.6932 - val_accuracy: 0.4946\n",
      "Epoch 39/100\n",
      "491/491 [==============================] - 66s 135ms/step - loss: 0.6932 - accuracy: 0.4969 - val_loss: 0.6931 - val_accuracy: 0.5027\n",
      "Epoch 40/100\n",
      "491/491 [==============================] - 59s 120ms/step - loss: 0.6932 - accuracy: 0.5001 - val_loss: 0.6931 - val_accuracy: 0.5027\n",
      "Epoch 41/100\n",
      "491/491 [==============================] - 60s 122ms/step - loss: 0.6932 - accuracy: 0.4972 - val_loss: 0.6932 - val_accuracy: 0.4973\n",
      "Epoch 42/100\n",
      "491/491 [==============================] - 63s 128ms/step - loss: 0.6932 - accuracy: 0.5009 - val_loss: 0.6932 - val_accuracy: 0.4986\n",
      "Epoch 43/100\n",
      "491/491 [==============================] - 62s 126ms/step - loss: 0.6932 - accuracy: 0.4963 - val_loss: 0.6931 - val_accuracy: 0.4973\n",
      "Epoch 44/100\n",
      "491/491 [==============================] - 62s 126ms/step - loss: 0.6932 - accuracy: 0.5007 - val_loss: 0.6931 - val_accuracy: 0.5014\n",
      "Epoch 45/100\n",
      "491/491 [==============================] - 62s 126ms/step - loss: 0.6932 - accuracy: 0.4969 - val_loss: 0.6931 - val_accuracy: 0.5014\n",
      "Epoch 46/100\n",
      "491/491 [==============================] - 62s 126ms/step - loss: 0.6932 - accuracy: 0.4927 - val_loss: 0.6931 - val_accuracy: 0.5000\n",
      "Epoch 47/100\n",
      "491/491 [==============================] - 62s 126ms/step - loss: 0.6932 - accuracy: 0.5009 - val_loss: 0.6932 - val_accuracy: 0.4959\n",
      "Epoch 48/100\n",
      "491/491 [==============================] - 62s 127ms/step - loss: 0.6932 - accuracy: 0.4946 - val_loss: 0.6932 - val_accuracy: 0.4973\n",
      "Epoch 49/100\n",
      "491/491 [==============================] - 62s 126ms/step - loss: 0.6932 - accuracy: 0.4965 - val_loss: 0.6931 - val_accuracy: 0.5027\n",
      "Epoch 50/100\n",
      "491/491 [==============================] - 62s 126ms/step - loss: 0.6932 - accuracy: 0.4942 - val_loss: 0.6931 - val_accuracy: 0.5000\n",
      "Epoch 51/100\n",
      "491/491 [==============================] - 62s 127ms/step - loss: 0.6932 - accuracy: 0.4917 - val_loss: 0.6931 - val_accuracy: 0.5000\n",
      "Epoch 52/100\n",
      "491/491 [==============================] - 58s 117ms/step - loss: 0.6932 - accuracy: 0.4936 - val_loss: 0.6931 - val_accuracy: 0.4986\n",
      "Epoch 53/100\n",
      "491/491 [==============================] - 58s 118ms/step - loss: 0.6932 - accuracy: 0.4963 - val_loss: 0.6932 - val_accuracy: 0.4986\n",
      "Epoch 54/100\n",
      "491/491 [==============================] - 63s 127ms/step - loss: 0.6932 - accuracy: 0.4956 - val_loss: 0.6932 - val_accuracy: 0.4973\n",
      "Epoch 55/100\n",
      "491/491 [==============================] - 63s 127ms/step - loss: 0.6932 - accuracy: 0.5025 - val_loss: 0.6932 - val_accuracy: 0.4973\n",
      "Epoch 56/100\n",
      "491/491 [==============================] - 62s 127ms/step - loss: 0.6932 - accuracy: 0.4994 - val_loss: 0.6931 - val_accuracy: 0.5027\n",
      "Epoch 57/100\n",
      "491/491 [==============================] - 62s 127ms/step - loss: 0.6932 - accuracy: 0.4938 - val_loss: 0.6931 - val_accuracy: 0.5000\n",
      "Epoch 58/100\n",
      "491/491 [==============================] - 62s 127ms/step - loss: 0.6932 - accuracy: 0.4925 - val_loss: 0.6932 - val_accuracy: 0.4959\n",
      "Epoch 59/100\n",
      "491/491 [==============================] - 62s 127ms/step - loss: 0.6932 - accuracy: 0.5013 - val_loss: 0.6932 - val_accuracy: 0.4973\n",
      "Epoch 60/100\n",
      "491/491 [==============================] - 63s 129ms/step - loss: 0.6932 - accuracy: 0.5003 - val_loss: 0.6931 - val_accuracy: 0.5000\n",
      "Epoch 61/100\n",
      "491/491 [==============================] - 60s 123ms/step - loss: 0.6932 - accuracy: 0.4975 - val_loss: 0.6931 - val_accuracy: 0.5014\n",
      "Epoch 62/100\n",
      "491/491 [==============================] - 60s 122ms/step - loss: 0.6932 - accuracy: 0.4951 - val_loss: 0.6931 - val_accuracy: 0.4973\n",
      "Epoch 63/100\n",
      "491/491 [==============================] - 60s 122ms/step - loss: 0.6932 - accuracy: 0.4980 - val_loss: 0.6931 - val_accuracy: 0.5041\n",
      "Epoch 64/100\n",
      "491/491 [==============================] - 60s 123ms/step - loss: 0.6932 - accuracy: 0.4976 - val_loss: 0.6932 - val_accuracy: 0.4959\n",
      "Epoch 65/100\n",
      "491/491 [==============================] - 61s 125ms/step - loss: 0.6932 - accuracy: 0.5010 - val_loss: 0.6932 - val_accuracy: 0.5000\n",
      "Epoch 66/100\n",
      "491/491 [==============================] - 60s 121ms/step - loss: 0.6932 - accuracy: 0.4960 - val_loss: 0.6932 - val_accuracy: 0.4959\n",
      "Epoch 67/100\n",
      "491/491 [==============================] - 60s 123ms/step - loss: 0.6932 - accuracy: 0.4966 - val_loss: 0.6931 - val_accuracy: 0.5000\n",
      "Epoch 68/100\n",
      "491/491 [==============================] - 63s 128ms/step - loss: 0.6932 - accuracy: 0.4957 - val_loss: 0.6931 - val_accuracy: 0.4986\n",
      "Epoch 69/100\n",
      "491/491 [==============================] - 61s 125ms/step - loss: 0.6932 - accuracy: 0.4959 - val_loss: 0.6931 - val_accuracy: 0.5014\n",
      "Epoch 70/100\n",
      "491/491 [==============================] - 57s 117ms/step - loss: 0.6932 - accuracy: 0.4967 - val_loss: 0.6931 - val_accuracy: 0.4973\n",
      "Epoch 71/100\n",
      "491/491 [==============================] - 58s 119ms/step - loss: 0.6932 - accuracy: 0.4959 - val_loss: 0.6931 - val_accuracy: 0.5041\n",
      "Epoch 72/100\n",
      "491/491 [==============================] - 58s 118ms/step - loss: 0.6932 - accuracy: 0.4981 - val_loss: 0.6931 - val_accuracy: 0.5014\n",
      "Epoch 73/100\n",
      "491/491 [==============================] - 58s 117ms/step - loss: 0.6932 - accuracy: 0.4951 - val_loss: 0.6931 - val_accuracy: 0.5000\n",
      "Epoch 74/100\n",
      "491/491 [==============================] - 58s 118ms/step - loss: 0.6932 - accuracy: 0.4974 - val_loss: 0.6931 - val_accuracy: 0.4986\n",
      "Epoch 75/100\n",
      "491/491 [==============================] - 56s 114ms/step - loss: 0.6932 - accuracy: 0.4987 - val_loss: 0.6931 - val_accuracy: 0.5000\n",
      "Epoch 76/100\n",
      "491/491 [==============================] - 57s 116ms/step - loss: 0.6932 - accuracy: 0.4971 - val_loss: 0.6932 - val_accuracy: 0.4986\n",
      "Epoch 77/100\n",
      "491/491 [==============================] - 56s 115ms/step - loss: 0.6932 - accuracy: 0.4962 - val_loss: 0.6931 - val_accuracy: 0.5014\n",
      "Epoch 78/100\n",
      "491/491 [==============================] - 58s 117ms/step - loss: 0.6932 - accuracy: 0.4990 - val_loss: 0.6931 - val_accuracy: 0.5000\n",
      "Epoch 79/100\n",
      "491/491 [==============================] - 58s 118ms/step - loss: 0.6932 - accuracy: 0.5004 - val_loss: 0.6932 - val_accuracy: 0.4973\n",
      "Epoch 80/100\n",
      "491/491 [==============================] - 58s 118ms/step - loss: 0.6932 - accuracy: 0.4985 - val_loss: 0.6931 - val_accuracy: 0.5027\n",
      "Epoch 81/100\n",
      "491/491 [==============================] - 58s 118ms/step - loss: 0.6932 - accuracy: 0.5025 - val_loss: 0.6932 - val_accuracy: 0.5014\n",
      "Epoch 82/100\n",
      "491/491 [==============================] - 58s 118ms/step - loss: 0.6932 - accuracy: 0.4973 - val_loss: 0.6931 - val_accuracy: 0.5000\n",
      "Epoch 83/100\n",
      "491/491 [==============================] - 58s 118ms/step - loss: 0.6932 - accuracy: 0.4983 - val_loss: 0.6931 - val_accuracy: 0.5014\n",
      "Epoch 84/100\n",
      "491/491 [==============================] - 58s 118ms/step - loss: 0.6932 - accuracy: 0.4911 - val_loss: 0.6931 - val_accuracy: 0.5014\n",
      "Epoch 85/100\n",
      "491/491 [==============================] - 59s 121ms/step - loss: 0.6932 - accuracy: 0.5013 - val_loss: 0.6932 - val_accuracy: 0.4946\n",
      "Epoch 86/100\n",
      "491/491 [==============================] - 61s 123ms/step - loss: 0.6932 - accuracy: 0.4939 - val_loss: 0.6931 - val_accuracy: 0.5000\n",
      "Epoch 87/100\n",
      "491/491 [==============================] - 60s 122ms/step - loss: 0.6932 - accuracy: 0.4938 - val_loss: 0.6931 - val_accuracy: 0.5014\n",
      "Epoch 88/100\n",
      "491/491 [==============================] - 60s 121ms/step - loss: 0.6932 - accuracy: 0.4952 - val_loss: 0.6931 - val_accuracy: 0.5000\n",
      "Epoch 89/100\n",
      "491/491 [==============================] - 61s 125ms/step - loss: 0.6932 - accuracy: 0.4956 - val_loss: 0.6931 - val_accuracy: 0.5041\n",
      "Epoch 90/100\n",
      "491/491 [==============================] - 61s 125ms/step - loss: 0.6932 - accuracy: 0.4935 - val_loss: 0.6931 - val_accuracy: 0.5014\n",
      "Epoch 91/100\n",
      "491/491 [==============================] - 61s 125ms/step - loss: 0.6932 - accuracy: 0.4958 - val_loss: 0.6931 - val_accuracy: 0.5014\n",
      "Epoch 92/100\n",
      "491/491 [==============================] - 58s 119ms/step - loss: 0.6932 - accuracy: 0.4952 - val_loss: 0.6931 - val_accuracy: 0.4986\n",
      "Epoch 93/100\n",
      "491/491 [==============================] - 59s 121ms/step - loss: 0.6932 - accuracy: 0.4977 - val_loss: 0.6932 - val_accuracy: 0.5000\n",
      "Epoch 94/100\n",
      "491/491 [==============================] - 59s 120ms/step - loss: 0.6932 - accuracy: 0.4950 - val_loss: 0.6932 - val_accuracy: 0.4986\n",
      "Epoch 95/100\n",
      "491/491 [==============================] - 58s 118ms/step - loss: 0.6932 - accuracy: 0.4984 - val_loss: 0.6932 - val_accuracy: 0.4932\n",
      "Epoch 96/100\n",
      "491/491 [==============================] - 58s 117ms/step - loss: 0.6932 - accuracy: 0.4971 - val_loss: 0.6932 - val_accuracy: 0.4986\n",
      "Epoch 97/100\n",
      "491/491 [==============================] - 57s 116ms/step - loss: 0.6932 - accuracy: 0.4993 - val_loss: 0.6931 - val_accuracy: 0.5000\n",
      "Epoch 98/100\n",
      "491/491 [==============================] - 58s 117ms/step - loss: 0.6932 - accuracy: 0.4975 - val_loss: 0.6932 - val_accuracy: 0.4959\n",
      "Epoch 99/100\n",
      "491/491 [==============================] - 58s 117ms/step - loss: 0.6932 - accuracy: 0.4967 - val_loss: 0.6932 - val_accuracy: 0.4986\n",
      "Epoch 100/100\n",
      "491/491 [==============================] - 57s 116ms/step - loss: 0.6932 - accuracy: 0.4980 - val_loss: 0.6932 - val_accuracy: 0.4986\n"
     ]
    }
   ],
   "source": [
    "# Train model on dataset\n",
    "history = model.fit(x=training_generator,\n",
    "                    validation_data=validation_generator,\n",
    "                    # use_multiprocessing=True,\n",
    "                    # workers=4,\n",
    "                    epochs=100,\n",
    "                    verbose=1)"
   ]
  },
  {
   "cell_type": "code",
   "execution_count": 19,
   "metadata": {},
   "outputs": [],
   "source": [
    "model.save('outputs/SiameseNetwork.h5')"
   ]
  },
  {
   "cell_type": "markdown",
   "metadata": {},
   "source": [
    "### Resultados del entrenamiento"
   ]
  },
  {
   "cell_type": "code",
   "execution_count": 20,
   "metadata": {},
   "outputs": [],
   "source": [
    "import matplotlib.pyplot as plt\n",
    "import seaborn as sns\n",
    "sns.set_theme(style=\"darkgrid\")"
   ]
  },
  {
   "cell_type": "code",
   "execution_count": 21,
   "metadata": {},
   "outputs": [
    {
     "data": {
      "text/plain": [
       "dict_keys(['loss', 'accuracy', 'val_loss', 'val_accuracy'])"
      ]
     },
     "execution_count": 21,
     "metadata": {},
     "output_type": "execute_result"
    }
   ],
   "source": [
    "history.history.keys()"
   ]
  },
  {
   "cell_type": "code",
   "execution_count": 22,
   "metadata": {},
   "outputs": [],
   "source": [
    "acc = pd.DataFrame({'accuracy':history.history['accuracy'], 'type':'train'}).reset_index().rename(columns={'index':'epoch'})\n",
    "acc = pd.concat([acc, pd.DataFrame({'accuracy':history.history['val_accuracy'], 'type':'val'}).reset_index().rename(columns={'index':'epoch'})]).reset_index(drop=True)\n",
    "loss = pd.DataFrame({'loss':history.history['loss'], 'type':'train'}).reset_index().rename(columns={'index':'epoch'})\n",
    "loss = pd.concat([loss, pd.DataFrame({'loss':history.history['val_loss'], 'type':'val'}).reset_index().rename(columns={'index':'epoch'})]).reset_index(drop=True)"
   ]
  },
  {
   "cell_type": "code",
   "execution_count": 23,
   "metadata": {},
   "outputs": [
    {
     "data": {
      "image/png": "[encoded data removed]",
      "text/plain": [
       "<Figure size 1080x360 with 2 Axes>"
      ]
     },
     "metadata": {},
     "output_type": "display_data"
    }
   ],
   "source": [
    "fig, ax = plt.subplots(nrows=1, ncols=2, figsize=(15,5))\n",
    "sns.lineplot(x='epoch', y='accuracy', data=acc, hue='type', ax=ax[0])\n",
    "sns.lineplot(x='epoch', y='loss', data=loss, hue='type', ax=ax[1])\n",
    "plt.show()"
   ]
  },
  {
   "cell_type": "markdown",
   "metadata": {},
   "source": [
    "### Predicción de datos de prueba"
   ]
  }
 ],
 "metadata": {
  "interpreter": {
   "hash": "c249841fb0c9bf987b4c94f665c65fa3df82b59b17309ea651fa23fd035aae4c"
  },
  "kernelspec": {
   "display_name": "Python 3.9.12 ('base')",
   "language": "python",
   "name": "python3"
  },
  "language_info": {
   "codemirror_mode": {
    "name": "ipython",
    "version": 3
   },
   "file_extension": ".py",
   "mimetype": "text/x-python",
   "name": "python",
   "nbconvert_exporter": "python",
   "pygments_lexer": "ipython3",
   "version": "3.9.12"
  },
  "orig_nbformat": 4
 },
 "nbformat": 4,
 "nbformat_minor": 2
}
