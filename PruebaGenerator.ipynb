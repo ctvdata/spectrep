{
 "cells": [
  {
   "cell_type": "code",
   "execution_count": 23,
   "metadata": {},
   "outputs": [],
   "source": [
    "from myGenerator import TestGenerator\n",
    "import pandas as pd\n",
    "import json\n",
    "import numpy as np"
   ]
  },
  {
   "cell_type": "code",
   "execution_count": 24,
   "metadata": {},
   "outputs": [],
   "source": [
    "def spectraLoader(inputPath: str) -> pd.DataFrame:\n",
    "    df = pd.DataFrame()\n",
    "    with open(inputPath, encoding='utf-8') as f:\n",
    "        for line in f:\n",
    "            jsonline = json.loads(line)\n",
    "            lineDf = pd.DataFrame({'id':jsonline['id'], 'spectra':[np.array(jsonline['spectra'])]})\n",
    "            df = pd.concat([df, lineDf])\n",
    "    df = df.reset_index(drop=True)\n",
    "\n",
    "    return df"
   ]
  },
  {
   "cell_type": "code",
   "execution_count": 25,
   "metadata": {},
   "outputs": [],
   "source": [
    "test = pd.read_pickle(\"tmp/PanTest.plk\")\n",
    "full_spectra = spectraLoader('tmp/FullSpectra.jsonl')\n",
    "list_IDs = test.id.unique().tolist()"
   ]
  },
  {
   "cell_type": "code",
   "execution_count": 31,
   "metadata": {},
   "outputs": [
    {
     "data": {
      "text/plain": [
       "(80,)"
      ]
     },
     "execution_count": 31,
     "metadata": {},
     "output_type": "execute_result"
    }
   ],
   "source": [
    "test.idtext.unique().shape"
   ]
  },
  {
   "cell_type": "code",
   "execution_count": 28,
   "metadata": {},
   "outputs": [
    {
     "name": "stdout",
     "output_type": "stream",
     "text": [
      "1070.0\n",
      "(80, 2)\n",
      "1070\n"
     ]
    }
   ],
   "source": [
    "print(test.shape[0]/2)\n",
    "print(full_spectra.shape)\n",
    "print(len(list_IDs))\n"
   ]
  },
  {
   "cell_type": "code",
   "execution_count": 44,
   "metadata": {},
   "outputs": [
    {
     "data": {
      "text/plain": [
       "(3, 20, 20)"
      ]
     },
     "execution_count": 44,
     "metadata": {},
     "output_type": "execute_result"
    }
   ],
   "source": [
    "full_spectra.spectra[0].shape"
   ]
  },
  {
   "cell_type": "code",
   "execution_count": 63,
   "metadata": {},
   "outputs": [],
   "source": [
    "\n",
    "params = {'dim': (1200,),\n",
    "    'batch_size': 3}\n",
    "x = TestGenerator(list_IDs, test, full_spectra, **params)"
   ]
  },
  {
   "cell_type": "code",
   "execution_count": 64,
   "metadata": {},
   "outputs": [
    {
     "data": {
      "text/plain": [
       "(array([[26.1542778 , 14.27299404, 13.26203156, ..., 11.74957752,\n",
       "         11.53381729, 11.30260658],\n",
       "        [29.17065811, 15.41231823, 14.13848495, ..., 20.87254143,\n",
       "         20.00380898, 19.13000679],\n",
       "        [25.55375099, 13.72375488, 12.96818161, ..., 11.59582806,\n",
       "         11.40086555, 11.18942928]]),\n",
       " array([[28.93564606, 15.21465588, 14.23000622, ..., 11.75096893,\n",
       "         11.54677868, 11.32604408],\n",
       "        [27.69133377, 14.78660393, 14.00065613, ..., 19.37652397,\n",
       "         18.64108467, 17.8952446 ],\n",
       "        [28.93564606, 15.21465588, 14.23000622, ..., 11.75096893,\n",
       "         11.54677868, 11.32604408]]))"
      ]
     },
     "execution_count": 64,
     "metadata": {},
     "output_type": "execute_result"
    }
   ],
   "source": [
    "x.__getitem__(3)[0]"
   ]
  },
  {
   "cell_type": "code",
   "execution_count": 69,
   "metadata": {},
   "outputs": [
    {
     "data": {
      "text/plain": [
       "(array([[29.64274406, 15.33604622, 14.16795349, ..., 14.16557693,\n",
       "         13.84510136, 13.50369263],\n",
       "        [24.34172821, 13.67500973, 12.83590126, ..., 11.31101131,\n",
       "         11.11130428, 10.89716625],\n",
       "        [20.91234016, 11.91053677, 11.2152195 , ...,  3.21520019,\n",
       "          3.20345449,  3.18994045]]),\n",
       " array([[34.508358  , 17.2412014 , 15.92423344, ..., 16.77318382,\n",
       "         16.28476715, 15.7741642 ],\n",
       "        [24.02702141, 13.76861   , 13.12093544, ...,  9.5076437 ,\n",
       "          9.37137222,  9.22424412],\n",
       "        [26.23565865, 14.13490105, 13.2123003 , ..., 17.65644073,\n",
       "         17.08492279, 16.49482536]]))"
      ]
     },
     "execution_count": 69,
     "metadata": {},
     "output_type": "execute_result"
    }
   ],
   "source": [
    "x.__getitem__(78)[0]"
   ]
  }
 ],
 "metadata": {
  "interpreter": {
   "hash": "34185cc76f1746f7da7738a8f19ab6509177ea129d1668aef168b7e0e18c804f"
  },
  "kernelspec": {
   "display_name": "Python 3.9.12 ('base')",
   "language": "python",
   "name": "python3"
  },
  "language_info": {
   "codemirror_mode": {
    "name": "ipython",
    "version": 3
   },
   "file_extension": ".py",
   "mimetype": "text/x-python",
   "name": "python",
   "nbconvert_exporter": "python",
   "pygments_lexer": "ipython3",
   "version": "3.9.12"
  },
  "orig_nbformat": 4
 },
 "nbformat": 4,
 "nbformat_minor": 2
}
