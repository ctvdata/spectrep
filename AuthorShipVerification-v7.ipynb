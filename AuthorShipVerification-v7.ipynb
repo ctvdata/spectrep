{
 "cells": [
  {
   "cell_type": "code",
   "execution_count": 1,
   "metadata": {},
   "outputs": [],
   "source": [
    "import numpy as np\n",
    "import pandas as pd\n",
    "import tensorflow as tf\n",
    "import json\n",
    "from myGenerator import DataGenerator"
   ]
  },
  {
   "cell_type": "markdown",
   "metadata": {},
   "source": [
    "### Carga de datos"
   ]
  },
  {
   "cell_type": "code",
   "execution_count": 2,
   "metadata": {},
   "outputs": [],
   "source": [
    "train = pd.read_pickle(\"pan22-authorship-verification-training-dataset/particionesXid/PanTrain.plk\")\n",
    "val = pd.read_pickle(\"pan22-authorship-verification-training-dataset/particionesXid/PanVal.plk\")"
   ]
  },
  {
   "cell_type": "code",
   "execution_count": 3,
   "metadata": {},
   "outputs": [],
   "source": [
    "def spectraLoader(inputPath: str) -> pd.DataFrame:\n",
    "    df = pd.DataFrame()\n",
    "    with open(inputPath, encoding='utf-8') as f:\n",
    "        for line in f:\n",
    "            jsonline = json.loads(line)\n",
    "            lineDf = pd.DataFrame({'id':jsonline['id'], 'spectra':[np.array(jsonline['spectra'])]})\n",
    "            df = pd.concat([df, lineDf])\n",
    "    df = df.reset_index(drop=True)\n",
    "\n",
    "    return df"
   ]
  },
  {
   "cell_type": "code",
   "execution_count": 4,
   "metadata": {},
   "outputs": [],
   "source": [
    "full_spectra = spectraLoader(\"pan22-authorship-verification-training-dataset/particionesXid/FullSpectra.jsonl\")"
   ]
  },
  {
   "cell_type": "code",
   "execution_count": 5,
   "metadata": {},
   "outputs": [],
   "source": [
    "def loadLabels(inputPath:str, labelDict:dict) -> dict:\n",
    "    with open(inputPath, encoding='utf-8') as f:\n",
    "        for line in f:\n",
    "            jsonline = json.loads(line)\n",
    "            labelDict[jsonline['id']] = 1 if jsonline['value'] else 0\n",
    "        \n",
    "    return labelDict"
   ]
  },
  {
   "cell_type": "code",
   "execution_count": 6,
   "metadata": {},
   "outputs": [],
   "source": [
    "labels = dict()\n",
    "labels = loadLabels('pan22-authorship-verification-training-dataset/particiones/train_truth.jsonl',labels)\n",
    "labels = loadLabels('pan22-authorship-verification-training-dataset/particiones/val_truth.jsonl',labels)"
   ]
  },
  {
   "cell_type": "code",
   "execution_count": 7,
   "metadata": {},
   "outputs": [
    {
     "name": "stdout",
     "output_type": "stream",
     "text": [
      "Instances: 16486.0\n",
      "Labels:  16486\n"
     ]
    }
   ],
   "source": [
    "print(\"Instances: {}\".format((train.shape[0] + val.shape[0])/2))\n",
    "print(\"Labels: \",len(labels))"
   ]
  },
  {
   "cell_type": "code",
   "execution_count": 8,
   "metadata": {},
   "outputs": [],
   "source": [
    "partition = {'train': train.id.unique().tolist(), 'validation': val.id.unique().tolist()}"
   ]
  },
  {
   "cell_type": "code",
   "execution_count": 9,
   "metadata": {},
   "outputs": [
    {
     "name": "stdout",
     "output_type": "stream",
     "text": [
      "Train:  15732\n",
      "Validation:  754\n",
      "Total:  16486\n"
     ]
    }
   ],
   "source": [
    "print(\"Train: \", len(partition['train']))\n",
    "print(\"Validation: \", len(partition['validation']))\n",
    "print(\"Total: \", len(partition['train'])+len(partition['validation']))"
   ]
  },
  {
   "cell_type": "markdown",
   "metadata": {},
   "source": [
    "### Definición de la arquitectura del modelo"
   ]
  },
  {
   "cell_type": "code",
   "execution_count": 10,
   "metadata": {},
   "outputs": [],
   "source": [
    "# Modelo de red siamesa utilizando una red residual y un perceptron multicapa SIN CAPAS CUSTOM\n",
    "\n",
    "def setModel():\n",
    "    x1 = tf.keras.Input(shape=(1200,), name=\"input_1\")\n",
    "    x2 = tf.keras.Input(shape=(1200,), name=\"input_2\")\n",
    "\n",
    "    # Batch normalization\n",
    "    bn_layer = tf.keras.layers.BatchNormalization(name=\"Batch_normalization\")\n",
    "    bn1 = bn_layer(x1)\n",
    "    bn2 = bn_layer(x2)\n",
    "\n",
    "    # Gaussian noise\n",
    "    gaussian_noise_layer = tf.keras.layers.GaussianNoise(1.0, name=\"Gaussian_noise\")\n",
    "    gn1 = gaussian_noise_layer(bn1)\n",
    "    gn2 = gaussian_noise_layer(bn2)\n",
    "\n",
    "    # Dropout\n",
    "    dropout_layer = tf.keras.layers.Dropout(0.4, name=\"Dropout_1\")\n",
    "    do1 = dropout_layer(gn1)\n",
    "    do2 = dropout_layer(gn2)\n",
    "\n",
    "    # Residual network\n",
    "    dense_layer_1 = tf.keras.layers.Dense(600, activation='relu', name=\"resdense_1\")\n",
    "    o1_1 = dense_layer_1(do1)\n",
    "    o1_2 = dense_layer_1(do2)\n",
    "\n",
    "    dense_layer_2 = tf.keras.layers.Dense(600, activation='relu', name=\"resdense_2\")\n",
    "    o2_1 = dense_layer_2(o1_1)\n",
    "    o2_2 = dense_layer_2(o1_2)\n",
    "\n",
    "    # Residual layer\n",
    "    dense_layer_3 = tf.keras.layers.Dense(600, activation='relu', name=\"resdense_3\")\n",
    "    o3_1 = dense_layer_3(tf.subtract(o1_1, o2_1))\n",
    "    o3_2 = dense_layer_3(tf.subtract(o1_2, o2_2))\n",
    "\n",
    "    # dense_layer_4 = tf.keras.layers.Dense(256, activation='relu', name=\"resdense_4\")\n",
    "    # o4_1 = dense_layer_4(o3_1)\n",
    "    # o4_2 = dense_layer_4(o3_2)\n",
    "\n",
    "    # # Residual layer\n",
    "    # dense_layer_5 = tf.keras.layers.Dense(256, activation='relu', name=\"resdense_5\")\n",
    "    # o5_1 = dense_layer_5(tf.subtract(o3_1, o4_1))\n",
    "    # o5_2 = dense_layer_5(tf.subtract(o3_2, o4_2))\n",
    "\n",
    "    # dense_layer_6 = tf.keras.layers.Dense(256, activation='relu', name=\"resdense_6\")\n",
    "    # o6_1 = dense_layer_6(o5_1)\n",
    "    # o6_2 = dense_layer_6(o5_2)\n",
    "\n",
    "    # # Residual layer\n",
    "    # dense_layer_7 = tf.keras.layers.Dense(256, activation='relu', name=\"resdense_7\")\n",
    "    # o7_1 = dense_layer_7(tf.subtract(o5_1, o6_1))\n",
    "    # o7_2 = dense_layer_7(tf.subtract(o5_2, o6_2))\n",
    "\n",
    "    # dense_layer_8 = tf.keras.layers.Dense(256, activation='relu', name=\"resdense_8\")\n",
    "    # o8_1 = dense_layer_8(o7_1)\n",
    "    # o8_2 = dense_layer_8(o7_2)\n",
    "\n",
    "    # # Residual layer\n",
    "    # dense_layer_9 = tf.keras.layers.Dense(256, activation='relu', name=\"resdense_9\")\n",
    "    # o9_1 = dense_layer_9(tf.subtract(o7_1, o8_1))\n",
    "    # o9_2 = dense_layer_9(tf.subtract(o7_2, o8_2))\n",
    "\n",
    "    # Merging\n",
    "    # merge = tf.math.abs(tf.subtract(o9_1,o9_2))\n",
    "    merge = tf.math.abs(tf.subtract(o3_1,o3_2))\n",
    "\n",
    "    # MLPNN Classifier\n",
    "    hidden = tf.keras.layers.Dense(300, activation='relu', name=\"hidden_layer\")(merge)\n",
    "    # dropout_layer2 = tf.keras.layers.Dropout(0.4, name=\"Dropout_2\")(hidden)\n",
    "    output = tf.keras.layers.Dense(1, activation=\"sigmoid\", name=\"output_layer\")(hidden)#(dropout_layer2)\n",
    "\n",
    "    model = tf.keras.Model([x1, x2], output)\n",
    "    model.compile(loss = 'binary_crossentropy', optimizer = \"adam\", metrics=[\"binary_accuracy\"])\n",
    "\n",
    "    return model"
   ]
  },
  {
   "cell_type": "code",
   "execution_count": 11,
   "metadata": {},
   "outputs": [
    {
     "name": "stdout",
     "output_type": "stream",
     "text": [
      "Model: \"model\"\n",
      "__________________________________________________________________________________________________\n",
      " Layer (type)                   Output Shape         Param #     Connected to                     \n",
      "==================================================================================================\n",
      " input_1 (InputLayer)           [(None, 1200)]       0           []                               \n",
      "                                                                                                  \n",
      " input_2 (InputLayer)           [(None, 1200)]       0           []                               \n",
      "                                                                                                  \n",
      " Batch_normalization (BatchNorm  (None, 1200)        4800        ['input_1[0][0]',                \n",
      " alization)                                                       'input_2[0][0]']                \n",
      "                                                                                                  \n",
      " Gaussian_noise (GaussianNoise)  (None, 1200)        0           ['Batch_normalization[0][0]',    \n",
      "                                                                  'Batch_normalization[1][0]']    \n",
      "                                                                                                  \n",
      " Dropout_1 (Dropout)            (None, 1200)         0           ['Gaussian_noise[0][0]',         \n",
      "                                                                  'Gaussian_noise[1][0]']         \n",
      "                                                                                                  \n",
      " resdense_1 (Dense)             (None, 600)          720600      ['Dropout_1[0][0]',              \n",
      "                                                                  'Dropout_1[1][0]']              \n",
      "                                                                                                  \n",
      " resdense_2 (Dense)             (None, 600)          360600      ['resdense_1[0][0]',             \n",
      "                                                                  'resdense_1[1][0]']             \n",
      "                                                                                                  \n",
      " tf.math.subtract (TFOpLambda)  (None, 600)          0           ['resdense_1[0][0]',             \n",
      "                                                                  'resdense_2[0][0]']             \n",
      "                                                                                                  \n",
      " tf.math.subtract_1 (TFOpLambda  (None, 600)         0           ['resdense_1[1][0]',             \n",
      " )                                                                'resdense_2[1][0]']             \n",
      "                                                                                                  \n",
      " resdense_3 (Dense)             (None, 600)          360600      ['tf.math.subtract[0][0]',       \n",
      "                                                                  'tf.math.subtract_1[0][0]']     \n",
      "                                                                                                  \n",
      " tf.math.subtract_2 (TFOpLambda  (None, 600)         0           ['resdense_3[0][0]',             \n",
      " )                                                                'resdense_3[1][0]']             \n",
      "                                                                                                  \n",
      " tf.math.abs (TFOpLambda)       (None, 600)          0           ['tf.math.subtract_2[0][0]']     \n",
      "                                                                                                  \n",
      " hidden_layer (Dense)           (None, 300)          180300      ['tf.math.abs[0][0]']            \n",
      "                                                                                                  \n",
      " output_layer (Dense)           (None, 1)            301         ['hidden_layer[0][0]']           \n",
      "                                                                                                  \n",
      "==================================================================================================\n",
      "Total params: 1,627,201\n",
      "Trainable params: 1,624,801\n",
      "Non-trainable params: 2,400\n",
      "__________________________________________________________________________________________________\n"
     ]
    },
    {
     "name": "stderr",
     "output_type": "stream",
     "text": [
      "2022-05-20 18:26:36.493281: I tensorflow/stream_executor/cuda/cuda_gpu_executor.cc:936] successful NUMA node read from SysFS had negative value (-1), but there must be at least one NUMA node, so returning NUMA node zero\n",
      "2022-05-20 18:26:36.514859: I tensorflow/stream_executor/cuda/cuda_gpu_executor.cc:936] successful NUMA node read from SysFS had negative value (-1), but there must be at least one NUMA node, so returning NUMA node zero\n",
      "2022-05-20 18:26:36.514982: I tensorflow/stream_executor/cuda/cuda_gpu_executor.cc:936] successful NUMA node read from SysFS had negative value (-1), but there must be at least one NUMA node, so returning NUMA node zero\n",
      "2022-05-20 18:26:36.515447: I tensorflow/core/platform/cpu_feature_guard.cc:151] This TensorFlow binary is optimized with oneAPI Deep Neural Network Library (oneDNN) to use the following CPU instructions in performance-critical operations:  AVX2 FMA\n",
      "To enable them in other operations, rebuild TensorFlow with the appropriate compiler flags.\n",
      "2022-05-20 18:26:36.516301: I tensorflow/stream_executor/cuda/cuda_gpu_executor.cc:936] successful NUMA node read from SysFS had negative value (-1), but there must be at least one NUMA node, so returning NUMA node zero\n",
      "2022-05-20 18:26:36.516407: I tensorflow/stream_executor/cuda/cuda_gpu_executor.cc:936] successful NUMA node read from SysFS had negative value (-1), but there must be at least one NUMA node, so returning NUMA node zero\n",
      "2022-05-20 18:26:36.516487: I tensorflow/stream_executor/cuda/cuda_gpu_executor.cc:936] successful NUMA node read from SysFS had negative value (-1), but there must be at least one NUMA node, so returning NUMA node zero\n",
      "2022-05-20 18:26:36.818743: I tensorflow/stream_executor/cuda/cuda_gpu_executor.cc:936] successful NUMA node read from SysFS had negative value (-1), but there must be at least one NUMA node, so returning NUMA node zero\n",
      "2022-05-20 18:26:36.818875: I tensorflow/stream_executor/cuda/cuda_gpu_executor.cc:936] successful NUMA node read from SysFS had negative value (-1), but there must be at least one NUMA node, so returning NUMA node zero\n",
      "2022-05-20 18:26:36.818960: I tensorflow/stream_executor/cuda/cuda_gpu_executor.cc:936] successful NUMA node read from SysFS had negative value (-1), but there must be at least one NUMA node, so returning NUMA node zero\n",
      "2022-05-20 18:26:36.819033: I tensorflow/core/common_runtime/gpu/gpu_device.cc:1525] Created device /job:localhost/replica:0/task:0/device:GPU:0 with 7727 MB memory:  -> device: 0, name: NVIDIA GeForce RTX 3080, pci bus id: 0000:01:00.0, compute capability: 8.6\n"
     ]
    }
   ],
   "source": [
    "model = setModel()\n",
    "model.summary()"
   ]
  },
  {
   "cell_type": "markdown",
   "metadata": {},
   "source": [
    "### Entrenamiento del modelo"
   ]
  },
  {
   "cell_type": "code",
   "execution_count": 12,
   "metadata": {},
   "outputs": [],
   "source": [
    "# Parameters\n",
    "params = {'dim': (1200,),\n",
    "            'batch_size': 32,\n",
    "            'shuffle': True}"
   ]
  },
  {
   "cell_type": "code",
   "execution_count": 13,
   "metadata": {},
   "outputs": [],
   "source": [
    "# Generators\n",
    "training_generator = DataGenerator(partition['train'], train, labels, full_spectra, **params)\n",
    "validation_generator = DataGenerator(partition['validation'], val, labels, full_spectra, **params)"
   ]
  },
  {
   "cell_type": "code",
   "execution_count": 14,
   "metadata": {},
   "outputs": [
    {
     "data": {
      "text/plain": [
       "'/device:GPU:0'"
      ]
     },
     "execution_count": 14,
     "metadata": {},
     "output_type": "execute_result"
    },
    {
     "name": "stderr",
     "output_type": "stream",
     "text": [
      "2022-05-20 18:26:37.014548: I tensorflow/stream_executor/cuda/cuda_gpu_executor.cc:936] successful NUMA node read from SysFS had negative value (-1), but there must be at least one NUMA node, so returning NUMA node zero\n",
      "2022-05-20 18:26:37.014692: I tensorflow/stream_executor/cuda/cuda_gpu_executor.cc:936] successful NUMA node read from SysFS had negative value (-1), but there must be at least one NUMA node, so returning NUMA node zero\n",
      "2022-05-20 18:26:37.014770: I tensorflow/stream_executor/cuda/cuda_gpu_executor.cc:936] successful NUMA node read from SysFS had negative value (-1), but there must be at least one NUMA node, so returning NUMA node zero\n",
      "2022-05-20 18:26:37.014880: I tensorflow/stream_executor/cuda/cuda_gpu_executor.cc:936] successful NUMA node read from SysFS had negative value (-1), but there must be at least one NUMA node, so returning NUMA node zero\n",
      "2022-05-20 18:26:37.014961: I tensorflow/stream_executor/cuda/cuda_gpu_executor.cc:936] successful NUMA node read from SysFS had negative value (-1), but there must be at least one NUMA node, so returning NUMA node zero\n",
      "2022-05-20 18:26:37.015021: I tensorflow/core/common_runtime/gpu/gpu_device.cc:1525] Created device /device:GPU:0 with 7727 MB memory:  -> device: 0, name: NVIDIA GeForce RTX 3080, pci bus id: 0000:01:00.0, compute capability: 8.6\n"
     ]
    }
   ],
   "source": [
    "tf.test.gpu_device_name()"
   ]
  },
  {
   "cell_type": "code",
   "execution_count": 15,
   "metadata": {},
   "outputs": [
    {
     "name": "stdout",
     "output_type": "stream",
     "text": [
      "Epoch 1/100\n",
      "  5/491 [..............................] - ETA: 21s - loss: 1.5712 - binary_accuracy: 0.4625"
     ]
    },
    {
     "name": "stderr",
     "output_type": "stream",
     "text": [
      "2022-05-20 18:26:38.331516: I tensorflow/stream_executor/cuda/cuda_blas.cc:1786] TensorFloat-32 will be used for the matrix multiplication. This will only be logged once.\n"
     ]
    },
    {
     "name": "stdout",
     "output_type": "stream",
     "text": [
      "491/491 [==============================] - 28s 56ms/step - loss: 0.7085 - binary_accuracy: 0.5678 - val_loss: 0.7059 - val_binary_accuracy: 0.5435\n",
      "Epoch 2/100\n",
      "491/491 [==============================] - 27s 56ms/step - loss: 0.6611 - binary_accuracy: 0.6078 - val_loss: 0.6775 - val_binary_accuracy: 0.5693\n",
      "Epoch 3/100\n",
      "491/491 [==============================] - 27s 55ms/step - loss: 0.6482 - binary_accuracy: 0.6259 - val_loss: 0.7267 - val_binary_accuracy: 0.5326\n",
      "Epoch 4/100\n",
      "491/491 [==============================] - 27s 56ms/step - loss: 0.6368 - binary_accuracy: 0.6428 - val_loss: 0.7256 - val_binary_accuracy: 0.5163\n",
      "Epoch 5/100\n",
      "491/491 [==============================] - 27s 55ms/step - loss: 0.6291 - binary_accuracy: 0.6488 - val_loss: 0.6909 - val_binary_accuracy: 0.5476\n",
      "Epoch 6/100\n",
      "491/491 [==============================] - 27s 55ms/step - loss: 0.6241 - binary_accuracy: 0.6519 - val_loss: 0.6599 - val_binary_accuracy: 0.6209\n",
      "Epoch 7/100\n",
      "491/491 [==============================] - 27s 55ms/step - loss: 0.6139 - binary_accuracy: 0.6638 - val_loss: 0.7143 - val_binary_accuracy: 0.5693\n",
      "Epoch 8/100\n",
      "491/491 [==============================] - 27s 55ms/step - loss: 0.6071 - binary_accuracy: 0.6696 - val_loss: 0.6985 - val_binary_accuracy: 0.6236\n",
      "Epoch 9/100\n",
      "491/491 [==============================] - 27s 55ms/step - loss: 0.6015 - binary_accuracy: 0.6783 - val_loss: 0.7256 - val_binary_accuracy: 0.5734\n",
      "Epoch 10/100\n",
      "491/491 [==============================] - 27s 56ms/step - loss: 0.5859 - binary_accuracy: 0.6966 - val_loss: 0.6880 - val_binary_accuracy: 0.5897\n",
      "Epoch 11/100\n",
      "491/491 [==============================] - 27s 55ms/step - loss: 0.5803 - binary_accuracy: 0.6961 - val_loss: 0.7214 - val_binary_accuracy: 0.5897\n",
      "Epoch 12/100\n",
      "491/491 [==============================] - 27s 55ms/step - loss: 0.5608 - binary_accuracy: 0.7125 - val_loss: 0.7360 - val_binary_accuracy: 0.6250\n",
      "Epoch 13/100\n",
      "491/491 [==============================] - 27s 55ms/step - loss: 0.5533 - binary_accuracy: 0.7187 - val_loss: 0.7060 - val_binary_accuracy: 0.6332\n",
      "Epoch 14/100\n",
      "491/491 [==============================] - 27s 56ms/step - loss: 0.5461 - binary_accuracy: 0.7315 - val_loss: 0.8314 - val_binary_accuracy: 0.5883\n",
      "Epoch 15/100\n",
      "491/491 [==============================] - 27s 56ms/step - loss: 0.5349 - binary_accuracy: 0.7345 - val_loss: 1.0483 - val_binary_accuracy: 0.5788\n",
      "Epoch 16/100\n",
      "491/491 [==============================] - 27s 56ms/step - loss: 0.5200 - binary_accuracy: 0.7494 - val_loss: 0.7487 - val_binary_accuracy: 0.5734\n",
      "Epoch 17/100\n",
      "491/491 [==============================] - 27s 56ms/step - loss: 0.5106 - binary_accuracy: 0.7563 - val_loss: 0.7729 - val_binary_accuracy: 0.6155\n",
      "Epoch 18/100\n",
      "491/491 [==============================] - 28s 56ms/step - loss: 0.4947 - binary_accuracy: 0.7652 - val_loss: 0.8048 - val_binary_accuracy: 0.5910\n",
      "Epoch 19/100\n",
      "491/491 [==============================] - 27s 56ms/step - loss: 0.4842 - binary_accuracy: 0.7696 - val_loss: 0.7797 - val_binary_accuracy: 0.5978\n",
      "Epoch 20/100\n",
      "491/491 [==============================] - 27s 56ms/step - loss: 0.4702 - binary_accuracy: 0.7827 - val_loss: 0.8888 - val_binary_accuracy: 0.5734\n",
      "Epoch 21/100\n",
      "491/491 [==============================] - 28s 57ms/step - loss: 0.4649 - binary_accuracy: 0.7844 - val_loss: 0.9699 - val_binary_accuracy: 0.5720\n",
      "Epoch 22/100\n",
      "491/491 [==============================] - 27s 56ms/step - loss: 0.4550 - binary_accuracy: 0.7923 - val_loss: 0.7556 - val_binary_accuracy: 0.6141\n",
      "Epoch 23/100\n",
      "491/491 [==============================] - 27s 56ms/step - loss: 0.4485 - binary_accuracy: 0.8000 - val_loss: 0.9217 - val_binary_accuracy: 0.6101\n",
      "Epoch 24/100\n",
      "491/491 [==============================] - 28s 56ms/step - loss: 0.4371 - binary_accuracy: 0.8052 - val_loss: 0.7649 - val_binary_accuracy: 0.5870\n",
      "Epoch 25/100\n",
      "491/491 [==============================] - 28s 56ms/step - loss: 0.4308 - binary_accuracy: 0.8065 - val_loss: 0.7900 - val_binary_accuracy: 0.5910\n",
      "Epoch 26/100\n",
      "491/491 [==============================] - 27s 56ms/step - loss: 0.4243 - binary_accuracy: 0.8098 - val_loss: 1.0955 - val_binary_accuracy: 0.5734\n",
      "Epoch 27/100\n",
      "491/491 [==============================] - 28s 56ms/step - loss: 0.4145 - binary_accuracy: 0.8175 - val_loss: 0.8343 - val_binary_accuracy: 0.5829\n",
      "Epoch 28/100\n",
      "491/491 [==============================] - 27s 56ms/step - loss: 0.4057 - binary_accuracy: 0.8217 - val_loss: 1.0129 - val_binary_accuracy: 0.5707\n",
      "Epoch 29/100\n",
      "491/491 [==============================] - 28s 57ms/step - loss: 0.3948 - binary_accuracy: 0.8325 - val_loss: 0.8444 - val_binary_accuracy: 0.5829\n",
      "Epoch 30/100\n",
      "491/491 [==============================] - 28s 56ms/step - loss: 0.3865 - binary_accuracy: 0.8337 - val_loss: 1.0059 - val_binary_accuracy: 0.6060\n",
      "Epoch 31/100\n",
      "491/491 [==============================] - 28s 56ms/step - loss: 0.3840 - binary_accuracy: 0.8364 - val_loss: 1.1598 - val_binary_accuracy: 0.5598\n",
      "Epoch 32/100\n",
      "491/491 [==============================] - 27s 56ms/step - loss: 0.3773 - binary_accuracy: 0.8376 - val_loss: 1.0091 - val_binary_accuracy: 0.5747\n",
      "Epoch 33/100\n",
      "491/491 [==============================] - 27s 56ms/step - loss: 0.3694 - binary_accuracy: 0.8416 - val_loss: 1.2702 - val_binary_accuracy: 0.5666\n",
      "Epoch 34/100\n",
      "491/491 [==============================] - 28s 56ms/step - loss: 0.3567 - binary_accuracy: 0.8492 - val_loss: 1.0355 - val_binary_accuracy: 0.5842\n",
      "Epoch 35/100\n",
      "491/491 [==============================] - 27s 55ms/step - loss: 0.3528 - binary_accuracy: 0.8513 - val_loss: 1.1595 - val_binary_accuracy: 0.5883\n",
      "Epoch 36/100\n",
      "491/491 [==============================] - 27s 55ms/step - loss: 0.3509 - binary_accuracy: 0.8525 - val_loss: 1.1698 - val_binary_accuracy: 0.5625\n",
      "Epoch 37/100\n",
      "491/491 [==============================] - 27s 55ms/step - loss: 0.3465 - binary_accuracy: 0.8544 - val_loss: 1.1531 - val_binary_accuracy: 0.5707\n",
      "Epoch 38/100\n",
      "491/491 [==============================] - 27s 54ms/step - loss: 0.3409 - binary_accuracy: 0.8623 - val_loss: 1.4448 - val_binary_accuracy: 0.5516\n",
      "Epoch 39/100\n",
      "491/491 [==============================] - 27s 55ms/step - loss: 0.3331 - binary_accuracy: 0.8610 - val_loss: 1.1288 - val_binary_accuracy: 0.6073\n",
      "Epoch 40/100\n",
      "491/491 [==============================] - 27s 55ms/step - loss: 0.3293 - binary_accuracy: 0.8629 - val_loss: 1.1488 - val_binary_accuracy: 0.5666\n",
      "Epoch 41/100\n",
      "491/491 [==============================] - 27s 55ms/step - loss: 0.3231 - binary_accuracy: 0.8672 - val_loss: 1.0365 - val_binary_accuracy: 0.5584\n",
      "Epoch 42/100\n",
      "491/491 [==============================] - 27s 55ms/step - loss: 0.3204 - binary_accuracy: 0.8679 - val_loss: 0.9843 - val_binary_accuracy: 0.5707\n",
      "Epoch 43/100\n",
      "491/491 [==============================] - 27s 55ms/step - loss: 0.3114 - binary_accuracy: 0.8726 - val_loss: 1.1305 - val_binary_accuracy: 0.5720\n",
      "Epoch 44/100\n",
      "491/491 [==============================] - 27s 54ms/step - loss: 0.3057 - binary_accuracy: 0.8752 - val_loss: 1.1400 - val_binary_accuracy: 0.5924\n",
      "Epoch 45/100\n",
      "491/491 [==============================] - 27s 55ms/step - loss: 0.2982 - binary_accuracy: 0.8791 - val_loss: 1.3027 - val_binary_accuracy: 0.5720\n",
      "Epoch 46/100\n",
      "491/491 [==============================] - 27s 54ms/step - loss: 0.3027 - binary_accuracy: 0.8763 - val_loss: 1.1883 - val_binary_accuracy: 0.5842\n",
      "Epoch 47/100\n",
      "491/491 [==============================] - 27s 54ms/step - loss: 0.2859 - binary_accuracy: 0.8865 - val_loss: 1.7108 - val_binary_accuracy: 0.5761\n",
      "Epoch 48/100\n",
      "491/491 [==============================] - 27s 54ms/step - loss: 0.2813 - binary_accuracy: 0.8885 - val_loss: 1.7087 - val_binary_accuracy: 0.5747\n",
      "Epoch 49/100\n",
      "491/491 [==============================] - 27s 55ms/step - loss: 0.2819 - binary_accuracy: 0.8854 - val_loss: 1.3230 - val_binary_accuracy: 0.5639\n",
      "Epoch 50/100\n",
      "491/491 [==============================] - 27s 54ms/step - loss: 0.2775 - binary_accuracy: 0.8873 - val_loss: 1.6038 - val_binary_accuracy: 0.5584\n",
      "Epoch 51/100\n",
      "491/491 [==============================] - 27s 55ms/step - loss: 0.2693 - binary_accuracy: 0.8945 - val_loss: 1.6379 - val_binary_accuracy: 0.5679\n",
      "Epoch 52/100\n",
      "491/491 [==============================] - 26s 54ms/step - loss: 0.2642 - binary_accuracy: 0.8949 - val_loss: 1.5142 - val_binary_accuracy: 0.5924\n",
      "Epoch 53/100\n",
      "491/491 [==============================] - 27s 55ms/step - loss: 0.2644 - binary_accuracy: 0.8948 - val_loss: 1.4576 - val_binary_accuracy: 0.5584\n",
      "Epoch 54/100\n",
      "491/491 [==============================] - 27s 55ms/step - loss: 0.2578 - binary_accuracy: 0.8986 - val_loss: 1.5567 - val_binary_accuracy: 0.5231\n",
      "Epoch 55/100\n",
      "491/491 [==============================] - 27s 54ms/step - loss: 0.2625 - binary_accuracy: 0.8966 - val_loss: 1.5093 - val_binary_accuracy: 0.5734\n",
      "Epoch 56/100\n",
      "491/491 [==============================] - 27s 54ms/step - loss: 0.2547 - binary_accuracy: 0.8996 - val_loss: 1.1828 - val_binary_accuracy: 0.5829\n",
      "Epoch 57/100\n",
      "491/491 [==============================] - 27s 55ms/step - loss: 0.2522 - binary_accuracy: 0.9009 - val_loss: 1.4396 - val_binary_accuracy: 0.5734\n",
      "Epoch 58/100\n",
      "491/491 [==============================] - 27s 55ms/step - loss: 0.2545 - binary_accuracy: 0.9001 - val_loss: 1.4744 - val_binary_accuracy: 0.5788\n",
      "Epoch 59/100\n",
      "491/491 [==============================] - 26s 54ms/step - loss: 0.2437 - binary_accuracy: 0.9050 - val_loss: 1.3443 - val_binary_accuracy: 0.5856\n",
      "Epoch 60/100\n",
      "491/491 [==============================] - 27s 55ms/step - loss: 0.2452 - binary_accuracy: 0.9038 - val_loss: 1.3745 - val_binary_accuracy: 0.5856\n",
      "Epoch 61/100\n",
      "491/491 [==============================] - 27s 54ms/step - loss: 0.2434 - binary_accuracy: 0.9046 - val_loss: 1.1015 - val_binary_accuracy: 0.5774\n",
      "Epoch 62/100\n",
      "491/491 [==============================] - 27s 55ms/step - loss: 0.2403 - binary_accuracy: 0.9052 - val_loss: 1.7302 - val_binary_accuracy: 0.5720\n",
      "Epoch 63/100\n",
      "491/491 [==============================] - 27s 55ms/step - loss: 0.2330 - binary_accuracy: 0.9090 - val_loss: 1.6049 - val_binary_accuracy: 0.5707\n",
      "Epoch 64/100\n",
      "491/491 [==============================] - 27s 55ms/step - loss: 0.2325 - binary_accuracy: 0.9087 - val_loss: 1.3149 - val_binary_accuracy: 0.5639\n",
      "Epoch 65/100\n",
      "491/491 [==============================] - 27s 55ms/step - loss: 0.2333 - binary_accuracy: 0.9088 - val_loss: 1.3354 - val_binary_accuracy: 0.6005\n",
      "Epoch 66/100\n",
      "491/491 [==============================] - 27s 55ms/step - loss: 0.2293 - binary_accuracy: 0.9108 - val_loss: 1.6571 - val_binary_accuracy: 0.5761\n",
      "Epoch 67/100\n",
      "491/491 [==============================] - 27s 54ms/step - loss: 0.2288 - binary_accuracy: 0.9122 - val_loss: 1.5841 - val_binary_accuracy: 0.5652\n",
      "Epoch 68/100\n",
      "491/491 [==============================] - 27s 54ms/step - loss: 0.2211 - binary_accuracy: 0.9151 - val_loss: 1.6858 - val_binary_accuracy: 0.5639\n",
      "Epoch 69/100\n",
      "491/491 [==============================] - 27s 54ms/step - loss: 0.2231 - binary_accuracy: 0.9122 - val_loss: 1.3636 - val_binary_accuracy: 0.5883\n",
      "Epoch 70/100\n",
      "491/491 [==============================] - 27s 55ms/step - loss: 0.2244 - binary_accuracy: 0.9150 - val_loss: 1.8491 - val_binary_accuracy: 0.5747\n",
      "Epoch 71/100\n",
      "491/491 [==============================] - 27s 54ms/step - loss: 0.2214 - binary_accuracy: 0.9150 - val_loss: 1.7946 - val_binary_accuracy: 0.5747\n",
      "Epoch 72/100\n",
      "491/491 [==============================] - 27s 54ms/step - loss: 0.2221 - binary_accuracy: 0.9131 - val_loss: 1.5175 - val_binary_accuracy: 0.5774\n",
      "Epoch 73/100\n",
      "491/491 [==============================] - 27s 55ms/step - loss: 0.2169 - binary_accuracy: 0.9176 - val_loss: 1.4631 - val_binary_accuracy: 0.6019\n",
      "Epoch 74/100\n",
      "491/491 [==============================] - 27s 54ms/step - loss: 0.2167 - binary_accuracy: 0.9166 - val_loss: 1.7413 - val_binary_accuracy: 0.5571\n",
      "Epoch 75/100\n",
      "491/491 [==============================] - 27s 55ms/step - loss: 0.2152 - binary_accuracy: 0.9170 - val_loss: 1.5512 - val_binary_accuracy: 0.5448\n",
      "Epoch 76/100\n",
      "491/491 [==============================] - 27s 54ms/step - loss: 0.2121 - binary_accuracy: 0.9190 - val_loss: 1.6768 - val_binary_accuracy: 0.5707\n",
      "Epoch 77/100\n",
      "491/491 [==============================] - 26s 54ms/step - loss: 0.2084 - binary_accuracy: 0.9195 - val_loss: 1.7357 - val_binary_accuracy: 0.5734\n",
      "Epoch 78/100\n",
      "491/491 [==============================] - 27s 54ms/step - loss: 0.2137 - binary_accuracy: 0.9206 - val_loss: 2.4727 - val_binary_accuracy: 0.5802\n",
      "Epoch 79/100\n",
      "491/491 [==============================] - 27s 55ms/step - loss: 0.2079 - binary_accuracy: 0.9199 - val_loss: 1.6890 - val_binary_accuracy: 0.5856\n",
      "Epoch 80/100\n",
      "491/491 [==============================] - 27s 54ms/step - loss: 0.2039 - binary_accuracy: 0.9228 - val_loss: 2.5547 - val_binary_accuracy: 0.5557\n",
      "Epoch 81/100\n",
      "491/491 [==============================] - 26s 54ms/step - loss: 0.2027 - binary_accuracy: 0.9231 - val_loss: 1.9470 - val_binary_accuracy: 0.5503\n",
      "Epoch 82/100\n",
      "491/491 [==============================] - 27s 54ms/step - loss: 0.1978 - binary_accuracy: 0.9252 - val_loss: 1.8784 - val_binary_accuracy: 0.5530\n",
      "Epoch 83/100\n",
      "491/491 [==============================] - 27s 54ms/step - loss: 0.2047 - binary_accuracy: 0.9234 - val_loss: 1.7426 - val_binary_accuracy: 0.5611\n",
      "Epoch 84/100\n",
      "491/491 [==============================] - 27s 55ms/step - loss: 0.1973 - binary_accuracy: 0.9240 - val_loss: 2.1040 - val_binary_accuracy: 0.5435\n",
      "Epoch 85/100\n",
      "491/491 [==============================] - 27s 54ms/step - loss: 0.1952 - binary_accuracy: 0.9255 - val_loss: 1.6158 - val_binary_accuracy: 0.5734\n",
      "Epoch 86/100\n",
      "491/491 [==============================] - 27s 54ms/step - loss: 0.2002 - binary_accuracy: 0.9234 - val_loss: 2.3880 - val_binary_accuracy: 0.5503\n",
      "Epoch 87/100\n",
      "491/491 [==============================] - 27s 55ms/step - loss: 0.1957 - binary_accuracy: 0.9233 - val_loss: 1.9495 - val_binary_accuracy: 0.5774\n",
      "Epoch 88/100\n",
      "491/491 [==============================] - 27s 55ms/step - loss: 0.1918 - binary_accuracy: 0.9282 - val_loss: 1.3876 - val_binary_accuracy: 0.6019\n",
      "Epoch 89/100\n",
      "491/491 [==============================] - 27s 55ms/step - loss: 0.1960 - binary_accuracy: 0.9248 - val_loss: 1.7809 - val_binary_accuracy: 0.5503\n",
      "Epoch 90/100\n",
      "491/491 [==============================] - 27s 55ms/step - loss: 0.1901 - binary_accuracy: 0.9286 - val_loss: 2.2576 - val_binary_accuracy: 0.5543\n",
      "Epoch 91/100\n",
      "491/491 [==============================] - 27s 55ms/step - loss: 0.1944 - binary_accuracy: 0.9282 - val_loss: 1.8220 - val_binary_accuracy: 0.5734\n",
      "Epoch 92/100\n",
      "491/491 [==============================] - 27s 54ms/step - loss: 0.1867 - binary_accuracy: 0.9283 - val_loss: 1.9879 - val_binary_accuracy: 0.5639\n",
      "Epoch 93/100\n",
      "491/491 [==============================] - 27s 55ms/step - loss: 0.1886 - binary_accuracy: 0.9287 - val_loss: 1.5281 - val_binary_accuracy: 0.5910\n",
      "Epoch 94/100\n",
      "491/491 [==============================] - 27s 54ms/step - loss: 0.1913 - binary_accuracy: 0.9308 - val_loss: 1.8931 - val_binary_accuracy: 0.5747\n",
      "Epoch 95/100\n",
      "491/491 [==============================] - 27s 55ms/step - loss: 0.1890 - binary_accuracy: 0.9283 - val_loss: 2.5815 - val_binary_accuracy: 0.5679\n",
      "Epoch 96/100\n",
      "491/491 [==============================] - 27s 54ms/step - loss: 0.1874 - binary_accuracy: 0.9292 - val_loss: 1.7315 - val_binary_accuracy: 0.5666\n",
      "Epoch 97/100\n",
      "491/491 [==============================] - 27s 54ms/step - loss: 0.1756 - binary_accuracy: 0.9351 - val_loss: 2.3692 - val_binary_accuracy: 0.5543\n",
      "Epoch 98/100\n",
      "491/491 [==============================] - 27s 54ms/step - loss: 0.1873 - binary_accuracy: 0.9280 - val_loss: 2.3076 - val_binary_accuracy: 0.5625\n",
      "Epoch 99/100\n",
      "491/491 [==============================] - 27s 54ms/step - loss: 0.1823 - binary_accuracy: 0.9304 - val_loss: 1.5378 - val_binary_accuracy: 0.5938\n",
      "Epoch 100/100\n",
      "491/491 [==============================] - 27s 54ms/step - loss: 0.1818 - binary_accuracy: 0.9320 - val_loss: 2.1341 - val_binary_accuracy: 0.5747\n"
     ]
    }
   ],
   "source": [
    "# Train model on dataset\n",
    "with tf.device('/device:GPU:0'):\n",
    "    model = setModel()\n",
    "    # callback = tf.keras.callbacks.EarlyStopping(monitor='loss', patience=5)\n",
    "    history = model.fit(x=training_generator,\n",
    "                        validation_data=validation_generator,\n",
    "                        # callbacks=[callback],\n",
    "                        # use_multiprocessing=True,\n",
    "                        # workers=4,\n",
    "                        epochs=100,\n",
    "                        verbose=1)"
   ]
  },
  {
   "cell_type": "code",
   "execution_count": 16,
   "metadata": {},
   "outputs": [
    {
     "name": "stderr",
     "output_type": "stream",
     "text": [
      "2022-05-20 19:11:38.257227: W tensorflow/python/util/util.cc:368] Sets are not currently considered sequences, but this may change in the future, so consider avoiding using them.\n"
     ]
    },
    {
     "name": "stdout",
     "output_type": "stream",
     "text": [
      "INFO:tensorflow:Assets written to: models/ClassifierModel-v7/assets\n"
     ]
    }
   ],
   "source": [
    "model.save('models/ClassifierModel-v7')"
   ]
  },
  {
   "cell_type": "markdown",
   "metadata": {},
   "source": [
    "### Resultados del entrenamiento"
   ]
  },
  {
   "cell_type": "code",
   "execution_count": 23,
   "metadata": {},
   "outputs": [],
   "source": [
    "import matplotlib.pyplot as plt\n",
    "import seaborn as sns\n",
    "sns.set_theme(style=\"darkgrid\")"
   ]
  },
  {
   "cell_type": "code",
   "execution_count": 18,
   "metadata": {},
   "outputs": [
    {
     "data": {
      "text/plain": [
       "dict_keys(['loss', 'binary_accuracy', 'val_loss', 'val_binary_accuracy'])"
      ]
     },
     "execution_count": 18,
     "metadata": {},
     "output_type": "execute_result"
    }
   ],
   "source": [
    "history.history.keys()"
   ]
  },
  {
   "cell_type": "code",
   "execution_count": 19,
   "metadata": {},
   "outputs": [],
   "source": [
    "acc = pd.DataFrame({'accuracy':history.history['binary_accuracy'], 'type':'train'}).reset_index().rename(columns={'index':'epoch'})\n",
    "acc = pd.concat([acc, pd.DataFrame({'accuracy':history.history['val_binary_accuracy'], 'type':'val'}).reset_index().rename(columns={'index':'epoch'})]).reset_index(drop=True)\n",
    "loss = pd.DataFrame({'loss':history.history['loss'], 'type':'train'}).reset_index().rename(columns={'index':'epoch'})\n",
    "loss = pd.concat([loss, pd.DataFrame({'loss':history.history['val_loss'], 'type':'val'}).reset_index().rename(columns={'index':'epoch'})]).reset_index(drop=True)"
   ]
  },
  {
   "cell_type": "code",
   "execution_count": 20,
   "metadata": {},
   "outputs": [
    {
     "data": {
      "image/png": "[encoded data removed]",
      "text/plain": [
       "<Figure size 1080x360 with 2 Axes>"
      ]
     },
     "metadata": {},
     "output_type": "display_data"
    }
   ],
   "source": [
    "fig, ax = plt.subplots(nrows=1, ncols=2, figsize=(15,5))\n",
    "sns.lineplot(x='epoch', y='accuracy', data=acc, hue='type', ax=ax[0])\n",
    "sns.lineplot(x='epoch', y='loss', data=loss, hue='type', ax=ax[1])\n",
    "plt.show()"
   ]
  },
  {
   "cell_type": "code",
   "execution_count": 21,
   "metadata": {},
   "outputs": [
    {
     "data": {
      "text/html": [
       "<div>\n",
       "<style scoped>\n",
       "    .dataframe tbody tr th:only-of-type {\n",
       "        vertical-align: middle;\n",
       "    }\n",
       "\n",
       "    .dataframe tbody tr th {\n",
       "        vertical-align: top;\n",
       "    }\n",
       "\n",
       "    .dataframe thead th {\n",
       "        text-align: right;\n",
       "    }\n",
       "</style>\n",
       "<table border=\"1\" class=\"dataframe\">\n",
       "  <thead>\n",
       "    <tr style=\"text-align: right;\">\n",
       "      <th></th>\n",
       "      <th>epoch</th>\n",
       "      <th>accuracy</th>\n",
       "      <th>type</th>\n",
       "    </tr>\n",
       "  </thead>\n",
       "  <tbody>\n",
       "    <tr>\n",
       "      <th>99</th>\n",
       "      <td>99</td>\n",
       "      <td>0.931963</td>\n",
       "      <td>train</td>\n",
       "    </tr>\n",
       "    <tr>\n",
       "      <th>199</th>\n",
       "      <td>99</td>\n",
       "      <td>0.574728</td>\n",
       "      <td>val</td>\n",
       "    </tr>\n",
       "  </tbody>\n",
       "</table>\n",
       "</div>"
      ],
      "text/plain": [
       "     epoch  accuracy   type\n",
       "99      99  0.931963  train\n",
       "199     99  0.574728    val"
      ]
     },
     "execution_count": 21,
     "metadata": {},
     "output_type": "execute_result"
    }
   ],
   "source": [
    "acc.loc[acc.epoch == acc.epoch.max()]"
   ]
  },
  {
   "cell_type": "code",
   "execution_count": 22,
   "metadata": {},
   "outputs": [
    {
     "data": {
      "text/html": [
       "<div>\n",
       "<style scoped>\n",
       "    .dataframe tbody tr th:only-of-type {\n",
       "        vertical-align: middle;\n",
       "    }\n",
       "\n",
       "    .dataframe tbody tr th {\n",
       "        vertical-align: top;\n",
       "    }\n",
       "\n",
       "    .dataframe thead th {\n",
       "        text-align: right;\n",
       "    }\n",
       "</style>\n",
       "<table border=\"1\" class=\"dataframe\">\n",
       "  <thead>\n",
       "    <tr style=\"text-align: right;\">\n",
       "      <th></th>\n",
       "      <th>epoch</th>\n",
       "      <th>loss</th>\n",
       "      <th>type</th>\n",
       "    </tr>\n",
       "  </thead>\n",
       "  <tbody>\n",
       "    <tr>\n",
       "      <th>99</th>\n",
       "      <td>99</td>\n",
       "      <td>0.181774</td>\n",
       "      <td>train</td>\n",
       "    </tr>\n",
       "    <tr>\n",
       "      <th>199</th>\n",
       "      <td>99</td>\n",
       "      <td>2.134059</td>\n",
       "      <td>val</td>\n",
       "    </tr>\n",
       "  </tbody>\n",
       "</table>\n",
       "</div>"
      ],
      "text/plain": [
       "     epoch      loss   type\n",
       "99      99  0.181774  train\n",
       "199     99  2.134059    val"
      ]
     },
     "execution_count": 22,
     "metadata": {},
     "output_type": "execute_result"
    }
   ],
   "source": [
    "loss.loc[loss.epoch == loss.epoch.max()]"
   ]
  },
  {
   "cell_type": "markdown",
   "metadata": {},
   "source": [
    "### Evaluación de datos de prueba"
   ]
  },
  {
   "cell_type": "code",
   "execution_count": 1,
   "metadata": {},
   "outputs": [
    {
     "name": "stdout",
     "output_type": "stream",
     "text": [
      "[nltk_data] Downloading package punkt to /home/melesio/nltk_data...\n",
      "[nltk_data]   Package punkt is already up-to-date!\n",
      "[nltk_data] Downloading package stopwords to\n",
      "[nltk_data]     /home/melesio/nltk_data...\n",
      "[nltk_data]   Package stopwords is already up-to-date!\n",
      "[nltk_data] Downloading package wordnet to /home/melesio/nltk_data...\n",
      "[nltk_data]   Package wordnet is already up-to-date!\n",
      "[nltk_data] Downloading package omw-1.4 to /home/melesio/nltk_data...\n",
      "[nltk_data]   Package omw-1.4 is already up-to-date!\n",
      "[nltk_data] Downloading package averaged_perceptron_tagger to\n",
      "[nltk_data]     /home/melesio/nltk_data...\n",
      "[nltk_data]   Package averaged_perceptron_tagger is already up-to-\n",
      "[nltk_data]       date!\n",
      "Leyendo archivo de configuracion\n",
      "Inicia la transformacion de texto\n",
      "Creando diccionario de documentos unicos\n",
      "Realizando preprocesamiento\n",
      "Etapa de pre-procesmiento\n",
      "Extrayendo vectores de caracteristicas\n",
      "Etapa de extraccion de caracteristicas\n",
      "Extraccion de vectores lexicos\n",
      "Realizando vectorizacion\n",
      "Guardando resultadosto 79\n",
      "Extraccion de vectores sintacticos\n",
      "Realizando vectorizacion\n",
      "Guardando resultados\n",
      "Extraccion de vectores semanticos\n",
      "Realizando vectorizacion\n",
      "Guardando resultados\n",
      "Obteniendo espectros de contenido\n",
      "Etapa de unificacion del espacio\n",
      "/home/melesio/Documentos/SpectralTextRepresentation/minisom/minisom.py:167: UserWarning: Warning: sigma is too high for the dimension of the map.\n",
      "  warn('Warning: sigma is too high for the dimension of the map.')\n",
      "Leyendo vectores lexicos\n",
      "Obteninendo espectros\n",
      "Leyendo vectores sintacticos\n",
      "Obteninendo espectros\n",
      "Leyendo vectores semanticos\n",
      "Obteninendo espectros\n",
      "Consolidando capas\n",
      "Etapa de consolidacion de capas\n",
      "Información guardada\n",
      "Ensamble terminado\n",
      "Cargando modelo\n",
      "2022-05-20 20:48:18.570203: I tensorflow/stream_executor/cuda/cuda_gpu_executor.cc:936] successful NUMA node read from SysFS had negative value (-1), but there must be at least one NUMA node, so returning NUMA node zero\n",
      "2022-05-20 20:48:18.592018: I tensorflow/stream_executor/cuda/cuda_gpu_executor.cc:936] successful NUMA node read from SysFS had negative value (-1), but there must be at least one NUMA node, so returning NUMA node zero\n",
      "2022-05-20 20:48:18.592148: I tensorflow/stream_executor/cuda/cuda_gpu_executor.cc:936] successful NUMA node read from SysFS had negative value (-1), but there must be at least one NUMA node, so returning NUMA node zero\n",
      "2022-05-20 20:48:18.592418: I tensorflow/core/platform/cpu_feature_guard.cc:151] This TensorFlow binary is optimized with oneAPI Deep Neural Network Library (oneDNN) to use the following CPU instructions in performance-critical operations:  AVX2 FMA\n",
      "To enable them in other operations, rebuild TensorFlow with the appropriate compiler flags.\n",
      "2022-05-20 20:48:18.592930: I tensorflow/stream_executor/cuda/cuda_gpu_executor.cc:936] successful NUMA node read from SysFS had negative value (-1), but there must be at least one NUMA node, so returning NUMA node zero\n",
      "2022-05-20 20:48:18.593030: I tensorflow/stream_executor/cuda/cuda_gpu_executor.cc:936] successful NUMA node read from SysFS had negative value (-1), but there must be at least one NUMA node, so returning NUMA node zero\n",
      "2022-05-20 20:48:18.593118: I tensorflow/stream_executor/cuda/cuda_gpu_executor.cc:936] successful NUMA node read from SysFS had negative value (-1), but there must be at least one NUMA node, so returning NUMA node zero\n",
      "2022-05-20 20:48:18.934227: I tensorflow/stream_executor/cuda/cuda_gpu_executor.cc:936] successful NUMA node read from SysFS had negative value (-1), but there must be at least one NUMA node, so returning NUMA node zero\n",
      "2022-05-20 20:48:18.934372: I tensorflow/stream_executor/cuda/cuda_gpu_executor.cc:936] successful NUMA node read from SysFS had negative value (-1), but there must be at least one NUMA node, so returning NUMA node zero\n",
      "2022-05-20 20:48:18.934470: I tensorflow/stream_executor/cuda/cuda_gpu_executor.cc:936] successful NUMA node read from SysFS had negative value (-1), but there must be at least one NUMA node, so returning NUMA node zero\n",
      "2022-05-20 20:48:18.934549: I tensorflow/core/common_runtime/gpu/gpu_device.cc:1525] Created device /job:localhost/replica:0/task:0/device:GPU:0 with 7800 MB memory:  -> device: 0, name: NVIDIA GeForce RTX 3080, pci bus id: 0000:01:00.0, compute capability: 8.6\n",
      "Realizando predicciones\n",
      "2022-05-20 20:48:20.159129: I tensorflow/stream_executor/cuda/cuda_blas.cc:1786] TensorFloat-32 will be used for the matrix multiplication. This will only be logged once.\n"
     ]
    }
   ],
   "source": [
    "!python PredictionsTest.py -i testinput -o testoutput/v7"
   ]
  },
  {
   "cell_type": "code",
   "execution_count": 2,
   "metadata": {},
   "outputs": [
    {
     "name": "stdout",
     "output_type": "stream",
     "text": [
      "-> 1070 problems in ground truth\n",
      "-> 1070 solutions explicitly proposed\n",
      "{'auc': 0.518, 'c@1': 0.502, 'f_05_u': 0.549, 'F1': 0.64, 'brier': 0.558, 'overall': 0.553}\n"
     ]
    }
   ],
   "source": [
    "!python pan22_verif_evaluator.py -i testinput -a testoutput/v7 -o testoutput/v7"
   ]
  }
 ],
 "metadata": {
  "interpreter": {
   "hash": "34185cc76f1746f7da7738a8f19ab6509177ea129d1668aef168b7e0e18c804f"
  },
  "kernelspec": {
   "display_name": "Python 3.9.12 ('base')",
   "language": "python",
   "name": "python3"
  },
  "language_info": {
   "codemirror_mode": {
    "name": "ipython",
    "version": 3
   },
   "file_extension": ".py",
   "mimetype": "text/x-python",
   "name": "python",
   "nbconvert_exporter": "python",
   "pygments_lexer": "ipython3",
   "version": "3.9.12"
  },
  "orig_nbformat": 4
 },
 "nbformat": 4,
 "nbformat_minor": 2
}
