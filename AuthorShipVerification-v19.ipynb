{
 "cells": [
  {
   "cell_type": "markdown",
   "metadata": {},
   "source": [
    "## Prueba con capa sintactica"
   ]
  },
  {
   "cell_type": "code",
   "execution_count": 1,
   "metadata": {},
   "outputs": [],
   "source": [
    "import numpy as np\n",
    "import pandas as pd\n",
    "import tensorflow as tf\n",
    "import json\n",
    "from myGenerator import DataGenerator"
   ]
  },
  {
   "cell_type": "markdown",
   "metadata": {},
   "source": [
    "### Carga de datos"
   ]
  },
  {
   "cell_type": "code",
   "execution_count": 2,
   "metadata": {},
   "outputs": [],
   "source": [
    "train = pd.read_pickle(\"pan22-authorship-verification-training-dataset/particionesXid/PanTrain.plk\")\n",
    "val = pd.read_pickle(\"pan22-authorship-verification-training-dataset/particionesXid/PanVal.plk\")"
   ]
  },
  {
   "cell_type": "code",
   "execution_count": 3,
   "metadata": {},
   "outputs": [],
   "source": [
    "def spectraLoader(inputPath: str) -> pd.DataFrame:\n",
    "    df = pd.DataFrame()\n",
    "    with open(inputPath, encoding='utf-8') as f:\n",
    "        for line in f:\n",
    "            jsonline = json.loads(line)\n",
    "            lineDf = pd.DataFrame({'id':jsonline['id'], 'spectra':[np.array(jsonline['spectra'])]})\n",
    "            df = pd.concat([df, lineDf])\n",
    "    df = df.reset_index(drop=True)\n",
    "\n",
    "    return df"
   ]
  },
  {
   "cell_type": "code",
   "execution_count": 4,
   "metadata": {},
   "outputs": [],
   "source": [
    "full_spectra = spectraLoader(\"pan22-authorship-verification-training-dataset/particionesXid/FullSpectra.jsonl\")"
   ]
  },
  {
   "cell_type": "code",
   "execution_count": 5,
   "metadata": {},
   "outputs": [],
   "source": [
    "def loadLabels(inputPath:str, labelDict:dict) -> dict:\n",
    "    with open(inputPath, encoding='utf-8') as f:\n",
    "        for line in f:\n",
    "            jsonline = json.loads(line)\n",
    "            labelDict[jsonline['id']] = 1 if jsonline['value'] else 0\n",
    "        \n",
    "    return labelDict"
   ]
  },
  {
   "cell_type": "code",
   "execution_count": 6,
   "metadata": {},
   "outputs": [],
   "source": [
    "labels = dict()\n",
    "labels = loadLabels('pan22-authorship-verification-training-dataset/particiones/train_truth.jsonl',labels)\n",
    "labels = loadLabels('pan22-authorship-verification-training-dataset/particiones/val_truth.jsonl',labels)"
   ]
  },
  {
   "cell_type": "code",
   "execution_count": 7,
   "metadata": {},
   "outputs": [
    {
     "name": "stdout",
     "output_type": "stream",
     "text": [
      "Instances: 16486.0\n",
      "Labels:  16486\n"
     ]
    }
   ],
   "source": [
    "print(\"Instances: {}\".format((train.shape[0] + val.shape[0])/2))\n",
    "print(\"Labels: \",len(labels))"
   ]
  },
  {
   "cell_type": "code",
   "execution_count": 8,
   "metadata": {},
   "outputs": [],
   "source": [
    "partition = {'train': train.id.unique().tolist(), 'validation': val.id.unique().tolist()}"
   ]
  },
  {
   "cell_type": "code",
   "execution_count": 9,
   "metadata": {},
   "outputs": [
    {
     "name": "stdout",
     "output_type": "stream",
     "text": [
      "Train:  15732\n",
      "Validation:  754\n",
      "Total:  16486\n"
     ]
    }
   ],
   "source": [
    "print(\"Train: \", len(partition['train']))\n",
    "print(\"Validation: \", len(partition['validation']))\n",
    "print(\"Total: \", len(partition['train'])+len(partition['validation']))"
   ]
  },
  {
   "cell_type": "markdown",
   "metadata": {},
   "source": [
    "### Definición de la arquitectura del modelo"
   ]
  },
  {
   "cell_type": "code",
   "execution_count": 10,
   "metadata": {},
   "outputs": [],
   "source": [
    "# Modelo de red siamesa utilizando una red residual y un perceptron multicapa SIN CAPAS CUSTOM\n",
    "\n",
    "def setModel():\n",
    "    x1 = tf.keras.Input(shape=(400,), name=\"input_1\")\n",
    "    x2 = tf.keras.Input(shape=(400,), name=\"input_2\")\n",
    "\n",
    "    merge = x1-x2\n",
    "\n",
    "    # MLPNN Classifier\n",
    "    hidden1 = tf.keras.layers.Dense(600, activation='relu',kernel_regularizer='l2' , name=\"HiddenLayer1\")(merge)\n",
    "    dropout_layer1 = tf.keras.layers.Dropout(0.4, name=\"Dropout1\")(hidden1)\n",
    "    hidden2 = tf.keras.layers.Dense(300, activation='relu',kernel_regularizer='l2' , name=\"HiddenLayer2\")(dropout_layer1)\n",
    "    dropout_layer2 = tf.keras.layers.Dropout(0.4, name=\"Dropout2\")(hidden2)\n",
    "    output = tf.keras.layers.Dense(1, activation=\"sigmoid\", name=\"output_layer\")(dropout_layer2)\n",
    "\n",
    "    model = tf.keras.Model([x1, x2], output)\n",
    "    model.compile(loss = 'binary_crossentropy', optimizer = \"adam\", metrics=[\"binary_accuracy\"])\n",
    "\n",
    "    return model"
   ]
  },
  {
   "cell_type": "code",
   "execution_count": 11,
   "metadata": {},
   "outputs": [
    {
     "name": "stdout",
     "output_type": "stream",
     "text": [
      "Model: \"model\"\n",
      "__________________________________________________________________________________________________\n",
      " Layer (type)                   Output Shape         Param #     Connected to                     \n",
      "==================================================================================================\n",
      " input_1 (InputLayer)           [(None, 400)]        0           []                               \n",
      "                                                                                                  \n",
      " input_2 (InputLayer)           [(None, 400)]        0           []                               \n",
      "                                                                                                  \n",
      " tf.math.subtract (TFOpLambda)  (None, 400)          0           ['input_1[0][0]',                \n",
      "                                                                  'input_2[0][0]']                \n",
      "                                                                                                  \n",
      " HiddenLayer1 (Dense)           (None, 600)          240600      ['tf.math.subtract[0][0]']       \n",
      "                                                                                                  \n",
      " Dropout1 (Dropout)             (None, 600)          0           ['HiddenLayer1[0][0]']           \n",
      "                                                                                                  \n",
      " HiddenLayer2 (Dense)           (None, 300)          180300      ['Dropout1[0][0]']               \n",
      "                                                                                                  \n",
      " Dropout2 (Dropout)             (None, 300)          0           ['HiddenLayer2[0][0]']           \n",
      "                                                                                                  \n",
      " output_layer (Dense)           (None, 1)            301         ['Dropout2[0][0]']               \n",
      "                                                                                                  \n",
      "==================================================================================================\n",
      "Total params: 421,201\n",
      "Trainable params: 421,201\n",
      "Non-trainable params: 0\n",
      "__________________________________________________________________________________________________\n"
     ]
    },
    {
     "name": "stderr",
     "output_type": "stream",
     "text": [
      "2022-05-26 17:13:12.487096: I tensorflow/stream_executor/cuda/cuda_gpu_executor.cc:936] successful NUMA node read from SysFS had negative value (-1), but there must be at least one NUMA node, so returning NUMA node zero\n",
      "2022-05-26 17:13:12.509888: I tensorflow/stream_executor/cuda/cuda_gpu_executor.cc:936] successful NUMA node read from SysFS had negative value (-1), but there must be at least one NUMA node, so returning NUMA node zero\n",
      "2022-05-26 17:13:12.509998: I tensorflow/stream_executor/cuda/cuda_gpu_executor.cc:936] successful NUMA node read from SysFS had negative value (-1), but there must be at least one NUMA node, so returning NUMA node zero\n",
      "2022-05-26 17:13:12.510380: I tensorflow/core/platform/cpu_feature_guard.cc:151] This TensorFlow binary is optimized with oneAPI Deep Neural Network Library (oneDNN) to use the following CPU instructions in performance-critical operations:  AVX2 FMA\n",
      "To enable them in other operations, rebuild TensorFlow with the appropriate compiler flags.\n",
      "2022-05-26 17:13:12.511124: I tensorflow/stream_executor/cuda/cuda_gpu_executor.cc:936] successful NUMA node read from SysFS had negative value (-1), but there must be at least one NUMA node, so returning NUMA node zero\n",
      "2022-05-26 17:13:12.511215: I tensorflow/stream_executor/cuda/cuda_gpu_executor.cc:936] successful NUMA node read from SysFS had negative value (-1), but there must be at least one NUMA node, so returning NUMA node zero\n",
      "2022-05-26 17:13:12.511291: I tensorflow/stream_executor/cuda/cuda_gpu_executor.cc:936] successful NUMA node read from SysFS had negative value (-1), but there must be at least one NUMA node, so returning NUMA node zero\n",
      "2022-05-26 17:13:12.832360: I tensorflow/stream_executor/cuda/cuda_gpu_executor.cc:936] successful NUMA node read from SysFS had negative value (-1), but there must be at least one NUMA node, so returning NUMA node zero\n",
      "2022-05-26 17:13:12.832478: I tensorflow/stream_executor/cuda/cuda_gpu_executor.cc:936] successful NUMA node read from SysFS had negative value (-1), but there must be at least one NUMA node, so returning NUMA node zero\n",
      "2022-05-26 17:13:12.832563: I tensorflow/stream_executor/cuda/cuda_gpu_executor.cc:936] successful NUMA node read from SysFS had negative value (-1), but there must be at least one NUMA node, so returning NUMA node zero\n",
      "2022-05-26 17:13:12.832637: I tensorflow/core/common_runtime/gpu/gpu_device.cc:1525] Created device /job:localhost/replica:0/task:0/device:GPU:0 with 7631 MB memory:  -> device: 0, name: NVIDIA GeForce RTX 3080, pci bus id: 0000:01:00.0, compute capability: 8.6\n"
     ]
    }
   ],
   "source": [
    "model = setModel()\n",
    "model.summary()"
   ]
  },
  {
   "cell_type": "markdown",
   "metadata": {},
   "source": [
    "### Entrenamiento del modelo"
   ]
  },
  {
   "cell_type": "code",
   "execution_count": 12,
   "metadata": {},
   "outputs": [],
   "source": [
    "# Parameters\n",
    "params = {'dim': (400,),\n",
    "            'batch_size': 256,\n",
    "            'shuffle': True}"
   ]
  },
  {
   "cell_type": "code",
   "execution_count": 13,
   "metadata": {},
   "outputs": [],
   "source": [
    "# Generators\n",
    "training_generator = DataGenerator(partition['train'], train, labels, full_spectra, **params)\n",
    "validation_generator = DataGenerator(partition['validation'], val, labels, full_spectra, **params)"
   ]
  },
  {
   "cell_type": "code",
   "execution_count": 14,
   "metadata": {},
   "outputs": [
    {
     "name": "stderr",
     "output_type": "stream",
     "text": [
      "2022-05-26 17:13:12.994146: I tensorflow/stream_executor/cuda/cuda_gpu_executor.cc:936] successful NUMA node read from SysFS had negative value (-1), but there must be at least one NUMA node, so returning NUMA node zero\n"
     ]
    },
    {
     "data": {
      "text/plain": [
       "'/device:GPU:0'"
      ]
     },
     "execution_count": 14,
     "metadata": {},
     "output_type": "execute_result"
    },
    {
     "name": "stderr",
     "output_type": "stream",
     "text": [
      "2022-05-26 17:13:12.994306: I tensorflow/stream_executor/cuda/cuda_gpu_executor.cc:936] successful NUMA node read from SysFS had negative value (-1), but there must be at least one NUMA node, so returning NUMA node zero\n",
      "2022-05-26 17:13:12.994385: I tensorflow/stream_executor/cuda/cuda_gpu_executor.cc:936] successful NUMA node read from SysFS had negative value (-1), but there must be at least one NUMA node, so returning NUMA node zero\n",
      "2022-05-26 17:13:12.994497: I tensorflow/stream_executor/cuda/cuda_gpu_executor.cc:936] successful NUMA node read from SysFS had negative value (-1), but there must be at least one NUMA node, so returning NUMA node zero\n",
      "2022-05-26 17:13:12.994578: I tensorflow/stream_executor/cuda/cuda_gpu_executor.cc:936] successful NUMA node read from SysFS had negative value (-1), but there must be at least one NUMA node, so returning NUMA node zero\n",
      "2022-05-26 17:13:12.994636: I tensorflow/core/common_runtime/gpu/gpu_device.cc:1525] Created device /device:GPU:0 with 7631 MB memory:  -> device: 0, name: NVIDIA GeForce RTX 3080, pci bus id: 0000:01:00.0, compute capability: 8.6\n"
     ]
    }
   ],
   "source": [
    "tf.test.gpu_device_name()"
   ]
  },
  {
   "cell_type": "code",
   "execution_count": 15,
   "metadata": {},
   "outputs": [
    {
     "name": "stdout",
     "output_type": "stream",
     "text": [
      "Epoch 1/100\n",
      " 1/61 [..............................] - ETA: 1:20 - loss: 9.5019 - binary_accuracy: 0.4922"
     ]
    },
    {
     "name": "stderr",
     "output_type": "stream",
     "text": [
      "2022-05-26 17:13:14.933896: I tensorflow/stream_executor/cuda/cuda_blas.cc:1786] TensorFloat-32 will be used for the matrix multiplication. This will only be logged once.\n"
     ]
    },
    {
     "name": "stdout",
     "output_type": "stream",
     "text": [
      "61/61 [==============================] - 27s 436ms/step - loss: 3.8354 - binary_accuracy: 0.5314 - val_loss: 1.1211 - val_binary_accuracy: 0.5039\n",
      "Epoch 2/100\n",
      "61/61 [==============================] - 27s 438ms/step - loss: 0.8016 - binary_accuracy: 0.5244 - val_loss: 0.7015 - val_binary_accuracy: 0.4844\n",
      "Epoch 3/100\n",
      "61/61 [==============================] - 26s 428ms/step - loss: 0.6944 - binary_accuracy: 0.5058 - val_loss: 0.6934 - val_binary_accuracy: 0.4980\n",
      "Epoch 4/100\n",
      "61/61 [==============================] - 26s 433ms/step - loss: 0.6933 - binary_accuracy: 0.5033 - val_loss: 0.6933 - val_binary_accuracy: 0.4941\n",
      "Epoch 5/100\n",
      "61/61 [==============================] - 26s 430ms/step - loss: 0.6933 - binary_accuracy: 0.4986 - val_loss: 0.6932 - val_binary_accuracy: 0.4863\n",
      "Epoch 6/100\n",
      "61/61 [==============================] - 26s 428ms/step - loss: 0.6934 - binary_accuracy: 0.4999 - val_loss: 0.6933 - val_binary_accuracy: 0.5000\n",
      "Epoch 7/100\n",
      "61/61 [==============================] - 26s 429ms/step - loss: 0.6932 - binary_accuracy: 0.5008 - val_loss: 0.6932 - val_binary_accuracy: 0.5020\n",
      "Epoch 8/100\n",
      "61/61 [==============================] - 26s 426ms/step - loss: 0.6932 - binary_accuracy: 0.5010 - val_loss: 0.6936 - val_binary_accuracy: 0.4863\n",
      "Epoch 9/100\n",
      "61/61 [==============================] - 26s 431ms/step - loss: 0.6933 - binary_accuracy: 0.4959 - val_loss: 0.6932 - val_binary_accuracy: 0.5156\n",
      "Epoch 10/100\n",
      "61/61 [==============================] - 26s 432ms/step - loss: 0.6933 - binary_accuracy: 0.4993 - val_loss: 0.6932 - val_binary_accuracy: 0.5020\n",
      "Epoch 11/100\n",
      "61/61 [==============================] - 26s 434ms/step - loss: 0.6933 - binary_accuracy: 0.4985 - val_loss: 0.6931 - val_binary_accuracy: 0.5156\n",
      "Epoch 12/100\n",
      "61/61 [==============================] - 26s 430ms/step - loss: 0.6932 - binary_accuracy: 0.4992 - val_loss: 0.6931 - val_binary_accuracy: 0.5059\n",
      "Epoch 13/100\n",
      "61/61 [==============================] - 26s 432ms/step - loss: 0.6934 - binary_accuracy: 0.4936 - val_loss: 0.6930 - val_binary_accuracy: 0.5117\n",
      "Entrnamiento completado\n"
     ]
    }
   ],
   "source": [
    "# Train model on dataset\n",
    "with tf.device('/device:GPU:0'):\n",
    "    model = setModel()\n",
    "    callback = tf.keras.callbacks.EarlyStopping(monitor='loss', patience=5)\n",
    "    history = model.fit(x=training_generator,\n",
    "                        validation_data=validation_generator,\n",
    "                        callbacks=[callback],\n",
    "                        # use_multiprocessing=True,\n",
    "                        # workers=4,\n",
    "                        epochs=100,\n",
    "                        verbose=1)\n",
    "print(\"Entrnamiento completado\")"
   ]
  },
  {
   "cell_type": "code",
   "execution_count": 16,
   "metadata": {},
   "outputs": [
    {
     "name": "stderr",
     "output_type": "stream",
     "text": [
      "2022-05-26 17:18:56.961006: W tensorflow/python/util/util.cc:368] Sets are not currently considered sequences, but this may change in the future, so consider avoiding using them.\n"
     ]
    },
    {
     "name": "stdout",
     "output_type": "stream",
     "text": [
      "INFO:tensorflow:Assets written to: models/ClassifierModel-v19/assets\n"
     ]
    }
   ],
   "source": [
    "model.save('models/ClassifierModel-v19')"
   ]
  },
  {
   "cell_type": "markdown",
   "metadata": {},
   "source": [
    "### Resultados del entrenamiento"
   ]
  },
  {
   "cell_type": "code",
   "execution_count": 17,
   "metadata": {},
   "outputs": [],
   "source": [
    "import matplotlib.pyplot as plt\n",
    "import seaborn as sns\n",
    "sns.set_theme(style=\"darkgrid\")"
   ]
  },
  {
   "cell_type": "code",
   "execution_count": 18,
   "metadata": {},
   "outputs": [
    {
     "data": {
      "text/plain": [
       "dict_keys(['loss', 'binary_accuracy', 'val_loss', 'val_binary_accuracy'])"
      ]
     },
     "execution_count": 18,
     "metadata": {},
     "output_type": "execute_result"
    }
   ],
   "source": [
    "history.history.keys()"
   ]
  },
  {
   "cell_type": "code",
   "execution_count": 19,
   "metadata": {},
   "outputs": [],
   "source": [
    "acc = pd.DataFrame({'accuracy':history.history['binary_accuracy'], 'type':'train'}).reset_index().rename(columns={'index':'epoch'})\n",
    "acc = pd.concat([acc, pd.DataFrame({'accuracy':history.history['val_binary_accuracy'], 'type':'val'}).reset_index().rename(columns={'index':'epoch'})]).reset_index(drop=True)\n",
    "loss = pd.DataFrame({'loss':history.history['loss'], 'type':'train'}).reset_index().rename(columns={'index':'epoch'})\n",
    "loss = pd.concat([loss, pd.DataFrame({'loss':history.history['val_loss'], 'type':'val'}).reset_index().rename(columns={'index':'epoch'})]).reset_index(drop=True)"
   ]
  },
  {
   "cell_type": "code",
   "execution_count": 20,
   "metadata": {},
   "outputs": [
    {
     "data": {
      "image/png": "[encoded data removed]",
      "text/plain": [
       "<Figure size 1080x360 with 2 Axes>"
      ]
     },
     "metadata": {},
     "output_type": "display_data"
    }
   ],
   "source": [
    "fig, ax = plt.subplots(nrows=1, ncols=2, figsize=(15,5))\n",
    "sns.lineplot(x='epoch', y='accuracy', data=acc, hue='type', ax=ax[0])\n",
    "sns.lineplot(x='epoch', y='loss', data=loss, hue='type', ax=ax[1])\n",
    "fig.suptitle(\"Modelo v4\")\n",
    "plt.show()"
   ]
  },
  {
   "cell_type": "code",
   "execution_count": 21,
   "metadata": {},
   "outputs": [
    {
     "data": {
      "text/html": [
       "<div>\n",
       "<style scoped>\n",
       "    .dataframe tbody tr th:only-of-type {\n",
       "        vertical-align: middle;\n",
       "    }\n",
       "\n",
       "    .dataframe tbody tr th {\n",
       "        vertical-align: top;\n",
       "    }\n",
       "\n",
       "    .dataframe thead th {\n",
       "        text-align: right;\n",
       "    }\n",
       "</style>\n",
       "<table border=\"1\" class=\"dataframe\">\n",
       "  <thead>\n",
       "    <tr style=\"text-align: right;\">\n",
       "      <th></th>\n",
       "      <th>epoch</th>\n",
       "      <th>accuracy</th>\n",
       "      <th>type</th>\n",
       "    </tr>\n",
       "  </thead>\n",
       "  <tbody>\n",
       "    <tr>\n",
       "      <th>12</th>\n",
       "      <td>12</td>\n",
       "      <td>0.493596</td>\n",
       "      <td>train</td>\n",
       "    </tr>\n",
       "    <tr>\n",
       "      <th>25</th>\n",
       "      <td>12</td>\n",
       "      <td>0.511719</td>\n",
       "      <td>val</td>\n",
       "    </tr>\n",
       "  </tbody>\n",
       "</table>\n",
       "</div>"
      ],
      "text/plain": [
       "    epoch  accuracy   type\n",
       "12     12  0.493596  train\n",
       "25     12  0.511719    val"
      ]
     },
     "execution_count": 21,
     "metadata": {},
     "output_type": "execute_result"
    }
   ],
   "source": [
    "acc.loc[acc.epoch == acc.epoch.max()]"
   ]
  },
  {
   "cell_type": "code",
   "execution_count": 22,
   "metadata": {},
   "outputs": [
    {
     "data": {
      "text/html": [
       "<div>\n",
       "<style scoped>\n",
       "    .dataframe tbody tr th:only-of-type {\n",
       "        vertical-align: middle;\n",
       "    }\n",
       "\n",
       "    .dataframe tbody tr th {\n",
       "        vertical-align: top;\n",
       "    }\n",
       "\n",
       "    .dataframe thead th {\n",
       "        text-align: right;\n",
       "    }\n",
       "</style>\n",
       "<table border=\"1\" class=\"dataframe\">\n",
       "  <thead>\n",
       "    <tr style=\"text-align: right;\">\n",
       "      <th></th>\n",
       "      <th>epoch</th>\n",
       "      <th>loss</th>\n",
       "      <th>type</th>\n",
       "    </tr>\n",
       "  </thead>\n",
       "  <tbody>\n",
       "    <tr>\n",
       "      <th>12</th>\n",
       "      <td>12</td>\n",
       "      <td>0.693416</td>\n",
       "      <td>train</td>\n",
       "    </tr>\n",
       "    <tr>\n",
       "      <th>25</th>\n",
       "      <td>12</td>\n",
       "      <td>0.693031</td>\n",
       "      <td>val</td>\n",
       "    </tr>\n",
       "  </tbody>\n",
       "</table>\n",
       "</div>"
      ],
      "text/plain": [
       "    epoch      loss   type\n",
       "12     12  0.693416  train\n",
       "25     12  0.693031    val"
      ]
     },
     "execution_count": 22,
     "metadata": {},
     "output_type": "execute_result"
    }
   ],
   "source": [
    "loss.loc[loss.epoch == loss.epoch.max()]"
   ]
  },
  {
   "cell_type": "markdown",
   "metadata": {},
   "source": [
    "### Evaluación de datos de prueba"
   ]
  },
  {
   "cell_type": "code",
   "execution_count": 1,
   "metadata": {},
   "outputs": [
    {
     "name": "stdout",
     "output_type": "stream",
     "text": [
      "[nltk_data] Downloading package punkt to /home/melesio/nltk_data...\n",
      "[nltk_data]   Package punkt is already up-to-date!\n",
      "[nltk_data] Downloading package stopwords to\n",
      "[nltk_data]     /home/melesio/nltk_data...\n",
      "[nltk_data]   Package stopwords is already up-to-date!\n",
      "[nltk_data] Downloading package wordnet to /home/melesio/nltk_data...\n",
      "[nltk_data]   Package wordnet is already up-to-date!\n",
      "[nltk_data] Downloading package omw-1.4 to /home/melesio/nltk_data...\n",
      "[nltk_data]   Package omw-1.4 is already up-to-date!\n",
      "[nltk_data] Downloading package averaged_perceptron_tagger to\n",
      "[nltk_data]     /home/melesio/nltk_data...\n",
      "[nltk_data]   Package averaged_perceptron_tagger is already up-to-\n",
      "[nltk_data]       date!\n",
      "Leyendo archivo de configuracion\n",
      "Inicia la transformacion de texto\n",
      "Creando diccionario de documentos unicos\n",
      "Realizando preprocesamiento\n",
      "Etapa de pre-procesmiento\n",
      "Extrayendo vectores de caracteristicas\n",
      "Etapa de extraccion de caracteristicas\n",
      "Extraccion de vectores lexicos\n",
      "Realizando vectorizacion\n",
      "Guardando resultadosto 79\n",
      "Extraccion de vectores sintacticos\n",
      "Realizando vectorizacion\n",
      "Guardando resultados\n",
      "Extraccion de vectores semanticos\n",
      "Realizando vectorizacion\n",
      "Guardando resultados\n",
      "Obteniendo espectros de contenido\n",
      "Etapa de unificacion del espacio\n",
      "/home/melesio/Documentos/SpectralTextRepresentation/minisom/minisom.py:167: UserWarning: Warning: sigma is too high for the dimension of the map.\n",
      "  warn('Warning: sigma is too high for the dimension of the map.')\n",
      "Leyendo vectores lexicos\n",
      "Obteninendo espectros\n",
      "Leyendo vectores sintacticos\n",
      "Obteninendo espectros\n",
      "Leyendo vectores semanticos\n",
      "Obteninendo espectros\n",
      "Consolidando capas\n",
      "Etapa de consolidacion de capas\n",
      "Información guardada\n",
      "Ensamble terminado\n",
      "Cargando modelo\n",
      "2022-05-26 17:20:30.275699: I tensorflow/stream_executor/cuda/cuda_gpu_executor.cc:936] successful NUMA node read from SysFS had negative value (-1), but there must be at least one NUMA node, so returning NUMA node zero\n",
      "2022-05-26 17:20:30.298552: I tensorflow/stream_executor/cuda/cuda_gpu_executor.cc:936] successful NUMA node read from SysFS had negative value (-1), but there must be at least one NUMA node, so returning NUMA node zero\n",
      "2022-05-26 17:20:30.298694: I tensorflow/stream_executor/cuda/cuda_gpu_executor.cc:936] successful NUMA node read from SysFS had negative value (-1), but there must be at least one NUMA node, so returning NUMA node zero\n",
      "2022-05-26 17:20:30.298984: I tensorflow/core/platform/cpu_feature_guard.cc:151] This TensorFlow binary is optimized with oneAPI Deep Neural Network Library (oneDNN) to use the following CPU instructions in performance-critical operations:  AVX2 FMA\n",
      "To enable them in other operations, rebuild TensorFlow with the appropriate compiler flags.\n",
      "2022-05-26 17:20:30.299813: I tensorflow/stream_executor/cuda/cuda_gpu_executor.cc:936] successful NUMA node read from SysFS had negative value (-1), but there must be at least one NUMA node, so returning NUMA node zero\n",
      "2022-05-26 17:20:30.299915: I tensorflow/stream_executor/cuda/cuda_gpu_executor.cc:936] successful NUMA node read from SysFS had negative value (-1), but there must be at least one NUMA node, so returning NUMA node zero\n",
      "2022-05-26 17:20:30.300002: I tensorflow/stream_executor/cuda/cuda_gpu_executor.cc:936] successful NUMA node read from SysFS had negative value (-1), but there must be at least one NUMA node, so returning NUMA node zero\n",
      "2022-05-26 17:20:30.624355: I tensorflow/stream_executor/cuda/cuda_gpu_executor.cc:936] successful NUMA node read from SysFS had negative value (-1), but there must be at least one NUMA node, so returning NUMA node zero\n",
      "2022-05-26 17:20:30.624571: I tensorflow/stream_executor/cuda/cuda_gpu_executor.cc:936] successful NUMA node read from SysFS had negative value (-1), but there must be at least one NUMA node, so returning NUMA node zero\n",
      "2022-05-26 17:20:30.624674: I tensorflow/stream_executor/cuda/cuda_gpu_executor.cc:936] successful NUMA node read from SysFS had negative value (-1), but there must be at least one NUMA node, so returning NUMA node zero\n",
      "2022-05-26 17:20:30.624761: I tensorflow/core/common_runtime/gpu/gpu_device.cc:1525] Created device /job:localhost/replica:0/task:0/device:GPU:0 with 7712 MB memory:  -> device: 0, name: NVIDIA GeForce RTX 3080, pci bus id: 0000:01:00.0, compute capability: 8.6\n",
      "Realizando predicciones\n",
      "2022-05-26 17:20:31.641591: I tensorflow/stream_executor/cuda/cuda_blas.cc:1786] TensorFloat-32 will be used for the matrix multiplication. This will only be logged once.\n"
     ]
    }
   ],
   "source": [
    "!python PredictionsTest.py -i testinput -o testoutput/v19"
   ]
  },
  {
   "cell_type": "code",
   "execution_count": 2,
   "metadata": {},
   "outputs": [
    {
     "name": "stdout",
     "output_type": "stream",
     "text": [
      "-> 1070 problems in ground truth\n",
      "-> 1070 solutions explicitly proposed\n",
      "{'auc': 0.491, 'c@1': 0.5, 'f_05_u': 0.556, 'F1': 0.667, 'brier': 0.75, 'overall': 0.593}\n"
     ]
    }
   ],
   "source": [
    "!python pan22_verif_evaluator.py -i testinput -a testoutput/v19 -o testoutput/v19"
   ]
  }
 ],
 "metadata": {
  "interpreter": {
   "hash": "34185cc76f1746f7da7738a8f19ab6509177ea129d1668aef168b7e0e18c804f"
  },
  "kernelspec": {
   "display_name": "Python 3.9.12 ('base')",
   "language": "python",
   "name": "python3"
  },
  "language_info": {
   "codemirror_mode": {
    "name": "ipython",
    "version": 3
   },
   "file_extension": ".py",
   "mimetype": "text/x-python",
   "name": "python",
   "nbconvert_exporter": "python",
   "pygments_lexer": "ipython3",
   "version": "3.9.12"
  },
  "orig_nbformat": 4
 },
 "nbformat": 4,
 "nbformat_minor": 2
}
