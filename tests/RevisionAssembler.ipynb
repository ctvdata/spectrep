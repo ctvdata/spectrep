{
 "cells": [
  {
   "cell_type": "code",
   "execution_count": 1,
   "metadata": {},
   "outputs": [],
   "source": [
    "import json\n",
    "import numpy as np"
   ]
  },
  {
   "cell_type": "code",
   "execution_count": 31,
   "metadata": {},
   "outputs": [
    {
     "data": {
      "text/plain": [
       "array([[[0.10736861, 0.30771362, 0.51741727, 0.54772756],\n",
       "        [0.62384075, 0.73016849, 0.44596497, 0.67105748],\n",
       "        [0.3191422 , 0.76415047, 0.02596446, 0.95479546],\n",
       "        [0.50526848, 0.72720302, 0.38028918, 0.9290391 ]],\n",
       "\n",
       "       [[0.1231091 , 0.98673904, 0.3002507 , 0.23475335],\n",
       "        [0.60929655, 0.49848608, 0.80713493, 0.02129509],\n",
       "        [0.46318896, 0.76994454, 0.06870332, 0.78126018],\n",
       "        [0.07948894, 0.79726274, 0.10828344, 0.82678721]],\n",
       "\n",
       "       [[0.29493411, 0.55305999, 0.54120834, 0.97826833],\n",
       "        [0.50659276, 0.72041865, 0.30128875, 0.41933129],\n",
       "        [0.54482147, 0.42140926, 0.82312144, 0.22127614],\n",
       "        [0.42155464, 0.14387562, 0.47869579, 0.5456912 ]]])"
      ]
     },
     "execution_count": 31,
     "metadata": {},
     "output_type": "execute_result"
    }
   ],
   "source": [
    "with open('.\\outputs\\SalidaAssembler.jsonl') as f:\n",
    "    x = json.loads(f.readline())\n",
    "np.array(x['spectra'])"
   ]
  },
  {
   "cell_type": "code",
   "execution_count": 27,
   "metadata": {},
   "outputs": [
    {
     "data": {
      "text/plain": [
       "array([[0.10736861, 0.30771362, 0.51741727, 0.54772756],\n",
       "       [0.62384075, 0.73016849, 0.44596497, 0.67105748],\n",
       "       [0.3191422 , 0.76415047, 0.02596446, 0.95479546],\n",
       "       [0.50526848, 0.72720302, 0.38028918, 0.9290391 ]])"
      ]
     },
     "execution_count": 27,
     "metadata": {},
     "output_type": "execute_result"
    }
   ],
   "source": [
    "with open('../data\\data_dummy_spectre_lexic.jsonl') as f:\n",
    "    lex = json.loads(f.readline())\n",
    "np.array(lex['spectre'])\n"
   ]
  },
  {
   "cell_type": "code",
   "execution_count": 28,
   "metadata": {},
   "outputs": [
    {
     "data": {
      "text/plain": [
       "array([[0.1231091 , 0.98673904, 0.3002507 , 0.23475335],\n",
       "       [0.60929655, 0.49848608, 0.80713493, 0.02129509],\n",
       "       [0.46318896, 0.76994454, 0.06870332, 0.78126018],\n",
       "       [0.07948894, 0.79726274, 0.10828344, 0.82678721]])"
      ]
     },
     "execution_count": 28,
     "metadata": {},
     "output_type": "execute_result"
    }
   ],
   "source": [
    "with open('../data\\data_dummy_spectre_syntactic.jsonl') as f:\n",
    "    lex = json.loads(f.readline())\n",
    "np.array(lex['spectre'])\n"
   ]
  },
  {
   "cell_type": "code",
   "execution_count": 29,
   "metadata": {},
   "outputs": [
    {
     "data": {
      "text/plain": [
       "array([[0.29493411, 0.55305999, 0.54120834, 0.97826833],\n",
       "       [0.50659276, 0.72041865, 0.30128875, 0.41933129],\n",
       "       [0.54482147, 0.42140926, 0.82312144, 0.22127614],\n",
       "       [0.42155464, 0.14387562, 0.47869579, 0.5456912 ]])"
      ]
     },
     "execution_count": 29,
     "metadata": {},
     "output_type": "execute_result"
    }
   ],
   "source": [
    "with open('../data\\data_dummy_spectre_semantic.jsonl') as f:\n",
    "    lex = json.loads(f.readline())\n",
    "np.array(lex['spectre'])\n"
   ]
  },
  {
   "cell_type": "code",
   "execution_count": 24,
   "metadata": {},
   "outputs": [
    {
     "data": {
      "text/plain": [
       "(0,\n",
       " [[0.09883595404972134, 0.9469017120742927, 0.9453244653180863],\n",
       "  [0.7423295855870357, 0.7751673187229307, 0.33318939312528495],\n",
       "  [0.6571134551137403, 0.3150627263927771, 0.24074688246472842]])"
      ]
     },
     "execution_count": 24,
     "metadata": {},
     "output_type": "execute_result"
    }
   ],
   "source": [
    "import sys\n",
    "sys.path.append('..')\n",
    "import spectraltrep.layerConsolidation as lc\n",
    "\n",
    "sr = lc.SpectraReader('../data/data_dummy_spectre_lexic.jsonl')\n",
    "gen = sr.readSpectra()\n",
    "next(gen)"
   ]
  }
 ],
 "metadata": {
  "interpreter": {
   "hash": "474e5e1a007be6a0a1ef22fed8c2d0e087d1b167f3dbeee0adc60e7fd5ba328c"
  },
  "kernelspec": {
   "display_name": "Python 3.9.11 ('base')",
   "language": "python",
   "name": "python3"
  },
  "language_info": {
   "codemirror_mode": {
    "name": "ipython",
    "version": 3
   },
   "file_extension": ".py",
   "mimetype": "text/x-python",
   "name": "python",
   "nbconvert_exporter": "python",
   "pygments_lexer": "ipython3",
   "version": "3.9.11"
  },
  "orig_nbformat": 4
 },
 "nbformat": 4,
 "nbformat_minor": 2
}
