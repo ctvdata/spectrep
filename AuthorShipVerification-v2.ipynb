{
 "cells": [
  {
   "cell_type": "code",
   "execution_count": 1,
   "metadata": {},
   "outputs": [],
   "source": [
    "import numpy as np\n",
    "import pandas as pd\n",
    "import tensorflow as tf\n",
    "import json\n",
    "from myGenerator import DataGenerator"
   ]
  },
  {
   "cell_type": "markdown",
   "metadata": {},
   "source": [
    "### Carga de datos"
   ]
  },
  {
   "cell_type": "code",
   "execution_count": 2,
   "metadata": {},
   "outputs": [],
   "source": [
    "train = pd.read_pickle(\"pan22-authorship-verification-training-dataset/particionesXid/PanTrain.plk\")\n",
    "val = pd.read_pickle(\"pan22-authorship-verification-training-dataset/particionesXid/PanVal.plk\")"
   ]
  },
  {
   "cell_type": "code",
   "execution_count": 3,
   "metadata": {},
   "outputs": [],
   "source": [
    "def spectraLoader(inputPath: str) -> pd.DataFrame:\n",
    "    df = pd.DataFrame()\n",
    "    with open(inputPath, encoding='utf-8') as f:\n",
    "        for line in f:\n",
    "            jsonline = json.loads(line)\n",
    "            lineDf = pd.DataFrame({'id':jsonline['id'], 'spectra':[np.array(jsonline['spectra'])]})\n",
    "            df = pd.concat([df, lineDf])\n",
    "    df = df.reset_index(drop=True)\n",
    "\n",
    "    return df"
   ]
  },
  {
   "cell_type": "code",
   "execution_count": 4,
   "metadata": {},
   "outputs": [],
   "source": [
    "full_spectra = spectraLoader(\"pan22-authorship-verification-training-dataset/particionesXid/FullSpectra.jsonl\")"
   ]
  },
  {
   "cell_type": "code",
   "execution_count": 5,
   "metadata": {},
   "outputs": [],
   "source": [
    "def loadLabels(inputPath:str, labelDict:dict) -> dict:\n",
    "    with open(inputPath, encoding='utf-8') as f:\n",
    "        for line in f:\n",
    "            jsonline = json.loads(line)\n",
    "            labelDict[jsonline['id']] = 1 if jsonline['value'] else 0\n",
    "        \n",
    "    return labelDict"
   ]
  },
  {
   "cell_type": "code",
   "execution_count": 6,
   "metadata": {},
   "outputs": [],
   "source": [
    "labels = dict()\n",
    "labels = loadLabels('pan22-authorship-verification-training-dataset/particiones/train_truth.jsonl',labels)\n",
    "labels = loadLabels('pan22-authorship-verification-training-dataset/particiones/val_truth.jsonl',labels)"
   ]
  },
  {
   "cell_type": "code",
   "execution_count": 7,
   "metadata": {},
   "outputs": [
    {
     "name": "stdout",
     "output_type": "stream",
     "text": [
      "Instances: 16486.0\n",
      "Labels:  16486\n"
     ]
    }
   ],
   "source": [
    "print(\"Instances: {}\".format((train.shape[0] + val.shape[0])/2))\n",
    "print(\"Labels: \",len(labels))"
   ]
  },
  {
   "cell_type": "code",
   "execution_count": 8,
   "metadata": {},
   "outputs": [],
   "source": [
    "partition = {'train': train.id.unique().tolist(), 'validation': val.id.unique().tolist()}"
   ]
  },
  {
   "cell_type": "code",
   "execution_count": 9,
   "metadata": {},
   "outputs": [
    {
     "name": "stdout",
     "output_type": "stream",
     "text": [
      "Train:  15732\n",
      "Validation:  754\n",
      "Total:  16486\n"
     ]
    }
   ],
   "source": [
    "print(\"Train: \", len(partition['train']))\n",
    "print(\"Validation: \", len(partition['validation']))\n",
    "print(\"Total: \", len(partition['train'])+len(partition['validation']))"
   ]
  },
  {
   "cell_type": "markdown",
   "metadata": {},
   "source": [
    "### Definición de la arquitectura del modelo"
   ]
  },
  {
   "cell_type": "code",
   "execution_count": 10,
   "metadata": {},
   "outputs": [],
   "source": [
    "# Modelo de red siamesa utilizando una red residual y un perceptron multicapa SIN CAPAS CUSTOM\n",
    "\n",
    "def setModel():\n",
    "    x1 = tf.keras.Input(shape=(1200,), name=\"input_1\")\n",
    "    x2 = tf.keras.Input(shape=(1200,), name=\"input_2\")\n",
    "\n",
    "    # Batch normalization\n",
    "    # bn_layer = tf.keras.layers.BatchNormalization(name=\"Batch_normalization\")\n",
    "    # x1 = bn_layer(x1)\n",
    "    # x2 = bn_layer(x2)\n",
    "\n",
    "    # # Gaussian noise\n",
    "    # gaussian_noise_layer = tf.keras.layers.GaussianNoise(1.0, name=\"Gaussian_noise\")\n",
    "    # x1 = gaussian_noise_layer(x1)\n",
    "    # x2 = gaussian_noise_layer(x2)\n",
    "\n",
    "    # # Dropout\n",
    "    # dropout_layer = tf.keras.layers.Dropout(0.4, name=\"Dropout_1\")\n",
    "    # x1 = dropout_layer(x1)\n",
    "    # x2 = dropout_layer(x2)\n",
    "\n",
    "    # Residual network\n",
    "    dense_layer_1 = tf.keras.layers.Dense(600, activation='relu', name=\"resdense_1\")\n",
    "    o1_1 = dense_layer_1(x1)\n",
    "    o1_2 = dense_layer_1(x2)\n",
    "\n",
    "    dense_layer_2 = tf.keras.layers.Dense(600, activation='relu', name=\"resdense_2\")\n",
    "    o2_1 = dense_layer_2(o1_1)\n",
    "    o2_2 = dense_layer_2(o1_2)\n",
    "\n",
    "    # Residual layer\n",
    "    dense_layer_3 = tf.keras.layers.Dense(600, activation='relu', name=\"resdense_3\")\n",
    "    o3_1 = dense_layer_3(tf.subtract(o1_1, o2_1))\n",
    "    o3_2 = dense_layer_3(tf.subtract(o1_2, o2_2))\n",
    "\n",
    "    # dense_layer_4 = tf.keras.layers.Dense(256, activation='relu', name=\"resdense_4\")\n",
    "    # o4_1 = dense_layer_4(o3_1)\n",
    "    # o4_2 = dense_layer_4(o3_2)\n",
    "\n",
    "    # # Residual layer\n",
    "    # dense_layer_5 = tf.keras.layers.Dense(256, activation='relu', name=\"resdense_5\")\n",
    "    # o5_1 = dense_layer_5(tf.subtract(o3_1, o4_1))\n",
    "    # o5_2 = dense_layer_5(tf.subtract(o3_2, o4_2))\n",
    "\n",
    "    # dense_layer_6 = tf.keras.layers.Dense(256, activation='relu', name=\"resdense_6\")\n",
    "    # o6_1 = dense_layer_6(o5_1)\n",
    "    # o6_2 = dense_layer_6(o5_2)\n",
    "\n",
    "    # # Residual layer\n",
    "    # dense_layer_7 = tf.keras.layers.Dense(256, activation='relu', name=\"resdense_7\")\n",
    "    # o7_1 = dense_layer_7(tf.subtract(o5_1, o6_1))\n",
    "    # o7_2 = dense_layer_7(tf.subtract(o5_2, o6_2))\n",
    "\n",
    "    # dense_layer_8 = tf.keras.layers.Dense(256, activation='relu', name=\"resdense_8\")\n",
    "    # o8_1 = dense_layer_8(o7_1)\n",
    "    # o8_2 = dense_layer_8(o7_2)\n",
    "\n",
    "    # # Residual layer\n",
    "    # dense_layer_9 = tf.keras.layers.Dense(256, activation='relu', name=\"resdense_9\")\n",
    "    # o9_1 = dense_layer_9(tf.subtract(o7_1, o8_1))\n",
    "    # o9_2 = dense_layer_9(tf.subtract(o7_2, o8_2))\n",
    "\n",
    "    # Merging\n",
    "    # merge = tf.math.abs(tf.subtract(o9_1,o9_2))\n",
    "    merge = tf.math.abs(tf.subtract(o3_1,o3_2))\n",
    "\n",
    "    # MLPNN Classifier\n",
    "    hidden = tf.keras.layers.Dense(300, activation='relu', name=\"hidden_layer\")(merge)\n",
    "    # dropout_layer2 = tf.keras.layers.Dropout(0.4, name=\"Dropout_2\")(hidden)\n",
    "    output = tf.keras.layers.Dense(1, activation=\"sigmoid\", name=\"output_layer\")(hidden)#(dropout_layer2)\n",
    "\n",
    "    model = tf.keras.Model([x1, x2], output)\n",
    "    model.compile(loss = 'binary_crossentropy', optimizer = \"adam\", metrics=[\"binary_accuracy\"])\n",
    "\n",
    "    return model"
   ]
  },
  {
   "cell_type": "code",
   "execution_count": 11,
   "metadata": {},
   "outputs": [
    {
     "name": "stdout",
     "output_type": "stream",
     "text": [
      "Model: \"model\"\n",
      "__________________________________________________________________________________________________\n",
      " Layer (type)                   Output Shape         Param #     Connected to                     \n",
      "==================================================================================================\n",
      " input_1 (InputLayer)           [(None, 1200)]       0           []                               \n",
      "                                                                                                  \n",
      " input_2 (InputLayer)           [(None, 1200)]       0           []                               \n",
      "                                                                                                  \n",
      " resdense_1 (Dense)             (None, 600)          720600      ['input_1[0][0]',                \n",
      "                                                                  'input_2[0][0]']                \n",
      "                                                                                                  \n",
      " resdense_2 (Dense)             (None, 600)          360600      ['resdense_1[0][0]',             \n",
      "                                                                  'resdense_1[1][0]']             \n",
      "                                                                                                  \n",
      " tf.math.subtract (TFOpLambda)  (None, 600)          0           ['resdense_1[0][0]',             \n",
      "                                                                  'resdense_2[0][0]']             \n",
      "                                                                                                  \n",
      " tf.math.subtract_1 (TFOpLambda  (None, 600)         0           ['resdense_1[1][0]',             \n",
      " )                                                                'resdense_2[1][0]']             \n",
      "                                                                                                  \n",
      " resdense_3 (Dense)             (None, 600)          360600      ['tf.math.subtract[0][0]',       \n",
      "                                                                  'tf.math.subtract_1[0][0]']     \n",
      "                                                                                                  \n",
      " tf.math.subtract_2 (TFOpLambda  (None, 600)         0           ['resdense_3[0][0]',             \n",
      " )                                                                'resdense_3[1][0]']             \n",
      "                                                                                                  \n",
      " tf.math.abs (TFOpLambda)       (None, 600)          0           ['tf.math.subtract_2[0][0]']     \n",
      "                                                                                                  \n",
      " hidden_layer (Dense)           (None, 300)          180300      ['tf.math.abs[0][0]']            \n",
      "                                                                                                  \n",
      " output_layer (Dense)           (None, 1)            301         ['hidden_layer[0][0]']           \n",
      "                                                                                                  \n",
      "==================================================================================================\n",
      "Total params: 1,622,401\n",
      "Trainable params: 1,622,401\n",
      "Non-trainable params: 0\n",
      "__________________________________________________________________________________________________\n"
     ]
    },
    {
     "name": "stderr",
     "output_type": "stream",
     "text": [
      "2022-05-19 10:45:00.074684: I tensorflow/stream_executor/cuda/cuda_gpu_executor.cc:936] successful NUMA node read from SysFS had negative value (-1), but there must be at least one NUMA node, so returning NUMA node zero\n",
      "2022-05-19 10:45:00.095827: I tensorflow/stream_executor/cuda/cuda_gpu_executor.cc:936] successful NUMA node read from SysFS had negative value (-1), but there must be at least one NUMA node, so returning NUMA node zero\n",
      "2022-05-19 10:45:00.095992: I tensorflow/stream_executor/cuda/cuda_gpu_executor.cc:936] successful NUMA node read from SysFS had negative value (-1), but there must be at least one NUMA node, so returning NUMA node zero\n",
      "2022-05-19 10:45:00.096283: I tensorflow/core/platform/cpu_feature_guard.cc:151] This TensorFlow binary is optimized with oneAPI Deep Neural Network Library (oneDNN) to use the following CPU instructions in performance-critical operations:  AVX2 FMA\n",
      "To enable them in other operations, rebuild TensorFlow with the appropriate compiler flags.\n",
      "2022-05-19 10:45:00.096985: I tensorflow/stream_executor/cuda/cuda_gpu_executor.cc:936] successful NUMA node read from SysFS had negative value (-1), but there must be at least one NUMA node, so returning NUMA node zero\n",
      "2022-05-19 10:45:00.097079: I tensorflow/stream_executor/cuda/cuda_gpu_executor.cc:936] successful NUMA node read from SysFS had negative value (-1), but there must be at least one NUMA node, so returning NUMA node zero\n",
      "2022-05-19 10:45:00.097157: I tensorflow/stream_executor/cuda/cuda_gpu_executor.cc:936] successful NUMA node read from SysFS had negative value (-1), but there must be at least one NUMA node, so returning NUMA node zero\n",
      "2022-05-19 10:45:00.416798: I tensorflow/stream_executor/cuda/cuda_gpu_executor.cc:936] successful NUMA node read from SysFS had negative value (-1), but there must be at least one NUMA node, so returning NUMA node zero\n",
      "2022-05-19 10:45:00.416919: I tensorflow/stream_executor/cuda/cuda_gpu_executor.cc:936] successful NUMA node read from SysFS had negative value (-1), but there must be at least one NUMA node, so returning NUMA node zero\n",
      "2022-05-19 10:45:00.417001: I tensorflow/stream_executor/cuda/cuda_gpu_executor.cc:936] successful NUMA node read from SysFS had negative value (-1), but there must be at least one NUMA node, so returning NUMA node zero\n",
      "2022-05-19 10:45:00.417075: I tensorflow/core/common_runtime/gpu/gpu_device.cc:1525] Created device /job:localhost/replica:0/task:0/device:GPU:0 with 7714 MB memory:  -> device: 0, name: NVIDIA GeForce RTX 3080, pci bus id: 0000:01:00.0, compute capability: 8.6\n"
     ]
    }
   ],
   "source": [
    "model = setModel()\n",
    "model.summary()"
   ]
  },
  {
   "cell_type": "markdown",
   "metadata": {},
   "source": [
    "### Entrenamiento del modelo"
   ]
  },
  {
   "cell_type": "code",
   "execution_count": 12,
   "metadata": {},
   "outputs": [],
   "source": [
    "# Parameters\n",
    "params = {'dim': (1200,),\n",
    "            'batch_size': 32,\n",
    "            'shuffle': True}"
   ]
  },
  {
   "cell_type": "code",
   "execution_count": 13,
   "metadata": {},
   "outputs": [],
   "source": [
    "# Generators\n",
    "training_generator = DataGenerator(partition['train'], train, labels, full_spectra, **params)\n",
    "validation_generator = DataGenerator(partition['validation'], val, labels, full_spectra, **params)"
   ]
  },
  {
   "cell_type": "code",
   "execution_count": 14,
   "metadata": {},
   "outputs": [
    {
     "name": "stderr",
     "output_type": "stream",
     "text": [
      "2022-05-19 10:45:00.575577: I tensorflow/stream_executor/cuda/cuda_gpu_executor.cc:936] successful NUMA node read from SysFS had negative value (-1), but there must be at least one NUMA node, so returning NUMA node zero\n",
      "2022-05-19 10:45:00.575728: I tensorflow/stream_executor/cuda/cuda_gpu_executor.cc:936] successful NUMA node read from SysFS had negative value (-1), but there must be at least one NUMA node, so returning NUMA node zero\n",
      "2022-05-19 10:45:00.575807: I tensorflow/stream_executor/cuda/cuda_gpu_executor.cc:936] successful NUMA node read from SysFS had negative value (-1), but there must be at least one NUMA node, so returning NUMA node zero\n",
      "2022-05-19 10:45:00.575917: I tensorflow/stream_executor/cuda/cuda_gpu_executor.cc:936] successful NUMA node read from SysFS had negative value (-1), but there must be at least one NUMA node, so returning NUMA node zero\n",
      "2022-05-19 10:45:00.575997: I tensorflow/stream_executor/cuda/cuda_gpu_executor.cc:936] successful NUMA node read from SysFS had negative value (-1), but there must be at least one NUMA node, so returning NUMA node zero\n",
      "2022-05-19 10:45:00.576055: I tensorflow/core/common_runtime/gpu/gpu_device.cc:1525] Created device /device:GPU:0 with 7714 MB memory:  -> device: 0, name: NVIDIA GeForce RTX 3080, pci bus id: 0000:01:00.0, compute capability: 8.6\n"
     ]
    },
    {
     "data": {
      "text/plain": [
       "'/device:GPU:0'"
      ]
     },
     "execution_count": 14,
     "metadata": {},
     "output_type": "execute_result"
    }
   ],
   "source": [
    "tf.test.gpu_device_name()"
   ]
  },
  {
   "cell_type": "code",
   "execution_count": 15,
   "metadata": {},
   "outputs": [
    {
     "name": "stdout",
     "output_type": "stream",
     "text": [
      "Epoch 1/100\n",
      "  4/491 [..............................] - ETA: 19s - loss: 0.7290 - binary_accuracy: 0.5000"
     ]
    },
    {
     "name": "stderr",
     "output_type": "stream",
     "text": [
      "2022-05-19 10:45:02.078520: I tensorflow/stream_executor/cuda/cuda_blas.cc:1786] TensorFloat-32 will be used for the matrix multiplication. This will only be logged once.\n"
     ]
    },
    {
     "name": "stdout",
     "output_type": "stream",
     "text": [
      "491/491 [==============================] - 29s 56ms/step - loss: 0.6713 - binary_accuracy: 0.5768 - val_loss: 0.6976 - val_binary_accuracy: 0.5666\n",
      "Epoch 2/100\n",
      "491/491 [==============================] - 27s 56ms/step - loss: 0.6420 - binary_accuracy: 0.6212 - val_loss: 0.7644 - val_binary_accuracy: 0.4715\n",
      "Epoch 3/100\n",
      "491/491 [==============================] - 27s 56ms/step - loss: 0.6127 - binary_accuracy: 0.6519 - val_loss: 0.7342 - val_binary_accuracy: 0.5462\n",
      "Epoch 4/100\n",
      "491/491 [==============================] - 27s 56ms/step - loss: 0.5964 - binary_accuracy: 0.6732 - val_loss: 0.7227 - val_binary_accuracy: 0.5897\n",
      "Epoch 5/100\n",
      "491/491 [==============================] - 27s 56ms/step - loss: 0.5744 - binary_accuracy: 0.6935 - val_loss: 0.8000 - val_binary_accuracy: 0.5448\n",
      "Epoch 6/100\n",
      "491/491 [==============================] - 28s 56ms/step - loss: 0.5496 - binary_accuracy: 0.7198 - val_loss: 0.7789 - val_binary_accuracy: 0.5761\n",
      "Epoch 7/100\n",
      "491/491 [==============================] - 27s 56ms/step - loss: 0.5415 - binary_accuracy: 0.7277 - val_loss: 0.8054 - val_binary_accuracy: 0.5666\n",
      "Epoch 8/100\n",
      "491/491 [==============================] - 27s 56ms/step - loss: 0.5268 - binary_accuracy: 0.7391 - val_loss: 0.9084 - val_binary_accuracy: 0.5367\n",
      "Epoch 9/100\n",
      "491/491 [==============================] - 27s 56ms/step - loss: 0.5202 - binary_accuracy: 0.7447 - val_loss: 0.7970 - val_binary_accuracy: 0.5598\n",
      "Epoch 10/100\n",
      "491/491 [==============================] - 27s 56ms/step - loss: 0.5029 - binary_accuracy: 0.7576 - val_loss: 0.8469 - val_binary_accuracy: 0.5462\n",
      "Epoch 11/100\n",
      "491/491 [==============================] - 28s 57ms/step - loss: 0.5042 - binary_accuracy: 0.7541 - val_loss: 0.8597 - val_binary_accuracy: 0.5367\n",
      "Epoch 12/100\n",
      "491/491 [==============================] - 27s 56ms/step - loss: 0.4935 - binary_accuracy: 0.7632 - val_loss: 0.8749 - val_binary_accuracy: 0.5761\n",
      "Epoch 13/100\n",
      "491/491 [==============================] - 27s 56ms/step - loss: 0.4863 - binary_accuracy: 0.7714 - val_loss: 1.0490 - val_binary_accuracy: 0.5326\n",
      "Epoch 14/100\n",
      "491/491 [==============================] - 27s 56ms/step - loss: 0.4772 - binary_accuracy: 0.7774 - val_loss: 0.9724 - val_binary_accuracy: 0.5340\n",
      "Epoch 15/100\n",
      "491/491 [==============================] - 28s 56ms/step - loss: 0.4793 - binary_accuracy: 0.7725 - val_loss: 0.9637 - val_binary_accuracy: 0.5367\n",
      "Epoch 16/100\n",
      "491/491 [==============================] - 28s 57ms/step - loss: 0.4715 - binary_accuracy: 0.7757 - val_loss: 0.9808 - val_binary_accuracy: 0.5394\n",
      "Epoch 17/100\n",
      "491/491 [==============================] - 28s 56ms/step - loss: 0.4636 - binary_accuracy: 0.7834 - val_loss: 0.9515 - val_binary_accuracy: 0.5448\n",
      "Epoch 18/100\n",
      "491/491 [==============================] - 28s 57ms/step - loss: 0.4608 - binary_accuracy: 0.7853 - val_loss: 1.0709 - val_binary_accuracy: 0.5109\n",
      "Epoch 19/100\n",
      "491/491 [==============================] - 27s 56ms/step - loss: 0.4534 - binary_accuracy: 0.7893 - val_loss: 1.1941 - val_binary_accuracy: 0.5149\n",
      "Epoch 20/100\n",
      "491/491 [==============================] - 28s 57ms/step - loss: 0.4453 - binary_accuracy: 0.7963 - val_loss: 1.2368 - val_binary_accuracy: 0.5068\n",
      "Epoch 21/100\n",
      "491/491 [==============================] - 27s 56ms/step - loss: 0.4422 - binary_accuracy: 0.7985 - val_loss: 0.9983 - val_binary_accuracy: 0.5000\n",
      "Epoch 22/100\n",
      "491/491 [==============================] - 28s 57ms/step - loss: 0.4429 - binary_accuracy: 0.7933 - val_loss: 0.9100 - val_binary_accuracy: 0.5394\n",
      "Epoch 23/100\n",
      "491/491 [==============================] - 28s 57ms/step - loss: 0.4383 - binary_accuracy: 0.7954 - val_loss: 0.8851 - val_binary_accuracy: 0.5285\n",
      "Epoch 24/100\n",
      "491/491 [==============================] - 27s 56ms/step - loss: 0.4376 - binary_accuracy: 0.8006 - val_loss: 0.8838 - val_binary_accuracy: 0.5380\n",
      "Epoch 25/100\n",
      "491/491 [==============================] - 28s 56ms/step - loss: 0.4392 - binary_accuracy: 0.8013 - val_loss: 0.9185 - val_binary_accuracy: 0.5476\n",
      "Epoch 26/100\n",
      "491/491 [==============================] - 27s 56ms/step - loss: 0.4239 - binary_accuracy: 0.8065 - val_loss: 0.9567 - val_binary_accuracy: 0.5462\n",
      "Epoch 27/100\n",
      "491/491 [==============================] - 28s 56ms/step - loss: 0.4276 - binary_accuracy: 0.8038 - val_loss: 1.0869 - val_binary_accuracy: 0.5109\n",
      "Epoch 28/100\n",
      "491/491 [==============================] - 27s 56ms/step - loss: 0.4200 - binary_accuracy: 0.8121 - val_loss: 1.1551 - val_binary_accuracy: 0.5448\n",
      "Epoch 29/100\n",
      "491/491 [==============================] - 28s 56ms/step - loss: 0.4281 - binary_accuracy: 0.8038 - val_loss: 1.0585 - val_binary_accuracy: 0.5109\n",
      "Epoch 30/100\n",
      "491/491 [==============================] - 28s 56ms/step - loss: 0.4165 - binary_accuracy: 0.8102 - val_loss: 1.0270 - val_binary_accuracy: 0.5353\n",
      "Epoch 31/100\n",
      "491/491 [==============================] - 28s 57ms/step - loss: 0.4182 - binary_accuracy: 0.8105 - val_loss: 1.1326 - val_binary_accuracy: 0.4864\n",
      "Epoch 32/100\n",
      "491/491 [==============================] - 28s 56ms/step - loss: 0.4156 - binary_accuracy: 0.8134 - val_loss: 1.0009 - val_binary_accuracy: 0.5326\n",
      "Epoch 33/100\n",
      "491/491 [==============================] - 27s 56ms/step - loss: 0.4108 - binary_accuracy: 0.8136 - val_loss: 1.2126 - val_binary_accuracy: 0.5312\n",
      "Epoch 34/100\n",
      "491/491 [==============================] - 27s 56ms/step - loss: 0.4140 - binary_accuracy: 0.8116 - val_loss: 1.2792 - val_binary_accuracy: 0.5149\n",
      "Epoch 35/100\n",
      "491/491 [==============================] - 28s 56ms/step - loss: 0.4131 - binary_accuracy: 0.8135 - val_loss: 1.2059 - val_binary_accuracy: 0.5245\n",
      "Epoch 36/100\n",
      "491/491 [==============================] - 28s 56ms/step - loss: 0.4165 - binary_accuracy: 0.8104 - val_loss: 1.3546 - val_binary_accuracy: 0.4959\n",
      "Epoch 37/100\n",
      "491/491 [==============================] - 28s 56ms/step - loss: 0.4114 - binary_accuracy: 0.8148 - val_loss: 1.2161 - val_binary_accuracy: 0.5217\n",
      "Epoch 38/100\n",
      "491/491 [==============================] - 27s 56ms/step - loss: 0.3963 - binary_accuracy: 0.8238 - val_loss: 1.0421 - val_binary_accuracy: 0.5095\n",
      "Epoch 39/100\n",
      "491/491 [==============================] - 28s 56ms/step - loss: 0.3960 - binary_accuracy: 0.8227 - val_loss: 0.9408 - val_binary_accuracy: 0.5435\n",
      "Epoch 40/100\n",
      "491/491 [==============================] - 28s 57ms/step - loss: 0.4042 - binary_accuracy: 0.8194 - val_loss: 1.0570 - val_binary_accuracy: 0.5516\n",
      "Epoch 41/100\n",
      "491/491 [==============================] - 27s 55ms/step - loss: 0.3979 - binary_accuracy: 0.8201 - val_loss: 1.0034 - val_binary_accuracy: 0.5367\n",
      "Epoch 42/100\n",
      "491/491 [==============================] - 27s 55ms/step - loss: 0.3928 - binary_accuracy: 0.8245 - val_loss: 0.9848 - val_binary_accuracy: 0.5312\n",
      "Epoch 43/100\n",
      "491/491 [==============================] - 27s 55ms/step - loss: 0.3991 - binary_accuracy: 0.8202 - val_loss: 1.2818 - val_binary_accuracy: 0.5082\n",
      "Epoch 44/100\n",
      "491/491 [==============================] - 27s 56ms/step - loss: 0.3969 - binary_accuracy: 0.8224 - val_loss: 1.1402 - val_binary_accuracy: 0.5340\n",
      "Epoch 45/100\n",
      "491/491 [==============================] - 28s 56ms/step - loss: 0.4010 - binary_accuracy: 0.8194 - val_loss: 0.9065 - val_binary_accuracy: 0.5938\n",
      "Epoch 46/100\n",
      "491/491 [==============================] - 27s 56ms/step - loss: 0.3966 - binary_accuracy: 0.8206 - val_loss: 0.9591 - val_binary_accuracy: 0.5462\n",
      "Epoch 47/100\n",
      "491/491 [==============================] - 27s 56ms/step - loss: 0.3902 - binary_accuracy: 0.8283 - val_loss: 1.5205 - val_binary_accuracy: 0.4959\n",
      "Epoch 48/100\n",
      "491/491 [==============================] - 28s 56ms/step - loss: 0.3868 - binary_accuracy: 0.8292 - val_loss: 1.0363 - val_binary_accuracy: 0.5543\n",
      "Epoch 49/100\n",
      "491/491 [==============================] - 27s 55ms/step - loss: 0.3978 - binary_accuracy: 0.8205 - val_loss: 1.0969 - val_binary_accuracy: 0.5231\n",
      "Epoch 50/100\n",
      "491/491 [==============================] - 28s 56ms/step - loss: 0.3874 - binary_accuracy: 0.8282 - val_loss: 1.0777 - val_binary_accuracy: 0.5462\n",
      "Epoch 51/100\n",
      "491/491 [==============================] - 27s 56ms/step - loss: 0.3786 - binary_accuracy: 0.8341 - val_loss: 1.2887 - val_binary_accuracy: 0.5190\n",
      "Epoch 52/100\n",
      "491/491 [==============================] - 28s 56ms/step - loss: 0.3789 - binary_accuracy: 0.8342 - val_loss: 1.1184 - val_binary_accuracy: 0.5082\n",
      "Epoch 53/100\n",
      "491/491 [==============================] - 27s 56ms/step - loss: 0.3807 - binary_accuracy: 0.8319 - val_loss: 1.2604 - val_binary_accuracy: 0.5285\n",
      "Epoch 54/100\n",
      "491/491 [==============================] - 28s 57ms/step - loss: 0.3835 - binary_accuracy: 0.8319 - val_loss: 1.3349 - val_binary_accuracy: 0.5136\n",
      "Epoch 55/100\n",
      "491/491 [==============================] - 27s 56ms/step - loss: 0.3843 - binary_accuracy: 0.8325 - val_loss: 0.9667 - val_binary_accuracy: 0.5842\n",
      "Epoch 56/100\n",
      "491/491 [==============================] - 28s 56ms/step - loss: 0.3715 - binary_accuracy: 0.8379 - val_loss: 1.0693 - val_binary_accuracy: 0.5109\n",
      "Epoch 57/100\n",
      "491/491 [==============================] - 27s 56ms/step - loss: 0.3766 - binary_accuracy: 0.8366 - val_loss: 1.1076 - val_binary_accuracy: 0.5462\n",
      "Epoch 58/100\n",
      "491/491 [==============================] - 28s 56ms/step - loss: 0.3793 - binary_accuracy: 0.8322 - val_loss: 1.1061 - val_binary_accuracy: 0.5584\n",
      "Epoch 59/100\n",
      "491/491 [==============================] - 28s 57ms/step - loss: 0.3739 - binary_accuracy: 0.8326 - val_loss: 1.1417 - val_binary_accuracy: 0.5340\n",
      "Epoch 60/100\n",
      "491/491 [==============================] - 27s 56ms/step - loss: 0.3706 - binary_accuracy: 0.8385 - val_loss: 0.9574 - val_binary_accuracy: 0.5476\n",
      "Epoch 61/100\n",
      "491/491 [==============================] - 27s 56ms/step - loss: 0.3689 - binary_accuracy: 0.8388 - val_loss: 1.0288 - val_binary_accuracy: 0.5611\n",
      "Epoch 62/100\n",
      "491/491 [==============================] - 28s 56ms/step - loss: 0.3761 - binary_accuracy: 0.8343 - val_loss: 1.0846 - val_binary_accuracy: 0.5299\n",
      "Epoch 63/100\n",
      "491/491 [==============================] - 27s 55ms/step - loss: 0.3661 - binary_accuracy: 0.8413 - val_loss: 1.0927 - val_binary_accuracy: 0.5625\n",
      "Epoch 64/100\n",
      "491/491 [==============================] - 28s 56ms/step - loss: 0.3627 - binary_accuracy: 0.8429 - val_loss: 1.1395 - val_binary_accuracy: 0.5448\n",
      "Epoch 65/100\n",
      "491/491 [==============================] - 27s 56ms/step - loss: 0.3721 - binary_accuracy: 0.8373 - val_loss: 1.0730 - val_binary_accuracy: 0.5707\n",
      "Epoch 66/100\n",
      "491/491 [==============================] - 28s 56ms/step - loss: 0.3582 - binary_accuracy: 0.8448 - val_loss: 1.1978 - val_binary_accuracy: 0.5503\n",
      "Epoch 67/100\n",
      "491/491 [==============================] - 28s 56ms/step - loss: 0.3666 - binary_accuracy: 0.8422 - val_loss: 1.0361 - val_binary_accuracy: 0.5489\n",
      "Epoch 68/100\n",
      "491/491 [==============================] - 28s 56ms/step - loss: 0.3608 - binary_accuracy: 0.8450 - val_loss: 1.1703 - val_binary_accuracy: 0.5503\n",
      "Epoch 69/100\n",
      "491/491 [==============================] - 28s 56ms/step - loss: 0.3632 - binary_accuracy: 0.8442 - val_loss: 1.2478 - val_binary_accuracy: 0.5231\n",
      "Epoch 70/100\n",
      "491/491 [==============================] - 28s 57ms/step - loss: 0.3689 - binary_accuracy: 0.8388 - val_loss: 0.9860 - val_binary_accuracy: 0.5598\n",
      "Epoch 71/100\n",
      "491/491 [==============================] - 28s 57ms/step - loss: 0.3692 - binary_accuracy: 0.8371 - val_loss: 1.1379 - val_binary_accuracy: 0.5340\n"
     ]
    }
   ],
   "source": [
    "# Train model on dataset\n",
    "with tf.device('/device:GPU:0'):\n",
    "    model = setModel()\n",
    "    callback = tf.keras.callbacks.EarlyStopping(monitor='loss', patience=5)\n",
    "    history = model.fit(x=training_generator,\n",
    "                        validation_data=validation_generator,\n",
    "                        callbacks=[callback],\n",
    "                        # use_multiprocessing=True,\n",
    "                        # workers=4,\n",
    "                        epochs=100,\n",
    "                        verbose=1)"
   ]
  },
  {
   "cell_type": "code",
   "execution_count": 16,
   "metadata": {},
   "outputs": [
    {
     "name": "stderr",
     "output_type": "stream",
     "text": [
      "2022-05-19 11:17:37.177968: W tensorflow/python/util/util.cc:368] Sets are not currently considered sequences, but this may change in the future, so consider avoiding using them.\n"
     ]
    },
    {
     "name": "stdout",
     "output_type": "stream",
     "text": [
      "INFO:tensorflow:Assets written to: models/ClassifierModel-v2/assets\n"
     ]
    }
   ],
   "source": [
    "model.save('models/ClassifierModel-v2')"
   ]
  },
  {
   "cell_type": "markdown",
   "metadata": {},
   "source": [
    "### Resultados del entrenamiento"
   ]
  },
  {
   "cell_type": "code",
   "execution_count": 17,
   "metadata": {},
   "outputs": [],
   "source": [
    "import matplotlib.pyplot as plt\n",
    "import seaborn as sns\n",
    "sns.set_theme(style=\"darkgrid\")"
   ]
  },
  {
   "cell_type": "code",
   "execution_count": 18,
   "metadata": {},
   "outputs": [
    {
     "data": {
      "text/plain": [
       "dict_keys(['loss', 'binary_accuracy', 'val_loss', 'val_binary_accuracy'])"
      ]
     },
     "execution_count": 18,
     "metadata": {},
     "output_type": "execute_result"
    }
   ],
   "source": [
    "history.history.keys()"
   ]
  },
  {
   "cell_type": "code",
   "execution_count": 19,
   "metadata": {},
   "outputs": [],
   "source": [
    "acc = pd.DataFrame({'accuracy':history.history['binary_accuracy'], 'type':'train'}).reset_index().rename(columns={'index':'epoch'})\n",
    "acc = pd.concat([acc, pd.DataFrame({'accuracy':history.history['val_binary_accuracy'], 'type':'val'}).reset_index().rename(columns={'index':'epoch'})]).reset_index(drop=True)\n",
    "loss = pd.DataFrame({'loss':history.history['loss'], 'type':'train'}).reset_index().rename(columns={'index':'epoch'})\n",
    "loss = pd.concat([loss, pd.DataFrame({'loss':history.history['val_loss'], 'type':'val'}).reset_index().rename(columns={'index':'epoch'})]).reset_index(drop=True)"
   ]
  },
  {
   "cell_type": "code",
   "execution_count": 20,
   "metadata": {},
   "outputs": [
    {
     "data": {
      "image/png": "[encoded data removed]",
      "text/plain": [
       "<Figure size 1080x360 with 2 Axes>"
      ]
     },
     "metadata": {},
     "output_type": "display_data"
    }
   ],
   "source": [
    "fig, ax = plt.subplots(nrows=1, ncols=2, figsize=(15,5))\n",
    "sns.lineplot(x='epoch', y='accuracy', data=acc, hue='type', ax=ax[0])\n",
    "sns.lineplot(x='epoch', y='loss', data=loss, hue='type', ax=ax[1])\n",
    "plt.show()"
   ]
  },
  {
   "cell_type": "code",
   "execution_count": 25,
   "metadata": {},
   "outputs": [
    {
     "data": {
      "text/html": [
       "<div>\n",
       "<style scoped>\n",
       "    .dataframe tbody tr th:only-of-type {\n",
       "        vertical-align: middle;\n",
       "    }\n",
       "\n",
       "    .dataframe tbody tr th {\n",
       "        vertical-align: top;\n",
       "    }\n",
       "\n",
       "    .dataframe thead th {\n",
       "        text-align: right;\n",
       "    }\n",
       "</style>\n",
       "<table border=\"1\" class=\"dataframe\">\n",
       "  <thead>\n",
       "    <tr style=\"text-align: right;\">\n",
       "      <th></th>\n",
       "      <th>epoch</th>\n",
       "      <th>accuracy</th>\n",
       "      <th>type</th>\n",
       "    </tr>\n",
       "  </thead>\n",
       "  <tbody>\n",
       "    <tr>\n",
       "      <th>70</th>\n",
       "      <td>70</td>\n",
       "      <td>0.837067</td>\n",
       "      <td>train</td>\n",
       "    </tr>\n",
       "    <tr>\n",
       "      <th>141</th>\n",
       "      <td>70</td>\n",
       "      <td>0.533967</td>\n",
       "      <td>val</td>\n",
       "    </tr>\n",
       "  </tbody>\n",
       "</table>\n",
       "</div>"
      ],
      "text/plain": [
       "     epoch  accuracy   type\n",
       "70      70  0.837067  train\n",
       "141     70  0.533967    val"
      ]
     },
     "execution_count": 25,
     "metadata": {},
     "output_type": "execute_result"
    }
   ],
   "source": [
    "acc.loc[acc.epoch == acc.epoch.max()]"
   ]
  },
  {
   "cell_type": "code",
   "execution_count": 26,
   "metadata": {},
   "outputs": [
    {
     "data": {
      "text/html": [
       "<div>\n",
       "<style scoped>\n",
       "    .dataframe tbody tr th:only-of-type {\n",
       "        vertical-align: middle;\n",
       "    }\n",
       "\n",
       "    .dataframe tbody tr th {\n",
       "        vertical-align: top;\n",
       "    }\n",
       "\n",
       "    .dataframe thead th {\n",
       "        text-align: right;\n",
       "    }\n",
       "</style>\n",
       "<table border=\"1\" class=\"dataframe\">\n",
       "  <thead>\n",
       "    <tr style=\"text-align: right;\">\n",
       "      <th></th>\n",
       "      <th>epoch</th>\n",
       "      <th>loss</th>\n",
       "      <th>type</th>\n",
       "    </tr>\n",
       "  </thead>\n",
       "  <tbody>\n",
       "    <tr>\n",
       "      <th>70</th>\n",
       "      <td>70</td>\n",
       "      <td>0.369182</td>\n",
       "      <td>train</td>\n",
       "    </tr>\n",
       "    <tr>\n",
       "      <th>141</th>\n",
       "      <td>70</td>\n",
       "      <td>1.137856</td>\n",
       "      <td>val</td>\n",
       "    </tr>\n",
       "  </tbody>\n",
       "</table>\n",
       "</div>"
      ],
      "text/plain": [
       "     epoch      loss   type\n",
       "70      70  0.369182  train\n",
       "141     70  1.137856    val"
      ]
     },
     "execution_count": 26,
     "metadata": {},
     "output_type": "execute_result"
    }
   ],
   "source": [
    "loss.loc[loss.epoch == loss.epoch.max()]"
   ]
  },
  {
   "cell_type": "markdown",
   "metadata": {},
   "source": [
    "### Evaluación de datos de prueba"
   ]
  },
  {
   "cell_type": "code",
   "execution_count": 3,
   "metadata": {},
   "outputs": [
    {
     "name": "stdout",
     "output_type": "stream",
     "text": [
      "[nltk_data] Downloading package punkt to /home/melesio/nltk_data...\n",
      "[nltk_data]   Package punkt is already up-to-date!\n",
      "[nltk_data] Downloading package stopwords to\n",
      "[nltk_data]     /home/melesio/nltk_data...\n",
      "[nltk_data]   Package stopwords is already up-to-date!\n",
      "[nltk_data] Downloading package wordnet to /home/melesio/nltk_data...\n",
      "[nltk_data]   Package wordnet is already up-to-date!\n",
      "[nltk_data] Downloading package omw-1.4 to /home/melesio/nltk_data...\n",
      "[nltk_data]   Package omw-1.4 is already up-to-date!\n",
      "[nltk_data] Downloading package averaged_perceptron_tagger to\n",
      "[nltk_data]     /home/melesio/nltk_data...\n",
      "[nltk_data]   Package averaged_perceptron_tagger is already up-to-\n",
      "[nltk_data]       date!\n",
      "Leyendo archivo de configuracion\n",
      "Inicia la transformacion de texto\n",
      "Creando diccionario de documentos unicos\n",
      "Realizando preprocesamiento\n",
      "Etapa de pre-procesmiento\n",
      "Extrayendo vectores de caracteristicas\n",
      "Etapa de extraccion de caracteristicas\n",
      "Extraccion de vectores lexicos\n",
      "Realizando vectorizacion\n",
      "Guardando resultadosto 79\n",
      "Extraccion de vectores sintacticos\n",
      "Realizando vectorizacion\n",
      "Guardando resultados\n",
      "Extraccion de vectores semanticos\n",
      "Realizando vectorizacion\n",
      "Guardando resultados\n",
      "Obteniendo espectros de contenido\n",
      "Etapa de unificacion del espacio\n",
      "/home/melesio/Documentos/SpectralTextRepresentation/minisom/minisom.py:167: UserWarning: Warning: sigma is too high for the dimension of the map.\n",
      "  warn('Warning: sigma is too high for the dimension of the map.')\n",
      "Leyendo vectores lexicos\n",
      "Obteninendo espectros\n",
      "Leyendo vectores sintacticos\n",
      "Obteninendo espectros\n",
      "Leyendo vectores semanticos\n",
      "Obteninendo espectros\n",
      "Consolidando capas\n",
      "Etapa de consolidacion de capas\n",
      "Información guardada\n",
      "Ensamble terminado\n",
      "Cargando modelo\n",
      "2022-05-20 11:00:52.417638: I tensorflow/stream_executor/cuda/cuda_gpu_executor.cc:936] successful NUMA node read from SysFS had negative value (-1), but there must be at least one NUMA node, so returning NUMA node zero\n",
      "2022-05-20 11:00:52.445459: I tensorflow/stream_executor/cuda/cuda_gpu_executor.cc:936] successful NUMA node read from SysFS had negative value (-1), but there must be at least one NUMA node, so returning NUMA node zero\n",
      "2022-05-20 11:00:52.445598: I tensorflow/stream_executor/cuda/cuda_gpu_executor.cc:936] successful NUMA node read from SysFS had negative value (-1), but there must be at least one NUMA node, so returning NUMA node zero\n",
      "2022-05-20 11:00:52.445870: I tensorflow/core/platform/cpu_feature_guard.cc:151] This TensorFlow binary is optimized with oneAPI Deep Neural Network Library (oneDNN) to use the following CPU instructions in performance-critical operations:  AVX2 FMA\n",
      "To enable them in other operations, rebuild TensorFlow with the appropriate compiler flags.\n",
      "2022-05-20 11:00:52.446484: I tensorflow/stream_executor/cuda/cuda_gpu_executor.cc:936] successful NUMA node read from SysFS had negative value (-1), but there must be at least one NUMA node, so returning NUMA node zero\n",
      "2022-05-20 11:00:52.446591: I tensorflow/stream_executor/cuda/cuda_gpu_executor.cc:936] successful NUMA node read from SysFS had negative value (-1), but there must be at least one NUMA node, so returning NUMA node zero\n",
      "2022-05-20 11:00:52.446686: I tensorflow/stream_executor/cuda/cuda_gpu_executor.cc:936] successful NUMA node read from SysFS had negative value (-1), but there must be at least one NUMA node, so returning NUMA node zero\n",
      "2022-05-20 11:00:52.762977: I tensorflow/stream_executor/cuda/cuda_gpu_executor.cc:936] successful NUMA node read from SysFS had negative value (-1), but there must be at least one NUMA node, so returning NUMA node zero\n",
      "2022-05-20 11:00:52.763261: I tensorflow/stream_executor/cuda/cuda_gpu_executor.cc:936] successful NUMA node read from SysFS had negative value (-1), but there must be at least one NUMA node, so returning NUMA node zero\n",
      "2022-05-20 11:00:52.763362: I tensorflow/stream_executor/cuda/cuda_gpu_executor.cc:936] successful NUMA node read from SysFS had negative value (-1), but there must be at least one NUMA node, so returning NUMA node zero\n",
      "2022-05-20 11:00:52.763443: I tensorflow/core/common_runtime/gpu/gpu_device.cc:1525] Created device /job:localhost/replica:0/task:0/device:GPU:0 with 7526 MB memory:  -> device: 0, name: NVIDIA GeForce RTX 3080, pci bus id: 0000:01:00.0, compute capability: 8.6\n",
      "Realizando predicciones\n",
      "2022-05-20 11:00:53.964693: I tensorflow/stream_executor/cuda/cuda_blas.cc:1786] TensorFloat-32 will be used for the matrix multiplication. This will only be logged once.\n"
     ]
    }
   ],
   "source": [
    "!python PredictionsTest.py -i testinput -o testoutput/v2"
   ]
  },
  {
   "cell_type": "code",
   "execution_count": 4,
   "metadata": {},
   "outputs": [
    {
     "name": "stdout",
     "output_type": "stream",
     "text": [
      "-> 1070 problems in ground truth\n",
      "-> 1070 solutions explicitly proposed\n",
      "{'auc': 0.535, 'c@1': 0.551, 'f_05_u': 0.561, 'F1': 0.59, 'brier': 0.637, 'overall': 0.575}\n"
     ]
    }
   ],
   "source": [
    "!python pan22_verif_evaluator.py -i testinput -a testoutput/v2 -o testoutput/v2"
   ]
  }
 ],
 "metadata": {
  "interpreter": {
   "hash": "34185cc76f1746f7da7738a8f19ab6509177ea129d1668aef168b7e0e18c804f"
  },
  "kernelspec": {
   "display_name": "Python 3.9.12 ('base')",
   "language": "python",
   "name": "python3"
  },
  "language_info": {
   "codemirror_mode": {
    "name": "ipython",
    "version": 3
   },
   "file_extension": ".py",
   "mimetype": "text/x-python",
   "name": "python",
   "nbconvert_exporter": "python",
   "pygments_lexer": "ipython3",
   "version": "3.9.12"
  },
  "orig_nbformat": 4
 },
 "nbformat": 4,
 "nbformat_minor": 2
}
