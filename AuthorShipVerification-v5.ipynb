{
 "cells": [
  {
   "cell_type": "code",
   "execution_count": 1,
   "metadata": {},
   "outputs": [],
   "source": [
    "import numpy as np\n",
    "import pandas as pd\n",
    "import tensorflow as tf\n",
    "import json\n",
    "from myGenerator import DataGenerator"
   ]
  },
  {
   "cell_type": "markdown",
   "metadata": {},
   "source": [
    "### Carga de datos"
   ]
  },
  {
   "cell_type": "code",
   "execution_count": 2,
   "metadata": {},
   "outputs": [],
   "source": [
    "train = pd.read_pickle(\"pan22-authorship-verification-training-dataset/particionesXid/PanTrain.plk\")\n",
    "val = pd.read_pickle(\"pan22-authorship-verification-training-dataset/particionesXid/PanVal.plk\")"
   ]
  },
  {
   "cell_type": "code",
   "execution_count": 3,
   "metadata": {},
   "outputs": [],
   "source": [
    "def spectraLoader(inputPath: str) -> pd.DataFrame:\n",
    "    df = pd.DataFrame()\n",
    "    with open(inputPath, encoding='utf-8') as f:\n",
    "        for line in f:\n",
    "            jsonline = json.loads(line)\n",
    "            lineDf = pd.DataFrame({'id':jsonline['id'], 'spectra':[np.array(jsonline['spectra'])]})\n",
    "            df = pd.concat([df, lineDf])\n",
    "    df = df.reset_index(drop=True)\n",
    "\n",
    "    return df"
   ]
  },
  {
   "cell_type": "code",
   "execution_count": 4,
   "metadata": {},
   "outputs": [],
   "source": [
    "full_spectra = spectraLoader(\"pan22-authorship-verification-training-dataset/particionesXid/FullSpectra.jsonl\")"
   ]
  },
  {
   "cell_type": "code",
   "execution_count": 5,
   "metadata": {},
   "outputs": [],
   "source": [
    "def loadLabels(inputPath:str, labelDict:dict) -> dict:\n",
    "    with open(inputPath, encoding='utf-8') as f:\n",
    "        for line in f:\n",
    "            jsonline = json.loads(line)\n",
    "            labelDict[jsonline['id']] = 1 if jsonline['value'] else 0\n",
    "        \n",
    "    return labelDict"
   ]
  },
  {
   "cell_type": "code",
   "execution_count": 6,
   "metadata": {},
   "outputs": [],
   "source": [
    "labels = dict()\n",
    "labels = loadLabels('pan22-authorship-verification-training-dataset/particiones/train_truth.jsonl',labels)\n",
    "labels = loadLabels('pan22-authorship-verification-training-dataset/particiones/val_truth.jsonl',labels)"
   ]
  },
  {
   "cell_type": "code",
   "execution_count": 7,
   "metadata": {},
   "outputs": [
    {
     "name": "stdout",
     "output_type": "stream",
     "text": [
      "Instances: 16486.0\n",
      "Labels:  16486\n"
     ]
    }
   ],
   "source": [
    "print(\"Instances: {}\".format((train.shape[0] + val.shape[0])/2))\n",
    "print(\"Labels: \",len(labels))"
   ]
  },
  {
   "cell_type": "code",
   "execution_count": 8,
   "metadata": {},
   "outputs": [],
   "source": [
    "partition = {'train': train.id.unique().tolist(), 'validation': val.id.unique().tolist()}"
   ]
  },
  {
   "cell_type": "code",
   "execution_count": 9,
   "metadata": {},
   "outputs": [
    {
     "name": "stdout",
     "output_type": "stream",
     "text": [
      "Train:  15732\n",
      "Validation:  754\n",
      "Total:  16486\n"
     ]
    }
   ],
   "source": [
    "print(\"Train: \", len(partition['train']))\n",
    "print(\"Validation: \", len(partition['validation']))\n",
    "print(\"Total: \", len(partition['train'])+len(partition['validation']))"
   ]
  },
  {
   "cell_type": "markdown",
   "metadata": {},
   "source": [
    "### Definición de la arquitectura del modelo"
   ]
  },
  {
   "cell_type": "code",
   "execution_count": 10,
   "metadata": {},
   "outputs": [],
   "source": [
    "# Modelo de red siamesa utilizando una red residual y un perceptron multicapa SIN CAPAS CUSTOM\n",
    "\n",
    "def setModel():\n",
    "    x1 = tf.keras.Input(shape=(1200,), name=\"input_1\")\n",
    "    x2 = tf.keras.Input(shape=(1200,), name=\"input_2\")\n",
    "\n",
    "    merge = tf.abs(x1-x2)\n",
    "\n",
    "    # MLPNN Classifier\n",
    "    dense1 = tf.keras.layers.Dense(1200, activation='relu',kernel_regularizer=tf.keras.regularizers.l2(0.001))(merge)\n",
    "    do1 = tf.keras.layers.Dropout(0.5)(dense1)\n",
    "    bn1 = tf.keras.layers.BatchNormalization()(do1)\n",
    "    dense2 = tf.keras.layers.Dense(600, activation='relu',kernel_regularizer=tf.keras.regularizers.l2(0.001))(bn1)\n",
    "    do2 = tf.keras.layers.Dropout(0.5)(dense2)\n",
    "    bn2 = tf.keras.layers.BatchNormalization()(do2)\n",
    "    dense3 = tf.keras.layers.Dense(300, activation='relu',kernel_regularizer=tf.keras.regularizers.l2(0.001))(bn2)\n",
    "    do3 = tf.keras.layers.Dropout(0.5)(dense3)\n",
    "    bn3 = tf.keras.layers.BatchNormalization()(do3)\n",
    "    output = tf.keras.layers.Dense(1, activation='sigmoid',kernel_regularizer=tf.keras.regularizers.l2(0.001))(bn3)\n",
    "\n",
    "    model = tf.keras.Model([x1, x2], output)\n",
    "    model.compile(loss = 'binary_crossentropy', optimizer = \"adam\", metrics=[\"binary_accuracy\"])\n",
    "\n",
    "    return model"
   ]
  },
  {
   "cell_type": "code",
   "execution_count": 11,
   "metadata": {},
   "outputs": [
    {
     "name": "stdout",
     "output_type": "stream",
     "text": [
      "Model: \"model\"\n",
      "__________________________________________________________________________________________________\n",
      " Layer (type)                   Output Shape         Param #     Connected to                     \n",
      "==================================================================================================\n",
      " input_1 (InputLayer)           [(None, 1200)]       0           []                               \n",
      "                                                                                                  \n",
      " input_2 (InputLayer)           [(None, 1200)]       0           []                               \n",
      "                                                                                                  \n",
      " tf.math.subtract (TFOpLambda)  (None, 1200)         0           ['input_1[0][0]',                \n",
      "                                                                  'input_2[0][0]']                \n",
      "                                                                                                  \n",
      " tf.math.abs (TFOpLambda)       (None, 1200)         0           ['tf.math.subtract[0][0]']       \n",
      "                                                                                                  \n",
      " dense (Dense)                  (None, 1200)         1441200     ['tf.math.abs[0][0]']            \n",
      "                                                                                                  \n",
      " dropout (Dropout)              (None, 1200)         0           ['dense[0][0]']                  \n",
      "                                                                                                  \n",
      " batch_normalization (BatchNorm  (None, 1200)        4800        ['dropout[0][0]']                \n",
      " alization)                                                                                       \n",
      "                                                                                                  \n",
      " dense_1 (Dense)                (None, 600)          720600      ['batch_normalization[0][0]']    \n",
      "                                                                                                  \n",
      " dropout_1 (Dropout)            (None, 600)          0           ['dense_1[0][0]']                \n",
      "                                                                                                  \n",
      " batch_normalization_1 (BatchNo  (None, 600)         2400        ['dropout_1[0][0]']              \n",
      " rmalization)                                                                                     \n",
      "                                                                                                  \n",
      " dense_2 (Dense)                (None, 300)          180300      ['batch_normalization_1[0][0]']  \n",
      "                                                                                                  \n",
      " dropout_2 (Dropout)            (None, 300)          0           ['dense_2[0][0]']                \n",
      "                                                                                                  \n",
      " batch_normalization_2 (BatchNo  (None, 300)         1200        ['dropout_2[0][0]']              \n",
      " rmalization)                                                                                     \n",
      "                                                                                                  \n",
      " dense_3 (Dense)                (None, 1)            301         ['batch_normalization_2[0][0]']  \n",
      "                                                                                                  \n",
      "==================================================================================================\n",
      "Total params: 2,350,801\n",
      "Trainable params: 2,346,601\n",
      "Non-trainable params: 4,200\n",
      "__________________________________________________________________________________________________\n"
     ]
    },
    {
     "name": "stderr",
     "output_type": "stream",
     "text": [
      "2022-05-20 12:43:56.665184: I tensorflow/stream_executor/cuda/cuda_gpu_executor.cc:936] successful NUMA node read from SysFS had negative value (-1), but there must be at least one NUMA node, so returning NUMA node zero\n",
      "2022-05-20 12:43:56.686500: I tensorflow/stream_executor/cuda/cuda_gpu_executor.cc:936] successful NUMA node read from SysFS had negative value (-1), but there must be at least one NUMA node, so returning NUMA node zero\n",
      "2022-05-20 12:43:56.686614: I tensorflow/stream_executor/cuda/cuda_gpu_executor.cc:936] successful NUMA node read from SysFS had negative value (-1), but there must be at least one NUMA node, so returning NUMA node zero\n",
      "2022-05-20 12:43:56.686890: I tensorflow/core/platform/cpu_feature_guard.cc:151] This TensorFlow binary is optimized with oneAPI Deep Neural Network Library (oneDNN) to use the following CPU instructions in performance-critical operations:  AVX2 FMA\n",
      "To enable them in other operations, rebuild TensorFlow with the appropriate compiler flags.\n",
      "2022-05-20 12:43:56.687425: I tensorflow/stream_executor/cuda/cuda_gpu_executor.cc:936] successful NUMA node read from SysFS had negative value (-1), but there must be at least one NUMA node, so returning NUMA node zero\n",
      "2022-05-20 12:43:56.687515: I tensorflow/stream_executor/cuda/cuda_gpu_executor.cc:936] successful NUMA node read from SysFS had negative value (-1), but there must be at least one NUMA node, so returning NUMA node zero\n",
      "2022-05-20 12:43:56.687592: I tensorflow/stream_executor/cuda/cuda_gpu_executor.cc:936] successful NUMA node read from SysFS had negative value (-1), but there must be at least one NUMA node, so returning NUMA node zero\n",
      "2022-05-20 12:43:56.998828: I tensorflow/stream_executor/cuda/cuda_gpu_executor.cc:936] successful NUMA node read from SysFS had negative value (-1), but there must be at least one NUMA node, so returning NUMA node zero\n",
      "2022-05-20 12:43:56.998946: I tensorflow/stream_executor/cuda/cuda_gpu_executor.cc:936] successful NUMA node read from SysFS had negative value (-1), but there must be at least one NUMA node, so returning NUMA node zero\n",
      "2022-05-20 12:43:56.999030: I tensorflow/stream_executor/cuda/cuda_gpu_executor.cc:936] successful NUMA node read from SysFS had negative value (-1), but there must be at least one NUMA node, so returning NUMA node zero\n",
      "2022-05-20 12:43:56.999103: I tensorflow/core/common_runtime/gpu/gpu_device.cc:1525] Created device /job:localhost/replica:0/task:0/device:GPU:0 with 7817 MB memory:  -> device: 0, name: NVIDIA GeForce RTX 3080, pci bus id: 0000:01:00.0, compute capability: 8.6\n"
     ]
    }
   ],
   "source": [
    "model = setModel()\n",
    "model.summary()"
   ]
  },
  {
   "cell_type": "markdown",
   "metadata": {},
   "source": [
    "### Entrenamiento del modelo"
   ]
  },
  {
   "cell_type": "code",
   "execution_count": 12,
   "metadata": {},
   "outputs": [],
   "source": [
    "# Parameters\n",
    "params = {'dim': (1200,),\n",
    "            'batch_size': 32,\n",
    "            'shuffle': True}"
   ]
  },
  {
   "cell_type": "code",
   "execution_count": 13,
   "metadata": {},
   "outputs": [],
   "source": [
    "# Generators\n",
    "training_generator = DataGenerator(partition['train'], train, labels, full_spectra, **params)\n",
    "validation_generator = DataGenerator(partition['validation'], val, labels, full_spectra, **params)"
   ]
  },
  {
   "cell_type": "code",
   "execution_count": 14,
   "metadata": {},
   "outputs": [
    {
     "name": "stderr",
     "output_type": "stream",
     "text": [
      "2022-05-20 12:44:28.664295: I tensorflow/stream_executor/cuda/cuda_gpu_executor.cc:936] successful NUMA node read from SysFS had negative value (-1), but there must be at least one NUMA node, so returning NUMA node zero\n"
     ]
    },
    {
     "data": {
      "text/plain": [
       "'/device:GPU:0'"
      ]
     },
     "execution_count": 14,
     "metadata": {},
     "output_type": "execute_result"
    },
    {
     "name": "stderr",
     "output_type": "stream",
     "text": [
      "2022-05-20 12:44:28.664479: I tensorflow/stream_executor/cuda/cuda_gpu_executor.cc:936] successful NUMA node read from SysFS had negative value (-1), but there must be at least one NUMA node, so returning NUMA node zero\n",
      "2022-05-20 12:44:28.664594: I tensorflow/stream_executor/cuda/cuda_gpu_executor.cc:936] successful NUMA node read from SysFS had negative value (-1), but there must be at least one NUMA node, so returning NUMA node zero\n",
      "2022-05-20 12:44:28.664725: I tensorflow/stream_executor/cuda/cuda_gpu_executor.cc:936] successful NUMA node read from SysFS had negative value (-1), but there must be at least one NUMA node, so returning NUMA node zero\n",
      "2022-05-20 12:44:28.664833: I tensorflow/stream_executor/cuda/cuda_gpu_executor.cc:936] successful NUMA node read from SysFS had negative value (-1), but there must be at least one NUMA node, so returning NUMA node zero\n",
      "2022-05-20 12:44:28.664905: I tensorflow/core/common_runtime/gpu/gpu_device.cc:1525] Created device /device:GPU:0 with 7817 MB memory:  -> device: 0, name: NVIDIA GeForce RTX 3080, pci bus id: 0000:01:00.0, compute capability: 8.6\n"
     ]
    }
   ],
   "source": [
    "tf.test.gpu_device_name()"
   ]
  },
  {
   "cell_type": "code",
   "execution_count": 15,
   "metadata": {},
   "outputs": [
    {
     "name": "stdout",
     "output_type": "stream",
     "text": [
      "Epoch 1/100\n",
      "  5/491 [..............................] - ETA: 22s - loss: 3.2483 - binary_accuracy: 0.5375"
     ]
    },
    {
     "name": "stderr",
     "output_type": "stream",
     "text": [
      "2022-05-20 12:44:33.443215: I tensorflow/stream_executor/cuda/cuda_blas.cc:1786] TensorFloat-32 will be used for the matrix multiplication. This will only be logged once.\n"
     ]
    },
    {
     "name": "stdout",
     "output_type": "stream",
     "text": [
      "491/491 [==============================] - 29s 56ms/step - loss: 2.0423 - binary_accuracy: 0.5380 - val_loss: 1.4447 - val_binary_accuracy: 0.5639\n",
      "Epoch 2/100\n",
      "491/491 [==============================] - 28s 57ms/step - loss: 1.2342 - binary_accuracy: 0.5691 - val_loss: 1.0871 - val_binary_accuracy: 0.4878\n",
      "Epoch 3/100\n",
      "491/491 [==============================] - 28s 56ms/step - loss: 0.9714 - binary_accuracy: 0.5801 - val_loss: 0.9253 - val_binary_accuracy: 0.5340\n",
      "Epoch 4/100\n",
      "491/491 [==============================] - 27s 56ms/step - loss: 0.8587 - binary_accuracy: 0.5792 - val_loss: 0.8470 - val_binary_accuracy: 0.5611\n",
      "Epoch 5/100\n",
      "491/491 [==============================] - 27s 55ms/step - loss: 0.8074 - binary_accuracy: 0.5759 - val_loss: 0.7959 - val_binary_accuracy: 0.5476\n",
      "Epoch 6/100\n",
      "491/491 [==============================] - 27s 55ms/step - loss: 0.7819 - binary_accuracy: 0.5691 - val_loss: 0.7850 - val_binary_accuracy: 0.5149\n",
      "Epoch 7/100\n",
      "491/491 [==============================] - 27s 55ms/step - loss: 0.7682 - binary_accuracy: 0.5713 - val_loss: 0.7675 - val_binary_accuracy: 0.5720\n",
      "Epoch 8/100\n",
      "491/491 [==============================] - 27s 55ms/step - loss: 0.7637 - binary_accuracy: 0.5761 - val_loss: 0.7963 - val_binary_accuracy: 0.5489\n",
      "Epoch 9/100\n",
      "491/491 [==============================] - 27s 55ms/step - loss: 0.7678 - binary_accuracy: 0.5736 - val_loss: 0.7734 - val_binary_accuracy: 0.5625\n",
      "Epoch 10/100\n",
      "491/491 [==============================] - 27s 55ms/step - loss: 0.7639 - binary_accuracy: 0.5692 - val_loss: 0.7663 - val_binary_accuracy: 0.5435\n",
      "Epoch 11/100\n",
      "491/491 [==============================] - 27s 56ms/step - loss: 0.7555 - binary_accuracy: 0.5700 - val_loss: 0.7685 - val_binary_accuracy: 0.5435\n",
      "Epoch 12/100\n",
      "491/491 [==============================] - 27s 56ms/step - loss: 0.7513 - binary_accuracy: 0.5762 - val_loss: 0.7650 - val_binary_accuracy: 0.5476\n",
      "Epoch 13/100\n",
      "491/491 [==============================] - 28s 57ms/step - loss: 0.7468 - binary_accuracy: 0.5703 - val_loss: 0.7618 - val_binary_accuracy: 0.5720\n",
      "Epoch 14/100\n",
      "491/491 [==============================] - 28s 57ms/step - loss: 0.7426 - binary_accuracy: 0.5713 - val_loss: 0.7517 - val_binary_accuracy: 0.5000\n",
      "Epoch 15/100\n",
      "491/491 [==============================] - 27s 55ms/step - loss: 0.7339 - binary_accuracy: 0.5778 - val_loss: 0.7273 - val_binary_accuracy: 0.5802\n",
      "Epoch 16/100\n",
      "491/491 [==============================] - 27s 56ms/step - loss: 0.7304 - binary_accuracy: 0.5876 - val_loss: 0.7677 - val_binary_accuracy: 0.5245\n",
      "Epoch 17/100\n",
      "491/491 [==============================] - 27s 56ms/step - loss: 0.7327 - binary_accuracy: 0.5857 - val_loss: 0.7374 - val_binary_accuracy: 0.5910\n",
      "Epoch 18/100\n",
      "491/491 [==============================] - 28s 57ms/step - loss: 0.7334 - binary_accuracy: 0.5838 - val_loss: 0.7703 - val_binary_accuracy: 0.5041\n",
      "Epoch 19/100\n",
      "491/491 [==============================] - 27s 55ms/step - loss: 0.7476 - binary_accuracy: 0.5729 - val_loss: 0.7659 - val_binary_accuracy: 0.5516\n",
      "Epoch 20/100\n",
      "491/491 [==============================] - 27s 55ms/step - loss: 0.7422 - binary_accuracy: 0.5749 - val_loss: 0.7433 - val_binary_accuracy: 0.5897\n",
      "Epoch 21/100\n",
      "491/491 [==============================] - 27s 55ms/step - loss: 0.7335 - binary_accuracy: 0.5749 - val_loss: 0.7518 - val_binary_accuracy: 0.4905\n",
      "Epoch 22/100\n",
      "491/491 [==============================] - 27s 55ms/step - loss: 0.7275 - binary_accuracy: 0.5749 - val_loss: 0.7770 - val_binary_accuracy: 0.5095\n",
      "Epoch 23/100\n",
      "491/491 [==============================] - 27s 56ms/step - loss: 0.7304 - binary_accuracy: 0.5703 - val_loss: 0.7451 - val_binary_accuracy: 0.5054\n",
      "Epoch 24/100\n",
      "491/491 [==============================] - 27s 56ms/step - loss: 0.7263 - binary_accuracy: 0.5726 - val_loss: 0.7361 - val_binary_accuracy: 0.5489\n",
      "Epoch 25/100\n",
      "491/491 [==============================] - 27s 55ms/step - loss: 0.7287 - binary_accuracy: 0.5702 - val_loss: 0.7984 - val_binary_accuracy: 0.5163\n",
      "Epoch 26/100\n",
      "491/491 [==============================] - 27s 56ms/step - loss: 0.7347 - binary_accuracy: 0.5698 - val_loss: 0.7364 - val_binary_accuracy: 0.5707\n",
      "Epoch 27/100\n",
      "491/491 [==============================] - 27s 56ms/step - loss: 0.7317 - binary_accuracy: 0.5806 - val_loss: 0.7360 - val_binary_accuracy: 0.5992\n",
      "Epoch 28/100\n",
      "491/491 [==============================] - 28s 56ms/step - loss: 0.7276 - binary_accuracy: 0.5853 - val_loss: 0.7325 - val_binary_accuracy: 0.5829\n",
      "Epoch 29/100\n",
      "491/491 [==============================] - 28s 57ms/step - loss: 0.7249 - binary_accuracy: 0.5841 - val_loss: 0.7364 - val_binary_accuracy: 0.5530\n",
      "Epoch 30/100\n",
      "491/491 [==============================] - 28s 57ms/step - loss: 0.7185 - binary_accuracy: 0.5902 - val_loss: 0.7377 - val_binary_accuracy: 0.5462\n",
      "Epoch 31/100\n",
      "491/491 [==============================] - 28s 56ms/step - loss: 0.7232 - binary_accuracy: 0.5708 - val_loss: 0.7324 - val_binary_accuracy: 0.5503\n",
      "Epoch 32/100\n",
      "491/491 [==============================] - 28s 57ms/step - loss: 0.7159 - binary_accuracy: 0.5835 - val_loss: 0.7328 - val_binary_accuracy: 0.5666\n",
      "Epoch 33/100\n",
      "491/491 [==============================] - 28s 56ms/step - loss: 0.7273 - binary_accuracy: 0.5684 - val_loss: 0.7243 - val_binary_accuracy: 0.5856\n",
      "Epoch 34/100\n",
      "491/491 [==============================] - 27s 56ms/step - loss: 0.7188 - binary_accuracy: 0.5755 - val_loss: 0.7272 - val_binary_accuracy: 0.5584\n",
      "Epoch 35/100\n",
      "491/491 [==============================] - 28s 56ms/step - loss: 0.7190 - binary_accuracy: 0.5830 - val_loss: 0.7422 - val_binary_accuracy: 0.5448\n",
      "Epoch 36/100\n",
      "491/491 [==============================] - 27s 56ms/step - loss: 0.7199 - binary_accuracy: 0.5753 - val_loss: 0.7352 - val_binary_accuracy: 0.5489\n",
      "Epoch 37/100\n",
      "491/491 [==============================] - 28s 56ms/step - loss: 0.7170 - binary_accuracy: 0.5773 - val_loss: 0.7299 - val_binary_accuracy: 0.5584\n",
      "Epoch 38/100\n",
      "491/491 [==============================] - 27s 56ms/step - loss: 0.7147 - binary_accuracy: 0.5745 - val_loss: 0.7122 - val_binary_accuracy: 0.5842\n",
      "Epoch 39/100\n",
      "491/491 [==============================] - 27s 55ms/step - loss: 0.7116 - binary_accuracy: 0.5845 - val_loss: 0.7367 - val_binary_accuracy: 0.5543\n",
      "Epoch 40/100\n",
      "491/491 [==============================] - 28s 56ms/step - loss: 0.7136 - binary_accuracy: 0.5783 - val_loss: 0.7291 - val_binary_accuracy: 0.5285\n",
      "Epoch 41/100\n",
      "491/491 [==============================] - 27s 55ms/step - loss: 0.7094 - binary_accuracy: 0.5782 - val_loss: 0.7461 - val_binary_accuracy: 0.5639\n",
      "Epoch 42/100\n",
      "491/491 [==============================] - 27s 55ms/step - loss: 0.7195 - binary_accuracy: 0.5744 - val_loss: 0.7290 - val_binary_accuracy: 0.5448\n",
      "Epoch 43/100\n",
      "491/491 [==============================] - 27s 56ms/step - loss: 0.7124 - binary_accuracy: 0.5787 - val_loss: 0.7299 - val_binary_accuracy: 0.5109\n",
      "Epoch 44/100\n",
      "491/491 [==============================] - 27s 55ms/step - loss: 0.7080 - binary_accuracy: 0.5822 - val_loss: 0.7460 - val_binary_accuracy: 0.5149\n",
      "Epoch 45/100\n",
      "491/491 [==============================] - 27s 55ms/step - loss: 0.7016 - binary_accuracy: 0.5936 - val_loss: 0.7162 - val_binary_accuracy: 0.5598\n",
      "Epoch 46/100\n",
      "491/491 [==============================] - 27s 55ms/step - loss: 0.7065 - binary_accuracy: 0.5827 - val_loss: 0.7259 - val_binary_accuracy: 0.5543\n",
      "Epoch 47/100\n",
      "491/491 [==============================] - 27s 55ms/step - loss: 0.7084 - binary_accuracy: 0.5759 - val_loss: 0.7245 - val_binary_accuracy: 0.5598\n",
      "Epoch 48/100\n",
      "491/491 [==============================] - 28s 56ms/step - loss: 0.7105 - binary_accuracy: 0.5702 - val_loss: 0.7281 - val_binary_accuracy: 0.4959\n",
      "Epoch 49/100\n",
      "491/491 [==============================] - 28s 57ms/step - loss: 0.7040 - binary_accuracy: 0.5799 - val_loss: 0.7183 - val_binary_accuracy: 0.5272\n",
      "Epoch 50/100\n",
      "491/491 [==============================] - 27s 56ms/step - loss: 0.6991 - binary_accuracy: 0.5939 - val_loss: 0.7188 - val_binary_accuracy: 0.5720\n",
      "Epoch 51/100\n",
      "491/491 [==============================] - 27s 56ms/step - loss: 0.7043 - binary_accuracy: 0.5750 - val_loss: 0.7177 - val_binary_accuracy: 0.5774\n",
      "Epoch 52/100\n",
      "491/491 [==============================] - 27s 56ms/step - loss: 0.7022 - binary_accuracy: 0.5710 - val_loss: 0.7152 - val_binary_accuracy: 0.5122\n",
      "Epoch 53/100\n",
      "491/491 [==============================] - 27s 55ms/step - loss: 0.7033 - binary_accuracy: 0.5715 - val_loss: 0.7026 - val_binary_accuracy: 0.5965\n",
      "Epoch 54/100\n",
      "491/491 [==============================] - 28s 56ms/step - loss: 0.6973 - binary_accuracy: 0.5827 - val_loss: 0.7220 - val_binary_accuracy: 0.5476\n",
      "Epoch 55/100\n",
      "491/491 [==============================] - 28s 56ms/step - loss: 0.7015 - binary_accuracy: 0.5641 - val_loss: 0.7157 - val_binary_accuracy: 0.5408\n",
      "Epoch 56/100\n",
      "491/491 [==============================] - 27s 56ms/step - loss: 0.7001 - binary_accuracy: 0.5878 - val_loss: 0.7100 - val_binary_accuracy: 0.5734\n",
      "Epoch 57/100\n",
      "491/491 [==============================] - 27s 56ms/step - loss: 0.7007 - binary_accuracy: 0.5828 - val_loss: 0.7343 - val_binary_accuracy: 0.5190\n",
      "Epoch 58/100\n",
      "491/491 [==============================] - 28s 57ms/step - loss: 0.6999 - binary_accuracy: 0.5863 - val_loss: 0.7222 - val_binary_accuracy: 0.5380\n",
      "Epoch 59/100\n",
      "491/491 [==============================] - 28s 56ms/step - loss: 0.7026 - binary_accuracy: 0.5780 - val_loss: 0.7068 - val_binary_accuracy: 0.5747\n",
      "Epoch 60/100\n",
      "491/491 [==============================] - 27s 55ms/step - loss: 0.6975 - binary_accuracy: 0.5803 - val_loss: 0.7059 - val_binary_accuracy: 0.6046\n",
      "Epoch 61/100\n",
      "491/491 [==============================] - 27s 55ms/step - loss: 0.7016 - binary_accuracy: 0.5762 - val_loss: 0.7188 - val_binary_accuracy: 0.5163\n",
      "Epoch 62/100\n",
      "491/491 [==============================] - 27s 55ms/step - loss: 0.7008 - binary_accuracy: 0.5845 - val_loss: 0.7179 - val_binary_accuracy: 0.5489\n",
      "Epoch 63/100\n",
      "491/491 [==============================] - 27s 56ms/step - loss: 0.6982 - binary_accuracy: 0.5761 - val_loss: 0.7108 - val_binary_accuracy: 0.5190\n",
      "Epoch 64/100\n",
      "491/491 [==============================] - 27s 56ms/step - loss: 0.6949 - binary_accuracy: 0.5813 - val_loss: 0.7294 - val_binary_accuracy: 0.4986\n",
      "Epoch 65/100\n",
      "491/491 [==============================] - 27s 55ms/step - loss: 0.7012 - binary_accuracy: 0.5661 - val_loss: 0.7255 - val_binary_accuracy: 0.5054\n",
      "Epoch 66/100\n",
      "491/491 [==============================] - 27s 55ms/step - loss: 0.7108 - binary_accuracy: 0.5388 - val_loss: 0.7323 - val_binary_accuracy: 0.5285\n",
      "Epoch 67/100\n",
      "491/491 [==============================] - 28s 56ms/step - loss: 0.6995 - binary_accuracy: 0.5567 - val_loss: 0.7093 - val_binary_accuracy: 0.5448\n",
      "Epoch 68/100\n",
      "491/491 [==============================] - 28s 56ms/step - loss: 0.6932 - binary_accuracy: 0.5803 - val_loss: 0.7105 - val_binary_accuracy: 0.5448\n",
      "Epoch 69/100\n",
      "491/491 [==============================] - 28s 57ms/step - loss: 0.7005 - binary_accuracy: 0.5796 - val_loss: 0.7345 - val_binary_accuracy: 0.4905\n",
      "Epoch 70/100\n",
      "491/491 [==============================] - 28s 56ms/step - loss: 0.7009 - binary_accuracy: 0.5740 - val_loss: 0.7087 - val_binary_accuracy: 0.5462\n",
      "Epoch 71/100\n",
      "491/491 [==============================] - 28s 56ms/step - loss: 0.7034 - binary_accuracy: 0.5515 - val_loss: 0.6995 - val_binary_accuracy: 0.5842\n",
      "Epoch 72/100\n",
      "491/491 [==============================] - 27s 56ms/step - loss: 0.7011 - binary_accuracy: 0.5580 - val_loss: 0.7146 - val_binary_accuracy: 0.5190\n",
      "Epoch 73/100\n",
      "491/491 [==============================] - 27s 55ms/step - loss: 0.6967 - binary_accuracy: 0.5697 - val_loss: 0.7078 - val_binary_accuracy: 0.5326\n",
      "Epoch 74/100\n",
      "491/491 [==============================] - 27s 55ms/step - loss: 0.6934 - binary_accuracy: 0.5793 - val_loss: 0.7672 - val_binary_accuracy: 0.5122\n",
      "Epoch 75/100\n",
      "491/491 [==============================] - 27s 55ms/step - loss: 0.6940 - binary_accuracy: 0.5788 - val_loss: 0.7123 - val_binary_accuracy: 0.5136\n",
      "Epoch 76/100\n",
      "491/491 [==============================] - 27s 56ms/step - loss: 0.6927 - binary_accuracy: 0.5715 - val_loss: 0.6969 - val_binary_accuracy: 0.5679\n",
      "Epoch 77/100\n",
      "491/491 [==============================] - 27s 56ms/step - loss: 0.6969 - binary_accuracy: 0.5773 - val_loss: 0.7110 - val_binary_accuracy: 0.5217\n",
      "Epoch 78/100\n",
      "491/491 [==============================] - 27s 55ms/step - loss: 0.6958 - binary_accuracy: 0.5769 - val_loss: 0.7066 - val_binary_accuracy: 0.5557\n",
      "Epoch 79/100\n",
      "491/491 [==============================] - 27s 56ms/step - loss: 0.6944 - binary_accuracy: 0.5846 - val_loss: 0.7066 - val_binary_accuracy: 0.5883\n",
      "Epoch 80/100\n",
      "491/491 [==============================] - 27s 55ms/step - loss: 0.6976 - binary_accuracy: 0.5733 - val_loss: 0.7142 - val_binary_accuracy: 0.5014\n",
      "Epoch 81/100\n",
      "491/491 [==============================] - 27s 55ms/step - loss: 0.6988 - binary_accuracy: 0.5638 - val_loss: 0.7120 - val_binary_accuracy: 0.5204\n",
      "Epoch 82/100\n",
      "491/491 [==============================] - 27s 56ms/step - loss: 0.6891 - binary_accuracy: 0.5831 - val_loss: 0.7107 - val_binary_accuracy: 0.5285\n",
      "Epoch 83/100\n",
      "491/491 [==============================] - 27s 55ms/step - loss: 0.7032 - binary_accuracy: 0.5619 - val_loss: 0.7123 - val_binary_accuracy: 0.5109\n",
      "Epoch 84/100\n",
      "491/491 [==============================] - 27s 56ms/step - loss: 0.6942 - binary_accuracy: 0.5800 - val_loss: 0.7086 - val_binary_accuracy: 0.4918\n",
      "Epoch 85/100\n",
      "491/491 [==============================] - 27s 56ms/step - loss: 0.6942 - binary_accuracy: 0.5740 - val_loss: 0.7075 - val_binary_accuracy: 0.5326\n",
      "Epoch 86/100\n",
      "491/491 [==============================] - 27s 56ms/step - loss: 0.6970 - binary_accuracy: 0.5593 - val_loss: 0.7455 - val_binary_accuracy: 0.5774\n",
      "Epoch 87/100\n",
      "491/491 [==============================] - 27s 56ms/step - loss: 0.6902 - binary_accuracy: 0.5707 - val_loss: 0.7094 - val_binary_accuracy: 0.5231\n",
      "Epoch 88/100\n",
      "491/491 [==============================] - 28s 57ms/step - loss: 0.6984 - binary_accuracy: 0.5502 - val_loss: 0.6978 - val_binary_accuracy: 0.5625\n",
      "Epoch 89/100\n",
      "491/491 [==============================] - 27s 55ms/step - loss: 0.6981 - binary_accuracy: 0.5522 - val_loss: 0.7069 - val_binary_accuracy: 0.4986\n",
      "Epoch 90/100\n",
      "491/491 [==============================] - 27s 56ms/step - loss: 0.6926 - binary_accuracy: 0.5649 - val_loss: 0.6964 - val_binary_accuracy: 0.5584\n",
      "Epoch 91/100\n",
      "491/491 [==============================] - 28s 56ms/step - loss: 0.6972 - binary_accuracy: 0.5600 - val_loss: 0.7023 - val_binary_accuracy: 0.5707\n",
      "Epoch 92/100\n",
      "491/491 [==============================] - 27s 56ms/step - loss: 0.6910 - binary_accuracy: 0.5813 - val_loss: 0.7055 - val_binary_accuracy: 0.5190\n",
      "Epoch 93/100\n",
      "491/491 [==============================] - 27s 55ms/step - loss: 0.6925 - binary_accuracy: 0.5772 - val_loss: 0.7129 - val_binary_accuracy: 0.5054\n",
      "Epoch 94/100\n",
      "491/491 [==============================] - 27s 55ms/step - loss: 0.6999 - binary_accuracy: 0.5507 - val_loss: 1.7386 - val_binary_accuracy: 0.4973\n",
      "Epoch 95/100\n",
      "491/491 [==============================] - 27s 55ms/step - loss: 0.6992 - binary_accuracy: 0.5514 - val_loss: 0.7231 - val_binary_accuracy: 0.5082\n",
      "Epoch 96/100\n",
      "491/491 [==============================] - 28s 57ms/step - loss: 0.6984 - binary_accuracy: 0.5521 - val_loss: 0.7060 - val_binary_accuracy: 0.5312\n",
      "Epoch 97/100\n",
      "491/491 [==============================] - 27s 56ms/step - loss: 0.6911 - binary_accuracy: 0.5684 - val_loss: 0.7030 - val_binary_accuracy: 0.4755\n",
      "Epoch 98/100\n",
      "491/491 [==============================] - 27s 56ms/step - loss: 0.6934 - binary_accuracy: 0.5493 - val_loss: 0.7782 - val_binary_accuracy: 0.5190\n",
      "Epoch 99/100\n",
      "491/491 [==============================] - 27s 55ms/step - loss: 0.6875 - binary_accuracy: 0.5806 - val_loss: 0.6944 - val_binary_accuracy: 0.5856\n",
      "Epoch 100/100\n",
      "491/491 [==============================] - 27s 56ms/step - loss: 0.6855 - binary_accuracy: 0.5854 - val_loss: 0.7589 - val_binary_accuracy: 0.5068\n",
      "Entrnamiento completado\n"
     ]
    }
   ],
   "source": [
    "# Train model on dataset\n",
    "with tf.device('/device:GPU:0'):\n",
    "    model = setModel()\n",
    "    # callback = tf.keras.callbacks.EarlyStopping(monitor='loss', patience=5)\n",
    "    history = model.fit(x=training_generator,\n",
    "                        validation_data=validation_generator,\n",
    "                        # callbacks=[callback],\n",
    "                        # use_multiprocessing=True,\n",
    "                        # workers=4,\n",
    "                        epochs=100,\n",
    "                        verbose=1)\n",
    "print(\"Entrnamiento completado\")"
   ]
  },
  {
   "cell_type": "code",
   "execution_count": 16,
   "metadata": {},
   "outputs": [
    {
     "name": "stderr",
     "output_type": "stream",
     "text": [
      "2022-05-20 13:30:13.303712: W tensorflow/python/util/util.cc:368] Sets are not currently considered sequences, but this may change in the future, so consider avoiding using them.\n"
     ]
    },
    {
     "name": "stdout",
     "output_type": "stream",
     "text": [
      "INFO:tensorflow:Assets written to: models/ClassifierModel-v5/assets\n"
     ]
    }
   ],
   "source": [
    "model.save('models/ClassifierModel-v5')"
   ]
  },
  {
   "cell_type": "markdown",
   "metadata": {},
   "source": [
    "### Resultados del entrenamiento"
   ]
  },
  {
   "cell_type": "code",
   "execution_count": 17,
   "metadata": {},
   "outputs": [],
   "source": [
    "import matplotlib.pyplot as plt\n",
    "import seaborn as sns\n",
    "sns.set_theme(style=\"darkgrid\")"
   ]
  },
  {
   "cell_type": "code",
   "execution_count": 18,
   "metadata": {},
   "outputs": [
    {
     "data": {
      "text/plain": [
       "dict_keys(['loss', 'binary_accuracy', 'val_loss', 'val_binary_accuracy'])"
      ]
     },
     "execution_count": 18,
     "metadata": {},
     "output_type": "execute_result"
    }
   ],
   "source": [
    "history.history.keys()"
   ]
  },
  {
   "cell_type": "code",
   "execution_count": 19,
   "metadata": {},
   "outputs": [],
   "source": [
    "acc = pd.DataFrame({'accuracy':history.history['binary_accuracy'], 'type':'train'}).reset_index().rename(columns={'index':'epoch'})\n",
    "acc = pd.concat([acc, pd.DataFrame({'accuracy':history.history['val_binary_accuracy'], 'type':'val'}).reset_index().rename(columns={'index':'epoch'})]).reset_index(drop=True)\n",
    "loss = pd.DataFrame({'loss':history.history['loss'], 'type':'train'}).reset_index().rename(columns={'index':'epoch'})\n",
    "loss = pd.concat([loss, pd.DataFrame({'loss':history.history['val_loss'], 'type':'val'}).reset_index().rename(columns={'index':'epoch'})]).reset_index(drop=True)"
   ]
  },
  {
   "cell_type": "code",
   "execution_count": 20,
   "metadata": {},
   "outputs": [
    {
     "data": {
      "image/png": "[encoded data removed]",
      "text/plain": [
       "<Figure size 1080x360 with 2 Axes>"
      ]
     },
     "metadata": {},
     "output_type": "display_data"
    }
   ],
   "source": [
    "fig, ax = plt.subplots(nrows=1, ncols=2, figsize=(15,5))\n",
    "sns.lineplot(x='epoch', y='accuracy', data=acc, hue='type', ax=ax[0])\n",
    "sns.lineplot(x='epoch', y='loss', data=loss, hue='type', ax=ax[1])\n",
    "fig.suptitle(\"Modelo v5\")\n",
    "plt.show()"
   ]
  },
  {
   "cell_type": "code",
   "execution_count": 21,
   "metadata": {},
   "outputs": [
    {
     "data": {
      "text/html": [
       "<div>\n",
       "<style scoped>\n",
       "    .dataframe tbody tr th:only-of-type {\n",
       "        vertical-align: middle;\n",
       "    }\n",
       "\n",
       "    .dataframe tbody tr th {\n",
       "        vertical-align: top;\n",
       "    }\n",
       "\n",
       "    .dataframe thead th {\n",
       "        text-align: right;\n",
       "    }\n",
       "</style>\n",
       "<table border=\"1\" class=\"dataframe\">\n",
       "  <thead>\n",
       "    <tr style=\"text-align: right;\">\n",
       "      <th></th>\n",
       "      <th>epoch</th>\n",
       "      <th>accuracy</th>\n",
       "      <th>type</th>\n",
       "    </tr>\n",
       "  </thead>\n",
       "  <tbody>\n",
       "    <tr>\n",
       "      <th>99</th>\n",
       "      <td>99</td>\n",
       "      <td>0.585412</td>\n",
       "      <td>train</td>\n",
       "    </tr>\n",
       "    <tr>\n",
       "      <th>199</th>\n",
       "      <td>99</td>\n",
       "      <td>0.506793</td>\n",
       "      <td>val</td>\n",
       "    </tr>\n",
       "  </tbody>\n",
       "</table>\n",
       "</div>"
      ],
      "text/plain": [
       "     epoch  accuracy   type\n",
       "99      99  0.585412  train\n",
       "199     99  0.506793    val"
      ]
     },
     "execution_count": 21,
     "metadata": {},
     "output_type": "execute_result"
    }
   ],
   "source": [
    "acc.loc[acc.epoch == acc.epoch.max()]"
   ]
  },
  {
   "cell_type": "code",
   "execution_count": 22,
   "metadata": {},
   "outputs": [
    {
     "data": {
      "text/html": [
       "<div>\n",
       "<style scoped>\n",
       "    .dataframe tbody tr th:only-of-type {\n",
       "        vertical-align: middle;\n",
       "    }\n",
       "\n",
       "    .dataframe tbody tr th {\n",
       "        vertical-align: top;\n",
       "    }\n",
       "\n",
       "    .dataframe thead th {\n",
       "        text-align: right;\n",
       "    }\n",
       "</style>\n",
       "<table border=\"1\" class=\"dataframe\">\n",
       "  <thead>\n",
       "    <tr style=\"text-align: right;\">\n",
       "      <th></th>\n",
       "      <th>epoch</th>\n",
       "      <th>loss</th>\n",
       "      <th>type</th>\n",
       "    </tr>\n",
       "  </thead>\n",
       "  <tbody>\n",
       "    <tr>\n",
       "      <th>99</th>\n",
       "      <td>99</td>\n",
       "      <td>0.685487</td>\n",
       "      <td>train</td>\n",
       "    </tr>\n",
       "    <tr>\n",
       "      <th>199</th>\n",
       "      <td>99</td>\n",
       "      <td>0.758928</td>\n",
       "      <td>val</td>\n",
       "    </tr>\n",
       "  </tbody>\n",
       "</table>\n",
       "</div>"
      ],
      "text/plain": [
       "     epoch      loss   type\n",
       "99      99  0.685487  train\n",
       "199     99  0.758928    val"
      ]
     },
     "execution_count": 22,
     "metadata": {},
     "output_type": "execute_result"
    }
   ],
   "source": [
    "loss.loc[loss.epoch == loss.epoch.max()]"
   ]
  },
  {
   "cell_type": "markdown",
   "metadata": {},
   "source": [
    "### Evaluación de datos de prueba"
   ]
  },
  {
   "cell_type": "code",
   "execution_count": 1,
   "metadata": {},
   "outputs": [
    {
     "name": "stdout",
     "output_type": "stream",
     "text": [
      "[nltk_data] Downloading package punkt to /home/melesio/nltk_data...\n",
      "[nltk_data]   Package punkt is already up-to-date!\n",
      "[nltk_data] Downloading package stopwords to\n",
      "[nltk_data]     /home/melesio/nltk_data...\n",
      "[nltk_data]   Package stopwords is already up-to-date!\n",
      "[nltk_data] Downloading package wordnet to /home/melesio/nltk_data...\n",
      "[nltk_data]   Package wordnet is already up-to-date!\n",
      "[nltk_data] Downloading package omw-1.4 to /home/melesio/nltk_data...\n",
      "[nltk_data]   Package omw-1.4 is already up-to-date!\n",
      "[nltk_data] Downloading package averaged_perceptron_tagger to\n",
      "[nltk_data]     /home/melesio/nltk_data...\n",
      "[nltk_data]   Package averaged_perceptron_tagger is already up-to-\n",
      "[nltk_data]       date!\n",
      "Leyendo archivo de configuracion\n",
      "Inicia la transformacion de texto\n",
      "Creando diccionario de documentos unicos\n",
      "Realizando preprocesamiento\n",
      "Etapa de pre-procesmiento\n",
      "Extrayendo vectores de caracteristicas\n",
      "Etapa de extraccion de caracteristicas\n",
      "Extraccion de vectores lexicos\n",
      "Realizando vectorizacion\n",
      "Guardando resultadosto 79\n",
      "Extraccion de vectores sintacticos\n",
      "Realizando vectorizacion\n",
      "Guardando resultados\n",
      "Extraccion de vectores semanticos\n",
      "Realizando vectorizacion\n",
      "Guardando resultados\n",
      "Obteniendo espectros de contenido\n",
      "Etapa de unificacion del espacio\n",
      "/home/melesio/Documentos/SpectralTextRepresentation/minisom/minisom.py:167: UserWarning: Warning: sigma is too high for the dimension of the map.\n",
      "  warn('Warning: sigma is too high for the dimension of the map.')\n",
      "Leyendo vectores lexicos\n",
      "Obteninendo espectros\n",
      "Leyendo vectores sintacticos\n",
      "Obteninendo espectros\n",
      "Leyendo vectores semanticos\n",
      "Obteninendo espectros\n",
      "Consolidando capas\n",
      "Etapa de consolidacion de capas\n",
      "Información guardada\n",
      "Ensamble terminado\n",
      "Cargando modelo\n",
      "2022-05-20 13:33:56.309139: I tensorflow/stream_executor/cuda/cuda_gpu_executor.cc:936] successful NUMA node read from SysFS had negative value (-1), but there must be at least one NUMA node, so returning NUMA node zero\n",
      "2022-05-20 13:33:56.331700: I tensorflow/stream_executor/cuda/cuda_gpu_executor.cc:936] successful NUMA node read from SysFS had negative value (-1), but there must be at least one NUMA node, so returning NUMA node zero\n",
      "2022-05-20 13:33:56.331846: I tensorflow/stream_executor/cuda/cuda_gpu_executor.cc:936] successful NUMA node read from SysFS had negative value (-1), but there must be at least one NUMA node, so returning NUMA node zero\n",
      "2022-05-20 13:33:56.332196: I tensorflow/core/platform/cpu_feature_guard.cc:151] This TensorFlow binary is optimized with oneAPI Deep Neural Network Library (oneDNN) to use the following CPU instructions in performance-critical operations:  AVX2 FMA\n",
      "To enable them in other operations, rebuild TensorFlow with the appropriate compiler flags.\n",
      "2022-05-20 13:33:56.332717: I tensorflow/stream_executor/cuda/cuda_gpu_executor.cc:936] successful NUMA node read from SysFS had negative value (-1), but there must be at least one NUMA node, so returning NUMA node zero\n",
      "2022-05-20 13:33:56.332833: I tensorflow/stream_executor/cuda/cuda_gpu_executor.cc:936] successful NUMA node read from SysFS had negative value (-1), but there must be at least one NUMA node, so returning NUMA node zero\n",
      "2022-05-20 13:33:56.332934: I tensorflow/stream_executor/cuda/cuda_gpu_executor.cc:936] successful NUMA node read from SysFS had negative value (-1), but there must be at least one NUMA node, so returning NUMA node zero\n",
      "2022-05-20 13:33:56.645479: I tensorflow/stream_executor/cuda/cuda_gpu_executor.cc:936] successful NUMA node read from SysFS had negative value (-1), but there must be at least one NUMA node, so returning NUMA node zero\n",
      "2022-05-20 13:33:56.645631: I tensorflow/stream_executor/cuda/cuda_gpu_executor.cc:936] successful NUMA node read from SysFS had negative value (-1), but there must be at least one NUMA node, so returning NUMA node zero\n",
      "2022-05-20 13:33:56.645726: I tensorflow/stream_executor/cuda/cuda_gpu_executor.cc:936] successful NUMA node read from SysFS had negative value (-1), but there must be at least one NUMA node, so returning NUMA node zero\n",
      "2022-05-20 13:33:56.645810: I tensorflow/core/common_runtime/gpu/gpu_device.cc:1525] Created device /job:localhost/replica:0/task:0/device:GPU:0 with 7724 MB memory:  -> device: 0, name: NVIDIA GeForce RTX 3080, pci bus id: 0000:01:00.0, compute capability: 8.6\n",
      "Realizando predicciones\n",
      "2022-05-20 13:33:58.046944: I tensorflow/stream_executor/cuda/cuda_blas.cc:1786] TensorFloat-32 will be used for the matrix multiplication. This will only be logged once.\n"
     ]
    }
   ],
   "source": [
    "!python PredictionsTest.py -i testinput -o testoutput/v5"
   ]
  },
  {
   "cell_type": "code",
   "execution_count": 2,
   "metadata": {},
   "outputs": [
    {
     "name": "stdout",
     "output_type": "stream",
     "text": [
      "-> 1070 problems in ground truth\n",
      "-> 1070 solutions explicitly proposed\n",
      "{'auc': 0.438, 'c@1': 0.499, 'f_05_u': 0.088, 'F1': 0.039, 'brier': 0.711, 'overall': 0.355}\n"
     ]
    }
   ],
   "source": [
    "!python pan22_verif_evaluator.py -i testinput -a testoutput/v5 -o testoutput/v5"
   ]
  }
 ],
 "metadata": {
  "interpreter": {
   "hash": "34185cc76f1746f7da7738a8f19ab6509177ea129d1668aef168b7e0e18c804f"
  },
  "kernelspec": {
   "display_name": "Python 3.9.12 ('base')",
   "language": "python",
   "name": "python3"
  },
  "language_info": {
   "codemirror_mode": {
    "name": "ipython",
    "version": 3
   },
   "file_extension": ".py",
   "mimetype": "text/x-python",
   "name": "python",
   "nbconvert_exporter": "python",
   "pygments_lexer": "ipython3",
   "version": "3.9.12"
  },
  "orig_nbformat": 4
 },
 "nbformat": 4,
 "nbformat_minor": 2
}
