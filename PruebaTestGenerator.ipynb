{
 "cells": [
  {
   "cell_type": "code",
   "execution_count": 1,
   "metadata": {},
   "outputs": [],
   "source": [
    "from myGenerator import TestGenerator\n",
    "import pandas as pd\n",
    "import json\n",
    "import numpy as np"
   ]
  },
  {
   "cell_type": "code",
   "execution_count": 2,
   "metadata": {},
   "outputs": [],
   "source": [
    "def spectraLoader(inputPath: str) -> pd.DataFrame:\n",
    "    df = pd.DataFrame()\n",
    "    with open(inputPath, encoding='utf-8') as f:\n",
    "        for line in f:\n",
    "            jsonline = json.loads(line)\n",
    "            lineDf = pd.DataFrame({'id':jsonline['id'], 'spectra':[np.array(jsonline['spectra'])]})\n",
    "            df = pd.concat([df, lineDf])\n",
    "    df = df.reset_index(drop=True)\n",
    "\n",
    "    return df"
   ]
  },
  {
   "cell_type": "code",
   "execution_count": 3,
   "metadata": {},
   "outputs": [],
   "source": [
    "test = pd.read_pickle(\"tmp/PanTest.plk\")\n",
    "full_spectra = spectraLoader('tmp/FullSpectra.jsonl')\n",
    "list_IDs = test.id.unique().tolist()"
   ]
  },
  {
   "cell_type": "code",
   "execution_count": 4,
   "metadata": {},
   "outputs": [
    {
     "data": {
      "text/plain": [
       "(80,)"
      ]
     },
     "execution_count": 4,
     "metadata": {},
     "output_type": "execute_result"
    }
   ],
   "source": [
    "test.idtext.unique().shape"
   ]
  },
  {
   "cell_type": "code",
   "execution_count": 5,
   "metadata": {},
   "outputs": [
    {
     "name": "stdout",
     "output_type": "stream",
     "text": [
      "1070.0\n",
      "(80, 2)\n",
      "1070\n"
     ]
    }
   ],
   "source": [
    "print(test.shape[0]/2)\n",
    "print(full_spectra.shape)\n",
    "print(len(list_IDs))\n"
   ]
  },
  {
   "cell_type": "code",
   "execution_count": 6,
   "metadata": {},
   "outputs": [
    {
     "data": {
      "text/plain": [
       "(3, 20, 20)"
      ]
     },
     "execution_count": 6,
     "metadata": {},
     "output_type": "execute_result"
    }
   ],
   "source": [
    "full_spectra.spectra[0].shape"
   ]
  },
  {
   "cell_type": "code",
   "execution_count": 7,
   "metadata": {},
   "outputs": [
    {
     "data": {
      "text/plain": [
       "356"
      ]
     },
     "execution_count": 7,
     "metadata": {},
     "output_type": "execute_result"
    }
   ],
   "source": [
    "\n",
    "params = {'dim': (400,),\n",
    "    'batch_size': 3}\n",
    "x = TestGenerator(list_IDs, test, full_spectra, **params)\n",
    "x.__len__()"
   ]
  },
  {
   "cell_type": "code",
   "execution_count": 8,
   "metadata": {},
   "outputs": [
    {
     "data": {
      "text/plain": [
       "(array([[0.05227315, 0.05582004, 0.05936424, ..., 0.06338031, 0.05962714,\n",
       "         0.0558533 ],\n",
       "        [0.06184945, 0.06640537, 0.07100566, ..., 0.06515949, 0.06094795,\n",
       "         0.05679216],\n",
       "        [0.05499554, 0.05874949, 0.06249575, ..., 0.0602979 , 0.05673597,\n",
       "         0.05316071]]),\n",
       " array([[0.05243937, 0.05582409, 0.05916587, ..., 0.05531412, 0.05220148,\n",
       "         0.04905502],\n",
       "        [0.06175036, 0.06642928, 0.07118971, ..., 0.06858398, 0.06408539,\n",
       "         0.05965142],\n",
       "        [0.05243937, 0.05582409, 0.05916587, ..., 0.05531412, 0.05220148,\n",
       "         0.04905502]]))"
      ]
     },
     "execution_count": 8,
     "metadata": {},
     "output_type": "execute_result"
    }
   ],
   "source": [
    "x.__getitem__(3)[0]"
   ]
  },
  {
   "cell_type": "code",
   "execution_count": 12,
   "metadata": {},
   "outputs": [
    {
     "data": {
      "text/plain": [
       "(array([[0.06175036, 0.06642928, 0.07118971, ..., 0.06858398, 0.06408539,\n",
       "         0.05965142],\n",
       "        [0.05243937, 0.05582409, 0.05916587, ..., 0.05531412, 0.05220148,\n",
       "         0.04905502],\n",
       "        [0.05499554, 0.05874949, 0.06249575, ..., 0.0602979 , 0.05673597,\n",
       "         0.05316071]]),\n",
       " array([[0.05116475, 0.0543617 , 0.05749842, ..., 0.05639078, 0.05313303,\n",
       "         0.04985589],\n",
       "        [0.01183729, 0.01228332, 0.01267768, ..., 0.01045735, 0.00992327,\n",
       "         0.00935442],\n",
       "        [0.06219704, 0.06700671, 0.07192437, ..., 0.06972629, 0.06514866,\n",
       "         0.06063408]]))"
      ]
     },
     "execution_count": 12,
     "metadata": {},
     "output_type": "execute_result"
    }
   ],
   "source": [
    "x.__getitem__(4)[0]"
   ]
  },
  {
   "cell_type": "code",
   "execution_count": 33,
   "metadata": {},
   "outputs": [
    {
     "data": {
      "text/plain": [
       "array([[False, False, False, ..., False, False, False],\n",
       "       [False, False, False, ..., False, False, False],\n",
       "       [False, False, False, ..., False, False, False]])"
      ]
     },
     "execution_count": 33,
     "metadata": {},
     "output_type": "execute_result"
    }
   ],
   "source": [
    "batch = x.__getitem__(50)[0]\n",
    "batch[0]==batch[1]"
   ]
  }
 ],
 "metadata": {
  "interpreter": {
   "hash": "34185cc76f1746f7da7738a8f19ab6509177ea129d1668aef168b7e0e18c804f"
  },
  "kernelspec": {
   "display_name": "Python 3.9.12 ('base')",
   "language": "python",
   "name": "python3"
  },
  "language_info": {
   "codemirror_mode": {
    "name": "ipython",
    "version": 3
   },
   "file_extension": ".py",
   "mimetype": "text/x-python",
   "name": "python",
   "nbconvert_exporter": "python",
   "pygments_lexer": "ipython3",
   "version": "3.9.12"
  },
  "orig_nbformat": 4
 },
 "nbformat": 4,
 "nbformat_minor": 2
}
