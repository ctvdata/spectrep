{
 "cells": [
  {
   "cell_type": "code",
   "execution_count": 1,
   "metadata": {},
   "outputs": [],
   "source": [
    "from myGenerator import TestGenerator\n",
    "import pandas as pd\n",
    "import json\n",
    "import numpy as np"
   ]
  },
  {
   "cell_type": "code",
   "execution_count": 2,
   "metadata": {},
   "outputs": [],
   "source": [
    "def spectraLoader(inputPath: str) -> pd.DataFrame:\n",
    "    df = pd.DataFrame()\n",
    "    with open(inputPath, encoding='utf-8') as f:\n",
    "        for line in f:\n",
    "            jsonline = json.loads(line)\n",
    "            lineDf = pd.DataFrame({'id':jsonline['id'], 'spectra':[np.array(jsonline['spectra'])]})\n",
    "            df = pd.concat([df, lineDf])\n",
    "    df = df.reset_index(drop=True)\n",
    "\n",
    "    return df"
   ]
  },
  {
   "cell_type": "code",
   "execution_count": 3,
   "metadata": {},
   "outputs": [],
   "source": [
    "test = pd.read_pickle(\"tmp/PanTest.plk\")\n",
    "full_spectra = spectraLoader('tmp/FullSpectra.jsonl')\n",
    "list_IDs = test.id.unique().tolist()"
   ]
  },
  {
   "cell_type": "code",
   "execution_count": 4,
   "metadata": {},
   "outputs": [
    {
     "data": {
      "text/plain": [
       "(80,)"
      ]
     },
     "execution_count": 4,
     "metadata": {},
     "output_type": "execute_result"
    }
   ],
   "source": [
    "test.idtext.unique().shape"
   ]
  },
  {
   "cell_type": "code",
   "execution_count": 5,
   "metadata": {},
   "outputs": [
    {
     "name": "stdout",
     "output_type": "stream",
     "text": [
      "1070.0\n",
      "(80, 2)\n",
      "1070\n"
     ]
    }
   ],
   "source": [
    "print(test.shape[0]/2)\n",
    "print(full_spectra.shape)\n",
    "print(len(list_IDs))\n"
   ]
  },
  {
   "cell_type": "code",
   "execution_count": 6,
   "metadata": {},
   "outputs": [
    {
     "data": {
      "text/plain": [
       "(3, 20, 20)"
      ]
     },
     "execution_count": 6,
     "metadata": {},
     "output_type": "execute_result"
    }
   ],
   "source": [
    "full_spectra.spectra[0].shape"
   ]
  },
  {
   "cell_type": "code",
   "execution_count": 32,
   "metadata": {},
   "outputs": [
    {
     "data": {
      "text/plain": [
       "356"
      ]
     },
     "execution_count": 32,
     "metadata": {},
     "output_type": "execute_result"
    }
   ],
   "source": [
    "\n",
    "params = {'dim': (1200,),\n",
    "    'batch_size': 3}\n",
    "x = TestGenerator(list_IDs, test, full_spectra, **params)\n",
    "x.__len__()"
   ]
  },
  {
   "cell_type": "code",
   "execution_count": 16,
   "metadata": {},
   "outputs": [
    {
     "data": {
      "text/plain": [
       "(array([[0.15246226, 0.15246724, 0.15247206, ..., 0.10410175, 0.10306609,\n",
       "         0.10192958],\n",
       "        [0.19510923, 0.19511451, 0.1951196 , ..., 0.18783833, 0.18359227,\n",
       "         0.17909551],\n",
       "        [0.17649008, 0.17648965, 0.17648904, ..., 0.11174673, 0.11029722,\n",
       "         0.10874657]]),\n",
       " array([[0.22696641, 0.22698736, 0.22700804, ..., 0.10326645, 0.10220364,\n",
       "         0.10104379],\n",
       "        [0.19849892, 0.19850916, 0.19851921, ..., 0.14364623, 0.14146663,\n",
       "         0.13910694],\n",
       "        [0.22696641, 0.22698736, 0.22700804, ..., 0.10326645, 0.10220364,\n",
       "         0.10104379]]))"
      ]
     },
     "execution_count": 16,
     "metadata": {},
     "output_type": "execute_result"
    }
   ],
   "source": [
    "x.__getitem__(3)[0]"
   ]
  },
  {
   "cell_type": "code",
   "execution_count": 43,
   "metadata": {},
   "outputs": [
    {
     "data": {
      "text/plain": [
       "(array([[6.94578460e-310, 4.66435100e-310, 0.00000000e+000, ...,\n",
       "         1.43886372e-001, 1.41774565e-001, 1.39476091e-001],\n",
       "        [4.75093525e-320, 4.75093525e-320, 3.20624225e-002, ...,\n",
       "         1.14421822e-001, 1.13191478e-001, 1.11837804e-001],\n",
       "        [1.10372111e-001, 1.08806022e-001, 0.00000000e+000, ...,\n",
       "         1.11564070e-001, 1.10952370e-001, 1.10199749e-001]]),\n",
       " array([[0.10716889, 0.1059292 , 0.        , ..., 0.        , 0.        ,\n",
       "         0.        ],\n",
       "        [0.        , 0.        , 0.        , ..., 0.        , 0.        ,\n",
       "         0.        ],\n",
       "        [0.        , 0.        , 0.        , ..., 0.        , 0.        ,\n",
       "         0.        ]]))"
      ]
     },
     "execution_count": 43,
     "metadata": {},
     "output_type": "execute_result"
    }
   ],
   "source": [
    "x.__getitem__(1000)[0]"
   ]
  },
  {
   "cell_type": "code",
   "execution_count": 10,
   "metadata": {},
   "outputs": [
    {
     "data": {
      "text/plain": [
       "array([[False, False, False, ..., False, False, False],\n",
       "       [False, False, False, ..., False, False, False],\n",
       "       [False, False, False, ..., False, False, False]])"
      ]
     },
     "execution_count": 10,
     "metadata": {},
     "output_type": "execute_result"
    }
   ],
   "source": [
    "batch = x.__getitem__(50)[0]\n",
    "batch[0]==batch[1]"
   ]
  }
 ],
 "metadata": {
  "interpreter": {
   "hash": "34185cc76f1746f7da7738a8f19ab6509177ea129d1668aef168b7e0e18c804f"
  },
  "kernelspec": {
   "display_name": "Python 3.9.12 ('base')",
   "language": "python",
   "name": "python3"
  },
  "language_info": {
   "codemirror_mode": {
    "name": "ipython",
    "version": 3
   },
   "file_extension": ".py",
   "mimetype": "text/x-python",
   "name": "python",
   "nbconvert_exporter": "python",
   "pygments_lexer": "ipython3",
   "version": "3.9.12"
  },
  "orig_nbformat": 4
 },
 "nbformat": 4,
 "nbformat_minor": 2
}
