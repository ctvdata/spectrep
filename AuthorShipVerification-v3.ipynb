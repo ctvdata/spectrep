{
 "cells": [
  {
   "cell_type": "code",
   "execution_count": 1,
   "metadata": {},
   "outputs": [],
   "source": [
    "import numpy as np\n",
    "import pandas as pd\n",
    "import tensorflow as tf\n",
    "import json\n",
    "from myGenerator import DataGenerator"
   ]
  },
  {
   "cell_type": "markdown",
   "metadata": {},
   "source": [
    "### Carga de datos"
   ]
  },
  {
   "cell_type": "code",
   "execution_count": 13,
   "metadata": {},
   "outputs": [],
   "source": [
    "train = pd.read_pickle(\"pan22-authorship-verification-training-dataset/particionesXid/PanTrain.plk\")\n",
    "val = pd.read_pickle(\"pan22-authorship-verification-training-dataset/particionesXid/PanVal.plk\")"
   ]
  },
  {
   "cell_type": "code",
   "execution_count": 14,
   "metadata": {},
   "outputs": [],
   "source": [
    "def spectraLoader(inputPath: str) -> pd.DataFrame:\n",
    "    df = pd.DataFrame()\n",
    "    with open(inputPath, encoding='utf-8') as f:\n",
    "        for line in f:\n",
    "            jsonline = json.loads(line)\n",
    "            lineDf = pd.DataFrame({'id':jsonline['id'], 'spectra':[np.array(jsonline['spectra'])]})\n",
    "            df = pd.concat([df, lineDf])\n",
    "    df = df.reset_index(drop=True)\n",
    "\n",
    "    return df"
   ]
  },
  {
   "cell_type": "code",
   "execution_count": 15,
   "metadata": {},
   "outputs": [],
   "source": [
    "full_spectra = spectraLoader(\"pan22-authorship-verification-training-dataset/particionesXid/FullSpectra.jsonl\")"
   ]
  },
  {
   "cell_type": "code",
   "execution_count": 16,
   "metadata": {},
   "outputs": [],
   "source": [
    "def loadLabels(inputPath:str, labelDict:dict) -> dict:\n",
    "    with open(inputPath, encoding='utf-8') as f:\n",
    "        for line in f:\n",
    "            jsonline = json.loads(line)\n",
    "            labelDict[jsonline['id']] = 1 if jsonline['value'] else 0\n",
    "        \n",
    "    return labelDict"
   ]
  },
  {
   "cell_type": "code",
   "execution_count": 17,
   "metadata": {},
   "outputs": [],
   "source": [
    "labels = dict()\n",
    "labels = loadLabels('pan22-authorship-verification-training-dataset/particiones/train_truth.jsonl',labels)\n",
    "labels = loadLabels('pan22-authorship-verification-training-dataset/particiones/val_truth.jsonl',labels)"
   ]
  },
  {
   "cell_type": "code",
   "execution_count": 18,
   "metadata": {},
   "outputs": [
    {
     "name": "stdout",
     "output_type": "stream",
     "text": [
      "Instances: 16486.0\n",
      "Labels:  16486\n"
     ]
    }
   ],
   "source": [
    "print(\"Instances: {}\".format((train.shape[0] + val.shape[0])/2))\n",
    "print(\"Labels: \",len(labels))"
   ]
  },
  {
   "cell_type": "code",
   "execution_count": 19,
   "metadata": {},
   "outputs": [],
   "source": [
    "partition = {'train': train.id.unique().tolist(), 'validation': val.id.unique().tolist()}"
   ]
  },
  {
   "cell_type": "code",
   "execution_count": 20,
   "metadata": {},
   "outputs": [
    {
     "name": "stdout",
     "output_type": "stream",
     "text": [
      "Train:  15732\n",
      "Validation:  754\n",
      "Total:  16486\n"
     ]
    }
   ],
   "source": [
    "print(\"Train: \", len(partition['train']))\n",
    "print(\"Validation: \", len(partition['validation']))\n",
    "print(\"Total: \", len(partition['train'])+len(partition['validation']))"
   ]
  },
  {
   "cell_type": "markdown",
   "metadata": {},
   "source": [
    "### Definición de la arquitectura del modelo"
   ]
  },
  {
   "cell_type": "code",
   "execution_count": 21,
   "metadata": {},
   "outputs": [],
   "source": [
    "# Modelo de red siamesa utilizando una red residual y un perceptron multicapa SIN CAPAS CUSTOM\n",
    "\n",
    "def setModel():\n",
    "    x1 = tf.keras.Input(shape=(1200,), name=\"input_1\")\n",
    "    x2 = tf.keras.Input(shape=(1200,), name=\"input_2\")\n",
    "\n",
    "    # Batch normalization\n",
    "    # bn_layer = tf.keras.layers.BatchNormalization(name=\"Batch_normalization\")\n",
    "    # x1 = bn_layer(x1)\n",
    "    # x2 = bn_layer(x2)\n",
    "\n",
    "    # # Gaussian noise\n",
    "    # gaussian_noise_layer = tf.keras.layers.GaussianNoise(1.0, name=\"Gaussian_noise\")\n",
    "    # x1 = gaussian_noise_layer(x1)\n",
    "    # x2 = gaussian_noise_layer(x2)\n",
    "\n",
    "    # # Dropout\n",
    "    # dropout_layer = tf.keras.layers.Dropout(0.4, name=\"Dropout_1\")\n",
    "    # x1 = dropout_layer(x1)\n",
    "    # x2 = dropout_layer(x2)\n",
    "\n",
    "    # Residual network\n",
    "    dense_layer_1 = tf.keras.layers.Dense(600, activation='relu', name=\"resdense_1\")\n",
    "    o1_1 = dense_layer_1(x1)\n",
    "    o1_2 = dense_layer_1(x2)\n",
    "\n",
    "    dense_layer_2 = tf.keras.layers.Dense(600, activation='relu', name=\"resdense_2\")\n",
    "    o2_1 = dense_layer_2(o1_1)\n",
    "    o2_2 = dense_layer_2(o1_2)\n",
    "\n",
    "    # Residual layer\n",
    "    dense_layer_3 = tf.keras.layers.Dense(600, activation='relu', name=\"resdense_3\")\n",
    "    o3_1 = dense_layer_3(tf.subtract(o1_1, o2_1))\n",
    "    o3_2 = dense_layer_3(tf.subtract(o1_2, o2_2))\n",
    "\n",
    "    # dense_layer_4 = tf.keras.layers.Dense(256, activation='relu', name=\"resdense_4\")\n",
    "    # o4_1 = dense_layer_4(o3_1)\n",
    "    # o4_2 = dense_layer_4(o3_2)\n",
    "\n",
    "    # # Residual layer\n",
    "    # dense_layer_5 = tf.keras.layers.Dense(256, activation='relu', name=\"resdense_5\")\n",
    "    # o5_1 = dense_layer_5(tf.subtract(o3_1, o4_1))\n",
    "    # o5_2 = dense_layer_5(tf.subtract(o3_2, o4_2))\n",
    "\n",
    "    # dense_layer_6 = tf.keras.layers.Dense(256, activation='relu', name=\"resdense_6\")\n",
    "    # o6_1 = dense_layer_6(o5_1)\n",
    "    # o6_2 = dense_layer_6(o5_2)\n",
    "\n",
    "    # # Residual layer\n",
    "    # dense_layer_7 = tf.keras.layers.Dense(256, activation='relu', name=\"resdense_7\")\n",
    "    # o7_1 = dense_layer_7(tf.subtract(o5_1, o6_1))\n",
    "    # o7_2 = dense_layer_7(tf.subtract(o5_2, o6_2))\n",
    "\n",
    "    # dense_layer_8 = tf.keras.layers.Dense(256, activation='relu', name=\"resdense_8\")\n",
    "    # o8_1 = dense_layer_8(o7_1)\n",
    "    # o8_2 = dense_layer_8(o7_2)\n",
    "\n",
    "    # # Residual layer\n",
    "    # dense_layer_9 = tf.keras.layers.Dense(256, activation='relu', name=\"resdense_9\")\n",
    "    # o9_1 = dense_layer_9(tf.subtract(o7_1, o8_1))\n",
    "    # o9_2 = dense_layer_9(tf.subtract(o7_2, o8_2))\n",
    "\n",
    "    # Merging\n",
    "    # merge = tf.math.abs(tf.subtract(o9_1,o9_2))\n",
    "    merge = tf.math.abs(tf.subtract(o3_1,o3_2))\n",
    "\n",
    "    # MLPNN Classifier\n",
    "    hidden = tf.keras.layers.Dense(300, activation='relu', name=\"hidden_layer\")(merge)\n",
    "    dropout_layer2 = tf.keras.layers.Dropout(0.4, name=\"Dropout_2\")(hidden)\n",
    "    output = tf.keras.layers.Dense(1, activation=\"sigmoid\", name=\"output_layer\")(dropout_layer2)\n",
    "\n",
    "    model = tf.keras.Model([x1, x2], output)\n",
    "    model.compile(loss = 'binary_crossentropy', optimizer = \"adam\", metrics=[\"binary_accuracy\"])\n",
    "\n",
    "    return model"
   ]
  },
  {
   "cell_type": "code",
   "execution_count": 22,
   "metadata": {},
   "outputs": [
    {
     "name": "stdout",
     "output_type": "stream",
     "text": [
      "Model: \"model_1\"\n",
      "__________________________________________________________________________________________________\n",
      " Layer (type)                   Output Shape         Param #     Connected to                     \n",
      "==================================================================================================\n",
      " input_1 (InputLayer)           [(None, 1200)]       0           []                               \n",
      "                                                                                                  \n",
      " input_2 (InputLayer)           [(None, 1200)]       0           []                               \n",
      "                                                                                                  \n",
      " resdense_1 (Dense)             (None, 600)          720600      ['input_1[0][0]',                \n",
      "                                                                  'input_2[0][0]']                \n",
      "                                                                                                  \n",
      " resdense_2 (Dense)             (None, 600)          360600      ['resdense_1[0][0]',             \n",
      "                                                                  'resdense_1[1][0]']             \n",
      "                                                                                                  \n",
      " tf.math.subtract_3 (TFOpLambda  (None, 600)         0           ['resdense_1[0][0]',             \n",
      " )                                                                'resdense_2[0][0]']             \n",
      "                                                                                                  \n",
      " tf.math.subtract_4 (TFOpLambda  (None, 600)         0           ['resdense_1[1][0]',             \n",
      " )                                                                'resdense_2[1][0]']             \n",
      "                                                                                                  \n",
      " resdense_3 (Dense)             (None, 600)          360600      ['tf.math.subtract_3[0][0]',     \n",
      "                                                                  'tf.math.subtract_4[0][0]']     \n",
      "                                                                                                  \n",
      " tf.math.subtract_5 (TFOpLambda  (None, 600)         0           ['resdense_3[0][0]',             \n",
      " )                                                                'resdense_3[1][0]']             \n",
      "                                                                                                  \n",
      " tf.math.abs_1 (TFOpLambda)     (None, 600)          0           ['tf.math.subtract_5[0][0]']     \n",
      "                                                                                                  \n",
      " hidden_layer (Dense)           (None, 300)          180300      ['tf.math.abs_1[0][0]']          \n",
      "                                                                                                  \n",
      " Dropout_2 (Dropout)            (None, 300)          0           ['hidden_layer[0][0]']           \n",
      "                                                                                                  \n",
      " output_layer (Dense)           (None, 1)            301         ['Dropout_2[0][0]']              \n",
      "                                                                                                  \n",
      "==================================================================================================\n",
      "Total params: 1,622,401\n",
      "Trainable params: 1,622,401\n",
      "Non-trainable params: 0\n",
      "__________________________________________________________________________________________________\n"
     ]
    }
   ],
   "source": [
    "model = setModel()\n",
    "model.summary()"
   ]
  },
  {
   "cell_type": "markdown",
   "metadata": {},
   "source": [
    "### Entrenamiento del modelo"
   ]
  },
  {
   "cell_type": "code",
   "execution_count": 23,
   "metadata": {},
   "outputs": [],
   "source": [
    "# Parameters\n",
    "params = {'dim': (1200,),\n",
    "            'batch_size': 256,\n",
    "            'shuffle': True}"
   ]
  },
  {
   "cell_type": "code",
   "execution_count": 24,
   "metadata": {},
   "outputs": [],
   "source": [
    "# Generators\n",
    "training_generator = DataGenerator(partition['train'], train, labels, full_spectra, **params)\n",
    "validation_generator = DataGenerator(partition['validation'], val, labels, full_spectra, **params)"
   ]
  },
  {
   "cell_type": "code",
   "execution_count": 25,
   "metadata": {},
   "outputs": [
    {
     "name": "stderr",
     "output_type": "stream",
     "text": [
      "2022-05-19 11:49:53.832121: I tensorflow/stream_executor/cuda/cuda_gpu_executor.cc:936] successful NUMA node read from SysFS had negative value (-1), but there must be at least one NUMA node, so returning NUMA node zero\n",
      "2022-05-19 11:49:53.832290: I tensorflow/stream_executor/cuda/cuda_gpu_executor.cc:936] successful NUMA node read from SysFS had negative value (-1), but there must be at least one NUMA node, so returning NUMA node zero\n",
      "2022-05-19 11:49:53.832372: I tensorflow/stream_executor/cuda/cuda_gpu_executor.cc:936] successful NUMA node read from SysFS had negative value (-1), but there must be at least one NUMA node, so returning NUMA node zero\n",
      "2022-05-19 11:49:53.832484: I tensorflow/stream_executor/cuda/cuda_gpu_executor.cc:936] successful NUMA node read from SysFS had negative value (-1), but there must be at least one NUMA node, so returning NUMA node zero\n",
      "2022-05-19 11:49:53.832567: I tensorflow/stream_executor/cuda/cuda_gpu_executor.cc:936] successful NUMA node read from SysFS had negative value (-1), but there must be at least one NUMA node, so returning NUMA node zero\n",
      "2022-05-19 11:49:53.832627: I tensorflow/core/common_runtime/gpu/gpu_device.cc:1525] Created device /device:GPU:0 with 7775 MB memory:  -> device: 0, name: NVIDIA GeForce RTX 3080, pci bus id: 0000:01:00.0, compute capability: 8.6\n"
     ]
    },
    {
     "data": {
      "text/plain": [
       "'/device:GPU:0'"
      ]
     },
     "execution_count": 25,
     "metadata": {},
     "output_type": "execute_result"
    }
   ],
   "source": [
    "tf.test.gpu_device_name()"
   ]
  },
  {
   "cell_type": "code",
   "execution_count": 26,
   "metadata": {},
   "outputs": [
    {
     "name": "stdout",
     "output_type": "stream",
     "text": [
      "Epoch 1/100\n",
      " 1/61 [..............................] - ETA: 1:20 - loss: 0.6900 - binary_accuracy: 0.4844"
     ]
    },
    {
     "name": "stderr",
     "output_type": "stream",
     "text": [
      "2022-05-19 11:49:55.784170: I tensorflow/stream_executor/cuda/cuda_blas.cc:1786] TensorFloat-32 will be used for the matrix multiplication. This will only be logged once.\n"
     ]
    },
    {
     "name": "stdout",
     "output_type": "stream",
     "text": [
      "61/61 [==============================] - 26s 418ms/step - loss: 0.6798 - binary_accuracy: 0.5695 - val_loss: 0.6849 - val_binary_accuracy: 0.5938\n",
      "Epoch 2/100\n",
      "61/61 [==============================] - 26s 430ms/step - loss: 0.6495 - binary_accuracy: 0.6088 - val_loss: 0.6650 - val_binary_accuracy: 0.6094\n",
      "Epoch 3/100\n",
      "61/61 [==============================] - 25s 417ms/step - loss: 0.6245 - binary_accuracy: 0.6453 - val_loss: 0.6797 - val_binary_accuracy: 0.5664\n",
      "Epoch 4/100\n",
      "61/61 [==============================] - 26s 422ms/step - loss: 0.6002 - binary_accuracy: 0.6733 - val_loss: 0.7071 - val_binary_accuracy: 0.6035\n",
      "Epoch 5/100\n",
      "61/61 [==============================] - 26s 423ms/step - loss: 0.5852 - binary_accuracy: 0.6867 - val_loss: 0.6794 - val_binary_accuracy: 0.6074\n",
      "Epoch 6/100\n",
      "61/61 [==============================] - 26s 423ms/step - loss: 0.5602 - binary_accuracy: 0.7100 - val_loss: 0.7490 - val_binary_accuracy: 0.5586\n",
      "Epoch 7/100\n",
      "61/61 [==============================] - 26s 423ms/step - loss: 0.5379 - binary_accuracy: 0.7355 - val_loss: 0.8230 - val_binary_accuracy: 0.5469\n",
      "Epoch 8/100\n",
      "61/61 [==============================] - 26s 425ms/step - loss: 0.5299 - binary_accuracy: 0.7382 - val_loss: 0.7324 - val_binary_accuracy: 0.5527\n",
      "Epoch 9/100\n",
      "61/61 [==============================] - 26s 428ms/step - loss: 0.5186 - binary_accuracy: 0.7480 - val_loss: 0.8278 - val_binary_accuracy: 0.5410\n",
      "Epoch 10/100\n",
      "61/61 [==============================] - 26s 427ms/step - loss: 0.5022 - binary_accuracy: 0.7590 - val_loss: 0.8423 - val_binary_accuracy: 0.6035\n",
      "Epoch 11/100\n",
      "61/61 [==============================] - 26s 421ms/step - loss: 0.4901 - binary_accuracy: 0.7703 - val_loss: 0.9046 - val_binary_accuracy: 0.5332\n",
      "Epoch 12/100\n",
      "61/61 [==============================] - 26s 424ms/step - loss: 0.4885 - binary_accuracy: 0.7731 - val_loss: 0.7938 - val_binary_accuracy: 0.5840\n",
      "Epoch 13/100\n",
      "61/61 [==============================] - 26s 425ms/step - loss: 0.4657 - binary_accuracy: 0.7854 - val_loss: 0.8259 - val_binary_accuracy: 0.5625\n",
      "Epoch 14/100\n",
      "61/61 [==============================] - 26s 422ms/step - loss: 0.4774 - binary_accuracy: 0.7765 - val_loss: 0.9046 - val_binary_accuracy: 0.5879\n",
      "Epoch 15/100\n",
      "61/61 [==============================] - 26s 422ms/step - loss: 0.4668 - binary_accuracy: 0.7811 - val_loss: 0.9875 - val_binary_accuracy: 0.5703\n",
      "Epoch 16/100\n",
      "61/61 [==============================] - 26s 423ms/step - loss: 0.4468 - binary_accuracy: 0.7979 - val_loss: 0.9051 - val_binary_accuracy: 0.5723\n",
      "Epoch 17/100\n",
      "61/61 [==============================] - 26s 419ms/step - loss: 0.4683 - binary_accuracy: 0.7817 - val_loss: 0.8246 - val_binary_accuracy: 0.5840\n",
      "Epoch 18/100\n",
      "61/61 [==============================] - 26s 424ms/step - loss: 0.4438 - binary_accuracy: 0.7980 - val_loss: 1.0238 - val_binary_accuracy: 0.5273\n",
      "Epoch 19/100\n",
      "61/61 [==============================] - 26s 422ms/step - loss: 0.4354 - binary_accuracy: 0.8037 - val_loss: 1.0246 - val_binary_accuracy: 0.5059\n",
      "Epoch 20/100\n",
      "61/61 [==============================] - 26s 424ms/step - loss: 0.4357 - binary_accuracy: 0.8033 - val_loss: 1.0510 - val_binary_accuracy: 0.5352\n",
      "Epoch 21/100\n",
      "61/61 [==============================] - 26s 422ms/step - loss: 0.4068 - binary_accuracy: 0.8235 - val_loss: 1.0473 - val_binary_accuracy: 0.5547\n",
      "Epoch 22/100\n",
      "61/61 [==============================] - 26s 419ms/step - loss: 0.4038 - binary_accuracy: 0.8218 - val_loss: 0.9013 - val_binary_accuracy: 0.5684\n",
      "Epoch 23/100\n",
      "61/61 [==============================] - 26s 422ms/step - loss: 0.4018 - binary_accuracy: 0.8227 - val_loss: 0.9233 - val_binary_accuracy: 0.5820\n",
      "Epoch 24/100\n",
      "61/61 [==============================] - 26s 423ms/step - loss: 0.3908 - binary_accuracy: 0.8279 - val_loss: 1.0964 - val_binary_accuracy: 0.5098\n",
      "Epoch 25/100\n",
      "61/61 [==============================] - 26s 428ms/step - loss: 0.3827 - binary_accuracy: 0.8326 - val_loss: 1.0324 - val_binary_accuracy: 0.5625\n",
      "Epoch 26/100\n",
      "61/61 [==============================] - 26s 426ms/step - loss: 0.3841 - binary_accuracy: 0.8294 - val_loss: 1.1178 - val_binary_accuracy: 0.5273\n",
      "Epoch 27/100\n",
      "61/61 [==============================] - 26s 427ms/step - loss: 0.3743 - binary_accuracy: 0.8394 - val_loss: 1.0228 - val_binary_accuracy: 0.5801\n",
      "Epoch 28/100\n",
      "61/61 [==============================] - 26s 427ms/step - loss: 0.3582 - binary_accuracy: 0.8480 - val_loss: 1.0650 - val_binary_accuracy: 0.5723\n",
      "Epoch 29/100\n",
      "61/61 [==============================] - 26s 421ms/step - loss: 0.3635 - binary_accuracy: 0.8447 - val_loss: 0.9846 - val_binary_accuracy: 0.5488\n",
      "Epoch 30/100\n",
      "61/61 [==============================] - 26s 428ms/step - loss: 0.3615 - binary_accuracy: 0.8430 - val_loss: 1.1244 - val_binary_accuracy: 0.5508\n",
      "Epoch 31/100\n",
      "61/61 [==============================] - 26s 423ms/step - loss: 0.3478 - binary_accuracy: 0.8548 - val_loss: 1.2650 - val_binary_accuracy: 0.5098\n",
      "Epoch 32/100\n",
      "61/61 [==============================] - 26s 424ms/step - loss: 0.3459 - binary_accuracy: 0.8551 - val_loss: 1.1566 - val_binary_accuracy: 0.5664\n",
      "Epoch 33/100\n",
      "61/61 [==============================] - 26s 427ms/step - loss: 0.3421 - binary_accuracy: 0.8528 - val_loss: 1.0568 - val_binary_accuracy: 0.5625\n",
      "Epoch 34/100\n",
      "61/61 [==============================] - 26s 423ms/step - loss: 0.3243 - binary_accuracy: 0.8640 - val_loss: 1.1257 - val_binary_accuracy: 0.5488\n",
      "Epoch 35/100\n",
      "61/61 [==============================] - 26s 427ms/step - loss: 0.3332 - binary_accuracy: 0.8617 - val_loss: 1.3307 - val_binary_accuracy: 0.5215\n",
      "Epoch 36/100\n",
      "61/61 [==============================] - 26s 423ms/step - loss: 0.3260 - binary_accuracy: 0.8659 - val_loss: 1.1081 - val_binary_accuracy: 0.5371\n",
      "Epoch 37/100\n",
      "61/61 [==============================] - 26s 419ms/step - loss: 0.3283 - binary_accuracy: 0.8626 - val_loss: 1.0936 - val_binary_accuracy: 0.5508\n",
      "Epoch 38/100\n",
      "61/61 [==============================] - 26s 426ms/step - loss: 0.3324 - binary_accuracy: 0.8619 - val_loss: 1.2075 - val_binary_accuracy: 0.5312\n",
      "Epoch 39/100\n",
      "61/61 [==============================] - 26s 422ms/step - loss: 0.2998 - binary_accuracy: 0.8788 - val_loss: 1.1045 - val_binary_accuracy: 0.5586\n",
      "Epoch 40/100\n",
      "61/61 [==============================] - 26s 422ms/step - loss: 0.2995 - binary_accuracy: 0.8753 - val_loss: 1.5352 - val_binary_accuracy: 0.4824\n",
      "Epoch 41/100\n",
      "61/61 [==============================] - 25s 413ms/step - loss: 0.2931 - binary_accuracy: 0.8784 - val_loss: 1.5005 - val_binary_accuracy: 0.5020\n",
      "Epoch 42/100\n",
      "61/61 [==============================] - 25s 414ms/step - loss: 0.2853 - binary_accuracy: 0.8829 - val_loss: 1.3355 - val_binary_accuracy: 0.5039\n",
      "Epoch 43/100\n",
      "61/61 [==============================] - 25s 417ms/step - loss: 0.2782 - binary_accuracy: 0.8870 - val_loss: 1.3364 - val_binary_accuracy: 0.5137\n",
      "Epoch 44/100\n",
      "61/61 [==============================] - 25s 412ms/step - loss: 0.2816 - binary_accuracy: 0.8841 - val_loss: 1.1095 - val_binary_accuracy: 0.5547\n",
      "Epoch 45/100\n",
      "61/61 [==============================] - 25s 414ms/step - loss: 0.2825 - binary_accuracy: 0.8849 - val_loss: 1.2165 - val_binary_accuracy: 0.5332\n",
      "Epoch 46/100\n",
      "61/61 [==============================] - 26s 420ms/step - loss: 0.2816 - binary_accuracy: 0.8854 - val_loss: 1.4191 - val_binary_accuracy: 0.5156\n",
      "Epoch 47/100\n",
      "61/61 [==============================] - 25s 411ms/step - loss: 0.2739 - binary_accuracy: 0.8902 - val_loss: 1.4491 - val_binary_accuracy: 0.4941\n",
      "Epoch 48/100\n",
      "61/61 [==============================] - 25s 415ms/step - loss: 0.2552 - binary_accuracy: 0.8966 - val_loss: 1.4249 - val_binary_accuracy: 0.4707\n",
      "Epoch 49/100\n",
      "61/61 [==============================] - 26s 423ms/step - loss: 0.2406 - binary_accuracy: 0.9068 - val_loss: 1.2876 - val_binary_accuracy: 0.5566\n",
      "Epoch 50/100\n",
      "61/61 [==============================] - 25s 412ms/step - loss: 0.2614 - binary_accuracy: 0.8965 - val_loss: 1.2119 - val_binary_accuracy: 0.5371\n",
      "Epoch 51/100\n",
      "61/61 [==============================] - 25s 412ms/step - loss: 0.2427 - binary_accuracy: 0.9069 - val_loss: 1.4289 - val_binary_accuracy: 0.5508\n",
      "Epoch 52/100\n",
      "61/61 [==============================] - 25s 415ms/step - loss: 0.2375 - binary_accuracy: 0.9073 - val_loss: 1.4803 - val_binary_accuracy: 0.5273\n",
      "Epoch 53/100\n",
      "61/61 [==============================] - 25s 415ms/step - loss: 0.2271 - binary_accuracy: 0.9102 - val_loss: 1.4079 - val_binary_accuracy: 0.5430\n",
      "Epoch 54/100\n",
      "61/61 [==============================] - 25s 415ms/step - loss: 0.2214 - binary_accuracy: 0.9103 - val_loss: 1.5811 - val_binary_accuracy: 0.5117\n",
      "Epoch 55/100\n",
      "61/61 [==============================] - 26s 418ms/step - loss: 0.2141 - binary_accuracy: 0.9153 - val_loss: 1.4911 - val_binary_accuracy: 0.5527\n",
      "Epoch 56/100\n",
      "61/61 [==============================] - 25s 417ms/step - loss: 0.2415 - binary_accuracy: 0.9046 - val_loss: 1.4453 - val_binary_accuracy: 0.5273\n",
      "Epoch 57/100\n",
      "61/61 [==============================] - 25s 411ms/step - loss: 0.2126 - binary_accuracy: 0.9174 - val_loss: 1.3536 - val_binary_accuracy: 0.5469\n",
      "Epoch 58/100\n",
      "61/61 [==============================] - 25s 412ms/step - loss: 0.2042 - binary_accuracy: 0.9215 - val_loss: 1.4789 - val_binary_accuracy: 0.5508\n",
      "Epoch 59/100\n",
      "61/61 [==============================] - 25s 416ms/step - loss: 0.1938 - binary_accuracy: 0.9260 - val_loss: 1.4388 - val_binary_accuracy: 0.5293\n",
      "Epoch 60/100\n",
      "61/61 [==============================] - 25s 411ms/step - loss: 0.1986 - binary_accuracy: 0.9226 - val_loss: 1.6515 - val_binary_accuracy: 0.5430\n",
      "Epoch 61/100\n",
      "61/61 [==============================] - 25s 417ms/step - loss: 0.1963 - binary_accuracy: 0.9248 - val_loss: 1.5865 - val_binary_accuracy: 0.5254\n",
      "Epoch 62/100\n",
      "61/61 [==============================] - 25s 415ms/step - loss: 0.1920 - binary_accuracy: 0.9271 - val_loss: 1.5960 - val_binary_accuracy: 0.5352\n",
      "Epoch 63/100\n",
      "61/61 [==============================] - 25s 412ms/step - loss: 0.1905 - binary_accuracy: 0.9270 - val_loss: 1.5862 - val_binary_accuracy: 0.5371\n",
      "Epoch 64/100\n",
      "61/61 [==============================] - 25s 416ms/step - loss: 0.1911 - binary_accuracy: 0.9249 - val_loss: 1.6057 - val_binary_accuracy: 0.5488\n",
      "Epoch 65/100\n",
      "61/61 [==============================] - 25s 414ms/step - loss: 0.1938 - binary_accuracy: 0.9266 - val_loss: 1.6975 - val_binary_accuracy: 0.5098\n",
      "Epoch 66/100\n",
      "61/61 [==============================] - 25s 414ms/step - loss: 0.1992 - binary_accuracy: 0.9227 - val_loss: 1.5890 - val_binary_accuracy: 0.5234\n",
      "Epoch 67/100\n",
      "61/61 [==============================] - 25s 414ms/step - loss: 0.1680 - binary_accuracy: 0.9368 - val_loss: 1.5310 - val_binary_accuracy: 0.5312\n",
      "Epoch 68/100\n",
      "61/61 [==============================] - 25s 414ms/step - loss: 0.1714 - binary_accuracy: 0.9362 - val_loss: 1.5106 - val_binary_accuracy: 0.5195\n",
      "Epoch 69/100\n",
      "61/61 [==============================] - 25s 411ms/step - loss: 0.1963 - binary_accuracy: 0.9228 - val_loss: 1.4680 - val_binary_accuracy: 0.5430\n",
      "Epoch 70/100\n",
      "61/61 [==============================] - 25s 410ms/step - loss: 0.1761 - binary_accuracy: 0.9334 - val_loss: 1.7285 - val_binary_accuracy: 0.5430\n",
      "Epoch 71/100\n",
      "61/61 [==============================] - 25s 409ms/step - loss: 0.1524 - binary_accuracy: 0.9452 - val_loss: 1.8497 - val_binary_accuracy: 0.5293\n",
      "Epoch 72/100\n",
      "61/61 [==============================] - 26s 419ms/step - loss: 0.1532 - binary_accuracy: 0.9439 - val_loss: 1.7269 - val_binary_accuracy: 0.5215\n",
      "Epoch 73/100\n",
      "61/61 [==============================] - 25s 417ms/step - loss: 0.1751 - binary_accuracy: 0.9319 - val_loss: 1.5905 - val_binary_accuracy: 0.5273\n",
      "Epoch 74/100\n",
      "61/61 [==============================] - 25s 414ms/step - loss: 0.1456 - binary_accuracy: 0.9455 - val_loss: 1.8702 - val_binary_accuracy: 0.5312\n",
      "Epoch 75/100\n",
      "61/61 [==============================] - 25s 415ms/step - loss: 0.1469 - binary_accuracy: 0.9449 - val_loss: 1.7605 - val_binary_accuracy: 0.5137\n",
      "Epoch 76/100\n",
      "61/61 [==============================] - 25s 414ms/step - loss: 0.1763 - binary_accuracy: 0.9305 - val_loss: 1.6606 - val_binary_accuracy: 0.5352\n",
      "Epoch 77/100\n",
      "61/61 [==============================] - 25s 416ms/step - loss: 0.1747 - binary_accuracy: 0.9347 - val_loss: 1.5241 - val_binary_accuracy: 0.5566\n",
      "Epoch 78/100\n",
      "61/61 [==============================] - 25s 415ms/step - loss: 0.1453 - binary_accuracy: 0.9462 - val_loss: 1.9418 - val_binary_accuracy: 0.5039\n",
      "Epoch 79/100\n",
      "61/61 [==============================] - 25s 412ms/step - loss: 0.1279 - binary_accuracy: 0.9545 - val_loss: 1.9112 - val_binary_accuracy: 0.5117\n",
      "Epoch 80/100\n",
      "61/61 [==============================] - 25s 412ms/step - loss: 0.1639 - binary_accuracy: 0.9374 - val_loss: 1.5847 - val_binary_accuracy: 0.5605\n",
      "Epoch 81/100\n",
      "61/61 [==============================] - 25s 410ms/step - loss: 0.1367 - binary_accuracy: 0.9496 - val_loss: 1.6595 - val_binary_accuracy: 0.5391\n",
      "Epoch 82/100\n",
      "61/61 [==============================] - 25s 415ms/step - loss: 0.1291 - binary_accuracy: 0.9511 - val_loss: 1.6979 - val_binary_accuracy: 0.5195\n",
      "Epoch 83/100\n",
      "61/61 [==============================] - 25s 412ms/step - loss: 0.1231 - binary_accuracy: 0.9559 - val_loss: 2.1491 - val_binary_accuracy: 0.4961\n",
      "Epoch 84/100\n",
      "61/61 [==============================] - 25s 416ms/step - loss: 0.1177 - binary_accuracy: 0.9579 - val_loss: 2.0645 - val_binary_accuracy: 0.5020\n",
      "Epoch 85/100\n",
      "61/61 [==============================] - 25s 414ms/step - loss: 0.1219 - binary_accuracy: 0.9554 - val_loss: 2.1788 - val_binary_accuracy: 0.4863\n",
      "Epoch 86/100\n",
      "61/61 [==============================] - 25s 411ms/step - loss: 0.1153 - binary_accuracy: 0.9572 - val_loss: 2.1584 - val_binary_accuracy: 0.5215\n",
      "Epoch 87/100\n",
      "61/61 [==============================] - 25s 411ms/step - loss: 0.1296 - binary_accuracy: 0.9529 - val_loss: 2.2760 - val_binary_accuracy: 0.5059\n",
      "Epoch 88/100\n",
      "61/61 [==============================] - 25s 409ms/step - loss: 0.1253 - binary_accuracy: 0.9536 - val_loss: 1.5626 - val_binary_accuracy: 0.5469\n",
      "Epoch 89/100\n",
      "61/61 [==============================] - 25s 410ms/step - loss: 0.1235 - binary_accuracy: 0.9544 - val_loss: 2.1509 - val_binary_accuracy: 0.5195\n",
      "Epoch 90/100\n",
      "61/61 [==============================] - 25s 415ms/step - loss: 0.1207 - binary_accuracy: 0.9547 - val_loss: 1.9305 - val_binary_accuracy: 0.5449\n",
      "Epoch 91/100\n",
      "61/61 [==============================] - 25s 415ms/step - loss: 0.1166 - binary_accuracy: 0.9581 - val_loss: 2.1386 - val_binary_accuracy: 0.5449\n"
     ]
    }
   ],
   "source": [
    "# Train model on dataset\n",
    "with tf.device('/device:GPU:0'):\n",
    "    model = setModel()\n",
    "    callback = tf.keras.callbacks.EarlyStopping(monitor='loss', patience=5)\n",
    "    history = model.fit(x=training_generator,\n",
    "                        validation_data=validation_generator,\n",
    "                        callbacks=[callback],\n",
    "                        # use_multiprocessing=True,\n",
    "                        # workers=4,\n",
    "                        epochs=100,\n",
    "                        verbose=1)"
   ]
  },
  {
   "cell_type": "code",
   "execution_count": 27,
   "metadata": {},
   "outputs": [
    {
     "name": "stderr",
     "output_type": "stream",
     "text": [
      "2022-05-19 12:28:38.850506: W tensorflow/python/util/util.cc:368] Sets are not currently considered sequences, but this may change in the future, so consider avoiding using them.\n"
     ]
    },
    {
     "name": "stdout",
     "output_type": "stream",
     "text": [
      "INFO:tensorflow:Assets written to: models/ClassifierModel-v3/assets\n"
     ]
    }
   ],
   "source": [
    "model.save('models/ClassifierModel-v3')"
   ]
  },
  {
   "cell_type": "markdown",
   "metadata": {},
   "source": [
    "### Resultados del entrenamiento"
   ]
  },
  {
   "cell_type": "code",
   "execution_count": 28,
   "metadata": {},
   "outputs": [],
   "source": [
    "import matplotlib.pyplot as plt\n",
    "import seaborn as sns\n",
    "sns.set_theme(style=\"darkgrid\")"
   ]
  },
  {
   "cell_type": "code",
   "execution_count": 29,
   "metadata": {},
   "outputs": [
    {
     "data": {
      "text/plain": [
       "dict_keys(['loss', 'binary_accuracy', 'val_loss', 'val_binary_accuracy'])"
      ]
     },
     "execution_count": 29,
     "metadata": {},
     "output_type": "execute_result"
    }
   ],
   "source": [
    "history.history.keys()"
   ]
  },
  {
   "cell_type": "code",
   "execution_count": 30,
   "metadata": {},
   "outputs": [],
   "source": [
    "acc = pd.DataFrame({'accuracy':history.history['binary_accuracy'], 'type':'train'}).reset_index().rename(columns={'index':'epoch'})\n",
    "acc = pd.concat([acc, pd.DataFrame({'accuracy':history.history['val_binary_accuracy'], 'type':'val'}).reset_index().rename(columns={'index':'epoch'})]).reset_index(drop=True)\n",
    "loss = pd.DataFrame({'loss':history.history['loss'], 'type':'train'}).reset_index().rename(columns={'index':'epoch'})\n",
    "loss = pd.concat([loss, pd.DataFrame({'loss':history.history['val_loss'], 'type':'val'}).reset_index().rename(columns={'index':'epoch'})]).reset_index(drop=True)"
   ]
  },
  {
   "cell_type": "code",
   "execution_count": 31,
   "metadata": {},
   "outputs": [
    {
     "data": {
      "image/png": "[encoded data removed]",
      "text/plain": [
       "<Figure size 1080x360 with 2 Axes>"
      ]
     },
     "metadata": {},
     "output_type": "display_data"
    }
   ],
   "source": [
    "fig, ax = plt.subplots(nrows=1, ncols=2, figsize=(15,5))\n",
    "sns.lineplot(x='epoch', y='accuracy', data=acc, hue='type', ax=ax[0])\n",
    "sns.lineplot(x='epoch', y='loss', data=loss, hue='type', ax=ax[1])\n",
    "plt.show()"
   ]
  },
  {
   "cell_type": "code",
   "execution_count": 32,
   "metadata": {},
   "outputs": [
    {
     "data": {
      "text/html": [
       "<div>\n",
       "<style scoped>\n",
       "    .dataframe tbody tr th:only-of-type {\n",
       "        vertical-align: middle;\n",
       "    }\n",
       "\n",
       "    .dataframe tbody tr th {\n",
       "        vertical-align: top;\n",
       "    }\n",
       "\n",
       "    .dataframe thead th {\n",
       "        text-align: right;\n",
       "    }\n",
       "</style>\n",
       "<table border=\"1\" class=\"dataframe\">\n",
       "  <thead>\n",
       "    <tr style=\"text-align: right;\">\n",
       "      <th></th>\n",
       "      <th>epoch</th>\n",
       "      <th>accuracy</th>\n",
       "      <th>type</th>\n",
       "    </tr>\n",
       "  </thead>\n",
       "  <tbody>\n",
       "    <tr>\n",
       "      <th>90</th>\n",
       "      <td>90</td>\n",
       "      <td>0.958120</td>\n",
       "      <td>train</td>\n",
       "    </tr>\n",
       "    <tr>\n",
       "      <th>181</th>\n",
       "      <td>90</td>\n",
       "      <td>0.544922</td>\n",
       "      <td>val</td>\n",
       "    </tr>\n",
       "  </tbody>\n",
       "</table>\n",
       "</div>"
      ],
      "text/plain": [
       "     epoch  accuracy   type\n",
       "90      90  0.958120  train\n",
       "181     90  0.544922    val"
      ]
     },
     "execution_count": 32,
     "metadata": {},
     "output_type": "execute_result"
    }
   ],
   "source": [
    "acc.loc[acc.epoch == acc.epoch.max()]"
   ]
  },
  {
   "cell_type": "code",
   "execution_count": 33,
   "metadata": {},
   "outputs": [
    {
     "data": {
      "text/html": [
       "<div>\n",
       "<style scoped>\n",
       "    .dataframe tbody tr th:only-of-type {\n",
       "        vertical-align: middle;\n",
       "    }\n",
       "\n",
       "    .dataframe tbody tr th {\n",
       "        vertical-align: top;\n",
       "    }\n",
       "\n",
       "    .dataframe thead th {\n",
       "        text-align: right;\n",
       "    }\n",
       "</style>\n",
       "<table border=\"1\" class=\"dataframe\">\n",
       "  <thead>\n",
       "    <tr style=\"text-align: right;\">\n",
       "      <th></th>\n",
       "      <th>epoch</th>\n",
       "      <th>loss</th>\n",
       "      <th>type</th>\n",
       "    </tr>\n",
       "  </thead>\n",
       "  <tbody>\n",
       "    <tr>\n",
       "      <th>90</th>\n",
       "      <td>90</td>\n",
       "      <td>0.116594</td>\n",
       "      <td>train</td>\n",
       "    </tr>\n",
       "    <tr>\n",
       "      <th>181</th>\n",
       "      <td>90</td>\n",
       "      <td>2.138587</td>\n",
       "      <td>val</td>\n",
       "    </tr>\n",
       "  </tbody>\n",
       "</table>\n",
       "</div>"
      ],
      "text/plain": [
       "     epoch      loss   type\n",
       "90      90  0.116594  train\n",
       "181     90  2.138587    val"
      ]
     },
     "execution_count": 33,
     "metadata": {},
     "output_type": "execute_result"
    }
   ],
   "source": [
    "loss.loc[loss.epoch == loss.epoch.max()]"
   ]
  },
  {
   "cell_type": "markdown",
   "metadata": {},
   "source": [
    "### Evaluación de datos de prueba"
   ]
  },
  {
   "cell_type": "code",
   "execution_count": 2,
   "metadata": {},
   "outputs": [
    {
     "name": "stdout",
     "output_type": "stream",
     "text": [
      "[nltk_data] Downloading package punkt to /home/melesio/nltk_data...\n",
      "[nltk_data]   Package punkt is already up-to-date!\n",
      "[nltk_data] Downloading package stopwords to\n",
      "[nltk_data]     /home/melesio/nltk_data...\n",
      "[nltk_data]   Package stopwords is already up-to-date!\n",
      "[nltk_data] Downloading package wordnet to /home/melesio/nltk_data...\n",
      "[nltk_data]   Package wordnet is already up-to-date!\n",
      "[nltk_data] Downloading package omw-1.4 to /home/melesio/nltk_data...\n",
      "[nltk_data]   Package omw-1.4 is already up-to-date!\n",
      "[nltk_data] Downloading package averaged_perceptron_tagger to\n",
      "[nltk_data]     /home/melesio/nltk_data...\n",
      "[nltk_data]   Package averaged_perceptron_tagger is already up-to-\n",
      "[nltk_data]       date!\n",
      "Leyendo archivo de configuracion\n",
      "Inicia la transformacion de texto\n",
      "Creando diccionario de documentos unicos\n",
      "Realizando preprocesamiento\n",
      "Etapa de pre-procesmiento\n",
      "Extrayendo vectores de caracteristicas\n",
      "Etapa de extraccion de caracteristicas\n",
      "Extraccion de vectores lexicos\n",
      "Realizando vectorizacion\n",
      "Guardando resultadosto 79\n",
      "Extraccion de vectores sintacticos\n",
      "Realizando vectorizacion\n",
      "Guardando resultados\n",
      "Extraccion de vectores semanticos\n",
      "Realizando vectorizacion\n",
      "Guardando resultados\n",
      "Obteniendo espectros de contenido\n",
      "Etapa de unificacion del espacio\n",
      "/home/melesio/Documentos/SpectralTextRepresentation/minisom/minisom.py:167: UserWarning: Warning: sigma is too high for the dimension of the map.\n",
      "  warn('Warning: sigma is too high for the dimension of the map.')\n",
      "Leyendo vectores lexicos\n",
      "Obteninendo espectros\n",
      "Leyendo vectores sintacticos\n",
      "Obteninendo espectros\n",
      "Leyendo vectores semanticos\n",
      "Obteninendo espectros\n",
      "Consolidando capas\n",
      "Etapa de consolidacion de capas\n",
      "Información guardada\n",
      "Ensamble terminado\n",
      "Cargando modelo\n",
      "2022-05-20 11:34:33.137463: I tensorflow/stream_executor/cuda/cuda_gpu_executor.cc:936] successful NUMA node read from SysFS had negative value (-1), but there must be at least one NUMA node, so returning NUMA node zero\n",
      "2022-05-20 11:34:33.158612: I tensorflow/stream_executor/cuda/cuda_gpu_executor.cc:936] successful NUMA node read from SysFS had negative value (-1), but there must be at least one NUMA node, so returning NUMA node zero\n",
      "2022-05-20 11:34:33.158740: I tensorflow/stream_executor/cuda/cuda_gpu_executor.cc:936] successful NUMA node read from SysFS had negative value (-1), but there must be at least one NUMA node, so returning NUMA node zero\n",
      "2022-05-20 11:34:33.159011: I tensorflow/core/platform/cpu_feature_guard.cc:151] This TensorFlow binary is optimized with oneAPI Deep Neural Network Library (oneDNN) to use the following CPU instructions in performance-critical operations:  AVX2 FMA\n",
      "To enable them in other operations, rebuild TensorFlow with the appropriate compiler flags.\n",
      "2022-05-20 11:34:33.159836: I tensorflow/stream_executor/cuda/cuda_gpu_executor.cc:936] successful NUMA node read from SysFS had negative value (-1), but there must be at least one NUMA node, so returning NUMA node zero\n",
      "2022-05-20 11:34:33.159935: I tensorflow/stream_executor/cuda/cuda_gpu_executor.cc:936] successful NUMA node read from SysFS had negative value (-1), but there must be at least one NUMA node, so returning NUMA node zero\n",
      "2022-05-20 11:34:33.160023: I tensorflow/stream_executor/cuda/cuda_gpu_executor.cc:936] successful NUMA node read from SysFS had negative value (-1), but there must be at least one NUMA node, so returning NUMA node zero\n",
      "2022-05-20 11:34:33.463001: I tensorflow/stream_executor/cuda/cuda_gpu_executor.cc:936] successful NUMA node read from SysFS had negative value (-1), but there must be at least one NUMA node, so returning NUMA node zero\n",
      "2022-05-20 11:34:33.463149: I tensorflow/stream_executor/cuda/cuda_gpu_executor.cc:936] successful NUMA node read from SysFS had negative value (-1), but there must be at least one NUMA node, so returning NUMA node zero\n",
      "2022-05-20 11:34:33.463247: I tensorflow/stream_executor/cuda/cuda_gpu_executor.cc:936] successful NUMA node read from SysFS had negative value (-1), but there must be at least one NUMA node, so returning NUMA node zero\n",
      "2022-05-20 11:34:33.463325: I tensorflow/core/common_runtime/gpu/gpu_device.cc:1525] Created device /job:localhost/replica:0/task:0/device:GPU:0 with 7750 MB memory:  -> device: 0, name: NVIDIA GeForce RTX 3080, pci bus id: 0000:01:00.0, compute capability: 8.6\n",
      "Realizando predicciones\n",
      "2022-05-20 11:34:34.656497: I tensorflow/stream_executor/cuda/cuda_blas.cc:1786] TensorFloat-32 will be used for the matrix multiplication. This will only be logged once.\n"
     ]
    }
   ],
   "source": [
    "!python PredictionsTest.py -i testinput -o testoutput/v3"
   ]
  },
  {
   "cell_type": "code",
   "execution_count": 3,
   "metadata": {},
   "outputs": [
    {
     "name": "stdout",
     "output_type": "stream",
     "text": [
      "-> 1070 problems in ground truth\n",
      "-> 1070 solutions explicitly proposed\n",
      "{'auc': 0.468, 'c@1': 0.497, 'f_05_u': 0.514, 'F1': 0.542, 'brier': 0.527, 'overall': 0.51}\n"
     ]
    }
   ],
   "source": [
    "!python pan22_verif_evaluator.py -i testinput -a testoutput/v3 -o testoutput/v3"
   ]
  }
 ],
 "metadata": {
  "interpreter": {
   "hash": "34185cc76f1746f7da7738a8f19ab6509177ea129d1668aef168b7e0e18c804f"
  },
  "kernelspec": {
   "display_name": "Python 3.9.12 ('base')",
   "language": "python",
   "name": "python3"
  },
  "language_info": {
   "codemirror_mode": {
    "name": "ipython",
    "version": 3
   },
   "file_extension": ".py",
   "mimetype": "text/x-python",
   "name": "python",
   "nbconvert_exporter": "python",
   "pygments_lexer": "ipython3",
   "version": "3.9.12"
  },
  "orig_nbformat": 4
 },
 "nbformat": 4,
 "nbformat_minor": 2
}
