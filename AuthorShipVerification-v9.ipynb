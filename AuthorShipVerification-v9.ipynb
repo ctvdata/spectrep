{
 "cells": [
  {
   "cell_type": "markdown",
   "metadata": {},
   "source": [
    "### Prueba 9\n",
    "Para esta prueba de utilizaron solamente los espectros sintácticos haciendo uso de la arquitectura de la prueba 2"
   ]
  },
  {
   "cell_type": "code",
   "execution_count": 1,
   "metadata": {},
   "outputs": [],
   "source": [
    "import numpy as np\n",
    "import pandas as pd\n",
    "import tensorflow as tf\n",
    "import json\n",
    "from myGenerator import DataGenerator"
   ]
  },
  {
   "cell_type": "markdown",
   "metadata": {},
   "source": [
    "### Carga de datos"
   ]
  },
  {
   "cell_type": "code",
   "execution_count": 2,
   "metadata": {},
   "outputs": [],
   "source": [
    "train = pd.read_pickle(\"pan22-authorship-verification-training-dataset/particionesXid/PanTrain.plk\")\n",
    "val = pd.read_pickle(\"pan22-authorship-verification-training-dataset/particionesXid/PanVal.plk\")"
   ]
  },
  {
   "cell_type": "code",
   "execution_count": 3,
   "metadata": {},
   "outputs": [],
   "source": [
    "def spectraLoader(inputPath: str) -> pd.DataFrame:\n",
    "    df = pd.DataFrame()\n",
    "    with open(inputPath, encoding='utf-8') as f:\n",
    "        for line in f:\n",
    "            jsonline = json.loads(line)\n",
    "            lineDf = pd.DataFrame({'id':jsonline['id'], 'spectra':[np.array(jsonline['spectra'])]})\n",
    "            df = pd.concat([df, lineDf])\n",
    "    df = df.reset_index(drop=True)\n",
    "\n",
    "    return df"
   ]
  },
  {
   "cell_type": "code",
   "execution_count": 4,
   "metadata": {},
   "outputs": [],
   "source": [
    "full_spectra = spectraLoader(\"pan22-authorship-verification-training-dataset/particionesXid/FullSpectra.jsonl\")"
   ]
  },
  {
   "cell_type": "code",
   "execution_count": 5,
   "metadata": {},
   "outputs": [],
   "source": [
    "def loadLabels(inputPath:str, labelDict:dict) -> dict:\n",
    "    with open(inputPath, encoding='utf-8') as f:\n",
    "        for line in f:\n",
    "            jsonline = json.loads(line)\n",
    "            labelDict[jsonline['id']] = 1 if jsonline['value'] else 0\n",
    "        \n",
    "    return labelDict"
   ]
  },
  {
   "cell_type": "code",
   "execution_count": 6,
   "metadata": {},
   "outputs": [],
   "source": [
    "labels = dict()\n",
    "labels = loadLabels('pan22-authorship-verification-training-dataset/particiones/train_truth.jsonl',labels)\n",
    "labels = loadLabels('pan22-authorship-verification-training-dataset/particiones/val_truth.jsonl',labels)"
   ]
  },
  {
   "cell_type": "code",
   "execution_count": 7,
   "metadata": {},
   "outputs": [
    {
     "name": "stdout",
     "output_type": "stream",
     "text": [
      "Instances: 16486.0\n",
      "Labels:  16486\n"
     ]
    }
   ],
   "source": [
    "print(\"Instances: {}\".format((train.shape[0] + val.shape[0])/2))\n",
    "print(\"Labels: \",len(labels))"
   ]
  },
  {
   "cell_type": "code",
   "execution_count": 8,
   "metadata": {},
   "outputs": [],
   "source": [
    "partition = {'train': train.id.unique().tolist(), 'validation': val.id.unique().tolist()}"
   ]
  },
  {
   "cell_type": "code",
   "execution_count": 9,
   "metadata": {},
   "outputs": [
    {
     "name": "stdout",
     "output_type": "stream",
     "text": [
      "Train:  15732\n",
      "Validation:  754\n",
      "Total:  16486\n"
     ]
    }
   ],
   "source": [
    "print(\"Train: \", len(partition['train']))\n",
    "print(\"Validation: \", len(partition['validation']))\n",
    "print(\"Total: \", len(partition['train'])+len(partition['validation']))"
   ]
  },
  {
   "cell_type": "markdown",
   "metadata": {},
   "source": [
    "### Definición de la arquitectura del modelo"
   ]
  },
  {
   "cell_type": "code",
   "execution_count": 10,
   "metadata": {},
   "outputs": [],
   "source": [
    "# Modelo de red siamesa utilizando una red residual y un perceptron multicapa SIN CAPAS CUSTOM\n",
    "\n",
    "def setModel():\n",
    "    x1 = tf.keras.Input(shape=(400,), name=\"input_1\")\n",
    "    x2 = tf.keras.Input(shape=(400,), name=\"input_2\")\n",
    "\n",
    "    # Batch normalization\n",
    "    # bn_layer = tf.keras.layers.BatchNormalization(name=\"Batch_normalization\")\n",
    "    # x1 = bn_layer(x1)\n",
    "    # x2 = bn_layer(x2)\n",
    "\n",
    "    # # Gaussian noise\n",
    "    # gaussian_noise_layer = tf.keras.layers.GaussianNoise(1.0, name=\"Gaussian_noise\")\n",
    "    # x1 = gaussian_noise_layer(x1)\n",
    "    # x2 = gaussian_noise_layer(x2)\n",
    "\n",
    "    # # Dropout\n",
    "    # dropout_layer = tf.keras.layers.Dropout(0.4, name=\"Dropout_1\")\n",
    "    # x1 = dropout_layer(x1)\n",
    "    # x2 = dropout_layer(x2)\n",
    "\n",
    "    # Residual network\n",
    "    dense_layer_1 = tf.keras.layers.Dense(256, activation='relu', name=\"resdense_1\")\n",
    "    o1_1 = dense_layer_1(x1)\n",
    "    o1_2 = dense_layer_1(x2)\n",
    "\n",
    "    dense_layer_2 = tf.keras.layers.Dense(256, activation='relu', name=\"resdense_2\")\n",
    "    o2_1 = dense_layer_2(o1_1)\n",
    "    o2_2 = dense_layer_2(o1_2)\n",
    "\n",
    "    # Residual layer\n",
    "    dense_layer_3 = tf.keras.layers.Dense(256, activation='relu', name=\"resdense_3\")\n",
    "    o3_1 = dense_layer_3(tf.subtract(o1_1, o2_1))\n",
    "    o3_2 = dense_layer_3(tf.subtract(o1_2, o2_2))\n",
    "\n",
    "    # dense_layer_4 = tf.keras.layers.Dense(256, activation='relu', name=\"resdense_4\")\n",
    "    # o4_1 = dense_layer_4(o3_1)\n",
    "    # o4_2 = dense_layer_4(o3_2)\n",
    "\n",
    "    # # Residual layer\n",
    "    # dense_layer_5 = tf.keras.layers.Dense(256, activation='relu', name=\"resdense_5\")\n",
    "    # o5_1 = dense_layer_5(tf.subtract(o3_1, o4_1))\n",
    "    # o5_2 = dense_layer_5(tf.subtract(o3_2, o4_2))\n",
    "\n",
    "    # dense_layer_6 = tf.keras.layers.Dense(256, activation='relu', name=\"resdense_6\")\n",
    "    # o6_1 = dense_layer_6(o5_1)\n",
    "    # o6_2 = dense_layer_6(o5_2)\n",
    "\n",
    "    # # Residual layer\n",
    "    # dense_layer_7 = tf.keras.layers.Dense(256, activation='relu', name=\"resdense_7\")\n",
    "    # o7_1 = dense_layer_7(tf.subtract(o5_1, o6_1))\n",
    "    # o7_2 = dense_layer_7(tf.subtract(o5_2, o6_2))\n",
    "\n",
    "    # dense_layer_8 = tf.keras.layers.Dense(256, activation='relu', name=\"resdense_8\")\n",
    "    # o8_1 = dense_layer_8(o7_1)\n",
    "    # o8_2 = dense_layer_8(o7_2)\n",
    "\n",
    "    # # Residual layer\n",
    "    # dense_layer_9 = tf.keras.layers.Dense(256, activation='relu', name=\"resdense_9\")\n",
    "    # o9_1 = dense_layer_9(tf.subtract(o7_1, o8_1))\n",
    "    # o9_2 = dense_layer_9(tf.subtract(o7_2, o8_2))\n",
    "\n",
    "    # Merging\n",
    "    # merge = tf.math.abs(tf.subtract(o9_1,o9_2))\n",
    "    merge = tf.math.abs(tf.subtract(o3_1,o3_2))\n",
    "\n",
    "    # MLPNN Classifier\n",
    "    hidden = tf.keras.layers.Dense(128, activation='relu', name=\"hidden_layer\")(merge)\n",
    "    # dropout_layer2 = tf.keras.layers.Dropout(0.4, name=\"Dropout_2\")(hidden)\n",
    "    output = tf.keras.layers.Dense(1, activation=\"sigmoid\", name=\"output_layer\")(hidden)#(dropout_layer2)\n",
    "\n",
    "    model = tf.keras.Model([x1, x2], output)\n",
    "    model.compile(loss = 'binary_crossentropy', optimizer = \"adam\", metrics=[\"binary_accuracy\"])\n",
    "\n",
    "    return model"
   ]
  },
  {
   "cell_type": "code",
   "execution_count": 11,
   "metadata": {},
   "outputs": [
    {
     "name": "stdout",
     "output_type": "stream",
     "text": [
      "Model: \"model\"\n",
      "__________________________________________________________________________________________________\n",
      " Layer (type)                   Output Shape         Param #     Connected to                     \n",
      "==================================================================================================\n",
      " input_1 (InputLayer)           [(None, 400)]        0           []                               \n",
      "                                                                                                  \n",
      " input_2 (InputLayer)           [(None, 400)]        0           []                               \n",
      "                                                                                                  \n",
      " resdense_1 (Dense)             (None, 256)          102656      ['input_1[0][0]',                \n",
      "                                                                  'input_2[0][0]']                \n",
      "                                                                                                  \n",
      " resdense_2 (Dense)             (None, 256)          65792       ['resdense_1[0][0]',             \n",
      "                                                                  'resdense_1[1][0]']             \n",
      "                                                                                                  \n",
      " tf.math.subtract (TFOpLambda)  (None, 256)          0           ['resdense_1[0][0]',             \n",
      "                                                                  'resdense_2[0][0]']             \n",
      "                                                                                                  \n",
      " tf.math.subtract_1 (TFOpLambda  (None, 256)         0           ['resdense_1[1][0]',             \n",
      " )                                                                'resdense_2[1][0]']             \n",
      "                                                                                                  \n",
      " resdense_3 (Dense)             (None, 256)          65792       ['tf.math.subtract[0][0]',       \n",
      "                                                                  'tf.math.subtract_1[0][0]']     \n",
      "                                                                                                  \n",
      " tf.math.subtract_2 (TFOpLambda  (None, 256)         0           ['resdense_3[0][0]',             \n",
      " )                                                                'resdense_3[1][0]']             \n",
      "                                                                                                  \n",
      " tf.math.abs (TFOpLambda)       (None, 256)          0           ['tf.math.subtract_2[0][0]']     \n",
      "                                                                                                  \n",
      " hidden_layer (Dense)           (None, 128)          32896       ['tf.math.abs[0][0]']            \n",
      "                                                                                                  \n",
      " output_layer (Dense)           (None, 1)            129         ['hidden_layer[0][0]']           \n",
      "                                                                                                  \n",
      "==================================================================================================\n",
      "Total params: 267,265\n",
      "Trainable params: 267,265\n",
      "Non-trainable params: 0\n",
      "__________________________________________________________________________________________________\n"
     ]
    },
    {
     "name": "stderr",
     "output_type": "stream",
     "text": [
      "2022-05-21 17:09:05.074635: I tensorflow/stream_executor/cuda/cuda_gpu_executor.cc:936] successful NUMA node read from SysFS had negative value (-1), but there must be at least one NUMA node, so returning NUMA node zero\n",
      "2022-05-21 17:09:05.096413: I tensorflow/stream_executor/cuda/cuda_gpu_executor.cc:936] successful NUMA node read from SysFS had negative value (-1), but there must be at least one NUMA node, so returning NUMA node zero\n",
      "2022-05-21 17:09:05.096526: I tensorflow/stream_executor/cuda/cuda_gpu_executor.cc:936] successful NUMA node read from SysFS had negative value (-1), but there must be at least one NUMA node, so returning NUMA node zero\n",
      "2022-05-21 17:09:05.096824: I tensorflow/core/platform/cpu_feature_guard.cc:151] This TensorFlow binary is optimized with oneAPI Deep Neural Network Library (oneDNN) to use the following CPU instructions in performance-critical operations:  AVX2 FMA\n",
      "To enable them in other operations, rebuild TensorFlow with the appropriate compiler flags.\n",
      "2022-05-21 17:09:05.097587: I tensorflow/stream_executor/cuda/cuda_gpu_executor.cc:936] successful NUMA node read from SysFS had negative value (-1), but there must be at least one NUMA node, so returning NUMA node zero\n",
      "2022-05-21 17:09:05.097680: I tensorflow/stream_executor/cuda/cuda_gpu_executor.cc:936] successful NUMA node read from SysFS had negative value (-1), but there must be at least one NUMA node, so returning NUMA node zero\n",
      "2022-05-21 17:09:05.097758: I tensorflow/stream_executor/cuda/cuda_gpu_executor.cc:936] successful NUMA node read from SysFS had negative value (-1), but there must be at least one NUMA node, so returning NUMA node zero\n",
      "2022-05-21 17:09:05.401148: I tensorflow/stream_executor/cuda/cuda_gpu_executor.cc:936] successful NUMA node read from SysFS had negative value (-1), but there must be at least one NUMA node, so returning NUMA node zero\n",
      "2022-05-21 17:09:05.401266: I tensorflow/stream_executor/cuda/cuda_gpu_executor.cc:936] successful NUMA node read from SysFS had negative value (-1), but there must be at least one NUMA node, so returning NUMA node zero\n",
      "2022-05-21 17:09:05.401350: I tensorflow/stream_executor/cuda/cuda_gpu_executor.cc:936] successful NUMA node read from SysFS had negative value (-1), but there must be at least one NUMA node, so returning NUMA node zero\n",
      "2022-05-21 17:09:05.401423: I tensorflow/core/common_runtime/gpu/gpu_device.cc:1525] Created device /job:localhost/replica:0/task:0/device:GPU:0 with 7742 MB memory:  -> device: 0, name: NVIDIA GeForce RTX 3080, pci bus id: 0000:01:00.0, compute capability: 8.6\n"
     ]
    }
   ],
   "source": [
    "model = setModel()\n",
    "model.summary()"
   ]
  },
  {
   "cell_type": "markdown",
   "metadata": {},
   "source": [
    "### Entrenamiento del modelo"
   ]
  },
  {
   "cell_type": "code",
   "execution_count": 12,
   "metadata": {},
   "outputs": [],
   "source": [
    "# Parameters\n",
    "params = {'dim': (400,),\n",
    "            'batch_size': 32,\n",
    "            'shuffle': True}"
   ]
  },
  {
   "cell_type": "code",
   "execution_count": 13,
   "metadata": {},
   "outputs": [],
   "source": [
    "# Generators\n",
    "training_generator = DataGenerator(partition['train'], train, labels, full_spectra, **params)\n",
    "validation_generator = DataGenerator(partition['validation'], val, labels, full_spectra, **params)"
   ]
  },
  {
   "cell_type": "code",
   "execution_count": 14,
   "metadata": {},
   "outputs": [
    {
     "data": {
      "text/plain": [
       "'/device:GPU:0'"
      ]
     },
     "execution_count": 14,
     "metadata": {},
     "output_type": "execute_result"
    },
    {
     "name": "stderr",
     "output_type": "stream",
     "text": [
      "2022-05-21 17:11:16.220060: I tensorflow/stream_executor/cuda/cuda_gpu_executor.cc:936] successful NUMA node read from SysFS had negative value (-1), but there must be at least one NUMA node, so returning NUMA node zero\n",
      "2022-05-21 17:11:16.220265: I tensorflow/stream_executor/cuda/cuda_gpu_executor.cc:936] successful NUMA node read from SysFS had negative value (-1), but there must be at least one NUMA node, so returning NUMA node zero\n",
      "2022-05-21 17:11:16.220372: I tensorflow/stream_executor/cuda/cuda_gpu_executor.cc:936] successful NUMA node read from SysFS had negative value (-1), but there must be at least one NUMA node, so returning NUMA node zero\n",
      "2022-05-21 17:11:16.220515: I tensorflow/stream_executor/cuda/cuda_gpu_executor.cc:936] successful NUMA node read from SysFS had negative value (-1), but there must be at least one NUMA node, so returning NUMA node zero\n",
      "2022-05-21 17:11:16.220611: I tensorflow/stream_executor/cuda/cuda_gpu_executor.cc:936] successful NUMA node read from SysFS had negative value (-1), but there must be at least one NUMA node, so returning NUMA node zero\n",
      "2022-05-21 17:11:16.220671: I tensorflow/core/common_runtime/gpu/gpu_device.cc:1525] Created device /device:GPU:0 with 7742 MB memory:  -> device: 0, name: NVIDIA GeForce RTX 3080, pci bus id: 0000:01:00.0, compute capability: 8.6\n"
     ]
    }
   ],
   "source": [
    "tf.test.gpu_device_name()"
   ]
  },
  {
   "cell_type": "code",
   "execution_count": 15,
   "metadata": {},
   "outputs": [
    {
     "name": "stdout",
     "output_type": "stream",
     "text": [
      "Epoch 1/100\n",
      "  5/491 [..............................] - ETA: 20s - loss: 0.6912 - binary_accuracy: 0.4938"
     ]
    },
    {
     "name": "stderr",
     "output_type": "stream",
     "text": [
      "2022-05-21 17:11:20.266886: I tensorflow/stream_executor/cuda/cuda_blas.cc:1786] TensorFloat-32 will be used for the matrix multiplication. This will only be logged once.\n"
     ]
    },
    {
     "name": "stdout",
     "output_type": "stream",
     "text": [
      "491/491 [==============================] - 29s 56ms/step - loss: 0.6612 - binary_accuracy: 0.5967 - val_loss: 0.7349 - val_binary_accuracy: 0.5190\n",
      "Epoch 2/100\n",
      "491/491 [==============================] - 28s 57ms/step - loss: 0.6326 - binary_accuracy: 0.6359 - val_loss: 0.7557 - val_binary_accuracy: 0.5258\n",
      "Epoch 3/100\n",
      "491/491 [==============================] - 28s 56ms/step - loss: 0.5979 - binary_accuracy: 0.6725 - val_loss: 0.8957 - val_binary_accuracy: 0.5014\n",
      "Epoch 4/100\n",
      "491/491 [==============================] - 28s 57ms/step - loss: 0.5802 - binary_accuracy: 0.6908 - val_loss: 0.9734 - val_binary_accuracy: 0.5177\n",
      "Epoch 5/100\n",
      "491/491 [==============================] - 28s 57ms/step - loss: 0.5705 - binary_accuracy: 0.6991 - val_loss: 0.9881 - val_binary_accuracy: 0.5163\n",
      "Epoch 6/100\n",
      "491/491 [==============================] - 28s 56ms/step - loss: 0.5569 - binary_accuracy: 0.7131 - val_loss: 0.9488 - val_binary_accuracy: 0.5326\n",
      "Epoch 7/100\n",
      "491/491 [==============================] - 28s 57ms/step - loss: 0.5491 - binary_accuracy: 0.7209 - val_loss: 0.9283 - val_binary_accuracy: 0.5340\n",
      "Epoch 8/100\n",
      "491/491 [==============================] - 28s 57ms/step - loss: 0.5391 - binary_accuracy: 0.7285 - val_loss: 1.2106 - val_binary_accuracy: 0.5258\n",
      "Epoch 9/100\n",
      "491/491 [==============================] - 28s 57ms/step - loss: 0.5325 - binary_accuracy: 0.7346 - val_loss: 1.0436 - val_binary_accuracy: 0.5054\n",
      "Epoch 10/100\n",
      "491/491 [==============================] - 28s 57ms/step - loss: 0.5339 - binary_accuracy: 0.7355 - val_loss: 1.1744 - val_binary_accuracy: 0.4973\n",
      "Epoch 11/100\n",
      "491/491 [==============================] - 28s 57ms/step - loss: 0.5243 - binary_accuracy: 0.7414 - val_loss: 1.1013 - val_binary_accuracy: 0.5000\n",
      "Epoch 12/100\n",
      "491/491 [==============================] - 28s 57ms/step - loss: 0.5160 - binary_accuracy: 0.7510 - val_loss: 1.0506 - val_binary_accuracy: 0.4837\n",
      "Epoch 13/100\n",
      "491/491 [==============================] - 28s 57ms/step - loss: 0.5062 - binary_accuracy: 0.7546 - val_loss: 1.1567 - val_binary_accuracy: 0.4959\n",
      "Epoch 14/100\n",
      "491/491 [==============================] - 28s 56ms/step - loss: 0.5072 - binary_accuracy: 0.7532 - val_loss: 0.9506 - val_binary_accuracy: 0.4878\n",
      "Epoch 15/100\n",
      "491/491 [==============================] - 28s 57ms/step - loss: 0.5005 - binary_accuracy: 0.7622 - val_loss: 1.2074 - val_binary_accuracy: 0.4728\n",
      "Epoch 16/100\n",
      "491/491 [==============================] - 28s 57ms/step - loss: 0.4886 - binary_accuracy: 0.7685 - val_loss: 1.0276 - val_binary_accuracy: 0.4864\n",
      "Epoch 17/100\n",
      "491/491 [==============================] - 28s 57ms/step - loss: 0.5020 - binary_accuracy: 0.7573 - val_loss: 1.0575 - val_binary_accuracy: 0.4959\n",
      "Epoch 18/100\n",
      "491/491 [==============================] - 28s 57ms/step - loss: 0.5109 - binary_accuracy: 0.7481 - val_loss: 1.1225 - val_binary_accuracy: 0.4796\n",
      "Epoch 19/100\n",
      "491/491 [==============================] - 28s 57ms/step - loss: 0.4934 - binary_accuracy: 0.7654 - val_loss: 1.1315 - val_binary_accuracy: 0.4688\n",
      "Epoch 20/100\n",
      "491/491 [==============================] - 28s 56ms/step - loss: 0.4875 - binary_accuracy: 0.7684 - val_loss: 1.1391 - val_binary_accuracy: 0.4905\n",
      "Epoch 21/100\n",
      "491/491 [==============================] - 28s 56ms/step - loss: 0.4797 - binary_accuracy: 0.7766 - val_loss: 1.1626 - val_binary_accuracy: 0.4905\n",
      "Epoch 22/100\n",
      "491/491 [==============================] - 28s 57ms/step - loss: 0.4778 - binary_accuracy: 0.7774 - val_loss: 1.1728 - val_binary_accuracy: 0.4823\n",
      "Epoch 23/100\n",
      "491/491 [==============================] - 28s 57ms/step - loss: 0.4710 - binary_accuracy: 0.7810 - val_loss: 1.2334 - val_binary_accuracy: 0.4728\n",
      "Epoch 24/100\n",
      "491/491 [==============================] - 28s 57ms/step - loss: 0.4790 - binary_accuracy: 0.7736 - val_loss: 1.0935 - val_binary_accuracy: 0.4959\n",
      "Epoch 25/100\n",
      "491/491 [==============================] - 28s 57ms/step - loss: 0.4858 - binary_accuracy: 0.7725 - val_loss: 1.0035 - val_binary_accuracy: 0.5204\n",
      "Epoch 26/100\n",
      "491/491 [==============================] - 28s 57ms/step - loss: 0.4764 - binary_accuracy: 0.7770 - val_loss: 1.1736 - val_binary_accuracy: 0.5082\n",
      "Epoch 27/100\n",
      "491/491 [==============================] - 28s 56ms/step - loss: 0.4729 - binary_accuracy: 0.7779 - val_loss: 1.2500 - val_binary_accuracy: 0.4946\n",
      "Epoch 28/100\n",
      "491/491 [==============================] - 28s 56ms/step - loss: 0.4721 - binary_accuracy: 0.7786 - val_loss: 1.1797 - val_binary_accuracy: 0.4932\n",
      "Epoch 29/100\n",
      "491/491 [==============================] - 27s 56ms/step - loss: 0.4655 - binary_accuracy: 0.7843 - val_loss: 1.1350 - val_binary_accuracy: 0.4878\n",
      "Epoch 30/100\n",
      "491/491 [==============================] - 28s 57ms/step - loss: 0.4628 - binary_accuracy: 0.7862 - val_loss: 1.2635 - val_binary_accuracy: 0.4973\n",
      "Epoch 31/100\n",
      "491/491 [==============================] - 28s 57ms/step - loss: 0.4590 - binary_accuracy: 0.7883 - val_loss: 1.0600 - val_binary_accuracy: 0.5000\n",
      "Epoch 32/100\n",
      "491/491 [==============================] - 27s 56ms/step - loss: 0.4570 - binary_accuracy: 0.7899 - val_loss: 1.1086 - val_binary_accuracy: 0.4701\n",
      "Epoch 33/100\n",
      "491/491 [==============================] - 28s 57ms/step - loss: 0.4560 - binary_accuracy: 0.7904 - val_loss: 1.0667 - val_binary_accuracy: 0.4891\n",
      "Epoch 34/100\n",
      "491/491 [==============================] - 28s 56ms/step - loss: 0.4555 - binary_accuracy: 0.7899 - val_loss: 1.1520 - val_binary_accuracy: 0.5000\n",
      "Epoch 35/100\n",
      "491/491 [==============================] - 27s 56ms/step - loss: 0.4536 - binary_accuracy: 0.7915 - val_loss: 1.1727 - val_binary_accuracy: 0.4755\n",
      "Epoch 36/100\n",
      "491/491 [==============================] - 28s 56ms/step - loss: 0.4474 - binary_accuracy: 0.7965 - val_loss: 1.2401 - val_binary_accuracy: 0.4810\n",
      "Epoch 37/100\n",
      "491/491 [==============================] - 28s 56ms/step - loss: 0.4474 - binary_accuracy: 0.7959 - val_loss: 1.1220 - val_binary_accuracy: 0.5082\n",
      "Epoch 38/100\n",
      "491/491 [==============================] - 28s 57ms/step - loss: 0.4422 - binary_accuracy: 0.8023 - val_loss: 1.2871 - val_binary_accuracy: 0.4946\n",
      "Epoch 39/100\n",
      "491/491 [==============================] - 28s 56ms/step - loss: 0.4439 - binary_accuracy: 0.7995 - val_loss: 1.2105 - val_binary_accuracy: 0.4810\n",
      "Epoch 40/100\n",
      "491/491 [==============================] - 28s 56ms/step - loss: 0.4472 - binary_accuracy: 0.7960 - val_loss: 1.2020 - val_binary_accuracy: 0.4823\n",
      "Epoch 41/100\n",
      "491/491 [==============================] - 28s 58ms/step - loss: 0.4368 - binary_accuracy: 0.8018 - val_loss: 1.2095 - val_binary_accuracy: 0.4864\n",
      "Epoch 42/100\n",
      "491/491 [==============================] - 28s 58ms/step - loss: 0.4386 - binary_accuracy: 0.8032 - val_loss: 1.2905 - val_binary_accuracy: 0.4728\n",
      "Epoch 43/100\n",
      "491/491 [==============================] - 28s 57ms/step - loss: 0.4336 - binary_accuracy: 0.8047 - val_loss: 1.2138 - val_binary_accuracy: 0.4810\n",
      "Epoch 44/100\n",
      "491/491 [==============================] - 28s 57ms/step - loss: 0.4320 - binary_accuracy: 0.8049 - val_loss: 1.1685 - val_binary_accuracy: 0.4878\n",
      "Epoch 45/100\n",
      "491/491 [==============================] - 28s 57ms/step - loss: 0.4356 - binary_accuracy: 0.8028 - val_loss: 1.3504 - val_binary_accuracy: 0.4891\n",
      "Epoch 46/100\n",
      "491/491 [==============================] - 28s 57ms/step - loss: 0.4334 - binary_accuracy: 0.8045 - val_loss: 1.2478 - val_binary_accuracy: 0.4946\n",
      "Epoch 47/100\n",
      "491/491 [==============================] - 28s 57ms/step - loss: 0.4327 - binary_accuracy: 0.8045 - val_loss: 1.1118 - val_binary_accuracy: 0.5231\n",
      "Epoch 48/100\n",
      "491/491 [==============================] - 28s 57ms/step - loss: 0.4302 - binary_accuracy: 0.8070 - val_loss: 1.1617 - val_binary_accuracy: 0.4986\n",
      "Epoch 49/100\n",
      "491/491 [==============================] - 28s 57ms/step - loss: 0.4273 - binary_accuracy: 0.8065 - val_loss: 1.1730 - val_binary_accuracy: 0.4959\n",
      "Epoch 50/100\n",
      "491/491 [==============================] - 28s 56ms/step - loss: 0.4327 - binary_accuracy: 0.8037 - val_loss: 1.3774 - val_binary_accuracy: 0.4851\n",
      "Epoch 51/100\n",
      "491/491 [==============================] - 28s 56ms/step - loss: 0.4275 - binary_accuracy: 0.8067 - val_loss: 1.2241 - val_binary_accuracy: 0.5190\n",
      "Epoch 52/100\n",
      "491/491 [==============================] - 28s 56ms/step - loss: 0.4225 - binary_accuracy: 0.8093 - val_loss: 1.2632 - val_binary_accuracy: 0.4783\n",
      "Epoch 53/100\n",
      "491/491 [==============================] - 28s 56ms/step - loss: 0.4230 - binary_accuracy: 0.8099 - val_loss: 1.2019 - val_binary_accuracy: 0.5068\n",
      "Epoch 54/100\n",
      "491/491 [==============================] - 27s 56ms/step - loss: 0.4178 - binary_accuracy: 0.8140 - val_loss: 1.3591 - val_binary_accuracy: 0.4959\n",
      "Epoch 55/100\n",
      "491/491 [==============================] - 27s 55ms/step - loss: 0.4184 - binary_accuracy: 0.8131 - val_loss: 1.1708 - val_binary_accuracy: 0.5041\n",
      "Epoch 56/100\n",
      "491/491 [==============================] - 28s 57ms/step - loss: 0.4199 - binary_accuracy: 0.8101 - val_loss: 1.2687 - val_binary_accuracy: 0.5041\n",
      "Epoch 57/100\n",
      "491/491 [==============================] - 28s 56ms/step - loss: 0.4174 - binary_accuracy: 0.8116 - val_loss: 1.1919 - val_binary_accuracy: 0.5204\n",
      "Epoch 58/100\n",
      "491/491 [==============================] - 28s 57ms/step - loss: 0.4114 - binary_accuracy: 0.8149 - val_loss: 1.1975 - val_binary_accuracy: 0.5041\n",
      "Epoch 59/100\n",
      "491/491 [==============================] - 29s 58ms/step - loss: 0.4098 - binary_accuracy: 0.8181 - val_loss: 1.2905 - val_binary_accuracy: 0.5054\n",
      "Epoch 60/100\n",
      "491/491 [==============================] - 29s 59ms/step - loss: 0.4054 - binary_accuracy: 0.8212 - val_loss: 1.1455 - val_binary_accuracy: 0.4973\n",
      "Epoch 61/100\n",
      "491/491 [==============================] - 29s 59ms/step - loss: 0.4062 - binary_accuracy: 0.8202 - val_loss: 1.2435 - val_binary_accuracy: 0.5095\n",
      "Epoch 62/100\n",
      "491/491 [==============================] - 28s 58ms/step - loss: 0.4064 - binary_accuracy: 0.8194 - val_loss: 1.2379 - val_binary_accuracy: 0.5068\n",
      "Epoch 63/100\n",
      "491/491 [==============================] - 28s 57ms/step - loss: 0.4069 - binary_accuracy: 0.8186 - val_loss: 1.2173 - val_binary_accuracy: 0.4959\n",
      "Epoch 64/100\n",
      "491/491 [==============================] - 28s 57ms/step - loss: 0.4055 - binary_accuracy: 0.8182 - val_loss: 1.1893 - val_binary_accuracy: 0.5000\n",
      "Epoch 65/100\n",
      "491/491 [==============================] - 28s 57ms/step - loss: 0.4101 - binary_accuracy: 0.8161 - val_loss: 1.0250 - val_binary_accuracy: 0.5000\n",
      "Epoch 66/100\n",
      "491/491 [==============================] - 28s 57ms/step - loss: 0.4004 - binary_accuracy: 0.8212 - val_loss: 1.3115 - val_binary_accuracy: 0.5000\n",
      "Epoch 67/100\n",
      "491/491 [==============================] - 27s 56ms/step - loss: 0.3996 - binary_accuracy: 0.8247 - val_loss: 1.3293 - val_binary_accuracy: 0.4932\n",
      "Epoch 68/100\n",
      "491/491 [==============================] - 28s 56ms/step - loss: 0.3999 - binary_accuracy: 0.8204 - val_loss: 1.2819 - val_binary_accuracy: 0.4864\n",
      "Epoch 69/100\n",
      "491/491 [==============================] - 28s 57ms/step - loss: 0.3963 - binary_accuracy: 0.8244 - val_loss: 1.2216 - val_binary_accuracy: 0.4918\n",
      "Epoch 70/100\n",
      "491/491 [==============================] - 28s 57ms/step - loss: 0.3971 - binary_accuracy: 0.8271 - val_loss: 1.2662 - val_binary_accuracy: 0.4891\n",
      "Epoch 71/100\n",
      "491/491 [==============================] - 28s 56ms/step - loss: 0.3941 - binary_accuracy: 0.8250 - val_loss: 1.2382 - val_binary_accuracy: 0.5068\n",
      "Epoch 72/100\n",
      "491/491 [==============================] - 28s 56ms/step - loss: 0.3912 - binary_accuracy: 0.8266 - val_loss: 1.1796 - val_binary_accuracy: 0.5231\n",
      "Epoch 73/100\n",
      "491/491 [==============================] - 27s 56ms/step - loss: 0.3913 - binary_accuracy: 0.8270 - val_loss: 1.3272 - val_binary_accuracy: 0.4959\n",
      "Epoch 74/100\n",
      "491/491 [==============================] - 27s 56ms/step - loss: 0.3917 - binary_accuracy: 0.8272 - val_loss: 1.3322 - val_binary_accuracy: 0.5027\n",
      "Epoch 75/100\n",
      "491/491 [==============================] - 27s 56ms/step - loss: 0.3866 - binary_accuracy: 0.8301 - val_loss: 1.2333 - val_binary_accuracy: 0.4878\n",
      "Epoch 76/100\n",
      "491/491 [==============================] - 27s 56ms/step - loss: 0.3817 - binary_accuracy: 0.8321 - val_loss: 1.2834 - val_binary_accuracy: 0.5014\n",
      "Epoch 77/100\n",
      "491/491 [==============================] - 28s 56ms/step - loss: 0.3853 - binary_accuracy: 0.8297 - val_loss: 1.2548 - val_binary_accuracy: 0.5041\n",
      "Epoch 78/100\n",
      "491/491 [==============================] - 28s 56ms/step - loss: 0.3863 - binary_accuracy: 0.8293 - val_loss: 1.4200 - val_binary_accuracy: 0.4946\n",
      "Epoch 79/100\n",
      "491/491 [==============================] - 28s 56ms/step - loss: 0.3882 - binary_accuracy: 0.8282 - val_loss: 1.2469 - val_binary_accuracy: 0.4959\n",
      "Epoch 80/100\n",
      "491/491 [==============================] - 28s 57ms/step - loss: 0.3821 - binary_accuracy: 0.8348 - val_loss: 1.3142 - val_binary_accuracy: 0.5027\n",
      "Epoch 81/100\n",
      "491/491 [==============================] - 28s 57ms/step - loss: 0.3799 - binary_accuracy: 0.8315 - val_loss: 1.3897 - val_binary_accuracy: 0.5000\n",
      "Epoch 82/100\n",
      "491/491 [==============================] - 28s 57ms/step - loss: 0.3773 - binary_accuracy: 0.8340 - val_loss: 1.2383 - val_binary_accuracy: 0.5000\n",
      "Epoch 83/100\n",
      "491/491 [==============================] - 28s 57ms/step - loss: 0.3724 - binary_accuracy: 0.8353 - val_loss: 1.2666 - val_binary_accuracy: 0.4986\n",
      "Epoch 84/100\n",
      "491/491 [==============================] - 28s 57ms/step - loss: 0.3796 - binary_accuracy: 0.8335 - val_loss: 1.2640 - val_binary_accuracy: 0.5014\n",
      "Epoch 85/100\n",
      "491/491 [==============================] - 28s 57ms/step - loss: 0.3770 - binary_accuracy: 0.8339 - val_loss: 1.3994 - val_binary_accuracy: 0.4959\n",
      "Epoch 86/100\n",
      "491/491 [==============================] - 28s 56ms/step - loss: 0.3744 - binary_accuracy: 0.8329 - val_loss: 1.3371 - val_binary_accuracy: 0.4823\n",
      "Epoch 87/100\n",
      "491/491 [==============================] - 28s 56ms/step - loss: 0.3730 - binary_accuracy: 0.8370 - val_loss: 1.2732 - val_binary_accuracy: 0.5109\n",
      "Epoch 88/100\n",
      "491/491 [==============================] - 28s 57ms/step - loss: 0.3708 - binary_accuracy: 0.8377 - val_loss: 1.4509 - val_binary_accuracy: 0.5014\n",
      "Epoch 89/100\n",
      "491/491 [==============================] - 28s 57ms/step - loss: 0.3706 - binary_accuracy: 0.8374 - val_loss: 1.3411 - val_binary_accuracy: 0.4986\n",
      "Epoch 90/100\n",
      "491/491 [==============================] - 28s 57ms/step - loss: 0.3677 - binary_accuracy: 0.8402 - val_loss: 1.3468 - val_binary_accuracy: 0.5068\n",
      "Epoch 91/100\n",
      "491/491 [==============================] - 28s 56ms/step - loss: 0.3677 - binary_accuracy: 0.8401 - val_loss: 1.3691 - val_binary_accuracy: 0.4932\n",
      "Epoch 92/100\n",
      "491/491 [==============================] - 28s 57ms/step - loss: 0.3654 - binary_accuracy: 0.8439 - val_loss: 1.3619 - val_binary_accuracy: 0.4851\n",
      "Epoch 93/100\n",
      "491/491 [==============================] - 28s 57ms/step - loss: 0.3643 - binary_accuracy: 0.8382 - val_loss: 1.4125 - val_binary_accuracy: 0.4986\n",
      "Epoch 94/100\n",
      "491/491 [==============================] - 28s 57ms/step - loss: 0.3603 - binary_accuracy: 0.8438 - val_loss: 1.4836 - val_binary_accuracy: 0.5027\n",
      "Epoch 95/100\n",
      "491/491 [==============================] - 27s 56ms/step - loss: 0.3584 - binary_accuracy: 0.8402 - val_loss: 1.2797 - val_binary_accuracy: 0.5014\n",
      "Epoch 96/100\n",
      "491/491 [==============================] - 27s 55ms/step - loss: 0.3604 - binary_accuracy: 0.8432 - val_loss: 1.5118 - val_binary_accuracy: 0.4946\n",
      "Epoch 97/100\n",
      "491/491 [==============================] - 27s 56ms/step - loss: 0.3552 - binary_accuracy: 0.8449 - val_loss: 1.3349 - val_binary_accuracy: 0.4918\n",
      "Epoch 98/100\n",
      "491/491 [==============================] - 27s 56ms/step - loss: 0.3594 - binary_accuracy: 0.8408 - val_loss: 1.4833 - val_binary_accuracy: 0.5014\n",
      "Epoch 99/100\n",
      "491/491 [==============================] - 28s 58ms/step - loss: 0.3558 - binary_accuracy: 0.8436 - val_loss: 1.4304 - val_binary_accuracy: 0.4946\n",
      "Epoch 100/100\n",
      "491/491 [==============================] - 28s 57ms/step - loss: 0.3545 - binary_accuracy: 0.8444 - val_loss: 1.4072 - val_binary_accuracy: 0.4918\n"
     ]
    }
   ],
   "source": [
    "# Train model on dataset\n",
    "with tf.device('/device:GPU:0'):\n",
    "    model = setModel()\n",
    "    # callback = tf.keras.callbacks.EarlyStopping(monitor='loss', patience=5)\n",
    "    history = model.fit(x=training_generator,\n",
    "                        validation_data=validation_generator,\n",
    "                        # callbacks=[callback],\n",
    "                        # use_multiprocessing=True,\n",
    "                        # workers=4,\n",
    "                        epochs=100,\n",
    "                        verbose=1)"
   ]
  },
  {
   "cell_type": "code",
   "execution_count": 17,
   "metadata": {},
   "outputs": [
    {
     "name": "stdout",
     "output_type": "stream",
     "text": [
      "INFO:tensorflow:Assets written to: models/ClassifierModel-v9/assets\n"
     ]
    }
   ],
   "source": [
    "model.save('models/ClassifierModel-v9')"
   ]
  },
  {
   "cell_type": "markdown",
   "metadata": {},
   "source": [
    "### Resultados del entrenamiento"
   ]
  },
  {
   "cell_type": "code",
   "execution_count": 18,
   "metadata": {},
   "outputs": [],
   "source": [
    "import matplotlib.pyplot as plt\n",
    "import seaborn as sns\n",
    "sns.set_theme(style=\"darkgrid\")"
   ]
  },
  {
   "cell_type": "code",
   "execution_count": 19,
   "metadata": {},
   "outputs": [
    {
     "data": {
      "text/plain": [
       "dict_keys(['loss', 'binary_accuracy', 'val_loss', 'val_binary_accuracy'])"
      ]
     },
     "execution_count": 19,
     "metadata": {},
     "output_type": "execute_result"
    }
   ],
   "source": [
    "history.history.keys()"
   ]
  },
  {
   "cell_type": "code",
   "execution_count": 20,
   "metadata": {},
   "outputs": [],
   "source": [
    "acc = pd.DataFrame({'accuracy':history.history['binary_accuracy'], 'type':'train'}).reset_index().rename(columns={'index':'epoch'})\n",
    "acc = pd.concat([acc, pd.DataFrame({'accuracy':history.history['val_binary_accuracy'], 'type':'val'}).reset_index().rename(columns={'index':'epoch'})]).reset_index(drop=True)\n",
    "loss = pd.DataFrame({'loss':history.history['loss'], 'type':'train'}).reset_index().rename(columns={'index':'epoch'})\n",
    "loss = pd.concat([loss, pd.DataFrame({'loss':history.history['val_loss'], 'type':'val'}).reset_index().rename(columns={'index':'epoch'})]).reset_index(drop=True)"
   ]
  },
  {
   "cell_type": "code",
   "execution_count": 21,
   "metadata": {},
   "outputs": [
    {
     "data": {
      "image/png": "[encoded data removed]",
      "text/plain": [
       "<Figure size 1080x360 with 2 Axes>"
      ]
     },
     "metadata": {},
     "output_type": "display_data"
    }
   ],
   "source": [
    "fig, ax = plt.subplots(nrows=1, ncols=2, figsize=(15,5))\n",
    "sns.lineplot(x='epoch', y='accuracy', data=acc, hue='type', ax=ax[0])\n",
    "sns.lineplot(x='epoch', y='loss', data=loss, hue='type', ax=ax[1])\n",
    "plt.show()"
   ]
  },
  {
   "cell_type": "code",
   "execution_count": 22,
   "metadata": {},
   "outputs": [
    {
     "data": {
      "text/html": [
       "<div>\n",
       "<style scoped>\n",
       "    .dataframe tbody tr th:only-of-type {\n",
       "        vertical-align: middle;\n",
       "    }\n",
       "\n",
       "    .dataframe tbody tr th {\n",
       "        vertical-align: top;\n",
       "    }\n",
       "\n",
       "    .dataframe thead th {\n",
       "        text-align: right;\n",
       "    }\n",
       "</style>\n",
       "<table border=\"1\" class=\"dataframe\">\n",
       "  <thead>\n",
       "    <tr style=\"text-align: right;\">\n",
       "      <th></th>\n",
       "      <th>epoch</th>\n",
       "      <th>accuracy</th>\n",
       "      <th>type</th>\n",
       "    </tr>\n",
       "  </thead>\n",
       "  <tbody>\n",
       "    <tr>\n",
       "      <th>99</th>\n",
       "      <td>99</td>\n",
       "      <td>0.844386</td>\n",
       "      <td>train</td>\n",
       "    </tr>\n",
       "    <tr>\n",
       "      <th>199</th>\n",
       "      <td>99</td>\n",
       "      <td>0.491848</td>\n",
       "      <td>val</td>\n",
       "    </tr>\n",
       "  </tbody>\n",
       "</table>\n",
       "</div>"
      ],
      "text/plain": [
       "     epoch  accuracy   type\n",
       "99      99  0.844386  train\n",
       "199     99  0.491848    val"
      ]
     },
     "execution_count": 22,
     "metadata": {},
     "output_type": "execute_result"
    }
   ],
   "source": [
    "acc.loc[acc.epoch == acc.epoch.max()]"
   ]
  },
  {
   "cell_type": "code",
   "execution_count": 23,
   "metadata": {},
   "outputs": [
    {
     "data": {
      "text/html": [
       "<div>\n",
       "<style scoped>\n",
       "    .dataframe tbody tr th:only-of-type {\n",
       "        vertical-align: middle;\n",
       "    }\n",
       "\n",
       "    .dataframe tbody tr th {\n",
       "        vertical-align: top;\n",
       "    }\n",
       "\n",
       "    .dataframe thead th {\n",
       "        text-align: right;\n",
       "    }\n",
       "</style>\n",
       "<table border=\"1\" class=\"dataframe\">\n",
       "  <thead>\n",
       "    <tr style=\"text-align: right;\">\n",
       "      <th></th>\n",
       "      <th>epoch</th>\n",
       "      <th>loss</th>\n",
       "      <th>type</th>\n",
       "    </tr>\n",
       "  </thead>\n",
       "  <tbody>\n",
       "    <tr>\n",
       "      <th>99</th>\n",
       "      <td>99</td>\n",
       "      <td>0.354531</td>\n",
       "      <td>train</td>\n",
       "    </tr>\n",
       "    <tr>\n",
       "      <th>199</th>\n",
       "      <td>99</td>\n",
       "      <td>1.407222</td>\n",
       "      <td>val</td>\n",
       "    </tr>\n",
       "  </tbody>\n",
       "</table>\n",
       "</div>"
      ],
      "text/plain": [
       "     epoch      loss   type\n",
       "99      99  0.354531  train\n",
       "199     99  1.407222    val"
      ]
     },
     "execution_count": 23,
     "metadata": {},
     "output_type": "execute_result"
    }
   ],
   "source": [
    "loss.loc[loss.epoch == loss.epoch.max()]"
   ]
  },
  {
   "cell_type": "markdown",
   "metadata": {},
   "source": [
    "### Evaluación de datos de prueba"
   ]
  },
  {
   "cell_type": "code",
   "execution_count": 1,
   "metadata": {},
   "outputs": [
    {
     "name": "stdout",
     "output_type": "stream",
     "text": [
      "[nltk_data] Downloading package punkt to /home/melesio/nltk_data...\n",
      "[nltk_data]   Package punkt is already up-to-date!\n",
      "[nltk_data] Downloading package stopwords to\n",
      "[nltk_data]     /home/melesio/nltk_data...\n",
      "[nltk_data]   Package stopwords is already up-to-date!\n",
      "[nltk_data] Downloading package wordnet to /home/melesio/nltk_data...\n",
      "[nltk_data]   Package wordnet is already up-to-date!\n",
      "[nltk_data] Downloading package omw-1.4 to /home/melesio/nltk_data...\n",
      "[nltk_data]   Package omw-1.4 is already up-to-date!\n",
      "[nltk_data] Downloading package averaged_perceptron_tagger to\n",
      "[nltk_data]     /home/melesio/nltk_data...\n",
      "[nltk_data]   Package averaged_perceptron_tagger is already up-to-\n",
      "[nltk_data]       date!\n",
      "Leyendo archivo de configuracion\n",
      "Inicia la transformacion de texto\n",
      "Creando diccionario de documentos unicos\n",
      "Realizando preprocesamiento\n",
      "Etapa de pre-procesmiento\n",
      "Extrayendo vectores de caracteristicas\n",
      "Etapa de extraccion de caracteristicas\n",
      "Extraccion de vectores lexicos\n",
      "Realizando vectorizacion\n",
      "Guardando resultadosto 79\n",
      "Extraccion de vectores sintacticos\n",
      "Realizando vectorizacion\n",
      "Guardando resultados\n",
      "Extraccion de vectores semanticos\n",
      "Realizando vectorizacion\n",
      "Guardando resultados\n",
      "Obteniendo espectros de contenido\n",
      "Etapa de unificacion del espacio\n",
      "/home/melesio/Documentos/SpectralTextRepresentation/minisom/minisom.py:167: UserWarning: Warning: sigma is too high for the dimension of the map.\n",
      "  warn('Warning: sigma is too high for the dimension of the map.')\n",
      "Leyendo vectores lexicos\n",
      "Obteninendo espectros\n",
      "Leyendo vectores sintacticos\n",
      "Obteninendo espectros\n",
      "Leyendo vectores semanticos\n",
      "Obteninendo espectros\n",
      "Consolidando capas\n",
      "Etapa de consolidacion de capas\n",
      "Información guardada\n",
      "Ensamble terminado\n",
      "Cargando modelo\n",
      "2022-05-21 17:59:16.718290: I tensorflow/stream_executor/cuda/cuda_gpu_executor.cc:936] successful NUMA node read from SysFS had negative value (-1), but there must be at least one NUMA node, so returning NUMA node zero\n",
      "2022-05-21 17:59:16.740398: I tensorflow/stream_executor/cuda/cuda_gpu_executor.cc:936] successful NUMA node read from SysFS had negative value (-1), but there must be at least one NUMA node, so returning NUMA node zero\n",
      "2022-05-21 17:59:16.740528: I tensorflow/stream_executor/cuda/cuda_gpu_executor.cc:936] successful NUMA node read from SysFS had negative value (-1), but there must be at least one NUMA node, so returning NUMA node zero\n",
      "2022-05-21 17:59:16.740848: I tensorflow/core/platform/cpu_feature_guard.cc:151] This TensorFlow binary is optimized with oneAPI Deep Neural Network Library (oneDNN) to use the following CPU instructions in performance-critical operations:  AVX2 FMA\n",
      "To enable them in other operations, rebuild TensorFlow with the appropriate compiler flags.\n",
      "2022-05-21 17:59:16.741705: I tensorflow/stream_executor/cuda/cuda_gpu_executor.cc:936] successful NUMA node read from SysFS had negative value (-1), but there must be at least one NUMA node, so returning NUMA node zero\n",
      "2022-05-21 17:59:16.741845: I tensorflow/stream_executor/cuda/cuda_gpu_executor.cc:936] successful NUMA node read from SysFS had negative value (-1), but there must be at least one NUMA node, so returning NUMA node zero\n",
      "2022-05-21 17:59:16.741976: I tensorflow/stream_executor/cuda/cuda_gpu_executor.cc:936] successful NUMA node read from SysFS had negative value (-1), but there must be at least one NUMA node, so returning NUMA node zero\n",
      "2022-05-21 17:59:17.066535: I tensorflow/stream_executor/cuda/cuda_gpu_executor.cc:936] successful NUMA node read from SysFS had negative value (-1), but there must be at least one NUMA node, so returning NUMA node zero\n",
      "2022-05-21 17:59:17.066695: I tensorflow/stream_executor/cuda/cuda_gpu_executor.cc:936] successful NUMA node read from SysFS had negative value (-1), but there must be at least one NUMA node, so returning NUMA node zero\n",
      "2022-05-21 17:59:17.066796: I tensorflow/stream_executor/cuda/cuda_gpu_executor.cc:936] successful NUMA node read from SysFS had negative value (-1), but there must be at least one NUMA node, so returning NUMA node zero\n",
      "2022-05-21 17:59:17.066890: I tensorflow/core/common_runtime/gpu/gpu_device.cc:1525] Created device /job:localhost/replica:0/task:0/device:GPU:0 with 7819 MB memory:  -> device: 0, name: NVIDIA GeForce RTX 3080, pci bus id: 0000:01:00.0, compute capability: 8.6\n",
      "Realizando predicciones\n",
      "2022-05-21 17:59:18.066815: I tensorflow/stream_executor/cuda/cuda_blas.cc:1786] TensorFloat-32 will be used for the matrix multiplication. This will only be logged once.\n"
     ]
    }
   ],
   "source": [
    "!python PredictionsTest.py -i testinput -o testoutput/v9"
   ]
  },
  {
   "cell_type": "code",
   "execution_count": 2,
   "metadata": {},
   "outputs": [
    {
     "name": "stdout",
     "output_type": "stream",
     "text": [
      "-> 1070 problems in ground truth\n",
      "-> 1070 solutions explicitly proposed\n",
      "{'auc': 0.529, 'c@1': 0.498, 'f_05_u': 0.542, 'F1': 0.623, 'brier': 0.601, 'overall': 0.559}\n"
     ]
    }
   ],
   "source": [
    "!python pan22_verif_evaluator.py -i testinput -a testoutput/v9 -o testoutput/v9"
   ]
  }
 ],
 "metadata": {
  "interpreter": {
   "hash": "34185cc76f1746f7da7738a8f19ab6509177ea129d1668aef168b7e0e18c804f"
  },
  "kernelspec": {
   "display_name": "Python 3.9.12 ('base')",
   "language": "python",
   "name": "python3"
  },
  "language_info": {
   "codemirror_mode": {
    "name": "ipython",
    "version": 3
   },
   "file_extension": ".py",
   "mimetype": "text/x-python",
   "name": "python",
   "nbconvert_exporter": "python",
   "pygments_lexer": "ipython3",
   "version": "3.9.12"
  },
  "orig_nbformat": 4
 },
 "nbformat": 4,
 "nbformat_minor": 2
}
