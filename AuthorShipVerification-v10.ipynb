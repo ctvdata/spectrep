{
 "cells": [
  {
   "cell_type": "code",
   "execution_count": 2,
   "metadata": {},
   "outputs": [],
   "source": [
    "import numpy as np\n",
    "import pandas as pd\n",
    "import tensorflow as tf\n",
    "import json\n",
    "from myGenerator import DataGenerator"
   ]
  },
  {
   "cell_type": "markdown",
   "metadata": {},
   "source": [
    "### Carga de datos"
   ]
  },
  {
   "cell_type": "code",
   "execution_count": 3,
   "metadata": {},
   "outputs": [],
   "source": [
    "train = pd.read_pickle(\"pan22-authorship-verification-training-dataset/particionesXid/PanTrain.plk\")\n",
    "val = pd.read_pickle(\"pan22-authorship-verification-training-dataset/particionesXid/PanVal.plk\")"
   ]
  },
  {
   "cell_type": "code",
   "execution_count": 4,
   "metadata": {},
   "outputs": [],
   "source": [
    "def spectraLoader(inputPath: str) -> pd.DataFrame:\n",
    "    df = pd.DataFrame()\n",
    "    with open(inputPath, encoding='utf-8') as f:\n",
    "        for line in f:\n",
    "            jsonline = json.loads(line)\n",
    "            lineDf = pd.DataFrame({'id':jsonline['id'], 'spectra':[np.array(jsonline['spectra'])]})\n",
    "            df = pd.concat([df, lineDf])\n",
    "    df = df.reset_index(drop=True)\n",
    "\n",
    "    return df"
   ]
  },
  {
   "cell_type": "code",
   "execution_count": 5,
   "metadata": {},
   "outputs": [],
   "source": [
    "full_spectra = spectraLoader(\"pan22-authorship-verification-training-dataset/particionesXid/FullSpectra.jsonl\")"
   ]
  },
  {
   "cell_type": "code",
   "execution_count": 6,
   "metadata": {},
   "outputs": [],
   "source": [
    "def loadLabels(inputPath:str, labelDict:dict) -> dict:\n",
    "    with open(inputPath, encoding='utf-8') as f:\n",
    "        for line in f:\n",
    "            jsonline = json.loads(line)\n",
    "            labelDict[jsonline['id']] = 1 if jsonline['value'] else 0\n",
    "        \n",
    "    return labelDict"
   ]
  },
  {
   "cell_type": "code",
   "execution_count": 7,
   "metadata": {},
   "outputs": [],
   "source": [
    "labels = dict()\n",
    "labels = loadLabels('pan22-authorship-verification-training-dataset/particiones/train_truth.jsonl',labels)\n",
    "labels = loadLabels('pan22-authorship-verification-training-dataset/particiones/val_truth.jsonl',labels)"
   ]
  },
  {
   "cell_type": "code",
   "execution_count": 8,
   "metadata": {},
   "outputs": [
    {
     "name": "stdout",
     "output_type": "stream",
     "text": [
      "Instances: 16486.0\n",
      "Labels:  16486\n"
     ]
    }
   ],
   "source": [
    "print(\"Instances: {}\".format((train.shape[0] + val.shape[0])/2))\n",
    "print(\"Labels: \",len(labels))"
   ]
  },
  {
   "cell_type": "code",
   "execution_count": 9,
   "metadata": {},
   "outputs": [],
   "source": [
    "partition = {'train': train.id.unique().tolist(), 'validation': val.id.unique().tolist()}"
   ]
  },
  {
   "cell_type": "code",
   "execution_count": 10,
   "metadata": {},
   "outputs": [
    {
     "name": "stdout",
     "output_type": "stream",
     "text": [
      "Train:  15732\n",
      "Validation:  754\n",
      "Total:  16486\n"
     ]
    }
   ],
   "source": [
    "print(\"Train: \", len(partition['train']))\n",
    "print(\"Validation: \", len(partition['validation']))\n",
    "print(\"Total: \", len(partition['train'])+len(partition['validation']))"
   ]
  },
  {
   "cell_type": "markdown",
   "metadata": {},
   "source": [
    "### Definición de la arquitectura del modelo"
   ]
  },
  {
   "cell_type": "code",
   "execution_count": 11,
   "metadata": {},
   "outputs": [],
   "source": [
    "# Modelo de red siamesa utilizando una red residual y un perceptron multicapa SIN CAPAS CUSTOM\n",
    "\n",
    "def setModel():\n",
    "    x1 = tf.keras.Input(shape=(1200,), name=\"input_1\")\n",
    "    x2 = tf.keras.Input(shape=(1200,), name=\"input_2\")\n",
    "\n",
    "    # Batch normalization\n",
    "    bn_layer = tf.keras.layers.BatchNormalization(name=\"Batch_normalization\")\n",
    "    bn1 = bn_layer(x1)\n",
    "    bn2 = bn_layer(x2)\n",
    "\n",
    "    # Gaussian noise\n",
    "    gaussian_noise_layer = tf.keras.layers.GaussianNoise(1.0, name=\"Gaussian_noise\")\n",
    "    gn1 = gaussian_noise_layer(bn1)\n",
    "    gn2 = gaussian_noise_layer(bn2)\n",
    "\n",
    "    # Dropout\n",
    "    dropout_layer = tf.keras.layers.Dropout(0.4, name=\"Dropout_1\")\n",
    "    do1 = dropout_layer(gn1)\n",
    "    do2 = dropout_layer(gn2)\n",
    "\n",
    "    # Residual network\n",
    "    dense_layer_1 = tf.keras.layers.Dense(512, activation='relu', name=\"resdense_1\")\n",
    "    o1_1 = dense_layer_1(do1)\n",
    "    o1_2 = dense_layer_1(do2)\n",
    "\n",
    "    dense_layer_2 = tf.keras.layers.Dense(512, activation='relu', name=\"resdense_2\")\n",
    "    o2_1 = dense_layer_2(o1_1)\n",
    "    o2_2 = dense_layer_2(o1_2)\n",
    "\n",
    "    # Residual layer\n",
    "    dense_layer_3 = tf.keras.layers.Dense(512, activation='relu', name=\"resdense_3\")\n",
    "    o3_1 = dense_layer_3(tf.subtract(o1_1, o2_1))\n",
    "    o3_2 = dense_layer_3(tf.subtract(o1_2, o2_2))\n",
    "\n",
    "    dense_layer_4 = tf.keras.layers.Dense(512, activation='relu', name=\"resdense_4\")\n",
    "    o4_1 = dense_layer_4(o3_1)\n",
    "    o4_2 = dense_layer_4(o3_2)\n",
    "\n",
    "    # # Residual layer\n",
    "    # dense_layer_5 = tf.keras.layers.Dense(256, activation='relu', name=\"resdense_5\")\n",
    "    # o5_1 = dense_layer_5(tf.subtract(o3_1, o4_1))\n",
    "    # o5_2 = dense_layer_5(tf.subtract(o3_2, o4_2))\n",
    "\n",
    "    # dense_layer_6 = tf.keras.layers.Dense(256, activation='relu', name=\"resdense_6\")\n",
    "    # o6_1 = dense_layer_6(o5_1)\n",
    "    # o6_2 = dense_layer_6(o5_2)\n",
    "\n",
    "    # # Residual layer\n",
    "    # dense_layer_7 = tf.keras.layers.Dense(256, activation='relu', name=\"resdense_7\")\n",
    "    # o7_1 = dense_layer_7(tf.subtract(o5_1, o6_1))\n",
    "    # o7_2 = dense_layer_7(tf.subtract(o5_2, o6_2))\n",
    "\n",
    "    # dense_layer_8 = tf.keras.layers.Dense(256, activation='relu', name=\"resdense_8\")\n",
    "    # o8_1 = dense_layer_8(o7_1)\n",
    "    # o8_2 = dense_layer_8(o7_2)\n",
    "\n",
    "    # # Residual layer\n",
    "    # dense_layer_9 = tf.keras.layers.Dense(256, activation='relu', name=\"resdense_9\")\n",
    "    # o9_1 = dense_layer_9(tf.subtract(o7_1, o8_1))\n",
    "    # o9_2 = dense_layer_9(tf.subtract(o7_2, o8_2))\n",
    "\n",
    "    # Merging\n",
    "    # merge = tf.math.abs(tf.subtract(o9_1,o9_2))\n",
    "    merge = tf.subtract(o4_1,o4_2)\n",
    "\n",
    "    # MLPNN Classifier\n",
    "    dense1 = tf.keras.layers.Dense(256, activation='relu',kernel_regularizer=tf.keras.regularizers.l2(0.001))(merge)\n",
    "    do3 = tf.keras.layers.Dropout(0.4)(dense1)\n",
    "    bn1 = tf.keras.layers.BatchNormalization()(do3)\n",
    "    dense2 = tf.keras.layers.Dense(128, activation='relu',kernel_regularizer=tf.keras.regularizers.l2(0.001))(bn1)\n",
    "    do4 = tf.keras.layers.Dropout(0.4)(dense2)\n",
    "    bn2 = tf.keras.layers.BatchNormalization()(do4)\n",
    "    output = tf.keras.layers.Dense(1, activation='sigmoid',kernel_regularizer=tf.keras.regularizers.l2(0.001))(bn2)\n",
    "\n",
    "    model = tf.keras.Model([x1, x2], output)\n",
    "    model.compile(loss = 'binary_crossentropy', optimizer = \"adam\", metrics=[\"binary_accuracy\"])\n",
    "\n",
    "    return model"
   ]
  },
  {
   "cell_type": "code",
   "execution_count": 12,
   "metadata": {},
   "outputs": [
    {
     "name": "stdout",
     "output_type": "stream",
     "text": [
      "Model: \"model\"\n",
      "__________________________________________________________________________________________________\n",
      " Layer (type)                   Output Shape         Param #     Connected to                     \n",
      "==================================================================================================\n",
      " input_1 (InputLayer)           [(None, 1200)]       0           []                               \n",
      "                                                                                                  \n",
      " input_2 (InputLayer)           [(None, 1200)]       0           []                               \n",
      "                                                                                                  \n",
      " Batch_normalization (BatchNorm  (None, 1200)        4800        ['input_1[0][0]',                \n",
      " alization)                                                       'input_2[0][0]']                \n",
      "                                                                                                  \n",
      " Gaussian_noise (GaussianNoise)  (None, 1200)        0           ['Batch_normalization[0][0]',    \n",
      "                                                                  'Batch_normalization[1][0]']    \n",
      "                                                                                                  \n",
      " Dropout_1 (Dropout)            (None, 1200)         0           ['Gaussian_noise[0][0]',         \n",
      "                                                                  'Gaussian_noise[1][0]']         \n",
      "                                                                                                  \n",
      " resdense_1 (Dense)             (None, 512)          614912      ['Dropout_1[0][0]',              \n",
      "                                                                  'Dropout_1[1][0]']              \n",
      "                                                                                                  \n",
      " resdense_2 (Dense)             (None, 512)          262656      ['resdense_1[0][0]',             \n",
      "                                                                  'resdense_1[1][0]']             \n",
      "                                                                                                  \n",
      " tf.math.subtract (TFOpLambda)  (None, 512)          0           ['resdense_1[0][0]',             \n",
      "                                                                  'resdense_2[0][0]']             \n",
      "                                                                                                  \n",
      " tf.math.subtract_1 (TFOpLambda  (None, 512)         0           ['resdense_1[1][0]',             \n",
      " )                                                                'resdense_2[1][0]']             \n",
      "                                                                                                  \n",
      " resdense_3 (Dense)             (None, 512)          262656      ['tf.math.subtract[0][0]',       \n",
      "                                                                  'tf.math.subtract_1[0][0]']     \n",
      "                                                                                                  \n",
      " resdense_4 (Dense)             (None, 512)          262656      ['resdense_3[0][0]',             \n",
      "                                                                  'resdense_3[1][0]']             \n",
      "                                                                                                  \n",
      " tf.math.subtract_2 (TFOpLambda  (None, 512)         0           ['resdense_4[0][0]',             \n",
      " )                                                                'resdense_4[1][0]']             \n",
      "                                                                                                  \n",
      " dense (Dense)                  (None, 256)          131328      ['tf.math.subtract_2[0][0]']     \n",
      "                                                                                                  \n",
      " dropout (Dropout)              (None, 256)          0           ['dense[0][0]']                  \n",
      "                                                                                                  \n",
      " batch_normalization (BatchNorm  (None, 256)         1024        ['dropout[0][0]']                \n",
      " alization)                                                                                       \n",
      "                                                                                                  \n",
      " dense_1 (Dense)                (None, 128)          32896       ['batch_normalization[0][0]']    \n",
      "                                                                                                  \n",
      " dropout_1 (Dropout)            (None, 128)          0           ['dense_1[0][0]']                \n",
      "                                                                                                  \n",
      " batch_normalization_1 (BatchNo  (None, 128)         512         ['dropout_1[0][0]']              \n",
      " rmalization)                                                                                     \n",
      "                                                                                                  \n",
      " dense_2 (Dense)                (None, 1)            129         ['batch_normalization_1[0][0]']  \n",
      "                                                                                                  \n",
      "==================================================================================================\n",
      "Total params: 1,573,569\n",
      "Trainable params: 1,570,401\n",
      "Non-trainable params: 3,168\n",
      "__________________________________________________________________________________________________\n"
     ]
    },
    {
     "name": "stderr",
     "output_type": "stream",
     "text": [
      "2022-05-23 23:19:34.526046: I tensorflow/stream_executor/cuda/cuda_gpu_executor.cc:936] successful NUMA node read from SysFS had negative value (-1), but there must be at least one NUMA node, so returning NUMA node zero\n",
      "2022-05-23 23:19:34.567379: I tensorflow/stream_executor/cuda/cuda_gpu_executor.cc:936] successful NUMA node read from SysFS had negative value (-1), but there must be at least one NUMA node, so returning NUMA node zero\n",
      "2022-05-23 23:19:34.567501: I tensorflow/stream_executor/cuda/cuda_gpu_executor.cc:936] successful NUMA node read from SysFS had negative value (-1), but there must be at least one NUMA node, so returning NUMA node zero\n",
      "2022-05-23 23:19:34.568107: I tensorflow/core/platform/cpu_feature_guard.cc:151] This TensorFlow binary is optimized with oneAPI Deep Neural Network Library (oneDNN) to use the following CPU instructions in performance-critical operations:  AVX2 FMA\n",
      "To enable them in other operations, rebuild TensorFlow with the appropriate compiler flags.\n",
      "2022-05-23 23:19:34.568949: I tensorflow/stream_executor/cuda/cuda_gpu_executor.cc:936] successful NUMA node read from SysFS had negative value (-1), but there must be at least one NUMA node, so returning NUMA node zero\n",
      "2022-05-23 23:19:34.569051: I tensorflow/stream_executor/cuda/cuda_gpu_executor.cc:936] successful NUMA node read from SysFS had negative value (-1), but there must be at least one NUMA node, so returning NUMA node zero\n",
      "2022-05-23 23:19:34.569128: I tensorflow/stream_executor/cuda/cuda_gpu_executor.cc:936] successful NUMA node read from SysFS had negative value (-1), but there must be at least one NUMA node, so returning NUMA node zero\n",
      "2022-05-23 23:19:35.073568: I tensorflow/stream_executor/cuda/cuda_gpu_executor.cc:936] successful NUMA node read from SysFS had negative value (-1), but there must be at least one NUMA node, so returning NUMA node zero\n",
      "2022-05-23 23:19:35.073695: I tensorflow/stream_executor/cuda/cuda_gpu_executor.cc:936] successful NUMA node read from SysFS had negative value (-1), but there must be at least one NUMA node, so returning NUMA node zero\n",
      "2022-05-23 23:19:35.073784: I tensorflow/stream_executor/cuda/cuda_gpu_executor.cc:936] successful NUMA node read from SysFS had negative value (-1), but there must be at least one NUMA node, so returning NUMA node zero\n",
      "2022-05-23 23:19:35.074034: I tensorflow/core/common_runtime/gpu/gpu_device.cc:1525] Created device /job:localhost/replica:0/task:0/device:GPU:0 with 7784 MB memory:  -> device: 0, name: NVIDIA GeForce RTX 3080, pci bus id: 0000:01:00.0, compute capability: 8.6\n"
     ]
    }
   ],
   "source": [
    "model = setModel()\n",
    "model.summary()"
   ]
  },
  {
   "cell_type": "markdown",
   "metadata": {},
   "source": [
    "### Entrenamiento del modelo"
   ]
  },
  {
   "cell_type": "code",
   "execution_count": 13,
   "metadata": {},
   "outputs": [],
   "source": [
    "# Parameters\n",
    "params = {'dim': (1200,),\n",
    "            'batch_size': 256,\n",
    "            'shuffle': True}"
   ]
  },
  {
   "cell_type": "code",
   "execution_count": 14,
   "metadata": {},
   "outputs": [],
   "source": [
    "# Generators\n",
    "training_generator = DataGenerator(partition['train'], train, labels, full_spectra, **params)\n",
    "validation_generator = DataGenerator(partition['validation'], val, labels, full_spectra, **params)"
   ]
  },
  {
   "cell_type": "code",
   "execution_count": 15,
   "metadata": {},
   "outputs": [
    {
     "name": "stderr",
     "output_type": "stream",
     "text": [
      "2022-05-23 23:19:56.693547: I tensorflow/stream_executor/cuda/cuda_gpu_executor.cc:936] successful NUMA node read from SysFS had negative value (-1), but there must be at least one NUMA node, so returning NUMA node zero\n",
      "2022-05-23 23:19:56.693686: I tensorflow/stream_executor/cuda/cuda_gpu_executor.cc:936] successful NUMA node read from SysFS had negative value (-1), but there must be at least one NUMA node, so returning NUMA node zero\n",
      "2022-05-23 23:19:56.693766: I tensorflow/stream_executor/cuda/cuda_gpu_executor.cc:936] successful NUMA node read from SysFS had negative value (-1), but there must be at least one NUMA node, so returning NUMA node zero\n",
      "2022-05-23 23:19:56.693909: I tensorflow/stream_executor/cuda/cuda_gpu_executor.cc:936] successful NUMA node read from SysFS had negative value (-1), but there must be at least one NUMA node, so returning NUMA node zero\n",
      "2022-05-23 23:19:56.694024: I tensorflow/stream_executor/cuda/cuda_gpu_executor.cc:936] successful NUMA node read from SysFS had negative value (-1), but there must be at least one NUMA node, so returning NUMA node zero\n",
      "2022-05-23 23:19:56.694084: I tensorflow/core/common_runtime/gpu/gpu_device.cc:1525] Created device /device:GPU:0 with 7784 MB memory:  -> device: 0, name: NVIDIA GeForce RTX 3080, pci bus id: 0000:01:00.0, compute capability: 8.6\n"
     ]
    },
    {
     "data": {
      "text/plain": [
       "'/device:GPU:0'"
      ]
     },
     "execution_count": 15,
     "metadata": {},
     "output_type": "execute_result"
    }
   ],
   "source": [
    "tf.test.gpu_device_name()"
   ]
  },
  {
   "cell_type": "code",
   "execution_count": 16,
   "metadata": {},
   "outputs": [
    {
     "name": "stdout",
     "output_type": "stream",
     "text": [
      "Epoch 1/100\n",
      " 1/61 [..............................] - ETA: 2:06 - loss: 1.4540 - binary_accuracy: 0.5078"
     ]
    },
    {
     "name": "stderr",
     "output_type": "stream",
     "text": [
      "2022-05-23 23:20:02.124346: I tensorflow/stream_executor/cuda/cuda_blas.cc:1786] TensorFloat-32 will be used for the matrix multiplication. This will only be logged once.\n"
     ]
    },
    {
     "name": "stdout",
     "output_type": "stream",
     "text": [
      "61/61 [==============================] - 28s 430ms/step - loss: 1.2726 - binary_accuracy: 0.5247 - val_loss: 1.1141 - val_binary_accuracy: 0.5059\n",
      "Epoch 2/100\n",
      "61/61 [==============================] - 26s 430ms/step - loss: 1.1252 - binary_accuracy: 0.5466 - val_loss: 1.0299 - val_binary_accuracy: 0.5820\n",
      "Epoch 3/100\n",
      "61/61 [==============================] - 27s 437ms/step - loss: 1.0183 - binary_accuracy: 0.5628 - val_loss: 0.9532 - val_binary_accuracy: 0.5898\n",
      "Epoch 4/100\n",
      "61/61 [==============================] - 27s 437ms/step - loss: 0.9409 - binary_accuracy: 0.5800 - val_loss: 0.9032 - val_binary_accuracy: 0.5781\n",
      "Epoch 5/100\n",
      "61/61 [==============================] - 27s 439ms/step - loss: 0.8844 - binary_accuracy: 0.5804 - val_loss: 0.8594 - val_binary_accuracy: 0.5762\n",
      "Epoch 6/100\n",
      "61/61 [==============================] - 27s 439ms/step - loss: 0.8330 - binary_accuracy: 0.5934 - val_loss: 0.8108 - val_binary_accuracy: 0.5996\n",
      "Epoch 7/100\n",
      "61/61 [==============================] - 27s 437ms/step - loss: 0.7986 - binary_accuracy: 0.5974 - val_loss: 0.7758 - val_binary_accuracy: 0.5977\n",
      "Epoch 8/100\n",
      "61/61 [==============================] - 27s 438ms/step - loss: 0.7636 - binary_accuracy: 0.6112 - val_loss: 0.7639 - val_binary_accuracy: 0.5625\n",
      "Epoch 9/100\n",
      "61/61 [==============================] - 27s 435ms/step - loss: 0.7410 - binary_accuracy: 0.6188 - val_loss: 0.7483 - val_binary_accuracy: 0.5938\n",
      "Epoch 10/100\n",
      "61/61 [==============================] - 26s 426ms/step - loss: 0.7147 - binary_accuracy: 0.6406 - val_loss: 0.7285 - val_binary_accuracy: 0.5918\n",
      "Epoch 11/100\n",
      "61/61 [==============================] - 26s 429ms/step - loss: 0.6983 - binary_accuracy: 0.6424 - val_loss: 0.7290 - val_binary_accuracy: 0.5664\n",
      "Epoch 12/100\n",
      "61/61 [==============================] - 26s 428ms/step - loss: 0.6863 - binary_accuracy: 0.6482 - val_loss: 0.7125 - val_binary_accuracy: 0.6055\n",
      "Epoch 13/100\n",
      "61/61 [==============================] - 25s 417ms/step - loss: 0.6722 - binary_accuracy: 0.6550 - val_loss: 0.7335 - val_binary_accuracy: 0.5723\n",
      "Epoch 14/100\n",
      "61/61 [==============================] - 25s 415ms/step - loss: 0.6612 - binary_accuracy: 0.6582 - val_loss: 0.7104 - val_binary_accuracy: 0.6035\n",
      "Epoch 15/100\n",
      "61/61 [==============================] - 26s 419ms/step - loss: 0.6476 - binary_accuracy: 0.6653 - val_loss: 0.6894 - val_binary_accuracy: 0.6113\n",
      "Epoch 16/100\n",
      "61/61 [==============================] - 25s 413ms/step - loss: 0.6369 - binary_accuracy: 0.6726 - val_loss: 0.7161 - val_binary_accuracy: 0.5820\n",
      "Epoch 17/100\n",
      "61/61 [==============================] - 25s 407ms/step - loss: 0.6295 - binary_accuracy: 0.6791 - val_loss: 0.7486 - val_binary_accuracy: 0.5684\n",
      "Epoch 18/100\n",
      "61/61 [==============================] - 24s 401ms/step - loss: 0.6140 - binary_accuracy: 0.6965 - val_loss: 0.7741 - val_binary_accuracy: 0.5918\n",
      "Epoch 19/100\n",
      "61/61 [==============================] - 25s 403ms/step - loss: 0.6131 - binary_accuracy: 0.6929 - val_loss: 0.7636 - val_binary_accuracy: 0.5625\n",
      "Epoch 20/100\n",
      "61/61 [==============================] - 25s 401ms/step - loss: 0.5999 - binary_accuracy: 0.7002 - val_loss: 0.7831 - val_binary_accuracy: 0.5918\n",
      "Epoch 21/100\n",
      "61/61 [==============================] - 25s 404ms/step - loss: 0.5926 - binary_accuracy: 0.7106 - val_loss: 0.8244 - val_binary_accuracy: 0.5996\n",
      "Epoch 22/100\n",
      "61/61 [==============================] - 24s 401ms/step - loss: 0.5777 - binary_accuracy: 0.7202 - val_loss: 0.7957 - val_binary_accuracy: 0.5801\n",
      "Epoch 23/100\n",
      "61/61 [==============================] - 25s 403ms/step - loss: 0.5715 - binary_accuracy: 0.7269 - val_loss: 0.8050 - val_binary_accuracy: 0.5859\n",
      "Epoch 24/100\n",
      "61/61 [==============================] - 25s 404ms/step - loss: 0.5694 - binary_accuracy: 0.7252 - val_loss: 0.8314 - val_binary_accuracy: 0.5820\n",
      "Epoch 25/100\n",
      "61/61 [==============================] - 25s 402ms/step - loss: 0.5527 - binary_accuracy: 0.7430 - val_loss: 0.8802 - val_binary_accuracy: 0.5156\n",
      "Epoch 26/100\n",
      "61/61 [==============================] - 25s 406ms/step - loss: 0.5550 - binary_accuracy: 0.7376 - val_loss: 0.8561 - val_binary_accuracy: 0.5645\n",
      "Epoch 27/100\n",
      "61/61 [==============================] - 24s 401ms/step - loss: 0.5418 - binary_accuracy: 0.7460 - val_loss: 0.8779 - val_binary_accuracy: 0.5508\n",
      "Epoch 28/100\n",
      "61/61 [==============================] - 24s 400ms/step - loss: 0.5324 - binary_accuracy: 0.7524 - val_loss: 0.9325 - val_binary_accuracy: 0.5352\n",
      "Epoch 29/100\n",
      "61/61 [==============================] - 24s 398ms/step - loss: 0.5233 - binary_accuracy: 0.7624 - val_loss: 0.9101 - val_binary_accuracy: 0.5625\n",
      "Epoch 30/100\n",
      "61/61 [==============================] - 25s 402ms/step - loss: 0.5167 - binary_accuracy: 0.7668 - val_loss: 0.9523 - val_binary_accuracy: 0.5430\n",
      "Epoch 31/100\n",
      "61/61 [==============================] - 25s 404ms/step - loss: 0.5072 - binary_accuracy: 0.7745 - val_loss: 0.9105 - val_binary_accuracy: 0.5605\n",
      "Epoch 32/100\n",
      "61/61 [==============================] - 25s 402ms/step - loss: 0.5014 - binary_accuracy: 0.7772 - val_loss: 1.0235 - val_binary_accuracy: 0.5137\n",
      "Epoch 33/100\n",
      "61/61 [==============================] - 25s 403ms/step - loss: 0.4921 - binary_accuracy: 0.7850 - val_loss: 0.9246 - val_binary_accuracy: 0.5469\n",
      "Epoch 34/100\n",
      "61/61 [==============================] - 24s 399ms/step - loss: 0.4829 - binary_accuracy: 0.7917 - val_loss: 0.8906 - val_binary_accuracy: 0.5664\n",
      "Epoch 35/100\n",
      "61/61 [==============================] - 25s 405ms/step - loss: 0.4764 - binary_accuracy: 0.7962 - val_loss: 0.9919 - val_binary_accuracy: 0.5469\n",
      "Epoch 36/100\n",
      "61/61 [==============================] - 24s 399ms/step - loss: 0.4662 - binary_accuracy: 0.7998 - val_loss: 0.9837 - val_binary_accuracy: 0.5762\n",
      "Epoch 37/100\n",
      "61/61 [==============================] - 24s 399ms/step - loss: 0.4559 - binary_accuracy: 0.8098 - val_loss: 1.1307 - val_binary_accuracy: 0.5586\n",
      "Epoch 38/100\n",
      "61/61 [==============================] - 24s 399ms/step - loss: 0.4523 - binary_accuracy: 0.8099 - val_loss: 1.1003 - val_binary_accuracy: 0.5469\n",
      "Epoch 39/100\n",
      "61/61 [==============================] - 25s 403ms/step - loss: 0.4344 - binary_accuracy: 0.8181 - val_loss: 1.3023 - val_binary_accuracy: 0.5254\n",
      "Epoch 40/100\n",
      "61/61 [==============================] - 25s 405ms/step - loss: 0.4409 - binary_accuracy: 0.8199 - val_loss: 1.1815 - val_binary_accuracy: 0.5508\n",
      "Epoch 41/100\n",
      "61/61 [==============================] - 25s 402ms/step - loss: 0.4281 - binary_accuracy: 0.8243 - val_loss: 1.1123 - val_binary_accuracy: 0.5312\n",
      "Epoch 42/100\n",
      "61/61 [==============================] - 25s 403ms/step - loss: 0.4217 - binary_accuracy: 0.8308 - val_loss: 1.1605 - val_binary_accuracy: 0.5723\n",
      "Epoch 43/100\n",
      "61/61 [==============================] - 25s 407ms/step - loss: 0.4126 - binary_accuracy: 0.8387 - val_loss: 1.1100 - val_binary_accuracy: 0.5723\n",
      "Epoch 44/100\n",
      "61/61 [==============================] - 25s 403ms/step - loss: 0.4012 - binary_accuracy: 0.8420 - val_loss: 1.0529 - val_binary_accuracy: 0.5273\n",
      "Epoch 45/100\n",
      "61/61 [==============================] - 25s 403ms/step - loss: 0.3962 - binary_accuracy: 0.8450 - val_loss: 1.2129 - val_binary_accuracy: 0.5234\n",
      "Epoch 46/100\n",
      "61/61 [==============================] - 26s 434ms/step - loss: 0.3892 - binary_accuracy: 0.8496 - val_loss: 1.0364 - val_binary_accuracy: 0.5586\n",
      "Epoch 47/100\n",
      "61/61 [==============================] - 26s 429ms/step - loss: 0.3774 - binary_accuracy: 0.8582 - val_loss: 1.1844 - val_binary_accuracy: 0.5391\n",
      "Epoch 48/100\n",
      "61/61 [==============================] - 26s 432ms/step - loss: 0.3811 - binary_accuracy: 0.8555 - val_loss: 1.2644 - val_binary_accuracy: 0.5176\n",
      "Epoch 49/100\n",
      "61/61 [==============================] - 26s 432ms/step - loss: 0.3599 - binary_accuracy: 0.8631 - val_loss: 1.2073 - val_binary_accuracy: 0.5586\n",
      "Epoch 50/100\n",
      "61/61 [==============================] - 26s 433ms/step - loss: 0.3501 - binary_accuracy: 0.8690 - val_loss: 1.2196 - val_binary_accuracy: 0.5156\n",
      "Epoch 51/100\n",
      "61/61 [==============================] - 26s 427ms/step - loss: 0.3510 - binary_accuracy: 0.8703 - val_loss: 1.2302 - val_binary_accuracy: 0.5234\n",
      "Epoch 52/100\n",
      "61/61 [==============================] - 25s 415ms/step - loss: 0.3409 - binary_accuracy: 0.8731 - val_loss: 1.2540 - val_binary_accuracy: 0.5430\n",
      "Epoch 53/100\n",
      "61/61 [==============================] - 25s 416ms/step - loss: 0.3282 - binary_accuracy: 0.8814 - val_loss: 1.1825 - val_binary_accuracy: 0.5566\n",
      "Epoch 54/100\n",
      "61/61 [==============================] - 25s 416ms/step - loss: 0.3295 - binary_accuracy: 0.8813 - val_loss: 1.2227 - val_binary_accuracy: 0.5605\n",
      "Epoch 55/100\n",
      "61/61 [==============================] - 26s 420ms/step - loss: 0.3172 - binary_accuracy: 0.8890 - val_loss: 1.3286 - val_binary_accuracy: 0.5547\n",
      "Epoch 56/100\n",
      "61/61 [==============================] - 25s 413ms/step - loss: 0.3108 - binary_accuracy: 0.8901 - val_loss: 1.2976 - val_binary_accuracy: 0.5410\n",
      "Epoch 57/100\n",
      "61/61 [==============================] - 25s 416ms/step - loss: 0.3088 - binary_accuracy: 0.8908 - val_loss: 1.2343 - val_binary_accuracy: 0.5566\n",
      "Epoch 58/100\n",
      "61/61 [==============================] - 26s 418ms/step - loss: 0.3001 - binary_accuracy: 0.8947 - val_loss: 1.3186 - val_binary_accuracy: 0.5332\n",
      "Epoch 59/100\n",
      "61/61 [==============================] - 26s 420ms/step - loss: 0.2993 - binary_accuracy: 0.8962 - val_loss: 1.2843 - val_binary_accuracy: 0.5352\n",
      "Epoch 60/100\n",
      "61/61 [==============================] - 25s 412ms/step - loss: 0.2846 - binary_accuracy: 0.9030 - val_loss: 1.2780 - val_binary_accuracy: 0.5508\n",
      "Epoch 61/100\n",
      "61/61 [==============================] - 25s 415ms/step - loss: 0.2851 - binary_accuracy: 0.9008 - val_loss: 1.4085 - val_binary_accuracy: 0.5293\n",
      "Epoch 62/100\n",
      "61/61 [==============================] - 25s 416ms/step - loss: 0.2798 - binary_accuracy: 0.9025 - val_loss: 1.4170 - val_binary_accuracy: 0.5293\n",
      "Epoch 63/100\n",
      "61/61 [==============================] - 25s 417ms/step - loss: 0.2702 - binary_accuracy: 0.9084 - val_loss: 1.3007 - val_binary_accuracy: 0.5547\n",
      "Epoch 64/100\n",
      "61/61 [==============================] - 25s 406ms/step - loss: 0.2768 - binary_accuracy: 0.9073 - val_loss: 1.3556 - val_binary_accuracy: 0.5098\n",
      "Epoch 65/100\n",
      "61/61 [==============================] - 24s 400ms/step - loss: 0.2699 - binary_accuracy: 0.9097 - val_loss: 1.2262 - val_binary_accuracy: 0.5352\n",
      "Epoch 66/100\n",
      "61/61 [==============================] - 25s 403ms/step - loss: 0.2602 - binary_accuracy: 0.9155 - val_loss: 1.1704 - val_binary_accuracy: 0.5762\n",
      "Epoch 67/100\n",
      "61/61 [==============================] - 24s 401ms/step - loss: 0.2585 - binary_accuracy: 0.9129 - val_loss: 1.2683 - val_binary_accuracy: 0.5391\n",
      "Epoch 68/100\n",
      "61/61 [==============================] - 25s 404ms/step - loss: 0.2489 - binary_accuracy: 0.9186 - val_loss: 1.2504 - val_binary_accuracy: 0.5625\n",
      "Epoch 69/100\n",
      "61/61 [==============================] - 25s 406ms/step - loss: 0.2448 - binary_accuracy: 0.9212 - val_loss: 1.3212 - val_binary_accuracy: 0.5371\n",
      "Epoch 70/100\n",
      "61/61 [==============================] - 26s 427ms/step - loss: 0.2441 - binary_accuracy: 0.9197 - val_loss: 1.3208 - val_binary_accuracy: 0.5371\n",
      "Epoch 71/100\n",
      "61/61 [==============================] - 26s 433ms/step - loss: 0.2418 - binary_accuracy: 0.9220 - val_loss: 1.3749 - val_binary_accuracy: 0.5098\n",
      "Epoch 72/100\n",
      "61/61 [==============================] - 26s 434ms/step - loss: 0.2420 - binary_accuracy: 0.9225 - val_loss: 1.4081 - val_binary_accuracy: 0.5254\n",
      "Epoch 73/100\n",
      "61/61 [==============================] - 26s 432ms/step - loss: 0.2364 - binary_accuracy: 0.9233 - val_loss: 1.3224 - val_binary_accuracy: 0.5645\n",
      "Epoch 74/100\n",
      "61/61 [==============================] - 27s 437ms/step - loss: 0.2307 - binary_accuracy: 0.9249 - val_loss: 1.4611 - val_binary_accuracy: 0.5117\n",
      "Epoch 75/100\n",
      "61/61 [==============================] - 27s 436ms/step - loss: 0.2239 - binary_accuracy: 0.9303 - val_loss: 1.3459 - val_binary_accuracy: 0.5508\n",
      "Epoch 76/100\n",
      "61/61 [==============================] - 26s 432ms/step - loss: 0.2340 - binary_accuracy: 0.9248 - val_loss: 1.5317 - val_binary_accuracy: 0.5273\n",
      "Epoch 77/100\n",
      "61/61 [==============================] - 27s 440ms/step - loss: 0.2270 - binary_accuracy: 0.9296 - val_loss: 1.3815 - val_binary_accuracy: 0.5293\n",
      "Epoch 78/100\n",
      "61/61 [==============================] - 26s 428ms/step - loss: 0.2206 - binary_accuracy: 0.9291 - val_loss: 1.4218 - val_binary_accuracy: 0.5410\n",
      "Epoch 79/100\n",
      "61/61 [==============================] - 26s 418ms/step - loss: 0.2185 - binary_accuracy: 0.9299 - val_loss: 1.3392 - val_binary_accuracy: 0.5254\n",
      "Epoch 80/100\n",
      "61/61 [==============================] - 25s 413ms/step - loss: 0.2137 - binary_accuracy: 0.9322 - val_loss: 1.4276 - val_binary_accuracy: 0.5215\n",
      "Epoch 81/100\n",
      "61/61 [==============================] - 25s 414ms/step - loss: 0.2187 - binary_accuracy: 0.9308 - val_loss: 1.3958 - val_binary_accuracy: 0.5332\n",
      "Epoch 82/100\n",
      "61/61 [==============================] - 25s 413ms/step - loss: 0.2194 - binary_accuracy: 0.9292 - val_loss: 1.4530 - val_binary_accuracy: 0.5176\n",
      "Epoch 83/100\n",
      "61/61 [==============================] - 25s 417ms/step - loss: 0.2146 - binary_accuracy: 0.9307 - val_loss: 1.2152 - val_binary_accuracy: 0.5469\n",
      "Epoch 84/100\n",
      "61/61 [==============================] - 25s 413ms/step - loss: 0.2137 - binary_accuracy: 0.9329 - val_loss: 1.3210 - val_binary_accuracy: 0.5566\n",
      "Epoch 85/100\n",
      "61/61 [==============================] - 26s 418ms/step - loss: 0.2124 - binary_accuracy: 0.9328 - val_loss: 1.4341 - val_binary_accuracy: 0.5391\n",
      "Epoch 86/100\n",
      "61/61 [==============================] - 25s 414ms/step - loss: 0.2065 - binary_accuracy: 0.9342 - val_loss: 1.4269 - val_binary_accuracy: 0.5215\n",
      "Epoch 87/100\n",
      "61/61 [==============================] - 25s 412ms/step - loss: 0.2054 - binary_accuracy: 0.9352 - val_loss: 1.5844 - val_binary_accuracy: 0.5059\n",
      "Epoch 88/100\n",
      "61/61 [==============================] - 25s 417ms/step - loss: 0.1984 - binary_accuracy: 0.9379 - val_loss: 1.5124 - val_binary_accuracy: 0.5195\n",
      "Epoch 89/100\n",
      "61/61 [==============================] - 25s 413ms/step - loss: 0.1992 - binary_accuracy: 0.9375 - val_loss: 1.4154 - val_binary_accuracy: 0.5215\n",
      "Epoch 90/100\n",
      "61/61 [==============================] - 25s 417ms/step - loss: 0.1933 - binary_accuracy: 0.9401 - val_loss: 1.6017 - val_binary_accuracy: 0.5020\n",
      "Epoch 91/100\n",
      "61/61 [==============================] - 25s 404ms/step - loss: 0.2044 - binary_accuracy: 0.9353 - val_loss: 1.2624 - val_binary_accuracy: 0.5469\n",
      "Epoch 92/100\n",
      "61/61 [==============================] - 25s 406ms/step - loss: 0.1935 - binary_accuracy: 0.9417 - val_loss: 1.4095 - val_binary_accuracy: 0.5332\n",
      "Epoch 93/100\n",
      "61/61 [==============================] - 25s 403ms/step - loss: 0.1905 - binary_accuracy: 0.9422 - val_loss: 1.3248 - val_binary_accuracy: 0.5371\n",
      "Epoch 94/100\n",
      "61/61 [==============================] - 25s 406ms/step - loss: 0.1985 - binary_accuracy: 0.9392 - val_loss: 1.2677 - val_binary_accuracy: 0.5605\n",
      "Epoch 95/100\n",
      "61/61 [==============================] - 25s 418ms/step - loss: 0.1863 - binary_accuracy: 0.9439 - val_loss: 1.3769 - val_binary_accuracy: 0.5625\n",
      "Epoch 96/100\n",
      "61/61 [==============================] - 26s 434ms/step - loss: 0.1879 - binary_accuracy: 0.9422 - val_loss: 1.3561 - val_binary_accuracy: 0.5410\n",
      "Epoch 97/100\n",
      "61/61 [==============================] - 26s 432ms/step - loss: 0.1967 - binary_accuracy: 0.9382 - val_loss: 1.5048 - val_binary_accuracy: 0.5195\n",
      "Epoch 98/100\n",
      "61/61 [==============================] - 27s 434ms/step - loss: 0.1888 - binary_accuracy: 0.9428 - val_loss: 1.4801 - val_binary_accuracy: 0.5332\n",
      "Epoch 99/100\n",
      "61/61 [==============================] - 26s 433ms/step - loss: 0.1847 - binary_accuracy: 0.9450 - val_loss: 1.5030 - val_binary_accuracy: 0.5156\n",
      "Epoch 100/100\n",
      "61/61 [==============================] - 26s 430ms/step - loss: 0.1900 - binary_accuracy: 0.9434 - val_loss: 1.2826 - val_binary_accuracy: 0.5527\n"
     ]
    }
   ],
   "source": [
    "# Train model on dataset\n",
    "with tf.device('/device:GPU:0'):\n",
    "    model = setModel()\n",
    "    callback = tf.keras.callbacks.EarlyStopping(monitor='loss', patience=10)\n",
    "    history = model.fit(x=training_generator,\n",
    "                        validation_data=validation_generator,\n",
    "                        callbacks=[callback],\n",
    "                        # use_multiprocessing=True,\n",
    "                        # workers=4,\n",
    "                        epochs=100,\n",
    "                        verbose=1)"
   ]
  },
  {
   "cell_type": "code",
   "execution_count": 17,
   "metadata": {},
   "outputs": [
    {
     "name": "stderr",
     "output_type": "stream",
     "text": [
      "2022-05-24 00:02:23.365253: W tensorflow/python/util/util.cc:368] Sets are not currently considered sequences, but this may change in the future, so consider avoiding using them.\n"
     ]
    },
    {
     "name": "stdout",
     "output_type": "stream",
     "text": [
      "INFO:tensorflow:Assets written to: models/ClassifierModel-v10/assets\n"
     ]
    }
   ],
   "source": [
    "model.save('models/ClassifierModel-v10')"
   ]
  },
  {
   "cell_type": "markdown",
   "metadata": {},
   "source": [
    "### Resultados del entrenamiento"
   ]
  },
  {
   "cell_type": "code",
   "execution_count": 18,
   "metadata": {},
   "outputs": [],
   "source": [
    "import matplotlib.pyplot as plt\n",
    "import seaborn as sns\n",
    "sns.set_theme(style=\"darkgrid\")"
   ]
  },
  {
   "cell_type": "code",
   "execution_count": 19,
   "metadata": {},
   "outputs": [
    {
     "data": {
      "text/plain": [
       "dict_keys(['loss', 'binary_accuracy', 'val_loss', 'val_binary_accuracy'])"
      ]
     },
     "execution_count": 19,
     "metadata": {},
     "output_type": "execute_result"
    }
   ],
   "source": [
    "history.history.keys()"
   ]
  },
  {
   "cell_type": "code",
   "execution_count": 20,
   "metadata": {},
   "outputs": [],
   "source": [
    "acc = pd.DataFrame({'accuracy':history.history['binary_accuracy'], 'type':'train'}).reset_index().rename(columns={'index':'epoch'})\n",
    "acc = pd.concat([acc, pd.DataFrame({'accuracy':history.history['val_binary_accuracy'], 'type':'val'}).reset_index().rename(columns={'index':'epoch'})]).reset_index(drop=True)\n",
    "loss = pd.DataFrame({'loss':history.history['loss'], 'type':'train'}).reset_index().rename(columns={'index':'epoch'})\n",
    "loss = pd.concat([loss, pd.DataFrame({'loss':history.history['val_loss'], 'type':'val'}).reset_index().rename(columns={'index':'epoch'})]).reset_index(drop=True)"
   ]
  },
  {
   "cell_type": "code",
   "execution_count": 21,
   "metadata": {},
   "outputs": [
    {
     "data": {
      "image/png": "[encoded data removed]",
      "text/plain": [
       "<Figure size 1080x360 with 2 Axes>"
      ]
     },
     "metadata": {},
     "output_type": "display_data"
    }
   ],
   "source": [
    "fig, ax = plt.subplots(nrows=1, ncols=2, figsize=(15,5))\n",
    "sns.lineplot(x='epoch', y='accuracy', data=acc, hue='type', ax=ax[0])\n",
    "sns.lineplot(x='epoch', y='loss', data=loss, hue='type', ax=ax[1])\n",
    "plt.show()"
   ]
  },
  {
   "cell_type": "code",
   "execution_count": 22,
   "metadata": {},
   "outputs": [
    {
     "data": {
      "text/html": [
       "<div>\n",
       "<style scoped>\n",
       "    .dataframe tbody tr th:only-of-type {\n",
       "        vertical-align: middle;\n",
       "    }\n",
       "\n",
       "    .dataframe tbody tr th {\n",
       "        vertical-align: top;\n",
       "    }\n",
       "\n",
       "    .dataframe thead th {\n",
       "        text-align: right;\n",
       "    }\n",
       "</style>\n",
       "<table border=\"1\" class=\"dataframe\">\n",
       "  <thead>\n",
       "    <tr style=\"text-align: right;\">\n",
       "      <th></th>\n",
       "      <th>epoch</th>\n",
       "      <th>accuracy</th>\n",
       "      <th>type</th>\n",
       "    </tr>\n",
       "  </thead>\n",
       "  <tbody>\n",
       "    <tr>\n",
       "      <th>99</th>\n",
       "      <td>99</td>\n",
       "      <td>0.943391</td>\n",
       "      <td>train</td>\n",
       "    </tr>\n",
       "    <tr>\n",
       "      <th>199</th>\n",
       "      <td>99</td>\n",
       "      <td>0.552734</td>\n",
       "      <td>val</td>\n",
       "    </tr>\n",
       "  </tbody>\n",
       "</table>\n",
       "</div>"
      ],
      "text/plain": [
       "     epoch  accuracy   type\n",
       "99      99  0.943391  train\n",
       "199     99  0.552734    val"
      ]
     },
     "execution_count": 22,
     "metadata": {},
     "output_type": "execute_result"
    }
   ],
   "source": [
    "acc.loc[acc.epoch == acc.epoch.max()]"
   ]
  },
  {
   "cell_type": "code",
   "execution_count": 23,
   "metadata": {},
   "outputs": [
    {
     "data": {
      "text/html": [
       "<div>\n",
       "<style scoped>\n",
       "    .dataframe tbody tr th:only-of-type {\n",
       "        vertical-align: middle;\n",
       "    }\n",
       "\n",
       "    .dataframe tbody tr th {\n",
       "        vertical-align: top;\n",
       "    }\n",
       "\n",
       "    .dataframe thead th {\n",
       "        text-align: right;\n",
       "    }\n",
       "</style>\n",
       "<table border=\"1\" class=\"dataframe\">\n",
       "  <thead>\n",
       "    <tr style=\"text-align: right;\">\n",
       "      <th></th>\n",
       "      <th>epoch</th>\n",
       "      <th>loss</th>\n",
       "      <th>type</th>\n",
       "    </tr>\n",
       "  </thead>\n",
       "  <tbody>\n",
       "    <tr>\n",
       "      <th>99</th>\n",
       "      <td>99</td>\n",
       "      <td>0.189992</td>\n",
       "      <td>train</td>\n",
       "    </tr>\n",
       "    <tr>\n",
       "      <th>199</th>\n",
       "      <td>99</td>\n",
       "      <td>1.282626</td>\n",
       "      <td>val</td>\n",
       "    </tr>\n",
       "  </tbody>\n",
       "</table>\n",
       "</div>"
      ],
      "text/plain": [
       "     epoch      loss   type\n",
       "99      99  0.189992  train\n",
       "199     99  1.282626    val"
      ]
     },
     "execution_count": 23,
     "metadata": {},
     "output_type": "execute_result"
    }
   ],
   "source": [
    "loss.loc[loss.epoch == loss.epoch.max()]"
   ]
  },
  {
   "cell_type": "markdown",
   "metadata": {},
   "source": [
    "### Evaluación de datos de prueba"
   ]
  },
  {
   "cell_type": "code",
   "execution_count": 2,
   "metadata": {},
   "outputs": [
    {
     "name": "stdout",
     "output_type": "stream",
     "text": [
      "[nltk_data] Downloading package punkt to /home/melesio/nltk_data...\n",
      "[nltk_data]   Package punkt is already up-to-date!\n",
      "[nltk_data] Downloading package stopwords to\n",
      "[nltk_data]     /home/melesio/nltk_data...\n",
      "[nltk_data]   Package stopwords is already up-to-date!\n",
      "[nltk_data] Downloading package wordnet to /home/melesio/nltk_data...\n",
      "[nltk_data]   Package wordnet is already up-to-date!\n",
      "[nltk_data] Downloading package omw-1.4 to /home/melesio/nltk_data...\n",
      "[nltk_data]   Package omw-1.4 is already up-to-date!\n",
      "[nltk_data] Downloading package averaged_perceptron_tagger to\n",
      "[nltk_data]     /home/melesio/nltk_data...\n",
      "[nltk_data]   Package averaged_perceptron_tagger is already up-to-\n",
      "[nltk_data]       date!\n",
      "Leyendo archivo de configuracion\n",
      "Inicia la transformacion de texto\n",
      "Creando diccionario de documentos unicos\n",
      "Realizando preprocesamiento\n",
      "Etapa de pre-procesmiento\n",
      "Extrayendo vectores de caracteristicas\n",
      "Etapa de extraccion de caracteristicas\n",
      "Extraccion de vectores lexicos\n",
      "Realizando vectorizacion\n",
      "Guardando resultadosto 79\n",
      "Extraccion de vectores sintacticos\n",
      "Realizando vectorizacion\n",
      "Guardando resultados\n",
      "Extraccion de vectores semanticos\n",
      "Realizando vectorizacion\n",
      "Guardando resultados\n",
      "Obteniendo espectros de contenido\n",
      "Etapa de unificacion del espacio\n",
      "/home/melesio/Documentos/SpectralTextRepresentation/minisom/minisom.py:167: UserWarning: Warning: sigma is too high for the dimension of the map.\n",
      "  warn('Warning: sigma is too high for the dimension of the map.')\n",
      "Leyendo vectores lexicos\n",
      "Obteninendo espectros\n",
      "Leyendo vectores sintacticos\n",
      "Obteninendo espectros\n",
      "Leyendo vectores semanticos\n",
      "Obteninendo espectros\n",
      "Consolidando capas\n",
      "Etapa de consolidacion de capas\n",
      "Información guardada\n",
      "Ensamble terminado\n",
      "Cargando modelo\n",
      "2022-05-24 00:12:08.901389: I tensorflow/stream_executor/cuda/cuda_gpu_executor.cc:936] successful NUMA node read from SysFS had negative value (-1), but there must be at least one NUMA node, so returning NUMA node zero\n",
      "2022-05-24 00:12:08.925175: I tensorflow/stream_executor/cuda/cuda_gpu_executor.cc:936] successful NUMA node read from SysFS had negative value (-1), but there must be at least one NUMA node, so returning NUMA node zero\n",
      "2022-05-24 00:12:08.925343: I tensorflow/stream_executor/cuda/cuda_gpu_executor.cc:936] successful NUMA node read from SysFS had negative value (-1), but there must be at least one NUMA node, so returning NUMA node zero\n",
      "2022-05-24 00:12:08.925683: I tensorflow/core/platform/cpu_feature_guard.cc:151] This TensorFlow binary is optimized with oneAPI Deep Neural Network Library (oneDNN) to use the following CPU instructions in performance-critical operations:  AVX2 FMA\n",
      "To enable them in other operations, rebuild TensorFlow with the appropriate compiler flags.\n",
      "2022-05-24 00:12:08.926643: I tensorflow/stream_executor/cuda/cuda_gpu_executor.cc:936] successful NUMA node read from SysFS had negative value (-1), but there must be at least one NUMA node, so returning NUMA node zero\n",
      "2022-05-24 00:12:08.926744: I tensorflow/stream_executor/cuda/cuda_gpu_executor.cc:936] successful NUMA node read from SysFS had negative value (-1), but there must be at least one NUMA node, so returning NUMA node zero\n",
      "2022-05-24 00:12:08.926833: I tensorflow/stream_executor/cuda/cuda_gpu_executor.cc:936] successful NUMA node read from SysFS had negative value (-1), but there must be at least one NUMA node, so returning NUMA node zero\n",
      "2022-05-24 00:12:09.260022: I tensorflow/stream_executor/cuda/cuda_gpu_executor.cc:936] successful NUMA node read from SysFS had negative value (-1), but there must be at least one NUMA node, so returning NUMA node zero\n",
      "2022-05-24 00:12:09.260166: I tensorflow/stream_executor/cuda/cuda_gpu_executor.cc:936] successful NUMA node read from SysFS had negative value (-1), but there must be at least one NUMA node, so returning NUMA node zero\n",
      "2022-05-24 00:12:09.260264: I tensorflow/stream_executor/cuda/cuda_gpu_executor.cc:936] successful NUMA node read from SysFS had negative value (-1), but there must be at least one NUMA node, so returning NUMA node zero\n",
      "2022-05-24 00:12:09.260343: I tensorflow/core/common_runtime/gpu/gpu_device.cc:1525] Created device /job:localhost/replica:0/task:0/device:GPU:0 with 7814 MB memory:  -> device: 0, name: NVIDIA GeForce RTX 3080, pci bus id: 0000:01:00.0, compute capability: 8.6\n",
      "Realizando predicciones\n",
      "2022-05-24 00:12:10.676913: I tensorflow/stream_executor/cuda/cuda_blas.cc:1786] TensorFloat-32 will be used for the matrix multiplication. This will only be logged once.\n"
     ]
    }
   ],
   "source": [
    "!python PredictionsTest.py -i testinput -o testoutput/v10"
   ]
  },
  {
   "cell_type": "code",
   "execution_count": 3,
   "metadata": {},
   "outputs": [
    {
     "name": "stdout",
     "output_type": "stream",
     "text": [
      "-> 1070 problems in ground truth\n",
      "-> 1070 solutions explicitly proposed\n",
      "{'auc': 0.475, 'c@1': 0.501, 'f_05_u': 0.542, 'F1': 0.62, 'brier': 0.581, 'overall': 0.544}\n"
     ]
    }
   ],
   "source": [
    "!python pan22_verif_evaluator.py -i testinput -a testoutput/v10 -o testoutput/v10"
   ]
  }
 ],
 "metadata": {
  "interpreter": {
   "hash": "34185cc76f1746f7da7738a8f19ab6509177ea129d1668aef168b7e0e18c804f"
  },
  "kernelspec": {
   "display_name": "Python 3.9.12 ('base')",
   "language": "python",
   "name": "python3"
  },
  "language_info": {
   "codemirror_mode": {
    "name": "ipython",
    "version": 3
   },
   "file_extension": ".py",
   "mimetype": "text/x-python",
   "name": "python",
   "nbconvert_exporter": "python",
   "pygments_lexer": "ipython3",
   "version": "3.9.12"
  },
  "orig_nbformat": 4
 },
 "nbformat": 4,
 "nbformat_minor": 2
}
