{
 "cells": [
  {
   "cell_type": "markdown",
   "metadata": {},
   "source": [
    "### Prueba 8\n",
    "Para esta prueba de utilizaron solamente los espectros sintáctico y semántico haciendo uso de la arquitectura de la prueba 2"
   ]
  },
  {
   "cell_type": "code",
   "execution_count": 1,
   "metadata": {},
   "outputs": [],
   "source": [
    "import numpy as np\n",
    "import pandas as pd\n",
    "import tensorflow as tf\n",
    "import json\n",
    "from myGenerator import DataGenerator"
   ]
  },
  {
   "cell_type": "markdown",
   "metadata": {},
   "source": [
    "### Carga de datos"
   ]
  },
  {
   "cell_type": "code",
   "execution_count": 2,
   "metadata": {},
   "outputs": [],
   "source": [
    "train = pd.read_pickle(\"pan22-authorship-verification-training-dataset/particionesXid/PanTrain.plk\")\n",
    "val = pd.read_pickle(\"pan22-authorship-verification-training-dataset/particionesXid/PanVal.plk\")"
   ]
  },
  {
   "cell_type": "code",
   "execution_count": 3,
   "metadata": {},
   "outputs": [],
   "source": [
    "def spectraLoader(inputPath: str) -> pd.DataFrame:\n",
    "    df = pd.DataFrame()\n",
    "    with open(inputPath, encoding='utf-8') as f:\n",
    "        for line in f:\n",
    "            jsonline = json.loads(line)\n",
    "            lineDf = pd.DataFrame({'id':jsonline['id'], 'spectra':[np.array(jsonline['spectra'])]})\n",
    "            df = pd.concat([df, lineDf])\n",
    "    df = df.reset_index(drop=True)\n",
    "\n",
    "    return df"
   ]
  },
  {
   "cell_type": "code",
   "execution_count": 4,
   "metadata": {},
   "outputs": [],
   "source": [
    "full_spectra = spectraLoader(\"pan22-authorship-verification-training-dataset/particionesXid/FullSpectra.jsonl\")"
   ]
  },
  {
   "cell_type": "code",
   "execution_count": 5,
   "metadata": {},
   "outputs": [],
   "source": [
    "def loadLabels(inputPath:str, labelDict:dict) -> dict:\n",
    "    with open(inputPath, encoding='utf-8') as f:\n",
    "        for line in f:\n",
    "            jsonline = json.loads(line)\n",
    "            labelDict[jsonline['id']] = 1 if jsonline['value'] else 0\n",
    "        \n",
    "    return labelDict"
   ]
  },
  {
   "cell_type": "code",
   "execution_count": 6,
   "metadata": {},
   "outputs": [],
   "source": [
    "labels = dict()\n",
    "labels = loadLabels('pan22-authorship-verification-training-dataset/particiones/train_truth.jsonl',labels)\n",
    "labels = loadLabels('pan22-authorship-verification-training-dataset/particiones/val_truth.jsonl',labels)"
   ]
  },
  {
   "cell_type": "code",
   "execution_count": 7,
   "metadata": {},
   "outputs": [
    {
     "name": "stdout",
     "output_type": "stream",
     "text": [
      "Instances: 16486.0\n",
      "Labels:  16486\n"
     ]
    }
   ],
   "source": [
    "print(\"Instances: {}\".format((train.shape[0] + val.shape[0])/2))\n",
    "print(\"Labels: \",len(labels))"
   ]
  },
  {
   "cell_type": "code",
   "execution_count": 8,
   "metadata": {},
   "outputs": [],
   "source": [
    "partition = {'train': train.id.unique().tolist(), 'validation': val.id.unique().tolist()}"
   ]
  },
  {
   "cell_type": "code",
   "execution_count": 9,
   "metadata": {},
   "outputs": [
    {
     "name": "stdout",
     "output_type": "stream",
     "text": [
      "Train:  15732\n",
      "Validation:  754\n",
      "Total:  16486\n"
     ]
    }
   ],
   "source": [
    "print(\"Train: \", len(partition['train']))\n",
    "print(\"Validation: \", len(partition['validation']))\n",
    "print(\"Total: \", len(partition['train'])+len(partition['validation']))"
   ]
  },
  {
   "cell_type": "markdown",
   "metadata": {},
   "source": [
    "### Definición de la arquitectura del modelo"
   ]
  },
  {
   "cell_type": "code",
   "execution_count": 10,
   "metadata": {},
   "outputs": [],
   "source": [
    "# Modelo de red siamesa utilizando una red residual y un perceptron multicapa SIN CAPAS CUSTOM\n",
    "\n",
    "def setModel():\n",
    "    x1 = tf.keras.Input(shape=(800,), name=\"input_1\")\n",
    "    x2 = tf.keras.Input(shape=(800,), name=\"input_2\")\n",
    "\n",
    "    # Batch normalization\n",
    "    # bn_layer = tf.keras.layers.BatchNormalization(name=\"Batch_normalization\")\n",
    "    # x1 = bn_layer(x1)\n",
    "    # x2 = bn_layer(x2)\n",
    "\n",
    "    # # Gaussian noise\n",
    "    # gaussian_noise_layer = tf.keras.layers.GaussianNoise(1.0, name=\"Gaussian_noise\")\n",
    "    # x1 = gaussian_noise_layer(x1)\n",
    "    # x2 = gaussian_noise_layer(x2)\n",
    "\n",
    "    # # Dropout\n",
    "    # dropout_layer = tf.keras.layers.Dropout(0.4, name=\"Dropout_1\")\n",
    "    # x1 = dropout_layer(x1)\n",
    "    # x2 = dropout_layer(x2)\n",
    "\n",
    "    # Residual network\n",
    "    dense_layer_1 = tf.keras.layers.Dense(600, activation='relu', name=\"resdense_1\")\n",
    "    o1_1 = dense_layer_1(x1)\n",
    "    o1_2 = dense_layer_1(x2)\n",
    "\n",
    "    dense_layer_2 = tf.keras.layers.Dense(600, activation='relu', name=\"resdense_2\")\n",
    "    o2_1 = dense_layer_2(o1_1)\n",
    "    o2_2 = dense_layer_2(o1_2)\n",
    "\n",
    "    # Residual layer\n",
    "    dense_layer_3 = tf.keras.layers.Dense(600, activation='relu', name=\"resdense_3\")\n",
    "    o3_1 = dense_layer_3(tf.subtract(o1_1, o2_1))\n",
    "    o3_2 = dense_layer_3(tf.subtract(o1_2, o2_2))\n",
    "\n",
    "    # dense_layer_4 = tf.keras.layers.Dense(256, activation='relu', name=\"resdense_4\")\n",
    "    # o4_1 = dense_layer_4(o3_1)\n",
    "    # o4_2 = dense_layer_4(o3_2)\n",
    "\n",
    "    # # Residual layer\n",
    "    # dense_layer_5 = tf.keras.layers.Dense(256, activation='relu', name=\"resdense_5\")\n",
    "    # o5_1 = dense_layer_5(tf.subtract(o3_1, o4_1))\n",
    "    # o5_2 = dense_layer_5(tf.subtract(o3_2, o4_2))\n",
    "\n",
    "    # dense_layer_6 = tf.keras.layers.Dense(256, activation='relu', name=\"resdense_6\")\n",
    "    # o6_1 = dense_layer_6(o5_1)\n",
    "    # o6_2 = dense_layer_6(o5_2)\n",
    "\n",
    "    # # Residual layer\n",
    "    # dense_layer_7 = tf.keras.layers.Dense(256, activation='relu', name=\"resdense_7\")\n",
    "    # o7_1 = dense_layer_7(tf.subtract(o5_1, o6_1))\n",
    "    # o7_2 = dense_layer_7(tf.subtract(o5_2, o6_2))\n",
    "\n",
    "    # dense_layer_8 = tf.keras.layers.Dense(256, activation='relu', name=\"resdense_8\")\n",
    "    # o8_1 = dense_layer_8(o7_1)\n",
    "    # o8_2 = dense_layer_8(o7_2)\n",
    "\n",
    "    # # Residual layer\n",
    "    # dense_layer_9 = tf.keras.layers.Dense(256, activation='relu', name=\"resdense_9\")\n",
    "    # o9_1 = dense_layer_9(tf.subtract(o7_1, o8_1))\n",
    "    # o9_2 = dense_layer_9(tf.subtract(o7_2, o8_2))\n",
    "\n",
    "    # Merging\n",
    "    # merge = tf.math.abs(tf.subtract(o9_1,o9_2))\n",
    "    merge = tf.math.abs(tf.subtract(o3_1,o3_2))\n",
    "\n",
    "    # MLPNN Classifier\n",
    "    hidden = tf.keras.layers.Dense(300, activation='relu', name=\"hidden_layer\")(merge)\n",
    "    # dropout_layer2 = tf.keras.layers.Dropout(0.4, name=\"Dropout_2\")(hidden)\n",
    "    output = tf.keras.layers.Dense(1, activation=\"sigmoid\", name=\"output_layer\")(hidden)#(dropout_layer2)\n",
    "\n",
    "    model = tf.keras.Model([x1, x2], output)\n",
    "    model.compile(loss = 'binary_crossentropy', optimizer = \"adam\", metrics=[\"binary_accuracy\"])\n",
    "\n",
    "    return model"
   ]
  },
  {
   "cell_type": "code",
   "execution_count": 11,
   "metadata": {},
   "outputs": [
    {
     "name": "stderr",
     "output_type": "stream",
     "text": [
      "2022-05-21 18:02:20.021157: I tensorflow/stream_executor/cuda/cuda_gpu_executor.cc:936] successful NUMA node read from SysFS had negative value (-1), but there must be at least one NUMA node, so returning NUMA node zero\n"
     ]
    },
    {
     "name": "stdout",
     "output_type": "stream",
     "text": [
      "Model: \"model\"\n",
      "__________________________________________________________________________________________________\n",
      " Layer (type)                   Output Shape         Param #     Connected to                     \n",
      "==================================================================================================\n",
      " input_1 (InputLayer)           [(None, 800)]        0           []                               \n",
      "                                                                                                  \n",
      " input_2 (InputLayer)           [(None, 800)]        0           []                               \n",
      "                                                                                                  \n",
      " resdense_1 (Dense)             (None, 600)          480600      ['input_1[0][0]',                \n",
      "                                                                  'input_2[0][0]']                \n",
      "                                                                                                  \n",
      " resdense_2 (Dense)             (None, 600)          360600      ['resdense_1[0][0]',             \n",
      "                                                                  'resdense_1[1][0]']             \n",
      "                                                                                                  \n",
      " tf.math.subtract (TFOpLambda)  (None, 600)          0           ['resdense_1[0][0]',             \n",
      "                                                                  'resdense_2[0][0]']             \n",
      "                                                                                                  \n",
      " tf.math.subtract_1 (TFOpLambda  (None, 600)         0           ['resdense_1[1][0]',             \n",
      " )                                                                'resdense_2[1][0]']             \n",
      "                                                                                                  \n",
      " resdense_3 (Dense)             (None, 600)          360600      ['tf.math.subtract[0][0]',       \n",
      "                                                                  'tf.math.subtract_1[0][0]']     \n",
      "                                                                                                  \n",
      " tf.math.subtract_2 (TFOpLambda  (None, 600)         0           ['resdense_3[0][0]',             \n",
      " )                                                                'resdense_3[1][0]']             \n",
      "                                                                                                  \n",
      " tf.math.abs (TFOpLambda)       (None, 600)          0           ['tf.math.subtract_2[0][0]']     \n",
      "                                                                                                  \n",
      " hidden_layer (Dense)           (None, 300)          180300      ['tf.math.abs[0][0]']            \n",
      "                                                                                                  \n",
      " output_layer (Dense)           (None, 1)            301         ['hidden_layer[0][0]']           \n",
      "                                                                                                  \n",
      "==================================================================================================\n",
      "Total params: 1,382,401\n",
      "Trainable params: 1,382,401\n",
      "Non-trainable params: 0\n",
      "__________________________________________________________________________________________________\n"
     ]
    },
    {
     "name": "stderr",
     "output_type": "stream",
     "text": [
      "2022-05-21 18:02:20.042457: I tensorflow/stream_executor/cuda/cuda_gpu_executor.cc:936] successful NUMA node read from SysFS had negative value (-1), but there must be at least one NUMA node, so returning NUMA node zero\n",
      "2022-05-21 18:02:20.042584: I tensorflow/stream_executor/cuda/cuda_gpu_executor.cc:936] successful NUMA node read from SysFS had negative value (-1), but there must be at least one NUMA node, so returning NUMA node zero\n",
      "2022-05-21 18:02:20.043234: I tensorflow/core/platform/cpu_feature_guard.cc:151] This TensorFlow binary is optimized with oneAPI Deep Neural Network Library (oneDNN) to use the following CPU instructions in performance-critical operations:  AVX2 FMA\n",
      "To enable them in other operations, rebuild TensorFlow with the appropriate compiler flags.\n",
      "2022-05-21 18:02:20.044105: I tensorflow/stream_executor/cuda/cuda_gpu_executor.cc:936] successful NUMA node read from SysFS had negative value (-1), but there must be at least one NUMA node, so returning NUMA node zero\n",
      "2022-05-21 18:02:20.044229: I tensorflow/stream_executor/cuda/cuda_gpu_executor.cc:936] successful NUMA node read from SysFS had negative value (-1), but there must be at least one NUMA node, so returning NUMA node zero\n",
      "2022-05-21 18:02:20.044313: I tensorflow/stream_executor/cuda/cuda_gpu_executor.cc:936] successful NUMA node read from SysFS had negative value (-1), but there must be at least one NUMA node, so returning NUMA node zero\n",
      "2022-05-21 18:02:20.366733: I tensorflow/stream_executor/cuda/cuda_gpu_executor.cc:936] successful NUMA node read from SysFS had negative value (-1), but there must be at least one NUMA node, so returning NUMA node zero\n",
      "2022-05-21 18:02:20.366853: I tensorflow/stream_executor/cuda/cuda_gpu_executor.cc:936] successful NUMA node read from SysFS had negative value (-1), but there must be at least one NUMA node, so returning NUMA node zero\n",
      "2022-05-21 18:02:20.366940: I tensorflow/stream_executor/cuda/cuda_gpu_executor.cc:936] successful NUMA node read from SysFS had negative value (-1), but there must be at least one NUMA node, so returning NUMA node zero\n",
      "2022-05-21 18:02:20.367015: I tensorflow/core/common_runtime/gpu/gpu_device.cc:1525] Created device /job:localhost/replica:0/task:0/device:GPU:0 with 7751 MB memory:  -> device: 0, name: NVIDIA GeForce RTX 3080, pci bus id: 0000:01:00.0, compute capability: 8.6\n"
     ]
    }
   ],
   "source": [
    "model = setModel()\n",
    "model.summary()"
   ]
  },
  {
   "cell_type": "markdown",
   "metadata": {},
   "source": [
    "### Entrenamiento del modelo"
   ]
  },
  {
   "cell_type": "code",
   "execution_count": 12,
   "metadata": {},
   "outputs": [],
   "source": [
    "# Parameters\n",
    "params = {'dim': (800,),\n",
    "            'batch_size': 32,\n",
    "            'shuffle': True}"
   ]
  },
  {
   "cell_type": "code",
   "execution_count": 13,
   "metadata": {},
   "outputs": [],
   "source": [
    "# Generators\n",
    "training_generator = DataGenerator(partition['train'], train, labels, full_spectra, **params)\n",
    "validation_generator = DataGenerator(partition['validation'], val, labels, full_spectra, **params)"
   ]
  },
  {
   "cell_type": "code",
   "execution_count": 14,
   "metadata": {},
   "outputs": [
    {
     "name": "stderr",
     "output_type": "stream",
     "text": [
      "2022-05-21 18:02:20.571532: I tensorflow/stream_executor/cuda/cuda_gpu_executor.cc:936] successful NUMA node read from SysFS had negative value (-1), but there must be at least one NUMA node, so returning NUMA node zero\n",
      "2022-05-21 18:02:20.571718: I tensorflow/stream_executor/cuda/cuda_gpu_executor.cc:936] successful NUMA node read from SysFS had negative value (-1), but there must be at least one NUMA node, so returning NUMA node zero\n",
      "2022-05-21 18:02:20.571866: I tensorflow/stream_executor/cuda/cuda_gpu_executor.cc:936] successful NUMA node read from SysFS had negative value (-1), but there must be at least one NUMA node, so returning NUMA node zero\n",
      "2022-05-21 18:02:20.571986: I tensorflow/stream_executor/cuda/cuda_gpu_executor.cc:936] successful NUMA node read from SysFS had negative value (-1), but there must be at least one NUMA node, so returning NUMA node zero\n",
      "2022-05-21 18:02:20.572102: I tensorflow/stream_executor/cuda/cuda_gpu_executor.cc:936] successful NUMA node read from SysFS had negative value (-1), but there must be at least one NUMA node, so returning NUMA node zero\n",
      "2022-05-21 18:02:20.572164: I tensorflow/core/common_runtime/gpu/gpu_device.cc:1525] Created device /device:GPU:0 with 7751 MB memory:  -> device: 0, name: NVIDIA GeForce RTX 3080, pci bus id: 0000:01:00.0, compute capability: 8.6\n"
     ]
    },
    {
     "data": {
      "text/plain": [
       "'/device:GPU:0'"
      ]
     },
     "execution_count": 14,
     "metadata": {},
     "output_type": "execute_result"
    }
   ],
   "source": [
    "tf.test.gpu_device_name()"
   ]
  },
  {
   "cell_type": "code",
   "execution_count": 15,
   "metadata": {},
   "outputs": [
    {
     "name": "stdout",
     "output_type": "stream",
     "text": [
      "Epoch 1/100\n",
      "  5/491 [..............................] - ETA: 20s - loss: 0.7005 - binary_accuracy: 0.4812"
     ]
    },
    {
     "name": "stderr",
     "output_type": "stream",
     "text": [
      "2022-05-21 18:02:21.738062: I tensorflow/stream_executor/cuda/cuda_blas.cc:1786] TensorFloat-32 will be used for the matrix multiplication. This will only be logged once.\n"
     ]
    },
    {
     "name": "stdout",
     "output_type": "stream",
     "text": [
      "491/491 [==============================] - 28s 56ms/step - loss: 0.6761 - binary_accuracy: 0.5695 - val_loss: 0.6700 - val_binary_accuracy: 0.5679\n",
      "Epoch 2/100\n",
      "491/491 [==============================] - 27s 56ms/step - loss: 0.6429 - binary_accuracy: 0.6215 - val_loss: 0.7010 - val_binary_accuracy: 0.5340\n",
      "Epoch 3/100\n",
      "491/491 [==============================] - 27s 56ms/step - loss: 0.6057 - binary_accuracy: 0.6655 - val_loss: 0.7335 - val_binary_accuracy: 0.5530\n",
      "Epoch 4/100\n",
      "491/491 [==============================] - 27s 56ms/step - loss: 0.5712 - binary_accuracy: 0.7000 - val_loss: 0.7469 - val_binary_accuracy: 0.5625\n",
      "Epoch 5/100\n",
      "491/491 [==============================] - 28s 56ms/step - loss: 0.5484 - binary_accuracy: 0.7210 - val_loss: 0.8599 - val_binary_accuracy: 0.5666\n",
      "Epoch 6/100\n",
      "491/491 [==============================] - 27s 55ms/step - loss: 0.5355 - binary_accuracy: 0.7360 - val_loss: 0.9266 - val_binary_accuracy: 0.5611\n",
      "Epoch 7/100\n",
      "491/491 [==============================] - 27s 56ms/step - loss: 0.5258 - binary_accuracy: 0.7420 - val_loss: 0.8600 - val_binary_accuracy: 0.5095\n",
      "Epoch 8/100\n",
      "491/491 [==============================] - 27s 56ms/step - loss: 0.5291 - binary_accuracy: 0.7356 - val_loss: 0.8859 - val_binary_accuracy: 0.5639\n",
      "Epoch 9/100\n",
      "491/491 [==============================] - 27s 56ms/step - loss: 0.5050 - binary_accuracy: 0.7556 - val_loss: 0.9195 - val_binary_accuracy: 0.5707\n",
      "Epoch 10/100\n",
      "491/491 [==============================] - 27s 55ms/step - loss: 0.4945 - binary_accuracy: 0.7644 - val_loss: 0.9331 - val_binary_accuracy: 0.5774\n",
      "Epoch 11/100\n",
      "491/491 [==============================] - 28s 57ms/step - loss: 0.4885 - binary_accuracy: 0.7681 - val_loss: 1.0444 - val_binary_accuracy: 0.5435\n",
      "Epoch 12/100\n",
      "491/491 [==============================] - 28s 56ms/step - loss: 0.4707 - binary_accuracy: 0.7781 - val_loss: 0.9741 - val_binary_accuracy: 0.5380\n",
      "Epoch 13/100\n",
      "491/491 [==============================] - 27s 55ms/step - loss: 0.4640 - binary_accuracy: 0.7846 - val_loss: 0.9655 - val_binary_accuracy: 0.5489\n",
      "Epoch 14/100\n",
      "491/491 [==============================] - 27s 54ms/step - loss: 0.4647 - binary_accuracy: 0.7876 - val_loss: 0.9221 - val_binary_accuracy: 0.5503\n",
      "Epoch 15/100\n",
      "491/491 [==============================] - 27s 55ms/step - loss: 0.4589 - binary_accuracy: 0.7898 - val_loss: 1.0634 - val_binary_accuracy: 0.5258\n",
      "Epoch 16/100\n",
      "491/491 [==============================] - 27s 54ms/step - loss: 0.4501 - binary_accuracy: 0.7944 - val_loss: 0.9485 - val_binary_accuracy: 0.5639\n",
      "Epoch 17/100\n",
      "491/491 [==============================] - 27s 55ms/step - loss: 0.4455 - binary_accuracy: 0.7967 - val_loss: 1.0238 - val_binary_accuracy: 0.5489\n",
      "Epoch 18/100\n",
      "491/491 [==============================] - 27s 54ms/step - loss: 0.4469 - binary_accuracy: 0.7948 - val_loss: 0.8361 - val_binary_accuracy: 0.5598\n",
      "Epoch 19/100\n",
      "491/491 [==============================] - 27s 54ms/step - loss: 0.4395 - binary_accuracy: 0.7981 - val_loss: 1.2250 - val_binary_accuracy: 0.5408\n",
      "Epoch 20/100\n",
      "491/491 [==============================] - 27s 54ms/step - loss: 0.4320 - binary_accuracy: 0.8043 - val_loss: 0.9309 - val_binary_accuracy: 0.5516\n",
      "Epoch 21/100\n",
      "491/491 [==============================] - 27s 55ms/step - loss: 0.4322 - binary_accuracy: 0.8086 - val_loss: 1.0164 - val_binary_accuracy: 0.5095\n",
      "Epoch 22/100\n",
      "491/491 [==============================] - 27s 54ms/step - loss: 0.4268 - binary_accuracy: 0.8078 - val_loss: 0.9902 - val_binary_accuracy: 0.5666\n",
      "Epoch 23/100\n",
      "491/491 [==============================] - 26s 54ms/step - loss: 0.4202 - binary_accuracy: 0.8129 - val_loss: 1.0489 - val_binary_accuracy: 0.5231\n",
      "Epoch 24/100\n",
      "491/491 [==============================] - 26s 54ms/step - loss: 0.4221 - binary_accuracy: 0.8115 - val_loss: 1.0230 - val_binary_accuracy: 0.5258\n",
      "Epoch 25/100\n",
      "491/491 [==============================] - 27s 54ms/step - loss: 0.4214 - binary_accuracy: 0.8135 - val_loss: 1.1049 - val_binary_accuracy: 0.5326\n",
      "Epoch 26/100\n",
      "491/491 [==============================] - 26s 54ms/step - loss: 0.4104 - binary_accuracy: 0.8199 - val_loss: 1.1459 - val_binary_accuracy: 0.5258\n",
      "Epoch 27/100\n",
      "491/491 [==============================] - 26s 54ms/step - loss: 0.4106 - binary_accuracy: 0.8196 - val_loss: 0.9955 - val_binary_accuracy: 0.5421\n",
      "Epoch 28/100\n",
      "491/491 [==============================] - 26s 54ms/step - loss: 0.4082 - binary_accuracy: 0.8180 - val_loss: 1.1780 - val_binary_accuracy: 0.5190\n",
      "Epoch 29/100\n",
      "491/491 [==============================] - 27s 54ms/step - loss: 0.4007 - binary_accuracy: 0.8233 - val_loss: 1.4463 - val_binary_accuracy: 0.5041\n",
      "Epoch 30/100\n",
      "491/491 [==============================] - 27s 55ms/step - loss: 0.3960 - binary_accuracy: 0.8296 - val_loss: 1.2137 - val_binary_accuracy: 0.5312\n",
      "Epoch 31/100\n",
      "491/491 [==============================] - 27s 55ms/step - loss: 0.3965 - binary_accuracy: 0.8259 - val_loss: 1.1587 - val_binary_accuracy: 0.5258\n",
      "Epoch 32/100\n",
      "491/491 [==============================] - 27s 54ms/step - loss: 0.3917 - binary_accuracy: 0.8284 - val_loss: 1.3322 - val_binary_accuracy: 0.5177\n",
      "Epoch 33/100\n",
      "491/491 [==============================] - 27s 54ms/step - loss: 0.3896 - binary_accuracy: 0.8297 - val_loss: 1.0380 - val_binary_accuracy: 0.5353\n",
      "Epoch 34/100\n",
      "491/491 [==============================] - 26s 54ms/step - loss: 0.3883 - binary_accuracy: 0.8304 - val_loss: 1.0764 - val_binary_accuracy: 0.5054\n",
      "Epoch 35/100\n",
      "491/491 [==============================] - 27s 54ms/step - loss: 0.3798 - binary_accuracy: 0.8370 - val_loss: 1.0321 - val_binary_accuracy: 0.5340\n",
      "Epoch 36/100\n",
      "491/491 [==============================] - 27s 55ms/step - loss: 0.3759 - binary_accuracy: 0.8343 - val_loss: 1.1680 - val_binary_accuracy: 0.5408\n",
      "Epoch 37/100\n",
      "491/491 [==============================] - 26s 54ms/step - loss: 0.3762 - binary_accuracy: 0.8350 - val_loss: 1.1587 - val_binary_accuracy: 0.5272\n",
      "Epoch 38/100\n",
      "491/491 [==============================] - 27s 54ms/step - loss: 0.3716 - binary_accuracy: 0.8371 - val_loss: 1.2144 - val_binary_accuracy: 0.5149\n",
      "Epoch 39/100\n",
      "491/491 [==============================] - 27s 54ms/step - loss: 0.3648 - binary_accuracy: 0.8427 - val_loss: 1.1241 - val_binary_accuracy: 0.5285\n",
      "Epoch 40/100\n",
      "491/491 [==============================] - 27s 54ms/step - loss: 0.3626 - binary_accuracy: 0.8457 - val_loss: 1.1192 - val_binary_accuracy: 0.5204\n",
      "Epoch 41/100\n",
      "491/491 [==============================] - 27s 55ms/step - loss: 0.3537 - binary_accuracy: 0.8473 - val_loss: 1.2315 - val_binary_accuracy: 0.5272\n",
      "Epoch 42/100\n",
      "491/491 [==============================] - 26s 54ms/step - loss: 0.3566 - binary_accuracy: 0.8470 - val_loss: 1.1361 - val_binary_accuracy: 0.5027\n",
      "Epoch 43/100\n",
      "491/491 [==============================] - 27s 54ms/step - loss: 0.3526 - binary_accuracy: 0.8485 - val_loss: 1.2179 - val_binary_accuracy: 0.5353\n",
      "Epoch 44/100\n",
      "491/491 [==============================] - 27s 54ms/step - loss: 0.3491 - binary_accuracy: 0.8537 - val_loss: 1.1699 - val_binary_accuracy: 0.5353\n",
      "Epoch 45/100\n",
      "491/491 [==============================] - 27s 55ms/step - loss: 0.3524 - binary_accuracy: 0.8474 - val_loss: 0.9617 - val_binary_accuracy: 0.5190\n",
      "Epoch 46/100\n",
      "491/491 [==============================] - 27s 54ms/step - loss: 0.3438 - binary_accuracy: 0.8530 - val_loss: 1.1271 - val_binary_accuracy: 0.5217\n",
      "Epoch 47/100\n",
      "491/491 [==============================] - 27s 54ms/step - loss: 0.3391 - binary_accuracy: 0.8553 - val_loss: 1.2754 - val_binary_accuracy: 0.5082\n",
      "Epoch 48/100\n",
      "491/491 [==============================] - 26s 54ms/step - loss: 0.3375 - binary_accuracy: 0.8574 - val_loss: 1.2928 - val_binary_accuracy: 0.5000\n",
      "Epoch 49/100\n",
      "491/491 [==============================] - 27s 54ms/step - loss: 0.3366 - binary_accuracy: 0.8555 - val_loss: 1.1968 - val_binary_accuracy: 0.5095\n",
      "Epoch 50/100\n",
      "491/491 [==============================] - 27s 54ms/step - loss: 0.3299 - binary_accuracy: 0.8605 - val_loss: 1.2624 - val_binary_accuracy: 0.5217\n",
      "Epoch 51/100\n",
      "491/491 [==============================] - 26s 54ms/step - loss: 0.3295 - binary_accuracy: 0.8625 - val_loss: 1.1643 - val_binary_accuracy: 0.5367\n",
      "Epoch 52/100\n",
      "491/491 [==============================] - 27s 54ms/step - loss: 0.3238 - binary_accuracy: 0.8627 - val_loss: 1.3143 - val_binary_accuracy: 0.4932\n",
      "Epoch 53/100\n",
      "491/491 [==============================] - 27s 54ms/step - loss: 0.3259 - binary_accuracy: 0.8634 - val_loss: 1.2481 - val_binary_accuracy: 0.5190\n",
      "Epoch 54/100\n",
      "491/491 [==============================] - 27s 54ms/step - loss: 0.3179 - binary_accuracy: 0.8641 - val_loss: 1.2001 - val_binary_accuracy: 0.5136\n",
      "Epoch 55/100\n",
      "491/491 [==============================] - 26s 54ms/step - loss: 0.3131 - binary_accuracy: 0.8642 - val_loss: 1.2711 - val_binary_accuracy: 0.5217\n",
      "Epoch 56/100\n",
      "491/491 [==============================] - 27s 54ms/step - loss: 0.3112 - binary_accuracy: 0.8701 - val_loss: 1.5403 - val_binary_accuracy: 0.5190\n",
      "Epoch 57/100\n",
      "491/491 [==============================] - 27s 54ms/step - loss: 0.3123 - binary_accuracy: 0.8711 - val_loss: 1.3269 - val_binary_accuracy: 0.5136\n",
      "Epoch 58/100\n",
      "491/491 [==============================] - 27s 54ms/step - loss: 0.3094 - binary_accuracy: 0.8677 - val_loss: 1.3697 - val_binary_accuracy: 0.5448\n",
      "Epoch 59/100\n",
      "491/491 [==============================] - 27s 54ms/step - loss: 0.3062 - binary_accuracy: 0.8714 - val_loss: 1.3013 - val_binary_accuracy: 0.5258\n",
      "Epoch 60/100\n",
      "491/491 [==============================] - 26s 54ms/step - loss: 0.3004 - binary_accuracy: 0.8740 - val_loss: 1.2589 - val_binary_accuracy: 0.5217\n",
      "Epoch 61/100\n",
      "491/491 [==============================] - 27s 55ms/step - loss: 0.3044 - binary_accuracy: 0.8722 - val_loss: 1.4476 - val_binary_accuracy: 0.5068\n",
      "Epoch 62/100\n",
      "491/491 [==============================] - 26s 54ms/step - loss: 0.2905 - binary_accuracy: 0.8761 - val_loss: 1.2998 - val_binary_accuracy: 0.4973\n",
      "Epoch 63/100\n",
      "491/491 [==============================] - 26s 54ms/step - loss: 0.2890 - binary_accuracy: 0.8804 - val_loss: 1.4971 - val_binary_accuracy: 0.4918\n",
      "Epoch 64/100\n",
      "491/491 [==============================] - 27s 54ms/step - loss: 0.2855 - binary_accuracy: 0.8823 - val_loss: 1.2455 - val_binary_accuracy: 0.5312\n",
      "Epoch 65/100\n",
      "491/491 [==============================] - 27s 54ms/step - loss: 0.2968 - binary_accuracy: 0.8743 - val_loss: 1.4353 - val_binary_accuracy: 0.5231\n",
      "Epoch 66/100\n",
      "491/491 [==============================] - 26s 54ms/step - loss: 0.2693 - binary_accuracy: 0.8889 - val_loss: 1.4946 - val_binary_accuracy: 0.5217\n",
      "Epoch 67/100\n",
      "491/491 [==============================] - 27s 54ms/step - loss: 0.2785 - binary_accuracy: 0.8837 - val_loss: 1.5604 - val_binary_accuracy: 0.5082\n",
      "Epoch 68/100\n",
      "491/491 [==============================] - 27s 54ms/step - loss: 0.2699 - binary_accuracy: 0.8889 - val_loss: 1.5236 - val_binary_accuracy: 0.4864\n",
      "Epoch 69/100\n",
      "491/491 [==============================] - 27s 54ms/step - loss: 0.2619 - binary_accuracy: 0.8921 - val_loss: 1.5657 - val_binary_accuracy: 0.5000\n",
      "Epoch 70/100\n",
      "491/491 [==============================] - 27s 54ms/step - loss: 0.2628 - binary_accuracy: 0.8901 - val_loss: 1.4882 - val_binary_accuracy: 0.5000\n",
      "Epoch 71/100\n",
      "491/491 [==============================] - 26s 54ms/step - loss: 0.2586 - binary_accuracy: 0.8912 - val_loss: 1.5946 - val_binary_accuracy: 0.5408\n",
      "Epoch 72/100\n",
      "491/491 [==============================] - 27s 54ms/step - loss: 0.2538 - binary_accuracy: 0.8987 - val_loss: 1.4006 - val_binary_accuracy: 0.5285\n",
      "Epoch 73/100\n",
      "491/491 [==============================] - 27s 54ms/step - loss: 0.2553 - binary_accuracy: 0.8960 - val_loss: 1.2514 - val_binary_accuracy: 0.5380\n",
      "Epoch 74/100\n",
      "491/491 [==============================] - 26s 54ms/step - loss: 0.2581 - binary_accuracy: 0.8943 - val_loss: 1.4528 - val_binary_accuracy: 0.5177\n",
      "Epoch 75/100\n",
      "491/491 [==============================] - 27s 55ms/step - loss: 0.2493 - binary_accuracy: 0.8982 - val_loss: 1.5820 - val_binary_accuracy: 0.5149\n",
      "Epoch 76/100\n",
      "491/491 [==============================] - 26s 54ms/step - loss: 0.2464 - binary_accuracy: 0.8991 - val_loss: 1.6445 - val_binary_accuracy: 0.4932\n",
      "Epoch 77/100\n",
      "491/491 [==============================] - 27s 54ms/step - loss: 0.2501 - binary_accuracy: 0.8973 - val_loss: 1.4261 - val_binary_accuracy: 0.5122\n",
      "Epoch 78/100\n",
      "491/491 [==============================] - 27s 54ms/step - loss: 0.2358 - binary_accuracy: 0.9033 - val_loss: 1.7418 - val_binary_accuracy: 0.5231\n",
      "Epoch 79/100\n",
      "491/491 [==============================] - 27s 54ms/step - loss: 0.2486 - binary_accuracy: 0.8972 - val_loss: 1.3725 - val_binary_accuracy: 0.5095\n",
      "Epoch 80/100\n",
      "491/491 [==============================] - 26s 54ms/step - loss: 0.2344 - binary_accuracy: 0.9056 - val_loss: 1.4241 - val_binary_accuracy: 0.5231\n",
      "Epoch 81/100\n",
      "491/491 [==============================] - 27s 54ms/step - loss: 0.2316 - binary_accuracy: 0.9077 - val_loss: 1.3635 - val_binary_accuracy: 0.5312\n",
      "Epoch 82/100\n",
      "491/491 [==============================] - 26s 54ms/step - loss: 0.2314 - binary_accuracy: 0.9077 - val_loss: 1.5719 - val_binary_accuracy: 0.5245\n",
      "Epoch 83/100\n",
      "491/491 [==============================] - 27s 54ms/step - loss: 0.2238 - binary_accuracy: 0.9093 - val_loss: 1.3069 - val_binary_accuracy: 0.5571\n",
      "Epoch 84/100\n",
      "491/491 [==============================] - 27s 54ms/step - loss: 0.2265 - binary_accuracy: 0.9086 - val_loss: 1.5628 - val_binary_accuracy: 0.5217\n",
      "Epoch 85/100\n",
      "491/491 [==============================] - 27s 55ms/step - loss: 0.2152 - binary_accuracy: 0.9154 - val_loss: 1.5324 - val_binary_accuracy: 0.4973\n",
      "Epoch 86/100\n",
      "491/491 [==============================] - 26s 54ms/step - loss: 0.2199 - binary_accuracy: 0.9124 - val_loss: 1.6418 - val_binary_accuracy: 0.5041\n",
      "Epoch 87/100\n",
      "491/491 [==============================] - 27s 55ms/step - loss: 0.2136 - binary_accuracy: 0.9152 - val_loss: 1.5734 - val_binary_accuracy: 0.5326\n",
      "Epoch 88/100\n",
      "491/491 [==============================] - 26s 54ms/step - loss: 0.2355 - binary_accuracy: 0.9045 - val_loss: 1.4018 - val_binary_accuracy: 0.5285\n",
      "Epoch 89/100\n",
      "491/491 [==============================] - 27s 54ms/step - loss: 0.2167 - binary_accuracy: 0.9138 - val_loss: 1.7804 - val_binary_accuracy: 0.5109\n",
      "Epoch 90/100\n",
      "491/491 [==============================] - 26s 54ms/step - loss: 0.2166 - binary_accuracy: 0.9116 - val_loss: 1.5480 - val_binary_accuracy: 0.5204\n",
      "Epoch 91/100\n",
      "491/491 [==============================] - 27s 54ms/step - loss: 0.2138 - binary_accuracy: 0.9170 - val_loss: 1.7790 - val_binary_accuracy: 0.4986\n",
      "Epoch 92/100\n",
      "491/491 [==============================] - 27s 54ms/step - loss: 0.2071 - binary_accuracy: 0.9184 - val_loss: 1.5421 - val_binary_accuracy: 0.5435\n",
      "Epoch 93/100\n",
      "491/491 [==============================] - 27s 55ms/step - loss: 0.2189 - binary_accuracy: 0.9120 - val_loss: 1.5616 - val_binary_accuracy: 0.5245\n",
      "Epoch 94/100\n",
      "491/491 [==============================] - 27s 55ms/step - loss: 0.1991 - binary_accuracy: 0.9212 - val_loss: 1.7619 - val_binary_accuracy: 0.4851\n",
      "Epoch 95/100\n",
      "491/491 [==============================] - 27s 54ms/step - loss: 0.2000 - binary_accuracy: 0.9206 - val_loss: 1.8155 - val_binary_accuracy: 0.5095\n",
      "Epoch 96/100\n",
      "491/491 [==============================] - 27s 54ms/step - loss: 0.2020 - binary_accuracy: 0.9189 - val_loss: 1.7453 - val_binary_accuracy: 0.5068\n",
      "Epoch 97/100\n",
      "491/491 [==============================] - 27s 54ms/step - loss: 0.1874 - binary_accuracy: 0.9251 - val_loss: 1.7336 - val_binary_accuracy: 0.5082\n",
      "Epoch 98/100\n",
      "491/491 [==============================] - 26s 54ms/step - loss: 0.1829 - binary_accuracy: 0.9281 - val_loss: 1.7291 - val_binary_accuracy: 0.5122\n",
      "Epoch 99/100\n",
      "491/491 [==============================] - 27s 54ms/step - loss: 0.2023 - binary_accuracy: 0.9192 - val_loss: 1.9927 - val_binary_accuracy: 0.4620\n",
      "Epoch 100/100\n",
      "491/491 [==============================] - 27s 54ms/step - loss: 0.1774 - binary_accuracy: 0.9314 - val_loss: 1.8247 - val_binary_accuracy: 0.4986\n"
     ]
    }
   ],
   "source": [
    "# Train model on dataset\n",
    "with tf.device('/device:GPU:0'):\n",
    "    model = setModel()\n",
    "    # callback = tf.keras.callbacks.EarlyStopping(monitor='loss', patience=5)\n",
    "    history = model.fit(x=training_generator,\n",
    "                        validation_data=validation_generator,\n",
    "                        # callbacks=[callback],\n",
    "                        # use_multiprocessing=True,\n",
    "                        # workers=4,\n",
    "                        epochs=100,\n",
    "                        verbose=1)"
   ]
  },
  {
   "cell_type": "code",
   "execution_count": 16,
   "metadata": {},
   "outputs": [
    {
     "name": "stderr",
     "output_type": "stream",
     "text": [
      "2022-05-21 18:46:54.031806: W tensorflow/python/util/util.cc:368] Sets are not currently considered sequences, but this may change in the future, so consider avoiding using them.\n"
     ]
    },
    {
     "name": "stdout",
     "output_type": "stream",
     "text": [
      "INFO:tensorflow:Assets written to: models/ClassifierModel-v8/assets\n"
     ]
    }
   ],
   "source": [
    "model.save('models/ClassifierModel-v8')"
   ]
  },
  {
   "cell_type": "markdown",
   "metadata": {},
   "source": [
    "### Resultados del entrenamiento"
   ]
  },
  {
   "cell_type": "code",
   "execution_count": 17,
   "metadata": {},
   "outputs": [],
   "source": [
    "import matplotlib.pyplot as plt\n",
    "import seaborn as sns\n",
    "sns.set_theme(style=\"darkgrid\")"
   ]
  },
  {
   "cell_type": "code",
   "execution_count": 18,
   "metadata": {},
   "outputs": [
    {
     "data": {
      "text/plain": [
       "dict_keys(['loss', 'binary_accuracy', 'val_loss', 'val_binary_accuracy'])"
      ]
     },
     "execution_count": 18,
     "metadata": {},
     "output_type": "execute_result"
    }
   ],
   "source": [
    "history.history.keys()"
   ]
  },
  {
   "cell_type": "code",
   "execution_count": 19,
   "metadata": {},
   "outputs": [],
   "source": [
    "acc = pd.DataFrame({'accuracy':history.history['binary_accuracy'], 'type':'train'}).reset_index().rename(columns={'index':'epoch'})\n",
    "acc = pd.concat([acc, pd.DataFrame({'accuracy':history.history['val_binary_accuracy'], 'type':'val'}).reset_index().rename(columns={'index':'epoch'})]).reset_index(drop=True)\n",
    "loss = pd.DataFrame({'loss':history.history['loss'], 'type':'train'}).reset_index().rename(columns={'index':'epoch'})\n",
    "loss = pd.concat([loss, pd.DataFrame({'loss':history.history['val_loss'], 'type':'val'}).reset_index().rename(columns={'index':'epoch'})]).reset_index(drop=True)"
   ]
  },
  {
   "cell_type": "code",
   "execution_count": 20,
   "metadata": {},
   "outputs": [
    {
     "data": {
      "image/png": "[encoded data removed]",
      "text/plain": [
       "<Figure size 1080x360 with 2 Axes>"
      ]
     },
     "metadata": {},
     "output_type": "display_data"
    }
   ],
   "source": [
    "fig, ax = plt.subplots(nrows=1, ncols=2, figsize=(15,5))\n",
    "sns.lineplot(x='epoch', y='accuracy', data=acc, hue='type', ax=ax[0])\n",
    "sns.lineplot(x='epoch', y='loss', data=loss, hue='type', ax=ax[1])\n",
    "plt.show()"
   ]
  },
  {
   "cell_type": "code",
   "execution_count": 21,
   "metadata": {},
   "outputs": [
    {
     "data": {
      "text/html": [
       "<div>\n",
       "<style scoped>\n",
       "    .dataframe tbody tr th:only-of-type {\n",
       "        vertical-align: middle;\n",
       "    }\n",
       "\n",
       "    .dataframe tbody tr th {\n",
       "        vertical-align: top;\n",
       "    }\n",
       "\n",
       "    .dataframe thead th {\n",
       "        text-align: right;\n",
       "    }\n",
       "</style>\n",
       "<table border=\"1\" class=\"dataframe\">\n",
       "  <thead>\n",
       "    <tr style=\"text-align: right;\">\n",
       "      <th></th>\n",
       "      <th>epoch</th>\n",
       "      <th>accuracy</th>\n",
       "      <th>type</th>\n",
       "    </tr>\n",
       "  </thead>\n",
       "  <tbody>\n",
       "    <tr>\n",
       "      <th>99</th>\n",
       "      <td>99</td>\n",
       "      <td>0.931390</td>\n",
       "      <td>train</td>\n",
       "    </tr>\n",
       "    <tr>\n",
       "      <th>199</th>\n",
       "      <td>99</td>\n",
       "      <td>0.498641</td>\n",
       "      <td>val</td>\n",
       "    </tr>\n",
       "  </tbody>\n",
       "</table>\n",
       "</div>"
      ],
      "text/plain": [
       "     epoch  accuracy   type\n",
       "99      99  0.931390  train\n",
       "199     99  0.498641    val"
      ]
     },
     "execution_count": 21,
     "metadata": {},
     "output_type": "execute_result"
    }
   ],
   "source": [
    "acc.loc[acc.epoch == acc.epoch.max()]"
   ]
  },
  {
   "cell_type": "code",
   "execution_count": 22,
   "metadata": {},
   "outputs": [
    {
     "data": {
      "text/html": [
       "<div>\n",
       "<style scoped>\n",
       "    .dataframe tbody tr th:only-of-type {\n",
       "        vertical-align: middle;\n",
       "    }\n",
       "\n",
       "    .dataframe tbody tr th {\n",
       "        vertical-align: top;\n",
       "    }\n",
       "\n",
       "    .dataframe thead th {\n",
       "        text-align: right;\n",
       "    }\n",
       "</style>\n",
       "<table border=\"1\" class=\"dataframe\">\n",
       "  <thead>\n",
       "    <tr style=\"text-align: right;\">\n",
       "      <th></th>\n",
       "      <th>epoch</th>\n",
       "      <th>loss</th>\n",
       "      <th>type</th>\n",
       "    </tr>\n",
       "  </thead>\n",
       "  <tbody>\n",
       "    <tr>\n",
       "      <th>99</th>\n",
       "      <td>99</td>\n",
       "      <td>0.177377</td>\n",
       "      <td>train</td>\n",
       "    </tr>\n",
       "    <tr>\n",
       "      <th>199</th>\n",
       "      <td>99</td>\n",
       "      <td>1.824719</td>\n",
       "      <td>val</td>\n",
       "    </tr>\n",
       "  </tbody>\n",
       "</table>\n",
       "</div>"
      ],
      "text/plain": [
       "     epoch      loss   type\n",
       "99      99  0.177377  train\n",
       "199     99  1.824719    val"
      ]
     },
     "execution_count": 22,
     "metadata": {},
     "output_type": "execute_result"
    }
   ],
   "source": [
    "loss.loc[loss.epoch == loss.epoch.max()]"
   ]
  },
  {
   "cell_type": "markdown",
   "metadata": {},
   "source": [
    "### Evaluación de datos de prueba"
   ]
  },
  {
   "cell_type": "code",
   "execution_count": 1,
   "metadata": {},
   "outputs": [
    {
     "name": "stdout",
     "output_type": "stream",
     "text": [
      "[nltk_data] Downloading package punkt to /home/melesio/nltk_data...\n",
      "[nltk_data]   Package punkt is already up-to-date!\n",
      "[nltk_data] Downloading package stopwords to\n",
      "[nltk_data]     /home/melesio/nltk_data...\n",
      "[nltk_data]   Package stopwords is already up-to-date!\n",
      "[nltk_data] Downloading package wordnet to /home/melesio/nltk_data...\n",
      "[nltk_data]   Package wordnet is already up-to-date!\n",
      "[nltk_data] Downloading package omw-1.4 to /home/melesio/nltk_data...\n",
      "[nltk_data]   Package omw-1.4 is already up-to-date!\n",
      "[nltk_data] Downloading package averaged_perceptron_tagger to\n",
      "[nltk_data]     /home/melesio/nltk_data...\n",
      "[nltk_data]   Package averaged_perceptron_tagger is already up-to-\n",
      "[nltk_data]       date!\n",
      "Leyendo archivo de configuracion\n",
      "Inicia la transformacion de texto\n",
      "Creando diccionario de documentos unicos\n",
      "Realizando preprocesamiento\n",
      "Etapa de pre-procesmiento\n",
      "Extrayendo vectores de caracteristicas\n",
      "Etapa de extraccion de caracteristicas\n",
      "Extraccion de vectores lexicos\n",
      "Realizando vectorizacion\n",
      "Guardando resultadosto 79\n",
      "Extraccion de vectores sintacticos\n",
      "Realizando vectorizacion\n",
      "Guardando resultados\n",
      "Extraccion de vectores semanticos\n",
      "Realizando vectorizacion\n",
      "Guardando resultados\n",
      "Obteniendo espectros de contenido\n",
      "Etapa de unificacion del espacio\n",
      "/home/melesio/Documentos/SpectralTextRepresentation/minisom/minisom.py:167: UserWarning: Warning: sigma is too high for the dimension of the map.\n",
      "  warn('Warning: sigma is too high for the dimension of the map.')\n",
      "Leyendo vectores lexicos\n",
      "Obteninendo espectros\n",
      "Leyendo vectores sintacticos\n",
      "Obteninendo espectros\n",
      "Leyendo vectores semanticos\n",
      "Obteninendo espectros\n",
      "Consolidando capas\n",
      "Etapa de consolidacion de capas\n",
      "Información guardada\n",
      "Ensamble terminado\n",
      "Cargando modelo\n",
      "2022-05-22 21:22:15.215577: I tensorflow/stream_executor/cuda/cuda_gpu_executor.cc:936] successful NUMA node read from SysFS had negative value (-1), but there must be at least one NUMA node, so returning NUMA node zero\n",
      "2022-05-22 21:22:15.237502: I tensorflow/stream_executor/cuda/cuda_gpu_executor.cc:936] successful NUMA node read from SysFS had negative value (-1), but there must be at least one NUMA node, so returning NUMA node zero\n",
      "2022-05-22 21:22:15.237645: I tensorflow/stream_executor/cuda/cuda_gpu_executor.cc:936] successful NUMA node read from SysFS had negative value (-1), but there must be at least one NUMA node, so returning NUMA node zero\n",
      "2022-05-22 21:22:15.237919: I tensorflow/core/platform/cpu_feature_guard.cc:151] This TensorFlow binary is optimized with oneAPI Deep Neural Network Library (oneDNN) to use the following CPU instructions in performance-critical operations:  AVX2 FMA\n",
      "To enable them in other operations, rebuild TensorFlow with the appropriate compiler flags.\n",
      "2022-05-22 21:22:15.238697: I tensorflow/stream_executor/cuda/cuda_gpu_executor.cc:936] successful NUMA node read from SysFS had negative value (-1), but there must be at least one NUMA node, so returning NUMA node zero\n",
      "2022-05-22 21:22:15.238800: I tensorflow/stream_executor/cuda/cuda_gpu_executor.cc:936] successful NUMA node read from SysFS had negative value (-1), but there must be at least one NUMA node, so returning NUMA node zero\n",
      "2022-05-22 21:22:15.238891: I tensorflow/stream_executor/cuda/cuda_gpu_executor.cc:936] successful NUMA node read from SysFS had negative value (-1), but there must be at least one NUMA node, so returning NUMA node zero\n",
      "2022-05-22 21:22:15.569569: I tensorflow/stream_executor/cuda/cuda_gpu_executor.cc:936] successful NUMA node read from SysFS had negative value (-1), but there must be at least one NUMA node, so returning NUMA node zero\n",
      "2022-05-22 21:22:15.569727: I tensorflow/stream_executor/cuda/cuda_gpu_executor.cc:936] successful NUMA node read from SysFS had negative value (-1), but there must be at least one NUMA node, so returning NUMA node zero\n",
      "2022-05-22 21:22:15.569825: I tensorflow/stream_executor/cuda/cuda_gpu_executor.cc:936] successful NUMA node read from SysFS had negative value (-1), but there must be at least one NUMA node, so returning NUMA node zero\n",
      "2022-05-22 21:22:15.569996: I tensorflow/core/common_runtime/gpu/gpu_device.cc:1525] Created device /job:localhost/replica:0/task:0/device:GPU:0 with 7798 MB memory:  -> device: 0, name: NVIDIA GeForce RTX 3080, pci bus id: 0000:01:00.0, compute capability: 8.6\n",
      "Realizando predicciones\n",
      "2022-05-22 21:22:16.605444: I tensorflow/stream_executor/cuda/cuda_blas.cc:1786] TensorFloat-32 will be used for the matrix multiplication. This will only be logged once.\n"
     ]
    }
   ],
   "source": [
    "!python PredictionsTest.py -i testinput -o testoutput/v8"
   ]
  },
  {
   "cell_type": "code",
   "execution_count": 2,
   "metadata": {},
   "outputs": [
    {
     "name": "stdout",
     "output_type": "stream",
     "text": [
      "-> 1070 problems in ground truth\n",
      "-> 1070 solutions explicitly proposed\n",
      "{'auc': 0.52, 'c@1': 0.525, 'f_05_u': 0.56, 'F1': 0.644, 'brier': 0.58, 'overall': 0.566}\n"
     ]
    }
   ],
   "source": [
    "!python pan22_verif_evaluator.py -i testinput -a testoutput/v8 -o testoutput/v8"
   ]
  }
 ],
 "metadata": {
  "interpreter": {
   "hash": "34185cc76f1746f7da7738a8f19ab6509177ea129d1668aef168b7e0e18c804f"
  },
  "kernelspec": {
   "display_name": "Python 3.9.12 ('base')",
   "language": "python",
   "name": "python3"
  },
  "language_info": {
   "codemirror_mode": {
    "name": "ipython",
    "version": 3
   },
   "file_extension": ".py",
   "mimetype": "text/x-python",
   "name": "python",
   "nbconvert_exporter": "python",
   "pygments_lexer": "ipython3",
   "version": "3.9.12"
  },
  "orig_nbformat": 4
 },
 "nbformat": 4,
 "nbformat_minor": 2
}
