{
 "cells": [
  {
   "cell_type": "code",
   "execution_count": 1,
   "metadata": {},
   "outputs": [],
   "source": [
    "import numpy as np\n",
    "import pandas as pd\n",
    "import tensorflow as tf\n",
    "import json\n",
    "from myGenerator import DataGenerator"
   ]
  },
  {
   "cell_type": "markdown",
   "metadata": {},
   "source": [
    "### Carga de datos"
   ]
  },
  {
   "cell_type": "code",
   "execution_count": 2,
   "metadata": {},
   "outputs": [],
   "source": [
    "train = pd.read_pickle(\"pan22-authorship-verification-training-dataset/particionesXid/PanTrain.plk\")\n",
    "val = pd.read_pickle(\"pan22-authorship-verification-training-dataset/particionesXid/PanVal.plk\")"
   ]
  },
  {
   "cell_type": "code",
   "execution_count": 3,
   "metadata": {},
   "outputs": [],
   "source": [
    "def spectraLoader(inputPath: str) -> pd.DataFrame:\n",
    "    df = pd.DataFrame()\n",
    "    with open(inputPath, encoding='utf-8') as f:\n",
    "        for line in f:\n",
    "            jsonline = json.loads(line)\n",
    "            lineDf = pd.DataFrame({'id':jsonline['id'], 'spectra':[np.array(jsonline['spectra'])]})\n",
    "            df = pd.concat([df, lineDf])\n",
    "    df = df.reset_index(drop=True)\n",
    "\n",
    "    return df"
   ]
  },
  {
   "cell_type": "code",
   "execution_count": 4,
   "metadata": {},
   "outputs": [],
   "source": [
    "full_spectra = spectraLoader(\"pan22-authorship-verification-training-dataset/particionesXid/FullSpectra.jsonl\")"
   ]
  },
  {
   "cell_type": "code",
   "execution_count": 5,
   "metadata": {},
   "outputs": [],
   "source": [
    "def loadLabels(inputPath:str, labelDict:dict) -> dict:\n",
    "    with open(inputPath, encoding='utf-8') as f:\n",
    "        for line in f:\n",
    "            jsonline = json.loads(line)\n",
    "            labelDict[jsonline['id']] = 1 if jsonline['value'] else 0\n",
    "        \n",
    "    return labelDict"
   ]
  },
  {
   "cell_type": "code",
   "execution_count": 6,
   "metadata": {},
   "outputs": [],
   "source": [
    "labels = dict()\n",
    "labels = loadLabels('pan22-authorship-verification-training-dataset/particiones/train_truth.jsonl',labels)\n",
    "labels = loadLabels('pan22-authorship-verification-training-dataset/particiones/val_truth.jsonl',labels)"
   ]
  },
  {
   "cell_type": "code",
   "execution_count": 7,
   "metadata": {},
   "outputs": [
    {
     "name": "stdout",
     "output_type": "stream",
     "text": [
      "Instances: 16486.0\n",
      "Labels:  16486\n"
     ]
    }
   ],
   "source": [
    "print(\"Instances: {}\".format((train.shape[0] + val.shape[0])/2))\n",
    "print(\"Labels: \",len(labels))"
   ]
  },
  {
   "cell_type": "code",
   "execution_count": 8,
   "metadata": {},
   "outputs": [],
   "source": [
    "partition = {'train': train.id.unique().tolist(), 'validation': val.id.unique().tolist()}"
   ]
  },
  {
   "cell_type": "code",
   "execution_count": 9,
   "metadata": {},
   "outputs": [
    {
     "name": "stdout",
     "output_type": "stream",
     "text": [
      "Train:  15732\n",
      "Validation:  754\n",
      "Total:  16486\n"
     ]
    }
   ],
   "source": [
    "print(\"Train: \", len(partition['train']))\n",
    "print(\"Validation: \", len(partition['validation']))\n",
    "print(\"Total: \", len(partition['train'])+len(partition['validation']))"
   ]
  },
  {
   "cell_type": "markdown",
   "metadata": {},
   "source": [
    "### Definición de la arquitectura del modelo"
   ]
  },
  {
   "cell_type": "code",
   "execution_count": 10,
   "metadata": {},
   "outputs": [],
   "source": [
    "# Modelo de red siamesa utilizando una red residual y un perceptron multicapa SIN CAPAS CUSTOM\n",
    "\n",
    "def setModel():\n",
    "    x1 = tf.keras.Input(shape=(1200,), name=\"input_1\")\n",
    "    x2 = tf.keras.Input(shape=(1200,), name=\"input_2\")\n",
    "\n",
    "    merge = x1-x2\n",
    "\n",
    "    # MLPNN Classifier\n",
    "    hidden1 = tf.keras.layers.Dense(600, activation='relu',kernel_regularizer='l2' , name=\"HiddenLayer1\")(merge)\n",
    "    dropout_layer1 = tf.keras.layers.Dropout(0.4, name=\"Dropout1\")(hidden1)\n",
    "    hidden2 = tf.keras.layers.Dense(300, activation='relu',kernel_regularizer='l2' , name=\"HiddenLayer2\")(dropout_layer1)\n",
    "    dropout_layer2 = tf.keras.layers.Dropout(0.4, name=\"Dropout2\")(hidden2)\n",
    "    output = tf.keras.layers.Dense(1, activation=\"sigmoid\", name=\"output_layer\")(dropout_layer2)\n",
    "\n",
    "    model = tf.keras.Model([x1, x2], output)\n",
    "    model.compile(loss = 'binary_crossentropy', optimizer = \"adam\", metrics=[\"binary_accuracy\"])\n",
    "\n",
    "    return model"
   ]
  },
  {
   "cell_type": "code",
   "execution_count": 11,
   "metadata": {},
   "outputs": [
    {
     "name": "stdout",
     "output_type": "stream",
     "text": [
      "Model: \"model\"\n",
      "__________________________________________________________________________________________________\n",
      " Layer (type)                   Output Shape         Param #     Connected to                     \n",
      "==================================================================================================\n",
      " input_1 (InputLayer)           [(None, 1200)]       0           []                               \n",
      "                                                                                                  \n",
      " input_2 (InputLayer)           [(None, 1200)]       0           []                               \n",
      "                                                                                                  \n",
      " tf.math.subtract (TFOpLambda)  (None, 1200)         0           ['input_1[0][0]',                \n",
      "                                                                  'input_2[0][0]']                \n",
      "                                                                                                  \n",
      " HiddenLayer1 (Dense)           (None, 600)          720600      ['tf.math.subtract[0][0]']       \n",
      "                                                                                                  \n",
      " Dropout1 (Dropout)             (None, 600)          0           ['HiddenLayer1[0][0]']           \n",
      "                                                                                                  \n",
      " HiddenLayer2 (Dense)           (None, 300)          180300      ['Dropout1[0][0]']               \n",
      "                                                                                                  \n",
      " Dropout2 (Dropout)             (None, 300)          0           ['HiddenLayer2[0][0]']           \n",
      "                                                                                                  \n",
      " output_layer (Dense)           (None, 1)            301         ['Dropout2[0][0]']               \n",
      "                                                                                                  \n",
      "==================================================================================================\n",
      "Total params: 901,201\n",
      "Trainable params: 901,201\n",
      "Non-trainable params: 0\n",
      "__________________________________________________________________________________________________\n"
     ]
    },
    {
     "name": "stderr",
     "output_type": "stream",
     "text": [
      "2022-05-24 14:20:58.003015: I tensorflow/stream_executor/cuda/cuda_gpu_executor.cc:936] successful NUMA node read from SysFS had negative value (-1), but there must be at least one NUMA node, so returning NUMA node zero\n",
      "2022-05-24 14:20:58.024653: I tensorflow/stream_executor/cuda/cuda_gpu_executor.cc:936] successful NUMA node read from SysFS had negative value (-1), but there must be at least one NUMA node, so returning NUMA node zero\n",
      "2022-05-24 14:20:58.024786: I tensorflow/stream_executor/cuda/cuda_gpu_executor.cc:936] successful NUMA node read from SysFS had negative value (-1), but there must be at least one NUMA node, so returning NUMA node zero\n",
      "2022-05-24 14:20:58.025164: I tensorflow/core/platform/cpu_feature_guard.cc:151] This TensorFlow binary is optimized with oneAPI Deep Neural Network Library (oneDNN) to use the following CPU instructions in performance-critical operations:  AVX2 FMA\n",
      "To enable them in other operations, rebuild TensorFlow with the appropriate compiler flags.\n",
      "2022-05-24 14:20:58.026223: I tensorflow/stream_executor/cuda/cuda_gpu_executor.cc:936] successful NUMA node read from SysFS had negative value (-1), but there must be at least one NUMA node, so returning NUMA node zero\n",
      "2022-05-24 14:20:58.026375: I tensorflow/stream_executor/cuda/cuda_gpu_executor.cc:936] successful NUMA node read from SysFS had negative value (-1), but there must be at least one NUMA node, so returning NUMA node zero\n",
      "2022-05-24 14:20:58.026493: I tensorflow/stream_executor/cuda/cuda_gpu_executor.cc:936] successful NUMA node read from SysFS had negative value (-1), but there must be at least one NUMA node, so returning NUMA node zero\n",
      "2022-05-24 14:20:58.361737: I tensorflow/stream_executor/cuda/cuda_gpu_executor.cc:936] successful NUMA node read from SysFS had negative value (-1), but there must be at least one NUMA node, so returning NUMA node zero\n",
      "2022-05-24 14:20:58.361871: I tensorflow/stream_executor/cuda/cuda_gpu_executor.cc:936] successful NUMA node read from SysFS had negative value (-1), but there must be at least one NUMA node, so returning NUMA node zero\n",
      "2022-05-24 14:20:58.361957: I tensorflow/stream_executor/cuda/cuda_gpu_executor.cc:936] successful NUMA node read from SysFS had negative value (-1), but there must be at least one NUMA node, so returning NUMA node zero\n",
      "2022-05-24 14:20:58.362032: I tensorflow/core/common_runtime/gpu/gpu_device.cc:1525] Created device /job:localhost/replica:0/task:0/device:GPU:0 with 7580 MB memory:  -> device: 0, name: NVIDIA GeForce RTX 3080, pci bus id: 0000:01:00.0, compute capability: 8.6\n"
     ]
    }
   ],
   "source": [
    "model = setModel()\n",
    "model.summary()"
   ]
  },
  {
   "cell_type": "markdown",
   "metadata": {},
   "source": [
    "### Entrenamiento del modelo"
   ]
  },
  {
   "cell_type": "code",
   "execution_count": 12,
   "metadata": {},
   "outputs": [],
   "source": [
    "# Parameters\n",
    "params = {'dim': (1200,),\n",
    "            'batch_size': 32,\n",
    "            'shuffle': True}"
   ]
  },
  {
   "cell_type": "code",
   "execution_count": 13,
   "metadata": {},
   "outputs": [],
   "source": [
    "# Generators\n",
    "training_generator = DataGenerator(partition['train'], train, labels, full_spectra, **params)\n",
    "validation_generator = DataGenerator(partition['validation'], val, labels, full_spectra, **params)"
   ]
  },
  {
   "cell_type": "code",
   "execution_count": 14,
   "metadata": {},
   "outputs": [
    {
     "name": "stderr",
     "output_type": "stream",
     "text": [
      "2022-05-24 14:20:58.570996: I tensorflow/stream_executor/cuda/cuda_gpu_executor.cc:936] successful NUMA node read from SysFS had negative value (-1), but there must be at least one NUMA node, so returning NUMA node zero\n",
      "2022-05-24 14:20:58.571148: I tensorflow/stream_executor/cuda/cuda_gpu_executor.cc:936] successful NUMA node read from SysFS had negative value (-1), but there must be at least one NUMA node, so returning NUMA node zero\n",
      "2022-05-24 14:20:58.571226: I tensorflow/stream_executor/cuda/cuda_gpu_executor.cc:936] successful NUMA node read from SysFS had negative value (-1), but there must be at least one NUMA node, so returning NUMA node zero\n",
      "2022-05-24 14:20:58.571339: I tensorflow/stream_executor/cuda/cuda_gpu_executor.cc:936] successful NUMA node read from SysFS had negative value (-1), but there must be at least one NUMA node, so returning NUMA node zero\n",
      "2022-05-24 14:20:58.571420: I tensorflow/stream_executor/cuda/cuda_gpu_executor.cc:936] successful NUMA node read from SysFS had negative value (-1), but there must be at least one NUMA node, so returning NUMA node zero\n",
      "2022-05-24 14:20:58.571479: I tensorflow/core/common_runtime/gpu/gpu_device.cc:1525] Created device /device:GPU:0 with 7"
     ]
    },
    {
     "data": {
      "text/plain": [
       "'/device:GPU:0'"
      ]
     },
     "execution_count": 14,
     "metadata": {},
     "output_type": "execute_result"
    },
    {
     "name": "stderr",
     "output_type": "stream",
     "text": [
      "580 MB memory:  -> device: 0, name: NVIDIA GeForce RTX 3080, pci bus id: 0000:01:00.0, compute capability: 8.6\n"
     ]
    }
   ],
   "source": [
    "tf.test.gpu_device_name()"
   ]
  },
  {
   "cell_type": "code",
   "execution_count": 15,
   "metadata": {},
   "outputs": [
    {
     "name": "stdout",
     "output_type": "stream",
     "text": [
      "Epoch 1/200\n",
      "  5/491 [..............................] - ETA: 20s - loss: 11.7334 - binary_accuracy: 0.5562"
     ]
    },
    {
     "name": "stderr",
     "output_type": "stream",
     "text": [
      "2022-05-24 14:20:59.654842: I tensorflow/stream_executor/cuda/cuda_blas.cc:1786] TensorFloat-32 will be used for the matrix multiplication. This will only be logged once.\n"
     ]
    },
    {
     "name": "stdout",
     "output_type": "stream",
     "text": [
      "491/491 [==============================] - 28s 56ms/step - loss: 1.2586 - binary_accuracy: 0.5332 - val_loss: 0.6949 - val_binary_accuracy: 0.5109\n",
      "Epoch 2/200\n",
      "491/491 [==============================] - 27s 55ms/step - loss: 0.6959 - binary_accuracy: 0.5370 - val_loss: 0.6954 - val_binary_accuracy: 0.5326\n",
      "Epoch 3/200\n",
      "491/491 [==============================] - 27s 56ms/step - loss: 0.6946 - binary_accuracy: 0.5369 - val_loss: 0.6949 - val_binary_accuracy: 0.5326\n",
      "Epoch 4/200\n",
      "491/491 [==============================] - 27s 56ms/step - loss: 0.6935 - binary_accuracy: 0.5421 - val_loss: 0.6949 - val_binary_accuracy: 0.5380\n",
      "Epoch 5/200\n",
      "491/491 [==============================] - 27s 55ms/step - loss: 0.6939 - binary_accuracy: 0.5282 - val_loss: 0.6938 - val_binary_accuracy: 0.5326\n",
      "Epoch 6/200\n",
      "491/491 [==============================] - 27s 55ms/step - loss: 0.6932 - binary_accuracy: 0.5311 - val_loss: 0.6924 - val_binary_accuracy: 0.5625\n",
      "Epoch 7/200\n",
      "491/491 [==============================] - 27s 55ms/step - loss: 0.6933 - binary_accuracy: 0.5283 - val_loss: 0.6917 - val_binary_accuracy: 0.5435\n",
      "Epoch 8/200\n",
      "491/491 [==============================] - 27s 55ms/step - loss: 0.6934 - binary_accuracy: 0.5128 - val_loss: 0.6933 - val_binary_accuracy: 0.5041\n",
      "Epoch 9/200\n",
      "491/491 [==============================] - 27s 56ms/step - loss: 0.6936 - binary_accuracy: 0.4956 - val_loss: 0.6932 - val_binary_accuracy: 0.4959\n",
      "Epoch 10/200\n",
      "491/491 [==============================] - 27s 55ms/step - loss: 0.6935 - binary_accuracy: 0.4947 - val_loss: 0.6931 - val_binary_accuracy: 0.5041\n",
      "Epoch 11/200\n",
      "491/491 [==============================] - 28s 57ms/step - loss: 0.6935 - binary_accuracy: 0.4995 - val_loss: 0.6932 - val_binary_accuracy: 0.5027\n",
      "Epoch 12/200\n",
      "491/491 [==============================] - 28s 56ms/step - loss: 0.6934 - binary_accuracy: 0.4950 - val_loss: 0.6932 - val_binary_accuracy: 0.5014\n",
      "Epoch 13/200\n",
      "491/491 [==============================] - 28s 57ms/step - loss: 0.6933 - binary_accuracy: 0.4989 - val_loss: 0.6931 - val_binary_accuracy: 0.5000\n",
      "Epoch 14/200\n",
      "491/491 [==============================] - 27s 55ms/step - loss: 0.6933 - binary_accuracy: 0.4971 - val_loss: 0.6931 - val_binary_accuracy: 0.5014\n",
      "Epoch 15/200\n",
      "491/491 [==============================] - 28s 56ms/step - loss: 0.6935 - binary_accuracy: 0.4898 - val_loss: 0.6931 - val_binary_accuracy: 0.5000\n",
      "Epoch 16/200\n",
      "491/491 [==============================] - 28s 56ms/step - loss: 0.6933 - binary_accuracy: 0.4976 - val_loss: 0.6932 - val_binary_accuracy: 0.5000\n",
      "Epoch 17/200\n",
      "491/491 [==============================] - 28s 56ms/step - loss: 0.6932 - binary_accuracy: 0.5001 - val_loss: 0.6931 - val_binary_accuracy: 0.5041\n",
      "Epoch 18/200\n",
      "491/491 [==============================] - 27s 56ms/step - loss: 0.6932 - binary_accuracy: 0.5003 - val_loss: 0.6932 - val_binary_accuracy: 0.5000\n",
      "Epoch 19/200\n",
      "491/491 [==============================] - 28s 57ms/step - loss: 0.6933 - binary_accuracy: 0.4962 - val_loss: 0.6932 - val_binary_accuracy: 0.4973\n",
      "Epoch 20/200\n",
      "491/491 [==============================] - 28s 57ms/step - loss: 0.6932 - binary_accuracy: 0.4961 - val_loss: 0.6931 - val_binary_accuracy: 0.5014\n",
      "Epoch 21/200\n",
      "491/491 [==============================] - 28s 57ms/step - loss: 0.6933 - binary_accuracy: 0.4968 - val_loss: 0.6932 - val_binary_accuracy: 0.4986\n",
      "Epoch 22/200\n",
      "491/491 [==============================] - 27s 55ms/step - loss: 0.6933 - binary_accuracy: 0.4966 - val_loss: 0.6931 - val_binary_accuracy: 0.4973\n",
      "Epoch 23/200\n",
      "491/491 [==============================] - 27s 56ms/step - loss: 0.6932 - binary_accuracy: 0.5025 - val_loss: 0.6932 - val_binary_accuracy: 0.5014\n",
      "Epoch 24/200\n",
      "491/491 [==============================] - 27s 56ms/step - loss: 0.6932 - binary_accuracy: 0.5008 - val_loss: 0.6932 - val_binary_accuracy: 0.4973\n",
      "Epoch 25/200\n",
      "491/491 [==============================] - 27s 55ms/step - loss: 0.6932 - binary_accuracy: 0.4938 - val_loss: 0.6932 - val_binary_accuracy: 0.5000\n",
      "Epoch 26/200\n",
      "491/491 [==============================] - 27s 56ms/step - loss: 0.6932 - binary_accuracy: 0.5000 - val_loss: 0.6932 - val_binary_accuracy: 0.4986\n",
      "Epoch 27/200\n",
      "491/491 [==============================] - 27s 55ms/step - loss: 0.6932 - binary_accuracy: 0.5023 - val_loss: 0.6931 - val_binary_accuracy: 0.5014\n",
      "Epoch 28/200\n",
      "491/491 [==============================] - 27s 55ms/step - loss: 0.6932 - binary_accuracy: 0.4961 - val_loss: 0.6931 - val_binary_accuracy: 0.5027\n",
      "Epoch 29/200\n",
      "491/491 [==============================] - 27s 56ms/step - loss: 0.6932 - binary_accuracy: 0.4973 - val_loss: 0.6931 - val_binary_accuracy: 0.4946\n",
      "Epoch 30/200\n",
      "491/491 [==============================] - 27s 56ms/step - loss: 0.6932 - binary_accuracy: 0.4959 - val_loss: 0.6932 - val_binary_accuracy: 0.4959\n",
      "Epoch 31/200\n",
      "491/491 [==============================] - 27s 56ms/step - loss: 0.6932 - binary_accuracy: 0.4983 - val_loss: 0.6932 - val_binary_accuracy: 0.4959\n",
      "Epoch 32/200\n",
      "491/491 [==============================] - 27s 55ms/step - loss: 0.6932 - binary_accuracy: 0.5022 - val_loss: 0.6932 - val_binary_accuracy: 0.5000\n",
      "Epoch 33/200\n",
      "491/491 [==============================] - 28s 56ms/step - loss: 0.6932 - binary_accuracy: 0.4983 - val_loss: 0.6931 - val_binary_accuracy: 0.5054\n",
      "Epoch 34/200\n",
      "491/491 [==============================] - 27s 55ms/step - loss: 0.6932 - binary_accuracy: 0.4921 - val_loss: 0.6931 - val_binary_accuracy: 0.4986\n",
      "Epoch 35/200\n",
      "491/491 [==============================] - 28s 56ms/step - loss: 0.6932 - binary_accuracy: 0.4978 - val_loss: 0.6931 - val_binary_accuracy: 0.5054\n",
      "Epoch 36/200\n",
      "491/491 [==============================] - 28s 56ms/step - loss: 0.6932 - binary_accuracy: 0.4956 - val_loss: 0.6932 - val_binary_accuracy: 0.4973\n",
      "Epoch 37/200\n",
      "491/491 [==============================] - 27s 55ms/step - loss: 0.6932 - binary_accuracy: 0.4948 - val_loss: 0.6931 - val_binary_accuracy: 0.5014\n",
      "Epoch 38/200\n",
      "491/491 [==============================] - 27s 56ms/step - loss: 0.6932 - binary_accuracy: 0.4997 - val_loss: 0.6932 - val_binary_accuracy: 0.5000\n",
      "Epoch 39/200\n",
      "491/491 [==============================] - 27s 56ms/step - loss: 0.6931 - binary_accuracy: 0.5032 - val_loss: 0.6932 - val_binary_accuracy: 0.4959\n",
      "Epoch 40/200\n",
      "491/491 [==============================] - 27s 56ms/step - loss: 0.6932 - binary_accuracy: 0.4943 - val_loss: 0.6932 - val_binary_accuracy: 0.4973\n",
      "Epoch 41/200\n",
      "491/491 [==============================] - 28s 56ms/step - loss: 0.6932 - binary_accuracy: 0.4987 - val_loss: 0.6931 - val_binary_accuracy: 0.5041\n",
      "Epoch 42/200\n",
      "491/491 [==============================] - 27s 56ms/step - loss: 0.6932 - binary_accuracy: 0.4955 - val_loss: 0.6931 - val_binary_accuracy: 0.5000\n",
      "Epoch 43/200\n",
      "491/491 [==============================] - 27s 55ms/step - loss: 0.6932 - binary_accuracy: 0.4938 - val_loss: 0.6932 - val_binary_accuracy: 0.4973\n",
      "Epoch 44/200\n",
      "491/491 [==============================] - 27s 55ms/step - loss: 0.6932 - binary_accuracy: 0.5033 - val_loss: 0.6931 - val_binary_accuracy: 0.5000\n",
      "Epoch 45/200\n",
      "491/491 [==============================] - 28s 56ms/step - loss: 0.6932 - binary_accuracy: 0.4954 - val_loss: 0.6931 - val_binary_accuracy: 0.4986\n",
      "Epoch 46/200\n",
      "491/491 [==============================] - 27s 56ms/step - loss: 0.6932 - binary_accuracy: 0.4989 - val_loss: 0.6932 - val_binary_accuracy: 0.4959\n",
      "Epoch 47/200\n",
      "491/491 [==============================] - 27s 56ms/step - loss: 0.6932 - binary_accuracy: 0.4949 - val_loss: 0.6931 - val_binary_accuracy: 0.5014\n",
      "Epoch 48/200\n",
      "491/491 [==============================] - 27s 56ms/step - loss: 0.6932 - binary_accuracy: 0.4914 - val_loss: 0.6931 - val_binary_accuracy: 0.5000\n",
      "Epoch 49/200\n",
      "491/491 [==============================] - 27s 55ms/step - loss: 0.6932 - binary_accuracy: 0.5004 - val_loss: 0.6932 - val_binary_accuracy: 0.4986\n",
      "Epoch 50/200\n",
      "491/491 [==============================] - 27s 55ms/step - loss: 0.6932 - binary_accuracy: 0.4953 - val_loss: 0.6932 - val_binary_accuracy: 0.4986\n",
      "Epoch 51/200\n",
      "491/491 [==============================] - 27s 56ms/step - loss: 0.6932 - binary_accuracy: 0.4908 - val_loss: 0.6931 - val_binary_accuracy: 0.5054\n",
      "Epoch 52/200\n",
      "491/491 [==============================] - 27s 55ms/step - loss: 0.6932 - binary_accuracy: 0.4962 - val_loss: 0.6932 - val_binary_accuracy: 0.4986\n",
      "Epoch 53/200\n",
      "491/491 [==============================] - 27s 56ms/step - loss: 0.6932 - binary_accuracy: 0.4934 - val_loss: 0.6931 - val_binary_accuracy: 0.5041\n",
      "Epoch 54/200\n",
      "491/491 [==============================] - 27s 56ms/step - loss: 0.6932 - binary_accuracy: 0.4943 - val_loss: 0.6932 - val_binary_accuracy: 0.4973\n",
      "Epoch 55/200\n",
      "491/491 [==============================] - 27s 56ms/step - loss: 0.6932 - binary_accuracy: 0.5013 - val_loss: 0.6931 - val_binary_accuracy: 0.5041\n",
      "Epoch 56/200\n",
      "491/491 [==============================] - 27s 56ms/step - loss: 0.6932 - binary_accuracy: 0.4975 - val_loss: 0.6932 - val_binary_accuracy: 0.4986\n",
      "Epoch 57/200\n",
      "491/491 [==============================] - 27s 55ms/step - loss: 0.6932 - binary_accuracy: 0.4953 - val_loss: 0.6932 - val_binary_accuracy: 0.4959\n",
      "Epoch 58/200\n",
      "491/491 [==============================] - 28s 56ms/step - loss: 0.6932 - binary_accuracy: 0.4961 - val_loss: 0.6931 - val_binary_accuracy: 0.5027\n",
      "Epoch 59/200\n",
      "491/491 [==============================] - 27s 56ms/step - loss: 0.6932 - binary_accuracy: 0.4930 - val_loss: 0.6931 - val_binary_accuracy: 0.5014\n",
      "Epoch 60/200\n",
      "491/491 [==============================] - 27s 56ms/step - loss: 0.6932 - binary_accuracy: 0.4962 - val_loss: 0.6931 - val_binary_accuracy: 0.5041\n",
      "Epoch 61/200\n",
      "491/491 [==============================] - 27s 56ms/step - loss: 0.6932 - binary_accuracy: 0.5006 - val_loss: 0.6932 - val_binary_accuracy: 0.4973\n",
      "Epoch 62/200\n",
      "491/491 [==============================] - 27s 55ms/step - loss: 0.6932 - binary_accuracy: 0.4948 - val_loss: 0.6932 - val_binary_accuracy: 0.4986\n",
      "Epoch 63/200\n",
      "491/491 [==============================] - 27s 55ms/step - loss: 0.6932 - binary_accuracy: 0.4994 - val_loss: 0.6932 - val_binary_accuracy: 0.4973\n",
      "Epoch 64/200\n",
      "491/491 [==============================] - 28s 57ms/step - loss: 0.6932 - binary_accuracy: 0.4943 - val_loss: 0.6932 - val_binary_accuracy: 0.4959\n",
      "Epoch 65/200\n",
      "491/491 [==============================] - 27s 56ms/step - loss: 0.6932 - binary_accuracy: 0.4903 - val_loss: 0.6932 - val_binary_accuracy: 0.4932\n",
      "Epoch 66/200\n",
      "491/491 [==============================] - 28s 57ms/step - loss: 0.6932 - binary_accuracy: 0.5011 - val_loss: 0.6931 - val_binary_accuracy: 0.5000\n",
      "Epoch 67/200\n",
      "491/491 [==============================] - 27s 56ms/step - loss: 0.6932 - binary_accuracy: 0.5013 - val_loss: 0.6931 - val_binary_accuracy: 0.5000\n",
      "Epoch 68/200\n",
      "491/491 [==============================] - 28s 58ms/step - loss: 0.6932 - binary_accuracy: 0.4978 - val_loss: 0.6931 - val_binary_accuracy: 0.5000\n",
      "Epoch 69/200\n",
      "491/491 [==============================] - 28s 56ms/step - loss: 0.6932 - binary_accuracy: 0.5012 - val_loss: 0.6931 - val_binary_accuracy: 0.5041\n",
      "Epoch 70/200\n",
      "491/491 [==============================] - 27s 56ms/step - loss: 0.6932 - binary_accuracy: 0.4956 - val_loss: 0.6931 - val_binary_accuracy: 0.4986\n",
      "Epoch 71/200\n",
      "491/491 [==============================] - 28s 56ms/step - loss: 0.6932 - binary_accuracy: 0.4941 - val_loss: 0.6931 - val_binary_accuracy: 0.4986\n",
      "Epoch 72/200\n",
      "491/491 [==============================] - 28s 56ms/step - loss: 0.6932 - binary_accuracy: 0.4891 - val_loss: 0.6931 - val_binary_accuracy: 0.4959\n",
      "Epoch 73/200\n",
      "491/491 [==============================] - 28s 57ms/step - loss: 0.6932 - binary_accuracy: 0.4964 - val_loss: 0.6931 - val_binary_accuracy: 0.5000\n",
      "Epoch 74/200\n",
      "491/491 [==============================] - 28s 57ms/step - loss: 0.6932 - binary_accuracy: 0.4933 - val_loss: 0.6931 - val_binary_accuracy: 0.5000\n",
      "Epoch 75/200\n",
      "491/491 [==============================] - 28s 56ms/step - loss: 0.6932 - binary_accuracy: 0.5003 - val_loss: 0.6932 - val_binary_accuracy: 0.4959\n",
      "Epoch 76/200\n",
      "491/491 [==============================] - 28s 57ms/step - loss: 0.6932 - binary_accuracy: 0.4974 - val_loss: 0.6932 - val_binary_accuracy: 0.4986\n",
      "Epoch 77/200\n",
      "491/491 [==============================] - 28s 57ms/step - loss: 0.6932 - binary_accuracy: 0.5013 - val_loss: 0.6931 - val_binary_accuracy: 0.5014\n",
      "Epoch 78/200\n",
      "491/491 [==============================] - 28s 57ms/step - loss: 0.6932 - binary_accuracy: 0.4980 - val_loss: 0.6932 - val_binary_accuracy: 0.4986\n",
      "Epoch 79/200\n",
      "491/491 [==============================] - 28s 56ms/step - loss: 0.6932 - binary_accuracy: 0.4989 - val_loss: 0.6932 - val_binary_accuracy: 0.5000\n",
      "Epoch 80/200\n",
      "491/491 [==============================] - 28s 57ms/step - loss: 0.6932 - binary_accuracy: 0.4963 - val_loss: 0.6931 - val_binary_accuracy: 0.5027\n",
      "Epoch 81/200\n",
      "491/491 [==============================] - 27s 56ms/step - loss: 0.6932 - binary_accuracy: 0.4950 - val_loss: 0.6932 - val_binary_accuracy: 0.4973\n",
      "Epoch 82/200\n",
      "491/491 [==============================] - 28s 56ms/step - loss: 0.6932 - binary_accuracy: 0.4943 - val_loss: 0.6932 - val_binary_accuracy: 0.4973\n",
      "Epoch 83/200\n",
      "491/491 [==============================] - 27s 56ms/step - loss: 0.6932 - binary_accuracy: 0.4971 - val_loss: 0.6931 - val_binary_accuracy: 0.5000\n",
      "Epoch 84/200\n",
      "491/491 [==============================] - 28s 57ms/step - loss: 0.6932 - binary_accuracy: 0.4991 - val_loss: 0.6932 - val_binary_accuracy: 0.4986\n",
      "Epoch 85/200\n",
      "491/491 [==============================] - 28s 57ms/step - loss: 0.6932 - binary_accuracy: 0.4955 - val_loss: 0.6931 - val_binary_accuracy: 0.5027\n",
      "Epoch 86/200\n",
      "491/491 [==============================] - 28s 57ms/step - loss: 0.6932 - binary_accuracy: 0.5004 - val_loss: 0.6932 - val_binary_accuracy: 0.4986\n",
      "Epoch 87/200\n",
      "491/491 [==============================] - 28s 57ms/step - loss: 0.6932 - binary_accuracy: 0.4963 - val_loss: 0.6931 - val_binary_accuracy: 0.5000\n",
      "Epoch 88/200\n",
      "491/491 [==============================] - 28s 57ms/step - loss: 0.6932 - binary_accuracy: 0.4994 - val_loss: 0.6932 - val_binary_accuracy: 0.4986\n",
      "Epoch 89/200\n",
      "491/491 [==============================] - 27s 55ms/step - loss: 0.6932 - binary_accuracy: 0.4962 - val_loss: 0.6931 - val_binary_accuracy: 0.4986\n",
      "Epoch 90/200\n",
      "491/491 [==============================] - 28s 57ms/step - loss: 0.6932 - binary_accuracy: 0.4987 - val_loss: 0.6931 - val_binary_accuracy: 0.4986\n",
      "Epoch 91/200\n",
      "491/491 [==============================] - 28s 56ms/step - loss: 0.6932 - binary_accuracy: 0.4955 - val_loss: 0.6931 - val_binary_accuracy: 0.4973\n",
      "Epoch 92/200\n",
      "491/491 [==============================] - 27s 56ms/step - loss: 0.6932 - binary_accuracy: 0.4938 - val_loss: 0.6931 - val_binary_accuracy: 0.4986\n",
      "Epoch 93/200\n",
      "491/491 [==============================] - 28s 56ms/step - loss: 0.6932 - binary_accuracy: 0.4996 - val_loss: 0.6931 - val_binary_accuracy: 0.5054\n",
      "Epoch 94/200\n",
      "491/491 [==============================] - 28s 57ms/step - loss: 0.6932 - binary_accuracy: 0.5010 - val_loss: 0.6931 - val_binary_accuracy: 0.5027\n",
      "Epoch 95/200\n",
      "491/491 [==============================] - 27s 55ms/step - loss: 0.6932 - binary_accuracy: 0.4976 - val_loss: 0.6932 - val_binary_accuracy: 0.4986\n",
      "Epoch 96/200\n",
      "491/491 [==============================] - 28s 57ms/step - loss: 0.6932 - binary_accuracy: 0.4976 - val_loss: 0.6932 - val_binary_accuracy: 0.5000\n",
      "Epoch 97/200\n",
      "491/491 [==============================] - 28s 56ms/step - loss: 0.6932 - binary_accuracy: 0.4941 - val_loss: 0.6931 - val_binary_accuracy: 0.5000\n",
      "Epoch 98/200\n",
      "491/491 [==============================] - 27s 56ms/step - loss: 0.6932 - binary_accuracy: 0.4961 - val_loss: 0.6932 - val_binary_accuracy: 0.4986\n",
      "Epoch 99/200\n",
      "491/491 [==============================] - 28s 56ms/step - loss: 0.6932 - binary_accuracy: 0.4938 - val_loss: 0.6931 - val_binary_accuracy: 0.5000\n",
      "Epoch 100/200\n",
      "491/491 [==============================] - 28s 56ms/step - loss: 0.6932 - binary_accuracy: 0.4982 - val_loss: 0.6932 - val_binary_accuracy: 0.4946\n",
      "Epoch 101/200\n",
      "491/491 [==============================] - 28s 56ms/step - loss: 0.6932 - binary_accuracy: 0.4977 - val_loss: 0.6932 - val_binary_accuracy: 0.4973\n",
      "Epoch 102/200\n",
      "491/491 [==============================] - 28s 57ms/step - loss: 0.6932 - binary_accuracy: 0.4937 - val_loss: 0.6931 - val_binary_accuracy: 0.5054\n",
      "Epoch 103/200\n",
      "491/491 [==============================] - 28s 56ms/step - loss: 0.6932 - binary_accuracy: 0.4976 - val_loss: 0.6932 - val_binary_accuracy: 0.4959\n",
      "Epoch 104/200\n",
      "491/491 [==============================] - 28s 57ms/step - loss: 0.6932 - binary_accuracy: 0.4935 - val_loss: 0.6932 - val_binary_accuracy: 0.4986\n",
      "Epoch 105/200\n",
      "491/491 [==============================] - 28s 57ms/step - loss: 0.6932 - binary_accuracy: 0.4968 - val_loss: 0.6932 - val_binary_accuracy: 0.4973\n",
      "Epoch 106/200\n",
      "491/491 [==============================] - 27s 56ms/step - loss: 0.6932 - binary_accuracy: 0.4975 - val_loss: 0.6931 - val_binary_accuracy: 0.5041\n",
      "Epoch 107/200\n",
      "491/491 [==============================] - 28s 57ms/step - loss: 0.6932 - binary_accuracy: 0.4979 - val_loss: 0.6932 - val_binary_accuracy: 0.4986\n",
      "Epoch 108/200\n",
      "491/491 [==============================] - 28s 56ms/step - loss: 0.6932 - binary_accuracy: 0.4982 - val_loss: 0.6932 - val_binary_accuracy: 0.4973\n",
      "Epoch 109/200\n",
      "491/491 [==============================] - 28s 57ms/step - loss: 0.6932 - binary_accuracy: 0.4978 - val_loss: 0.6932 - val_binary_accuracy: 0.4973\n",
      "Epoch 110/200\n",
      "491/491 [==============================] - 28s 56ms/step - loss: 0.6932 - binary_accuracy: 0.5012 - val_loss: 0.6931 - val_binary_accuracy: 0.5054\n",
      "Epoch 111/200\n",
      "491/491 [==============================] - 28s 56ms/step - loss: 0.6932 - binary_accuracy: 0.4946 - val_loss: 0.6931 - val_binary_accuracy: 0.5000\n",
      "Epoch 112/200\n",
      "491/491 [==============================] - 28s 56ms/step - loss: 0.6932 - binary_accuracy: 0.5004 - val_loss: 0.6931 - val_binary_accuracy: 0.5014\n",
      "Epoch 113/200\n",
      "491/491 [==============================] - 28s 57ms/step - loss: 0.6932 - binary_accuracy: 0.4965 - val_loss: 0.6931 - val_binary_accuracy: 0.5027\n",
      "Epoch 114/200\n",
      "491/491 [==============================] - 29s 58ms/step - loss: 0.6932 - binary_accuracy: 0.4942 - val_loss: 0.6931 - val_binary_accuracy: 0.4986\n",
      "Epoch 115/200\n",
      "491/491 [==============================] - 28s 57ms/step - loss: 0.6932 - binary_accuracy: 0.4965 - val_loss: 0.6931 - val_binary_accuracy: 0.5041\n",
      "Epoch 116/200\n",
      "491/491 [==============================] - 29s 59ms/step - loss: 0.6932 - binary_accuracy: 0.4952 - val_loss: 0.6931 - val_binary_accuracy: 0.5014\n",
      "Epoch 117/200\n",
      "491/491 [==============================] - 28s 57ms/step - loss: 0.6932 - binary_accuracy: 0.4962 - val_loss: 0.6931 - val_binary_accuracy: 0.5000\n",
      "Epoch 118/200\n",
      "491/491 [==============================] - 27s 55ms/step - loss: 0.6932 - binary_accuracy: 0.4980 - val_loss: 0.6932 - val_binary_accuracy: 0.4986\n",
      "Epoch 119/200\n",
      "491/491 [==============================] - 27s 56ms/step - loss: 0.6932 - binary_accuracy: 0.4966 - val_loss: 0.6931 - val_binary_accuracy: 0.5014\n",
      "Epoch 120/200\n",
      "491/491 [==============================] - 27s 56ms/step - loss: 0.6932 - binary_accuracy: 0.4994 - val_loss: 0.6931 - val_binary_accuracy: 0.5041\n",
      "Epoch 121/200\n",
      "491/491 [==============================] - 27s 55ms/step - loss: 0.6932 - binary_accuracy: 0.4948 - val_loss: 0.6932 - val_binary_accuracy: 0.4973\n",
      "Epoch 122/200\n",
      "491/491 [==============================] - 27s 55ms/step - loss: 0.6932 - binary_accuracy: 0.4970 - val_loss: 0.6931 - val_binary_accuracy: 0.5014\n",
      "Epoch 123/200\n",
      "491/491 [==============================] - 28s 56ms/step - loss: 0.6932 - binary_accuracy: 0.4989 - val_loss: 0.6931 - val_binary_accuracy: 0.5041\n",
      "Epoch 124/200\n",
      "491/491 [==============================] - 28s 56ms/step - loss: 0.6932 - binary_accuracy: 0.4906 - val_loss: 0.6932 - val_binary_accuracy: 0.4973\n",
      "Epoch 125/200\n",
      "491/491 [==============================] - 27s 55ms/step - loss: 0.6932 - binary_accuracy: 0.4997 - val_loss: 0.6931 - val_binary_accuracy: 0.5041\n",
      "Epoch 126/200\n",
      "491/491 [==============================] - 28s 57ms/step - loss: 0.6932 - binary_accuracy: 0.5013 - val_loss: 0.6931 - val_binary_accuracy: 0.5014\n",
      "Epoch 127/200\n",
      "491/491 [==============================] - 27s 56ms/step - loss: 0.6932 - binary_accuracy: 0.4954 - val_loss: 0.6932 - val_binary_accuracy: 0.4959\n",
      "Epoch 128/200\n",
      "491/491 [==============================] - 27s 56ms/step - loss: 0.6932 - binary_accuracy: 0.4952 - val_loss: 0.6932 - val_binary_accuracy: 0.5000\n",
      "Epoch 129/200\n",
      "491/491 [==============================] - 27s 55ms/step - loss: 0.6932 - binary_accuracy: 0.5016 - val_loss: 0.6932 - val_binary_accuracy: 0.4959\n",
      "Epoch 130/200\n",
      "491/491 [==============================] - 28s 58ms/step - loss: 0.6932 - binary_accuracy: 0.4980 - val_loss: 0.6931 - val_binary_accuracy: 0.5041\n",
      "Epoch 131/200\n",
      "491/491 [==============================] - 28s 56ms/step - loss: 0.6932 - binary_accuracy: 0.5008 - val_loss: 0.6931 - val_binary_accuracy: 0.5000\n",
      "Epoch 132/200\n",
      "491/491 [==============================] - 28s 57ms/step - loss: 0.6932 - binary_accuracy: 0.4959 - val_loss: 0.6931 - val_binary_accuracy: 0.5027\n",
      "Epoch 133/200\n",
      "491/491 [==============================] - 28s 56ms/step - loss: 0.6932 - binary_accuracy: 0.5018 - val_loss: 0.6932 - val_binary_accuracy: 0.4986\n",
      "Epoch 134/200\n",
      "491/491 [==============================] - 28s 56ms/step - loss: 0.6932 - binary_accuracy: 0.4984 - val_loss: 0.6932 - val_binary_accuracy: 0.4986\n",
      "Epoch 135/200\n",
      "491/491 [==============================] - 27s 55ms/step - loss: 0.6932 - binary_accuracy: 0.4971 - val_loss: 0.6932 - val_binary_accuracy: 0.4959\n",
      "Epoch 136/200\n",
      "491/491 [==============================] - 28s 56ms/step - loss: 0.6932 - binary_accuracy: 0.4968 - val_loss: 0.6931 - val_binary_accuracy: 0.4986\n",
      "Epoch 137/200\n",
      "491/491 [==============================] - 27s 55ms/step - loss: 0.6932 - binary_accuracy: 0.4929 - val_loss: 0.6931 - val_binary_accuracy: 0.5000\n",
      "Epoch 138/200\n",
      "491/491 [==============================] - 27s 55ms/step - loss: 0.6932 - binary_accuracy: 0.4961 - val_loss: 0.6931 - val_binary_accuracy: 0.5014\n",
      "Epoch 139/200\n",
      "491/491 [==============================] - 27s 56ms/step - loss: 0.6932 - binary_accuracy: 0.4978 - val_loss: 0.6931 - val_binary_accuracy: 0.5027\n",
      "Epoch 140/200\n",
      "491/491 [==============================] - 28s 57ms/step - loss: 0.6932 - binary_accuracy: 0.4961 - val_loss: 0.6931 - val_binary_accuracy: 0.5000\n",
      "Epoch 141/200\n",
      "491/491 [==============================] - 27s 56ms/step - loss: 0.6932 - binary_accuracy: 0.4926 - val_loss: 0.6932 - val_binary_accuracy: 0.4986\n",
      "Epoch 142/200\n",
      "491/491 [==============================] - 27s 56ms/step - loss: 0.6932 - binary_accuracy: 0.4945 - val_loss: 0.6931 - val_binary_accuracy: 0.5027\n",
      "Epoch 143/200\n",
      "491/491 [==============================] - 27s 55ms/step - loss: 0.6932 - binary_accuracy: 0.4985 - val_loss: 0.6932 - val_binary_accuracy: 0.4932\n",
      "Epoch 144/200\n",
      "491/491 [==============================] - 27s 56ms/step - loss: 0.6932 - binary_accuracy: 0.5012 - val_loss: 0.6931 - val_binary_accuracy: 0.5027\n",
      "Epoch 145/200\n",
      "491/491 [==============================] - 27s 54ms/step - loss: 0.6932 - binary_accuracy: 0.4904 - val_loss: 0.6931 - val_binary_accuracy: 0.5027\n",
      "Epoch 146/200\n",
      "491/491 [==============================] - 27s 56ms/step - loss: 0.6932 - binary_accuracy: 0.5013 - val_loss: 0.6932 - val_binary_accuracy: 0.4973\n",
      "Epoch 147/200\n",
      "491/491 [==============================] - 27s 56ms/step - loss: 0.6932 - binary_accuracy: 0.4908 - val_loss: 0.6931 - val_binary_accuracy: 0.4986\n",
      "Epoch 148/200\n",
      "491/491 [==============================] - 28s 56ms/step - loss: 0.6932 - binary_accuracy: 0.5006 - val_loss: 0.6931 - val_binary_accuracy: 0.5054\n",
      "Epoch 149/200\n",
      "491/491 [==============================] - 27s 55ms/step - loss: 0.6932 - binary_accuracy: 0.4975 - val_loss: 0.6932 - val_binary_accuracy: 0.5000\n",
      "Epoch 150/200\n",
      "491/491 [==============================] - 27s 56ms/step - loss: 0.6932 - binary_accuracy: 0.4959 - val_loss: 0.6931 - val_binary_accuracy: 0.5054\n",
      "Epoch 151/200\n",
      "491/491 [==============================] - 27s 56ms/step - loss: 0.6932 - binary_accuracy: 0.4951 - val_loss: 0.6931 - val_binary_accuracy: 0.5014\n",
      "Epoch 152/200\n",
      "491/491 [==============================] - 27s 55ms/step - loss: 0.6932 - binary_accuracy: 0.4952 - val_loss: 0.6931 - val_binary_accuracy: 0.5014\n",
      "Epoch 153/200\n",
      "491/491 [==============================] - 27s 55ms/step - loss: 0.6932 - binary_accuracy: 0.4957 - val_loss: 0.6931 - val_binary_accuracy: 0.5041\n",
      "Epoch 154/200\n",
      "491/491 [==============================] - 27s 54ms/step - loss: 0.6932 - binary_accuracy: 0.4975 - val_loss: 0.6932 - val_binary_accuracy: 0.5000\n",
      "Epoch 155/200\n",
      "491/491 [==============================] - 26s 54ms/step - loss: 0.6932 - binary_accuracy: 0.4961 - val_loss: 0.6931 - val_binary_accuracy: 0.5014\n",
      "Epoch 156/200\n",
      "491/491 [==============================] - 27s 55ms/step - loss: 0.6932 - binary_accuracy: 0.4985 - val_loss: 0.6931 - val_binary_accuracy: 0.5014\n",
      "Epoch 157/200\n",
      "491/491 [==============================] - 27s 56ms/step - loss: 0.6932 - binary_accuracy: 0.4978 - val_loss: 0.6932 - val_binary_accuracy: 0.4986\n",
      "Epoch 158/200\n",
      "491/491 [==============================] - 28s 58ms/step - loss: 0.6932 - binary_accuracy: 0.4977 - val_loss: 0.6931 - val_binary_accuracy: 0.5014\n",
      "Epoch 159/200\n",
      "491/491 [==============================] - 28s 57ms/step - loss: 0.6932 - binary_accuracy: 0.4954 - val_loss: 0.6931 - val_binary_accuracy: 0.5000\n",
      "Epoch 160/200\n",
      "491/491 [==============================] - 28s 58ms/step - loss: 0.6932 - binary_accuracy: 0.4983 - val_loss: 0.6931 - val_binary_accuracy: 0.5000\n",
      "Epoch 161/200\n",
      "491/491 [==============================] - 27s 56ms/step - loss: 0.6932 - binary_accuracy: 0.4981 - val_loss: 0.6932 - val_binary_accuracy: 0.5000\n",
      "Epoch 162/200\n",
      "491/491 [==============================] - 28s 57ms/step - loss: 0.6932 - binary_accuracy: 0.4985 - val_loss: 0.6932 - val_binary_accuracy: 0.4986\n",
      "Epoch 163/200\n",
      "491/491 [==============================] - 28s 57ms/step - loss: 0.6932 - binary_accuracy: 0.4967 - val_loss: 0.6931 - val_binary_accuracy: 0.5041\n",
      "Epoch 164/200\n",
      "491/491 [==============================] - 28s 56ms/step - loss: 0.6932 - binary_accuracy: 0.4934 - val_loss: 0.6931 - val_binary_accuracy: 0.5000\n",
      "Epoch 165/200\n",
      "491/491 [==============================] - 27s 55ms/step - loss: 0.6932 - binary_accuracy: 0.4962 - val_loss: 0.6932 - val_binary_accuracy: 0.4973\n",
      "Epoch 166/200\n",
      "491/491 [==============================] - 28s 56ms/step - loss: 0.6932 - binary_accuracy: 0.4941 - val_loss: 0.6932 - val_binary_accuracy: 0.4986\n",
      "Epoch 167/200\n",
      "491/491 [==============================] - 27s 55ms/step - loss: 0.6932 - binary_accuracy: 0.5002 - val_loss: 0.6931 - val_binary_accuracy: 0.5027\n",
      "Epoch 168/200\n",
      "491/491 [==============================] - 28s 57ms/step - loss: 0.6932 - binary_accuracy: 0.4923 - val_loss: 0.6931 - val_binary_accuracy: 0.5014\n",
      "Epoch 169/200\n",
      "491/491 [==============================] - 28s 57ms/step - loss: 0.6932 - binary_accuracy: 0.4955 - val_loss: 0.6931 - val_binary_accuracy: 0.5014\n",
      "Epoch 170/200\n",
      "491/491 [==============================] - 28s 57ms/step - loss: 0.6932 - binary_accuracy: 0.4950 - val_loss: 0.6931 - val_binary_accuracy: 0.5014\n",
      "Epoch 171/200\n",
      "491/491 [==============================] - 28s 56ms/step - loss: 0.6932 - binary_accuracy: 0.5003 - val_loss: 0.6932 - val_binary_accuracy: 0.5000\n",
      "Epoch 172/200\n",
      "491/491 [==============================] - 28s 56ms/step - loss: 0.6932 - binary_accuracy: 0.4993 - val_loss: 0.6932 - val_binary_accuracy: 0.4973\n",
      "Epoch 173/200\n",
      "491/491 [==============================] - 27s 55ms/step - loss: 0.6932 - binary_accuracy: 0.4989 - val_loss: 0.6931 - val_binary_accuracy: 0.5000\n",
      "Epoch 174/200\n",
      "491/491 [==============================] - 28s 57ms/step - loss: 0.6932 - binary_accuracy: 0.4994 - val_loss: 0.6932 - val_binary_accuracy: 0.4986\n",
      "Epoch 175/200\n",
      "491/491 [==============================] - 27s 54ms/step - loss: 0.6932 - binary_accuracy: 0.4997 - val_loss: 0.6932 - val_binary_accuracy: 0.4973\n",
      "Epoch 176/200\n",
      "491/491 [==============================] - 28s 57ms/step - loss: 0.6932 - binary_accuracy: 0.4995 - val_loss: 0.6932 - val_binary_accuracy: 0.4932\n",
      "Epoch 177/200\n",
      "491/491 [==============================] - 27s 55ms/step - loss: 0.6932 - binary_accuracy: 0.4972 - val_loss: 0.6932 - val_binary_accuracy: 0.4986\n",
      "Epoch 178/200\n",
      "491/491 [==============================] - 28s 56ms/step - loss: 0.6932 - binary_accuracy: 0.5006 - val_loss: 0.6931 - val_binary_accuracy: 0.5027\n",
      "Epoch 179/200\n",
      "491/491 [==============================] - 27s 55ms/step - loss: 0.6932 - binary_accuracy: 0.4962 - val_loss: 0.6931 - val_binary_accuracy: 0.5027\n",
      "Epoch 180/200\n",
      "491/491 [==============================] - 28s 56ms/step - loss: 0.6932 - binary_accuracy: 0.4955 - val_loss: 0.6932 - val_binary_accuracy: 0.4973\n",
      "Epoch 181/200\n",
      "491/491 [==============================] - 27s 56ms/step - loss: 0.6932 - binary_accuracy: 0.4964 - val_loss: 0.6932 - val_binary_accuracy: 0.4973\n",
      "Epoch 182/200\n",
      "491/491 [==============================] - 27s 56ms/step - loss: 0.6932 - binary_accuracy: 0.4941 - val_loss: 0.6932 - val_binary_accuracy: 0.4932\n",
      "Epoch 183/200\n",
      "491/491 [==============================] - 27s 56ms/step - loss: 0.6932 - binary_accuracy: 0.5013 - val_loss: 0.6932 - val_binary_accuracy: 0.4959\n",
      "Epoch 184/200\n",
      "491/491 [==============================] - 27s 55ms/step - loss: 0.6932 - binary_accuracy: 0.5003 - val_loss: 0.6931 - val_binary_accuracy: 0.5027\n",
      "Epoch 185/200\n",
      "491/491 [==============================] - 27s 56ms/step - loss: 0.6932 - binary_accuracy: 0.4917 - val_loss: 0.6932 - val_binary_accuracy: 0.4973\n",
      "Epoch 186/200\n",
      "491/491 [==============================] - 28s 56ms/step - loss: 0.6932 - binary_accuracy: 0.5019 - val_loss: 0.6931 - val_binary_accuracy: 0.5014\n",
      "Epoch 187/200\n",
      "491/491 [==============================] - 27s 56ms/step - loss: 0.6932 - binary_accuracy: 0.4960 - val_loss: 0.6931 - val_binary_accuracy: 0.5027\n",
      "Epoch 188/200\n",
      "491/491 [==============================] - 28s 56ms/step - loss: 0.6932 - binary_accuracy: 0.4939 - val_loss: 0.6931 - val_binary_accuracy: 0.5000\n",
      "Epoch 189/200\n",
      "491/491 [==============================] - 27s 56ms/step - loss: 0.6932 - binary_accuracy: 0.4931 - val_loss: 0.6931 - val_binary_accuracy: 0.5000\n",
      "Epoch 190/200\n",
      "491/491 [==============================] - 28s 57ms/step - loss: 0.6932 - binary_accuracy: 0.4973 - val_loss: 0.6931 - val_binary_accuracy: 0.5027\n",
      "Epoch 191/200\n",
      "491/491 [==============================] - 28s 58ms/step - loss: 0.6932 - binary_accuracy: 0.4973 - val_loss: 0.6932 - val_binary_accuracy: 0.4986\n",
      "Epoch 192/200\n",
      "491/491 [==============================] - 28s 57ms/step - loss: 0.6932 - binary_accuracy: 0.5001 - val_loss: 0.6931 - val_binary_accuracy: 0.5027\n",
      "Epoch 193/200\n",
      "491/491 [==============================] - 28s 57ms/step - loss: 0.6932 - binary_accuracy: 0.4967 - val_loss: 0.6931 - val_binary_accuracy: 0.5027\n",
      "Epoch 194/200\n",
      "491/491 [==============================] - 28s 56ms/step - loss: 0.6932 - binary_accuracy: 0.4975 - val_loss: 0.6932 - val_binary_accuracy: 0.4986\n",
      "Epoch 195/200\n",
      "491/491 [==============================] - 28s 56ms/step - loss: 0.6932 - binary_accuracy: 0.4974 - val_loss: 0.6931 - val_binary_accuracy: 0.5027\n",
      "Epoch 196/200\n",
      "491/491 [==============================] - 28s 58ms/step - loss: 0.6932 - binary_accuracy: 0.4941 - val_loss: 0.6931 - val_binary_accuracy: 0.5000\n",
      "Epoch 197/200\n",
      "491/491 [==============================] - 28s 56ms/step - loss: 0.6932 - binary_accuracy: 0.4952 - val_loss: 0.6931 - val_binary_accuracy: 0.5014\n",
      "Epoch 198/200\n",
      "491/491 [==============================] - 28s 58ms/step - loss: 0.6932 - binary_accuracy: 0.4884 - val_loss: 0.6931 - val_binary_accuracy: 0.4986\n",
      "Epoch 199/200\n",
      "491/491 [==============================] - 28s 56ms/step - loss: 0.6932 - binary_accuracy: 0.4939 - val_loss: 0.6932 - val_binary_accuracy: 0.4959\n",
      "Epoch 200/200\n",
      "491/491 [==============================] - 28s 56ms/step - loss: 0.6932 - binary_accuracy: 0.4976 - val_loss: 0.6931 - val_binary_accuracy: 0.5014\n",
      "Entrnamiento completado\n"
     ]
    }
   ],
   "source": [
    "# Train model on dataset\n",
    "with tf.device('/device:GPU:0'):\n",
    "    model = setModel()\n",
    "    # callback = tf.keras.callbacks.EarlyStopping(monitor='loss', patience=5)\n",
    "    history = model.fit(x=training_generator,\n",
    "                        validation_data=validation_generator,\n",
    "                        # callbacks=[callback],\n",
    "                        # use_multiprocessing=True,\n",
    "                        # workers=4,\n",
    "                        epochs=200,\n",
    "                        verbose=1)\n",
    "print(\"Entrnamiento completado\")"
   ]
  },
  {
   "cell_type": "code",
   "execution_count": 16,
   "metadata": {},
   "outputs": [
    {
     "name": "stderr",
     "output_type": "stream",
     "text": [
      "2022-05-24 15:52:46.879351: W tensorflow/python/util/util.cc:368] Sets are not currently considered sequences, but this may change in the future, so consider avoiding using them.\n"
     ]
    },
    {
     "name": "stdout",
     "output_type": "stream",
     "text": [
      "INFO:tensorflow:Assets written to: models/ClassifierModel-v14/assets\n"
     ]
    }
   ],
   "source": [
    "model.save('models/ClassifierModel-v14')"
   ]
  },
  {
   "cell_type": "markdown",
   "metadata": {},
   "source": [
    "### Resultados del entrenamiento"
   ]
  },
  {
   "cell_type": "code",
   "execution_count": 17,
   "metadata": {},
   "outputs": [],
   "source": [
    "import matplotlib.pyplot as plt\n",
    "import seaborn as sns\n",
    "sns.set_theme(style=\"darkgrid\")"
   ]
  },
  {
   "cell_type": "code",
   "execution_count": 18,
   "metadata": {},
   "outputs": [
    {
     "data": {
      "text/plain": [
       "dict_keys(['loss', 'binary_accuracy', 'val_loss', 'val_binary_accuracy'])"
      ]
     },
     "execution_count": 18,
     "metadata": {},
     "output_type": "execute_result"
    }
   ],
   "source": [
    "history.history.keys()"
   ]
  },
  {
   "cell_type": "code",
   "execution_count": 19,
   "metadata": {},
   "outputs": [],
   "source": [
    "acc = pd.DataFrame({'accuracy':history.history['binary_accuracy'], 'type':'train'}).reset_index().rename(columns={'index':'epoch'})\n",
    "acc = pd.concat([acc, pd.DataFrame({'accuracy':history.history['val_binary_accuracy'], 'type':'val'}).reset_index().rename(columns={'index':'epoch'})]).reset_index(drop=True)\n",
    "loss = pd.DataFrame({'loss':history.history['loss'], 'type':'train'}).reset_index().rename(columns={'index':'epoch'})\n",
    "loss = pd.concat([loss, pd.DataFrame({'loss':history.history['val_loss'], 'type':'val'}).reset_index().rename(columns={'index':'epoch'})]).reset_index(drop=True)"
   ]
  },
  {
   "cell_type": "code",
   "execution_count": 20,
   "metadata": {},
   "outputs": [
    {
     "data": {
      "image/png": "[encoded data removed]",
      "text/plain": [
       "<Figure size 1080x360 with 2 Axes>"
      ]
     },
     "metadata": {},
     "output_type": "display_data"
    }
   ],
   "source": [
    "fig, ax = plt.subplots(nrows=1, ncols=2, figsize=(15,5))\n",
    "sns.lineplot(x='epoch', y='accuracy', data=acc, hue='type', ax=ax[0])\n",
    "sns.lineplot(x='epoch', y='loss', data=loss, hue='type', ax=ax[1])\n",
    "fig.suptitle(\"Modelo v4\")\n",
    "plt.show()"
   ]
  },
  {
   "cell_type": "code",
   "execution_count": 21,
   "metadata": {},
   "outputs": [
    {
     "data": {
      "text/html": [
       "<div>\n",
       "<style scoped>\n",
       "    .dataframe tbody tr th:only-of-type {\n",
       "        vertical-align: middle;\n",
       "    }\n",
       "\n",
       "    .dataframe tbody tr th {\n",
       "        vertical-align: top;\n",
       "    }\n",
       "\n",
       "    .dataframe thead th {\n",
       "        text-align: right;\n",
       "    }\n",
       "</style>\n",
       "<table border=\"1\" class=\"dataframe\">\n",
       "  <thead>\n",
       "    <tr style=\"text-align: right;\">\n",
       "      <th></th>\n",
       "      <th>epoch</th>\n",
       "      <th>accuracy</th>\n",
       "      <th>type</th>\n",
       "    </tr>\n",
       "  </thead>\n",
       "  <tbody>\n",
       "    <tr>\n",
       "      <th>199</th>\n",
       "      <td>199</td>\n",
       "      <td>0.497581</td>\n",
       "      <td>train</td>\n",
       "    </tr>\n",
       "    <tr>\n",
       "      <th>399</th>\n",
       "      <td>199</td>\n",
       "      <td>0.501359</td>\n",
       "      <td>val</td>\n",
       "    </tr>\n",
       "  </tbody>\n",
       "</table>\n",
       "</div>"
      ],
      "text/plain": [
       "     epoch  accuracy   type\n",
       "199    199  0.497581  train\n",
       "399    199  0.501359    val"
      ]
     },
     "execution_count": 21,
     "metadata": {},
     "output_type": "execute_result"
    }
   ],
   "source": [
    "acc.loc[acc.epoch == acc.epoch.max()]"
   ]
  },
  {
   "cell_type": "code",
   "execution_count": 22,
   "metadata": {},
   "outputs": [
    {
     "data": {
      "text/html": [
       "<div>\n",
       "<style scoped>\n",
       "    .dataframe tbody tr th:only-of-type {\n",
       "        vertical-align: middle;\n",
       "    }\n",
       "\n",
       "    .dataframe tbody tr th {\n",
       "        vertical-align: top;\n",
       "    }\n",
       "\n",
       "    .dataframe thead th {\n",
       "        text-align: right;\n",
       "    }\n",
       "</style>\n",
       "<table border=\"1\" class=\"dataframe\">\n",
       "  <thead>\n",
       "    <tr style=\"text-align: right;\">\n",
       "      <th></th>\n",
       "      <th>epoch</th>\n",
       "      <th>loss</th>\n",
       "      <th>type</th>\n",
       "    </tr>\n",
       "  </thead>\n",
       "  <tbody>\n",
       "    <tr>\n",
       "      <th>199</th>\n",
       "      <td>199</td>\n",
       "      <td>0.693180</td>\n",
       "      <td>train</td>\n",
       "    </tr>\n",
       "    <tr>\n",
       "      <th>399</th>\n",
       "      <td>199</td>\n",
       "      <td>0.693144</td>\n",
       "      <td>val</td>\n",
       "    </tr>\n",
       "  </tbody>\n",
       "</table>\n",
       "</div>"
      ],
      "text/plain": [
       "     epoch      loss   type\n",
       "199    199  0.693180  train\n",
       "399    199  0.693144    val"
      ]
     },
     "execution_count": 22,
     "metadata": {},
     "output_type": "execute_result"
    }
   ],
   "source": [
    "loss.loc[loss.epoch == loss.epoch.max()]"
   ]
  },
  {
   "cell_type": "markdown",
   "metadata": {},
   "source": [
    "### Evaluación de datos de prueba"
   ]
  },
  {
   "cell_type": "code",
   "execution_count": null,
   "metadata": {},
   "outputs": [],
   "source": [
    "!python PredictionsTest.py -i testinput -o testoutput/v14"
   ]
  },
  {
   "cell_type": "code",
   "execution_count": null,
   "metadata": {},
   "outputs": [],
   "source": [
    "!python pan22_verif_evaluator.py -i testinput -a testoutput/v14 -o testoutput/v14"
   ]
  }
 ],
 "metadata": {
  "interpreter": {
   "hash": "34185cc76f1746f7da7738a8f19ab6509177ea129d1668aef168b7e0e18c804f"
  },
  "kernelspec": {
   "display_name": "Python 3.9.12 ('base')",
   "language": "python",
   "name": "python3"
  },
  "language_info": {
   "codemirror_mode": {
    "name": "ipython",
    "version": 3
   },
   "file_extension": ".py",
   "mimetype": "text/x-python",
   "name": "python",
   "nbconvert_exporter": "python",
   "pygments_lexer": "ipython3",
   "version": "3.9.12"
  },
  "orig_nbformat": 4
 },
 "nbformat": 4,
 "nbformat_minor": 2
}
