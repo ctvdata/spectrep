{
 "cells": [
  {
   "cell_type": "code",
   "execution_count": 1,
   "metadata": {},
   "outputs": [],
   "source": [
    "import numpy as np\n",
    "import pandas as pd\n",
    "import tensorflow as tf\n",
    "import json\n",
    "from myGenerator import DataGenerator"
   ]
  },
  {
   "cell_type": "markdown",
   "metadata": {},
   "source": [
    "### Carga de datos"
   ]
  },
  {
   "cell_type": "code",
   "execution_count": 2,
   "metadata": {},
   "outputs": [],
   "source": [
    "train = pd.read_pickle(\"pan22-authorship-verification-training-dataset/particionesXid/PanTrain.plk\")\n",
    "val = pd.read_pickle(\"pan22-authorship-verification-training-dataset/particionesXid/PanVal.plk\")"
   ]
  },
  {
   "cell_type": "code",
   "execution_count": 3,
   "metadata": {},
   "outputs": [],
   "source": [
    "def spectraLoader(inputPath: str) -> pd.DataFrame:\n",
    "    df = pd.DataFrame()\n",
    "    with open(inputPath, encoding='utf-8') as f:\n",
    "        for line in f:\n",
    "            jsonline = json.loads(line)\n",
    "            lineDf = pd.DataFrame({'id':jsonline['id'], 'spectra':[np.array(jsonline['spectra'])]})\n",
    "            df = pd.concat([df, lineDf])\n",
    "    df = df.reset_index(drop=True)\n",
    "\n",
    "    return df"
   ]
  },
  {
   "cell_type": "code",
   "execution_count": 4,
   "metadata": {},
   "outputs": [],
   "source": [
    "full_spectra = spectraLoader(\"pan22-authorship-verification-training-dataset/particionesXid/FullSpectra.jsonl\")"
   ]
  },
  {
   "cell_type": "code",
   "execution_count": 5,
   "metadata": {},
   "outputs": [],
   "source": [
    "def loadLabels(inputPath:str, labelDict:dict) -> dict:\n",
    "    with open(inputPath, encoding='utf-8') as f:\n",
    "        for line in f:\n",
    "            jsonline = json.loads(line)\n",
    "            labelDict[jsonline['id']] = 1 if jsonline['value'] else 0\n",
    "        \n",
    "    return labelDict"
   ]
  },
  {
   "cell_type": "code",
   "execution_count": 6,
   "metadata": {},
   "outputs": [],
   "source": [
    "labels = dict()\n",
    "labels = loadLabels('pan22-authorship-verification-training-dataset/particiones/train_truth.jsonl',labels)\n",
    "labels = loadLabels('pan22-authorship-verification-training-dataset/particiones/val_truth.jsonl',labels)"
   ]
  },
  {
   "cell_type": "code",
   "execution_count": 7,
   "metadata": {},
   "outputs": [
    {
     "name": "stdout",
     "output_type": "stream",
     "text": [
      "Instances: 16486.0\n",
      "Labels:  16486\n"
     ]
    }
   ],
   "source": [
    "print(\"Instances: {}\".format((train.shape[0] + val.shape[0])/2))\n",
    "print(\"Labels: \",len(labels))"
   ]
  },
  {
   "cell_type": "code",
   "execution_count": 8,
   "metadata": {},
   "outputs": [],
   "source": [
    "partition = {'train': train.id.unique().tolist(), 'validation': val.id.unique().tolist()}"
   ]
  },
  {
   "cell_type": "code",
   "execution_count": 9,
   "metadata": {},
   "outputs": [
    {
     "name": "stdout",
     "output_type": "stream",
     "text": [
      "Train:  15732\n",
      "Validation:  754\n",
      "Total:  16486\n"
     ]
    }
   ],
   "source": [
    "print(\"Train: \", len(partition['train']))\n",
    "print(\"Validation: \", len(partition['validation']))\n",
    "print(\"Total: \", len(partition['train'])+len(partition['validation']))"
   ]
  },
  {
   "cell_type": "markdown",
   "metadata": {},
   "source": [
    "### Definición de la arquitectura del modelo"
   ]
  },
  {
   "cell_type": "code",
   "execution_count": 10,
   "metadata": {},
   "outputs": [],
   "source": [
    "# Modelo de red siamesa utilizando una red residual y un perceptron multicapa SIN CAPAS CUSTOM\n",
    "\n",
    "def setModel():\n",
    "    x1 = tf.keras.Input(shape=(1200,), name=\"input_1\")\n",
    "    x2 = tf.keras.Input(shape=(1200,), name=\"input_2\")\n",
    "\n",
    "    # Residual network\n",
    "    dense_layer_1 = tf.keras.layers.Dense(512, activation='relu', name=\"resdense_1\",kernel_regularizer=tf.keras.regularizers.l2(0.001))\n",
    "    o1_1 = dense_layer_1(x1)\n",
    "    o1_2 = dense_layer_1(x2)\n",
    "\n",
    "    dense_layer_2 = tf.keras.layers.Dense(512, activation='relu', name=\"resdense_2\",kernel_regularizer=tf.keras.regularizers.l2(0.001))\n",
    "    o2_1 = dense_layer_2(o1_1)\n",
    "    o2_2 = dense_layer_2(o1_2)\n",
    "\n",
    "    # Residual layer\n",
    "    dense_layer_3 = tf.keras.layers.Dense(512, activation='relu', name=\"resdense_3\",kernel_regularizer=tf.keras.regularizers.l2(0.001))\n",
    "    o3_1 = dense_layer_3(o1_1+o2_1)\n",
    "    o3_2 = dense_layer_3(o1_2+o2_2)\n",
    "\n",
    "    dense_layer_4 = tf.keras.layers.Dense(512, activation='relu', name=\"resdense_4\",kernel_regularizer=tf.keras.regularizers.l2(0.001))\n",
    "    o4_1 = dense_layer_4(o3_1)\n",
    "    o4_2 = dense_layer_4(o3_2)\n",
    "\n",
    "    dense_layer_5 = tf.keras.layers.Dense(512, activation='relu', name=\"resdense_5\",kernel_regularizer=tf.keras.regularizers.l2(0.001))\n",
    "    o5_1 = dense_layer_5(o3_1+o4_1)\n",
    "    o5_2 = dense_layer_5(o3_2+o4_2)\n",
    "\n",
    "    dense_layer_6 = tf.keras.layers.Dense(512, activation='relu', name=\"resdense_6\",kernel_regularizer=tf.keras.regularizers.l2(0.001))\n",
    "    o6_1 = dense_layer_6(o5_1)\n",
    "    o6_2 = dense_layer_6(o5_2)\n",
    "\n",
    "    # Merging\n",
    "    # merge = tf.math.abs(tf.subtract(o9_1,o9_2))\n",
    "    merge = tf.abs(o6_1-o6_2)\n",
    "\n",
    "    # MLPNN Classifier\n",
    "    dense1 = tf.keras.layers.Dense(256, activation='relu',kernel_regularizer=tf.keras.regularizers.l2(0.001))(merge)\n",
    "    do3 = tf.keras.layers.Dropout(0.4)(dense1)\n",
    "    # bn1 = tf.keras.layers.BatchNormalization()(do3)\n",
    "    dense2 = tf.keras.layers.Dense(128, activation='relu',kernel_regularizer=tf.keras.regularizers.l2(0.001))(do3)\n",
    "    do4 = tf.keras.layers.Dropout(0.4)(dense2)\n",
    "    # bn2 = tf.keras.layers.BatchNormalization()(do4)\n",
    "    output = tf.keras.layers.Dense(1, activation='sigmoid',kernel_regularizer=tf.keras.regularizers.l2(0.001))(do4)\n",
    "\n",
    "    model = tf.keras.Model([x1, x2], output)\n",
    "    model.compile(loss = 'binary_crossentropy', optimizer = \"adam\", metrics=[\"binary_accuracy\"])\n",
    "\n",
    "    return model"
   ]
  },
  {
   "cell_type": "code",
   "execution_count": 11,
   "metadata": {},
   "outputs": [
    {
     "name": "stdout",
     "output_type": "stream",
     "text": [
      "Model: \"model\"\n",
      "__________________________________________________________________________________________________\n",
      " Layer (type)                   Output Shape         Param #     Connected to                     \n",
      "==================================================================================================\n",
      " input_1 (InputLayer)           [(None, 1200)]       0           []                               \n",
      "                                                                                                  \n",
      " input_2 (InputLayer)           [(None, 1200)]       0           []                               \n",
      "                                                                                                  \n",
      " resdense_1 (Dense)             (None, 512)          614912      ['input_1[0][0]',                \n",
      "                                                                  'input_2[0][0]']                \n",
      "                                                                                                  \n",
      " resdense_2 (Dense)             (None, 512)          262656      ['resdense_1[0][0]',             \n",
      "                                                                  'resdense_1[1][0]']             \n",
      "                                                                                                  \n",
      " tf.__operators__.add (TFOpLamb  (None, 512)         0           ['resdense_1[0][0]',             \n",
      " da)                                                              'resdense_2[0][0]']             \n",
      "                                                                                                  \n",
      " tf.__operators__.add_1 (TFOpLa  (None, 512)         0           ['resdense_1[1][0]',             \n",
      " mbda)                                                            'resdense_2[1][0]']             \n",
      "                                                                                                  \n",
      " resdense_3 (Dense)             (None, 512)          262656      ['tf.__operators__.add[0][0]',   \n",
      "                                                                  'tf.__operators__.add_1[0][0]'] \n",
      "                                                                                                  \n",
      " resdense_4 (Dense)             (None, 512)          262656      ['resdense_3[0][0]',             \n",
      "                                                                  'resdense_3[1][0]']             \n",
      "                                                                                                  \n",
      " tf.__operators__.add_2 (TFOpLa  (None, 512)         0           ['resdense_3[0][0]',             \n",
      " mbda)                                                            'resdense_4[0][0]']             \n",
      "                                                                                                  \n",
      " tf.__operators__.add_3 (TFOpLa  (None, 512)         0           ['resdense_3[1][0]',             \n",
      " mbda)                                                            'resdense_4[1][0]']             \n",
      "                                                                                                  \n",
      " resdense_5 (Dense)             (None, 512)          262656      ['tf.__operators__.add_2[0][0]', \n",
      "                                                                  'tf.__operators__.add_3[0][0]'] \n",
      "                                                                                                  \n",
      " resdense_6 (Dense)             (None, 512)          262656      ['resdense_5[0][0]',             \n",
      "                                                                  'resdense_5[1][0]']             \n",
      "                                                                                                  \n",
      " tf.math.subtract (TFOpLambda)  (None, 512)          0           ['resdense_6[0][0]',             \n",
      "                                                                  'resdense_6[1][0]']             \n",
      "                                                                                                  \n",
      " tf.math.abs (TFOpLambda)       (None, 512)          0           ['tf.math.subtract[0][0]']       \n",
      "                                                                                                  \n",
      " dense (Dense)                  (None, 256)          131328      ['tf.math.abs[0][0]']            \n",
      "                                                                                                  \n",
      " dropout (Dropout)              (None, 256)          0           ['dense[0][0]']                  \n",
      "                                                                                                  \n",
      " dense_1 (Dense)                (None, 128)          32896       ['dropout[0][0]']                \n",
      "                                                                                                  \n",
      " dropout_1 (Dropout)            (None, 128)          0           ['dense_1[0][0]']                \n",
      "                                                                                                  \n",
      " dense_2 (Dense)                (None, 1)            129         ['dropout_1[0][0]']              \n",
      "                                                                                                  \n",
      "==================================================================================================\n",
      "Total params: 2,092,545\n",
      "Trainable params: 2,092,545\n",
      "Non-trainable params: 0\n",
      "__________________________________________________________________________________________________\n"
     ]
    },
    {
     "name": "stderr",
     "output_type": "stream",
     "text": [
      "2022-05-24 11:31:14.275038: I tensorflow/stream_executor/cuda/cuda_gpu_executor.cc:936] successful NUMA node read from SysFS had negative value (-1), but there must be at least one NUMA node, so returning NUMA node zero\n",
      "2022-05-24 11:31:14.324785: I tensorflow/stream_executor/cuda/cuda_gpu_executor.cc:936] successful NUMA node read from SysFS had negative value (-1), but there must be at least one NUMA node, so returning NUMA node zero\n",
      "2022-05-24 11:31:14.324901: I tensorflow/stream_executor/cuda/cuda_gpu_executor.cc:936] successful NUMA node read from SysFS had negative value (-1), but there must be at least one NUMA node, so returning NUMA node zero\n",
      "2022-05-24 11:31:14.325479: I tensorflow/core/platform/cpu_feature_guard.cc:151] This TensorFlow binary is optimized with oneAPI Deep Neural Network Library (oneDNN) to use the following CPU instructions in performance-critical operations:  AVX2 FMA\n",
      "To enable them in other operations, rebuild TensorFlow with the appropriate compiler flags.\n",
      "2022-05-24 11:31:14.326207: I tensorflow/stream_executor/cuda/cuda_gpu_executor.cc:936] successful NUMA node read from SysFS had negative value (-1), but there must be at least one NUMA node, so returning NUMA node zero\n",
      "2022-05-24 11:31:14.326296: I tensorflow/stream_executor/cuda/cuda_gpu_executor.cc:936] successful NUMA node read from SysFS had negative value (-1), but there must be at least one NUMA node, so returning NUMA node zero\n",
      "2022-05-24 11:31:14.326372: I tensorflow/stream_executor/cuda/cuda_gpu_executor.cc:936] successful NUMA node read from SysFS had negative value (-1), but there must be at least one NUMA node, so returning NUMA node zero\n",
      "2022-05-24 11:31:14.794293: I tensorflow/stream_executor/cuda/cuda_gpu_executor.cc:936] successful NUMA node read from SysFS had negative value (-1), but there must be at least one NUMA node, so returning NUMA node zero\n",
      "2022-05-24 11:31:14.794417: I tensorflow/stream_executor/cuda/cuda_gpu_executor.cc:936] successful NUMA node read from SysFS had negative value (-1), but there must be at least one NUMA node, so returning NUMA node zero\n",
      "2022-05-24 11:31:14.794502: I tensorflow/stream_executor/cuda/cuda_gpu_executor.cc:936] successful NUMA node read from SysFS had negative value (-1), but there must be at least one NUMA node, so returning NUMA node zero\n",
      "2022-05-24 11:31:14.794747: I tensorflow/core/common_runtime/gpu/gpu_device.cc:1525] Created device /job:localhost/replica:0/task:0/device:GPU:0 with 7652 MB memory:  -> device: 0, name: NVIDIA GeForce RTX 3080, pci bus id: 0000:01:00.0, compute capability: 8.6\n"
     ]
    }
   ],
   "source": [
    "model = setModel()\n",
    "model.summary()"
   ]
  },
  {
   "cell_type": "markdown",
   "metadata": {},
   "source": [
    "### Entrenamiento del modelo"
   ]
  },
  {
   "cell_type": "code",
   "execution_count": 12,
   "metadata": {},
   "outputs": [],
   "source": [
    "# Parameters\n",
    "params = {'dim': (1200,),\n",
    "            'batch_size': 256,\n",
    "            'shuffle': True}"
   ]
  },
  {
   "cell_type": "code",
   "execution_count": 13,
   "metadata": {},
   "outputs": [],
   "source": [
    "# Generators\n",
    "training_generator = DataGenerator(partition['train'], train, labels, full_spectra, **params)\n",
    "validation_generator = DataGenerator(partition['validation'], val, labels, full_spectra, **params)"
   ]
  },
  {
   "cell_type": "code",
   "execution_count": 14,
   "metadata": {},
   "outputs": [
    {
     "name": "stderr",
     "output_type": "stream",
     "text": [
      "2022-05-24 11:32:58.699229: I tensorflow/stream_executor/cuda/cuda_gpu_executor.cc:936] successful NUMA node read from SysFS had negative value (-1), but there must be at least one NUMA node, so returning NUMA node zero\n",
      "2022-05-24 11:32:58.699368: I tensorflow/stream_executor/cuda/cuda_gpu_executor.cc:936] successful NUMA node read from SysFS had negative value (-1), but there must be at least one NUMA node, so returning NUMA node zero\n",
      "2022-05-24 11:32:58.699444: I tensorflow/stream_executor/cuda/cuda_gpu_executor.cc:936] successful NUMA node read from SysFS had negative value (-1), but there must be at least one NUMA node, so returning NUMA node zero\n",
      "2022-05-24 11:32:58.699555: I tensorflow/stream_executor/cuda/cuda_gpu_executor.cc:936] successful NUMA node read from SysFS had negative value (-1), but there must be at least one NUMA node, so returning NUMA node zero\n",
      "2022-05-24 11:32:58.699895: I tensorflow/stream_executor/cuda/cuda_gpu_executor.cc:936] successful NUMA node read from SysFS had negative value (-1), but there must be at least one NUMA node, so returning NUMA node zero\n",
      "2022-05-24 11:32:58.699960: I tensorflow/core/common_runtime/gpu/gpu_device.cc:1525] Created device /device:GPU:0 with 7652 MB memory:  -> device: 0, name: NVIDIA GeForce RTX 3080, pci bus id: 0000:01:00.0, compute capability: 8.6\n"
     ]
    },
    {
     "data": {
      "text/plain": [
       "'/device:GPU:0'"
      ]
     },
     "execution_count": 14,
     "metadata": {},
     "output_type": "execute_result"
    }
   ],
   "source": [
    "tf.test.gpu_device_name()"
   ]
  },
  {
   "cell_type": "code",
   "execution_count": 15,
   "metadata": {},
   "outputs": [
    {
     "name": "stdout",
     "output_type": "stream",
     "text": [
      "Epoch 1/100\n",
      " 1/61 [..............................] - ETA: 1:51 - loss: 4.4805 - binary_accuracy: 0.5312"
     ]
    },
    {
     "name": "stderr",
     "output_type": "stream",
     "text": [
      "2022-05-24 11:33:03.855466: I tensorflow/stream_executor/cuda/cuda_blas.cc:1786] TensorFloat-32 will be used for the matrix multiplication. This will only be logged once.\n"
     ]
    },
    {
     "name": "stdout",
     "output_type": "stream",
     "text": [
      "61/61 [==============================] - 27s 425ms/step - loss: 2.2827 - binary_accuracy: 0.5380 - val_loss: 1.0862 - val_binary_accuracy: 0.5781\n",
      "Epoch 2/100\n",
      "61/61 [==============================] - 26s 419ms/step - loss: 0.8655 - binary_accuracy: 0.5594 - val_loss: 0.7634 - val_binary_accuracy: 0.5312\n",
      "Epoch 3/100\n",
      "61/61 [==============================] - 26s 422ms/step - loss: 0.7239 - binary_accuracy: 0.5847 - val_loss: 0.7157 - val_binary_accuracy: 0.5664\n",
      "Epoch 4/100\n",
      "61/61 [==============================] - 26s 425ms/step - loss: 0.6940 - binary_accuracy: 0.5993 - val_loss: 0.7082 - val_binary_accuracy: 0.5527\n",
      "Epoch 5/100\n",
      "61/61 [==============================] - 26s 420ms/step - loss: 0.6890 - binary_accuracy: 0.5948 - val_loss: 0.7133 - val_binary_accuracy: 0.5449\n",
      "Epoch 6/100\n",
      "61/61 [==============================] - 26s 418ms/step - loss: 0.6816 - binary_accuracy: 0.6005 - val_loss: 0.7006 - val_binary_accuracy: 0.5508\n",
      "Epoch 7/100\n",
      "61/61 [==============================] - 26s 424ms/step - loss: 0.6816 - binary_accuracy: 0.6023 - val_loss: 0.7154 - val_binary_accuracy: 0.5020\n",
      "Epoch 8/100\n",
      "61/61 [==============================] - 26s 424ms/step - loss: 0.6689 - binary_accuracy: 0.6197 - val_loss: 0.7013 - val_binary_accuracy: 0.5586\n",
      "Epoch 9/100\n",
      "61/61 [==============================] - 26s 421ms/step - loss: 0.6665 - binary_accuracy: 0.6198 - val_loss: 0.7215 - val_binary_accuracy: 0.5273\n",
      "Epoch 10/100\n",
      "61/61 [==============================] - 26s 425ms/step - loss: 0.6686 - binary_accuracy: 0.6160 - val_loss: 0.7280 - val_binary_accuracy: 0.4961\n",
      "Epoch 11/100\n",
      "61/61 [==============================] - 26s 420ms/step - loss: 0.6649 - binary_accuracy: 0.6230 - val_loss: 0.7177 - val_binary_accuracy: 0.5117\n",
      "Epoch 12/100\n",
      "61/61 [==============================] - 26s 420ms/step - loss: 0.6609 - binary_accuracy: 0.6297 - val_loss: 0.7530 - val_binary_accuracy: 0.4863\n",
      "Epoch 13/100\n",
      "61/61 [==============================] - 26s 427ms/step - loss: 0.6565 - binary_accuracy: 0.6365 - val_loss: 0.7219 - val_binary_accuracy: 0.5293\n",
      "Epoch 14/100\n",
      "61/61 [==============================] - 26s 421ms/step - loss: 0.6639 - binary_accuracy: 0.6244 - val_loss: 0.8358 - val_binary_accuracy: 0.4727\n",
      "Epoch 15/100\n",
      "61/61 [==============================] - 26s 424ms/step - loss: 0.6596 - binary_accuracy: 0.6311 - val_loss: 0.7857 - val_binary_accuracy: 0.4922\n",
      "Epoch 16/100\n",
      "61/61 [==============================] - 26s 422ms/step - loss: 0.6532 - binary_accuracy: 0.6393 - val_loss: 0.7909 - val_binary_accuracy: 0.4629\n",
      "Epoch 17/100\n",
      "61/61 [==============================] - 26s 422ms/step - loss: 0.6572 - binary_accuracy: 0.6351 - val_loss: 0.7544 - val_binary_accuracy: 0.4688\n",
      "Epoch 18/100\n",
      "61/61 [==============================] - 26s 420ms/step - loss: 0.6538 - binary_accuracy: 0.6420 - val_loss: 0.8266 - val_binary_accuracy: 0.4707\n",
      "Epoch 19/100\n",
      "61/61 [==============================] - 26s 423ms/step - loss: 0.6474 - binary_accuracy: 0.6518 - val_loss: 0.7982 - val_binary_accuracy: 0.4648\n",
      "Epoch 20/100\n",
      "61/61 [==============================] - 26s 425ms/step - loss: 0.6365 - binary_accuracy: 0.6614 - val_loss: 0.7687 - val_binary_accuracy: 0.5059\n",
      "Epoch 21/100\n",
      "61/61 [==============================] - 26s 425ms/step - loss: 0.6525 - binary_accuracy: 0.6438 - val_loss: 0.9074 - val_binary_accuracy: 0.4922\n",
      "Epoch 22/100\n",
      "61/61 [==============================] - 26s 429ms/step - loss: 0.6450 - binary_accuracy: 0.6530 - val_loss: 0.7453 - val_binary_accuracy: 0.4902\n",
      "Epoch 23/100\n",
      "61/61 [==============================] - 26s 426ms/step - loss: 0.6434 - binary_accuracy: 0.6594 - val_loss: 0.7972 - val_binary_accuracy: 0.5098\n",
      "Epoch 24/100\n",
      "61/61 [==============================] - 26s 423ms/step - loss: 0.6277 - binary_accuracy: 0.6797 - val_loss: 0.8049 - val_binary_accuracy: 0.5273\n",
      "Epoch 25/100\n",
      "61/61 [==============================] - 26s 426ms/step - loss: 0.6467 - binary_accuracy: 0.6546 - val_loss: 0.7933 - val_binary_accuracy: 0.5312\n",
      "Epoch 26/100\n",
      "61/61 [==============================] - 26s 428ms/step - loss: 0.6445 - binary_accuracy: 0.6561 - val_loss: 0.7419 - val_binary_accuracy: 0.5234\n",
      "Epoch 27/100\n",
      "61/61 [==============================] - 26s 419ms/step - loss: 0.6383 - binary_accuracy: 0.6655 - val_loss: 0.7757 - val_binary_accuracy: 0.5430\n",
      "Epoch 28/100\n",
      "61/61 [==============================] - 26s 429ms/step - loss: 0.6176 - binary_accuracy: 0.6848 - val_loss: 0.8046 - val_binary_accuracy: 0.5000\n",
      "Epoch 29/100\n",
      "61/61 [==============================] - 26s 427ms/step - loss: 0.6445 - binary_accuracy: 0.6550 - val_loss: 0.8653 - val_binary_accuracy: 0.4570\n",
      "Epoch 30/100\n",
      "61/61 [==============================] - 26s 423ms/step - loss: 0.6337 - binary_accuracy: 0.6691 - val_loss: 0.7900 - val_binary_accuracy: 0.5176\n",
      "Epoch 31/100\n",
      "61/61 [==============================] - 26s 422ms/step - loss: 0.6287 - binary_accuracy: 0.6730 - val_loss: 1.0333 - val_binary_accuracy: 0.4863\n",
      "Epoch 32/100\n",
      "61/61 [==============================] - 26s 421ms/step - loss: 0.6155 - binary_accuracy: 0.6904 - val_loss: 0.8440 - val_binary_accuracy: 0.5098\n",
      "Epoch 33/100\n",
      "61/61 [==============================] - 26s 421ms/step - loss: 0.6129 - binary_accuracy: 0.6886 - val_loss: 0.7977 - val_binary_accuracy: 0.5059\n",
      "Epoch 34/100\n",
      "61/61 [==============================] - 26s 421ms/step - loss: 0.6207 - binary_accuracy: 0.6838 - val_loss: 0.8919 - val_binary_accuracy: 0.5156\n",
      "Epoch 35/100\n",
      "61/61 [==============================] - 25s 417ms/step - loss: 0.6224 - binary_accuracy: 0.6813 - val_loss: 0.8745 - val_binary_accuracy: 0.4629\n",
      "Epoch 36/100\n",
      "61/61 [==============================] - 25s 413ms/step - loss: 0.6100 - binary_accuracy: 0.6932 - val_loss: 0.8457 - val_binary_accuracy: 0.4766\n",
      "Epoch 37/100\n",
      "61/61 [==============================] - 25s 415ms/step - loss: 0.5966 - binary_accuracy: 0.7086 - val_loss: 0.8312 - val_binary_accuracy: 0.5039\n",
      "Epoch 38/100\n",
      "61/61 [==============================] - 25s 416ms/step - loss: 0.6245 - binary_accuracy: 0.6830 - val_loss: 0.8345 - val_binary_accuracy: 0.4785\n",
      "Epoch 39/100\n",
      "61/61 [==============================] - 26s 422ms/step - loss: 0.6173 - binary_accuracy: 0.6904 - val_loss: 0.8781 - val_binary_accuracy: 0.4648\n",
      "Epoch 40/100\n",
      "61/61 [==============================] - 26s 423ms/step - loss: 0.6118 - binary_accuracy: 0.6964 - val_loss: 0.8209 - val_binary_accuracy: 0.5000\n",
      "Epoch 41/100\n",
      "61/61 [==============================] - 26s 418ms/step - loss: 0.6161 - binary_accuracy: 0.6929 - val_loss: 0.7848 - val_binary_accuracy: 0.4863\n",
      "Epoch 42/100\n",
      "61/61 [==============================] - 26s 425ms/step - loss: 0.6148 - binary_accuracy: 0.6929 - val_loss: 0.7887 - val_binary_accuracy: 0.4668\n"
     ]
    }
   ],
   "source": [
    "# Train model on dataset\n",
    "with tf.device('/device:GPU:0'):\n",
    "    model = setModel()\n",
    "    callback = tf.keras.callbacks.EarlyStopping(monitor='loss', patience=5)\n",
    "    history = model.fit(x=training_generator,\n",
    "                        validation_data=validation_generator,\n",
    "                        callbacks=[callback],\n",
    "                        # use_multiprocessing=True,\n",
    "                        # workers=4,\n",
    "                        epochs=100,\n",
    "                        verbose=1)"
   ]
  },
  {
   "cell_type": "code",
   "execution_count": 16,
   "metadata": {},
   "outputs": [
    {
     "name": "stderr",
     "output_type": "stream",
     "text": [
      "2022-05-24 11:51:06.678280: W tensorflow/python/util/util.cc:368] Sets are not currently considered sequences, but this may change in the future, so consider avoiding using them.\n"
     ]
    },
    {
     "name": "stdout",
     "output_type": "stream",
     "text": [
      "INFO:tensorflow:Assets written to: models/ClassifierModel-v11/assets\n"
     ]
    }
   ],
   "source": [
    "model.save('models/ClassifierModel-v11')"
   ]
  },
  {
   "cell_type": "markdown",
   "metadata": {},
   "source": [
    "### Resultados del entrenamiento"
   ]
  },
  {
   "cell_type": "code",
   "execution_count": 20,
   "metadata": {},
   "outputs": [],
   "source": [
    "import matplotlib.pyplot as plt\n",
    "import seaborn as sns\n",
    "sns.set_theme(style=\"darkgrid\")"
   ]
  },
  {
   "cell_type": "code",
   "execution_count": 21,
   "metadata": {},
   "outputs": [
    {
     "data": {
      "text/plain": [
       "dict_keys(['loss', 'binary_accuracy', 'val_loss', 'val_binary_accuracy'])"
      ]
     },
     "execution_count": 21,
     "metadata": {},
     "output_type": "execute_result"
    }
   ],
   "source": [
    "history.history.keys()"
   ]
  },
  {
   "cell_type": "code",
   "execution_count": 22,
   "metadata": {},
   "outputs": [],
   "source": [
    "acc = pd.DataFrame({'accuracy':history.history['binary_accuracy'], 'type':'train'}).reset_index().rename(columns={'index':'epoch'})\n",
    "acc = pd.concat([acc, pd.DataFrame({'accuracy':history.history['val_binary_accuracy'], 'type':'val'}).reset_index().rename(columns={'index':'epoch'})]).reset_index(drop=True)\n",
    "loss = pd.DataFrame({'loss':history.history['loss'], 'type':'train'}).reset_index().rename(columns={'index':'epoch'})\n",
    "loss = pd.concat([loss, pd.DataFrame({'loss':history.history['val_loss'], 'type':'val'}).reset_index().rename(columns={'index':'epoch'})]).reset_index(drop=True)"
   ]
  },
  {
   "cell_type": "code",
   "execution_count": 23,
   "metadata": {},
   "outputs": [
    {
     "data": {
      "image/png": "[encoded data removed]",
      "text/plain": [
       "<Figure size 1080x360 with 2 Axes>"
      ]
     },
     "metadata": {},
     "output_type": "display_data"
    }
   ],
   "source": [
    "fig, ax = plt.subplots(nrows=1, ncols=2, figsize=(15,5))\n",
    "sns.lineplot(x='epoch', y='accuracy', data=acc, hue='type', ax=ax[0])\n",
    "sns.lineplot(x='epoch', y='loss', data=loss, hue='type', ax=ax[1])\n",
    "plt.show()"
   ]
  },
  {
   "cell_type": "code",
   "execution_count": 24,
   "metadata": {},
   "outputs": [
    {
     "data": {
      "text/html": [
       "<div>\n",
       "<style scoped>\n",
       "    .dataframe tbody tr th:only-of-type {\n",
       "        vertical-align: middle;\n",
       "    }\n",
       "\n",
       "    .dataframe tbody tr th {\n",
       "        vertical-align: top;\n",
       "    }\n",
       "\n",
       "    .dataframe thead th {\n",
       "        text-align: right;\n",
       "    }\n",
       "</style>\n",
       "<table border=\"1\" class=\"dataframe\">\n",
       "  <thead>\n",
       "    <tr style=\"text-align: right;\">\n",
       "      <th></th>\n",
       "      <th>epoch</th>\n",
       "      <th>accuracy</th>\n",
       "      <th>type</th>\n",
       "    </tr>\n",
       "  </thead>\n",
       "  <tbody>\n",
       "    <tr>\n",
       "      <th>41</th>\n",
       "      <td>41</td>\n",
       "      <td>0.692943</td>\n",
       "      <td>train</td>\n",
       "    </tr>\n",
       "    <tr>\n",
       "      <th>83</th>\n",
       "      <td>41</td>\n",
       "      <td>0.466797</td>\n",
       "      <td>val</td>\n",
       "    </tr>\n",
       "  </tbody>\n",
       "</table>\n",
       "</div>"
      ],
      "text/plain": [
       "    epoch  accuracy   type\n",
       "41     41  0.692943  train\n",
       "83     41  0.466797    val"
      ]
     },
     "execution_count": 24,
     "metadata": {},
     "output_type": "execute_result"
    }
   ],
   "source": [
    "acc.loc[acc.epoch == acc.epoch.max()]"
   ]
  },
  {
   "cell_type": "code",
   "execution_count": 25,
   "metadata": {},
   "outputs": [
    {
     "data": {
      "text/html": [
       "<div>\n",
       "<style scoped>\n",
       "    .dataframe tbody tr th:only-of-type {\n",
       "        vertical-align: middle;\n",
       "    }\n",
       "\n",
       "    .dataframe tbody tr th {\n",
       "        vertical-align: top;\n",
       "    }\n",
       "\n",
       "    .dataframe thead th {\n",
       "        text-align: right;\n",
       "    }\n",
       "</style>\n",
       "<table border=\"1\" class=\"dataframe\">\n",
       "  <thead>\n",
       "    <tr style=\"text-align: right;\">\n",
       "      <th></th>\n",
       "      <th>epoch</th>\n",
       "      <th>loss</th>\n",
       "      <th>type</th>\n",
       "    </tr>\n",
       "  </thead>\n",
       "  <tbody>\n",
       "    <tr>\n",
       "      <th>41</th>\n",
       "      <td>41</td>\n",
       "      <td>0.614780</td>\n",
       "      <td>train</td>\n",
       "    </tr>\n",
       "    <tr>\n",
       "      <th>83</th>\n",
       "      <td>41</td>\n",
       "      <td>0.788698</td>\n",
       "      <td>val</td>\n",
       "    </tr>\n",
       "  </tbody>\n",
       "</table>\n",
       "</div>"
      ],
      "text/plain": [
       "    epoch      loss   type\n",
       "41     41  0.614780  train\n",
       "83     41  0.788698    val"
      ]
     },
     "execution_count": 25,
     "metadata": {},
     "output_type": "execute_result"
    }
   ],
   "source": [
    "loss.loc[loss.epoch == loss.epoch.max()]"
   ]
  },
  {
   "cell_type": "markdown",
   "metadata": {},
   "source": [
    "### Evaluación de datos de prueba"
   ]
  },
  {
   "cell_type": "code",
   "execution_count": 1,
   "metadata": {},
   "outputs": [
    {
     "name": "stdout",
     "output_type": "stream",
     "text": [
      "[nltk_data] Downloading package punkt to /home/melesio/nltk_data...\n",
      "[nltk_data]   Package punkt is already up-to-date!\n",
      "[nltk_data] Downloading package stopwords to\n",
      "[nltk_data]     /home/melesio/nltk_data...\n",
      "[nltk_data]   Package stopwords is already up-to-date!\n",
      "[nltk_data] Downloading package wordnet to /home/melesio/nltk_data...\n",
      "[nltk_data]   Package wordnet is already up-to-date!\n",
      "[nltk_data] Downloading package omw-1.4 to /home/melesio/nltk_data...\n",
      "[nltk_data]   Package omw-1.4 is already up-to-date!\n",
      "[nltk_data] Downloading package averaged_perceptron_tagger to\n",
      "[nltk_data]     /home/melesio/nltk_data...\n",
      "[nltk_data]   Package averaged_perceptron_tagger is already up-to-\n",
      "[nltk_data]       date!\n",
      "Leyendo archivo de configuracion\n",
      "Inicia la transformacion de texto\n",
      "Creando diccionario de documentos unicos\n",
      "Realizando preprocesamiento\n",
      "Etapa de pre-procesmiento\n",
      "Extrayendo vectores de caracteristicas\n",
      "Etapa de extraccion de caracteristicas\n",
      "Extraccion de vectores lexicos\n",
      "Realizando vectorizacion\n",
      "Guardando resultadosto 79\n",
      "Extraccion de vectores sintacticos\n",
      "Realizando vectorizacion\n",
      "Guardando resultados\n",
      "Extraccion de vectores semanticos\n",
      "Realizando vectorizacion\n",
      "Guardando resultados\n",
      "Obteniendo espectros de contenido\n",
      "Etapa de unificacion del espacio\n",
      "/home/melesio/Documentos/SpectralTextRepresentation/minisom/minisom.py:167: UserWarning: Warning: sigma is too high for the dimension of the map.\n",
      "  warn('Warning: sigma is too high for the dimension of the map.')\n",
      "Leyendo vectores lexicos\n",
      "Obteninendo espectros\n",
      "Leyendo vectores sintacticos\n",
      "Obteninendo espectros\n",
      "Leyendo vectores semanticos\n",
      "Obteninendo espectros\n",
      "Consolidando capas\n",
      "Etapa de consolidacion de capas\n",
      "Información guardada\n",
      "Ensamble terminado\n",
      "Cargando modelo\n",
      "2022-05-24 11:54:19.105667: I tensorflow/stream_executor/cuda/cuda_gpu_executor.cc:936] successful NUMA node read from SysFS had negative value (-1), but there must be at least one NUMA node, so returning NUMA node zero\n",
      "2022-05-24 11:54:19.127700: I tensorflow/stream_executor/cuda/cuda_gpu_executor.cc:936] successful NUMA node read from SysFS had negative value (-1), but there must be at least one NUMA node, so returning NUMA node zero\n",
      "2022-05-24 11:54:19.127834: I tensorflow/stream_executor/cuda/cuda_gpu_executor.cc:936] successful NUMA node read from SysFS had negative value (-1), but there must be at least one NUMA node, so returning NUMA node zero\n",
      "2022-05-24 11:54:19.128106: I tensorflow/core/platform/cpu_feature_guard.cc:151] This TensorFlow binary is optimized with oneAPI Deep Neural Network Library (oneDNN) to use the following CPU instructions in performance-critical operations:  AVX2 FMA\n",
      "To enable them in other operations, rebuild TensorFlow with the appropriate compiler flags.\n",
      "2022-05-24 11:54:19.128782: I tensorflow/stream_executor/cuda/cuda_gpu_executor.cc:936] successful NUMA node read from SysFS had negative value (-1), but there must be at least one NUMA node, so returning NUMA node zero\n",
      "2022-05-24 11:54:19.128883: I tensorflow/stream_executor/cuda/cuda_gpu_executor.cc:936] successful NUMA node read from SysFS had negative value (-1), but there must be at least one NUMA node, so returning NUMA node zero\n",
      "2022-05-24 11:54:19.128971: I tensorflow/stream_executor/cuda/cuda_gpu_executor.cc:936] successful NUMA node read from SysFS had negative value (-1), but there must be at least one NUMA node, so returning NUMA node zero\n",
      "2022-05-24 11:54:19.471716: I tensorflow/stream_executor/cuda/cuda_gpu_executor.cc:936] successful NUMA node read from SysFS had negative value (-1), but there must be at least one NUMA node, so returning NUMA node zero\n",
      "2022-05-24 11:54:19.471863: I tensorflow/stream_executor/cuda/cuda_gpu_executor.cc:936] successful NUMA node read from SysFS had negative value (-1), but there must be at least one NUMA node, so returning NUMA node zero\n",
      "2022-05-24 11:54:19.471960: I tensorflow/stream_executor/cuda/cuda_gpu_executor.cc:936] successful NUMA node read from SysFS had negative value (-1), but there must be at least one NUMA node, so returning NUMA node zero\n",
      "2022-05-24 11:54:19.472038: I tensorflow/core/common_runtime/gpu/gpu_device.cc:1525] Created device /job:localhost/replica:0/task:0/device:GPU:0 with 7727 MB memory:  -> device: 0, name: NVIDIA GeForce RTX 3080, pci bus id: 0000:01:00.0, compute capability: 8.6\n",
      "Realizando predicciones\n",
      "2022-05-24 11:54:20.750287: I tensorflow/stream_executor/cuda/cuda_blas.cc:1786] TensorFloat-32 will be used for the matrix multiplication. This will only be logged once.\n"
     ]
    }
   ],
   "source": [
    "!python PredictionsTest.py -i testinput -o testoutput/v11"
   ]
  },
  {
   "cell_type": "code",
   "execution_count": 2,
   "metadata": {},
   "outputs": [
    {
     "name": "stdout",
     "output_type": "stream",
     "text": [
      "-> 1070 problems in ground truth\n",
      "-> 1070 solutions explicitly proposed\n",
      "{'auc': 0.543, 'c@1': 0.523, 'f_05_u': 0.526, 'F1': 0.531, 'brier': 0.73, 'overall': 0.571}\n"
     ]
    }
   ],
   "source": [
    "!python pan22_verif_evaluator.py -i testinput -a testoutput/v11 -o testoutput/v11"
   ]
  }
 ],
 "metadata": {
  "interpreter": {
   "hash": "34185cc76f1746f7da7738a8f19ab6509177ea129d1668aef168b7e0e18c804f"
  },
  "kernelspec": {
   "display_name": "Python 3.9.12 ('base')",
   "language": "python",
   "name": "python3"
  },
  "language_info": {
   "codemirror_mode": {
    "name": "ipython",
    "version": 3
   },
   "file_extension": ".py",
   "mimetype": "text/x-python",
   "name": "python",
   "nbconvert_exporter": "python",
   "pygments_lexer": "ipython3",
   "version": "3.9.12"
  },
  "orig_nbformat": 4
 },
 "nbformat": 4,
 "nbformat_minor": 2
}
