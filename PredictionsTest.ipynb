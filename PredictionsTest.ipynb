{
 "cells": [
  {
   "cell_type": "code",
   "execution_count": 1,
   "metadata": {},
   "outputs": [
    {
     "name": "stderr",
     "output_type": "stream",
     "text": [
      "[nltk_data] Downloading package punkt to\n",
      "[nltk_data]     C:\\Users\\Melesio\\AppData\\Roaming\\nltk_data...\n",
      "[nltk_data]   Package punkt is already up-to-date!\n",
      "[nltk_data] Downloading package stopwords to\n",
      "[nltk_data]     C:\\Users\\Melesio\\AppData\\Roaming\\nltk_data...\n",
      "[nltk_data]   Package stopwords is already up-to-date!\n",
      "[nltk_data] Downloading package wordnet to\n",
      "[nltk_data]     C:\\Users\\Melesio\\AppData\\Roaming\\nltk_data...\n",
      "[nltk_data]   Package wordnet is already up-to-date!\n",
      "[nltk_data] Downloading package omw-1.4 to\n",
      "[nltk_data]     C:\\Users\\Melesio\\AppData\\Roaming\\nltk_data...\n",
      "[nltk_data]   Package omw-1.4 is already up-to-date!\n",
      "[nltk_data] Downloading package averaged_perceptron_tagger to\n",
      "[nltk_data]     C:\\Users\\Melesio\\AppData\\Roaming\\nltk_data...\n",
      "[nltk_data]   Package averaged_perceptron_tagger is already up-to-\n",
      "[nltk_data]       date!\n"
     ]
    }
   ],
   "source": [
    "import argparse\n",
    "import DocDictionaryTest as dd\n",
    "import TextTransformTest as tt\n",
    "import json\n",
    "import pandas as pd\n",
    "import numpy as np\n",
    "from myGenerator import TestGenerator\n",
    "from keras.models import load_model"
   ]
  },
  {
   "cell_type": "code",
   "execution_count": 2,
   "metadata": {},
   "outputs": [],
   "source": [
    "\n",
    "def spectraLoader(inputPath: str) -> pd.DataFrame:\n",
    "    df = pd.DataFrame()\n",
    "    with open(inputPath, encoding='utf-8') as f:\n",
    "        for line in f:\n",
    "            jsonline = json.loads(line)\n",
    "            lineDf = pd.DataFrame({'id':jsonline['id'], 'spectra':[np.array(jsonline['spectra'])]})\n",
    "            df = pd.concat([df, lineDf])\n",
    "    df = df.reset_index(drop=True)\n",
    "\n",
    "    return df"
   ]
  },
  {
   "cell_type": "code",
   "execution_count": 4,
   "metadata": {},
   "outputs": [
    {
     "name": "stdout",
     "output_type": "stream",
     "text": [
      "Leyendo archivo de configuracion\n",
      "Inicia la transformacion de texto\n",
      "Creando diccionario de documentos unicos\n",
      "Realizando preprocesamiento\n",
      "Etapa de pre-procesmiento\n",
      "Extrayendo vectores de caracteristicas\n",
      "Etapa de extraccion de caracteristicas\n",
      "Extraccion de vectores lexicos\n",
      "Realizando vectorizacion\n",
      "Guardando resultadosto 79\n",
      "Extraccion de vectores sintacticos\n",
      "Realizando vectorizacion\n",
      "Guardando resultados\n",
      "Extraccion de vectores semanticos\n",
      "Realizando vectorizacion\n",
      "Guardando resultados\n",
      "Obteniendo espectros de contenido\n",
      "Etapa de unificacion del espacio\n"
     ]
    },
    {
     "name": "stderr",
     "output_type": "stream",
     "text": [
      "c:\\Users\\Melesio\\Documents\\SpectralTextRepresentation\\minisom\\minisom.py:167: UserWarning: Warning: sigma is too high for the dimension of the map.\n",
      "  warn('Warning: sigma is too high for the dimension of the map.')\n"
     ]
    },
    {
     "name": "stdout",
     "output_type": "stream",
     "text": [
      "Leyendo vectores lexicos\n",
      "Obteninendo espectros\n",
      "Leyendo vectores sintacticos\n",
      "Obteninendo espectros\n",
      "Leyendo vectores semanticos\n",
      "Obteninendo espectros\n",
      "Consolidando capas\n",
      "Etapa de consolidacion de capas\n",
      "Información guardada\n",
      "Ensamble terminado\n"
     ]
    }
   ],
   "source": [
    "print(\"Leyendo archivo de configuracion\")\n",
    "with open('config.json') as f:\n",
    "    cfg = json.loads(f.read())\n",
    "\n",
    "# parser = argparse.ArgumentParser(description='Siamese network AA@PAN')\n",
    "# parser.add_argument('-i', type=str,\n",
    "#     help='Path to the input directory')\n",
    "# parser.add_argument('-o', type=str,\n",
    "#     help='Path to the output directory')\n",
    "\n",
    "# args = parser.parse_args()\n",
    "# args.i = \"testinput\"\n",
    "# args.o = \"testoutput\"\n",
    "# if not args.i:\n",
    "#     raise ValueError('The input directory is required')\n",
    "# if not args.o:\n",
    "#     raise ValueError('The output directory is required')\n",
    "\n",
    "# Transformacion de texto\n",
    "\n",
    "print(\"Inicia la transformacion de texto\")\n",
    "print(\"Creando diccionario de documentos unicos\")\n",
    "# dd.createDocDictionary(args.i + '/pairs.jsonl', cfg['tmp'])\n",
    "dd.createDocDictionary('testinput/pairs.jsonl', cfg['tmp'])\n",
    "\n",
    "print(\"Realizando preprocesamiento\")\n",
    "tt.preProcessStage(cfg['tmp'] + '/PanUniqueDocs.jsonl', cfg['tmp'] + '/panPreprocessed.jsonl')\n",
    "\n",
    "print(\"Extrayendo vectores de caracteristicas\")\n",
    "tt.featureExtractionStage(cfg['tmp'] + '/panPreprocessed_lex.jsonl',\n",
    "                            cfg['tmp'] + '/LexicVectors.jsonl',\n",
    "                            cfg['LexicVectorizer'],\n",
    "                            cfg['tmp'] + '/panPreprocessed_syn.jsonl',\n",
    "                            cfg['tmp'] + '/SyntacticVectors.jsonl',\n",
    "                            cfg['SyntacticVectorizer'],\n",
    "                            cfg['tmp'] + '/panPreprocessed_sem.jsonl',\n",
    "                            cfg['tmp'] + '/SemanticVectors.jsonl',\n",
    "                            cfg['SemanticVectorizer'])\n",
    "\n",
    "print(\"Obteniendo espectros de contenido\")\n",
    "tt.spaceMappingStage(cfg['tmp'] + '/LexicVectors.jsonl',\n",
    "                        cfg['tmp'] + '/LexicSpectra.jsonl',\n",
    "                        cfg['LexicProjector'],\n",
    "                        cfg['tmp'] + '/SyntacticVectors.jsonl',\n",
    "                        cfg['tmp'] + '/SyntacticSpectra.jsonl',\n",
    "                        cfg['SyntacticProjector'],\n",
    "                        cfg['tmp'] + '/SemanticVectors.jsonl',\n",
    "                        cfg['tmp'] + '/SemanticSpectra.jsonl',\n",
    "                        cfg['SemanticProjector'])\n",
    "\n",
    "print(\"Consolidando capas\")\n",
    "tt.layerConsolidation(cfg['tmp'] + '/LexicSpectra.jsonl',\n",
    "                        cfg['tmp'] + '/SyntacticSpectra.jsonl',\n",
    "                        cfg['tmp'] + '/SemanticSpectra.jsonl',\n",
    "                        cfg['tmp'] + '/FullSpectra.jsonl')"
   ]
  },
  {
   "cell_type": "code",
   "execution_count": 5,
   "metadata": {},
   "outputs": [
    {
     "name": "stdout",
     "output_type": "stream",
     "text": [
      "Realizando predicciones\n"
     ]
    }
   ],
   "source": [
    "# Clasificacion\n",
    "print(\"Realizando predicciones\")\n",
    "\n",
    "params = {'dim': (1200,),\n",
    "        'batch_size': 32}\n",
    "\n",
    "test = pd.read_pickle(\"tmp/PanTest.plk\")\n",
    "full_spectra = spectraLoader(cfg['tmp'] + '/FullSpectra.jsonl')\n",
    "list_IDs = test.id.unique().tolist()"
   ]
  },
  {
   "cell_type": "code",
   "execution_count": 7,
   "metadata": {},
   "outputs": [
    {
     "ename": "KeyboardInterrupt",
     "evalue": "",
     "output_type": "error",
     "traceback": [
      "\u001b[1;31m---------------------------------------------------------------------------\u001b[0m",
      "\u001b[1;31mKeyboardInterrupt\u001b[0m                         Traceback (most recent call last)",
      "\u001b[1;32mc:\\Users\\Melesio\\Documents\\SpectralTextRepresentation\\PredictionsTest.ipynb Cell 5'\u001b[0m in \u001b[0;36m<cell line: 2>\u001b[1;34m()\u001b[0m\n\u001b[0;32m      <a href='vscode-notebook-cell:/c%3A/Users/Melesio/Documents/SpectralTextRepresentation/PredictionsTest.ipynb#ch0000004?line=0'>1</a>\u001b[0m x \u001b[39m=\u001b[39m TestGenerator(list_IDs, test, full_spectra)\n\u001b[1;32m----> <a href='vscode-notebook-cell:/c%3A/Users/Melesio/Documents/SpectralTextRepresentation/PredictionsTest.ipynb#ch0000004?line=1'>2</a>\u001b[0m model \u001b[39m=\u001b[39m load_model(cfg[\u001b[39m'\u001b[39;49m\u001b[39mClassifier\u001b[39;49m\u001b[39m'\u001b[39;49m])\n",
      "File \u001b[1;32mc:\\Users\\Melesio\\miniconda3\\lib\\site-packages\\keras\\utils\\traceback_utils.py:64\u001b[0m, in \u001b[0;36mfilter_traceback.<locals>.error_handler\u001b[1;34m(*args, **kwargs)\u001b[0m\n\u001b[0;32m     <a href='file:///c%3A/Users/Melesio/miniconda3/lib/site-packages/keras/utils/traceback_utils.py?line=61'>62</a>\u001b[0m filtered_tb \u001b[39m=\u001b[39m \u001b[39mNone\u001b[39;00m\n\u001b[0;32m     <a href='file:///c%3A/Users/Melesio/miniconda3/lib/site-packages/keras/utils/traceback_utils.py?line=62'>63</a>\u001b[0m \u001b[39mtry\u001b[39;00m:\n\u001b[1;32m---> <a href='file:///c%3A/Users/Melesio/miniconda3/lib/site-packages/keras/utils/traceback_utils.py?line=63'>64</a>\u001b[0m   \u001b[39mreturn\u001b[39;00m fn(\u001b[39m*\u001b[39margs, \u001b[39m*\u001b[39m\u001b[39m*\u001b[39mkwargs)\n\u001b[0;32m     <a href='file:///c%3A/Users/Melesio/miniconda3/lib/site-packages/keras/utils/traceback_utils.py?line=64'>65</a>\u001b[0m \u001b[39mexcept\u001b[39;00m \u001b[39mException\u001b[39;00m \u001b[39mas\u001b[39;00m e:  \u001b[39m# pylint: disable=broad-except\u001b[39;00m\n\u001b[0;32m     <a href='file:///c%3A/Users/Melesio/miniconda3/lib/site-packages/keras/utils/traceback_utils.py?line=65'>66</a>\u001b[0m   filtered_tb \u001b[39m=\u001b[39m _process_traceback_frames(e\u001b[39m.\u001b[39m__traceback__)\n",
      "File \u001b[1;32mc:\\Users\\Melesio\\miniconda3\\lib\\site-packages\\keras\\saving\\save.py:213\u001b[0m, in \u001b[0;36mload_model\u001b[1;34m(filepath, custom_objects, compile, options)\u001b[0m\n\u001b[0;32m    <a href='file:///c%3A/Users/Melesio/miniconda3/lib/site-packages/keras/saving/save.py?line=208'>209</a>\u001b[0m     \u001b[39mif\u001b[39;00m h5py \u001b[39mis\u001b[39;00m \u001b[39mNone\u001b[39;00m:\n\u001b[0;32m    <a href='file:///c%3A/Users/Melesio/miniconda3/lib/site-packages/keras/saving/save.py?line=209'>210</a>\u001b[0m       \u001b[39mraise\u001b[39;00m \u001b[39mImportError\u001b[39;00m(\n\u001b[0;32m    <a href='file:///c%3A/Users/Melesio/miniconda3/lib/site-packages/keras/saving/save.py?line=210'>211</a>\u001b[0m           \u001b[39m'\u001b[39m\u001b[39mFilepath looks like a hdf5 file but h5py is not available.\u001b[39m\u001b[39m'\u001b[39m\n\u001b[0;32m    <a href='file:///c%3A/Users/Melesio/miniconda3/lib/site-packages/keras/saving/save.py?line=211'>212</a>\u001b[0m           \u001b[39mf\u001b[39m\u001b[39m'\u001b[39m\u001b[39m filepath=\u001b[39m\u001b[39m{\u001b[39;00mfilepath_str\u001b[39m}\u001b[39;00m\u001b[39m'\u001b[39m)\n\u001b[1;32m--> <a href='file:///c%3A/Users/Melesio/miniconda3/lib/site-packages/keras/saving/save.py?line=212'>213</a>\u001b[0m     \u001b[39mreturn\u001b[39;00m hdf5_format\u001b[39m.\u001b[39;49mload_model_from_hdf5(\n\u001b[0;32m    <a href='file:///c%3A/Users/Melesio/miniconda3/lib/site-packages/keras/saving/save.py?line=213'>214</a>\u001b[0m         tf\u001b[39m.\u001b[39;49mio\u001b[39m.\u001b[39;49mgfile\u001b[39m.\u001b[39;49mGFile(filepath_str, mode\u001b[39m=\u001b[39;49m\u001b[39m'\u001b[39;49m\u001b[39mrb\u001b[39;49m\u001b[39m'\u001b[39;49m), custom_objects,\n\u001b[0;32m    <a href='file:///c%3A/Users/Melesio/miniconda3/lib/site-packages/keras/saving/save.py?line=214'>215</a>\u001b[0m         \u001b[39mcompile\u001b[39;49m)\n\u001b[0;32m    <a href='file:///c%3A/Users/Melesio/miniconda3/lib/site-packages/keras/saving/save.py?line=215'>216</a>\u001b[0m \u001b[39melif\u001b[39;00m h5py \u001b[39mis\u001b[39;00m \u001b[39mnot\u001b[39;00m \u001b[39mNone\u001b[39;00m \u001b[39mand\u001b[39;00m \u001b[39misinstance\u001b[39m(filepath, h5py\u001b[39m.\u001b[39mFile):\n\u001b[0;32m    <a href='file:///c%3A/Users/Melesio/miniconda3/lib/site-packages/keras/saving/save.py?line=216'>217</a>\u001b[0m   \u001b[39mreturn\u001b[39;00m hdf5_format\u001b[39m.\u001b[39mload_model_from_hdf5(filepath, custom_objects,\n\u001b[0;32m    <a href='file:///c%3A/Users/Melesio/miniconda3/lib/site-packages/keras/saving/save.py?line=217'>218</a>\u001b[0m                                           \u001b[39mcompile\u001b[39m)\n",
      "File \u001b[1;32mc:\\Users\\Melesio\\miniconda3\\lib\\site-packages\\keras\\saving\\hdf5_format.py:186\u001b[0m, in \u001b[0;36mload_model_from_hdf5\u001b[1;34m(filepath, custom_objects, compile)\u001b[0m\n\u001b[0;32m    <a href='file:///c%3A/Users/Melesio/miniconda3/lib/site-packages/keras/saving/hdf5_format.py?line=183'>184</a>\u001b[0m   model_config \u001b[39m=\u001b[39m model_config\u001b[39m.\u001b[39mdecode(\u001b[39m'\u001b[39m\u001b[39mutf-8\u001b[39m\u001b[39m'\u001b[39m)\n\u001b[0;32m    <a href='file:///c%3A/Users/Melesio/miniconda3/lib/site-packages/keras/saving/hdf5_format.py?line=184'>185</a>\u001b[0m model_config \u001b[39m=\u001b[39m json_utils\u001b[39m.\u001b[39mdecode(model_config)\n\u001b[1;32m--> <a href='file:///c%3A/Users/Melesio/miniconda3/lib/site-packages/keras/saving/hdf5_format.py?line=185'>186</a>\u001b[0m model \u001b[39m=\u001b[39m model_config_lib\u001b[39m.\u001b[39;49mmodel_from_config(model_config,\n\u001b[0;32m    <a href='file:///c%3A/Users/Melesio/miniconda3/lib/site-packages/keras/saving/hdf5_format.py?line=186'>187</a>\u001b[0m                                            custom_objects\u001b[39m=\u001b[39;49mcustom_objects)\n\u001b[0;32m    <a href='file:///c%3A/Users/Melesio/miniconda3/lib/site-packages/keras/saving/hdf5_format.py?line=188'>189</a>\u001b[0m \u001b[39m# set weights\u001b[39;00m\n\u001b[0;32m    <a href='file:///c%3A/Users/Melesio/miniconda3/lib/site-packages/keras/saving/hdf5_format.py?line=189'>190</a>\u001b[0m load_weights_from_hdf5_group(f[\u001b[39m'\u001b[39m\u001b[39mmodel_weights\u001b[39m\u001b[39m'\u001b[39m], model)\n",
      "File \u001b[1;32mc:\\Users\\Melesio\\miniconda3\\lib\\site-packages\\keras\\saving\\model_config.py:52\u001b[0m, in \u001b[0;36mmodel_from_config\u001b[1;34m(config, custom_objects)\u001b[0m\n\u001b[0;32m     <a href='file:///c%3A/Users/Melesio/miniconda3/lib/site-packages/keras/saving/model_config.py?line=47'>48</a>\u001b[0m   \u001b[39mraise\u001b[39;00m \u001b[39mTypeError\u001b[39;00m(\u001b[39m'\u001b[39m\u001b[39m`model_from_config` expects a dictionary, not a list. \u001b[39m\u001b[39m'\u001b[39m\n\u001b[0;32m     <a href='file:///c%3A/Users/Melesio/miniconda3/lib/site-packages/keras/saving/model_config.py?line=48'>49</a>\u001b[0m                   \u001b[39mf\u001b[39m\u001b[39m'\u001b[39m\u001b[39mReceived: config=\u001b[39m\u001b[39m{\u001b[39;00mconfig\u001b[39m}\u001b[39;00m\u001b[39m. Did you meant to use \u001b[39m\u001b[39m'\u001b[39m\n\u001b[0;32m     <a href='file:///c%3A/Users/Melesio/miniconda3/lib/site-packages/keras/saving/model_config.py?line=49'>50</a>\u001b[0m                   \u001b[39m'\u001b[39m\u001b[39m`Sequential.from_config(config)`?\u001b[39m\u001b[39m'\u001b[39m)\n\u001b[0;32m     <a href='file:///c%3A/Users/Melesio/miniconda3/lib/site-packages/keras/saving/model_config.py?line=50'>51</a>\u001b[0m \u001b[39mfrom\u001b[39;00m \u001b[39mkeras\u001b[39;00m\u001b[39m.\u001b[39;00m\u001b[39mlayers\u001b[39;00m \u001b[39mimport\u001b[39;00m deserialize  \u001b[39m# pylint: disable=g-import-not-at-top\u001b[39;00m\n\u001b[1;32m---> <a href='file:///c%3A/Users/Melesio/miniconda3/lib/site-packages/keras/saving/model_config.py?line=51'>52</a>\u001b[0m \u001b[39mreturn\u001b[39;00m deserialize(config, custom_objects\u001b[39m=\u001b[39;49mcustom_objects)\n",
      "File \u001b[1;32mc:\\Users\\Melesio\\miniconda3\\lib\\site-packages\\keras\\layers\\serialization.py:207\u001b[0m, in \u001b[0;36mdeserialize\u001b[1;34m(config, custom_objects)\u001b[0m\n\u001b[0;32m    <a href='file:///c%3A/Users/Melesio/miniconda3/lib/site-packages/keras/layers/serialization.py?line=169'>170</a>\u001b[0m \u001b[39m\"\"\"Instantiates a layer from a config dictionary.\u001b[39;00m\n\u001b[0;32m    <a href='file:///c%3A/Users/Melesio/miniconda3/lib/site-packages/keras/layers/serialization.py?line=170'>171</a>\u001b[0m \n\u001b[0;32m    <a href='file:///c%3A/Users/Melesio/miniconda3/lib/site-packages/keras/layers/serialization.py?line=171'>172</a>\u001b[0m \u001b[39mArgs:\u001b[39;00m\n\u001b[1;32m   (...)\u001b[0m\n\u001b[0;32m    <a href='file:///c%3A/Users/Melesio/miniconda3/lib/site-packages/keras/layers/serialization.py?line=203'>204</a>\u001b[0m \u001b[39m```\u001b[39;00m\n\u001b[0;32m    <a href='file:///c%3A/Users/Melesio/miniconda3/lib/site-packages/keras/layers/serialization.py?line=204'>205</a>\u001b[0m \u001b[39m\"\"\"\u001b[39;00m\n\u001b[0;32m    <a href='file:///c%3A/Users/Melesio/miniconda3/lib/site-packages/keras/layers/serialization.py?line=205'>206</a>\u001b[0m populate_deserializable_objects()\n\u001b[1;32m--> <a href='file:///c%3A/Users/Melesio/miniconda3/lib/site-packages/keras/layers/serialization.py?line=206'>207</a>\u001b[0m \u001b[39mreturn\u001b[39;00m generic_utils\u001b[39m.\u001b[39;49mdeserialize_keras_object(\n\u001b[0;32m    <a href='file:///c%3A/Users/Melesio/miniconda3/lib/site-packages/keras/layers/serialization.py?line=207'>208</a>\u001b[0m     config,\n\u001b[0;32m    <a href='file:///c%3A/Users/Melesio/miniconda3/lib/site-packages/keras/layers/serialization.py?line=208'>209</a>\u001b[0m     module_objects\u001b[39m=\u001b[39;49mLOCAL\u001b[39m.\u001b[39;49mALL_OBJECTS,\n\u001b[0;32m    <a href='file:///c%3A/Users/Melesio/miniconda3/lib/site-packages/keras/layers/serialization.py?line=209'>210</a>\u001b[0m     custom_objects\u001b[39m=\u001b[39;49mcustom_objects,\n\u001b[0;32m    <a href='file:///c%3A/Users/Melesio/miniconda3/lib/site-packages/keras/layers/serialization.py?line=210'>211</a>\u001b[0m     printable_module_name\u001b[39m=\u001b[39;49m\u001b[39m'\u001b[39;49m\u001b[39mlayer\u001b[39;49m\u001b[39m'\u001b[39;49m)\n",
      "File \u001b[1;32mc:\\Users\\Melesio\\miniconda3\\lib\\site-packages\\keras\\utils\\generic_utils.py:679\u001b[0m, in \u001b[0;36mdeserialize_keras_object\u001b[1;34m(identifier, module_objects, custom_objects, printable_module_name)\u001b[0m\n\u001b[0;32m    <a href='file:///c%3A/Users/Melesio/miniconda3/lib/site-packages/keras/utils/generic_utils.py?line=675'>676</a>\u001b[0m custom_objects \u001b[39m=\u001b[39m custom_objects \u001b[39mor\u001b[39;00m {}\n\u001b[0;32m    <a href='file:///c%3A/Users/Melesio/miniconda3/lib/site-packages/keras/utils/generic_utils.py?line=677'>678</a>\u001b[0m \u001b[39mif\u001b[39;00m \u001b[39m'\u001b[39m\u001b[39mcustom_objects\u001b[39m\u001b[39m'\u001b[39m \u001b[39min\u001b[39;00m arg_spec\u001b[39m.\u001b[39margs:\n\u001b[1;32m--> <a href='file:///c%3A/Users/Melesio/miniconda3/lib/site-packages/keras/utils/generic_utils.py?line=678'>679</a>\u001b[0m   deserialized_obj \u001b[39m=\u001b[39m \u001b[39mcls\u001b[39;49m\u001b[39m.\u001b[39;49mfrom_config(\n\u001b[0;32m    <a href='file:///c%3A/Users/Melesio/miniconda3/lib/site-packages/keras/utils/generic_utils.py?line=679'>680</a>\u001b[0m       cls_config,\n\u001b[0;32m    <a href='file:///c%3A/Users/Melesio/miniconda3/lib/site-packages/keras/utils/generic_utils.py?line=680'>681</a>\u001b[0m       custom_objects\u001b[39m=\u001b[39;49m\u001b[39mdict\u001b[39;49m(\n\u001b[0;32m    <a href='file:///c%3A/Users/Melesio/miniconda3/lib/site-packages/keras/utils/generic_utils.py?line=681'>682</a>\u001b[0m           \u001b[39mlist\u001b[39;49m(_GLOBAL_CUSTOM_OBJECTS\u001b[39m.\u001b[39;49mitems()) \u001b[39m+\u001b[39;49m\n\u001b[0;32m    <a href='file:///c%3A/Users/Melesio/miniconda3/lib/site-packages/keras/utils/generic_utils.py?line=682'>683</a>\u001b[0m           \u001b[39mlist\u001b[39;49m(custom_objects\u001b[39m.\u001b[39;49mitems())))\n\u001b[0;32m    <a href='file:///c%3A/Users/Melesio/miniconda3/lib/site-packages/keras/utils/generic_utils.py?line=683'>684</a>\u001b[0m \u001b[39melse\u001b[39;00m:\n\u001b[0;32m    <a href='file:///c%3A/Users/Melesio/miniconda3/lib/site-packages/keras/utils/generic_utils.py?line=684'>685</a>\u001b[0m   \u001b[39mwith\u001b[39;00m CustomObjectScope(custom_objects):\n",
      "File \u001b[1;32mc:\\Users\\Melesio\\miniconda3\\lib\\site-packages\\keras\\engine\\functional.py:708\u001b[0m, in \u001b[0;36mFunctional.from_config\u001b[1;34m(cls, config, custom_objects)\u001b[0m\n\u001b[0;32m    <a href='file:///c%3A/Users/Melesio/miniconda3/lib/site-packages/keras/engine/functional.py?line=704'>705</a>\u001b[0m \u001b[39mwith\u001b[39;00m generic_utils\u001b[39m.\u001b[39mSharedObjectLoadingScope():\n\u001b[0;32m    <a href='file:///c%3A/Users/Melesio/miniconda3/lib/site-packages/keras/engine/functional.py?line=705'>706</a>\u001b[0m   \u001b[39mif\u001b[39;00m \u001b[39mall\u001b[39m(key \u001b[39min\u001b[39;00m config \u001b[39mfor\u001b[39;00m key \u001b[39min\u001b[39;00m [\n\u001b[0;32m    <a href='file:///c%3A/Users/Melesio/miniconda3/lib/site-packages/keras/engine/functional.py?line=706'>707</a>\u001b[0m       \u001b[39m'\u001b[39m\u001b[39mname\u001b[39m\u001b[39m'\u001b[39m, \u001b[39m'\u001b[39m\u001b[39mlayers\u001b[39m\u001b[39m'\u001b[39m, \u001b[39m'\u001b[39m\u001b[39minput_layers\u001b[39m\u001b[39m'\u001b[39m, \u001b[39m'\u001b[39m\u001b[39moutput_layers\u001b[39m\u001b[39m'\u001b[39m]):\n\u001b[1;32m--> <a href='file:///c%3A/Users/Melesio/miniconda3/lib/site-packages/keras/engine/functional.py?line=707'>708</a>\u001b[0m     input_tensors, output_tensors, created_layers \u001b[39m=\u001b[39m reconstruct_from_config(\n\u001b[0;32m    <a href='file:///c%3A/Users/Melesio/miniconda3/lib/site-packages/keras/engine/functional.py?line=708'>709</a>\u001b[0m         config, custom_objects)\n\u001b[0;32m    <a href='file:///c%3A/Users/Melesio/miniconda3/lib/site-packages/keras/engine/functional.py?line=709'>710</a>\u001b[0m     model \u001b[39m=\u001b[39m \u001b[39mcls\u001b[39m(\n\u001b[0;32m    <a href='file:///c%3A/Users/Melesio/miniconda3/lib/site-packages/keras/engine/functional.py?line=710'>711</a>\u001b[0m         inputs\u001b[39m=\u001b[39minput_tensors,\n\u001b[0;32m    <a href='file:///c%3A/Users/Melesio/miniconda3/lib/site-packages/keras/engine/functional.py?line=711'>712</a>\u001b[0m         outputs\u001b[39m=\u001b[39moutput_tensors,\n\u001b[0;32m    <a href='file:///c%3A/Users/Melesio/miniconda3/lib/site-packages/keras/engine/functional.py?line=712'>713</a>\u001b[0m         name\u001b[39m=\u001b[39mconfig\u001b[39m.\u001b[39mget(\u001b[39m'\u001b[39m\u001b[39mname\u001b[39m\u001b[39m'\u001b[39m))\n\u001b[0;32m    <a href='file:///c%3A/Users/Melesio/miniconda3/lib/site-packages/keras/engine/functional.py?line=713'>714</a>\u001b[0m     connect_ancillary_layers(model, created_layers)\n",
      "File \u001b[1;32mc:\\Users\\Melesio\\miniconda3\\lib\\site-packages\\keras\\engine\\functional.py:1343\u001b[0m, in \u001b[0;36mreconstruct_from_config\u001b[1;34m(config, custom_objects, created_layers)\u001b[0m\n\u001b[0;32m   <a href='file:///c%3A/Users/Melesio/miniconda3/lib/site-packages/keras/engine/functional.py?line=1338'>1339</a>\u001b[0m           layer_nodes\u001b[39m.\u001b[39mpop(\u001b[39m0\u001b[39m)\n\u001b[0;32m   <a href='file:///c%3A/Users/Melesio/miniconda3/lib/site-packages/keras/engine/functional.py?line=1339'>1340</a>\u001b[0m         \u001b[39melse\u001b[39;00m:\n\u001b[0;32m   <a href='file:///c%3A/Users/Melesio/miniconda3/lib/site-packages/keras/engine/functional.py?line=1340'>1341</a>\u001b[0m           \u001b[39m# If a node can't be processed, stop processing the nodes of\u001b[39;00m\n\u001b[0;32m   <a href='file:///c%3A/Users/Melesio/miniconda3/lib/site-packages/keras/engine/functional.py?line=1341'>1342</a>\u001b[0m           \u001b[39m# the current layer to maintain node ordering.\u001b[39;00m\n\u001b[1;32m-> <a href='file:///c%3A/Users/Melesio/miniconda3/lib/site-packages/keras/engine/functional.py?line=1342'>1343</a>\u001b[0m           unprocessed_nodes[layer] \u001b[39m=\u001b[39m layer_nodes\n\u001b[0;32m   <a href='file:///c%3A/Users/Melesio/miniconda3/lib/site-packages/keras/engine/functional.py?line=1343'>1344</a>\u001b[0m           \u001b[39mbreak\u001b[39;00m\n\u001b[0;32m   <a href='file:///c%3A/Users/Melesio/miniconda3/lib/site-packages/keras/engine/functional.py?line=1345'>1346</a>\u001b[0m input_tensors \u001b[39m=\u001b[39m []\n",
      "\u001b[1;31mKeyboardInterrupt\u001b[0m: "
     ]
    }
   ],
   "source": [
    "x = TestGenerator(list_IDs, test, full_spectra)\n",
    "model = load_model(cfg['Classifier'])"
   ]
  },
  {
   "cell_type": "code",
   "execution_count": null,
   "metadata": {},
   "outputs": [],
   "source": [
    "predictions = model.predict(x)"
   ]
  },
  {
   "cell_type": "code",
   "execution_count": null,
   "metadata": {},
   "outputs": [],
   "source": [
    "with open(\"testoutput/answers.jsonl\", \"w\", encoding=\"utf8\") as f:\n",
    "    for id, prediction in zip(list_IDs, predictions):\n",
    "        answer = {\"id\": id, \"value\":prediction}\n",
    "        f.write(json.dumps(answer) + \"\\n\")"
   ]
  }
 ],
 "metadata": {
  "interpreter": {
   "hash": "c249841fb0c9bf987b4c94f665c65fa3df82b59b17309ea651fa23fd035aae4c"
  },
  "kernelspec": {
   "display_name": "Python 3.9.7 ('base')",
   "language": "python",
   "name": "python3"
  },
  "language_info": {
   "codemirror_mode": {
    "name": "ipython",
    "version": 3
   },
   "file_extension": ".py",
   "mimetype": "text/x-python",
   "name": "python",
   "nbconvert_exporter": "python",
   "pygments_lexer": "ipython3",
   "version": "3.9.7"
  },
  "orig_nbformat": 4
 },
 "nbformat": 4,
 "nbformat_minor": 2
}
