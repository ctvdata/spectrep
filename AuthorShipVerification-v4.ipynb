{
 "cells": [
  {
   "cell_type": "code",
   "execution_count": 1,
   "metadata": {},
   "outputs": [],
   "source": [
    "import numpy as np\n",
    "import pandas as pd\n",
    "import tensorflow as tf\n",
    "import json\n",
    "from myGenerator import DataGenerator"
   ]
  },
  {
   "cell_type": "markdown",
   "metadata": {},
   "source": [
    "### Carga de datos"
   ]
  },
  {
   "cell_type": "code",
   "execution_count": 2,
   "metadata": {},
   "outputs": [],
   "source": [
    "train = pd.read_pickle(\"pan22-authorship-verification-training-dataset/particionesXid/PanTrain.plk\")\n",
    "val = pd.read_pickle(\"pan22-authorship-verification-training-dataset/particionesXid/PanVal.plk\")"
   ]
  },
  {
   "cell_type": "code",
   "execution_count": 3,
   "metadata": {},
   "outputs": [],
   "source": [
    "def spectraLoader(inputPath: str) -> pd.DataFrame:\n",
    "    df = pd.DataFrame()\n",
    "    with open(inputPath, encoding='utf-8') as f:\n",
    "        for line in f:\n",
    "            jsonline = json.loads(line)\n",
    "            lineDf = pd.DataFrame({'id':jsonline['id'], 'spectra':[np.array(jsonline['spectra'])]})\n",
    "            df = pd.concat([df, lineDf])\n",
    "    df = df.reset_index(drop=True)\n",
    "\n",
    "    return df"
   ]
  },
  {
   "cell_type": "code",
   "execution_count": 4,
   "metadata": {},
   "outputs": [],
   "source": [
    "full_spectra = spectraLoader(\"pan22-authorship-verification-training-dataset/particionesXid/FullSpectra.jsonl\")"
   ]
  },
  {
   "cell_type": "code",
   "execution_count": 5,
   "metadata": {},
   "outputs": [],
   "source": [
    "def loadLabels(inputPath:str, labelDict:dict) -> dict:\n",
    "    with open(inputPath, encoding='utf-8') as f:\n",
    "        for line in f:\n",
    "            jsonline = json.loads(line)\n",
    "            labelDict[jsonline['id']] = 1 if jsonline['value'] else 0\n",
    "        \n",
    "    return labelDict"
   ]
  },
  {
   "cell_type": "code",
   "execution_count": 6,
   "metadata": {},
   "outputs": [],
   "source": [
    "labels = dict()\n",
    "labels = loadLabels('pan22-authorship-verification-training-dataset/particiones/train_truth.jsonl',labels)\n",
    "labels = loadLabels('pan22-authorship-verification-training-dataset/particiones/val_truth.jsonl',labels)"
   ]
  },
  {
   "cell_type": "code",
   "execution_count": 7,
   "metadata": {},
   "outputs": [
    {
     "name": "stdout",
     "output_type": "stream",
     "text": [
      "Instances: 16486.0\n",
      "Labels:  16486\n"
     ]
    }
   ],
   "source": [
    "print(\"Instances: {}\".format((train.shape[0] + val.shape[0])/2))\n",
    "print(\"Labels: \",len(labels))"
   ]
  },
  {
   "cell_type": "code",
   "execution_count": 8,
   "metadata": {},
   "outputs": [],
   "source": [
    "partition = {'train': train.id.unique().tolist(), 'validation': val.id.unique().tolist()}"
   ]
  },
  {
   "cell_type": "code",
   "execution_count": 9,
   "metadata": {},
   "outputs": [
    {
     "name": "stdout",
     "output_type": "stream",
     "text": [
      "Train:  15732\n",
      "Validation:  754\n",
      "Total:  16486\n"
     ]
    }
   ],
   "source": [
    "print(\"Train: \", len(partition['train']))\n",
    "print(\"Validation: \", len(partition['validation']))\n",
    "print(\"Total: \", len(partition['train'])+len(partition['validation']))"
   ]
  },
  {
   "cell_type": "markdown",
   "metadata": {},
   "source": [
    "### Definición de la arquitectura del modelo"
   ]
  },
  {
   "cell_type": "code",
   "execution_count": 10,
   "metadata": {},
   "outputs": [],
   "source": [
    "# Modelo de red siamesa utilizando una red residual y un perceptron multicapa SIN CAPAS CUSTOM\n",
    "\n",
    "def setModel():\n",
    "    x1 = tf.keras.Input(shape=(1200,), name=\"input_1\")\n",
    "    x2 = tf.keras.Input(shape=(1200,), name=\"input_2\")\n",
    "\n",
    "    merge = x1-x2\n",
    "\n",
    "    # MLPNN Classifier\n",
    "    hidden1 = tf.keras.layers.Dense(1800, activation='relu',kernel_regularizer='l2' , name=\"HiddenLayer1\")(merge)\n",
    "    dropout_layer1 = tf.keras.layers.Dropout(0.4, name=\"Dropout1\")(hidden1)\n",
    "    hidden2 = tf.keras.layers.Dense(600, activation='relu',kernel_regularizer='l2' , name=\"HiddenLayer2\")(dropout_layer1)\n",
    "    dropout_layer2 = tf.keras.layers.Dropout(0.4, name=\"Dropout2\")(hidden2)\n",
    "    output = tf.keras.layers.Dense(1, activation=\"sigmoid\", name=\"output_layer\")(dropout_layer2)\n",
    "\n",
    "    model = tf.keras.Model([x1, x2], output)\n",
    "    model.compile(loss = 'binary_crossentropy', optimizer = \"adam\", metrics=[\"binary_accuracy\"])\n",
    "\n",
    "    return model"
   ]
  },
  {
   "cell_type": "code",
   "execution_count": 11,
   "metadata": {},
   "outputs": [
    {
     "name": "stdout",
     "output_type": "stream",
     "text": [
      "Model: \"model\"\n",
      "__________________________________________________________________________________________________\n",
      " Layer (type)                   Output Shape         Param #     Connected to                     \n",
      "==================================================================================================\n",
      " input_1 (InputLayer)           [(None, 1200)]       0           []                               \n",
      "                                                                                                  \n",
      " input_2 (InputLayer)           [(None, 1200)]       0           []                               \n",
      "                                                                                                  \n",
      " tf.math.subtract (TFOpLambda)  (None, 1200)         0           ['input_1[0][0]',                \n",
      "                                                                  'input_2[0][0]']                \n",
      "                                                                                                  \n",
      " HiddenLayer1 (Dense)           (None, 1800)         2161800     ['tf.math.subtract[0][0]']       \n",
      "                                                                                                  \n",
      " Dropout1 (Dropout)             (None, 1800)         0           ['HiddenLayer1[0][0]']           \n",
      "                                                                                                  \n",
      " HiddenLayer2 (Dense)           (None, 600)          1080600     ['Dropout1[0][0]']               \n",
      "                                                                                                  \n",
      " Dropout2 (Dropout)             (None, 600)          0           ['HiddenLayer2[0][0]']           \n",
      "                                                                                                  \n",
      " output_layer (Dense)           (None, 1)            601         ['Dropout2[0][0]']               \n",
      "                                                                                                  \n",
      "==================================================================================================\n",
      "Total params: 3,243,001\n",
      "Trainable params: 3,243,001\n",
      "Non-trainable params: 0\n",
      "__________________________________________________________________________________________________\n"
     ]
    },
    {
     "name": "stderr",
     "output_type": "stream",
     "text": [
      "2022-05-19 17:30:47.092530: I tensorflow/stream_executor/cuda/cuda_gpu_executor.cc:936] successful NUMA node read from SysFS had negative value (-1), but there must be at least one NUMA node, so returning NUMA node zero\n",
      "2022-05-19 17:30:47.113979: I tensorflow/stream_executor/cuda/cuda_gpu_executor.cc:936] successful NUMA node read from SysFS had negative value (-1), but there must be at least one NUMA node, so returning NUMA node zero\n",
      "2022-05-19 17:30:47.114093: I tensorflow/stream_executor/cuda/cuda_gpu_executor.cc:936] successful NUMA node read from SysFS had negative value (-1), but there must be at least one NUMA node, so returning NUMA node zero\n",
      "2022-05-19 17:30:47.114539: I tensorflow/core/platform/cpu_feature_guard.cc:151] This TensorFlow binary is optimized with oneAPI Deep Neural Network Library (oneDNN) to use the following CPU instructions in performance-critical operations:  AVX2 FMA\n",
      "To enable them in other operations, rebuild TensorFlow with the appropriate compiler flags.\n",
      "2022-05-19 17:30:47.115334: I tensorflow/stream_executor/cuda/cuda_gpu_executor.cc:936] successful NUMA node read from SysFS had negative value (-1), but there must be at least one NUMA node, so returning NUMA node zero\n",
      "2022-05-19 17:30:47.115438: I tensorflow/stream_executor/cuda/cuda_gpu_executor.cc:936] successful NUMA node read from SysFS had negative value (-1), but there must be at least one NUMA node, so returning NUMA node zero\n",
      "2022-05-19 17:30:47.115518: I tensorflow/stream_executor/cuda/cuda_gpu_executor.cc:936] successful NUMA node read from SysFS had negative value (-1), but there must be at least one NUMA node, so returning NUMA node zero\n",
      "2022-05-19 17:30:47.432101: I tensorflow/stream_executor/cuda/cuda_gpu_executor.cc:936] successful NUMA node read from SysFS had negative value (-1), but there must be at least one NUMA node, so returning NUMA node zero\n",
      "2022-05-19 17:30:47.432218: I tensorflow/stream_executor/cuda/cuda_gpu_executor.cc:936] successful NUMA node read from SysFS had negative value (-1), but there must be at least one NUMA node, so returning NUMA node zero\n",
      "2022-05-19 17:30:47.432302: I tensorflow/stream_executor/cuda/cuda_gpu_executor.cc:936] successful NUMA node read from SysFS had negative value (-1), but there must be at least one NUMA node, so returning NUMA node zero\n",
      "2022-05-19 17:30:47.432380: I tensorflow/core/common_runtime/gpu/gpu_device.cc:1525] Created device /job:localhost/replica:0/task:0/device:GPU:0 with 7664 MB memory:  -> device: 0, name: NVIDIA GeForce RTX 3080, pci bus id: 0000:01:00.0, compute capability: 8.6\n"
     ]
    }
   ],
   "source": [
    "model = setModel()\n",
    "model.summary()"
   ]
  },
  {
   "cell_type": "markdown",
   "metadata": {},
   "source": [
    "### Entrenamiento del modelo"
   ]
  },
  {
   "cell_type": "code",
   "execution_count": 12,
   "metadata": {},
   "outputs": [],
   "source": [
    "# Parameters\n",
    "params = {'dim': (1200,),\n",
    "            'batch_size': 32,\n",
    "            'shuffle': True}"
   ]
  },
  {
   "cell_type": "code",
   "execution_count": 13,
   "metadata": {},
   "outputs": [],
   "source": [
    "# Generators\n",
    "training_generator = DataGenerator(partition['train'], train, labels, full_spectra, **params)\n",
    "validation_generator = DataGenerator(partition['validation'], val, labels, full_spectra, **params)"
   ]
  },
  {
   "cell_type": "code",
   "execution_count": 14,
   "metadata": {},
   "outputs": [
    {
     "name": "stderr",
     "output_type": "stream",
     "text": [
      "2022-05-19 17:30:47.591553: I tensorflow/stream_executor/cuda/cuda_gpu_executor.cc:936] successful NUMA node read from SysFS had negative value (-1), but there must be at least one NUMA node, so returning NUMA node zero\n",
      "2022-05-19 17:30:47.591696: I tensorflow/stream_executor/cuda/cuda_gpu_executor.cc:936] successful NUMA node read from SysFS had negative value (-1), but there must be at least one NUMA node, so returning NUMA node zero\n",
      "2022-05-19 17:30:47.591775: I tensorflow/stream_executor/cuda/cuda_gpu_executor.cc:936] successful NUMA node read from SysFS had negative value (-1), but there must be at least one NUMA node, so returning NUMA node zero\n",
      "2022-05-19 17:30:47.591887: I tensorflow/stream_executor/cuda/cuda_gpu_executor.cc:936] successful NUMA node read from SysFS had negative value (-1), but there must be at least one NUMA node, so returning NUMA node zero\n",
      "2022-05-19 17:30:47.591971: I tensorflow/stream_executor/cuda/cuda_gpu_executor.cc:936] successful NUMA node read from SysFS had negative value (-1), but there must be at least one NUMA node, so returning NUMA node zero\n",
      "2022-05-19 17:30:47.592030: I tensorflow/core/common_runtime/gpu/gpu_device.cc:1525] Created device /device:GPU:0 with 7"
     ]
    },
    {
     "data": {
      "text/plain": [
       "'/device:GPU:0'"
      ]
     },
     "execution_count": 14,
     "metadata": {},
     "output_type": "execute_result"
    },
    {
     "name": "stderr",
     "output_type": "stream",
     "text": [
      "664 MB memory:  -> device: 0, name: NVIDIA GeForce RTX 3080, pci bus id: 0000:01:00.0, compute capability: 8.6\n"
     ]
    }
   ],
   "source": [
    "tf.test.gpu_device_name()"
   ]
  },
  {
   "cell_type": "code",
   "execution_count": 15,
   "metadata": {},
   "outputs": [
    {
     "name": "stdout",
     "output_type": "stream",
     "text": [
      "Epoch 1/100\n",
      "  5/491 [..............................] - ETA: 20s - loss: 21.5834 - binary_accuracy: 0.5312"
     ]
    },
    {
     "name": "stderr",
     "output_type": "stream",
     "text": [
      "2022-05-19 17:30:48.665080: I tensorflow/stream_executor/cuda/cuda_blas.cc:1786] TensorFloat-32 will be used for the matrix multiplication. This will only be logged once.\n"
     ]
    },
    {
     "name": "stdout",
     "output_type": "stream",
     "text": [
      "491/491 [==============================] - 28s 56ms/step - loss: 1.4255 - binary_accuracy: 0.5343 - val_loss: 0.7081 - val_binary_accuracy: 0.5353\n",
      "Epoch 2/100\n",
      "491/491 [==============================] - 27s 56ms/step - loss: 0.6976 - binary_accuracy: 0.5375 - val_loss: 0.6958 - val_binary_accuracy: 0.4986\n",
      "Epoch 3/100\n",
      "491/491 [==============================] - 27s 55ms/step - loss: 0.6949 - binary_accuracy: 0.5349 - val_loss: 0.6947 - val_binary_accuracy: 0.5190\n",
      "Epoch 4/100\n",
      "491/491 [==============================] - 28s 57ms/step - loss: 0.6938 - binary_accuracy: 0.5334 - val_loss: 0.6946 - val_binary_accuracy: 0.5000\n",
      "Epoch 5/100\n",
      "491/491 [==============================] - 28s 56ms/step - loss: 0.6935 - binary_accuracy: 0.5375 - val_loss: 0.6922 - val_binary_accuracy: 0.5693\n",
      "Epoch 6/100\n",
      "491/491 [==============================] - 28s 56ms/step - loss: 0.6938 - binary_accuracy: 0.5296 - val_loss: 0.6926 - val_binary_accuracy: 0.5122\n",
      "Epoch 7/100\n",
      "491/491 [==============================] - 28s 56ms/step - loss: 0.6936 - binary_accuracy: 0.5334 - val_loss: 0.6941 - val_binary_accuracy: 0.5204\n",
      "Epoch 8/100\n",
      "491/491 [==============================] - 27s 56ms/step - loss: 0.6935 - binary_accuracy: 0.5222 - val_loss: 0.6952 - val_binary_accuracy: 0.4932\n",
      "Epoch 9/100\n",
      "491/491 [==============================] - 27s 56ms/step - loss: 0.6930 - binary_accuracy: 0.5254 - val_loss: 0.6937 - val_binary_accuracy: 0.5245\n",
      "Epoch 10/100\n",
      "491/491 [==============================] - 27s 56ms/step - loss: 0.6933 - binary_accuracy: 0.5236 - val_loss: 0.6928 - val_binary_accuracy: 0.5177\n",
      "Epoch 11/100\n",
      "491/491 [==============================] - 28s 56ms/step - loss: 0.6926 - binary_accuracy: 0.5304 - val_loss: 0.6928 - val_binary_accuracy: 0.5679\n",
      "Epoch 12/100\n",
      "491/491 [==============================] - 27s 56ms/step - loss: 0.6928 - binary_accuracy: 0.5280 - val_loss: 0.6921 - val_binary_accuracy: 0.5367\n",
      "Epoch 13/100\n",
      "491/491 [==============================] - 28s 56ms/step - loss: 0.6924 - binary_accuracy: 0.5383 - val_loss: 0.6928 - val_binary_accuracy: 0.5272\n",
      "Epoch 14/100\n",
      "491/491 [==============================] - 28s 56ms/step - loss: 0.6929 - binary_accuracy: 0.5232 - val_loss: 0.6917 - val_binary_accuracy: 0.5435\n",
      "Epoch 15/100\n",
      "491/491 [==============================] - 28s 56ms/step - loss: 0.6928 - binary_accuracy: 0.5287 - val_loss: 0.6922 - val_binary_accuracy: 0.5408\n",
      "Epoch 16/100\n",
      "491/491 [==============================] - 27s 55ms/step - loss: 0.6929 - binary_accuracy: 0.5273 - val_loss: 0.6917 - val_binary_accuracy: 0.5774\n",
      "Epoch 17/100\n",
      "491/491 [==============================] - 27s 55ms/step - loss: 0.6928 - binary_accuracy: 0.5244 - val_loss: 0.6935 - val_binary_accuracy: 0.5231\n",
      "Epoch 18/100\n",
      "491/491 [==============================] - 28s 56ms/step - loss: 0.6924 - binary_accuracy: 0.5209 - val_loss: 0.6938 - val_binary_accuracy: 0.5163\n",
      "Epoch 19/100\n",
      "491/491 [==============================] - 27s 56ms/step - loss: 0.6926 - binary_accuracy: 0.5267 - val_loss: 0.6917 - val_binary_accuracy: 0.5312\n",
      "Epoch 20/100\n",
      "491/491 [==============================] - 27s 56ms/step - loss: 0.6927 - binary_accuracy: 0.5300 - val_loss: 0.6920 - val_binary_accuracy: 0.5802\n",
      "Epoch 21/100\n",
      "491/491 [==============================] - 27s 56ms/step - loss: 0.6932 - binary_accuracy: 0.5145 - val_loss: 0.6927 - val_binary_accuracy: 0.5353\n",
      "Epoch 22/100\n",
      "491/491 [==============================] - 27s 56ms/step - loss: 0.6926 - binary_accuracy: 0.5149 - val_loss: 0.6921 - val_binary_accuracy: 0.5258\n",
      "Epoch 23/100\n",
      "491/491 [==============================] - 27s 56ms/step - loss: 0.6934 - binary_accuracy: 0.5087 - val_loss: 0.6929 - val_binary_accuracy: 0.5190\n",
      "Epoch 24/100\n",
      "491/491 [==============================] - 28s 56ms/step - loss: 0.6933 - binary_accuracy: 0.5057 - val_loss: 0.6933 - val_binary_accuracy: 0.5000\n",
      "Epoch 25/100\n",
      "491/491 [==============================] - 28s 56ms/step - loss: 0.6934 - binary_accuracy: 0.4998 - val_loss: 0.6932 - val_binary_accuracy: 0.5000\n",
      "Epoch 26/100\n",
      "491/491 [==============================] - 28s 56ms/step - loss: 0.6936 - binary_accuracy: 0.4971 - val_loss: 0.6933 - val_binary_accuracy: 0.5014\n",
      "Epoch 27/100\n",
      "491/491 [==============================] - 27s 56ms/step - loss: 0.6934 - binary_accuracy: 0.5018 - val_loss: 0.6935 - val_binary_accuracy: 0.4959\n",
      "Epoch 28/100\n",
      "491/491 [==============================] - 27s 56ms/step - loss: 0.6934 - binary_accuracy: 0.4951 - val_loss: 0.6932 - val_binary_accuracy: 0.5000\n",
      "Epoch 29/100\n",
      "491/491 [==============================] - 28s 56ms/step - loss: 0.6935 - binary_accuracy: 0.4962 - val_loss: 0.6931 - val_binary_accuracy: 0.5014\n",
      "Epoch 30/100\n",
      "491/491 [==============================] - 27s 56ms/step - loss: 0.6933 - binary_accuracy: 0.4966 - val_loss: 0.6932 - val_binary_accuracy: 0.4946\n",
      "Epoch 31/100\n",
      "491/491 [==============================] - 27s 56ms/step - loss: 0.6933 - binary_accuracy: 0.4937 - val_loss: 0.6932 - val_binary_accuracy: 0.4973\n",
      "Epoch 32/100\n",
      "491/491 [==============================] - 28s 57ms/step - loss: 0.6933 - binary_accuracy: 0.4996 - val_loss: 0.6932 - val_binary_accuracy: 0.4986\n",
      "Epoch 33/100\n",
      "491/491 [==============================] - 28s 56ms/step - loss: 0.6933 - binary_accuracy: 0.4927 - val_loss: 0.6931 - val_binary_accuracy: 0.5054\n",
      "Epoch 34/100\n",
      "491/491 [==============================] - 27s 56ms/step - loss: 0.6934 - binary_accuracy: 0.4972 - val_loss: 0.6931 - val_binary_accuracy: 0.5027\n",
      "Epoch 35/100\n",
      "491/491 [==============================] - 27s 56ms/step - loss: 0.6933 - binary_accuracy: 0.4988 - val_loss: 0.6932 - val_binary_accuracy: 0.4986\n",
      "Epoch 36/100\n",
      "491/491 [==============================] - 27s 56ms/step - loss: 0.6933 - binary_accuracy: 0.4960 - val_loss: 0.6931 - val_binary_accuracy: 0.4986\n",
      "Epoch 37/100\n",
      "491/491 [==============================] - 27s 56ms/step - loss: 0.6933 - binary_accuracy: 0.4962 - val_loss: 0.6932 - val_binary_accuracy: 0.4973\n",
      "Epoch 38/100\n",
      "491/491 [==============================] - 27s 55ms/step - loss: 0.6932 - binary_accuracy: 0.4974 - val_loss: 0.6932 - val_binary_accuracy: 0.4986\n",
      "Epoch 39/100\n",
      "491/491 [==============================] - 27s 56ms/step - loss: 0.6932 - binary_accuracy: 0.4962 - val_loss: 0.6932 - val_binary_accuracy: 0.5000\n",
      "Epoch 40/100\n",
      "491/491 [==============================] - 28s 56ms/step - loss: 0.6933 - binary_accuracy: 0.4956 - val_loss: 0.6932 - val_binary_accuracy: 0.4959\n",
      "Epoch 41/100\n",
      "491/491 [==============================] - 27s 56ms/step - loss: 0.6932 - binary_accuracy: 0.4983 - val_loss: 0.6932 - val_binary_accuracy: 0.4973\n",
      "Epoch 42/100\n",
      "491/491 [==============================] - 27s 55ms/step - loss: 0.6932 - binary_accuracy: 0.5028 - val_loss: 0.6932 - val_binary_accuracy: 0.4973\n",
      "Epoch 43/100\n",
      "491/491 [==============================] - 27s 55ms/step - loss: 0.6933 - binary_accuracy: 0.4935 - val_loss: 0.6931 - val_binary_accuracy: 0.4986\n",
      "Epoch 44/100\n",
      "491/491 [==============================] - 27s 55ms/step - loss: 0.6933 - binary_accuracy: 0.4947 - val_loss: 0.6931 - val_binary_accuracy: 0.5054\n",
      "Epoch 45/100\n",
      "491/491 [==============================] - 27s 55ms/step - loss: 0.6932 - binary_accuracy: 0.4968 - val_loss: 0.6931 - val_binary_accuracy: 0.5054\n",
      "Epoch 46/100\n",
      "491/491 [==============================] - 27s 55ms/step - loss: 0.6932 - binary_accuracy: 0.4986 - val_loss: 0.6931 - val_binary_accuracy: 0.5000\n",
      "Epoch 47/100\n",
      "491/491 [==============================] - 28s 56ms/step - loss: 0.6932 - binary_accuracy: 0.4974 - val_loss: 0.6931 - val_binary_accuracy: 0.5014\n",
      "Epoch 48/100\n",
      "491/491 [==============================] - 28s 56ms/step - loss: 0.6932 - binary_accuracy: 0.4973 - val_loss: 0.6931 - val_binary_accuracy: 0.5014\n",
      "Epoch 49/100\n",
      "491/491 [==============================] - 27s 56ms/step - loss: 0.6932 - binary_accuracy: 0.4985 - val_loss: 0.6932 - val_binary_accuracy: 0.4973\n",
      "Epoch 50/100\n",
      "491/491 [==============================] - 28s 57ms/step - loss: 0.6932 - binary_accuracy: 0.4992 - val_loss: 0.6932 - val_binary_accuracy: 0.4973\n",
      "Epoch 51/100\n",
      "491/491 [==============================] - 27s 56ms/step - loss: 0.6932 - binary_accuracy: 0.4992 - val_loss: 0.6931 - val_binary_accuracy: 0.5027\n",
      "Epoch 52/100\n",
      "491/491 [==============================] - 27s 56ms/step - loss: 0.6932 - binary_accuracy: 0.4964 - val_loss: 0.6931 - val_binary_accuracy: 0.5000\n",
      "Epoch 53/100\n",
      "491/491 [==============================] - 27s 56ms/step - loss: 0.6932 - binary_accuracy: 0.4966 - val_loss: 0.6932 - val_binary_accuracy: 0.4986\n",
      "Epoch 54/100\n",
      "491/491 [==============================] - 27s 56ms/step - loss: 0.6932 - binary_accuracy: 0.4971 - val_loss: 0.6932 - val_binary_accuracy: 0.4959\n",
      "Epoch 55/100\n",
      "491/491 [==============================] - 27s 56ms/step - loss: 0.6932 - binary_accuracy: 0.4976 - val_loss: 0.6932 - val_binary_accuracy: 0.4959\n",
      "Epoch 56/100\n",
      "491/491 [==============================] - 27s 56ms/step - loss: 0.6932 - binary_accuracy: 0.5039 - val_loss: 0.6932 - val_binary_accuracy: 0.4959\n",
      "Epoch 57/100\n",
      "491/491 [==============================] - 27s 55ms/step - loss: 0.6932 - binary_accuracy: 0.4915 - val_loss: 0.6932 - val_binary_accuracy: 0.4973\n",
      "Epoch 58/100\n",
      "491/491 [==============================] - 27s 55ms/step - loss: 0.6932 - binary_accuracy: 0.4929 - val_loss: 0.6932 - val_binary_accuracy: 0.5000\n",
      "Epoch 59/100\n",
      "491/491 [==============================] - 27s 56ms/step - loss: 0.6932 - binary_accuracy: 0.5018 - val_loss: 0.6931 - val_binary_accuracy: 0.5027\n",
      "Epoch 60/100\n",
      "491/491 [==============================] - 27s 56ms/step - loss: 0.6932 - binary_accuracy: 0.4938 - val_loss: 0.6931 - val_binary_accuracy: 0.5068\n",
      "Epoch 61/100\n",
      "491/491 [==============================] - 27s 55ms/step - loss: 0.6932 - binary_accuracy: 0.4965 - val_loss: 0.6932 - val_binary_accuracy: 0.4946\n",
      "Epoch 62/100\n",
      "491/491 [==============================] - 27s 55ms/step - loss: 0.6932 - binary_accuracy: 0.4936 - val_loss: 0.6931 - val_binary_accuracy: 0.5014\n",
      "Epoch 63/100\n",
      "491/491 [==============================] - 28s 56ms/step - loss: 0.6932 - binary_accuracy: 0.4982 - val_loss: 0.6931 - val_binary_accuracy: 0.5000\n",
      "Epoch 64/100\n",
      "491/491 [==============================] - 27s 55ms/step - loss: 0.6932 - binary_accuracy: 0.5026 - val_loss: 0.6932 - val_binary_accuracy: 0.4973\n",
      "Epoch 65/100\n",
      "491/491 [==============================] - 27s 55ms/step - loss: 0.6932 - binary_accuracy: 0.4936 - val_loss: 0.6932 - val_binary_accuracy: 0.4986\n",
      "Epoch 66/100\n",
      "491/491 [==============================] - 27s 55ms/step - loss: 0.6932 - binary_accuracy: 0.5013 - val_loss: 0.6931 - val_binary_accuracy: 0.5041\n",
      "Epoch 67/100\n",
      "491/491 [==============================] - 28s 56ms/step - loss: 0.6932 - binary_accuracy: 0.4987 - val_loss: 0.6932 - val_binary_accuracy: 0.4973\n",
      "Epoch 68/100\n",
      "491/491 [==============================] - 27s 56ms/step - loss: 0.6932 - binary_accuracy: 0.4929 - val_loss: 0.6932 - val_binary_accuracy: 0.4986\n",
      "Epoch 69/100\n",
      "491/491 [==============================] - 27s 55ms/step - loss: 0.6932 - binary_accuracy: 0.4967 - val_loss: 0.6931 - val_binary_accuracy: 0.5014\n",
      "Epoch 70/100\n",
      "491/491 [==============================] - 27s 55ms/step - loss: 0.6932 - binary_accuracy: 0.4928 - val_loss: 0.6932 - val_binary_accuracy: 0.4959\n",
      "Epoch 71/100\n",
      "491/491 [==============================] - 27s 56ms/step - loss: 0.6932 - binary_accuracy: 0.5022 - val_loss: 0.6932 - val_binary_accuracy: 0.4986\n",
      "Epoch 72/100\n",
      "491/491 [==============================] - 27s 55ms/step - loss: 0.6932 - binary_accuracy: 0.4961 - val_loss: 0.6931 - val_binary_accuracy: 0.5000\n",
      "Epoch 73/100\n",
      "491/491 [==============================] - 27s 55ms/step - loss: 0.6932 - binary_accuracy: 0.4965 - val_loss: 0.6932 - val_binary_accuracy: 0.4946\n",
      "Epoch 74/100\n",
      "491/491 [==============================] - 27s 56ms/step - loss: 0.6932 - binary_accuracy: 0.4951 - val_loss: 0.6931 - val_binary_accuracy: 0.5000\n",
      "Epoch 75/100\n",
      "491/491 [==============================] - 27s 55ms/step - loss: 0.6932 - binary_accuracy: 0.4996 - val_loss: 0.6931 - val_binary_accuracy: 0.5041\n",
      "Epoch 76/100\n",
      "491/491 [==============================] - 27s 55ms/step - loss: 0.6932 - binary_accuracy: 0.4990 - val_loss: 0.6932 - val_binary_accuracy: 0.4946\n",
      "Epoch 77/100\n",
      "491/491 [==============================] - 27s 55ms/step - loss: 0.6932 - binary_accuracy: 0.4954 - val_loss: 0.6932 - val_binary_accuracy: 0.4986\n",
      "Epoch 78/100\n",
      "491/491 [==============================] - 27s 56ms/step - loss: 0.6932 - binary_accuracy: 0.4985 - val_loss: 0.6932 - val_binary_accuracy: 0.4973\n",
      "Epoch 79/100\n",
      "491/491 [==============================] - 27s 55ms/step - loss: 0.6932 - binary_accuracy: 0.4940 - val_loss: 0.6931 - val_binary_accuracy: 0.5000\n",
      "Epoch 80/100\n",
      "491/491 [==============================] - 27s 56ms/step - loss: 0.6932 - binary_accuracy: 0.4990 - val_loss: 0.6932 - val_binary_accuracy: 0.4986\n",
      "Epoch 81/100\n",
      "491/491 [==============================] - 27s 56ms/step - loss: 0.6932 - binary_accuracy: 0.4952 - val_loss: 0.6932 - val_binary_accuracy: 0.4986\n",
      "Epoch 82/100\n",
      "491/491 [==============================] - 27s 55ms/step - loss: 0.6932 - binary_accuracy: 0.4990 - val_loss: 0.6932 - val_binary_accuracy: 0.4986\n",
      "Epoch 83/100\n",
      "491/491 [==============================] - 27s 55ms/step - loss: 0.6932 - binary_accuracy: 0.4992 - val_loss: 0.6932 - val_binary_accuracy: 0.4973\n",
      "Epoch 84/100\n",
      "491/491 [==============================] - 28s 56ms/step - loss: 0.6932 - binary_accuracy: 0.5005 - val_loss: 0.6931 - val_binary_accuracy: 0.5014\n",
      "Epoch 85/100\n",
      "491/491 [==============================] - 27s 55ms/step - loss: 0.6932 - binary_accuracy: 0.4936 - val_loss: 0.6931 - val_binary_accuracy: 0.5082\n",
      "Epoch 86/100\n",
      "491/491 [==============================] - 27s 55ms/step - loss: 0.6932 - binary_accuracy: 0.4978 - val_loss: 0.6931 - val_binary_accuracy: 0.5027\n",
      "Epoch 87/100\n",
      "491/491 [==============================] - 27s 56ms/step - loss: 0.6932 - binary_accuracy: 0.4966 - val_loss: 0.6931 - val_binary_accuracy: 0.5000\n",
      "Epoch 88/100\n",
      "491/491 [==============================] - 27s 56ms/step - loss: 0.6932 - binary_accuracy: 0.4963 - val_loss: 0.6931 - val_binary_accuracy: 0.5000\n",
      "Epoch 89/100\n",
      "491/491 [==============================] - 27s 55ms/step - loss: 0.6932 - binary_accuracy: 0.4987 - val_loss: 0.6931 - val_binary_accuracy: 0.5027\n",
      "Epoch 90/100\n",
      "491/491 [==============================] - 28s 56ms/step - loss: 0.6932 - binary_accuracy: 0.4945 - val_loss: 0.6931 - val_binary_accuracy: 0.5041\n",
      "Epoch 91/100\n",
      "491/491 [==============================] - 27s 55ms/step - loss: 0.6932 - binary_accuracy: 0.4996 - val_loss: 0.6931 - val_binary_accuracy: 0.5014\n",
      "Epoch 92/100\n",
      "491/491 [==============================] - 27s 56ms/step - loss: 0.6932 - binary_accuracy: 0.4966 - val_loss: 0.6932 - val_binary_accuracy: 0.5000\n",
      "Epoch 93/100\n",
      "491/491 [==============================] - 27s 55ms/step - loss: 0.6932 - binary_accuracy: 0.4926 - val_loss: 0.6932 - val_binary_accuracy: 0.5000\n",
      "Epoch 94/100\n",
      "491/491 [==============================] - 27s 55ms/step - loss: 0.6932 - binary_accuracy: 0.4934 - val_loss: 0.6931 - val_binary_accuracy: 0.5014\n",
      "Epoch 95/100\n",
      "491/491 [==============================] - 27s 55ms/step - loss: 0.6932 - binary_accuracy: 0.4976 - val_loss: 0.6931 - val_binary_accuracy: 0.5000\n",
      "Epoch 96/100\n",
      "491/491 [==============================] - 27s 55ms/step - loss: 0.6932 - binary_accuracy: 0.5022 - val_loss: 0.6932 - val_binary_accuracy: 0.4959\n",
      "Epoch 97/100\n",
      "491/491 [==============================] - 28s 57ms/step - loss: 0.6932 - binary_accuracy: 0.4985 - val_loss: 0.6931 - val_binary_accuracy: 0.5000\n",
      "Epoch 98/100\n",
      "491/491 [==============================] - 27s 55ms/step - loss: 0.6932 - binary_accuracy: 0.4978 - val_loss: 0.6932 - val_binary_accuracy: 0.4973\n",
      "Epoch 99/100\n",
      "491/491 [==============================] - 27s 55ms/step - loss: 0.6932 - binary_accuracy: 0.4974 - val_loss: 0.6932 - val_binary_accuracy: 0.4959\n",
      "Epoch 100/100\n",
      "491/491 [==============================] - 27s 55ms/step - loss: 0.6932 - binary_accuracy: 0.4980 - val_loss: 0.6932 - val_binary_accuracy: 0.4986\n",
      "Entrnamiento completado\n"
     ]
    }
   ],
   "source": [
    "# Train model on dataset\n",
    "with tf.device('/device:GPU:0'):\n",
    "    model = setModel()\n",
    "    # callback = tf.keras.callbacks.EarlyStopping(monitor='loss', patience=5)\n",
    "    history = model.fit(x=training_generator,\n",
    "                        validation_data=validation_generator,\n",
    "                        # callbacks=[callback],\n",
    "                        # use_multiprocessing=True,\n",
    "                        # workers=4,\n",
    "                        epochs=100,\n",
    "                        verbose=1)\n",
    "print(\"Entrnamiento completado\")"
   ]
  },
  {
   "cell_type": "code",
   "execution_count": 16,
   "metadata": {},
   "outputs": [
    {
     "name": "stderr",
     "output_type": "stream",
     "text": [
      "2022-05-19 18:16:25.798824: W tensorflow/python/util/util.cc:368] Sets are not currently considered sequences, but this may change in the future, so consider avoiding using them.\n"
     ]
    },
    {
     "name": "stdout",
     "output_type": "stream",
     "text": [
      "INFO:tensorflow:Assets written to: models/ClassifierModel-v4/assets\n"
     ]
    }
   ],
   "source": [
    "model.save('models/ClassifierModel-v4')"
   ]
  },
  {
   "cell_type": "markdown",
   "metadata": {},
   "source": [
    "### Resultados del entrenamiento"
   ]
  },
  {
   "cell_type": "code",
   "execution_count": 17,
   "metadata": {},
   "outputs": [],
   "source": [
    "import matplotlib.pyplot as plt\n",
    "import seaborn as sns\n",
    "sns.set_theme(style=\"darkgrid\")"
   ]
  },
  {
   "cell_type": "code",
   "execution_count": 18,
   "metadata": {},
   "outputs": [
    {
     "data": {
      "text/plain": [
       "dict_keys(['loss', 'binary_accuracy', 'val_loss', 'val_binary_accuracy'])"
      ]
     },
     "execution_count": 18,
     "metadata": {},
     "output_type": "execute_result"
    }
   ],
   "source": [
    "history.history.keys()"
   ]
  },
  {
   "cell_type": "code",
   "execution_count": 19,
   "metadata": {},
   "outputs": [],
   "source": [
    "acc = pd.DataFrame({'accuracy':history.history['binary_accuracy'], 'type':'train'}).reset_index().rename(columns={'index':'epoch'})\n",
    "acc = pd.concat([acc, pd.DataFrame({'accuracy':history.history['val_binary_accuracy'], 'type':'val'}).reset_index().rename(columns={'index':'epoch'})]).reset_index(drop=True)\n",
    "loss = pd.DataFrame({'loss':history.history['loss'], 'type':'train'}).reset_index().rename(columns={'index':'epoch'})\n",
    "loss = pd.concat([loss, pd.DataFrame({'loss':history.history['val_loss'], 'type':'val'}).reset_index().rename(columns={'index':'epoch'})]).reset_index(drop=True)"
   ]
  },
  {
   "cell_type": "code",
   "execution_count": 20,
   "metadata": {},
   "outputs": [
    {
     "data": {
      "image/png": "[encoded data removed]",
      "text/plain": [
       "<Figure size 1080x360 with 2 Axes>"
      ]
     },
     "metadata": {},
     "output_type": "display_data"
    }
   ],
   "source": [
    "fig, ax = plt.subplots(nrows=1, ncols=2, figsize=(15,5))\n",
    "sns.lineplot(x='epoch', y='accuracy', data=acc, hue='type', ax=ax[0])\n",
    "sns.lineplot(x='epoch', y='loss', data=loss, hue='type', ax=ax[1])\n",
    "fig.suptitle(\"Modelo v4\")\n",
    "plt.show()"
   ]
  },
  {
   "cell_type": "code",
   "execution_count": 21,
   "metadata": {},
   "outputs": [
    {
     "data": {
      "text/html": [
       "<div>\n",
       "<style scoped>\n",
       "    .dataframe tbody tr th:only-of-type {\n",
       "        vertical-align: middle;\n",
       "    }\n",
       "\n",
       "    .dataframe tbody tr th {\n",
       "        vertical-align: top;\n",
       "    }\n",
       "\n",
       "    .dataframe thead th {\n",
       "        text-align: right;\n",
       "    }\n",
       "</style>\n",
       "<table border=\"1\" class=\"dataframe\">\n",
       "  <thead>\n",
       "    <tr style=\"text-align: right;\">\n",
       "      <th></th>\n",
       "      <th>epoch</th>\n",
       "      <th>accuracy</th>\n",
       "      <th>type</th>\n",
       "    </tr>\n",
       "  </thead>\n",
       "  <tbody>\n",
       "    <tr>\n",
       "      <th>99</th>\n",
       "      <td>99</td>\n",
       "      <td>0.497963</td>\n",
       "      <td>train</td>\n",
       "    </tr>\n",
       "    <tr>\n",
       "      <th>199</th>\n",
       "      <td>99</td>\n",
       "      <td>0.498641</td>\n",
       "      <td>val</td>\n",
       "    </tr>\n",
       "  </tbody>\n",
       "</table>\n",
       "</div>"
      ],
      "text/plain": [
       "     epoch  accuracy   type\n",
       "99      99  0.497963  train\n",
       "199     99  0.498641    val"
      ]
     },
     "execution_count": 21,
     "metadata": {},
     "output_type": "execute_result"
    }
   ],
   "source": [
    "acc.loc[acc.epoch == acc.epoch.max()]"
   ]
  },
  {
   "cell_type": "code",
   "execution_count": 22,
   "metadata": {},
   "outputs": [
    {
     "data": {
      "text/html": [
       "<div>\n",
       "<style scoped>\n",
       "    .dataframe tbody tr th:only-of-type {\n",
       "        vertical-align: middle;\n",
       "    }\n",
       "\n",
       "    .dataframe tbody tr th {\n",
       "        vertical-align: top;\n",
       "    }\n",
       "\n",
       "    .dataframe thead th {\n",
       "        text-align: right;\n",
       "    }\n",
       "</style>\n",
       "<table border=\"1\" class=\"dataframe\">\n",
       "  <thead>\n",
       "    <tr style=\"text-align: right;\">\n",
       "      <th></th>\n",
       "      <th>epoch</th>\n",
       "      <th>loss</th>\n",
       "      <th>type</th>\n",
       "    </tr>\n",
       "  </thead>\n",
       "  <tbody>\n",
       "    <tr>\n",
       "      <th>99</th>\n",
       "      <td>99</td>\n",
       "      <td>0.693179</td>\n",
       "      <td>train</td>\n",
       "    </tr>\n",
       "    <tr>\n",
       "      <th>199</th>\n",
       "      <td>99</td>\n",
       "      <td>0.693157</td>\n",
       "      <td>val</td>\n",
       "    </tr>\n",
       "  </tbody>\n",
       "</table>\n",
       "</div>"
      ],
      "text/plain": [
       "     epoch      loss   type\n",
       "99      99  0.693179  train\n",
       "199     99  0.693157    val"
      ]
     },
     "execution_count": 22,
     "metadata": {},
     "output_type": "execute_result"
    }
   ],
   "source": [
    "loss.loc[loss.epoch == loss.epoch.max()]"
   ]
  },
  {
   "cell_type": "markdown",
   "metadata": {},
   "source": [
    "### Evaluación de datos de prueba"
   ]
  },
  {
   "cell_type": "code",
   "execution_count": 1,
   "metadata": {},
   "outputs": [
    {
     "name": "stdout",
     "output_type": "stream",
     "text": [
      "[nltk_data] Downloading package punkt to /home/melesio/nltk_data...\n",
      "[nltk_data]   Package punkt is already up-to-date!\n",
      "[nltk_data] Downloading package stopwords to\n",
      "[nltk_data]     /home/melesio/nltk_data...\n",
      "[nltk_data]   Package stopwords is already up-to-date!\n",
      "[nltk_data] Downloading package wordnet to /home/melesio/nltk_data...\n",
      "[nltk_data]   Package wordnet is already up-to-date!\n",
      "[nltk_data] Downloading package omw-1.4 to /home/melesio/nltk_data...\n",
      "[nltk_data]   Package omw-1.4 is already up-to-date!\n",
      "[nltk_data] Downloading package averaged_perceptron_tagger to\n",
      "[nltk_data]     /home/melesio/nltk_data...\n",
      "[nltk_data]   Package averaged_perceptron_tagger is already up-to-\n",
      "[nltk_data]       date!\n",
      "Leyendo archivo de configuracion\n",
      "Inicia la transformacion de texto\n",
      "Creando diccionario de documentos unicos\n",
      "Realizando preprocesamiento\n",
      "Etapa de pre-procesmiento\n",
      "Extrayendo vectores de caracteristicas\n",
      "Etapa de extraccion de caracteristicas\n",
      "Extraccion de vectores lexicos\n",
      "Realizando vectorizacion\n",
      "Guardando resultadosto 79\n",
      "Extraccion de vectores sintacticos\n",
      "Realizando vectorizacion\n",
      "Guardando resultados\n",
      "Extraccion de vectores semanticos\n",
      "Realizando vectorizacion\n",
      "Guardando resultados\n",
      "Obteniendo espectros de contenido\n",
      "Etapa de unificacion del espacio\n",
      "/home/melesio/Documentos/SpectralTextRepresentation/minisom/minisom.py:167: UserWarning: Warning: sigma is too high for the dimension of the map.\n",
      "  warn('Warning: sigma is too high for the dimension of the map.')\n",
      "Leyendo vectores lexicos\n",
      "Obteninendo espectros\n",
      "Leyendo vectores sintacticos\n",
      "Obteninendo espectros\n",
      "Leyendo vectores semanticos\n",
      "Obteninendo espectros\n",
      "Consolidando capas\n",
      "Etapa de consolidacion de capas\n",
      "Información guardada\n",
      "Ensamble terminado\n",
      "Cargando modelo\n",
      "2022-05-20 09:23:13.154379: I tensorflow/stream_executor/cuda/cuda_gpu_executor.cc:936] successful NUMA node read from SysFS had negative value (-1), but there must be at least one NUMA node, so returning NUMA node zero\n",
      "2022-05-20 09:23:13.176039: I tensorflow/stream_executor/cuda/cuda_gpu_executor.cc:936] successful NUMA node read from SysFS had negative value (-1), but there must be at least one NUMA node, so returning NUMA node zero\n",
      "2022-05-20 09:23:13.176173: I tensorflow/stream_executor/cuda/cuda_gpu_executor.cc:936] successful NUMA node read from SysFS had negative value (-1), but there must be at least one NUMA node, so returning NUMA node zero\n",
      "2022-05-20 09:23:13.176449: I tensorflow/core/platform/cpu_feature_guard.cc:151] This TensorFlow binary is optimized with oneAPI Deep Neural Network Library (oneDNN) to use the following CPU instructions in performance-critical operations:  AVX2 FMA\n",
      "To enable them in other operations, rebuild TensorFlow with the appropriate compiler flags.\n",
      "2022-05-20 09:23:13.176947: I tensorflow/stream_executor/cuda/cuda_gpu_executor.cc:936] successful NUMA node read from SysFS had negative value (-1), but there must be at least one NUMA node, so returning NUMA node zero\n",
      "2022-05-20 09:23:13.177050: I tensorflow/stream_executor/cuda/cuda_gpu_executor.cc:936] successful NUMA node read from SysFS had negative value (-1), but there must be at least one NUMA node, so returning NUMA node zero\n",
      "2022-05-20 09:23:13.177140: I tensorflow/stream_executor/cuda/cuda_gpu_executor.cc:936] successful NUMA node read from SysFS had negative value (-1), but there must be at least one NUMA node, so returning NUMA node zero\n",
      "2022-05-20 09:23:13.491762: I tensorflow/stream_executor/cuda/cuda_gpu_executor.cc:936] successful NUMA node read from SysFS had negative value (-1), but there must be at least one NUMA node, so returning NUMA node zero\n",
      "2022-05-20 09:23:13.491920: I tensorflow/stream_executor/cuda/cuda_gpu_executor.cc:936] successful NUMA node read from SysFS had negative value (-1), but there must be at least one NUMA node, so returning NUMA node zero\n",
      "2022-05-20 09:23:13.492020: I tensorflow/stream_executor/cuda/cuda_gpu_executor.cc:936] successful NUMA node read from SysFS had negative value (-1), but there must be at least one NUMA node, so returning NUMA node zero\n",
      "2022-05-20 09:23:13.492101: I tensorflow/core/common_runtime/gpu/gpu_device.cc:1525] Created device /job:localhost/replica:0/task:0/device:GPU:0 with 7826 MB memory:  -> device: 0, name: NVIDIA GeForce RTX 3080, pci bus id: 0000:01:00.0, compute capability: 8.6\n",
      "Realizando predicciones\n",
      "2022-05-20 09:23:14.670608: I tensorflow/stream_executor/cuda/cuda_blas.cc:1786] TensorFloat-32 will be used for the matrix multiplication. This will only be logged once.\n",
      "Traceback (most recent call last):\n",
      "  File \"/home/melesio/Documentos/SpectralTextRepresentation/PredictionsTest.py\", line 97, in <module>\n",
      "    os.remove(cfg['tmp'] + \"/*\")\n",
      "FileNotFoundError: [Errno 2] No such file or directory: 'tmp/*'\n"
     ]
    }
   ],
   "source": [
    "!python PredictionsTest.py -i testinput -o testoutput/v4"
   ]
  },
  {
   "cell_type": "code",
   "execution_count": 2,
   "metadata": {},
   "outputs": [
    {
     "name": "stdout",
     "output_type": "stream",
     "text": [
      "-> 1070 problems in ground truth\n",
      "-> 1070 solutions explicitly proposed\n",
      "{'auc': 0.5, 'c@1': 0.5, 'f_05_u': 0.556, 'F1': 0.667, 'brier': 0.75, 'overall': 0.594}\n"
     ]
    }
   ],
   "source": [
    "!python pan22_verif_evaluator.py -i testinput -a testoutput/v4 -o testoutput/v4"
   ]
  }
 ],
 "metadata": {
  "interpreter": {
   "hash": "34185cc76f1746f7da7738a8f19ab6509177ea129d1668aef168b7e0e18c804f"
  },
  "kernelspec": {
   "display_name": "Python 3.9.12 ('base')",
   "language": "python",
   "name": "python3"
  },
  "language_info": {
   "codemirror_mode": {
    "name": "ipython",
    "version": 3
   },
   "file_extension": ".py",
   "mimetype": "text/x-python",
   "name": "python",
   "nbconvert_exporter": "python",
   "pygments_lexer": "ipython3",
   "version": "3.9.12"
  },
  "orig_nbformat": 4
 },
 "nbformat": 4,
 "nbformat_minor": 2
}
